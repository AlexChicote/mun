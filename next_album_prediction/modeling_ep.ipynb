{
 "cells": [
  {
   "cell_type": "markdown",
   "metadata": {},
   "source": [
    "# Load the data"
   ]
  },
  {
   "cell_type": "code",
   "execution_count": 1,
   "metadata": {},
   "outputs": [],
   "source": [
    "import pandas as pd\n",
    "from sklearn.model_selection import GridSearchCV, RandomizedSearchCV, TimeSeriesSplit\n",
    "from sklearn.metrics import mean_squared_error\n",
    "from sklearn.metrics import mean_absolute_error\n",
    "import matplotlib.pyplot as plt\n",
    "import numpy as np\n",
    "%matplotlib inline"
   ]
  },
  {
   "cell_type": "code",
   "execution_count": 2,
   "metadata": {},
   "outputs": [
    {
     "data": {
      "text/html": [
       "<div>\n",
       "<style scoped>\n",
       "    .dataframe tbody tr th:only-of-type {\n",
       "        vertical-align: middle;\n",
       "    }\n",
       "\n",
       "    .dataframe tbody tr th {\n",
       "        vertical-align: top;\n",
       "    }\n",
       "\n",
       "    .dataframe thead th {\n",
       "        text-align: right;\n",
       "    }\n",
       "</style>\n",
       "<table border=\"1\" class=\"dataframe\">\n",
       "  <thead>\n",
       "    <tr style=\"text-align: right;\">\n",
       "      <th></th>\n",
       "      <th>id</th>\n",
       "      <th>artist_id</th>\n",
       "      <th>nb_tracks</th>\n",
       "      <th>duration</th>\n",
       "      <th>explicit_lyrics</th>\n",
       "      <th>days_since_first_release</th>\n",
       "      <th>total_albums_released</th>\n",
       "      <th>release_year</th>\n",
       "      <th>release_month</th>\n",
       "      <th>release_day_of_month</th>\n",
       "      <th>...</th>\n",
       "      <th>days_since_previous_release</th>\n",
       "      <th>average_days_to_release_in_last_year</th>\n",
       "      <th>average_days_to_release_in_last_2_years</th>\n",
       "      <th>average_days_to_release_in_last_3_years</th>\n",
       "      <th>average_days_to_release_in_last_5_years</th>\n",
       "      <th>average_days_to_release_in_last_year_for_release_type</th>\n",
       "      <th>average_days_to_release</th>\n",
       "      <th>min_release_frequency</th>\n",
       "      <th>max_release_frequency</th>\n",
       "      <th>average_release_frequency_for_release_type</th>\n",
       "    </tr>\n",
       "  </thead>\n",
       "  <tbody>\n",
       "    <tr>\n",
       "      <th>0</th>\n",
       "      <td>77130752.0</td>\n",
       "      <td>13011</td>\n",
       "      <td>18.0</td>\n",
       "      <td>4177.0</td>\n",
       "      <td>0</td>\n",
       "      <td>3664</td>\n",
       "      <td>11</td>\n",
       "      <td>2016</td>\n",
       "      <td>10</td>\n",
       "      <td>14</td>\n",
       "      <td>...</td>\n",
       "      <td>420.0</td>\n",
       "      <td>76.0</td>\n",
       "      <td>85.0</td>\n",
       "      <td>91.0</td>\n",
       "      <td>104.0</td>\n",
       "      <td>120.0</td>\n",
       "      <td>366.0</td>\n",
       "      <td>73.0</td>\n",
       "      <td>1050.0</td>\n",
       "      <td>1050.0</td>\n",
       "    </tr>\n",
       "    <tr>\n",
       "      <th>1</th>\n",
       "      <td>77126682.0</td>\n",
       "      <td>13011</td>\n",
       "      <td>28.0</td>\n",
       "      <td>6054.0</td>\n",
       "      <td>1</td>\n",
       "      <td>3244</td>\n",
       "      <td>10</td>\n",
       "      <td>2015</td>\n",
       "      <td>8</td>\n",
       "      <td>21</td>\n",
       "      <td>...</td>\n",
       "      <td>158.0</td>\n",
       "      <td>98.0</td>\n",
       "      <td>104.5</td>\n",
       "      <td>109.0</td>\n",
       "      <td>119.0</td>\n",
       "      <td>139.0</td>\n",
       "      <td>360.0</td>\n",
       "      <td>73.0</td>\n",
       "      <td>1050.0</td>\n",
       "      <td>1050.0</td>\n",
       "    </tr>\n",
       "    <tr>\n",
       "      <th>2</th>\n",
       "      <td>9816130.0</td>\n",
       "      <td>13011</td>\n",
       "      <td>8.0</td>\n",
       "      <td>1753.0</td>\n",
       "      <td>0</td>\n",
       "      <td>3086</td>\n",
       "      <td>9</td>\n",
       "      <td>2015</td>\n",
       "      <td>3</td>\n",
       "      <td>16</td>\n",
       "      <td>...</td>\n",
       "      <td>1050.0</td>\n",
       "      <td>102.0</td>\n",
       "      <td>111.0</td>\n",
       "      <td>117.0</td>\n",
       "      <td>126.0</td>\n",
       "      <td>140.5</td>\n",
       "      <td>386.0</td>\n",
       "      <td>73.0</td>\n",
       "      <td>1050.0</td>\n",
       "      <td>1050.0</td>\n",
       "    </tr>\n",
       "    <tr>\n",
       "      <th>3</th>\n",
       "      <td>1641895.0</td>\n",
       "      <td>13011</td>\n",
       "      <td>12.0</td>\n",
       "      <td>3194.0</td>\n",
       "      <td>0</td>\n",
       "      <td>2036</td>\n",
       "      <td>8</td>\n",
       "      <td>2012</td>\n",
       "      <td>4</td>\n",
       "      <td>30</td>\n",
       "      <td>...</td>\n",
       "      <td>73.0</td>\n",
       "      <td>137.0</td>\n",
       "      <td>146.0</td>\n",
       "      <td>145.0</td>\n",
       "      <td>161.0</td>\n",
       "      <td>157.0</td>\n",
       "      <td>291.0</td>\n",
       "      <td>73.0</td>\n",
       "      <td>682.0</td>\n",
       "      <td>682.0</td>\n",
       "    </tr>\n",
       "    <tr>\n",
       "      <th>4</th>\n",
       "      <td>1523930.0</td>\n",
       "      <td>13011</td>\n",
       "      <td>4.0</td>\n",
       "      <td>922.0</td>\n",
       "      <td>0</td>\n",
       "      <td>1963</td>\n",
       "      <td>7</td>\n",
       "      <td>2012</td>\n",
       "      <td>2</td>\n",
       "      <td>17</td>\n",
       "      <td>...</td>\n",
       "      <td>338.0</td>\n",
       "      <td>137.0</td>\n",
       "      <td>149.0</td>\n",
       "      <td>147.0</td>\n",
       "      <td>161.0</td>\n",
       "      <td>159.0</td>\n",
       "      <td>327.0</td>\n",
       "      <td>136.0</td>\n",
       "      <td>682.0</td>\n",
       "      <td>682.0</td>\n",
       "    </tr>\n",
       "  </tbody>\n",
       "</table>\n",
       "<p>5 rows × 31 columns</p>\n",
       "</div>"
      ],
      "text/plain": [
       "           id  artist_id  nb_tracks  duration  explicit_lyrics  \\\n",
       "0  77130752.0      13011       18.0    4177.0                0   \n",
       "1  77126682.0      13011       28.0    6054.0                1   \n",
       "2   9816130.0      13011        8.0    1753.0                0   \n",
       "3   1641895.0      13011       12.0    3194.0                0   \n",
       "4   1523930.0      13011        4.0     922.0                0   \n",
       "\n",
       "   days_since_first_release  total_albums_released  release_year  \\\n",
       "0                      3664                     11          2016   \n",
       "1                      3244                     10          2015   \n",
       "2                      3086                      9          2015   \n",
       "3                      2036                      8          2012   \n",
       "4                      1963                      7          2012   \n",
       "\n",
       "   release_month  release_day_of_month  ...  days_since_previous_release  \\\n",
       "0             10                    14  ...                        420.0   \n",
       "1              8                    21  ...                        158.0   \n",
       "2              3                    16  ...                       1050.0   \n",
       "3              4                    30  ...                         73.0   \n",
       "4              2                    17  ...                        338.0   \n",
       "\n",
       "   average_days_to_release_in_last_year  \\\n",
       "0                                  76.0   \n",
       "1                                  98.0   \n",
       "2                                 102.0   \n",
       "3                                 137.0   \n",
       "4                                 137.0   \n",
       "\n",
       "   average_days_to_release_in_last_2_years  \\\n",
       "0                                     85.0   \n",
       "1                                    104.5   \n",
       "2                                    111.0   \n",
       "3                                    146.0   \n",
       "4                                    149.0   \n",
       "\n",
       "   average_days_to_release_in_last_3_years  \\\n",
       "0                                     91.0   \n",
       "1                                    109.0   \n",
       "2                                    117.0   \n",
       "3                                    145.0   \n",
       "4                                    147.0   \n",
       "\n",
       "   average_days_to_release_in_last_5_years  \\\n",
       "0                                    104.0   \n",
       "1                                    119.0   \n",
       "2                                    126.0   \n",
       "3                                    161.0   \n",
       "4                                    161.0   \n",
       "\n",
       "   average_days_to_release_in_last_year_for_release_type  \\\n",
       "0                                              120.0       \n",
       "1                                              139.0       \n",
       "2                                              140.5       \n",
       "3                                              157.0       \n",
       "4                                              159.0       \n",
       "\n",
       "   average_days_to_release  min_release_frequency  max_release_frequency  \\\n",
       "0                    366.0                   73.0                 1050.0   \n",
       "1                    360.0                   73.0                 1050.0   \n",
       "2                    386.0                   73.0                 1050.0   \n",
       "3                    291.0                   73.0                  682.0   \n",
       "4                    327.0                  136.0                  682.0   \n",
       "\n",
       "   average_release_frequency_for_release_type  \n",
       "0                                      1050.0  \n",
       "1                                      1050.0  \n",
       "2                                      1050.0  \n",
       "3                                       682.0  \n",
       "4                                       682.0  \n",
       "\n",
       "[5 rows x 31 columns]"
      ]
     },
     "execution_count": 2,
     "metadata": {},
     "output_type": "execute_result"
    }
   ],
   "source": [
    "df = pd.read_csv('dataset.csv')\n",
    "df.head()"
   ]
  },
  {
   "cell_type": "code",
   "execution_count": 3,
   "metadata": {},
   "outputs": [
    {
     "data": {
      "text/plain": [
       "(27755, 31)"
      ]
     },
     "execution_count": 3,
     "metadata": {},
     "output_type": "execute_result"
    }
   ],
   "source": [
    "df.shape"
   ]
  },
  {
   "cell_type": "code",
   "execution_count": 4,
   "metadata": {},
   "outputs": [],
   "source": [
    "# only eps\n",
    "df = df[df['record_type_ep'] == 1]\n",
    "\n",
    "# only albums\n",
    "# df = df[df['record_type_album'] == 1]"
   ]
  },
  {
   "cell_type": "code",
   "execution_count": 5,
   "metadata": {},
   "outputs": [
    {
     "data": {
      "text/html": [
       "<div>\n",
       "<style scoped>\n",
       "    .dataframe tbody tr th:only-of-type {\n",
       "        vertical-align: middle;\n",
       "    }\n",
       "\n",
       "    .dataframe tbody tr th {\n",
       "        vertical-align: top;\n",
       "    }\n",
       "\n",
       "    .dataframe thead th {\n",
       "        text-align: right;\n",
       "    }\n",
       "</style>\n",
       "<table border=\"1\" class=\"dataframe\">\n",
       "  <thead>\n",
       "    <tr style=\"text-align: right;\">\n",
       "      <th></th>\n",
       "      <th>id</th>\n",
       "      <th>artist_id</th>\n",
       "      <th>nb_tracks</th>\n",
       "      <th>duration</th>\n",
       "      <th>explicit_lyrics</th>\n",
       "      <th>days_since_first_release</th>\n",
       "      <th>total_albums_released</th>\n",
       "      <th>release_year</th>\n",
       "      <th>release_month</th>\n",
       "      <th>release_day_of_month</th>\n",
       "      <th>...</th>\n",
       "      <th>days_since_previous_release</th>\n",
       "      <th>average_days_to_release_in_last_year</th>\n",
       "      <th>average_days_to_release_in_last_2_years</th>\n",
       "      <th>average_days_to_release_in_last_3_years</th>\n",
       "      <th>average_days_to_release_in_last_5_years</th>\n",
       "      <th>average_days_to_release_in_last_year_for_release_type</th>\n",
       "      <th>average_days_to_release</th>\n",
       "      <th>min_release_frequency</th>\n",
       "      <th>max_release_frequency</th>\n",
       "      <th>average_release_frequency_for_release_type</th>\n",
       "    </tr>\n",
       "  </thead>\n",
       "  <tbody>\n",
       "    <tr>\n",
       "      <th>5733</th>\n",
       "      <td>8318748.0</td>\n",
       "      <td>14068</td>\n",
       "      <td>6.0</td>\n",
       "      <td>1971.0</td>\n",
       "      <td>0</td>\n",
       "      <td>7670</td>\n",
       "      <td>36</td>\n",
       "      <td>2012</td>\n",
       "      <td>1</td>\n",
       "      <td>1</td>\n",
       "      <td>...</td>\n",
       "      <td>175.0</td>\n",
       "      <td>140.0</td>\n",
       "      <td>153.0</td>\n",
       "      <td>151.0</td>\n",
       "      <td>161.0</td>\n",
       "      <td>140.0</td>\n",
       "      <td>219.0</td>\n",
       "      <td>25.0</td>\n",
       "      <td>461.0</td>\n",
       "      <td>461.0</td>\n",
       "    </tr>\n",
       "    <tr>\n",
       "      <th>12311</th>\n",
       "      <td>4136331.0</td>\n",
       "      <td>100808</td>\n",
       "      <td>4.0</td>\n",
       "      <td>1439.0</td>\n",
       "      <td>0</td>\n",
       "      <td>6894</td>\n",
       "      <td>7</td>\n",
       "      <td>2012</td>\n",
       "      <td>1</td>\n",
       "      <td>1</td>\n",
       "      <td>...</td>\n",
       "      <td>453.0</td>\n",
       "      <td>140.0</td>\n",
       "      <td>153.0</td>\n",
       "      <td>151.0</td>\n",
       "      <td>161.0</td>\n",
       "      <td>140.0</td>\n",
       "      <td>1149.0</td>\n",
       "      <td>288.0</td>\n",
       "      <td>549.0</td>\n",
       "      <td>549.0</td>\n",
       "    </tr>\n",
       "    <tr>\n",
       "      <th>13881</th>\n",
       "      <td>8816479.0</td>\n",
       "      <td>13569</td>\n",
       "      <td>6.0</td>\n",
       "      <td>1625.0</td>\n",
       "      <td>0</td>\n",
       "      <td>2488</td>\n",
       "      <td>11</td>\n",
       "      <td>2012</td>\n",
       "      <td>1</td>\n",
       "      <td>1</td>\n",
       "      <td>...</td>\n",
       "      <td>27.0</td>\n",
       "      <td>140.0</td>\n",
       "      <td>153.0</td>\n",
       "      <td>151.0</td>\n",
       "      <td>161.0</td>\n",
       "      <td>140.0</td>\n",
       "      <td>249.0</td>\n",
       "      <td>14.0</td>\n",
       "      <td>963.0</td>\n",
       "      <td>963.0</td>\n",
       "    </tr>\n",
       "    <tr>\n",
       "      <th>13901</th>\n",
       "      <td>4551571.0</td>\n",
       "      <td>13675</td>\n",
       "      <td>5.0</td>\n",
       "      <td>1387.0</td>\n",
       "      <td>0</td>\n",
       "      <td>1012</td>\n",
       "      <td>9</td>\n",
       "      <td>2012</td>\n",
       "      <td>1</td>\n",
       "      <td>1</td>\n",
       "      <td>...</td>\n",
       "      <td>3.0</td>\n",
       "      <td>140.0</td>\n",
       "      <td>153.0</td>\n",
       "      <td>151.0</td>\n",
       "      <td>161.0</td>\n",
       "      <td>140.0</td>\n",
       "      <td>126.0</td>\n",
       "      <td>3.0</td>\n",
       "      <td>647.0</td>\n",
       "      <td>647.0</td>\n",
       "    </tr>\n",
       "    <tr>\n",
       "      <th>6610</th>\n",
       "      <td>1375219.0</td>\n",
       "      <td>102500</td>\n",
       "      <td>4.0</td>\n",
       "      <td>1830.0</td>\n",
       "      <td>0</td>\n",
       "      <td>1834</td>\n",
       "      <td>23</td>\n",
       "      <td>2012</td>\n",
       "      <td>1</td>\n",
       "      <td>9</td>\n",
       "      <td>...</td>\n",
       "      <td>26.0</td>\n",
       "      <td>139.0</td>\n",
       "      <td>152.0</td>\n",
       "      <td>149.0</td>\n",
       "      <td>161.0</td>\n",
       "      <td>140.0</td>\n",
       "      <td>83.0</td>\n",
       "      <td>3.0</td>\n",
       "      <td>329.0</td>\n",
       "      <td>329.0</td>\n",
       "    </tr>\n",
       "  </tbody>\n",
       "</table>\n",
       "<p>5 rows × 31 columns</p>\n",
       "</div>"
      ],
      "text/plain": [
       "              id  artist_id  nb_tracks  duration  explicit_lyrics  \\\n",
       "5733   8318748.0      14068        6.0    1971.0                0   \n",
       "12311  4136331.0     100808        4.0    1439.0                0   \n",
       "13881  8816479.0      13569        6.0    1625.0                0   \n",
       "13901  4551571.0      13675        5.0    1387.0                0   \n",
       "6610   1375219.0     102500        4.0    1830.0                0   \n",
       "\n",
       "       days_since_first_release  total_albums_released  release_year  \\\n",
       "5733                       7670                     36          2012   \n",
       "12311                      6894                      7          2012   \n",
       "13881                      2488                     11          2012   \n",
       "13901                      1012                      9          2012   \n",
       "6610                       1834                     23          2012   \n",
       "\n",
       "       release_month  release_day_of_month  ...  days_since_previous_release  \\\n",
       "5733               1                     1  ...                        175.0   \n",
       "12311              1                     1  ...                        453.0   \n",
       "13881              1                     1  ...                         27.0   \n",
       "13901              1                     1  ...                          3.0   \n",
       "6610               1                     9  ...                         26.0   \n",
       "\n",
       "       average_days_to_release_in_last_year  \\\n",
       "5733                                  140.0   \n",
       "12311                                 140.0   \n",
       "13881                                 140.0   \n",
       "13901                                 140.0   \n",
       "6610                                  139.0   \n",
       "\n",
       "       average_days_to_release_in_last_2_years  \\\n",
       "5733                                     153.0   \n",
       "12311                                    153.0   \n",
       "13881                                    153.0   \n",
       "13901                                    153.0   \n",
       "6610                                     152.0   \n",
       "\n",
       "       average_days_to_release_in_last_3_years  \\\n",
       "5733                                     151.0   \n",
       "12311                                    151.0   \n",
       "13881                                    151.0   \n",
       "13901                                    151.0   \n",
       "6610                                     149.0   \n",
       "\n",
       "       average_days_to_release_in_last_5_years  \\\n",
       "5733                                     161.0   \n",
       "12311                                    161.0   \n",
       "13881                                    161.0   \n",
       "13901                                    161.0   \n",
       "6610                                     161.0   \n",
       "\n",
       "       average_days_to_release_in_last_year_for_release_type  \\\n",
       "5733                                               140.0       \n",
       "12311                                              140.0       \n",
       "13881                                              140.0       \n",
       "13901                                              140.0       \n",
       "6610                                               140.0       \n",
       "\n",
       "       average_days_to_release  min_release_frequency  max_release_frequency  \\\n",
       "5733                     219.0                   25.0                  461.0   \n",
       "12311                   1149.0                  288.0                  549.0   \n",
       "13881                    249.0                   14.0                  963.0   \n",
       "13901                    126.0                    3.0                  647.0   \n",
       "6610                      83.0                    3.0                  329.0   \n",
       "\n",
       "       average_release_frequency_for_release_type  \n",
       "5733                                        461.0  \n",
       "12311                                       549.0  \n",
       "13881                                       963.0  \n",
       "13901                                       647.0  \n",
       "6610                                        329.0  \n",
       "\n",
       "[5 rows x 31 columns]"
      ]
     },
     "execution_count": 5,
     "metadata": {},
     "output_type": "execute_result"
    }
   ],
   "source": [
    "df = df.sort_values(['release_year', 'release_month', 'release_day_of_month'])\n",
    "df.head()"
   ]
  },
  {
   "cell_type": "code",
   "execution_count": 6,
   "metadata": {},
   "outputs": [],
   "source": [
    "df = df.drop([\n",
    "    u'average_days_to_release_in_last_2_years',\n",
    "    u'average_days_to_release_in_last_3_years',\n",
    "    u'average_days_to_release_in_last_5_years',\n",
    "#     u'average_days_to_release_in_last_2_years_for_release_type',\n",
    "#     u'average_days_to_release_in_last_3_years_for_release_type',\n",
    "#     u'average_days_to_release_in_last_5_years_for_release_type',\n",
    "], axis=1)"
   ]
  },
  {
   "cell_type": "code",
   "execution_count": 7,
   "metadata": {},
   "outputs": [
    {
     "data": {
      "text/plain": [
       "(50, 28)"
      ]
     },
     "execution_count": 7,
     "metadata": {},
     "output_type": "execute_result"
    }
   ],
   "source": [
    "df[df['release_year'] >= 2017].shape"
   ]
  },
  {
   "cell_type": "code",
   "execution_count": 8,
   "metadata": {},
   "outputs": [],
   "source": [
    "df = df[df['release_year'] >= 2017]"
   ]
  },
  {
   "cell_type": "code",
   "execution_count": 9,
   "metadata": {},
   "outputs": [
    {
     "data": {
      "text/plain": [
       "((50,), (50, 26))"
      ]
     },
     "execution_count": 9,
     "metadata": {},
     "output_type": "execute_result"
    }
   ],
   "source": [
    "y = df['days_until_next_album']\n",
    "X = df.drop(['days_until_next_album', 'id'], axis=1)\n",
    "y.shape, X.shape"
   ]
  },
  {
   "cell_type": "code",
   "execution_count": 10,
   "metadata": {},
   "outputs": [
    {
     "data": {
      "text/html": [
       "<div>\n",
       "<style scoped>\n",
       "    .dataframe tbody tr th:only-of-type {\n",
       "        vertical-align: middle;\n",
       "    }\n",
       "\n",
       "    .dataframe tbody tr th {\n",
       "        vertical-align: top;\n",
       "    }\n",
       "\n",
       "    .dataframe thead th {\n",
       "        text-align: right;\n",
       "    }\n",
       "</style>\n",
       "<table border=\"1\" class=\"dataframe\">\n",
       "  <thead>\n",
       "    <tr style=\"text-align: right;\">\n",
       "      <th></th>\n",
       "      <th>artist_id</th>\n",
       "      <th>nb_tracks</th>\n",
       "      <th>duration</th>\n",
       "      <th>explicit_lyrics</th>\n",
       "      <th>days_since_first_release</th>\n",
       "      <th>total_albums_released</th>\n",
       "      <th>release_year</th>\n",
       "      <th>release_month</th>\n",
       "      <th>release_day_of_month</th>\n",
       "      <th>release_day_of_week</th>\n",
       "      <th>...</th>\n",
       "      <th>albums_released_in_90_180_days</th>\n",
       "      <th>albums_released_in_180_360_days</th>\n",
       "      <th>albums_released_in_360_720_days</th>\n",
       "      <th>days_since_previous_release</th>\n",
       "      <th>average_days_to_release_in_last_year</th>\n",
       "      <th>average_days_to_release_in_last_year_for_release_type</th>\n",
       "      <th>average_days_to_release</th>\n",
       "      <th>min_release_frequency</th>\n",
       "      <th>max_release_frequency</th>\n",
       "      <th>average_release_frequency_for_release_type</th>\n",
       "    </tr>\n",
       "  </thead>\n",
       "  <tbody>\n",
       "    <tr>\n",
       "      <th>13004</th>\n",
       "      <td>4208</td>\n",
       "      <td>4.0</td>\n",
       "      <td>1572.0</td>\n",
       "      <td>0</td>\n",
       "      <td>4689</td>\n",
       "      <td>40</td>\n",
       "      <td>2017</td>\n",
       "      <td>1</td>\n",
       "      <td>1</td>\n",
       "      <td>6</td>\n",
       "      <td>...</td>\n",
       "      <td>0</td>\n",
       "      <td>0</td>\n",
       "      <td>0</td>\n",
       "      <td>79.0</td>\n",
       "      <td>69.0</td>\n",
       "      <td>75.0</td>\n",
       "      <td>120.0</td>\n",
       "      <td>3.0</td>\n",
       "      <td>840.0</td>\n",
       "      <td>840.0</td>\n",
       "    </tr>\n",
       "    <tr>\n",
       "      <th>13006</th>\n",
       "      <td>4208</td>\n",
       "      <td>4.0</td>\n",
       "      <td>1662.0</td>\n",
       "      <td>0</td>\n",
       "      <td>4689</td>\n",
       "      <td>40</td>\n",
       "      <td>2017</td>\n",
       "      <td>1</td>\n",
       "      <td>1</td>\n",
       "      <td>6</td>\n",
       "      <td>...</td>\n",
       "      <td>0</td>\n",
       "      <td>0</td>\n",
       "      <td>0</td>\n",
       "      <td>79.0</td>\n",
       "      <td>69.0</td>\n",
       "      <td>75.0</td>\n",
       "      <td>120.0</td>\n",
       "      <td>3.0</td>\n",
       "      <td>840.0</td>\n",
       "      <td>840.0</td>\n",
       "    </tr>\n",
       "    <tr>\n",
       "      <th>10159</th>\n",
       "      <td>3448</td>\n",
       "      <td>4.0</td>\n",
       "      <td>1546.0</td>\n",
       "      <td>0</td>\n",
       "      <td>6573</td>\n",
       "      <td>16</td>\n",
       "      <td>2017</td>\n",
       "      <td>2</td>\n",
       "      <td>24</td>\n",
       "      <td>4</td>\n",
       "      <td>...</td>\n",
       "      <td>0</td>\n",
       "      <td>0</td>\n",
       "      <td>0</td>\n",
       "      <td>3.0</td>\n",
       "      <td>69.0</td>\n",
       "      <td>67.0</td>\n",
       "      <td>438.0</td>\n",
       "      <td>3.0</td>\n",
       "      <td>2722.0</td>\n",
       "      <td>2722.0</td>\n",
       "    </tr>\n",
       "    <tr>\n",
       "      <th>1974</th>\n",
       "      <td>13787</td>\n",
       "      <td>4.0</td>\n",
       "      <td>1443.0</td>\n",
       "      <td>0</td>\n",
       "      <td>6268</td>\n",
       "      <td>7</td>\n",
       "      <td>2017</td>\n",
       "      <td>3</td>\n",
       "      <td>10</td>\n",
       "      <td>4</td>\n",
       "      <td>...</td>\n",
       "      <td>0</td>\n",
       "      <td>0</td>\n",
       "      <td>0</td>\n",
       "      <td>532.0</td>\n",
       "      <td>69.0</td>\n",
       "      <td>67.0</td>\n",
       "      <td>1045.0</td>\n",
       "      <td>104.0</td>\n",
       "      <td>532.0</td>\n",
       "      <td>532.0</td>\n",
       "    </tr>\n",
       "    <tr>\n",
       "      <th>27017</th>\n",
       "      <td>12999</td>\n",
       "      <td>4.0</td>\n",
       "      <td>1136.0</td>\n",
       "      <td>0</td>\n",
       "      <td>5302</td>\n",
       "      <td>47</td>\n",
       "      <td>2017</td>\n",
       "      <td>3</td>\n",
       "      <td>13</td>\n",
       "      <td>0</td>\n",
       "      <td>...</td>\n",
       "      <td>0</td>\n",
       "      <td>0</td>\n",
       "      <td>0</td>\n",
       "      <td>9.0</td>\n",
       "      <td>69.0</td>\n",
       "      <td>68.5</td>\n",
       "      <td>115.0</td>\n",
       "      <td>4.0</td>\n",
       "      <td>504.0</td>\n",
       "      <td>504.0</td>\n",
       "    </tr>\n",
       "  </tbody>\n",
       "</table>\n",
       "<p>5 rows × 26 columns</p>\n",
       "</div>"
      ],
      "text/plain": [
       "       artist_id  nb_tracks  duration  explicit_lyrics  \\\n",
       "13004       4208        4.0    1572.0                0   \n",
       "13006       4208        4.0    1662.0                0   \n",
       "10159       3448        4.0    1546.0                0   \n",
       "1974       13787        4.0    1443.0                0   \n",
       "27017      12999        4.0    1136.0                0   \n",
       "\n",
       "       days_since_first_release  total_albums_released  release_year  \\\n",
       "13004                      4689                     40          2017   \n",
       "13006                      4689                     40          2017   \n",
       "10159                      6573                     16          2017   \n",
       "1974                       6268                      7          2017   \n",
       "27017                      5302                     47          2017   \n",
       "\n",
       "       release_month  release_day_of_month  release_day_of_week  ...  \\\n",
       "13004              1                     1                    6  ...   \n",
       "13006              1                     1                    6  ...   \n",
       "10159              2                    24                    4  ...   \n",
       "1974               3                    10                    4  ...   \n",
       "27017              3                    13                    0  ...   \n",
       "\n",
       "       albums_released_in_90_180_days  albums_released_in_180_360_days  \\\n",
       "13004                               0                                0   \n",
       "13006                               0                                0   \n",
       "10159                               0                                0   \n",
       "1974                                0                                0   \n",
       "27017                               0                                0   \n",
       "\n",
       "       albums_released_in_360_720_days  days_since_previous_release  \\\n",
       "13004                                0                         79.0   \n",
       "13006                                0                         79.0   \n",
       "10159                                0                          3.0   \n",
       "1974                                 0                        532.0   \n",
       "27017                                0                          9.0   \n",
       "\n",
       "       average_days_to_release_in_last_year  \\\n",
       "13004                                  69.0   \n",
       "13006                                  69.0   \n",
       "10159                                  69.0   \n",
       "1974                                   69.0   \n",
       "27017                                  69.0   \n",
       "\n",
       "       average_days_to_release_in_last_year_for_release_type  \\\n",
       "13004                                               75.0       \n",
       "13006                                               75.0       \n",
       "10159                                               67.0       \n",
       "1974                                                67.0       \n",
       "27017                                               68.5       \n",
       "\n",
       "       average_days_to_release  min_release_frequency  max_release_frequency  \\\n",
       "13004                    120.0                    3.0                  840.0   \n",
       "13006                    120.0                    3.0                  840.0   \n",
       "10159                    438.0                    3.0                 2722.0   \n",
       "1974                    1045.0                  104.0                  532.0   \n",
       "27017                    115.0                    4.0                  504.0   \n",
       "\n",
       "       average_release_frequency_for_release_type  \n",
       "13004                                       840.0  \n",
       "13006                                       840.0  \n",
       "10159                                      2722.0  \n",
       "1974                                        532.0  \n",
       "27017                                       504.0  \n",
       "\n",
       "[5 rows x 26 columns]"
      ]
     },
     "execution_count": 10,
     "metadata": {},
     "output_type": "execute_result"
    }
   ],
   "source": [
    "X.head()"
   ]
  },
  {
   "cell_type": "code",
   "execution_count": 11,
   "metadata": {},
   "outputs": [
    {
     "data": {
      "text/plain": [
       "Index([u'artist_id', u'nb_tracks', u'duration', u'explicit_lyrics',\n",
       "       u'days_since_first_release', u'total_albums_released', u'release_year',\n",
       "       u'release_month', u'release_day_of_month', u'release_day_of_week',\n",
       "       u'record_type_album', u'record_type_single', u'record_type_ep',\n",
       "       u'albums_released_in_30_days', u'albums_released_in_30_60_days',\n",
       "       u'albums_released_in_60_90_days', u'albums_released_in_90_180_days',\n",
       "       u'albums_released_in_180_360_days', u'albums_released_in_360_720_days',\n",
       "       u'days_since_previous_release', u'average_days_to_release_in_last_year',\n",
       "       u'average_days_to_release_in_last_year_for_release_type',\n",
       "       u'average_days_to_release', u'min_release_frequency',\n",
       "       u'max_release_frequency',\n",
       "       u'average_release_frequency_for_release_type'],\n",
       "      dtype='object')"
      ]
     },
     "execution_count": 11,
     "metadata": {},
     "output_type": "execute_result"
    }
   ],
   "source": [
    "columns = X.columns\n",
    "columns"
   ]
  },
  {
   "cell_type": "code",
   "execution_count": 12,
   "metadata": {},
   "outputs": [
    {
     "data": {
      "text/plain": [
       "13004     61.0\n",
       "13006     61.0\n",
       "10159     73.0\n",
       "1974     413.0\n",
       "27017     95.0\n",
       "Name: days_until_next_album, dtype: float64"
      ]
     },
     "execution_count": 12,
     "metadata": {},
     "output_type": "execute_result"
    }
   ],
   "source": [
    "y.head()"
   ]
  },
  {
   "cell_type": "markdown",
   "metadata": {},
   "source": [
    "# Train/Test split"
   ]
  },
  {
   "cell_type": "code",
   "execution_count": 13,
   "metadata": {},
   "outputs": [],
   "source": [
    "from sklearn.model_selection import train_test_split"
   ]
  },
  {
   "cell_type": "code",
   "execution_count": 14,
   "metadata": {},
   "outputs": [
    {
     "data": {
      "text/plain": [
       "((45, 26), (5, 26), (45,), (5,))"
      ]
     },
     "execution_count": 14,
     "metadata": {},
     "output_type": "execute_result"
    }
   ],
   "source": [
    "X_train, X_test, y_train, y_test = train_test_split(X, y, test_size=0.1, shuffle=False)\n",
    "X_train.shape, X_test.shape, y_train.shape, y_test.shape"
   ]
  },
  {
   "cell_type": "code",
   "execution_count": 15,
   "metadata": {},
   "outputs": [],
   "source": [
    "# X_cv, X_test, y_cv, y_test = train_test_split(X_test, y_test, test_size=0.5, shuffle=False)\n",
    "# X_cv.shape, X_test.shape, y_cv.shape, y_test.shape"
   ]
  },
  {
   "cell_type": "code",
   "execution_count": 16,
   "metadata": {},
   "outputs": [
    {
     "data": {
      "text/html": [
       "<div>\n",
       "<style scoped>\n",
       "    .dataframe tbody tr th:only-of-type {\n",
       "        vertical-align: middle;\n",
       "    }\n",
       "\n",
       "    .dataframe tbody tr th {\n",
       "        vertical-align: top;\n",
       "    }\n",
       "\n",
       "    .dataframe thead th {\n",
       "        text-align: right;\n",
       "    }\n",
       "</style>\n",
       "<table border=\"1\" class=\"dataframe\">\n",
       "  <thead>\n",
       "    <tr style=\"text-align: right;\">\n",
       "      <th></th>\n",
       "      <th>artist_id</th>\n",
       "      <th>nb_tracks</th>\n",
       "      <th>duration</th>\n",
       "      <th>explicit_lyrics</th>\n",
       "      <th>days_since_first_release</th>\n",
       "      <th>total_albums_released</th>\n",
       "      <th>release_year</th>\n",
       "      <th>release_month</th>\n",
       "      <th>release_day_of_month</th>\n",
       "      <th>release_day_of_week</th>\n",
       "      <th>...</th>\n",
       "      <th>albums_released_in_90_180_days</th>\n",
       "      <th>albums_released_in_180_360_days</th>\n",
       "      <th>albums_released_in_360_720_days</th>\n",
       "      <th>days_since_previous_release</th>\n",
       "      <th>average_days_to_release_in_last_year</th>\n",
       "      <th>average_days_to_release_in_last_year_for_release_type</th>\n",
       "      <th>average_days_to_release</th>\n",
       "      <th>min_release_frequency</th>\n",
       "      <th>max_release_frequency</th>\n",
       "      <th>average_release_frequency_for_release_type</th>\n",
       "    </tr>\n",
       "  </thead>\n",
       "  <tbody>\n",
       "    <tr>\n",
       "      <th>13004</th>\n",
       "      <td>4208</td>\n",
       "      <td>4.0</td>\n",
       "      <td>1572.0</td>\n",
       "      <td>0</td>\n",
       "      <td>4689</td>\n",
       "      <td>40</td>\n",
       "      <td>2017</td>\n",
       "      <td>1</td>\n",
       "      <td>1</td>\n",
       "      <td>6</td>\n",
       "      <td>...</td>\n",
       "      <td>0</td>\n",
       "      <td>0</td>\n",
       "      <td>0</td>\n",
       "      <td>79.0</td>\n",
       "      <td>69.0</td>\n",
       "      <td>75.0</td>\n",
       "      <td>120.0</td>\n",
       "      <td>3.0</td>\n",
       "      <td>840.0</td>\n",
       "      <td>840.0</td>\n",
       "    </tr>\n",
       "    <tr>\n",
       "      <th>13006</th>\n",
       "      <td>4208</td>\n",
       "      <td>4.0</td>\n",
       "      <td>1662.0</td>\n",
       "      <td>0</td>\n",
       "      <td>4689</td>\n",
       "      <td>40</td>\n",
       "      <td>2017</td>\n",
       "      <td>1</td>\n",
       "      <td>1</td>\n",
       "      <td>6</td>\n",
       "      <td>...</td>\n",
       "      <td>0</td>\n",
       "      <td>0</td>\n",
       "      <td>0</td>\n",
       "      <td>79.0</td>\n",
       "      <td>69.0</td>\n",
       "      <td>75.0</td>\n",
       "      <td>120.0</td>\n",
       "      <td>3.0</td>\n",
       "      <td>840.0</td>\n",
       "      <td>840.0</td>\n",
       "    </tr>\n",
       "    <tr>\n",
       "      <th>10159</th>\n",
       "      <td>3448</td>\n",
       "      <td>4.0</td>\n",
       "      <td>1546.0</td>\n",
       "      <td>0</td>\n",
       "      <td>6573</td>\n",
       "      <td>16</td>\n",
       "      <td>2017</td>\n",
       "      <td>2</td>\n",
       "      <td>24</td>\n",
       "      <td>4</td>\n",
       "      <td>...</td>\n",
       "      <td>0</td>\n",
       "      <td>0</td>\n",
       "      <td>0</td>\n",
       "      <td>3.0</td>\n",
       "      <td>69.0</td>\n",
       "      <td>67.0</td>\n",
       "      <td>438.0</td>\n",
       "      <td>3.0</td>\n",
       "      <td>2722.0</td>\n",
       "      <td>2722.0</td>\n",
       "    </tr>\n",
       "    <tr>\n",
       "      <th>1974</th>\n",
       "      <td>13787</td>\n",
       "      <td>4.0</td>\n",
       "      <td>1443.0</td>\n",
       "      <td>0</td>\n",
       "      <td>6268</td>\n",
       "      <td>7</td>\n",
       "      <td>2017</td>\n",
       "      <td>3</td>\n",
       "      <td>10</td>\n",
       "      <td>4</td>\n",
       "      <td>...</td>\n",
       "      <td>0</td>\n",
       "      <td>0</td>\n",
       "      <td>0</td>\n",
       "      <td>532.0</td>\n",
       "      <td>69.0</td>\n",
       "      <td>67.0</td>\n",
       "      <td>1045.0</td>\n",
       "      <td>104.0</td>\n",
       "      <td>532.0</td>\n",
       "      <td>532.0</td>\n",
       "    </tr>\n",
       "    <tr>\n",
       "      <th>27017</th>\n",
       "      <td>12999</td>\n",
       "      <td>4.0</td>\n",
       "      <td>1136.0</td>\n",
       "      <td>0</td>\n",
       "      <td>5302</td>\n",
       "      <td>47</td>\n",
       "      <td>2017</td>\n",
       "      <td>3</td>\n",
       "      <td>13</td>\n",
       "      <td>0</td>\n",
       "      <td>...</td>\n",
       "      <td>0</td>\n",
       "      <td>0</td>\n",
       "      <td>0</td>\n",
       "      <td>9.0</td>\n",
       "      <td>69.0</td>\n",
       "      <td>68.5</td>\n",
       "      <td>115.0</td>\n",
       "      <td>4.0</td>\n",
       "      <td>504.0</td>\n",
       "      <td>504.0</td>\n",
       "    </tr>\n",
       "  </tbody>\n",
       "</table>\n",
       "<p>5 rows × 26 columns</p>\n",
       "</div>"
      ],
      "text/plain": [
       "       artist_id  nb_tracks  duration  explicit_lyrics  \\\n",
       "13004       4208        4.0    1572.0                0   \n",
       "13006       4208        4.0    1662.0                0   \n",
       "10159       3448        4.0    1546.0                0   \n",
       "1974       13787        4.0    1443.0                0   \n",
       "27017      12999        4.0    1136.0                0   \n",
       "\n",
       "       days_since_first_release  total_albums_released  release_year  \\\n",
       "13004                      4689                     40          2017   \n",
       "13006                      4689                     40          2017   \n",
       "10159                      6573                     16          2017   \n",
       "1974                       6268                      7          2017   \n",
       "27017                      5302                     47          2017   \n",
       "\n",
       "       release_month  release_day_of_month  release_day_of_week  ...  \\\n",
       "13004              1                     1                    6  ...   \n",
       "13006              1                     1                    6  ...   \n",
       "10159              2                    24                    4  ...   \n",
       "1974               3                    10                    4  ...   \n",
       "27017              3                    13                    0  ...   \n",
       "\n",
       "       albums_released_in_90_180_days  albums_released_in_180_360_days  \\\n",
       "13004                               0                                0   \n",
       "13006                               0                                0   \n",
       "10159                               0                                0   \n",
       "1974                                0                                0   \n",
       "27017                               0                                0   \n",
       "\n",
       "       albums_released_in_360_720_days  days_since_previous_release  \\\n",
       "13004                                0                         79.0   \n",
       "13006                                0                         79.0   \n",
       "10159                                0                          3.0   \n",
       "1974                                 0                        532.0   \n",
       "27017                                0                          9.0   \n",
       "\n",
       "       average_days_to_release_in_last_year  \\\n",
       "13004                                  69.0   \n",
       "13006                                  69.0   \n",
       "10159                                  69.0   \n",
       "1974                                   69.0   \n",
       "27017                                  69.0   \n",
       "\n",
       "       average_days_to_release_in_last_year_for_release_type  \\\n",
       "13004                                               75.0       \n",
       "13006                                               75.0       \n",
       "10159                                               67.0       \n",
       "1974                                                67.0       \n",
       "27017                                               68.5       \n",
       "\n",
       "       average_days_to_release  min_release_frequency  max_release_frequency  \\\n",
       "13004                    120.0                    3.0                  840.0   \n",
       "13006                    120.0                    3.0                  840.0   \n",
       "10159                    438.0                    3.0                 2722.0   \n",
       "1974                    1045.0                  104.0                  532.0   \n",
       "27017                    115.0                    4.0                  504.0   \n",
       "\n",
       "       average_release_frequency_for_release_type  \n",
       "13004                                       840.0  \n",
       "13006                                       840.0  \n",
       "10159                                      2722.0  \n",
       "1974                                        532.0  \n",
       "27017                                       504.0  \n",
       "\n",
       "[5 rows x 26 columns]"
      ]
     },
     "execution_count": 16,
     "metadata": {},
     "output_type": "execute_result"
    }
   ],
   "source": [
    "X_train.head()"
   ]
  },
  {
   "cell_type": "code",
   "execution_count": 17,
   "metadata": {},
   "outputs": [],
   "source": [
    "# X_cv.head()"
   ]
  },
  {
   "cell_type": "code",
   "execution_count": 18,
   "metadata": {},
   "outputs": [
    {
     "data": {
      "text/html": [
       "<div>\n",
       "<style scoped>\n",
       "    .dataframe tbody tr th:only-of-type {\n",
       "        vertical-align: middle;\n",
       "    }\n",
       "\n",
       "    .dataframe tbody tr th {\n",
       "        vertical-align: top;\n",
       "    }\n",
       "\n",
       "    .dataframe thead th {\n",
       "        text-align: right;\n",
       "    }\n",
       "</style>\n",
       "<table border=\"1\" class=\"dataframe\">\n",
       "  <thead>\n",
       "    <tr style=\"text-align: right;\">\n",
       "      <th></th>\n",
       "      <th>artist_id</th>\n",
       "      <th>nb_tracks</th>\n",
       "      <th>duration</th>\n",
       "      <th>explicit_lyrics</th>\n",
       "      <th>days_since_first_release</th>\n",
       "      <th>total_albums_released</th>\n",
       "      <th>release_year</th>\n",
       "      <th>release_month</th>\n",
       "      <th>release_day_of_month</th>\n",
       "      <th>release_day_of_week</th>\n",
       "      <th>...</th>\n",
       "      <th>albums_released_in_90_180_days</th>\n",
       "      <th>albums_released_in_180_360_days</th>\n",
       "      <th>albums_released_in_360_720_days</th>\n",
       "      <th>days_since_previous_release</th>\n",
       "      <th>average_days_to_release_in_last_year</th>\n",
       "      <th>average_days_to_release_in_last_year_for_release_type</th>\n",
       "      <th>average_days_to_release</th>\n",
       "      <th>min_release_frequency</th>\n",
       "      <th>max_release_frequency</th>\n",
       "      <th>average_release_frequency_for_release_type</th>\n",
       "    </tr>\n",
       "  </thead>\n",
       "  <tbody>\n",
       "    <tr>\n",
       "      <th>7794</th>\n",
       "      <td>1090</td>\n",
       "      <td>5.0</td>\n",
       "      <td>1865.0</td>\n",
       "      <td>0</td>\n",
       "      <td>5667</td>\n",
       "      <td>72</td>\n",
       "      <td>2018</td>\n",
       "      <td>7</td>\n",
       "      <td>27</td>\n",
       "      <td>4</td>\n",
       "      <td>...</td>\n",
       "      <td>0</td>\n",
       "      <td>0</td>\n",
       "      <td>0</td>\n",
       "      <td>133.0</td>\n",
       "      <td>43.0</td>\n",
       "      <td>51.0</td>\n",
       "      <td>80.0</td>\n",
       "      <td>1.0</td>\n",
       "      <td>623.0</td>\n",
       "      <td>623.0</td>\n",
       "    </tr>\n",
       "    <tr>\n",
       "      <th>2522</th>\n",
       "      <td>4065</td>\n",
       "      <td>4.0</td>\n",
       "      <td>1355.0</td>\n",
       "      <td>0</td>\n",
       "      <td>7333</td>\n",
       "      <td>35</td>\n",
       "      <td>2018</td>\n",
       "      <td>8</td>\n",
       "      <td>31</td>\n",
       "      <td>4</td>\n",
       "      <td>...</td>\n",
       "      <td>0</td>\n",
       "      <td>0</td>\n",
       "      <td>0</td>\n",
       "      <td>63.0</td>\n",
       "      <td>42.0</td>\n",
       "      <td>72.5</td>\n",
       "      <td>216.0</td>\n",
       "      <td>13.0</td>\n",
       "      <td>1275.0</td>\n",
       "      <td>1275.0</td>\n",
       "    </tr>\n",
       "    <tr>\n",
       "      <th>11547</th>\n",
       "      <td>13086</td>\n",
       "      <td>5.0</td>\n",
       "      <td>1181.0</td>\n",
       "      <td>0</td>\n",
       "      <td>4997</td>\n",
       "      <td>26</td>\n",
       "      <td>2018</td>\n",
       "      <td>9</td>\n",
       "      <td>26</td>\n",
       "      <td>2</td>\n",
       "      <td>...</td>\n",
       "      <td>0</td>\n",
       "      <td>0</td>\n",
       "      <td>0</td>\n",
       "      <td>156.0</td>\n",
       "      <td>42.0</td>\n",
       "      <td>51.0</td>\n",
       "      <td>200.0</td>\n",
       "      <td>15.0</td>\n",
       "      <td>1015.0</td>\n",
       "      <td>1015.0</td>\n",
       "    </tr>\n",
       "    <tr>\n",
       "      <th>16740</th>\n",
       "      <td>3657</td>\n",
       "      <td>5.0</td>\n",
       "      <td>1238.0</td>\n",
       "      <td>0</td>\n",
       "      <td>13899</td>\n",
       "      <td>14</td>\n",
       "      <td>2018</td>\n",
       "      <td>11</td>\n",
       "      <td>23</td>\n",
       "      <td>4</td>\n",
       "      <td>...</td>\n",
       "      <td>0</td>\n",
       "      <td>0</td>\n",
       "      <td>0</td>\n",
       "      <td>1276.0</td>\n",
       "      <td>37.0</td>\n",
       "      <td>46.0</td>\n",
       "      <td>1069.0</td>\n",
       "      <td>203.0</td>\n",
       "      <td>1414.0</td>\n",
       "      <td>1414.0</td>\n",
       "    </tr>\n",
       "    <tr>\n",
       "      <th>6926</th>\n",
       "      <td>13058</td>\n",
       "      <td>4.0</td>\n",
       "      <td>1530.0</td>\n",
       "      <td>0</td>\n",
       "      <td>9655</td>\n",
       "      <td>16</td>\n",
       "      <td>2018</td>\n",
       "      <td>12</td>\n",
       "      <td>5</td>\n",
       "      <td>2</td>\n",
       "      <td>...</td>\n",
       "      <td>0</td>\n",
       "      <td>0</td>\n",
       "      <td>0</td>\n",
       "      <td>128.0</td>\n",
       "      <td>36.0</td>\n",
       "      <td>51.0</td>\n",
       "      <td>644.0</td>\n",
       "      <td>29.0</td>\n",
       "      <td>2631.0</td>\n",
       "      <td>2631.0</td>\n",
       "    </tr>\n",
       "  </tbody>\n",
       "</table>\n",
       "<p>5 rows × 26 columns</p>\n",
       "</div>"
      ],
      "text/plain": [
       "       artist_id  nb_tracks  duration  explicit_lyrics  \\\n",
       "7794        1090        5.0    1865.0                0   \n",
       "2522        4065        4.0    1355.0                0   \n",
       "11547      13086        5.0    1181.0                0   \n",
       "16740       3657        5.0    1238.0                0   \n",
       "6926       13058        4.0    1530.0                0   \n",
       "\n",
       "       days_since_first_release  total_albums_released  release_year  \\\n",
       "7794                       5667                     72          2018   \n",
       "2522                       7333                     35          2018   \n",
       "11547                      4997                     26          2018   \n",
       "16740                     13899                     14          2018   \n",
       "6926                       9655                     16          2018   \n",
       "\n",
       "       release_month  release_day_of_month  release_day_of_week  ...  \\\n",
       "7794               7                    27                    4  ...   \n",
       "2522               8                    31                    4  ...   \n",
       "11547              9                    26                    2  ...   \n",
       "16740             11                    23                    4  ...   \n",
       "6926              12                     5                    2  ...   \n",
       "\n",
       "       albums_released_in_90_180_days  albums_released_in_180_360_days  \\\n",
       "7794                                0                                0   \n",
       "2522                                0                                0   \n",
       "11547                               0                                0   \n",
       "16740                               0                                0   \n",
       "6926                                0                                0   \n",
       "\n",
       "       albums_released_in_360_720_days  days_since_previous_release  \\\n",
       "7794                                 0                        133.0   \n",
       "2522                                 0                         63.0   \n",
       "11547                                0                        156.0   \n",
       "16740                                0                       1276.0   \n",
       "6926                                 0                        128.0   \n",
       "\n",
       "       average_days_to_release_in_last_year  \\\n",
       "7794                                   43.0   \n",
       "2522                                   42.0   \n",
       "11547                                  42.0   \n",
       "16740                                  37.0   \n",
       "6926                                   36.0   \n",
       "\n",
       "       average_days_to_release_in_last_year_for_release_type  \\\n",
       "7794                                                51.0       \n",
       "2522                                                72.5       \n",
       "11547                                               51.0       \n",
       "16740                                               46.0       \n",
       "6926                                                51.0       \n",
       "\n",
       "       average_days_to_release  min_release_frequency  max_release_frequency  \\\n",
       "7794                      80.0                    1.0                  623.0   \n",
       "2522                     216.0                   13.0                 1275.0   \n",
       "11547                    200.0                   15.0                 1015.0   \n",
       "16740                   1069.0                  203.0                 1414.0   \n",
       "6926                     644.0                   29.0                 2631.0   \n",
       "\n",
       "       average_release_frequency_for_release_type  \n",
       "7794                                        623.0  \n",
       "2522                                       1275.0  \n",
       "11547                                      1015.0  \n",
       "16740                                      1414.0  \n",
       "6926                                       2631.0  \n",
       "\n",
       "[5 rows x 26 columns]"
      ]
     },
     "execution_count": 18,
     "metadata": {},
     "output_type": "execute_result"
    }
   ],
   "source": [
    "X_test.head()"
   ]
  },
  {
   "cell_type": "markdown",
   "metadata": {},
   "source": [
    "# Baseline (Dummy Regressor)"
   ]
  },
  {
   "cell_type": "code",
   "execution_count": 19,
   "metadata": {},
   "outputs": [],
   "source": [
    "from sklearn.dummy import DummyRegressor"
   ]
  },
  {
   "cell_type": "code",
   "execution_count": 20,
   "metadata": {},
   "outputs": [
    {
     "data": {
      "text/plain": [
       "DummyRegressor(constant=None, quantile=None, strategy='median')"
      ]
     },
     "execution_count": 20,
     "metadata": {},
     "output_type": "execute_result"
    }
   ],
   "source": [
    "model = DummyRegressor(strategy='median')\n",
    "model.fit(X_train, y_train)"
   ]
  },
  {
   "cell_type": "code",
   "execution_count": 21,
   "metadata": {},
   "outputs": [
    {
     "data": {
      "text/plain": [
       "-0.1286200799045687"
      ]
     },
     "execution_count": 21,
     "metadata": {},
     "output_type": "execute_result"
    }
   ],
   "source": [
    "model.score(X_train, y_train)"
   ]
  },
  {
   "cell_type": "code",
   "execution_count": 22,
   "metadata": {},
   "outputs": [
    {
     "data": {
      "text/plain": [
       "-1.2509139807538765"
      ]
     },
     "execution_count": 22,
     "metadata": {},
     "output_type": "execute_result"
    }
   ],
   "source": [
    "model.score(X_test, y_test)"
   ]
  },
  {
   "cell_type": "code",
   "execution_count": 23,
   "metadata": {},
   "outputs": [
    {
     "data": {
      "text/plain": [
       "<matplotlib.collections.PathCollection at 0x107aec050>"
      ]
     },
     "execution_count": 23,
     "metadata": {},
     "output_type": "execute_result"
    },
    {
     "data": {
      "image/png": "[encoded data removed]",
      "text/plain": [
       "<Figure size 432x288 with 1 Axes>"
      ]
     },
     "metadata": {
      "needs_background": "light"
     },
     "output_type": "display_data"
    }
   ],
   "source": [
    "y_test_pred = model.predict(X_test)\n",
    "plt.scatter(y_test, y_test_pred)"
   ]
  },
  {
   "cell_type": "code",
   "execution_count": 24,
   "metadata": {},
   "outputs": [
    {
     "data": {
      "text/plain": [
       "63.2"
      ]
     },
     "execution_count": 24,
     "metadata": {},
     "output_type": "execute_result"
    }
   ],
   "source": [
    "mean_absolute_error(y_test, y_test_pred)"
   ]
  },
  {
   "cell_type": "code",
   "execution_count": 25,
   "metadata": {},
   "outputs": [
    {
     "data": {
      "text/plain": [
       "DummyRegressor(constant=None, quantile=None, strategy='mean')"
      ]
     },
     "execution_count": 25,
     "metadata": {},
     "output_type": "execute_result"
    }
   ],
   "source": [
    "model = DummyRegressor(strategy='mean')\n",
    "model.fit(X_train, y_train)"
   ]
  },
  {
   "cell_type": "code",
   "execution_count": 26,
   "metadata": {},
   "outputs": [
    {
     "data": {
      "text/plain": [
       "0.0"
      ]
     },
     "execution_count": 26,
     "metadata": {},
     "output_type": "execute_result"
    }
   ],
   "source": [
    "model.score(X_train, y_train)"
   ]
  },
  {
   "cell_type": "code",
   "execution_count": 27,
   "metadata": {},
   "outputs": [
    {
     "data": {
      "text/plain": [
       "-5.0493303181177005"
      ]
     },
     "execution_count": 27,
     "metadata": {},
     "output_type": "execute_result"
    }
   ],
   "source": [
    "model.score(X_test, y_test)"
   ]
  },
  {
   "cell_type": "code",
   "execution_count": 28,
   "metadata": {},
   "outputs": [
    {
     "data": {
      "text/plain": [
       "<matplotlib.collections.PathCollection at 0x113018850>"
      ]
     },
     "execution_count": 28,
     "metadata": {},
     "output_type": "execute_result"
    },
    {
     "data": {
      "image/png": "[encoded data removed]",
      "text/plain": [
       "<Figure size 432x288 with 1 Axes>"
      ]
     },
     "metadata": {
      "needs_background": "light"
     },
     "output_type": "display_data"
    }
   ],
   "source": [
    "y_test_pred = model.predict(X_test)\n",
    "plt.scatter(y_test, y_test_pred)"
   ]
  },
  {
   "cell_type": "code",
   "execution_count": 29,
   "metadata": {},
   "outputs": [
    {
     "data": {
      "text/plain": [
       "98.04444444444444"
      ]
     },
     "execution_count": 29,
     "metadata": {},
     "output_type": "execute_result"
    }
   ],
   "source": [
    "mean_absolute_error(y_test, y_test_pred)"
   ]
  },
  {
   "cell_type": "markdown",
   "metadata": {},
   "source": [
    "# Feature scaling"
   ]
  },
  {
   "cell_type": "code",
   "execution_count": 30,
   "metadata": {},
   "outputs": [],
   "source": [
    "from sklearn.preprocessing import StandardScaler"
   ]
  },
  {
   "cell_type": "code",
   "execution_count": 31,
   "metadata": {},
   "outputs": [
    {
     "name": "stderr",
     "output_type": "stream",
     "text": [
      "/usr/local/lib/python2.7/site-packages/sklearn/preprocessing/data.py:645: DataConversionWarning: Data with input dtype int64, float64 were all converted to float64 by StandardScaler.\n",
      "  return self.partial_fit(X, y)\n"
     ]
    },
    {
     "data": {
      "text/plain": [
       "StandardScaler(copy=True, with_mean=True, with_std=True)"
      ]
     },
     "execution_count": 31,
     "metadata": {},
     "output_type": "execute_result"
    }
   ],
   "source": [
    "scaler = StandardScaler()\n",
    "scaler.fit(X_train)"
   ]
  },
  {
   "cell_type": "code",
   "execution_count": 32,
   "metadata": {},
   "outputs": [
    {
     "name": "stderr",
     "output_type": "stream",
     "text": [
      "/usr/local/lib/python2.7/site-packages/ipykernel_launcher.py:1: DataConversionWarning: Data with input dtype int64, float64 were all converted to float64 by StandardScaler.\n",
      "  \"\"\"Entry point for launching an IPython kernel.\n",
      "/usr/local/lib/python2.7/site-packages/ipykernel_launcher.py:3: DataConversionWarning: Data with input dtype int64, float64 were all converted to float64 by StandardScaler.\n",
      "  This is separate from the ipykernel package so we can avoid doing imports until\n"
     ]
    }
   ],
   "source": [
    "X_train = scaler.transform(X_train)\n",
    "# X_cv = scaler.transform(X_cv)\n",
    "X_test = scaler.transform(X_test)"
   ]
  },
  {
   "cell_type": "code",
   "execution_count": 33,
   "metadata": {},
   "outputs": [
    {
     "data": {
      "text/plain": [
       "(45, 26)"
      ]
     },
     "execution_count": 33,
     "metadata": {},
     "output_type": "execute_result"
    }
   ],
   "source": [
    "X_train.shape"
   ]
  },
  {
   "cell_type": "markdown",
   "metadata": {},
   "source": [
    "# PCA"
   ]
  },
  {
   "cell_type": "code",
   "execution_count": 34,
   "metadata": {},
   "outputs": [],
   "source": [
    "from sklearn.decomposition import PCA"
   ]
  },
  {
   "cell_type": "code",
   "execution_count": 35,
   "metadata": {},
   "outputs": [
    {
     "data": {
      "text/plain": [
       "PCA(copy=True, iterated_power='auto', n_components=0.99, random_state=1000,\n",
       "  svd_solver='full', tol=0.0, whiten=False)"
      ]
     },
     "execution_count": 35,
     "metadata": {},
     "output_type": "execute_result"
    }
   ],
   "source": [
    "pca = PCA(\n",
    "    n_components=0.99,\n",
    "    svd_solver='full',\n",
    "    random_state=1000\n",
    ")\n",
    "pca.fit(X_train)"
   ]
  },
  {
   "cell_type": "code",
   "execution_count": 36,
   "metadata": {},
   "outputs": [],
   "source": [
    "# X_train = pca.transform(X_train)\n",
    "# # X_cv = pca.transform(X_cv)\n",
    "# X_test = pca.transform(X_test)"
   ]
  },
  {
   "cell_type": "code",
   "execution_count": 37,
   "metadata": {},
   "outputs": [
    {
     "data": {
      "text/plain": [
       "(45, 26)"
      ]
     },
     "execution_count": 37,
     "metadata": {},
     "output_type": "execute_result"
    }
   ],
   "source": [
    "X_train.shape"
   ]
  },
  {
   "cell_type": "markdown",
   "metadata": {},
   "source": [
    "# Feature selection"
   ]
  },
  {
   "cell_type": "code",
   "execution_count": 38,
   "metadata": {},
   "outputs": [],
   "source": [
    "from sklearn.feature_selection import RFE\n",
    "from sklearn.ensemble import RandomForestRegressor"
   ]
  },
  {
   "cell_type": "code",
   "execution_count": 39,
   "metadata": {},
   "outputs": [
    {
     "name": "stderr",
     "output_type": "stream",
     "text": [
      "/usr/local/lib/python2.7/site-packages/sklearn/ensemble/forest.py:246: FutureWarning: The default value of n_estimators will change from 10 in version 0.20 to 100 in 0.22.\n",
      "  \"10 in version 0.20 to 100 in 0.22.\", FutureWarning)\n"
     ]
    }
   ],
   "source": [
    "estimator = RandomForestRegressor(random_state=1000, n_jobs=-1)\n",
    "selector = RFE(estimator, 10, step=1)\n",
    "selector = selector.fit(X_train, y_train)"
   ]
  },
  {
   "cell_type": "code",
   "execution_count": 40,
   "metadata": {},
   "outputs": [
    {
     "data": {
      "text/plain": [
       "array([ True, False,  True, False,  True,  True, False,  True, False,\n",
       "       False, False, False, False, False, False, False, False, False,\n",
       "       False, False,  True,  True,  True,  True, False,  True])"
      ]
     },
     "execution_count": 40,
     "metadata": {},
     "output_type": "execute_result"
    }
   ],
   "source": [
    "selector.support_"
   ]
  },
  {
   "cell_type": "code",
   "execution_count": 41,
   "metadata": {},
   "outputs": [],
   "source": [
    "# X_train = selector.transform(X_train)\n",
    "# # X_cv = selector.transform(X_cv)\n",
    "# X_test = selector.transform(X_test)"
   ]
  },
  {
   "cell_type": "code",
   "execution_count": 42,
   "metadata": {},
   "outputs": [
    {
     "data": {
      "text/plain": [
       "(45, 26)"
      ]
     },
     "execution_count": 42,
     "metadata": {},
     "output_type": "execute_result"
    }
   ],
   "source": [
    "X_train.shape"
   ]
  },
  {
   "cell_type": "markdown",
   "metadata": {},
   "source": [
    "# Linear regression"
   ]
  },
  {
   "cell_type": "code",
   "execution_count": 43,
   "metadata": {},
   "outputs": [],
   "source": [
    "from sklearn.linear_model import LinearRegression"
   ]
  },
  {
   "cell_type": "code",
   "execution_count": 44,
   "metadata": {},
   "outputs": [
    {
     "data": {
      "text/plain": [
       "LinearRegression(copy_X=True, fit_intercept=True, n_jobs=-1, normalize=False)"
      ]
     },
     "execution_count": 44,
     "metadata": {},
     "output_type": "execute_result"
    }
   ],
   "source": [
    "linear_model = LinearRegression(\n",
    "    n_jobs=-1\n",
    ")\n",
    "linear_model.fit(X_train, y_train)"
   ]
  },
  {
   "cell_type": "code",
   "execution_count": 45,
   "metadata": {},
   "outputs": [
    {
     "data": {
      "text/plain": [
       "0.5280291383872533"
      ]
     },
     "execution_count": 45,
     "metadata": {},
     "output_type": "execute_result"
    }
   ],
   "source": [
    "linear_model.score(X_train, y_train)"
   ]
  },
  {
   "cell_type": "code",
   "execution_count": 46,
   "metadata": {},
   "outputs": [
    {
     "data": {
      "text/plain": [
       "-18.886539833082523"
      ]
     },
     "execution_count": 46,
     "metadata": {},
     "output_type": "execute_result"
    }
   ],
   "source": [
    "linear_model.score(X_test, y_test)"
   ]
  },
  {
   "cell_type": "code",
   "execution_count": 47,
   "metadata": {},
   "outputs": [
    {
     "name": "stdout",
     "output_type": "stream",
     "text": [
      "('nb_tracks', -44.84894136216539)\n",
      "('duration', 47.24485833034117)\n",
      "('days_since_first_release', 12.037538829397787)\n",
      "('total_albums_released', -105.44377481106609)\n",
      "('release_year', 125.84227959417818)\n",
      "('release_month', 108.55596573405167)\n",
      "('release_day_of_month', -31.14031569093134)\n",
      "('release_day_of_week', -16.95749888157091)\n",
      "('days_since_previous_release', -15.509107173875035)\n",
      "('average_days_to_release_in_last_year', 95.97399860152497)\n",
      "('average_days_to_release_in_last_year_for_release_type', -29.92061796580185)\n",
      "('min_release_frequency', 12.04030883878508)\n",
      "('max_release_frequency', -16.345106585240018)\n",
      "('average_release_frequency_for_release_type', -16.34510658524021)\n"
     ]
    }
   ],
   "source": [
    "for i, x in enumerate(linear_model.coef_):\n",
    "    if x > 10 or x < -10:\n",
    "        print(columns[i], float(x))"
   ]
  },
  {
   "cell_type": "code",
   "execution_count": 48,
   "metadata": {},
   "outputs": [
    {
     "data": {
      "text/plain": [
       "<matplotlib.collections.PathCollection at 0x11378b590>"
      ]
     },
     "execution_count": 48,
     "metadata": {},
     "output_type": "execute_result"
    },
    {
     "data": {
      "image/png": "[encoded data removed]",
      "text/plain": [
       "<Figure size 432x288 with 1 Axes>"
      ]
     },
     "metadata": {
      "needs_background": "light"
     },
     "output_type": "display_data"
    }
   ],
   "source": [
    "linear_y_test_pred = linear_model.predict(X_test)\n",
    "plt.scatter(y_test, linear_y_test_pred)"
   ]
  },
  {
   "cell_type": "code",
   "execution_count": 49,
   "metadata": {},
   "outputs": [
    {
     "data": {
      "text/plain": [
       "170.4197112686615"
      ]
     },
     "execution_count": 49,
     "metadata": {},
     "output_type": "execute_result"
    }
   ],
   "source": [
    "mean_absolute_error(y_test, linear_y_test_pred)"
   ]
  },
  {
   "cell_type": "code",
   "execution_count": 50,
   "metadata": {},
   "outputs": [
    {
     "data": {
      "text/plain": [
       "<matplotlib.collections.PathCollection at 0x11385b990>"
      ]
     },
     "execution_count": 50,
     "metadata": {},
     "output_type": "execute_result"
    },
    {
     "data": {
      "image/png": "[encoded data removed]",
      "text/plain": [
       "<Figure size 432x288 with 1 Axes>"
      ]
     },
     "metadata": {
      "needs_background": "light"
     },
     "output_type": "display_data"
    }
   ],
   "source": [
    "plt.scatter(y_test, np.abs(linear_y_test_pred))"
   ]
  },
  {
   "cell_type": "code",
   "execution_count": 51,
   "metadata": {},
   "outputs": [
    {
     "data": {
      "text/plain": [
       "163.61971126866152"
      ]
     },
     "execution_count": 51,
     "metadata": {},
     "output_type": "execute_result"
    }
   ],
   "source": [
    "mean_absolute_error(y_test, np.abs(linear_y_test_pred))"
   ]
  },
  {
   "cell_type": "markdown",
   "metadata": {},
   "source": [
    "# KNN regression"
   ]
  },
  {
   "cell_type": "code",
   "execution_count": 52,
   "metadata": {},
   "outputs": [],
   "source": [
    "from sklearn.neighbors import KNeighborsRegressor"
   ]
  },
  {
   "cell_type": "code",
   "execution_count": 95,
   "metadata": {},
   "outputs": [
    {
     "data": {
      "text/plain": [
       "{'n_neighbors': 5}"
      ]
     },
     "execution_count": 95,
     "metadata": {},
     "output_type": "execute_result"
    }
   ],
   "source": [
    "n_neighbors = [1, 2, 3, 4, 5, 10]\n",
    "param_grid = {\n",
    "    'n_neighbors': n_neighbors,\n",
    "}\n",
    "\n",
    "cv = TimeSeriesSplit(n_splits=3)\n",
    "cv = TimeSeriesSplit(n_splits=3).split(X_train)\n",
    "\n",
    "hyperparameters_search = GridSearchCV(\n",
    "    KNeighborsRegressor(),\n",
    "    param_grid,\n",
    "    cv=cv,\n",
    "    n_jobs=-1\n",
    ")\n",
    "hyperparameters_search.fit(X_train, y_train)\n",
    "hyperparameters_search.best_params_\n",
    "\n",
    "# model = KNeighborsRegressor(\n",
    "#     n_jobs=-1\n",
    "# )\n",
    "# model.fit(X_train, y_train)"
   ]
  },
  {
   "cell_type": "code",
   "execution_count": 96,
   "metadata": {},
   "outputs": [
    {
     "data": {
      "text/plain": [
       "-0.025456417927214658"
      ]
     },
     "execution_count": 96,
     "metadata": {},
     "output_type": "execute_result"
    }
   ],
   "source": [
    "hyperparameters_search.best_score_"
   ]
  },
  {
   "cell_type": "code",
   "execution_count": 97,
   "metadata": {},
   "outputs": [
    {
     "data": {
      "text/plain": [
       "KNeighborsRegressor(algorithm='auto', leaf_size=30, metric='minkowski',\n",
       "          metric_params=None, n_jobs=None, n_neighbors=5, p=2,\n",
       "          weights='uniform')"
      ]
     },
     "execution_count": 97,
     "metadata": {},
     "output_type": "execute_result"
    }
   ],
   "source": [
    "model = hyperparameters_search.best_estimator_\n",
    "model"
   ]
  },
  {
   "cell_type": "code",
   "execution_count": 98,
   "metadata": {},
   "outputs": [
    {
     "data": {
      "text/plain": [
       "0.4384906954362787"
      ]
     },
     "execution_count": 98,
     "metadata": {},
     "output_type": "execute_result"
    }
   ],
   "source": [
    "model.score(X_train, y_train)"
   ]
  },
  {
   "cell_type": "code",
   "execution_count": 99,
   "metadata": {},
   "outputs": [
    {
     "data": {
      "text/plain": [
       "-3.948232970542506"
      ]
     },
     "execution_count": 99,
     "metadata": {},
     "output_type": "execute_result"
    }
   ],
   "source": [
    "model.score(X_test, y_test)"
   ]
  },
  {
   "cell_type": "code",
   "execution_count": 100,
   "metadata": {},
   "outputs": [
    {
     "data": {
      "text/plain": [
       "<matplotlib.collections.PathCollection at 0x1143c7b50>"
      ]
     },
     "execution_count": 100,
     "metadata": {},
     "output_type": "execute_result"
    },
    {
     "data": {
      "image/png": "[encoded data removed]",
      "text/plain": [
       "<Figure size 432x288 with 1 Axes>"
      ]
     },
     "metadata": {
      "needs_background": "light"
     },
     "output_type": "display_data"
    }
   ],
   "source": [
    "knn_y_test_pred = model.predict(X_test)\n",
    "plt.scatter(y_test, knn_y_test_pred)"
   ]
  },
  {
   "cell_type": "code",
   "execution_count": 101,
   "metadata": {},
   "outputs": [
    {
     "data": {
      "text/plain": [
       "75.8"
      ]
     },
     "execution_count": 101,
     "metadata": {},
     "output_type": "execute_result"
    }
   ],
   "source": [
    "mean_absolute_error(y_test, knn_y_test_pred)"
   ]
  },
  {
   "cell_type": "code",
   "execution_count": 102,
   "metadata": {},
   "outputs": [
    {
     "data": {
      "text/plain": [
       "75.8"
      ]
     },
     "execution_count": 102,
     "metadata": {},
     "output_type": "execute_result"
    }
   ],
   "source": [
    "mean_absolute_error(y_test, np.abs(knn_y_test_pred))"
   ]
  },
  {
   "cell_type": "markdown",
   "metadata": {},
   "source": [
    "# SVR"
   ]
  },
  {
   "cell_type": "code",
   "execution_count": 103,
   "metadata": {},
   "outputs": [],
   "source": [
    "from sklearn.svm import SVR"
   ]
  },
  {
   "cell_type": "code",
   "execution_count": 104,
   "metadata": {},
   "outputs": [
    {
     "data": {
      "text/plain": [
       "GridSearchCV(cv=<generator object split at 0x1140c8f00>,\n",
       "       error_score='raise-deprecating',\n",
       "       estimator=SVR(C=1.0, cache_size=200, coef0=0.0, degree=3, epsilon=0.1,\n",
       "  gamma='auto_deprecated', kernel='rbf', max_iter=-1, shrinking=True,\n",
       "  tol=0.001, verbose=False),\n",
       "       fit_params=None, iid='warn', n_jobs=-1,\n",
       "       param_grid={'C': [0.001, 0.01, 0.1, 1, 10, 100], 'max_iter': [100, 1000, 5000, 10000, 20000, 50000, 100000], 'gamma': [0.001, 0.01, 0.1, 1]},\n",
       "       pre_dispatch='2*n_jobs', refit=True, return_train_score='warn',\n",
       "       scoring=None, verbose=0)"
      ]
     },
     "execution_count": 104,
     "metadata": {},
     "output_type": "execute_result"
    }
   ],
   "source": [
    "max_iters = [100, 1000, 5000, 10000, 20000, 50000, 100000]\n",
    "kernels = ['linear', 'poly', 'rbf', 'sigmoid']\n",
    "Cs = [0.001, 0.01, 0.1, 1, 10, 100]\n",
    "gammas = [0.001, 0.01, 0.1, 1]\n",
    "param_grid = {\n",
    "    'max_iter': max_iters,\n",
    "#     'kernel': kernels,\n",
    "    'C': Cs,\n",
    "    'gamma': gammas,\n",
    "}\n",
    "\n",
    "cv = TimeSeriesSplit(n_splits=3).split(X_train)\n",
    "# my_cv = TimeSeriesSplit(n_splits=2)\n",
    "\n",
    "hyperparameters_search = GridSearchCV(\n",
    "    SVR(),\n",
    "    param_grid,\n",
    "    cv=cv,\n",
    "    n_jobs=-1\n",
    ")\n",
    "hyperparameters_search.fit(X_train, y_train)\n",
    "# hyperparameters_search.best_params_"
   ]
  },
  {
   "cell_type": "code",
   "execution_count": 105,
   "metadata": {},
   "outputs": [
    {
     "data": {
      "text/plain": [
       "-0.11120648977804241"
      ]
     },
     "execution_count": 105,
     "metadata": {},
     "output_type": "execute_result"
    }
   ],
   "source": [
    "hyperparameters_search.best_score_"
   ]
  },
  {
   "cell_type": "code",
   "execution_count": 106,
   "metadata": {},
   "outputs": [
    {
     "data": {
      "text/plain": [
       "SVR(C=100, cache_size=200, coef0=0.0, degree=3, epsilon=0.1, gamma=1,\n",
       "  kernel='rbf', max_iter=100, shrinking=True, tol=0.001, verbose=False)"
      ]
     },
     "execution_count": 106,
     "metadata": {},
     "output_type": "execute_result"
    }
   ],
   "source": [
    "model = hyperparameters_search.best_estimator_\n",
    "model"
   ]
  },
  {
   "cell_type": "code",
   "execution_count": 107,
   "metadata": {},
   "outputs": [
    {
     "data": {
      "text/plain": [
       "0.8446201373932453"
      ]
     },
     "execution_count": 107,
     "metadata": {},
     "output_type": "execute_result"
    }
   ],
   "source": [
    "model.score(X_train, y_train)"
   ]
  },
  {
   "cell_type": "code",
   "execution_count": 108,
   "metadata": {},
   "outputs": [],
   "source": [
    "# model.score(X_cv, y_cv)"
   ]
  },
  {
   "cell_type": "code",
   "execution_count": 109,
   "metadata": {},
   "outputs": [
    {
     "data": {
      "text/plain": [
       "-2.6779343830695055"
      ]
     },
     "execution_count": 109,
     "metadata": {},
     "output_type": "execute_result"
    }
   ],
   "source": [
    "model.score(X_test, y_test)"
   ]
  },
  {
   "cell_type": "code",
   "execution_count": 110,
   "metadata": {},
   "outputs": [
    {
     "data": {
      "text/plain": [
       "<matplotlib.collections.PathCollection at 0x1144f3bd0>"
      ]
     },
     "execution_count": 110,
     "metadata": {},
     "output_type": "execute_result"
    },
    {
     "data": {
      "image/png": "[encoded data removed]",
      "text/plain": [
       "<Figure size 432x288 with 1 Axes>"
      ]
     },
     "metadata": {
      "needs_background": "light"
     },
     "output_type": "display_data"
    }
   ],
   "source": [
    "svr_y_test_pred = model.predict(X_test)\n",
    "plt.scatter(y_test, svr_y_test_pred)"
   ]
  },
  {
   "cell_type": "code",
   "execution_count": 111,
   "metadata": {},
   "outputs": [
    {
     "data": {
      "text/plain": [
       "76.68495103807425"
      ]
     },
     "execution_count": 111,
     "metadata": {},
     "output_type": "execute_result"
    }
   ],
   "source": [
    "mean_absolute_error(y_test, svr_y_test_pred)"
   ]
  },
  {
   "cell_type": "code",
   "execution_count": 112,
   "metadata": {},
   "outputs": [
    {
     "data": {
      "text/plain": [
       "76.68495103807425"
      ]
     },
     "execution_count": 112,
     "metadata": {},
     "output_type": "execute_result"
    }
   ],
   "source": [
    "mean_absolute_error(y_test, np.abs(svr_y_test_pred))"
   ]
  },
  {
   "cell_type": "markdown",
   "metadata": {},
   "source": [
    "# SVR"
   ]
  },
  {
   "cell_type": "code",
   "execution_count": 113,
   "metadata": {},
   "outputs": [],
   "source": [
    "from sklearn.svm import SVR"
   ]
  },
  {
   "cell_type": "code",
   "execution_count": 114,
   "metadata": {},
   "outputs": [
    {
     "data": {
      "text/plain": [
       "GridSearchCV(cv=<generator object split at 0x114559f00>,\n",
       "       error_score='raise-deprecating',\n",
       "       estimator=SVR(C=1.0, cache_size=200, coef0=0.0, degree=3, epsilon=0.1,\n",
       "  gamma='auto_deprecated', kernel='rbf', max_iter=-1, shrinking=True,\n",
       "  tol=0.001, verbose=False),\n",
       "       fit_params=None, iid='warn', n_jobs=-1,\n",
       "       param_grid={'kernel': ['poly'], 'C': [0.001, 0.01, 0.1, 1, 10, 100], 'max_iter': [100, 1000, 5000, 10000, 20000, 50000, 100000], 'gamma': [0.001, 0.01, 0.1, 1], 'degree': [2, 3, 4]},\n",
       "       pre_dispatch='2*n_jobs', refit=True, return_train_score='warn',\n",
       "       scoring=None, verbose=0)"
      ]
     },
     "execution_count": 114,
     "metadata": {},
     "output_type": "execute_result"
    }
   ],
   "source": [
    "max_iters = [100, 1000, 5000, 10000, 20000, 50000, 100000]\n",
    "kernels = ['linear', 'poly', 'rbf', 'sigmoid']\n",
    "Cs = [0.001, 0.01, 0.1, 1, 10, 100]\n",
    "gammas = [0.001, 0.01, 0.1, 1]\n",
    "param_grid = {\n",
    "    'max_iter': max_iters,\n",
    "    'kernel': ['poly'],\n",
    "    'degree': [2, 3, 4],\n",
    "    'C': Cs,\n",
    "    'gamma': gammas,\n",
    "}\n",
    "\n",
    "cv = TimeSeriesSplit(n_splits=3).split(X_train)\n",
    "# my_cv = TimeSeriesSplit(n_splits=2)\n",
    "\n",
    "hyperparameters_search = GridSearchCV(\n",
    "    SVR(),\n",
    "    param_grid,\n",
    "    cv=cv,\n",
    "    n_jobs=-1\n",
    ")\n",
    "hyperparameters_search.fit(X_train, y_train)\n",
    "# hyperparameters_search.best_params_"
   ]
  },
  {
   "cell_type": "code",
   "execution_count": 115,
   "metadata": {},
   "outputs": [
    {
     "data": {
      "text/plain": [
       "-0.07514288903295596"
      ]
     },
     "execution_count": 115,
     "metadata": {},
     "output_type": "execute_result"
    }
   ],
   "source": [
    "hyperparameters_search.best_score_"
   ]
  },
  {
   "cell_type": "code",
   "execution_count": 116,
   "metadata": {},
   "outputs": [
    {
     "data": {
      "text/plain": [
       "SVR(C=10, cache_size=200, coef0=0.0, degree=2, epsilon=0.1, gamma=0.1,\n",
       "  kernel='poly', max_iter=100, shrinking=True, tol=0.001, verbose=False)"
      ]
     },
     "execution_count": 116,
     "metadata": {},
     "output_type": "execute_result"
    }
   ],
   "source": [
    "model = hyperparameters_search.best_estimator_\n",
    "model"
   ]
  },
  {
   "cell_type": "code",
   "execution_count": 117,
   "metadata": {},
   "outputs": [
    {
     "data": {
      "text/plain": [
       "0.24757103571246872"
      ]
     },
     "execution_count": 117,
     "metadata": {},
     "output_type": "execute_result"
    }
   ],
   "source": [
    "model.score(X_train, y_train)"
   ]
  },
  {
   "cell_type": "code",
   "execution_count": 118,
   "metadata": {},
   "outputs": [],
   "source": [
    "# model.score(X_cv, y_cv)"
   ]
  },
  {
   "cell_type": "code",
   "execution_count": 119,
   "metadata": {},
   "outputs": [
    {
     "data": {
      "text/plain": [
       "-0.937763669484713"
      ]
     },
     "execution_count": 119,
     "metadata": {},
     "output_type": "execute_result"
    }
   ],
   "source": [
    "model.score(X_test, y_test)"
   ]
  },
  {
   "cell_type": "code",
   "execution_count": 120,
   "metadata": {},
   "outputs": [
    {
     "data": {
      "text/plain": [
       "<matplotlib.collections.PathCollection at 0x11462b490>"
      ]
     },
     "execution_count": 120,
     "metadata": {},
     "output_type": "execute_result"
    },
    {
     "data": {
      "image/png": "[encoded data removed]",
      "text/plain": [
       "<Figure size 432x288 with 1 Axes>"
      ]
     },
     "metadata": {
      "needs_background": "light"
     },
     "output_type": "display_data"
    }
   ],
   "source": [
    "svr_y_test_pred = model.predict(X_test)\n",
    "plt.scatter(y_test, svr_y_test_pred)"
   ]
  },
  {
   "cell_type": "code",
   "execution_count": 121,
   "metadata": {},
   "outputs": [
    {
     "data": {
      "text/plain": [
       "58.328525593930806"
      ]
     },
     "execution_count": 121,
     "metadata": {},
     "output_type": "execute_result"
    }
   ],
   "source": [
    "mean_absolute_error(y_test, svr_y_test_pred)"
   ]
  },
  {
   "cell_type": "code",
   "execution_count": 122,
   "metadata": {},
   "outputs": [
    {
     "data": {
      "text/plain": [
       "58.328525593930806"
      ]
     },
     "execution_count": 122,
     "metadata": {},
     "output_type": "execute_result"
    }
   ],
   "source": [
    "mean_absolute_error(y_test, np.abs(svr_y_test_pred))"
   ]
  },
  {
   "cell_type": "markdown",
   "metadata": {},
   "source": [
    "# SVR"
   ]
  },
  {
   "cell_type": "code",
   "execution_count": 123,
   "metadata": {},
   "outputs": [],
   "source": [
    "from sklearn.svm import SVR"
   ]
  },
  {
   "cell_type": "code",
   "execution_count": 124,
   "metadata": {},
   "outputs": [
    {
     "data": {
      "text/plain": [
       "GridSearchCV(cv=<generator object split at 0x114591910>,\n",
       "       error_score='raise-deprecating',\n",
       "       estimator=SVR(C=1.0, cache_size=200, coef0=0.0, degree=3, epsilon=0.1,\n",
       "  gamma='auto_deprecated', kernel='rbf', max_iter=-1, shrinking=True,\n",
       "  tol=0.001, verbose=False),\n",
       "       fit_params=None, iid='warn', n_jobs=-1,\n",
       "       param_grid={'kernel': ['linear'], 'C': [0.001, 0.01, 0.1, 1, 10, 100], 'max_iter': [100, 1000, 5000, 10000, 20000, 50000, 100000], 'gamma': [0.001, 0.01, 0.1, 1]},\n",
       "       pre_dispatch='2*n_jobs', refit=True, return_train_score='warn',\n",
       "       scoring=None, verbose=0)"
      ]
     },
     "execution_count": 124,
     "metadata": {},
     "output_type": "execute_result"
    }
   ],
   "source": [
    "max_iters = [100, 1000, 5000, 10000, 20000, 50000, 100000]\n",
    "kernels = ['linear', 'poly', 'rbf', 'sigmoid']\n",
    "Cs = [0.001, 0.01, 0.1, 1, 10, 100]\n",
    "gammas = [0.001, 0.01, 0.1, 1]\n",
    "param_grid = {\n",
    "    'max_iter': max_iters,\n",
    "    'kernel': ['linear'],\n",
    "    'C': Cs,\n",
    "    'gamma': gammas,\n",
    "}\n",
    "\n",
    "cv = TimeSeriesSplit(n_splits=3).split(X_train)\n",
    "# my_cv = TimeSeriesSplit(n_splits=2)\n",
    "\n",
    "hyperparameters_search = GridSearchCV(\n",
    "    SVR(),\n",
    "    param_grid,\n",
    "    cv=cv,\n",
    "    n_jobs=-1\n",
    ")\n",
    "hyperparameters_search.fit(X_train, y_train)\n",
    "# hyperparameters_search.best_params_"
   ]
  },
  {
   "cell_type": "code",
   "execution_count": 125,
   "metadata": {},
   "outputs": [
    {
     "data": {
      "text/plain": [
       "-0.1810626793023154"
      ]
     },
     "execution_count": 125,
     "metadata": {},
     "output_type": "execute_result"
    }
   ],
   "source": [
    "hyperparameters_search.best_score_"
   ]
  },
  {
   "cell_type": "code",
   "execution_count": 126,
   "metadata": {},
   "outputs": [
    {
     "data": {
      "text/plain": [
       "SVR(C=1, cache_size=200, coef0=0.0, degree=3, epsilon=0.1, gamma=0.001,\n",
       "  kernel='linear', max_iter=100, shrinking=True, tol=0.001, verbose=False)"
      ]
     },
     "execution_count": 126,
     "metadata": {},
     "output_type": "execute_result"
    }
   ],
   "source": [
    "model = hyperparameters_search.best_estimator_\n",
    "model"
   ]
  },
  {
   "cell_type": "code",
   "execution_count": 127,
   "metadata": {},
   "outputs": [
    {
     "name": "stdout",
     "output_type": "stream",
     "text": [
      "('artist_id', -6.596816823025608)\n",
      "('total_albums_released', -12.883976332514917)\n",
      "('release_year', -2.089072554491833)\n",
      "('release_month', 2.315553215885787)\n",
      "('release_day_of_month', -2.5629920587111914)\n",
      "('days_since_previous_release', -7.388246760305524)\n",
      "('average_days_to_release_in_last_year_for_release_type', -5.588116968707034)\n",
      "('average_days_to_release', 9.866957386100715)\n",
      "('min_release_frequency', 7.6243085426175154)\n",
      "('max_release_frequency', -4.9882499915992575)\n",
      "('average_release_frequency_for_release_type', -4.9882499915992575)\n"
     ]
    }
   ],
   "source": [
    "for i, x in enumerate(model.coef_[0]):\n",
    "    if x > 2 or x < -2:\n",
    "        print(columns[i], x)"
   ]
  },
  {
   "cell_type": "code",
   "execution_count": 128,
   "metadata": {},
   "outputs": [
    {
     "data": {
      "text/plain": [
       "0.019388314428360313"
      ]
     },
     "execution_count": 128,
     "metadata": {},
     "output_type": "execute_result"
    }
   ],
   "source": [
    "model.score(X_train, y_train)"
   ]
  },
  {
   "cell_type": "code",
   "execution_count": 129,
   "metadata": {},
   "outputs": [],
   "source": [
    "# model.score(X_cv, y_cv)"
   ]
  },
  {
   "cell_type": "code",
   "execution_count": 130,
   "metadata": {},
   "outputs": [
    {
     "data": {
      "text/plain": [
       "-0.4769931208290339"
      ]
     },
     "execution_count": 130,
     "metadata": {},
     "output_type": "execute_result"
    }
   ],
   "source": [
    "model.score(X_test, y_test)"
   ]
  },
  {
   "cell_type": "code",
   "execution_count": 131,
   "metadata": {},
   "outputs": [
    {
     "data": {
      "text/plain": [
       "<matplotlib.collections.PathCollection at 0x1147d75d0>"
      ]
     },
     "execution_count": 131,
     "metadata": {},
     "output_type": "execute_result"
    },
    {
     "data": {
      "image/png": "[encoded data removed]",
      "text/plain": [
       "<Figure size 432x288 with 1 Axes>"
      ]
     },
     "metadata": {
      "needs_background": "light"
     },
     "output_type": "display_data"
    }
   ],
   "source": [
    "svr_y_test_pred = model.predict(X_test)\n",
    "plt.scatter(y_test, svr_y_test_pred)"
   ]
  },
  {
   "cell_type": "code",
   "execution_count": 132,
   "metadata": {},
   "outputs": [
    {
     "data": {
      "text/plain": [
       "45.538279157671056"
      ]
     },
     "execution_count": 132,
     "metadata": {},
     "output_type": "execute_result"
    }
   ],
   "source": [
    "mean_absolute_error(y_test, svr_y_test_pred)"
   ]
  },
  {
   "cell_type": "code",
   "execution_count": 133,
   "metadata": {},
   "outputs": [
    {
     "data": {
      "text/plain": [
       "45.538279157671056"
      ]
     },
     "execution_count": 133,
     "metadata": {},
     "output_type": "execute_result"
    }
   ],
   "source": [
    "mean_absolute_error(y_test, np.abs(svr_y_test_pred))"
   ]
  },
  {
   "cell_type": "markdown",
   "metadata": {},
   "source": [
    "# SVR"
   ]
  },
  {
   "cell_type": "code",
   "execution_count": 134,
   "metadata": {},
   "outputs": [],
   "source": [
    "from sklearn.svm import SVR"
   ]
  },
  {
   "cell_type": "code",
   "execution_count": 135,
   "metadata": {},
   "outputs": [
    {
     "data": {
      "text/plain": [
       "GridSearchCV(cv=<generator object split at 0x114586280>,\n",
       "       error_score='raise-deprecating',\n",
       "       estimator=SVR(C=1.0, cache_size=200, coef0=0.0, degree=3, epsilon=0.1,\n",
       "  gamma='auto_deprecated', kernel='rbf', max_iter=-1, shrinking=True,\n",
       "  tol=0.001, verbose=False),\n",
       "       fit_params=None, iid='warn', n_jobs=-1,\n",
       "       param_grid={'kernel': ['sigmoid'], 'C': [0.001, 0.01, 0.1, 1, 10, 100], 'max_iter': [100, 1000, 5000, 10000, 20000, 50000, 100000], 'gamma': [0.001, 0.01, 0.1, 1]},\n",
       "       pre_dispatch='2*n_jobs', refit=True, return_train_score='warn',\n",
       "       scoring=None, verbose=0)"
      ]
     },
     "execution_count": 135,
     "metadata": {},
     "output_type": "execute_result"
    }
   ],
   "source": [
    "max_iters = [100, 1000, 5000, 10000, 20000, 50000, 100000]\n",
    "kernels = ['linear', 'poly', 'rbf', 'sigmoid']\n",
    "Cs = [0.001, 0.01, 0.1, 1, 10, 100]\n",
    "gammas = [0.001, 0.01, 0.1, 1]\n",
    "param_grid = {\n",
    "    'max_iter': max_iters,\n",
    "    'kernel': ['sigmoid'],\n",
    "    'C': Cs,\n",
    "    'gamma': gammas,\n",
    "}\n",
    "\n",
    "cv = TimeSeriesSplit(n_splits=3).split(X_train)\n",
    "# my_cv = TimeSeriesSplit(n_splits=2)\n",
    "\n",
    "hyperparameters_search = GridSearchCV(\n",
    "    SVR(),\n",
    "    param_grid,\n",
    "    cv=cv,\n",
    "    n_jobs=-1\n",
    ")\n",
    "hyperparameters_search.fit(X_train, y_train)\n",
    "# hyperparameters_search.best_params_"
   ]
  },
  {
   "cell_type": "code",
   "execution_count": 136,
   "metadata": {},
   "outputs": [
    {
     "data": {
      "text/plain": [
       "-0.041603813820060766"
      ]
     },
     "execution_count": 136,
     "metadata": {},
     "output_type": "execute_result"
    }
   ],
   "source": [
    "hyperparameters_search.best_score_"
   ]
  },
  {
   "cell_type": "code",
   "execution_count": 137,
   "metadata": {},
   "outputs": [
    {
     "data": {
      "text/plain": [
       "SVR(C=10, cache_size=200, coef0=0.0, degree=3, epsilon=0.1, gamma=1,\n",
       "  kernel='sigmoid', max_iter=100, shrinking=True, tol=0.001, verbose=False)"
      ]
     },
     "execution_count": 137,
     "metadata": {},
     "output_type": "execute_result"
    }
   ],
   "source": [
    "model = hyperparameters_search.best_estimator_\n",
    "model"
   ]
  },
  {
   "cell_type": "code",
   "execution_count": 138,
   "metadata": {},
   "outputs": [
    {
     "data": {
      "text/plain": [
       "-0.20337414026899014"
      ]
     },
     "execution_count": 138,
     "metadata": {},
     "output_type": "execute_result"
    }
   ],
   "source": [
    "model.score(X_train, y_train)"
   ]
  },
  {
   "cell_type": "code",
   "execution_count": 139,
   "metadata": {},
   "outputs": [],
   "source": [
    "# model.score(X_cv, y_cv)"
   ]
  },
  {
   "cell_type": "code",
   "execution_count": 140,
   "metadata": {},
   "outputs": [
    {
     "data": {
      "text/plain": [
       "0.5546741989726929"
      ]
     },
     "execution_count": 140,
     "metadata": {},
     "output_type": "execute_result"
    }
   ],
   "source": [
    "model.score(X_test, y_test)"
   ]
  },
  {
   "cell_type": "code",
   "execution_count": 141,
   "metadata": {},
   "outputs": [
    {
     "data": {
      "text/plain": [
       "<matplotlib.collections.PathCollection at 0x114911850>"
      ]
     },
     "execution_count": 141,
     "metadata": {},
     "output_type": "execute_result"
    },
    {
     "data": {
      "image/png": "[encoded data removed]",
      "text/plain": [
       "<Figure size 432x288 with 1 Axes>"
      ]
     },
     "metadata": {
      "needs_background": "light"
     },
     "output_type": "display_data"
    }
   ],
   "source": [
    "svr_y_test_pred = model.predict(X_test)\n",
    "plt.scatter(y_test, svr_y_test_pred)"
   ]
  },
  {
   "cell_type": "code",
   "execution_count": 142,
   "metadata": {},
   "outputs": [
    {
     "data": {
      "text/plain": [
       "20.790760117466334"
      ]
     },
     "execution_count": 142,
     "metadata": {},
     "output_type": "execute_result"
    }
   ],
   "source": [
    "mean_absolute_error(y_test, svr_y_test_pred)"
   ]
  },
  {
   "cell_type": "code",
   "execution_count": 143,
   "metadata": {},
   "outputs": [
    {
     "data": {
      "text/plain": [
       "20.790760117466334"
      ]
     },
     "execution_count": 143,
     "metadata": {},
     "output_type": "execute_result"
    }
   ],
   "source": [
    "mean_absolute_error(y_test, np.abs(svr_y_test_pred))"
   ]
  },
  {
   "cell_type": "markdown",
   "metadata": {},
   "source": [
    "# Ensembling"
   ]
  },
  {
   "cell_type": "code",
   "execution_count": 144,
   "metadata": {},
   "outputs": [],
   "source": [
    "# preds = [linear_y_cv_pred, knn_y_cv_pred, svr_y_cv_pred]"
   ]
  },
  {
   "cell_type": "code",
   "execution_count": 145,
   "metadata": {},
   "outputs": [],
   "source": [
    "# average_preds = np.abs(linear_y_cv_pred + knn_y_cv_pred + svr_y_cv_pred / len(preds)) - 50"
   ]
  },
  {
   "cell_type": "code",
   "execution_count": 94,
   "metadata": {},
   "outputs": [],
   "source": [
    "# mean_absolute_error(y_cv, average_preds)"
   ]
  },
  {
   "cell_type": "markdown",
   "metadata": {},
   "source": [
    "# Random Forest model"
   ]
  },
  {
   "cell_type": "code",
   "execution_count": 74,
   "metadata": {},
   "outputs": [],
   "source": [
    "# from sklearn.ensemble import RandomForestRegressor"
   ]
  },
  {
   "cell_type": "code",
   "execution_count": 75,
   "metadata": {},
   "outputs": [],
   "source": [
    "# # model = RandomForestRegressor(\n",
    "# #     n_estimators=100,\n",
    "# #     max_depth=50,\n",
    "# # #     max_features=5,\n",
    "# # #     min_samples_leaf=1,\n",
    "# # #     criterion='mse',\n",
    "# #     random_state=0, n_jobs=-1\n",
    "# # )\n",
    "# # model.fit(X_train, y_train)\n",
    "\n",
    "# n_estimators = [10, 20, 50, 100, 200]\n",
    "# max_depth = [None, 1, 2, 3, 5, 7, 10, 15]\n",
    "# max_features = [None, 1, 2, 3, 5, 7, 10, 15, 'auto']\n",
    "# min_samples_leaf = [0.001, 0.01, 0.1, 0.2, 0.3, 0.4, 0.5]\n",
    "# param_grid = {\n",
    "#     'n_estimators': n_estimators,\n",
    "#     'max_depth': max_depth,\n",
    "#     'max_features': max_features,\n",
    "#     'min_samples_leaf': min_samples_leaf,\n",
    "# }\n",
    "\n",
    "# cv = TimeSeriesSplit(n_splits=7)\n",
    "\n",
    "# hyperparameters_search = RandomizedSearchCV(\n",
    "#     RandomForestRegressor(random_state=0),\n",
    "#     param_grid,\n",
    "#     cv=cv,\n",
    "#     n_jobs=-1\n",
    "# )\n",
    "# hyperparameters_search.fit(X_train, y_train)\n",
    "# hyperparameters_search.best_params_"
   ]
  },
  {
   "cell_type": "code",
   "execution_count": 76,
   "metadata": {},
   "outputs": [],
   "source": [
    "# hyperparameters_search.best_score_"
   ]
  },
  {
   "cell_type": "code",
   "execution_count": 77,
   "metadata": {},
   "outputs": [],
   "source": [
    "# model = hyperparameters_search.best_estimator_\n",
    "# model"
   ]
  },
  {
   "cell_type": "code",
   "execution_count": 78,
   "metadata": {},
   "outputs": [],
   "source": [
    "# model.score(X_train, y_train)"
   ]
  },
  {
   "cell_type": "code",
   "execution_count": 79,
   "metadata": {},
   "outputs": [],
   "source": [
    "# model.score(X_test, y_test)"
   ]
  },
  {
   "cell_type": "code",
   "execution_count": 80,
   "metadata": {},
   "outputs": [],
   "source": [
    "# model.feature_importances_"
   ]
  },
  {
   "cell_type": "code",
   "execution_count": 81,
   "metadata": {},
   "outputs": [],
   "source": [
    "# y_test_pred = model.predict(X_test)\n",
    "# plt.scatter(y_test, y_test_pred)"
   ]
  },
  {
   "cell_type": "code",
   "execution_count": 82,
   "metadata": {},
   "outputs": [],
   "source": [
    "# mean_absolute_error(y_test, y_test_pred)"
   ]
  },
  {
   "cell_type": "code",
   "execution_count": 83,
   "metadata": {},
   "outputs": [],
   "source": [
    "# mean_absolute_error(y_test, np.abs(y_test_pred))"
   ]
  },
  {
   "cell_type": "markdown",
   "metadata": {},
   "source": [
    "# SGDRegressor"
   ]
  },
  {
   "cell_type": "code",
   "execution_count": 84,
   "metadata": {},
   "outputs": [],
   "source": [
    "# from sklearn.linear_model import SGDRegressor"
   ]
  },
  {
   "cell_type": "code",
   "execution_count": 85,
   "metadata": {},
   "outputs": [],
   "source": [
    "# model = SGDRegressor(max_iter=1000, tol=1e-3)\n",
    "# model.fit(X_train, y_train)"
   ]
  },
  {
   "cell_type": "code",
   "execution_count": 86,
   "metadata": {},
   "outputs": [],
   "source": [
    "# model.score(X_train, y_train)"
   ]
  },
  {
   "cell_type": "code",
   "execution_count": 87,
   "metadata": {},
   "outputs": [],
   "source": [
    "# model.score(X_test, y_test)"
   ]
  },
  {
   "cell_type": "code",
   "execution_count": 88,
   "metadata": {},
   "outputs": [],
   "source": [
    "# model.predict(X_train)"
   ]
  },
  {
   "cell_type": "code",
   "execution_count": 89,
   "metadata": {},
   "outputs": [],
   "source": [
    "# y_train[0]"
   ]
  },
  {
   "cell_type": "code",
   "execution_count": 90,
   "metadata": {},
   "outputs": [],
   "source": [
    "# y_test_pred = model.predict(X_test)\n",
    "# plt.scatter(y_test, y_test_pred)"
   ]
  },
  {
   "cell_type": "code",
   "execution_count": 91,
   "metadata": {},
   "outputs": [],
   "source": [
    "# mean_absolute_error(y_test, y_test_pred)"
   ]
  },
  {
   "cell_type": "code",
   "execution_count": 92,
   "metadata": {},
   "outputs": [],
   "source": [
    "# mean_absolute_error(y_test, np.abs(y_test_pred))"
   ]
  },
  {
   "cell_type": "markdown",
   "metadata": {},
   "source": [
    "# XGBoost"
   ]
  },
  {
   "cell_type": "code",
   "execution_count": 93,
   "metadata": {},
   "outputs": [],
   "source": [
    "# !pip install xgboost"
   ]
  },
  {
   "cell_type": "code",
   "execution_count": 94,
   "metadata": {},
   "outputs": [],
   "source": [
    "# from xgboost import XGBRegressor"
   ]
  },
  {
   "cell_type": "code",
   "execution_count": 95,
   "metadata": {},
   "outputs": [],
   "source": [
    "# model = XGBRegressor(\n",
    "#     max_depth=2,\n",
    "# #     subsample=0.9,\n",
    "# #     colsample_bytree=0.9,\n",
    "# #     colsample_bylevel=0.9,\n",
    "# #     min_child_weight=1,\n",
    "#     random_state=0, n_jobs=-1\n",
    "# )\n",
    "# model.fit(X_train, y_train)"
   ]
  },
  {
   "cell_type": "code",
   "execution_count": 96,
   "metadata": {},
   "outputs": [],
   "source": [
    "# model.score(X_train, y_train)"
   ]
  },
  {
   "cell_type": "code",
   "execution_count": 97,
   "metadata": {},
   "outputs": [],
   "source": [
    "# model.score(X_test, y_test)"
   ]
  },
  {
   "cell_type": "code",
   "execution_count": 98,
   "metadata": {},
   "outputs": [],
   "source": [
    "# y_test_pred = model.predict(X_test)\n",
    "# plt.scatter(y_test, y_test_pred)"
   ]
  },
  {
   "cell_type": "code",
   "execution_count": 99,
   "metadata": {},
   "outputs": [],
   "source": [
    "# mean_absolute_error(y_test, y_test_pred)"
   ]
  },
  {
   "cell_type": "code",
   "execution_count": 100,
   "metadata": {},
   "outputs": [],
   "source": [
    "# mean_absolute_error(y_test, np.abs(y_test_pred))"
   ]
  },
  {
   "cell_type": "markdown",
   "metadata": {},
   "source": [
    "# Catboost"
   ]
  },
  {
   "cell_type": "code",
   "execution_count": 101,
   "metadata": {},
   "outputs": [],
   "source": [
    "# !pip install catboost\n",
    "# !pip install ipywidgets\n",
    "# !jupyter nbextension enable --py widgetsnbextension"
   ]
  },
  {
   "cell_type": "code",
   "execution_count": 102,
   "metadata": {},
   "outputs": [],
   "source": [
    "# from catboost import CatBoostRegressor"
   ]
  },
  {
   "cell_type": "code",
   "execution_count": 103,
   "metadata": {},
   "outputs": [],
   "source": [
    "# model = CatBoostRegressor(\n",
    "# #     iterations=700,\n",
    "# #     learning_rate=0.02,\n",
    "# #     depth=12,\n",
    "# #     eval_metric='RMSE',\n",
    "# #     random_seed = 23,\n",
    "# #     bagging_temperature = 0.2,\n",
    "# #     od_type='Iter',\n",
    "# #     metric_period = 75,\n",
    "# #     od_wait=100\n",
    "# )"
   ]
  },
  {
   "cell_type": "code",
   "execution_count": 104,
   "metadata": {},
   "outputs": [],
   "source": [
    "# model.fit(X_train, y_train,\n",
    "# #              eval_set=(X_test,y_valid),\n",
    "# #              cat_features=categorical_features_pos,\n",
    "# #              use_best_model=True,\n",
    "# #              verbose=True\n",
    "#          )"
   ]
  },
  {
   "cell_type": "code",
   "execution_count": 105,
   "metadata": {},
   "outputs": [],
   "source": [
    "# model.score(X_train, y_train)"
   ]
  },
  {
   "cell_type": "code",
   "execution_count": 106,
   "metadata": {},
   "outputs": [],
   "source": [
    "# model.score(X_test, y_test)"
   ]
  },
  {
   "cell_type": "code",
   "execution_count": 107,
   "metadata": {},
   "outputs": [],
   "source": [
    "# y_test_pred = model.predict(X_test)\n",
    "# plt.scatter(y_test, y_test_pred)"
   ]
  },
  {
   "cell_type": "code",
   "execution_count": 108,
   "metadata": {},
   "outputs": [],
   "source": [
    "# mean_absolute_error(y_test, y_test_pred)"
   ]
  },
  {
   "cell_type": "code",
   "execution_count": 109,
   "metadata": {},
   "outputs": [],
   "source": [
    "# mean_absolute_error(y_test, np.abs(y_test_pred))"
   ]
  },
  {
   "cell_type": "markdown",
   "metadata": {},
   "source": [
    "# MLPRegressor"
   ]
  },
  {
   "cell_type": "code",
   "execution_count": 110,
   "metadata": {},
   "outputs": [],
   "source": [
    "from sklearn.neural_network import MLPRegressor"
   ]
  },
  {
   "cell_type": "code",
   "execution_count": 111,
   "metadata": {},
   "outputs": [
    {
     "name": "stderr",
     "output_type": "stream",
     "text": [
      "/usr/local/lib/python2.7/site-packages/sklearn/neural_network/multilayer_perceptron.py:562: ConvergenceWarning: Stochastic Optimizer: Maximum iterations (200) reached and the optimization hasn't converged yet.\n",
      "  % self.max_iter, ConvergenceWarning)\n"
     ]
    },
    {
     "data": {
      "text/plain": [
       "MLPRegressor(activation='relu', alpha=0.1, batch_size='auto', beta_1=0.9,\n",
       "       beta_2=0.999, early_stopping=False, epsilon=1e-08,\n",
       "       hidden_layer_sizes=(100,), learning_rate='constant',\n",
       "       learning_rate_init=0.001, max_iter=200, momentum=0.9,\n",
       "       n_iter_no_change=10, nesterovs_momentum=True, power_t=0.5,\n",
       "       random_state=0, shuffle=True, solver='adam', tol=0.0001,\n",
       "       validation_fraction=0.1, verbose=False, warm_start=True)"
      ]
     },
     "execution_count": 111,
     "metadata": {},
     "output_type": "execute_result"
    }
   ],
   "source": [
    "model = MLPRegressor(\n",
    "    hidden_layer_sizes=(100,),\n",
    "    max_iter=200,\n",
    "    alpha=0.1,\n",
    "    warm_start=True,\n",
    "    random_state=0,\n",
    ")\n",
    "model.fit(X_train, y_train)"
   ]
  },
  {
   "cell_type": "code",
   "execution_count": 112,
   "metadata": {},
   "outputs": [
    {
     "data": {
      "text/plain": [
       "0.15887332627223816"
      ]
     },
     "execution_count": 112,
     "metadata": {},
     "output_type": "execute_result"
    }
   ],
   "source": [
    "model.score(X_train, y_train)"
   ]
  },
  {
   "cell_type": "code",
   "execution_count": 113,
   "metadata": {},
   "outputs": [
    {
     "data": {
      "text/plain": [
       "-0.4137535888424113"
      ]
     },
     "execution_count": 113,
     "metadata": {},
     "output_type": "execute_result"
    }
   ],
   "source": [
    "model.score(X_test, y_test)"
   ]
  },
  {
   "cell_type": "code",
   "execution_count": 114,
   "metadata": {},
   "outputs": [
    {
     "data": {
      "text/plain": [
       "<matplotlib.collections.PathCollection at 0x112e980d0>"
      ]
     },
     "execution_count": 114,
     "metadata": {},
     "output_type": "execute_result"
    },
    {
     "data": {
      "image/png": "[encoded data removed]",
      "text/plain": [
       "<Figure size 432x288 with 1 Axes>"
      ]
     },
     "metadata": {
      "needs_background": "light"
     },
     "output_type": "display_data"
    }
   ],
   "source": [
    "y_test_pred = model.predict(X_test)\n",
    "plt.scatter(y_test, y_test_pred)"
   ]
  },
  {
   "cell_type": "code",
   "execution_count": 115,
   "metadata": {},
   "outputs": [
    {
     "data": {
      "text/plain": [
       "14.414192047440622"
      ]
     },
     "execution_count": 115,
     "metadata": {},
     "output_type": "execute_result"
    }
   ],
   "source": [
    "mean_absolute_error(y_test, y_test_pred)"
   ]
  },
  {
   "cell_type": "code",
   "execution_count": 116,
   "metadata": {},
   "outputs": [
    {
     "data": {
      "text/plain": [
       "13.82209371673733"
      ]
     },
     "execution_count": 116,
     "metadata": {},
     "output_type": "execute_result"
    }
   ],
   "source": [
    "mean_absolute_error(y_test, np.abs(y_test_pred))"
   ]
  },
  {
   "cell_type": "markdown",
   "metadata": {},
   "source": [
    "# Keras"
   ]
  },
  {
   "cell_type": "code",
   "execution_count": 117,
   "metadata": {},
   "outputs": [],
   "source": [
    "# !pip install keras"
   ]
  },
  {
   "cell_type": "code",
   "execution_count": null,
   "metadata": {},
   "outputs": [],
   "source": []
  }
 ],
 "metadata": {
  "kernelspec": {
   "display_name": "Python 3",
   "language": "python",
   "name": "python3"
  },
  "language_info": {
   "codemirror_mode": {
    "name": "ipython",
    "version": 2
   },
   "file_extension": ".py",
   "mimetype": "text/x-python",
   "name": "python",
   "nbconvert_exporter": "python",
   "pygments_lexer": "ipython2",
   "version": "2.7.15"
  }
 },
 "nbformat": 4,
 "nbformat_minor": 2
}
