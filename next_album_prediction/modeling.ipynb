{
 "cells": [
  {
   "cell_type": "markdown",
   "metadata": {},
   "source": [
    "# Load the data"
   ]
  },
  {
   "cell_type": "code",
   "execution_count": 1,
   "metadata": {},
   "outputs": [],
   "source": [
    "import pandas as pd\n",
    "from sklearn.model_selection import GridSearchCV, RandomizedSearchCV, TimeSeriesSplit\n",
    "from sklearn.metrics import mean_squared_error\n",
    "from sklearn.metrics import mean_absolute_error\n",
    "import matplotlib.pyplot as plt\n",
    "import numpy as np\n",
    "%matplotlib inline"
   ]
  },
  {
   "cell_type": "code",
   "execution_count": 2,
   "metadata": {},
   "outputs": [
    {
     "data": {
      "text/html": [
       "<div>\n",
       "<style scoped>\n",
       "    .dataframe tbody tr th:only-of-type {\n",
       "        vertical-align: middle;\n",
       "    }\n",
       "\n",
       "    .dataframe tbody tr th {\n",
       "        vertical-align: top;\n",
       "    }\n",
       "\n",
       "    .dataframe thead th {\n",
       "        text-align: right;\n",
       "    }\n",
       "</style>\n",
       "<table border=\"1\" class=\"dataframe\">\n",
       "  <thead>\n",
       "    <tr style=\"text-align: right;\">\n",
       "      <th></th>\n",
       "      <th>id</th>\n",
       "      <th>artist_id</th>\n",
       "      <th>nb_tracks</th>\n",
       "      <th>duration</th>\n",
       "      <th>explicit_lyrics</th>\n",
       "      <th>days_since_first_release</th>\n",
       "      <th>total_albums_released</th>\n",
       "      <th>release_year</th>\n",
       "      <th>release_month</th>\n",
       "      <th>release_day_of_month</th>\n",
       "      <th>...</th>\n",
       "      <th>days_since_previous_release</th>\n",
       "      <th>average_days_to_release_in_last_year</th>\n",
       "      <th>average_days_to_release_in_last_2_years</th>\n",
       "      <th>average_days_to_release_in_last_3_years</th>\n",
       "      <th>average_days_to_release_in_last_5_years</th>\n",
       "      <th>average_days_to_release_in_last_year_for_release_type</th>\n",
       "      <th>average_days_to_release</th>\n",
       "      <th>min_release_frequency</th>\n",
       "      <th>max_release_frequency</th>\n",
       "      <th>average_release_frequency_for_release_type</th>\n",
       "    </tr>\n",
       "  </thead>\n",
       "  <tbody>\n",
       "    <tr>\n",
       "      <th>0</th>\n",
       "      <td>77130752.0</td>\n",
       "      <td>13011</td>\n",
       "      <td>18.0</td>\n",
       "      <td>4177.0</td>\n",
       "      <td>0</td>\n",
       "      <td>3664</td>\n",
       "      <td>11</td>\n",
       "      <td>2016</td>\n",
       "      <td>10</td>\n",
       "      <td>14</td>\n",
       "      <td>...</td>\n",
       "      <td>420.0</td>\n",
       "      <td>76.0</td>\n",
       "      <td>85.0</td>\n",
       "      <td>91.0</td>\n",
       "      <td>104.0</td>\n",
       "      <td>120.0</td>\n",
       "      <td>366.0</td>\n",
       "      <td>73.0</td>\n",
       "      <td>1050.0</td>\n",
       "      <td>1050.0</td>\n",
       "    </tr>\n",
       "    <tr>\n",
       "      <th>1</th>\n",
       "      <td>77126682.0</td>\n",
       "      <td>13011</td>\n",
       "      <td>28.0</td>\n",
       "      <td>6054.0</td>\n",
       "      <td>1</td>\n",
       "      <td>3244</td>\n",
       "      <td>10</td>\n",
       "      <td>2015</td>\n",
       "      <td>8</td>\n",
       "      <td>21</td>\n",
       "      <td>...</td>\n",
       "      <td>158.0</td>\n",
       "      <td>98.0</td>\n",
       "      <td>104.5</td>\n",
       "      <td>109.0</td>\n",
       "      <td>119.0</td>\n",
       "      <td>139.0</td>\n",
       "      <td>360.0</td>\n",
       "      <td>73.0</td>\n",
       "      <td>1050.0</td>\n",
       "      <td>1050.0</td>\n",
       "    </tr>\n",
       "    <tr>\n",
       "      <th>2</th>\n",
       "      <td>9816130.0</td>\n",
       "      <td>13011</td>\n",
       "      <td>8.0</td>\n",
       "      <td>1753.0</td>\n",
       "      <td>0</td>\n",
       "      <td>3086</td>\n",
       "      <td>9</td>\n",
       "      <td>2015</td>\n",
       "      <td>3</td>\n",
       "      <td>16</td>\n",
       "      <td>...</td>\n",
       "      <td>1050.0</td>\n",
       "      <td>102.0</td>\n",
       "      <td>111.0</td>\n",
       "      <td>117.0</td>\n",
       "      <td>126.0</td>\n",
       "      <td>140.5</td>\n",
       "      <td>386.0</td>\n",
       "      <td>73.0</td>\n",
       "      <td>1050.0</td>\n",
       "      <td>1050.0</td>\n",
       "    </tr>\n",
       "    <tr>\n",
       "      <th>3</th>\n",
       "      <td>1641895.0</td>\n",
       "      <td>13011</td>\n",
       "      <td>12.0</td>\n",
       "      <td>3194.0</td>\n",
       "      <td>0</td>\n",
       "      <td>2036</td>\n",
       "      <td>8</td>\n",
       "      <td>2012</td>\n",
       "      <td>4</td>\n",
       "      <td>30</td>\n",
       "      <td>...</td>\n",
       "      <td>73.0</td>\n",
       "      <td>137.0</td>\n",
       "      <td>146.0</td>\n",
       "      <td>145.0</td>\n",
       "      <td>161.0</td>\n",
       "      <td>157.0</td>\n",
       "      <td>291.0</td>\n",
       "      <td>73.0</td>\n",
       "      <td>682.0</td>\n",
       "      <td>682.0</td>\n",
       "    </tr>\n",
       "    <tr>\n",
       "      <th>4</th>\n",
       "      <td>1523930.0</td>\n",
       "      <td>13011</td>\n",
       "      <td>4.0</td>\n",
       "      <td>922.0</td>\n",
       "      <td>0</td>\n",
       "      <td>1963</td>\n",
       "      <td>7</td>\n",
       "      <td>2012</td>\n",
       "      <td>2</td>\n",
       "      <td>17</td>\n",
       "      <td>...</td>\n",
       "      <td>338.0</td>\n",
       "      <td>137.0</td>\n",
       "      <td>149.0</td>\n",
       "      <td>147.0</td>\n",
       "      <td>161.0</td>\n",
       "      <td>159.0</td>\n",
       "      <td>327.0</td>\n",
       "      <td>136.0</td>\n",
       "      <td>682.0</td>\n",
       "      <td>682.0</td>\n",
       "    </tr>\n",
       "  </tbody>\n",
       "</table>\n",
       "<p>5 rows × 31 columns</p>\n",
       "</div>"
      ],
      "text/plain": [
       "           id  artist_id  nb_tracks  duration  explicit_lyrics  \\\n",
       "0  77130752.0      13011       18.0    4177.0                0   \n",
       "1  77126682.0      13011       28.0    6054.0                1   \n",
       "2   9816130.0      13011        8.0    1753.0                0   \n",
       "3   1641895.0      13011       12.0    3194.0                0   \n",
       "4   1523930.0      13011        4.0     922.0                0   \n",
       "\n",
       "   days_since_first_release  total_albums_released  release_year  \\\n",
       "0                      3664                     11          2016   \n",
       "1                      3244                     10          2015   \n",
       "2                      3086                      9          2015   \n",
       "3                      2036                      8          2012   \n",
       "4                      1963                      7          2012   \n",
       "\n",
       "   release_month  release_day_of_month  ...  days_since_previous_release  \\\n",
       "0             10                    14  ...                        420.0   \n",
       "1              8                    21  ...                        158.0   \n",
       "2              3                    16  ...                       1050.0   \n",
       "3              4                    30  ...                         73.0   \n",
       "4              2                    17  ...                        338.0   \n",
       "\n",
       "   average_days_to_release_in_last_year  \\\n",
       "0                                  76.0   \n",
       "1                                  98.0   \n",
       "2                                 102.0   \n",
       "3                                 137.0   \n",
       "4                                 137.0   \n",
       "\n",
       "   average_days_to_release_in_last_2_years  \\\n",
       "0                                     85.0   \n",
       "1                                    104.5   \n",
       "2                                    111.0   \n",
       "3                                    146.0   \n",
       "4                                    149.0   \n",
       "\n",
       "   average_days_to_release_in_last_3_years  \\\n",
       "0                                     91.0   \n",
       "1                                    109.0   \n",
       "2                                    117.0   \n",
       "3                                    145.0   \n",
       "4                                    147.0   \n",
       "\n",
       "   average_days_to_release_in_last_5_years  \\\n",
       "0                                    104.0   \n",
       "1                                    119.0   \n",
       "2                                    126.0   \n",
       "3                                    161.0   \n",
       "4                                    161.0   \n",
       "\n",
       "   average_days_to_release_in_last_year_for_release_type  \\\n",
       "0                                              120.0       \n",
       "1                                              139.0       \n",
       "2                                              140.5       \n",
       "3                                              157.0       \n",
       "4                                              159.0       \n",
       "\n",
       "   average_days_to_release  min_release_frequency  max_release_frequency  \\\n",
       "0                    366.0                   73.0                 1050.0   \n",
       "1                    360.0                   73.0                 1050.0   \n",
       "2                    386.0                   73.0                 1050.0   \n",
       "3                    291.0                   73.0                  682.0   \n",
       "4                    327.0                  136.0                  682.0   \n",
       "\n",
       "   average_release_frequency_for_release_type  \n",
       "0                                      1050.0  \n",
       "1                                      1050.0  \n",
       "2                                      1050.0  \n",
       "3                                       682.0  \n",
       "4                                       682.0  \n",
       "\n",
       "[5 rows x 31 columns]"
      ]
     },
     "execution_count": 2,
     "metadata": {},
     "output_type": "execute_result"
    }
   ],
   "source": [
    "df = pd.read_csv('dataset.csv')\n",
    "df.head()"
   ]
  },
  {
   "cell_type": "code",
   "execution_count": 3,
   "metadata": {},
   "outputs": [
    {
     "data": {
      "text/plain": [
       "(27755, 31)"
      ]
     },
     "execution_count": 3,
     "metadata": {},
     "output_type": "execute_result"
    }
   ],
   "source": [
    "df.shape"
   ]
  },
  {
   "cell_type": "code",
   "execution_count": 4,
   "metadata": {},
   "outputs": [],
   "source": [
    "# only singles\n",
    "# df = df[df['record_type_single'] == 1]\n",
    "\n",
    "# only albums\n",
    "df = df[df['record_type_album'] == 1]"
   ]
  },
  {
   "cell_type": "code",
   "execution_count": 5,
   "metadata": {},
   "outputs": [
    {
     "data": {
      "text/html": [
       "<div>\n",
       "<style scoped>\n",
       "    .dataframe tbody tr th:only-of-type {\n",
       "        vertical-align: middle;\n",
       "    }\n",
       "\n",
       "    .dataframe tbody tr th {\n",
       "        vertical-align: top;\n",
       "    }\n",
       "\n",
       "    .dataframe thead th {\n",
       "        text-align: right;\n",
       "    }\n",
       "</style>\n",
       "<table border=\"1\" class=\"dataframe\">\n",
       "  <thead>\n",
       "    <tr style=\"text-align: right;\">\n",
       "      <th></th>\n",
       "      <th>id</th>\n",
       "      <th>artist_id</th>\n",
       "      <th>nb_tracks</th>\n",
       "      <th>duration</th>\n",
       "      <th>explicit_lyrics</th>\n",
       "      <th>days_since_first_release</th>\n",
       "      <th>total_albums_released</th>\n",
       "      <th>release_year</th>\n",
       "      <th>release_month</th>\n",
       "      <th>release_day_of_month</th>\n",
       "      <th>...</th>\n",
       "      <th>days_since_previous_release</th>\n",
       "      <th>average_days_to_release_in_last_year</th>\n",
       "      <th>average_days_to_release_in_last_2_years</th>\n",
       "      <th>average_days_to_release_in_last_3_years</th>\n",
       "      <th>average_days_to_release_in_last_5_years</th>\n",
       "      <th>average_days_to_release_in_last_year_for_release_type</th>\n",
       "      <th>average_days_to_release</th>\n",
       "      <th>min_release_frequency</th>\n",
       "      <th>max_release_frequency</th>\n",
       "      <th>average_release_frequency_for_release_type</th>\n",
       "    </tr>\n",
       "  </thead>\n",
       "  <tbody>\n",
       "    <tr>\n",
       "      <th>815</th>\n",
       "      <td>7726073.0</td>\n",
       "      <td>2419</td>\n",
       "      <td>9.0</td>\n",
       "      <td>1932.0</td>\n",
       "      <td>0</td>\n",
       "      <td>1000</td>\n",
       "      <td>6</td>\n",
       "      <td>2012</td>\n",
       "      <td>1</td>\n",
       "      <td>1</td>\n",
       "      <td>...</td>\n",
       "      <td>10.0</td>\n",
       "      <td>140.0</td>\n",
       "      <td>153.0</td>\n",
       "      <td>151.0</td>\n",
       "      <td>161.0</td>\n",
       "      <td>158.0</td>\n",
       "      <td>200.0</td>\n",
       "      <td>10.0</td>\n",
       "      <td>908.0</td>\n",
       "      <td>908.0</td>\n",
       "    </tr>\n",
       "    <tr>\n",
       "      <th>1072</th>\n",
       "      <td>1575391.0</td>\n",
       "      <td>171</td>\n",
       "      <td>10.0</td>\n",
       "      <td>2556.0</td>\n",
       "      <td>0</td>\n",
       "      <td>4296</td>\n",
       "      <td>10</td>\n",
       "      <td>2012</td>\n",
       "      <td>1</td>\n",
       "      <td>1</td>\n",
       "      <td>...</td>\n",
       "      <td>124.0</td>\n",
       "      <td>140.0</td>\n",
       "      <td>153.0</td>\n",
       "      <td>151.0</td>\n",
       "      <td>161.0</td>\n",
       "      <td>158.0</td>\n",
       "      <td>477.0</td>\n",
       "      <td>124.0</td>\n",
       "      <td>790.0</td>\n",
       "      <td>790.0</td>\n",
       "    </tr>\n",
       "    <tr>\n",
       "      <th>2633</th>\n",
       "      <td>8166310.0</td>\n",
       "      <td>13188</td>\n",
       "      <td>14.0</td>\n",
       "      <td>2019.0</td>\n",
       "      <td>0</td>\n",
       "      <td>12346</td>\n",
       "      <td>29</td>\n",
       "      <td>2012</td>\n",
       "      <td>1</td>\n",
       "      <td>1</td>\n",
       "      <td>...</td>\n",
       "      <td>100.0</td>\n",
       "      <td>140.0</td>\n",
       "      <td>153.0</td>\n",
       "      <td>151.0</td>\n",
       "      <td>161.0</td>\n",
       "      <td>158.0</td>\n",
       "      <td>441.0</td>\n",
       "      <td>28.0</td>\n",
       "      <td>581.0</td>\n",
       "      <td>581.0</td>\n",
       "    </tr>\n",
       "    <tr>\n",
       "      <th>2634</th>\n",
       "      <td>8166260.0</td>\n",
       "      <td>13188</td>\n",
       "      <td>15.0</td>\n",
       "      <td>2207.0</td>\n",
       "      <td>0</td>\n",
       "      <td>12346</td>\n",
       "      <td>29</td>\n",
       "      <td>2012</td>\n",
       "      <td>1</td>\n",
       "      <td>1</td>\n",
       "      <td>...</td>\n",
       "      <td>100.0</td>\n",
       "      <td>140.0</td>\n",
       "      <td>153.0</td>\n",
       "      <td>151.0</td>\n",
       "      <td>161.0</td>\n",
       "      <td>158.0</td>\n",
       "      <td>441.0</td>\n",
       "      <td>28.0</td>\n",
       "      <td>581.0</td>\n",
       "      <td>581.0</td>\n",
       "    </tr>\n",
       "    <tr>\n",
       "      <th>4699</th>\n",
       "      <td>15484954.0</td>\n",
       "      <td>4742</td>\n",
       "      <td>37.0</td>\n",
       "      <td>8875.0</td>\n",
       "      <td>0</td>\n",
       "      <td>14671</td>\n",
       "      <td>41</td>\n",
       "      <td>2012</td>\n",
       "      <td>1</td>\n",
       "      <td>1</td>\n",
       "      <td>...</td>\n",
       "      <td>166.0</td>\n",
       "      <td>140.0</td>\n",
       "      <td>153.0</td>\n",
       "      <td>151.0</td>\n",
       "      <td>161.0</td>\n",
       "      <td>158.0</td>\n",
       "      <td>367.0</td>\n",
       "      <td>16.0</td>\n",
       "      <td>892.0</td>\n",
       "      <td>892.0</td>\n",
       "    </tr>\n",
       "  </tbody>\n",
       "</table>\n",
       "<p>5 rows × 31 columns</p>\n",
       "</div>"
      ],
      "text/plain": [
       "              id  artist_id  nb_tracks  duration  explicit_lyrics  \\\n",
       "815    7726073.0       2419        9.0    1932.0                0   \n",
       "1072   1575391.0        171       10.0    2556.0                0   \n",
       "2633   8166310.0      13188       14.0    2019.0                0   \n",
       "2634   8166260.0      13188       15.0    2207.0                0   \n",
       "4699  15484954.0       4742       37.0    8875.0                0   \n",
       "\n",
       "      days_since_first_release  total_albums_released  release_year  \\\n",
       "815                       1000                      6          2012   \n",
       "1072                      4296                     10          2012   \n",
       "2633                     12346                     29          2012   \n",
       "2634                     12346                     29          2012   \n",
       "4699                     14671                     41          2012   \n",
       "\n",
       "      release_month  release_day_of_month  ...  days_since_previous_release  \\\n",
       "815               1                     1  ...                         10.0   \n",
       "1072              1                     1  ...                        124.0   \n",
       "2633              1                     1  ...                        100.0   \n",
       "2634              1                     1  ...                        100.0   \n",
       "4699              1                     1  ...                        166.0   \n",
       "\n",
       "      average_days_to_release_in_last_year  \\\n",
       "815                                  140.0   \n",
       "1072                                 140.0   \n",
       "2633                                 140.0   \n",
       "2634                                 140.0   \n",
       "4699                                 140.0   \n",
       "\n",
       "      average_days_to_release_in_last_2_years  \\\n",
       "815                                     153.0   \n",
       "1072                                    153.0   \n",
       "2633                                    153.0   \n",
       "2634                                    153.0   \n",
       "4699                                    153.0   \n",
       "\n",
       "      average_days_to_release_in_last_3_years  \\\n",
       "815                                     151.0   \n",
       "1072                                    151.0   \n",
       "2633                                    151.0   \n",
       "2634                                    151.0   \n",
       "4699                                    151.0   \n",
       "\n",
       "      average_days_to_release_in_last_5_years  \\\n",
       "815                                     161.0   \n",
       "1072                                    161.0   \n",
       "2633                                    161.0   \n",
       "2634                                    161.0   \n",
       "4699                                    161.0   \n",
       "\n",
       "      average_days_to_release_in_last_year_for_release_type  \\\n",
       "815                                               158.0       \n",
       "1072                                              158.0       \n",
       "2633                                              158.0       \n",
       "2634                                              158.0       \n",
       "4699                                              158.0       \n",
       "\n",
       "      average_days_to_release  min_release_frequency  max_release_frequency  \\\n",
       "815                     200.0                   10.0                  908.0   \n",
       "1072                    477.0                  124.0                  790.0   \n",
       "2633                    441.0                   28.0                  581.0   \n",
       "2634                    441.0                   28.0                  581.0   \n",
       "4699                    367.0                   16.0                  892.0   \n",
       "\n",
       "      average_release_frequency_for_release_type  \n",
       "815                                        908.0  \n",
       "1072                                       790.0  \n",
       "2633                                       581.0  \n",
       "2634                                       581.0  \n",
       "4699                                       892.0  \n",
       "\n",
       "[5 rows x 31 columns]"
      ]
     },
     "execution_count": 5,
     "metadata": {},
     "output_type": "execute_result"
    }
   ],
   "source": [
    "df = df.sort_values(['release_year', 'release_month', 'release_day_of_month'])\n",
    "df.head()"
   ]
  },
  {
   "cell_type": "code",
   "execution_count": 6,
   "metadata": {},
   "outputs": [],
   "source": [
    "df = df.drop([\n",
    "    u'average_days_to_release_in_last_2_years',\n",
    "    u'average_days_to_release_in_last_3_years',\n",
    "    u'average_days_to_release_in_last_5_years',\n",
    "#     u'average_days_to_release_in_last_2_years_for_release_type',\n",
    "#     u'average_days_to_release_in_last_3_years_for_release_type',\n",
    "#     u'average_days_to_release_in_last_5_years_for_release_type',\n",
    "], axis=1)"
   ]
  },
  {
   "cell_type": "code",
   "execution_count": 7,
   "metadata": {},
   "outputs": [
    {
     "data": {
      "text/plain": [
       "(4245, 28)"
      ]
     },
     "execution_count": 7,
     "metadata": {},
     "output_type": "execute_result"
    }
   ],
   "source": [
    "df[df['release_year'] >= 2017].shape"
   ]
  },
  {
   "cell_type": "code",
   "execution_count": 8,
   "metadata": {},
   "outputs": [],
   "source": [
    "df = df[df['release_year'] >= 2017]"
   ]
  },
  {
   "cell_type": "code",
   "execution_count": 9,
   "metadata": {},
   "outputs": [
    {
     "data": {
      "text/plain": [
       "((4245,), (4245, 26))"
      ]
     },
     "execution_count": 9,
     "metadata": {},
     "output_type": "execute_result"
    }
   ],
   "source": [
    "y = df['days_until_next_album']\n",
    "X = df.drop(['days_until_next_album', 'id'], axis=1)\n",
    "y.shape, X.shape"
   ]
  },
  {
   "cell_type": "code",
   "execution_count": 10,
   "metadata": {},
   "outputs": [
    {
     "data": {
      "text/html": [
       "<div>\n",
       "<style scoped>\n",
       "    .dataframe tbody tr th:only-of-type {\n",
       "        vertical-align: middle;\n",
       "    }\n",
       "\n",
       "    .dataframe tbody tr th {\n",
       "        vertical-align: top;\n",
       "    }\n",
       "\n",
       "    .dataframe thead th {\n",
       "        text-align: right;\n",
       "    }\n",
       "</style>\n",
       "<table border=\"1\" class=\"dataframe\">\n",
       "  <thead>\n",
       "    <tr style=\"text-align: right;\">\n",
       "      <th></th>\n",
       "      <th>artist_id</th>\n",
       "      <th>nb_tracks</th>\n",
       "      <th>duration</th>\n",
       "      <th>explicit_lyrics</th>\n",
       "      <th>days_since_first_release</th>\n",
       "      <th>total_albums_released</th>\n",
       "      <th>release_year</th>\n",
       "      <th>release_month</th>\n",
       "      <th>release_day_of_month</th>\n",
       "      <th>release_day_of_week</th>\n",
       "      <th>...</th>\n",
       "      <th>albums_released_in_90_180_days</th>\n",
       "      <th>albums_released_in_180_360_days</th>\n",
       "      <th>albums_released_in_360_720_days</th>\n",
       "      <th>days_since_previous_release</th>\n",
       "      <th>average_days_to_release_in_last_year</th>\n",
       "      <th>average_days_to_release_in_last_year_for_release_type</th>\n",
       "      <th>average_days_to_release</th>\n",
       "      <th>min_release_frequency</th>\n",
       "      <th>max_release_frequency</th>\n",
       "      <th>average_release_frequency_for_release_type</th>\n",
       "    </tr>\n",
       "  </thead>\n",
       "  <tbody>\n",
       "    <tr>\n",
       "      <th>4350</th>\n",
       "      <td>1447</td>\n",
       "      <td>9.0</td>\n",
       "      <td>3549.0</td>\n",
       "      <td>0</td>\n",
       "      <td>5055</td>\n",
       "      <td>21</td>\n",
       "      <td>2017</td>\n",
       "      <td>1</td>\n",
       "      <td>1</td>\n",
       "      <td>6</td>\n",
       "      <td>...</td>\n",
       "      <td>0</td>\n",
       "      <td>0</td>\n",
       "      <td>0</td>\n",
       "      <td>646.0</td>\n",
       "      <td>69.0</td>\n",
       "      <td>112.0</td>\n",
       "      <td>253.0</td>\n",
       "      <td>4.0</td>\n",
       "      <td>970.0</td>\n",
       "      <td>970.0</td>\n",
       "    </tr>\n",
       "    <tr>\n",
       "      <th>4351</th>\n",
       "      <td>1447</td>\n",
       "      <td>13.0</td>\n",
       "      <td>2947.0</td>\n",
       "      <td>0</td>\n",
       "      <td>5055</td>\n",
       "      <td>21</td>\n",
       "      <td>2017</td>\n",
       "      <td>1</td>\n",
       "      <td>1</td>\n",
       "      <td>6</td>\n",
       "      <td>...</td>\n",
       "      <td>0</td>\n",
       "      <td>0</td>\n",
       "      <td>0</td>\n",
       "      <td>646.0</td>\n",
       "      <td>69.0</td>\n",
       "      <td>112.0</td>\n",
       "      <td>253.0</td>\n",
       "      <td>4.0</td>\n",
       "      <td>970.0</td>\n",
       "      <td>970.0</td>\n",
       "    </tr>\n",
       "    <tr>\n",
       "      <th>4352</th>\n",
       "      <td>1447</td>\n",
       "      <td>12.0</td>\n",
       "      <td>3153.0</td>\n",
       "      <td>0</td>\n",
       "      <td>5055</td>\n",
       "      <td>21</td>\n",
       "      <td>2017</td>\n",
       "      <td>1</td>\n",
       "      <td>1</td>\n",
       "      <td>6</td>\n",
       "      <td>...</td>\n",
       "      <td>0</td>\n",
       "      <td>0</td>\n",
       "      <td>0</td>\n",
       "      <td>646.0</td>\n",
       "      <td>69.0</td>\n",
       "      <td>112.0</td>\n",
       "      <td>253.0</td>\n",
       "      <td>4.0</td>\n",
       "      <td>970.0</td>\n",
       "      <td>970.0</td>\n",
       "    </tr>\n",
       "    <tr>\n",
       "      <th>9871</th>\n",
       "      <td>1887</td>\n",
       "      <td>4.0</td>\n",
       "      <td>774.0</td>\n",
       "      <td>0</td>\n",
       "      <td>19359</td>\n",
       "      <td>33</td>\n",
       "      <td>2017</td>\n",
       "      <td>1</td>\n",
       "      <td>1</td>\n",
       "      <td>6</td>\n",
       "      <td>...</td>\n",
       "      <td>0</td>\n",
       "      <td>0</td>\n",
       "      <td>0</td>\n",
       "      <td>2.0</td>\n",
       "      <td>69.0</td>\n",
       "      <td>112.0</td>\n",
       "      <td>605.0</td>\n",
       "      <td>1.0</td>\n",
       "      <td>3644.0</td>\n",
       "      <td>3644.0</td>\n",
       "    </tr>\n",
       "    <tr>\n",
       "      <th>15087</th>\n",
       "      <td>915</td>\n",
       "      <td>5.0</td>\n",
       "      <td>1073.0</td>\n",
       "      <td>1</td>\n",
       "      <td>5899</td>\n",
       "      <td>38</td>\n",
       "      <td>2017</td>\n",
       "      <td>1</td>\n",
       "      <td>1</td>\n",
       "      <td>6</td>\n",
       "      <td>...</td>\n",
       "      <td>0</td>\n",
       "      <td>0</td>\n",
       "      <td>0</td>\n",
       "      <td>15.0</td>\n",
       "      <td>69.0</td>\n",
       "      <td>112.0</td>\n",
       "      <td>159.0</td>\n",
       "      <td>4.0</td>\n",
       "      <td>756.0</td>\n",
       "      <td>756.0</td>\n",
       "    </tr>\n",
       "  </tbody>\n",
       "</table>\n",
       "<p>5 rows × 26 columns</p>\n",
       "</div>"
      ],
      "text/plain": [
       "       artist_id  nb_tracks  duration  explicit_lyrics  \\\n",
       "4350        1447        9.0    3549.0                0   \n",
       "4351        1447       13.0    2947.0                0   \n",
       "4352        1447       12.0    3153.0                0   \n",
       "9871        1887        4.0     774.0                0   \n",
       "15087        915        5.0    1073.0                1   \n",
       "\n",
       "       days_since_first_release  total_albums_released  release_year  \\\n",
       "4350                       5055                     21          2017   \n",
       "4351                       5055                     21          2017   \n",
       "4352                       5055                     21          2017   \n",
       "9871                      19359                     33          2017   \n",
       "15087                      5899                     38          2017   \n",
       "\n",
       "       release_month  release_day_of_month  release_day_of_week  ...  \\\n",
       "4350               1                     1                    6  ...   \n",
       "4351               1                     1                    6  ...   \n",
       "4352               1                     1                    6  ...   \n",
       "9871               1                     1                    6  ...   \n",
       "15087              1                     1                    6  ...   \n",
       "\n",
       "       albums_released_in_90_180_days  albums_released_in_180_360_days  \\\n",
       "4350                                0                                0   \n",
       "4351                                0                                0   \n",
       "4352                                0                                0   \n",
       "9871                                0                                0   \n",
       "15087                               0                                0   \n",
       "\n",
       "       albums_released_in_360_720_days  days_since_previous_release  \\\n",
       "4350                                 0                        646.0   \n",
       "4351                                 0                        646.0   \n",
       "4352                                 0                        646.0   \n",
       "9871                                 0                          2.0   \n",
       "15087                                0                         15.0   \n",
       "\n",
       "       average_days_to_release_in_last_year  \\\n",
       "4350                                   69.0   \n",
       "4351                                   69.0   \n",
       "4352                                   69.0   \n",
       "9871                                   69.0   \n",
       "15087                                  69.0   \n",
       "\n",
       "       average_days_to_release_in_last_year_for_release_type  \\\n",
       "4350                                               112.0       \n",
       "4351                                               112.0       \n",
       "4352                                               112.0       \n",
       "9871                                               112.0       \n",
       "15087                                              112.0       \n",
       "\n",
       "       average_days_to_release  min_release_frequency  max_release_frequency  \\\n",
       "4350                     253.0                    4.0                  970.0   \n",
       "4351                     253.0                    4.0                  970.0   \n",
       "4352                     253.0                    4.0                  970.0   \n",
       "9871                     605.0                    1.0                 3644.0   \n",
       "15087                    159.0                    4.0                  756.0   \n",
       "\n",
       "       average_release_frequency_for_release_type  \n",
       "4350                                        970.0  \n",
       "4351                                        970.0  \n",
       "4352                                        970.0  \n",
       "9871                                       3644.0  \n",
       "15087                                       756.0  \n",
       "\n",
       "[5 rows x 26 columns]"
      ]
     },
     "execution_count": 10,
     "metadata": {},
     "output_type": "execute_result"
    }
   ],
   "source": [
    "X.head()"
   ]
  },
  {
   "cell_type": "code",
   "execution_count": 11,
   "metadata": {},
   "outputs": [
    {
     "data": {
      "text/plain": [
       "Index([u'artist_id', u'nb_tracks', u'duration', u'explicit_lyrics',\n",
       "       u'days_since_first_release', u'total_albums_released', u'release_year',\n",
       "       u'release_month', u'release_day_of_month', u'release_day_of_week',\n",
       "       u'record_type_album', u'record_type_single', u'record_type_ep',\n",
       "       u'albums_released_in_30_days', u'albums_released_in_30_60_days',\n",
       "       u'albums_released_in_60_90_days', u'albums_released_in_90_180_days',\n",
       "       u'albums_released_in_180_360_days', u'albums_released_in_360_720_days',\n",
       "       u'days_since_previous_release', u'average_days_to_release_in_last_year',\n",
       "       u'average_days_to_release_in_last_year_for_release_type',\n",
       "       u'average_days_to_release', u'min_release_frequency',\n",
       "       u'max_release_frequency',\n",
       "       u'average_release_frequency_for_release_type'],\n",
       "      dtype='object')"
      ]
     },
     "execution_count": 11,
     "metadata": {},
     "output_type": "execute_result"
    }
   ],
   "source": [
    "columns = X.columns\n",
    "columns"
   ]
  },
  {
   "cell_type": "code",
   "execution_count": 12,
   "metadata": {},
   "outputs": [
    {
     "data": {
      "text/plain": [
       "4350     124.0\n",
       "4351     124.0\n",
       "4352     124.0\n",
       "9871      23.0\n",
       "15087     82.0\n",
       "Name: days_until_next_album, dtype: float64"
      ]
     },
     "execution_count": 12,
     "metadata": {},
     "output_type": "execute_result"
    }
   ],
   "source": [
    "y.head()"
   ]
  },
  {
   "cell_type": "markdown",
   "metadata": {},
   "source": [
    "# Train/Test split"
   ]
  },
  {
   "cell_type": "code",
   "execution_count": 13,
   "metadata": {},
   "outputs": [],
   "source": [
    "from sklearn.model_selection import train_test_split"
   ]
  },
  {
   "cell_type": "code",
   "execution_count": 14,
   "metadata": {},
   "outputs": [
    {
     "data": {
      "text/plain": [
       "((3820, 26), (425, 26), (3820,), (425,))"
      ]
     },
     "execution_count": 14,
     "metadata": {},
     "output_type": "execute_result"
    }
   ],
   "source": [
    "X_train, X_test, y_train, y_test = train_test_split(X, y, test_size=0.1, shuffle=False)\n",
    "X_train.shape, X_test.shape, y_train.shape, y_test.shape"
   ]
  },
  {
   "cell_type": "code",
   "execution_count": 15,
   "metadata": {},
   "outputs": [],
   "source": [
    "# X_cv, X_test, y_cv, y_test = train_test_split(X_test, y_test, test_size=0.5, shuffle=False)\n",
    "# X_cv.shape, X_test.shape, y_cv.shape, y_test.shape"
   ]
  },
  {
   "cell_type": "code",
   "execution_count": 16,
   "metadata": {},
   "outputs": [
    {
     "data": {
      "text/html": [
       "<div>\n",
       "<style scoped>\n",
       "    .dataframe tbody tr th:only-of-type {\n",
       "        vertical-align: middle;\n",
       "    }\n",
       "\n",
       "    .dataframe tbody tr th {\n",
       "        vertical-align: top;\n",
       "    }\n",
       "\n",
       "    .dataframe thead th {\n",
       "        text-align: right;\n",
       "    }\n",
       "</style>\n",
       "<table border=\"1\" class=\"dataframe\">\n",
       "  <thead>\n",
       "    <tr style=\"text-align: right;\">\n",
       "      <th></th>\n",
       "      <th>artist_id</th>\n",
       "      <th>nb_tracks</th>\n",
       "      <th>duration</th>\n",
       "      <th>explicit_lyrics</th>\n",
       "      <th>days_since_first_release</th>\n",
       "      <th>total_albums_released</th>\n",
       "      <th>release_year</th>\n",
       "      <th>release_month</th>\n",
       "      <th>release_day_of_month</th>\n",
       "      <th>release_day_of_week</th>\n",
       "      <th>...</th>\n",
       "      <th>albums_released_in_90_180_days</th>\n",
       "      <th>albums_released_in_180_360_days</th>\n",
       "      <th>albums_released_in_360_720_days</th>\n",
       "      <th>days_since_previous_release</th>\n",
       "      <th>average_days_to_release_in_last_year</th>\n",
       "      <th>average_days_to_release_in_last_year_for_release_type</th>\n",
       "      <th>average_days_to_release</th>\n",
       "      <th>min_release_frequency</th>\n",
       "      <th>max_release_frequency</th>\n",
       "      <th>average_release_frequency_for_release_type</th>\n",
       "    </tr>\n",
       "  </thead>\n",
       "  <tbody>\n",
       "    <tr>\n",
       "      <th>4350</th>\n",
       "      <td>1447</td>\n",
       "      <td>9.0</td>\n",
       "      <td>3549.0</td>\n",
       "      <td>0</td>\n",
       "      <td>5055</td>\n",
       "      <td>21</td>\n",
       "      <td>2017</td>\n",
       "      <td>1</td>\n",
       "      <td>1</td>\n",
       "      <td>6</td>\n",
       "      <td>...</td>\n",
       "      <td>0</td>\n",
       "      <td>0</td>\n",
       "      <td>0</td>\n",
       "      <td>646.0</td>\n",
       "      <td>69.0</td>\n",
       "      <td>112.0</td>\n",
       "      <td>253.0</td>\n",
       "      <td>4.0</td>\n",
       "      <td>970.0</td>\n",
       "      <td>970.0</td>\n",
       "    </tr>\n",
       "    <tr>\n",
       "      <th>4351</th>\n",
       "      <td>1447</td>\n",
       "      <td>13.0</td>\n",
       "      <td>2947.0</td>\n",
       "      <td>0</td>\n",
       "      <td>5055</td>\n",
       "      <td>21</td>\n",
       "      <td>2017</td>\n",
       "      <td>1</td>\n",
       "      <td>1</td>\n",
       "      <td>6</td>\n",
       "      <td>...</td>\n",
       "      <td>0</td>\n",
       "      <td>0</td>\n",
       "      <td>0</td>\n",
       "      <td>646.0</td>\n",
       "      <td>69.0</td>\n",
       "      <td>112.0</td>\n",
       "      <td>253.0</td>\n",
       "      <td>4.0</td>\n",
       "      <td>970.0</td>\n",
       "      <td>970.0</td>\n",
       "    </tr>\n",
       "    <tr>\n",
       "      <th>4352</th>\n",
       "      <td>1447</td>\n",
       "      <td>12.0</td>\n",
       "      <td>3153.0</td>\n",
       "      <td>0</td>\n",
       "      <td>5055</td>\n",
       "      <td>21</td>\n",
       "      <td>2017</td>\n",
       "      <td>1</td>\n",
       "      <td>1</td>\n",
       "      <td>6</td>\n",
       "      <td>...</td>\n",
       "      <td>0</td>\n",
       "      <td>0</td>\n",
       "      <td>0</td>\n",
       "      <td>646.0</td>\n",
       "      <td>69.0</td>\n",
       "      <td>112.0</td>\n",
       "      <td>253.0</td>\n",
       "      <td>4.0</td>\n",
       "      <td>970.0</td>\n",
       "      <td>970.0</td>\n",
       "    </tr>\n",
       "    <tr>\n",
       "      <th>9871</th>\n",
       "      <td>1887</td>\n",
       "      <td>4.0</td>\n",
       "      <td>774.0</td>\n",
       "      <td>0</td>\n",
       "      <td>19359</td>\n",
       "      <td>33</td>\n",
       "      <td>2017</td>\n",
       "      <td>1</td>\n",
       "      <td>1</td>\n",
       "      <td>6</td>\n",
       "      <td>...</td>\n",
       "      <td>0</td>\n",
       "      <td>0</td>\n",
       "      <td>0</td>\n",
       "      <td>2.0</td>\n",
       "      <td>69.0</td>\n",
       "      <td>112.0</td>\n",
       "      <td>605.0</td>\n",
       "      <td>1.0</td>\n",
       "      <td>3644.0</td>\n",
       "      <td>3644.0</td>\n",
       "    </tr>\n",
       "    <tr>\n",
       "      <th>15087</th>\n",
       "      <td>915</td>\n",
       "      <td>5.0</td>\n",
       "      <td>1073.0</td>\n",
       "      <td>1</td>\n",
       "      <td>5899</td>\n",
       "      <td>38</td>\n",
       "      <td>2017</td>\n",
       "      <td>1</td>\n",
       "      <td>1</td>\n",
       "      <td>6</td>\n",
       "      <td>...</td>\n",
       "      <td>0</td>\n",
       "      <td>0</td>\n",
       "      <td>0</td>\n",
       "      <td>15.0</td>\n",
       "      <td>69.0</td>\n",
       "      <td>112.0</td>\n",
       "      <td>159.0</td>\n",
       "      <td>4.0</td>\n",
       "      <td>756.0</td>\n",
       "      <td>756.0</td>\n",
       "    </tr>\n",
       "  </tbody>\n",
       "</table>\n",
       "<p>5 rows × 26 columns</p>\n",
       "</div>"
      ],
      "text/plain": [
       "       artist_id  nb_tracks  duration  explicit_lyrics  \\\n",
       "4350        1447        9.0    3549.0                0   \n",
       "4351        1447       13.0    2947.0                0   \n",
       "4352        1447       12.0    3153.0                0   \n",
       "9871        1887        4.0     774.0                0   \n",
       "15087        915        5.0    1073.0                1   \n",
       "\n",
       "       days_since_first_release  total_albums_released  release_year  \\\n",
       "4350                       5055                     21          2017   \n",
       "4351                       5055                     21          2017   \n",
       "4352                       5055                     21          2017   \n",
       "9871                      19359                     33          2017   \n",
       "15087                      5899                     38          2017   \n",
       "\n",
       "       release_month  release_day_of_month  release_day_of_week  ...  \\\n",
       "4350               1                     1                    6  ...   \n",
       "4351               1                     1                    6  ...   \n",
       "4352               1                     1                    6  ...   \n",
       "9871               1                     1                    6  ...   \n",
       "15087              1                     1                    6  ...   \n",
       "\n",
       "       albums_released_in_90_180_days  albums_released_in_180_360_days  \\\n",
       "4350                                0                                0   \n",
       "4351                                0                                0   \n",
       "4352                                0                                0   \n",
       "9871                                0                                0   \n",
       "15087                               0                                0   \n",
       "\n",
       "       albums_released_in_360_720_days  days_since_previous_release  \\\n",
       "4350                                 0                        646.0   \n",
       "4351                                 0                        646.0   \n",
       "4352                                 0                        646.0   \n",
       "9871                                 0                          2.0   \n",
       "15087                                0                         15.0   \n",
       "\n",
       "       average_days_to_release_in_last_year  \\\n",
       "4350                                   69.0   \n",
       "4351                                   69.0   \n",
       "4352                                   69.0   \n",
       "9871                                   69.0   \n",
       "15087                                  69.0   \n",
       "\n",
       "       average_days_to_release_in_last_year_for_release_type  \\\n",
       "4350                                               112.0       \n",
       "4351                                               112.0       \n",
       "4352                                               112.0       \n",
       "9871                                               112.0       \n",
       "15087                                              112.0       \n",
       "\n",
       "       average_days_to_release  min_release_frequency  max_release_frequency  \\\n",
       "4350                     253.0                    4.0                  970.0   \n",
       "4351                     253.0                    4.0                  970.0   \n",
       "4352                     253.0                    4.0                  970.0   \n",
       "9871                     605.0                    1.0                 3644.0   \n",
       "15087                    159.0                    4.0                  756.0   \n",
       "\n",
       "       average_release_frequency_for_release_type  \n",
       "4350                                        970.0  \n",
       "4351                                        970.0  \n",
       "4352                                        970.0  \n",
       "9871                                       3644.0  \n",
       "15087                                       756.0  \n",
       "\n",
       "[5 rows x 26 columns]"
      ]
     },
     "execution_count": 16,
     "metadata": {},
     "output_type": "execute_result"
    }
   ],
   "source": [
    "X_train.head()"
   ]
  },
  {
   "cell_type": "code",
   "execution_count": 17,
   "metadata": {},
   "outputs": [],
   "source": [
    "# X_cv.head()"
   ]
  },
  {
   "cell_type": "code",
   "execution_count": 18,
   "metadata": {},
   "outputs": [
    {
     "data": {
      "text/html": [
       "<div>\n",
       "<style scoped>\n",
       "    .dataframe tbody tr th:only-of-type {\n",
       "        vertical-align: middle;\n",
       "    }\n",
       "\n",
       "    .dataframe tbody tr th {\n",
       "        vertical-align: top;\n",
       "    }\n",
       "\n",
       "    .dataframe thead th {\n",
       "        text-align: right;\n",
       "    }\n",
       "</style>\n",
       "<table border=\"1\" class=\"dataframe\">\n",
       "  <thead>\n",
       "    <tr style=\"text-align: right;\">\n",
       "      <th></th>\n",
       "      <th>artist_id</th>\n",
       "      <th>nb_tracks</th>\n",
       "      <th>duration</th>\n",
       "      <th>explicit_lyrics</th>\n",
       "      <th>days_since_first_release</th>\n",
       "      <th>total_albums_released</th>\n",
       "      <th>release_year</th>\n",
       "      <th>release_month</th>\n",
       "      <th>release_day_of_month</th>\n",
       "      <th>release_day_of_week</th>\n",
       "      <th>...</th>\n",
       "      <th>albums_released_in_90_180_days</th>\n",
       "      <th>albums_released_in_180_360_days</th>\n",
       "      <th>albums_released_in_360_720_days</th>\n",
       "      <th>days_since_previous_release</th>\n",
       "      <th>average_days_to_release_in_last_year</th>\n",
       "      <th>average_days_to_release_in_last_year_for_release_type</th>\n",
       "      <th>average_days_to_release</th>\n",
       "      <th>min_release_frequency</th>\n",
       "      <th>max_release_frequency</th>\n",
       "      <th>average_release_frequency_for_release_type</th>\n",
       "    </tr>\n",
       "  </thead>\n",
       "  <tbody>\n",
       "    <tr>\n",
       "      <th>13339</th>\n",
       "      <td>2529</td>\n",
       "      <td>16.0</td>\n",
       "      <td>4018.0</td>\n",
       "      <td>1</td>\n",
       "      <td>5841</td>\n",
       "      <td>22</td>\n",
       "      <td>2019</td>\n",
       "      <td>2</td>\n",
       "      <td>22</td>\n",
       "      <td>4</td>\n",
       "      <td>...</td>\n",
       "      <td>0</td>\n",
       "      <td>0</td>\n",
       "      <td>0</td>\n",
       "      <td>92.0</td>\n",
       "      <td>34.0</td>\n",
       "      <td>49.0</td>\n",
       "      <td>278.0</td>\n",
       "      <td>2.0</td>\n",
       "      <td>1660.0</td>\n",
       "      <td>1660.0</td>\n",
       "    </tr>\n",
       "    <tr>\n",
       "      <th>13340</th>\n",
       "      <td>2529</td>\n",
       "      <td>12.0</td>\n",
       "      <td>3241.0</td>\n",
       "      <td>1</td>\n",
       "      <td>5841</td>\n",
       "      <td>22</td>\n",
       "      <td>2019</td>\n",
       "      <td>2</td>\n",
       "      <td>22</td>\n",
       "      <td>4</td>\n",
       "      <td>...</td>\n",
       "      <td>0</td>\n",
       "      <td>0</td>\n",
       "      <td>0</td>\n",
       "      <td>92.0</td>\n",
       "      <td>34.0</td>\n",
       "      <td>49.0</td>\n",
       "      <td>278.0</td>\n",
       "      <td>2.0</td>\n",
       "      <td>1660.0</td>\n",
       "      <td>1660.0</td>\n",
       "    </tr>\n",
       "    <tr>\n",
       "      <th>14632</th>\n",
       "      <td>828</td>\n",
       "      <td>10.0</td>\n",
       "      <td>3651.0</td>\n",
       "      <td>0</td>\n",
       "      <td>17949</td>\n",
       "      <td>37</td>\n",
       "      <td>2019</td>\n",
       "      <td>2</td>\n",
       "      <td>22</td>\n",
       "      <td>4</td>\n",
       "      <td>...</td>\n",
       "      <td>0</td>\n",
       "      <td>0</td>\n",
       "      <td>0</td>\n",
       "      <td>14.0</td>\n",
       "      <td>34.0</td>\n",
       "      <td>49.0</td>\n",
       "      <td>499.0</td>\n",
       "      <td>4.0</td>\n",
       "      <td>712.0</td>\n",
       "      <td>712.0</td>\n",
       "    </tr>\n",
       "    <tr>\n",
       "      <th>15217</th>\n",
       "      <td>13461</td>\n",
       "      <td>10.0</td>\n",
       "      <td>2227.0</td>\n",
       "      <td>1</td>\n",
       "      <td>12338</td>\n",
       "      <td>49</td>\n",
       "      <td>2019</td>\n",
       "      <td>2</td>\n",
       "      <td>22</td>\n",
       "      <td>4</td>\n",
       "      <td>...</td>\n",
       "      <td>0</td>\n",
       "      <td>0</td>\n",
       "      <td>0</td>\n",
       "      <td>18.0</td>\n",
       "      <td>34.0</td>\n",
       "      <td>49.0</td>\n",
       "      <td>257.0</td>\n",
       "      <td>1.0</td>\n",
       "      <td>1185.0</td>\n",
       "      <td>1185.0</td>\n",
       "    </tr>\n",
       "    <tr>\n",
       "      <th>17943</th>\n",
       "      <td>3051</td>\n",
       "      <td>6.0</td>\n",
       "      <td>1343.0</td>\n",
       "      <td>0</td>\n",
       "      <td>5813</td>\n",
       "      <td>11</td>\n",
       "      <td>2019</td>\n",
       "      <td>2</td>\n",
       "      <td>22</td>\n",
       "      <td>4</td>\n",
       "      <td>...</td>\n",
       "      <td>0</td>\n",
       "      <td>0</td>\n",
       "      <td>0</td>\n",
       "      <td>21.0</td>\n",
       "      <td>34.0</td>\n",
       "      <td>49.0</td>\n",
       "      <td>581.0</td>\n",
       "      <td>21.0</td>\n",
       "      <td>1036.0</td>\n",
       "      <td>1036.0</td>\n",
       "    </tr>\n",
       "  </tbody>\n",
       "</table>\n",
       "<p>5 rows × 26 columns</p>\n",
       "</div>"
      ],
      "text/plain": [
       "       artist_id  nb_tracks  duration  explicit_lyrics  \\\n",
       "13339       2529       16.0    4018.0                1   \n",
       "13340       2529       12.0    3241.0                1   \n",
       "14632        828       10.0    3651.0                0   \n",
       "15217      13461       10.0    2227.0                1   \n",
       "17943       3051        6.0    1343.0                0   \n",
       "\n",
       "       days_since_first_release  total_albums_released  release_year  \\\n",
       "13339                      5841                     22          2019   \n",
       "13340                      5841                     22          2019   \n",
       "14632                     17949                     37          2019   \n",
       "15217                     12338                     49          2019   \n",
       "17943                      5813                     11          2019   \n",
       "\n",
       "       release_month  release_day_of_month  release_day_of_week  ...  \\\n",
       "13339              2                    22                    4  ...   \n",
       "13340              2                    22                    4  ...   \n",
       "14632              2                    22                    4  ...   \n",
       "15217              2                    22                    4  ...   \n",
       "17943              2                    22                    4  ...   \n",
       "\n",
       "       albums_released_in_90_180_days  albums_released_in_180_360_days  \\\n",
       "13339                               0                                0   \n",
       "13340                               0                                0   \n",
       "14632                               0                                0   \n",
       "15217                               0                                0   \n",
       "17943                               0                                0   \n",
       "\n",
       "       albums_released_in_360_720_days  days_since_previous_release  \\\n",
       "13339                                0                         92.0   \n",
       "13340                                0                         92.0   \n",
       "14632                                0                         14.0   \n",
       "15217                                0                         18.0   \n",
       "17943                                0                         21.0   \n",
       "\n",
       "       average_days_to_release_in_last_year  \\\n",
       "13339                                  34.0   \n",
       "13340                                  34.0   \n",
       "14632                                  34.0   \n",
       "15217                                  34.0   \n",
       "17943                                  34.0   \n",
       "\n",
       "       average_days_to_release_in_last_year_for_release_type  \\\n",
       "13339                                               49.0       \n",
       "13340                                               49.0       \n",
       "14632                                               49.0       \n",
       "15217                                               49.0       \n",
       "17943                                               49.0       \n",
       "\n",
       "       average_days_to_release  min_release_frequency  max_release_frequency  \\\n",
       "13339                    278.0                    2.0                 1660.0   \n",
       "13340                    278.0                    2.0                 1660.0   \n",
       "14632                    499.0                    4.0                  712.0   \n",
       "15217                    257.0                    1.0                 1185.0   \n",
       "17943                    581.0                   21.0                 1036.0   \n",
       "\n",
       "       average_release_frequency_for_release_type  \n",
       "13339                                      1660.0  \n",
       "13340                                      1660.0  \n",
       "14632                                       712.0  \n",
       "15217                                      1185.0  \n",
       "17943                                      1036.0  \n",
       "\n",
       "[5 rows x 26 columns]"
      ]
     },
     "execution_count": 18,
     "metadata": {},
     "output_type": "execute_result"
    }
   ],
   "source": [
    "X_test.head()"
   ]
  },
  {
   "cell_type": "markdown",
   "metadata": {},
   "source": [
    "# Baseline (Dummy Regressor)"
   ]
  },
  {
   "cell_type": "code",
   "execution_count": 19,
   "metadata": {},
   "outputs": [],
   "source": [
    "from sklearn.dummy import DummyRegressor"
   ]
  },
  {
   "cell_type": "code",
   "execution_count": 20,
   "metadata": {},
   "outputs": [
    {
     "data": {
      "text/plain": [
       "DummyRegressor(constant=None, quantile=None, strategy='median')"
      ]
     },
     "execution_count": 20,
     "metadata": {},
     "output_type": "execute_result"
    }
   ],
   "source": [
    "model = DummyRegressor(strategy='median')\n",
    "model.fit(X_train, y_train)"
   ]
  },
  {
   "cell_type": "code",
   "execution_count": 21,
   "metadata": {},
   "outputs": [
    {
     "data": {
      "text/plain": [
       "-0.16001441652774573"
      ]
     },
     "execution_count": 21,
     "metadata": {},
     "output_type": "execute_result"
    }
   ],
   "source": [
    "model.score(X_train, y_train)"
   ]
  },
  {
   "cell_type": "code",
   "execution_count": 22,
   "metadata": {},
   "outputs": [
    {
     "data": {
      "text/plain": [
       "-9.284475941157122"
      ]
     },
     "execution_count": 22,
     "metadata": {},
     "output_type": "execute_result"
    }
   ],
   "source": [
    "model.score(X_test, y_test)"
   ]
  },
  {
   "cell_type": "code",
   "execution_count": 23,
   "metadata": {},
   "outputs": [
    {
     "data": {
      "text/plain": [
       "<matplotlib.collections.PathCollection at 0x1105cf090>"
      ]
     },
     "execution_count": 23,
     "metadata": {},
     "output_type": "execute_result"
    },
    {
     "data": {
      "image/png": "[encoded data removed]",
      "text/plain": [
       "<Figure size 432x288 with 1 Axes>"
      ]
     },
     "metadata": {
      "needs_background": "light"
     },
     "output_type": "display_data"
    }
   ],
   "source": [
    "y_test_pred = model.predict(X_test)\n",
    "plt.scatter(y_test, y_test_pred)"
   ]
  },
  {
   "cell_type": "code",
   "execution_count": 24,
   "metadata": {},
   "outputs": [
    {
     "data": {
      "text/plain": [
       "50.63529411764706"
      ]
     },
     "execution_count": 24,
     "metadata": {},
     "output_type": "execute_result"
    }
   ],
   "source": [
    "mean_absolute_error(y_test, y_test_pred)"
   ]
  },
  {
   "cell_type": "code",
   "execution_count": 25,
   "metadata": {},
   "outputs": [
    {
     "data": {
      "text/plain": [
       "DummyRegressor(constant=None, quantile=None, strategy='mean')"
      ]
     },
     "execution_count": 25,
     "metadata": {},
     "output_type": "execute_result"
    }
   ],
   "source": [
    "model = DummyRegressor(strategy='mean')\n",
    "model.fit(X_train, y_train)"
   ]
  },
  {
   "cell_type": "code",
   "execution_count": 26,
   "metadata": {},
   "outputs": [
    {
     "data": {
      "text/plain": [
       "0.0"
      ]
     },
     "execution_count": 26,
     "metadata": {},
     "output_type": "execute_result"
    }
   ],
   "source": [
    "model.score(X_train, y_train)"
   ]
  },
  {
   "cell_type": "code",
   "execution_count": 27,
   "metadata": {},
   "outputs": [
    {
     "data": {
      "text/plain": [
       "-44.917734216073185"
      ]
     },
     "execution_count": 27,
     "metadata": {},
     "output_type": "execute_result"
    }
   ],
   "source": [
    "model.score(X_test, y_test)"
   ]
  },
  {
   "cell_type": "code",
   "execution_count": 28,
   "metadata": {},
   "outputs": [
    {
     "data": {
      "text/plain": [
       "<matplotlib.collections.PathCollection at 0x110a283d0>"
      ]
     },
     "execution_count": 28,
     "metadata": {},
     "output_type": "execute_result"
    },
    {
     "data": {
      "image/png": "[encoded data removed]",
      "text/plain": [
       "<Figure size 432x288 with 1 Axes>"
      ]
     },
     "metadata": {
      "needs_background": "light"
     },
     "output_type": "display_data"
    }
   ],
   "source": [
    "y_test_pred = model.predict(X_test)\n",
    "plt.scatter(y_test, y_test_pred)"
   ]
  },
  {
   "cell_type": "code",
   "execution_count": 29,
   "metadata": {},
   "outputs": [
    {
     "data": {
      "text/plain": [
       "110.86674776716967"
      ]
     },
     "execution_count": 29,
     "metadata": {},
     "output_type": "execute_result"
    }
   ],
   "source": [
    "mean_absolute_error(y_test, y_test_pred)"
   ]
  },
  {
   "cell_type": "markdown",
   "metadata": {},
   "source": [
    "# Feature scaling"
   ]
  },
  {
   "cell_type": "code",
   "execution_count": 30,
   "metadata": {},
   "outputs": [],
   "source": [
    "from sklearn.preprocessing import StandardScaler"
   ]
  },
  {
   "cell_type": "code",
   "execution_count": 31,
   "metadata": {},
   "outputs": [
    {
     "name": "stderr",
     "output_type": "stream",
     "text": [
      "/usr/local/lib/python2.7/site-packages/sklearn/preprocessing/data.py:645: DataConversionWarning: Data with input dtype int64, float64 were all converted to float64 by StandardScaler.\n",
      "  return self.partial_fit(X, y)\n"
     ]
    },
    {
     "data": {
      "text/plain": [
       "StandardScaler(copy=True, with_mean=True, with_std=True)"
      ]
     },
     "execution_count": 31,
     "metadata": {},
     "output_type": "execute_result"
    }
   ],
   "source": [
    "scaler = StandardScaler()\n",
    "scaler.fit(X_train)"
   ]
  },
  {
   "cell_type": "code",
   "execution_count": 32,
   "metadata": {},
   "outputs": [
    {
     "name": "stderr",
     "output_type": "stream",
     "text": [
      "/usr/local/lib/python2.7/site-packages/ipykernel_launcher.py:1: DataConversionWarning: Data with input dtype int64, float64 were all converted to float64 by StandardScaler.\n",
      "  \"\"\"Entry point for launching an IPython kernel.\n",
      "/usr/local/lib/python2.7/site-packages/ipykernel_launcher.py:3: DataConversionWarning: Data with input dtype int64, float64 were all converted to float64 by StandardScaler.\n",
      "  This is separate from the ipykernel package so we can avoid doing imports until\n"
     ]
    }
   ],
   "source": [
    "X_train = scaler.transform(X_train)\n",
    "# X_cv = scaler.transform(X_cv)\n",
    "X_test = scaler.transform(X_test)"
   ]
  },
  {
   "cell_type": "code",
   "execution_count": 33,
   "metadata": {},
   "outputs": [
    {
     "data": {
      "text/plain": [
       "(3820, 26)"
      ]
     },
     "execution_count": 33,
     "metadata": {},
     "output_type": "execute_result"
    }
   ],
   "source": [
    "X_train.shape"
   ]
  },
  {
   "cell_type": "markdown",
   "metadata": {},
   "source": [
    "# PCA"
   ]
  },
  {
   "cell_type": "code",
   "execution_count": 34,
   "metadata": {},
   "outputs": [],
   "source": [
    "from sklearn.decomposition import PCA"
   ]
  },
  {
   "cell_type": "code",
   "execution_count": 35,
   "metadata": {},
   "outputs": [
    {
     "data": {
      "text/plain": [
       "PCA(copy=True, iterated_power='auto', n_components=0.99, random_state=1000,\n",
       "  svd_solver='full', tol=0.0, whiten=False)"
      ]
     },
     "execution_count": 35,
     "metadata": {},
     "output_type": "execute_result"
    }
   ],
   "source": [
    "pca = PCA(\n",
    "    n_components=0.99,\n",
    "    svd_solver='full',\n",
    "    random_state=1000\n",
    ")\n",
    "pca.fit(X_train)"
   ]
  },
  {
   "cell_type": "code",
   "execution_count": 36,
   "metadata": {},
   "outputs": [],
   "source": [
    "# X_train = pca.transform(X_train)\n",
    "# # X_cv = pca.transform(X_cv)\n",
    "# X_test = pca.transform(X_test)"
   ]
  },
  {
   "cell_type": "code",
   "execution_count": 37,
   "metadata": {},
   "outputs": [
    {
     "data": {
      "text/plain": [
       "(3820, 26)"
      ]
     },
     "execution_count": 37,
     "metadata": {},
     "output_type": "execute_result"
    }
   ],
   "source": [
    "X_train.shape"
   ]
  },
  {
   "cell_type": "markdown",
   "metadata": {},
   "source": [
    "# Feature selection"
   ]
  },
  {
   "cell_type": "code",
   "execution_count": 38,
   "metadata": {},
   "outputs": [],
   "source": [
    "from sklearn.feature_selection import RFE\n",
    "from sklearn.ensemble import RandomForestRegressor"
   ]
  },
  {
   "cell_type": "code",
   "execution_count": 39,
   "metadata": {},
   "outputs": [
    {
     "name": "stderr",
     "output_type": "stream",
     "text": [
      "/usr/local/lib/python2.7/site-packages/sklearn/ensemble/forest.py:246: FutureWarning: The default value of n_estimators will change from 10 in version 0.20 to 100 in 0.22.\n",
      "  \"10 in version 0.20 to 100 in 0.22.\", FutureWarning)\n"
     ]
    }
   ],
   "source": [
    "estimator = RandomForestRegressor(random_state=1000, n_jobs=-1)\n",
    "selector = RFE(estimator, 10, step=1)\n",
    "selector = selector.fit(X_train, y_train)"
   ]
  },
  {
   "cell_type": "code",
   "execution_count": 40,
   "metadata": {},
   "outputs": [
    {
     "data": {
      "text/plain": [
       "array([ True, False,  True, False,  True,  True, False, False,  True,\n",
       "       False, False, False, False, False, False, False, False, False,\n",
       "       False,  True,  True, False,  True,  True,  True, False])"
      ]
     },
     "execution_count": 40,
     "metadata": {},
     "output_type": "execute_result"
    }
   ],
   "source": [
    "selector.support_"
   ]
  },
  {
   "cell_type": "code",
   "execution_count": 41,
   "metadata": {},
   "outputs": [],
   "source": [
    "# X_train = selector.transform(X_train)\n",
    "# # X_cv = selector.transform(X_cv)\n",
    "# X_test = selector.transform(X_test)"
   ]
  },
  {
   "cell_type": "code",
   "execution_count": 42,
   "metadata": {},
   "outputs": [
    {
     "data": {
      "text/plain": [
       "(3820, 26)"
      ]
     },
     "execution_count": 42,
     "metadata": {},
     "output_type": "execute_result"
    }
   ],
   "source": [
    "X_train.shape"
   ]
  },
  {
   "cell_type": "markdown",
   "metadata": {},
   "source": [
    "# Linear regression"
   ]
  },
  {
   "cell_type": "code",
   "execution_count": 168,
   "metadata": {},
   "outputs": [],
   "source": [
    "from sklearn.linear_model import LinearRegression"
   ]
  },
  {
   "cell_type": "code",
   "execution_count": 169,
   "metadata": {},
   "outputs": [
    {
     "data": {
      "text/plain": [
       "LinearRegression(copy_X=True, fit_intercept=True, n_jobs=-1, normalize=False)"
      ]
     },
     "execution_count": 169,
     "metadata": {},
     "output_type": "execute_result"
    }
   ],
   "source": [
    "linear_model = LinearRegression(\n",
    "    n_jobs=-1\n",
    ")\n",
    "linear_model.fit(X_train, y_train)"
   ]
  },
  {
   "cell_type": "code",
   "execution_count": 170,
   "metadata": {},
   "outputs": [
    {
     "data": {
      "text/plain": [
       "0.1619359098917169"
      ]
     },
     "execution_count": 170,
     "metadata": {},
     "output_type": "execute_result"
    }
   ],
   "source": [
    "linear_model.score(X_train, y_train)"
   ]
  },
  {
   "cell_type": "code",
   "execution_count": 171,
   "metadata": {},
   "outputs": [
    {
     "data": {
      "text/plain": [
       "-3.936427171764982"
      ]
     },
     "execution_count": 171,
     "metadata": {},
     "output_type": "execute_result"
    }
   ],
   "source": [
    "linear_model.score(X_test, y_test)"
   ]
  },
  {
   "cell_type": "code",
   "execution_count": 177,
   "metadata": {},
   "outputs": [
    {
     "name": "stdout",
     "output_type": "stream",
     "text": [
      "('days_since_first_release', 11.36624390333956)\n",
      "('total_albums_released', -29.73175031296589)\n",
      "('release_year', -28.982548438879405)\n",
      "('release_month', -9.861151685637942)\n",
      "('release_day_of_week', 15.533096017660647)\n",
      "('days_since_previous_release', 15.77838139323399)\n",
      "('average_days_to_release_in_last_year', 15.58443796718891)\n"
     ]
    }
   ],
   "source": [
    "for i, x in enumerate(linear_model.coef_):\n",
    "    if x > 5 or x < -5:\n",
    "        print(columns[i], float(x))"
   ]
  },
  {
   "cell_type": "code",
   "execution_count": 178,
   "metadata": {},
   "outputs": [
    {
     "data": {
      "text/plain": [
       "<matplotlib.collections.PathCollection at 0x114a25b50>"
      ]
     },
     "execution_count": 178,
     "metadata": {},
     "output_type": "execute_result"
    },
    {
     "data": {
      "image/png": "[encoded data removed]",
      "text/plain": [
       "<Figure size 432x288 with 1 Axes>"
      ]
     },
     "metadata": {
      "needs_background": "light"
     },
     "output_type": "display_data"
    }
   ],
   "source": [
    "linear_y_test_pred = linear_model.predict(X_test)\n",
    "plt.scatter(y_test, linear_y_test_pred)"
   ]
  },
  {
   "cell_type": "code",
   "execution_count": 179,
   "metadata": {},
   "outputs": [
    {
     "data": {
      "text/plain": [
       "30.084324920997457"
      ]
     },
     "execution_count": 179,
     "metadata": {},
     "output_type": "execute_result"
    }
   ],
   "source": [
    "mean_absolute_error(y_test, linear_y_test_pred)"
   ]
  },
  {
   "cell_type": "code",
   "execution_count": 180,
   "metadata": {},
   "outputs": [
    {
     "data": {
      "text/plain": [
       "<matplotlib.collections.PathCollection at 0x114af2f90>"
      ]
     },
     "execution_count": 180,
     "metadata": {},
     "output_type": "execute_result"
    },
    {
     "data": {
      "image/png": "[encoded data removed]",
      "text/plain": [
       "<Figure size 432x288 with 1 Axes>"
      ]
     },
     "metadata": {
      "needs_background": "light"
     },
     "output_type": "display_data"
    }
   ],
   "source": [
    "plt.scatter(y_test, np.abs(linear_y_test_pred))"
   ]
  },
  {
   "cell_type": "code",
   "execution_count": 181,
   "metadata": {},
   "outputs": [
    {
     "data": {
      "text/plain": [
       "22.849449860112397"
      ]
     },
     "execution_count": 181,
     "metadata": {},
     "output_type": "execute_result"
    }
   ],
   "source": [
    "mean_absolute_error(y_test, np.abs(linear_y_test_pred))"
   ]
  },
  {
   "cell_type": "markdown",
   "metadata": {},
   "source": [
    "# KNN regression"
   ]
  },
  {
   "cell_type": "code",
   "execution_count": 104,
   "metadata": {},
   "outputs": [],
   "source": [
    "from sklearn.neighbors import KNeighborsRegressor"
   ]
  },
  {
   "cell_type": "code",
   "execution_count": 242,
   "metadata": {},
   "outputs": [
    {
     "data": {
      "text/plain": [
       "{'n_neighbors': 100, 'p': 1}"
      ]
     },
     "execution_count": 242,
     "metadata": {},
     "output_type": "execute_result"
    }
   ],
   "source": [
    "n_neighbors = [1, 2, 3, 4, 5, 10, 15, 25, 50, 100]\n",
    "param_grid = {\n",
    "    'n_neighbors': n_neighbors,\n",
    "    'p': [1, 2],\n",
    "}\n",
    "\n",
    "cv = TimeSeriesSplit(n_splits=3)\n",
    "cv = TimeSeriesSplit(n_splits=5).split(X_train)\n",
    "\n",
    "hyperparameters_search = GridSearchCV(\n",
    "    KNeighborsRegressor(),\n",
    "    param_grid,\n",
    "    cv=cv,\n",
    "    n_jobs=-1\n",
    ")\n",
    "hyperparameters_search.fit(X_train, y_train)\n",
    "hyperparameters_search.best_params_\n",
    "\n",
    "# model = KNeighborsRegressor(\n",
    "#     n_jobs=-1\n",
    "# )\n",
    "# model.fit(X_train, y_train)"
   ]
  },
  {
   "cell_type": "code",
   "execution_count": 243,
   "metadata": {},
   "outputs": [
    {
     "data": {
      "text/plain": [
       "-0.17343898971962277"
      ]
     },
     "execution_count": 243,
     "metadata": {},
     "output_type": "execute_result"
    }
   ],
   "source": [
    "hyperparameters_search.best_score_"
   ]
  },
  {
   "cell_type": "code",
   "execution_count": 244,
   "metadata": {},
   "outputs": [
    {
     "data": {
      "text/plain": [
       "KNeighborsRegressor(algorithm='auto', leaf_size=30, metric='minkowski',\n",
       "          metric_params=None, n_jobs=None, n_neighbors=100, p=1,\n",
       "          weights='uniform')"
      ]
     },
     "execution_count": 244,
     "metadata": {},
     "output_type": "execute_result"
    }
   ],
   "source": [
    "model = hyperparameters_search.best_estimator_\n",
    "model"
   ]
  },
  {
   "cell_type": "code",
   "execution_count": 245,
   "metadata": {},
   "outputs": [
    {
     "data": {
      "text/plain": [
       "0.2169858923753888"
      ]
     },
     "execution_count": 245,
     "metadata": {},
     "output_type": "execute_result"
    }
   ],
   "source": [
    "model.score(X_train, y_train)"
   ]
  },
  {
   "cell_type": "code",
   "execution_count": 246,
   "metadata": {},
   "outputs": [
    {
     "data": {
      "text/plain": [
       "-2.66701853949079"
      ]
     },
     "execution_count": 246,
     "metadata": {},
     "output_type": "execute_result"
    }
   ],
   "source": [
    "model.score(X_test, y_test)"
   ]
  },
  {
   "cell_type": "code",
   "execution_count": 247,
   "metadata": {},
   "outputs": [
    {
     "data": {
      "text/plain": [
       "<matplotlib.collections.PathCollection at 0x115021ad0>"
      ]
     },
     "execution_count": 247,
     "metadata": {},
     "output_type": "execute_result"
    },
    {
     "data": {
      "image/png": "[encoded data removed]",
      "text/plain": [
       "<Figure size 432x288 with 1 Axes>"
      ]
     },
     "metadata": {
      "needs_background": "light"
     },
     "output_type": "display_data"
    }
   ],
   "source": [
    "knn_y_test_pred = model.predict(X_test)\n",
    "plt.scatter(y_test, knn_y_test_pred)"
   ]
  },
  {
   "cell_type": "code",
   "execution_count": 248,
   "metadata": {},
   "outputs": [
    {
     "data": {
      "text/plain": [
       "28.629694117647055"
      ]
     },
     "execution_count": 248,
     "metadata": {},
     "output_type": "execute_result"
    }
   ],
   "source": [
    "mean_absolute_error(y_test, knn_y_test_pred)"
   ]
  },
  {
   "cell_type": "code",
   "execution_count": 249,
   "metadata": {},
   "outputs": [
    {
     "data": {
      "text/plain": [
       "28.629694117647055"
      ]
     },
     "execution_count": 249,
     "metadata": {},
     "output_type": "execute_result"
    }
   ],
   "source": [
    "mean_absolute_error(y_test, np.abs(knn_y_test_pred))"
   ]
  },
  {
   "cell_type": "markdown",
   "metadata": {},
   "source": [
    "# SVR"
   ]
  },
  {
   "cell_type": "code",
   "execution_count": 43,
   "metadata": {},
   "outputs": [],
   "source": [
    "from sklearn.svm import SVR"
   ]
  },
  {
   "cell_type": "code",
   "execution_count": 44,
   "metadata": {},
   "outputs": [
    {
     "data": {
      "text/plain": [
       "GridSearchCV(cv=<generator object split at 0x110a9c410>,\n",
       "       error_score='raise-deprecating',\n",
       "       estimator=SVR(C=1.0, cache_size=200, coef0=0.0, degree=3, epsilon=0.1,\n",
       "  gamma='auto_deprecated', kernel='rbf', max_iter=-1, shrinking=True,\n",
       "  tol=0.001, verbose=False),\n",
       "       fit_params=None, iid='warn', n_jobs=-1,\n",
       "       param_grid={'C': [0.001, 0.01, 0.1, 1, 10, 100], 'max_iter': [100, 1000, 5000, 10000, 20000, 50000, 100000], 'gamma': [0.001, 0.01, 0.1, 1]},\n",
       "       pre_dispatch='2*n_jobs', refit=True, return_train_score='warn',\n",
       "       scoring=None, verbose=0)"
      ]
     },
     "execution_count": 44,
     "metadata": {},
     "output_type": "execute_result"
    }
   ],
   "source": [
    "max_iters = [100, 1000, 5000, 10000, 20000, 50000, 100000]\n",
    "kernels = ['linear', 'poly', 'rbf', 'sigmoid']\n",
    "Cs = [0.001, 0.01, 0.1, 1, 10, 100]\n",
    "gammas = [0.001, 0.01, 0.1, 1]\n",
    "param_grid = {\n",
    "    'max_iter': max_iters,\n",
    "#     'kernel': kernels,\n",
    "    'C': Cs,\n",
    "    'gamma': gammas,\n",
    "}\n",
    "\n",
    "cv = TimeSeriesSplit(n_splits=3).split(X_train)\n",
    "# my_cv = TimeSeriesSplit(n_splits=2)\n",
    "\n",
    "hyperparameters_search = GridSearchCV(\n",
    "    SVR(),\n",
    "    param_grid,\n",
    "    cv=cv,\n",
    "    n_jobs=-1\n",
    ")\n",
    "hyperparameters_search.fit(X_train, y_train)\n",
    "# hyperparameters_search.best_params_"
   ]
  },
  {
   "cell_type": "code",
   "execution_count": 45,
   "metadata": {},
   "outputs": [
    {
     "data": {
      "text/plain": [
       "-0.050524388954684064"
      ]
     },
     "execution_count": 45,
     "metadata": {},
     "output_type": "execute_result"
    }
   ],
   "source": [
    "hyperparameters_search.best_score_"
   ]
  },
  {
   "cell_type": "code",
   "execution_count": 46,
   "metadata": {},
   "outputs": [
    {
     "data": {
      "text/plain": [
       "SVR(C=10, cache_size=200, coef0=0.0, degree=3, epsilon=0.1, gamma=0.01,\n",
       "  kernel='rbf', max_iter=5000, shrinking=True, tol=0.001, verbose=False)"
      ]
     },
     "execution_count": 46,
     "metadata": {},
     "output_type": "execute_result"
    }
   ],
   "source": [
    "model = hyperparameters_search.best_estimator_\n",
    "model"
   ]
  },
  {
   "cell_type": "code",
   "execution_count": 47,
   "metadata": {},
   "outputs": [
    {
     "data": {
      "text/plain": [
       "0.04735902635406275"
      ]
     },
     "execution_count": 47,
     "metadata": {},
     "output_type": "execute_result"
    }
   ],
   "source": [
    "model.score(X_train, y_train)"
   ]
  },
  {
   "cell_type": "code",
   "execution_count": 52,
   "metadata": {},
   "outputs": [
    {
     "data": {
      "text/plain": [
       "93.88964423851021"
      ]
     },
     "execution_count": 52,
     "metadata": {},
     "output_type": "execute_result"
    }
   ],
   "source": [
    "mean_absolute_error(y_train, np.abs(model.predict(X_train)))"
   ]
  },
  {
   "cell_type": "code",
   "execution_count": 48,
   "metadata": {},
   "outputs": [],
   "source": [
    "# model.score(X_cv, y_cv)"
   ]
  },
  {
   "cell_type": "code",
   "execution_count": 49,
   "metadata": {},
   "outputs": [
    {
     "data": {
      "text/plain": [
       "-0.4490841214930126"
      ]
     },
     "execution_count": 49,
     "metadata": {},
     "output_type": "execute_result"
    }
   ],
   "source": [
    "model.score(X_test, y_test)"
   ]
  },
  {
   "cell_type": "code",
   "execution_count": 50,
   "metadata": {},
   "outputs": [
    {
     "data": {
      "text/plain": [
       "<matplotlib.collections.PathCollection at 0x10fd8de10>"
      ]
     },
     "execution_count": 50,
     "metadata": {},
     "output_type": "execute_result"
    },
    {
     "data": {
      "image/png": "[encoded data removed]",
      "text/plain": [
       "<Figure size 432x288 with 1 Axes>"
      ]
     },
     "metadata": {
      "needs_background": "light"
     },
     "output_type": "display_data"
    }
   ],
   "source": [
    "svr_y_test_pred = model.predict(X_test)\n",
    "plt.scatter(y_test, svr_y_test_pred)"
   ]
  },
  {
   "cell_type": "code",
   "execution_count": 51,
   "metadata": {},
   "outputs": [
    {
     "data": {
      "text/plain": [
       "15.030642935329901"
      ]
     },
     "execution_count": 51,
     "metadata": {},
     "output_type": "execute_result"
    }
   ],
   "source": [
    "mean_absolute_error(y_test, svr_y_test_pred)"
   ]
  },
  {
   "cell_type": "code",
   "execution_count": null,
   "metadata": {},
   "outputs": [],
   "source": []
  },
  {
   "cell_type": "code",
   "execution_count": 122,
   "metadata": {},
   "outputs": [
    {
     "data": {
      "text/plain": [
       "14.967600137859536"
      ]
     },
     "execution_count": 122,
     "metadata": {},
     "output_type": "execute_result"
    }
   ],
   "source": [
    "mean_absolute_error(y_test, np.abs(svr_y_test_pred))"
   ]
  },
  {
   "cell_type": "markdown",
   "metadata": {},
   "source": [
    "# SVR"
   ]
  },
  {
   "cell_type": "code",
   "execution_count": 182,
   "metadata": {},
   "outputs": [],
   "source": [
    "from sklearn.svm import SVR"
   ]
  },
  {
   "cell_type": "code",
   "execution_count": 183,
   "metadata": {},
   "outputs": [
    {
     "name": "stderr",
     "output_type": "stream",
     "text": [
      "/usr/local/lib/python2.7/site-packages/sklearn/svm/base.py:244: ConvergenceWarning: Solver terminated early (max_iter=1000).  Consider pre-processing your data with StandardScaler or MinMaxScaler.\n",
      "  % self.max_iter, ConvergenceWarning)\n"
     ]
    },
    {
     "data": {
      "text/plain": [
       "GridSearchCV(cv=<generator object split at 0x114992050>,\n",
       "       error_score='raise-deprecating',\n",
       "       estimator=SVR(C=1.0, cache_size=200, coef0=0.0, degree=3, epsilon=0.1,\n",
       "  gamma='auto_deprecated', kernel='rbf', max_iter=-1, shrinking=True,\n",
       "  tol=0.001, verbose=False),\n",
       "       fit_params=None, iid='warn', n_jobs=-1,\n",
       "       param_grid={'kernel': ['poly'], 'C': [0.001, 0.01, 0.1, 1, 10, 100], 'max_iter': [100, 1000, 5000, 10000, 20000, 50000, 100000], 'gamma': [0.001, 0.01, 0.1, 1], 'degree': [2, 3, 4]},\n",
       "       pre_dispatch='2*n_jobs', refit=True, return_train_score='warn',\n",
       "       scoring=None, verbose=0)"
      ]
     },
     "execution_count": 183,
     "metadata": {},
     "output_type": "execute_result"
    }
   ],
   "source": [
    "max_iters = [100, 1000, 5000, 10000, 20000, 50000, 100000]\n",
    "kernels = ['linear', 'poly', 'rbf', 'sigmoid']\n",
    "Cs = [0.001, 0.01, 0.1, 1, 10, 100]\n",
    "gammas = [0.001, 0.01, 0.1, 1]\n",
    "param_grid = {\n",
    "    'max_iter': max_iters,\n",
    "    'kernel': ['poly'],\n",
    "    'degree': [2, 3, 4],\n",
    "    'C': Cs,\n",
    "    'gamma': gammas,\n",
    "}\n",
    "\n",
    "cv = TimeSeriesSplit(n_splits=3).split(X_train)\n",
    "# my_cv = TimeSeriesSplit(n_splits=2)\n",
    "\n",
    "hyperparameters_search = GridSearchCV(\n",
    "    SVR(),\n",
    "    param_grid,\n",
    "    cv=cv,\n",
    "    n_jobs=-1\n",
    ")\n",
    "hyperparameters_search.fit(X_train, y_train)\n",
    "# hyperparameters_search.best_params_"
   ]
  },
  {
   "cell_type": "code",
   "execution_count": 184,
   "metadata": {},
   "outputs": [
    {
     "data": {
      "text/plain": [
       "-0.11934096906722685"
      ]
     },
     "execution_count": 184,
     "metadata": {},
     "output_type": "execute_result"
    }
   ],
   "source": [
    "hyperparameters_search.best_score_"
   ]
  },
  {
   "cell_type": "code",
   "execution_count": 185,
   "metadata": {},
   "outputs": [
    {
     "data": {
      "text/plain": [
       "SVR(C=0.001, cache_size=200, coef0=0.0, degree=2, epsilon=0.1, gamma=0.001,\n",
       "  kernel='poly', max_iter=1000, shrinking=True, tol=0.001, verbose=False)"
      ]
     },
     "execution_count": 185,
     "metadata": {},
     "output_type": "execute_result"
    }
   ],
   "source": [
    "model = hyperparameters_search.best_estimator_\n",
    "model"
   ]
  },
  {
   "cell_type": "code",
   "execution_count": 186,
   "metadata": {},
   "outputs": [
    {
     "data": {
      "text/plain": [
       "-0.07707381891052334"
      ]
     },
     "execution_count": 186,
     "metadata": {},
     "output_type": "execute_result"
    }
   ],
   "source": [
    "model.score(X_train, y_train)"
   ]
  },
  {
   "cell_type": "code",
   "execution_count": 187,
   "metadata": {},
   "outputs": [],
   "source": [
    "# model.score(X_cv, y_cv)"
   ]
  },
  {
   "cell_type": "code",
   "execution_count": 188,
   "metadata": {},
   "outputs": [
    {
     "data": {
      "text/plain": [
       "-17.350535756392482"
      ]
     },
     "execution_count": 188,
     "metadata": {},
     "output_type": "execute_result"
    }
   ],
   "source": [
    "model.score(X_test, y_test)"
   ]
  },
  {
   "cell_type": "code",
   "execution_count": 189,
   "metadata": {},
   "outputs": [
    {
     "data": {
      "text/plain": [
       "<matplotlib.collections.PathCollection at 0x11403f110>"
      ]
     },
     "execution_count": 189,
     "metadata": {},
     "output_type": "execute_result"
    },
    {
     "data": {
      "image/png": "[encoded data removed]",
      "text/plain": [
       "<Figure size 432x288 with 1 Axes>"
      ]
     },
     "metadata": {
      "needs_background": "light"
     },
     "output_type": "display_data"
    }
   ],
   "source": [
    "svr_y_test_pred = model.predict(X_test)\n",
    "plt.scatter(y_test, svr_y_test_pred)"
   ]
  },
  {
   "cell_type": "code",
   "execution_count": 190,
   "metadata": {},
   "outputs": [
    {
     "data": {
      "text/plain": [
       "68.90469754038116"
      ]
     },
     "execution_count": 190,
     "metadata": {},
     "output_type": "execute_result"
    }
   ],
   "source": [
    "mean_absolute_error(y_test, svr_y_test_pred)"
   ]
  },
  {
   "cell_type": "code",
   "execution_count": 191,
   "metadata": {},
   "outputs": [
    {
     "data": {
      "text/plain": [
       "68.90469754038116"
      ]
     },
     "execution_count": 191,
     "metadata": {},
     "output_type": "execute_result"
    }
   ],
   "source": [
    "mean_absolute_error(y_test, np.abs(svr_y_test_pred))"
   ]
  },
  {
   "cell_type": "markdown",
   "metadata": {},
   "source": [
    "# SVR"
   ]
  },
  {
   "cell_type": "code",
   "execution_count": 192,
   "metadata": {},
   "outputs": [],
   "source": [
    "from sklearn.svm import SVR"
   ]
  },
  {
   "cell_type": "code",
   "execution_count": 195,
   "metadata": {},
   "outputs": [
    {
     "data": {
      "text/plain": [
       "GridSearchCV(cv=<generator object split at 0x1142527d0>,\n",
       "       error_score='raise-deprecating',\n",
       "       estimator=SVR(C=1.0, cache_size=200, coef0=0.0, degree=3, epsilon=0.1,\n",
       "  gamma='auto_deprecated', kernel='rbf', max_iter=-1, shrinking=True,\n",
       "  tol=0.001, verbose=False),\n",
       "       fit_params=None, iid='warn', n_jobs=-1,\n",
       "       param_grid={'kernel': ['linear'], 'C': [0.001, 0.01, 0.1, 1, 10, 100], 'max_iter': [100, 1000, 5000, 10000, 20000, 50000, 100000], 'gamma': [0.001, 0.01, 0.1, 1]},\n",
       "       pre_dispatch='2*n_jobs', refit=True, return_train_score='warn',\n",
       "       scoring=None, verbose=0)"
      ]
     },
     "execution_count": 195,
     "metadata": {},
     "output_type": "execute_result"
    }
   ],
   "source": [
    "max_iters = [100, 1000, 5000, 10000, 20000, 50000, 100000]\n",
    "kernels = ['linear', 'poly', 'rbf', 'sigmoid']\n",
    "Cs = [0.001, 0.01, 0.1, 1, 10, 100]\n",
    "gammas = [0.001, 0.01, 0.1, 1]\n",
    "param_grid = {\n",
    "    'max_iter': max_iters,\n",
    "    'kernel': ['linear'],\n",
    "    'C': Cs,\n",
    "    'gamma': gammas,\n",
    "}\n",
    "\n",
    "cv = TimeSeriesSplit(n_splits=3).split(X_train)\n",
    "# my_cv = TimeSeriesSplit(n_splits=2)\n",
    "\n",
    "hyperparameters_search = GridSearchCV(\n",
    "    SVR(),\n",
    "    param_grid,\n",
    "    cv=cv,\n",
    "    n_jobs=-1\n",
    ")\n",
    "hyperparameters_search.fit(X_train, y_train)\n",
    "# hyperparameters_search.best_params_"
   ]
  },
  {
   "cell_type": "code",
   "execution_count": 196,
   "metadata": {},
   "outputs": [
    {
     "data": {
      "text/plain": [
       "-0.07162275649111495"
      ]
     },
     "execution_count": 196,
     "metadata": {},
     "output_type": "execute_result"
    }
   ],
   "source": [
    "hyperparameters_search.best_score_"
   ]
  },
  {
   "cell_type": "code",
   "execution_count": 197,
   "metadata": {},
   "outputs": [
    {
     "data": {
      "text/plain": [
       "SVR(C=0.01, cache_size=200, coef0=0.0, degree=3, epsilon=0.1, gamma=0.001,\n",
       "  kernel='linear', max_iter=5000, shrinking=True, tol=0.001, verbose=False)"
      ]
     },
     "execution_count": 197,
     "metadata": {},
     "output_type": "execute_result"
    }
   ],
   "source": [
    "model = hyperparameters_search.best_estimator_\n",
    "model"
   ]
  },
  {
   "cell_type": "code",
   "execution_count": 198,
   "metadata": {},
   "outputs": [],
   "source": [
    "linear_svc_model = model"
   ]
  },
  {
   "cell_type": "code",
   "execution_count": 199,
   "metadata": {},
   "outputs": [
    {
     "name": "stdout",
     "output_type": "stream",
     "text": [
      "('total_albums_released', -4.934167818961722)\n",
      "('release_year', -3.85150826833738)\n",
      "('release_day_of_week', 2.76132557323769)\n",
      "('days_since_previous_release', 3.909984647426672)\n",
      "('average_days_to_release_in_last_year', 3.350135774819728)\n",
      "('average_days_to_release_in_last_year_for_release_type', 3.6141824860301592)\n",
      "('average_days_to_release', 2.619910206938125)\n"
     ]
    }
   ],
   "source": [
    "for i, x in enumerate(linear_svc_model.coef_[0]):\n",
    "    if x > 2 or x < -2:\n",
    "        print(columns[i], x)"
   ]
  },
  {
   "cell_type": "code",
   "execution_count": 200,
   "metadata": {},
   "outputs": [
    {
     "data": {
      "text/plain": [
       "-0.0700881866232268"
      ]
     },
     "execution_count": 200,
     "metadata": {},
     "output_type": "execute_result"
    }
   ],
   "source": [
    "model.score(X_train, y_train)"
   ]
  },
  {
   "cell_type": "code",
   "execution_count": 201,
   "metadata": {},
   "outputs": [],
   "source": [
    "# model.score(X_cv, y_cv)"
   ]
  },
  {
   "cell_type": "code",
   "execution_count": 202,
   "metadata": {},
   "outputs": [
    {
     "data": {
      "text/plain": [
       "-1.7418191130186278"
      ]
     },
     "execution_count": 202,
     "metadata": {},
     "output_type": "execute_result"
    }
   ],
   "source": [
    "model.score(X_test, y_test)"
   ]
  },
  {
   "cell_type": "code",
   "execution_count": 203,
   "metadata": {},
   "outputs": [
    {
     "data": {
      "text/plain": [
       "<matplotlib.collections.PathCollection at 0x1144db4d0>"
      ]
     },
     "execution_count": 203,
     "metadata": {},
     "output_type": "execute_result"
    },
    {
     "data": {
      "image/png": "[encoded data removed]",
      "text/plain": [
       "<Figure size 432x288 with 1 Axes>"
      ]
     },
     "metadata": {
      "needs_background": "light"
     },
     "output_type": "display_data"
    }
   ],
   "source": [
    "svr_y_test_pred = model.predict(X_test)\n",
    "plt.scatter(y_test, svr_y_test_pred)"
   ]
  },
  {
   "cell_type": "code",
   "execution_count": 204,
   "metadata": {},
   "outputs": [
    {
     "data": {
      "text/plain": [
       "24.40613134765691"
      ]
     },
     "execution_count": 204,
     "metadata": {},
     "output_type": "execute_result"
    }
   ],
   "source": [
    "mean_absolute_error(y_test, svr_y_test_pred)"
   ]
  },
  {
   "cell_type": "code",
   "execution_count": 205,
   "metadata": {},
   "outputs": [
    {
     "data": {
      "text/plain": [
       "24.40613134765691"
      ]
     },
     "execution_count": 205,
     "metadata": {},
     "output_type": "execute_result"
    }
   ],
   "source": [
    "mean_absolute_error(y_test, np.abs(svr_y_test_pred))"
   ]
  },
  {
   "cell_type": "markdown",
   "metadata": {},
   "source": [
    "# SVR"
   ]
  },
  {
   "cell_type": "code",
   "execution_count": 206,
   "metadata": {},
   "outputs": [],
   "source": [
    "from sklearn.svm import SVR"
   ]
  },
  {
   "cell_type": "code",
   "execution_count": 207,
   "metadata": {},
   "outputs": [
    {
     "data": {
      "text/plain": [
       "GridSearchCV(cv=<generator object split at 0x1139e1b40>,\n",
       "       error_score='raise-deprecating',\n",
       "       estimator=SVR(C=1.0, cache_size=200, coef0=0.0, degree=3, epsilon=0.1,\n",
       "  gamma='auto_deprecated', kernel='rbf', max_iter=-1, shrinking=True,\n",
       "  tol=0.001, verbose=False),\n",
       "       fit_params=None, iid='warn', n_jobs=-1,\n",
       "       param_grid={'kernel': ['sigmoid'], 'C': [0.001, 0.01, 0.1, 1, 10, 100], 'max_iter': [100, 1000, 5000, 10000, 20000, 50000, 100000], 'gamma': [0.001, 0.01, 0.1, 1]},\n",
       "       pre_dispatch='2*n_jobs', refit=True, return_train_score='warn',\n",
       "       scoring=None, verbose=0)"
      ]
     },
     "execution_count": 207,
     "metadata": {},
     "output_type": "execute_result"
    }
   ],
   "source": [
    "max_iters = [100, 1000, 5000, 10000, 20000, 50000, 100000]\n",
    "kernels = ['linear', 'poly', 'rbf', 'sigmoid']\n",
    "Cs = [0.001, 0.01, 0.1, 1, 10, 100]\n",
    "gammas = [0.001, 0.01, 0.1, 1]\n",
    "param_grid = {\n",
    "    'max_iter': max_iters,\n",
    "    'kernel': ['sigmoid'],\n",
    "    'C': Cs,\n",
    "    'gamma': gammas,\n",
    "}\n",
    "\n",
    "cv = TimeSeriesSplit(n_splits=3).split(X_train)\n",
    "# my_cv = TimeSeriesSplit(n_splits=2)\n",
    "\n",
    "hyperparameters_search = GridSearchCV(\n",
    "    SVR(),\n",
    "    param_grid,\n",
    "    cv=cv,\n",
    "    n_jobs=-1\n",
    ")\n",
    "hyperparameters_search.fit(X_train, y_train)\n",
    "# hyperparameters_search.best_params_"
   ]
  },
  {
   "cell_type": "code",
   "execution_count": 208,
   "metadata": {},
   "outputs": [
    {
     "data": {
      "text/plain": [
       "-0.0413111987641992"
      ]
     },
     "execution_count": 208,
     "metadata": {},
     "output_type": "execute_result"
    }
   ],
   "source": [
    "hyperparameters_search.best_score_"
   ]
  },
  {
   "cell_type": "code",
   "execution_count": 209,
   "metadata": {},
   "outputs": [
    {
     "data": {
      "text/plain": [
       "SVR(C=1, cache_size=200, coef0=0.0, degree=3, epsilon=0.1, gamma=0.1,\n",
       "  kernel='sigmoid', max_iter=1000, shrinking=True, tol=0.001,\n",
       "  verbose=False)"
      ]
     },
     "execution_count": 209,
     "metadata": {},
     "output_type": "execute_result"
    }
   ],
   "source": [
    "model = hyperparameters_search.best_estimator_\n",
    "model"
   ]
  },
  {
   "cell_type": "code",
   "execution_count": 210,
   "metadata": {},
   "outputs": [
    {
     "data": {
      "text/plain": [
       "-0.03844417886757512"
      ]
     },
     "execution_count": 210,
     "metadata": {},
     "output_type": "execute_result"
    }
   ],
   "source": [
    "model.score(X_train, y_train)"
   ]
  },
  {
   "cell_type": "code",
   "execution_count": 211,
   "metadata": {},
   "outputs": [],
   "source": [
    "# model.score(X_cv, y_cv)"
   ]
  },
  {
   "cell_type": "code",
   "execution_count": 212,
   "metadata": {},
   "outputs": [
    {
     "data": {
      "text/plain": [
       "-0.7834536855805296"
      ]
     },
     "execution_count": 212,
     "metadata": {},
     "output_type": "execute_result"
    }
   ],
   "source": [
    "model.score(X_test, y_test)"
   ]
  },
  {
   "cell_type": "code",
   "execution_count": 213,
   "metadata": {},
   "outputs": [
    {
     "data": {
      "text/plain": [
       "<matplotlib.collections.PathCollection at 0x113fcac90>"
      ]
     },
     "execution_count": 213,
     "metadata": {},
     "output_type": "execute_result"
    },
    {
     "data": {
      "image/png": "[encoded data removed]",
      "text/plain": [
       "<Figure size 432x288 with 1 Axes>"
      ]
     },
     "metadata": {
      "needs_background": "light"
     },
     "output_type": "display_data"
    }
   ],
   "source": [
    "svr_y_test_pred = model.predict(X_test)\n",
    "plt.scatter(y_test, svr_y_test_pred)"
   ]
  },
  {
   "cell_type": "code",
   "execution_count": 214,
   "metadata": {},
   "outputs": [
    {
     "data": {
      "text/plain": [
       "17.103467986665578"
      ]
     },
     "execution_count": 214,
     "metadata": {},
     "output_type": "execute_result"
    }
   ],
   "source": [
    "mean_absolute_error(y_test, svr_y_test_pred)"
   ]
  },
  {
   "cell_type": "code",
   "execution_count": 216,
   "metadata": {},
   "outputs": [
    {
     "data": {
      "text/plain": [
       "<matplotlib.collections.PathCollection at 0x113f335d0>"
      ]
     },
     "execution_count": 216,
     "metadata": {},
     "output_type": "execute_result"
    },
    {
     "data": {
      "image/png": "[encoded data removed]",
      "text/plain": [
       "<Figure size 432x288 with 1 Axes>"
      ]
     },
     "metadata": {
      "needs_background": "light"
     },
     "output_type": "display_data"
    }
   ],
   "source": [
    "svr_y_test_pred = model.predict(X_test)\n",
    "plt.scatter(y_test, np.abs(svr_y_test_pred))"
   ]
  },
  {
   "cell_type": "code",
   "execution_count": 215,
   "metadata": {},
   "outputs": [
    {
     "data": {
      "text/plain": [
       "13.60803195736503"
      ]
     },
     "execution_count": 215,
     "metadata": {},
     "output_type": "execute_result"
    }
   ],
   "source": [
    "mean_absolute_error(y_test, np.abs(svr_y_test_pred))"
   ]
  },
  {
   "cell_type": "markdown",
   "metadata": {},
   "source": [
    "# Ensembling"
   ]
  },
  {
   "cell_type": "code",
   "execution_count": 71,
   "metadata": {},
   "outputs": [],
   "source": [
    "# preds = [linear_y_cv_pred, knn_y_cv_pred, svr_y_cv_pred]"
   ]
  },
  {
   "cell_type": "code",
   "execution_count": 72,
   "metadata": {},
   "outputs": [],
   "source": [
    "# average_preds = np.abs(linear_y_cv_pred + knn_y_cv_pred + svr_y_cv_pred / len(preds)) - 50"
   ]
  },
  {
   "cell_type": "code",
   "execution_count": 73,
   "metadata": {},
   "outputs": [],
   "source": [
    "# mean_absolute_error(y_cv, average_preds)"
   ]
  },
  {
   "cell_type": "markdown",
   "metadata": {},
   "source": [
    "# Random Forest model"
   ]
  },
  {
   "cell_type": "code",
   "execution_count": 74,
   "metadata": {},
   "outputs": [],
   "source": [
    "# from sklearn.ensemble import RandomForestRegressor"
   ]
  },
  {
   "cell_type": "code",
   "execution_count": 75,
   "metadata": {},
   "outputs": [],
   "source": [
    "# # model = RandomForestRegressor(\n",
    "# #     n_estimators=100,\n",
    "# #     max_depth=50,\n",
    "# # #     max_features=5,\n",
    "# # #     min_samples_leaf=1,\n",
    "# # #     criterion='mse',\n",
    "# #     random_state=0, n_jobs=-1\n",
    "# # )\n",
    "# # model.fit(X_train, y_train)\n",
    "\n",
    "# n_estimators = [10, 20, 50, 100, 200]\n",
    "# max_depth = [None, 1, 2, 3, 5, 7, 10, 15]\n",
    "# max_features = [None, 1, 2, 3, 5, 7, 10, 15, 'auto']\n",
    "# min_samples_leaf = [0.001, 0.01, 0.1, 0.2, 0.3, 0.4, 0.5]\n",
    "# param_grid = {\n",
    "#     'n_estimators': n_estimators,\n",
    "#     'max_depth': max_depth,\n",
    "#     'max_features': max_features,\n",
    "#     'min_samples_leaf': min_samples_leaf,\n",
    "# }\n",
    "\n",
    "# cv = TimeSeriesSplit(n_splits=7)\n",
    "\n",
    "# hyperparameters_search = RandomizedSearchCV(\n",
    "#     RandomForestRegressor(random_state=0),\n",
    "#     param_grid,\n",
    "#     cv=cv,\n",
    "#     n_jobs=-1\n",
    "# )\n",
    "# hyperparameters_search.fit(X_train, y_train)\n",
    "# hyperparameters_search.best_params_"
   ]
  },
  {
   "cell_type": "code",
   "execution_count": 76,
   "metadata": {},
   "outputs": [],
   "source": [
    "# hyperparameters_search.best_score_"
   ]
  },
  {
   "cell_type": "code",
   "execution_count": 77,
   "metadata": {},
   "outputs": [],
   "source": [
    "# model = hyperparameters_search.best_estimator_\n",
    "# model"
   ]
  },
  {
   "cell_type": "code",
   "execution_count": 78,
   "metadata": {},
   "outputs": [],
   "source": [
    "# model.score(X_train, y_train)"
   ]
  },
  {
   "cell_type": "code",
   "execution_count": 79,
   "metadata": {},
   "outputs": [],
   "source": [
    "# model.score(X_test, y_test)"
   ]
  },
  {
   "cell_type": "code",
   "execution_count": 80,
   "metadata": {},
   "outputs": [],
   "source": [
    "# model.feature_importances_"
   ]
  },
  {
   "cell_type": "code",
   "execution_count": 81,
   "metadata": {},
   "outputs": [],
   "source": [
    "# y_test_pred = model.predict(X_test)\n",
    "# plt.scatter(y_test, y_test_pred)"
   ]
  },
  {
   "cell_type": "code",
   "execution_count": 82,
   "metadata": {},
   "outputs": [],
   "source": [
    "# mean_absolute_error(y_test, y_test_pred)"
   ]
  },
  {
   "cell_type": "code",
   "execution_count": 83,
   "metadata": {},
   "outputs": [],
   "source": [
    "# mean_absolute_error(y_test, np.abs(y_test_pred))"
   ]
  },
  {
   "cell_type": "markdown",
   "metadata": {},
   "source": [
    "# SGDRegressor"
   ]
  },
  {
   "cell_type": "code",
   "execution_count": 84,
   "metadata": {},
   "outputs": [],
   "source": [
    "# from sklearn.linear_model import SGDRegressor"
   ]
  },
  {
   "cell_type": "code",
   "execution_count": 85,
   "metadata": {},
   "outputs": [],
   "source": [
    "# model = SGDRegressor(max_iter=1000, tol=1e-3)\n",
    "# model.fit(X_train, y_train)"
   ]
  },
  {
   "cell_type": "code",
   "execution_count": 86,
   "metadata": {},
   "outputs": [],
   "source": [
    "# model.score(X_train, y_train)"
   ]
  },
  {
   "cell_type": "code",
   "execution_count": 87,
   "metadata": {},
   "outputs": [],
   "source": [
    "# model.score(X_test, y_test)"
   ]
  },
  {
   "cell_type": "code",
   "execution_count": 88,
   "metadata": {},
   "outputs": [],
   "source": [
    "# model.predict(X_train)"
   ]
  },
  {
   "cell_type": "code",
   "execution_count": 89,
   "metadata": {},
   "outputs": [],
   "source": [
    "# y_train[0]"
   ]
  },
  {
   "cell_type": "code",
   "execution_count": 90,
   "metadata": {},
   "outputs": [],
   "source": [
    "# y_test_pred = model.predict(X_test)\n",
    "# plt.scatter(y_test, y_test_pred)"
   ]
  },
  {
   "cell_type": "code",
   "execution_count": 91,
   "metadata": {},
   "outputs": [],
   "source": [
    "# mean_absolute_error(y_test, y_test_pred)"
   ]
  },
  {
   "cell_type": "code",
   "execution_count": 92,
   "metadata": {},
   "outputs": [],
   "source": [
    "# mean_absolute_error(y_test, np.abs(y_test_pred))"
   ]
  },
  {
   "cell_type": "markdown",
   "metadata": {},
   "source": [
    "# XGBoost"
   ]
  },
  {
   "cell_type": "code",
   "execution_count": 93,
   "metadata": {},
   "outputs": [],
   "source": [
    "# !pip install xgboost"
   ]
  },
  {
   "cell_type": "code",
   "execution_count": 94,
   "metadata": {},
   "outputs": [],
   "source": [
    "# from xgboost import XGBRegressor"
   ]
  },
  {
   "cell_type": "code",
   "execution_count": 95,
   "metadata": {},
   "outputs": [],
   "source": [
    "# model = XGBRegressor(\n",
    "#     max_depth=2,\n",
    "# #     subsample=0.9,\n",
    "# #     colsample_bytree=0.9,\n",
    "# #     colsample_bylevel=0.9,\n",
    "# #     min_child_weight=1,\n",
    "#     random_state=0, n_jobs=-1\n",
    "# )\n",
    "# model.fit(X_train, y_train)"
   ]
  },
  {
   "cell_type": "code",
   "execution_count": 96,
   "metadata": {},
   "outputs": [],
   "source": [
    "# model.score(X_train, y_train)"
   ]
  },
  {
   "cell_type": "code",
   "execution_count": 97,
   "metadata": {},
   "outputs": [],
   "source": [
    "# model.score(X_test, y_test)"
   ]
  },
  {
   "cell_type": "code",
   "execution_count": 98,
   "metadata": {},
   "outputs": [],
   "source": [
    "# y_test_pred = model.predict(X_test)\n",
    "# plt.scatter(y_test, y_test_pred)"
   ]
  },
  {
   "cell_type": "code",
   "execution_count": 99,
   "metadata": {},
   "outputs": [],
   "source": [
    "# mean_absolute_error(y_test, y_test_pred)"
   ]
  },
  {
   "cell_type": "code",
   "execution_count": 100,
   "metadata": {},
   "outputs": [],
   "source": [
    "# mean_absolute_error(y_test, np.abs(y_test_pred))"
   ]
  },
  {
   "cell_type": "markdown",
   "metadata": {},
   "source": [
    "# Catboost"
   ]
  },
  {
   "cell_type": "code",
   "execution_count": 101,
   "metadata": {},
   "outputs": [],
   "source": [
    "# !pip install catboost\n",
    "# !pip install ipywidgets\n",
    "# !jupyter nbextension enable --py widgetsnbextension"
   ]
  },
  {
   "cell_type": "code",
   "execution_count": 102,
   "metadata": {},
   "outputs": [],
   "source": [
    "# from catboost import CatBoostRegressor"
   ]
  },
  {
   "cell_type": "code",
   "execution_count": 103,
   "metadata": {},
   "outputs": [],
   "source": [
    "# model = CatBoostRegressor(\n",
    "# #     iterations=700,\n",
    "# #     learning_rate=0.02,\n",
    "# #     depth=12,\n",
    "# #     eval_metric='RMSE',\n",
    "# #     random_seed = 23,\n",
    "# #     bagging_temperature = 0.2,\n",
    "# #     od_type='Iter',\n",
    "# #     metric_period = 75,\n",
    "# #     od_wait=100\n",
    "# )"
   ]
  },
  {
   "cell_type": "code",
   "execution_count": 104,
   "metadata": {},
   "outputs": [],
   "source": [
    "# model.fit(X_train, y_train,\n",
    "# #              eval_set=(X_test,y_valid),\n",
    "# #              cat_features=categorical_features_pos,\n",
    "# #              use_best_model=True,\n",
    "# #              verbose=True\n",
    "#          )"
   ]
  },
  {
   "cell_type": "code",
   "execution_count": 105,
   "metadata": {},
   "outputs": [],
   "source": [
    "# model.score(X_train, y_train)"
   ]
  },
  {
   "cell_type": "code",
   "execution_count": 106,
   "metadata": {},
   "outputs": [],
   "source": [
    "# model.score(X_test, y_test)"
   ]
  },
  {
   "cell_type": "code",
   "execution_count": 107,
   "metadata": {},
   "outputs": [],
   "source": [
    "# y_test_pred = model.predict(X_test)\n",
    "# plt.scatter(y_test, y_test_pred)"
   ]
  },
  {
   "cell_type": "code",
   "execution_count": 108,
   "metadata": {},
   "outputs": [],
   "source": [
    "# mean_absolute_error(y_test, y_test_pred)"
   ]
  },
  {
   "cell_type": "code",
   "execution_count": 109,
   "metadata": {},
   "outputs": [],
   "source": [
    "# mean_absolute_error(y_test, np.abs(y_test_pred))"
   ]
  },
  {
   "cell_type": "markdown",
   "metadata": {},
   "source": [
    "# MLPRegressor"
   ]
  },
  {
   "cell_type": "code",
   "execution_count": 110,
   "metadata": {},
   "outputs": [],
   "source": [
    "from sklearn.neural_network import MLPRegressor"
   ]
  },
  {
   "cell_type": "code",
   "execution_count": 111,
   "metadata": {},
   "outputs": [
    {
     "name": "stderr",
     "output_type": "stream",
     "text": [
      "/usr/local/lib/python2.7/site-packages/sklearn/neural_network/multilayer_perceptron.py:562: ConvergenceWarning: Stochastic Optimizer: Maximum iterations (200) reached and the optimization hasn't converged yet.\n",
      "  % self.max_iter, ConvergenceWarning)\n"
     ]
    },
    {
     "data": {
      "text/plain": [
       "MLPRegressor(activation='relu', alpha=0.1, batch_size='auto', beta_1=0.9,\n",
       "       beta_2=0.999, early_stopping=False, epsilon=1e-08,\n",
       "       hidden_layer_sizes=(100,), learning_rate='constant',\n",
       "       learning_rate_init=0.001, max_iter=200, momentum=0.9,\n",
       "       n_iter_no_change=10, nesterovs_momentum=True, power_t=0.5,\n",
       "       random_state=0, shuffle=True, solver='adam', tol=0.0001,\n",
       "       validation_fraction=0.1, verbose=False, warm_start=True)"
      ]
     },
     "execution_count": 111,
     "metadata": {},
     "output_type": "execute_result"
    }
   ],
   "source": [
    "model = MLPRegressor(\n",
    "    hidden_layer_sizes=(100,),\n",
    "    max_iter=200,\n",
    "    alpha=0.1,\n",
    "    warm_start=True,\n",
    "    random_state=0,\n",
    ")\n",
    "model.fit(X_train, y_train)"
   ]
  },
  {
   "cell_type": "code",
   "execution_count": 112,
   "metadata": {},
   "outputs": [
    {
     "data": {
      "text/plain": [
       "0.2269213854280048"
      ]
     },
     "execution_count": 112,
     "metadata": {},
     "output_type": "execute_result"
    }
   ],
   "source": [
    "model.score(X_train, y_train)"
   ]
  },
  {
   "cell_type": "code",
   "execution_count": 113,
   "metadata": {},
   "outputs": [
    {
     "data": {
      "text/plain": [
       "-0.4608407472517957"
      ]
     },
     "execution_count": 113,
     "metadata": {},
     "output_type": "execute_result"
    }
   ],
   "source": [
    "model.score(X_test, y_test)"
   ]
  },
  {
   "cell_type": "code",
   "execution_count": 114,
   "metadata": {},
   "outputs": [
    {
     "data": {
      "text/plain": [
       "<matplotlib.collections.PathCollection at 0x11d1cec10>"
      ]
     },
     "execution_count": 114,
     "metadata": {},
     "output_type": "execute_result"
    },
    {
     "data": {
      "image/png": "[encoded data removed]",
      "text/plain": [
       "<Figure size 432x288 with 1 Axes>"
      ]
     },
     "metadata": {
      "needs_background": "light"
     },
     "output_type": "display_data"
    }
   ],
   "source": [
    "y_test_pred = model.predict(X_test)\n",
    "plt.scatter(y_test, y_test_pred)"
   ]
  },
  {
   "cell_type": "code",
   "execution_count": 115,
   "metadata": {},
   "outputs": [
    {
     "data": {
      "text/plain": [
       "15.838663351006405"
      ]
     },
     "execution_count": 115,
     "metadata": {},
     "output_type": "execute_result"
    }
   ],
   "source": [
    "mean_absolute_error(y_test, y_test_pred)"
   ]
  },
  {
   "cell_type": "code",
   "execution_count": 116,
   "metadata": {},
   "outputs": [
    {
     "data": {
      "text/plain": [
       "13.72676402037675"
      ]
     },
     "execution_count": 116,
     "metadata": {},
     "output_type": "execute_result"
    }
   ],
   "source": [
    "mean_absolute_error(y_test, np.abs(y_test_pred))"
   ]
  },
  {
   "cell_type": "markdown",
   "metadata": {},
   "source": [
    "# Keras"
   ]
  },
  {
   "cell_type": "code",
   "execution_count": 117,
   "metadata": {},
   "outputs": [],
   "source": [
    "# !pip install keras"
   ]
  },
  {
   "cell_type": "code",
   "execution_count": null,
   "metadata": {},
   "outputs": [],
   "source": []
  }
 ],
 "metadata": {
  "kernelspec": {
   "display_name": "Python 3",
   "language": "python",
   "name": "python3"
  },
  "language_info": {
   "codemirror_mode": {
    "name": "ipython",
    "version": 2
   },
   "file_extension": ".py",
   "mimetype": "text/x-python",
   "name": "python",
   "nbconvert_exporter": "python",
   "pygments_lexer": "ipython2",
   "version": "2.7.15"
  }
 },
 "nbformat": 4,
 "nbformat_minor": 2
}
