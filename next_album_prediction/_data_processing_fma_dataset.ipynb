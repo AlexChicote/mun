{
 "cells": [
  {
   "cell_type": "markdown",
   "metadata": {},
   "source": [
    "# Load the initial dataset"
   ]
  },
  {
   "cell_type": "code",
   "execution_count": 1,
   "metadata": {},
   "outputs": [],
   "source": [
    "import pandas as pd"
   ]
  },
  {
   "cell_type": "code",
   "execution_count": 2,
   "metadata": {},
   "outputs": [],
   "source": [
    "releases_data = pd.read_csv('releases.csv')\n",
    "releases_data.set_index('id', inplace=True)"
   ]
  },
  {
   "cell_type": "code",
   "execution_count": 4,
   "metadata": {},
   "outputs": [
    {
     "data": {
      "text/html": [
       "<div>\n",
       "<style scoped>\n",
       "    .dataframe tbody tr th:only-of-type {\n",
       "        vertical-align: middle;\n",
       "    }\n",
       "\n",
       "    .dataframe tbody tr th {\n",
       "        vertical-align: top;\n",
       "    }\n",
       "\n",
       "    .dataframe thead th {\n",
       "        text-align: right;\n",
       "    }\n",
       "</style>\n",
       "<table border=\"1\" class=\"dataframe\">\n",
       "  <thead>\n",
       "    <tr style=\"text-align: right;\">\n",
       "      <th></th>\n",
       "      <th>artist</th>\n",
       "      <th>available</th>\n",
       "      <th>contributors</th>\n",
       "      <th>cover</th>\n",
       "      <th>cover_big</th>\n",
       "      <th>cover_medium</th>\n",
       "      <th>cover_small</th>\n",
       "      <th>cover_xl</th>\n",
       "      <th>duration</th>\n",
       "      <th>explicit_content_cover</th>\n",
       "      <th>...</th>\n",
       "      <th>nb_tracks</th>\n",
       "      <th>rating</th>\n",
       "      <th>record_type</th>\n",
       "      <th>release_date</th>\n",
       "      <th>share</th>\n",
       "      <th>title</th>\n",
       "      <th>tracklist</th>\n",
       "      <th>tracks</th>\n",
       "      <th>type</th>\n",
       "      <th>upc</th>\n",
       "    </tr>\n",
       "    <tr>\n",
       "      <th>id</th>\n",
       "      <th></th>\n",
       "      <th></th>\n",
       "      <th></th>\n",
       "      <th></th>\n",
       "      <th></th>\n",
       "      <th></th>\n",
       "      <th></th>\n",
       "      <th></th>\n",
       "      <th></th>\n",
       "      <th></th>\n",
       "      <th></th>\n",
       "      <th></th>\n",
       "      <th></th>\n",
       "      <th></th>\n",
       "      <th></th>\n",
       "      <th></th>\n",
       "      <th></th>\n",
       "      <th></th>\n",
       "      <th></th>\n",
       "      <th></th>\n",
       "      <th></th>\n",
       "    </tr>\n",
       "  </thead>\n",
       "  <tbody>\n",
       "    <tr>\n",
       "      <th>13994298</th>\n",
       "      <td>{u'picture': u'https://api.deezer.com/artist/1...</td>\n",
       "      <td>True</td>\n",
       "      <td>[{u'picture': u'https://api.deezer.com/artist/...</td>\n",
       "      <td>https://api.deezer.com/album/13994298/image</td>\n",
       "      <td>https://cdns-images.dzcdn.net/images/cover/233...</td>\n",
       "      <td>https://cdns-images.dzcdn.net/images/cover/233...</td>\n",
       "      <td>https://cdns-images.dzcdn.net/images/cover/233...</td>\n",
       "      <td>https://cdns-images.dzcdn.net/images/cover/233...</td>\n",
       "      <td>2607</td>\n",
       "      <td>0</td>\n",
       "      <td>...</td>\n",
       "      <td>17</td>\n",
       "      <td>0</td>\n",
       "      <td>album</td>\n",
       "      <td>2016-09-09</td>\n",
       "      <td>https://www.deezer.com/album/13994298?utm_sour...</td>\n",
       "      <td>Live At The Hollywood Bowl</td>\n",
       "      <td>https://api.deezer.com/album/13994298/tracks</td>\n",
       "      <td>{u'data': [{u'title_short': u'Twist And Shout'...</td>\n",
       "      <td>album</td>\n",
       "      <td>602557054989</td>\n",
       "    </tr>\n",
       "    <tr>\n",
       "      <th>59393282</th>\n",
       "      <td>{u'picture': u'https://api.deezer.com/artist/1...</td>\n",
       "      <td>True</td>\n",
       "      <td>[{u'picture': u'https://api.deezer.com/artist/...</td>\n",
       "      <td>https://api.deezer.com/album/59393282/image</td>\n",
       "      <td>https://e-cdns-images.dzcdn.net/images/cover/e...</td>\n",
       "      <td>https://e-cdns-images.dzcdn.net/images/cover/e...</td>\n",
       "      <td>https://e-cdns-images.dzcdn.net/images/cover/e...</td>\n",
       "      <td>https://e-cdns-images.dzcdn.net/images/cover/e...</td>\n",
       "      <td>2099</td>\n",
       "      <td>0</td>\n",
       "      <td>...</td>\n",
       "      <td>11</td>\n",
       "      <td>0</td>\n",
       "      <td>album</td>\n",
       "      <td>2018-03-22</td>\n",
       "      <td>https://www.deezer.com/album/59393282?utm_sour...</td>\n",
       "      <td>Let It Be... Naked (Remastered)</td>\n",
       "      <td>https://api.deezer.com/album/59393282/tracks</td>\n",
       "      <td>{u'data': [{u'title_short': u'Get Back', u'tit...</td>\n",
       "      <td>album</td>\n",
       "      <td>602537738960</td>\n",
       "    </tr>\n",
       "    <tr>\n",
       "      <th>59393272</th>\n",
       "      <td>{u'picture': u'https://api.deezer.com/artist/1...</td>\n",
       "      <td>True</td>\n",
       "      <td>[{u'picture': u'https://api.deezer.com/artist/...</td>\n",
       "      <td>https://api.deezer.com/album/59393272/image</td>\n",
       "      <td>https://e-cdns-images.dzcdn.net/images/cover/b...</td>\n",
       "      <td>https://e-cdns-images.dzcdn.net/images/cover/b...</td>\n",
       "      <td>https://e-cdns-images.dzcdn.net/images/cover/b...</td>\n",
       "      <td>https://e-cdns-images.dzcdn.net/images/cover/b...</td>\n",
       "      <td>2731</td>\n",
       "      <td>0</td>\n",
       "      <td>...</td>\n",
       "      <td>15</td>\n",
       "      <td>0</td>\n",
       "      <td>album</td>\n",
       "      <td>2018-03-22</td>\n",
       "      <td>https://www.deezer.com/album/59393272?utm_sour...</td>\n",
       "      <td>Yellow Submarine Songtrack</td>\n",
       "      <td>https://api.deezer.com/album/59393272/tracks</td>\n",
       "      <td>{u'data': [{u'title_short': u'Yellow Submarine...</td>\n",
       "      <td>album</td>\n",
       "      <td>602537738953</td>\n",
       "    </tr>\n",
       "    <tr>\n",
       "      <th>13367057</th>\n",
       "      <td>{u'picture': u'https://api.deezer.com/artist/1...</td>\n",
       "      <td>True</td>\n",
       "      <td>[{u'picture': u'https://api.deezer.com/artist/...</td>\n",
       "      <td>https://api.deezer.com/album/13367057/image</td>\n",
       "      <td>https://e-cdns-images.dzcdn.net/images/cover/3...</td>\n",
       "      <td>https://e-cdns-images.dzcdn.net/images/cover/3...</td>\n",
       "      <td>https://e-cdns-images.dzcdn.net/images/cover/3...</td>\n",
       "      <td>https://e-cdns-images.dzcdn.net/images/cover/3...</td>\n",
       "      <td>5200</td>\n",
       "      <td>0</td>\n",
       "      <td>...</td>\n",
       "      <td>28</td>\n",
       "      <td>0</td>\n",
       "      <td>album</td>\n",
       "      <td>2016-06-17</td>\n",
       "      <td>https://www.deezer.com/album/13367057?utm_sour...</td>\n",
       "      <td>Love</td>\n",
       "      <td>https://api.deezer.com/album/13367057/tracks</td>\n",
       "      <td>{u'data': [{u'title_short': u'Because', u'titl...</td>\n",
       "      <td>album</td>\n",
       "      <td>602557015997</td>\n",
       "    </tr>\n",
       "    <tr>\n",
       "      <th>12047956</th>\n",
       "      <td>{u'picture': u'https://api.deezer.com/artist/1...</td>\n",
       "      <td>True</td>\n",
       "      <td>[{u'picture': u'https://api.deezer.com/artist/...</td>\n",
       "      <td>https://api.deezer.com/album/12047956/image</td>\n",
       "      <td>https://e-cdns-images.dzcdn.net/images/cover/c...</td>\n",
       "      <td>https://e-cdns-images.dzcdn.net/images/cover/c...</td>\n",
       "      <td>https://e-cdns-images.dzcdn.net/images/cover/c...</td>\n",
       "      <td>https://e-cdns-images.dzcdn.net/images/cover/c...</td>\n",
       "      <td>4733</td>\n",
       "      <td>0</td>\n",
       "      <td>...</td>\n",
       "      <td>27</td>\n",
       "      <td>0</td>\n",
       "      <td>album</td>\n",
       "      <td>2015-12-24</td>\n",
       "      <td>https://www.deezer.com/album/12047956?utm_sour...</td>\n",
       "      <td>1 (Remastered)</td>\n",
       "      <td>https://api.deezer.com/album/12047956/tracks</td>\n",
       "      <td>{u'data': [{u'title_short': u'Love Me Do', u't...</td>\n",
       "      <td>album</td>\n",
       "      <td>602547673503</td>\n",
       "    </tr>\n",
       "  </tbody>\n",
       "</table>\n",
       "<p>5 rows × 27 columns</p>\n",
       "</div>"
      ],
      "text/plain": [
       "                                                     artist  available  \\\n",
       "id                                                                       \n",
       "13994298  {u'picture': u'https://api.deezer.com/artist/1...       True   \n",
       "59393282  {u'picture': u'https://api.deezer.com/artist/1...       True   \n",
       "59393272  {u'picture': u'https://api.deezer.com/artist/1...       True   \n",
       "13367057  {u'picture': u'https://api.deezer.com/artist/1...       True   \n",
       "12047956  {u'picture': u'https://api.deezer.com/artist/1...       True   \n",
       "\n",
       "                                               contributors  \\\n",
       "id                                                            \n",
       "13994298  [{u'picture': u'https://api.deezer.com/artist/...   \n",
       "59393282  [{u'picture': u'https://api.deezer.com/artist/...   \n",
       "59393272  [{u'picture': u'https://api.deezer.com/artist/...   \n",
       "13367057  [{u'picture': u'https://api.deezer.com/artist/...   \n",
       "12047956  [{u'picture': u'https://api.deezer.com/artist/...   \n",
       "\n",
       "                                                cover  \\\n",
       "id                                                      \n",
       "13994298  https://api.deezer.com/album/13994298/image   \n",
       "59393282  https://api.deezer.com/album/59393282/image   \n",
       "59393272  https://api.deezer.com/album/59393272/image   \n",
       "13367057  https://api.deezer.com/album/13367057/image   \n",
       "12047956  https://api.deezer.com/album/12047956/image   \n",
       "\n",
       "                                                  cover_big  \\\n",
       "id                                                            \n",
       "13994298  https://cdns-images.dzcdn.net/images/cover/233...   \n",
       "59393282  https://e-cdns-images.dzcdn.net/images/cover/e...   \n",
       "59393272  https://e-cdns-images.dzcdn.net/images/cover/b...   \n",
       "13367057  https://e-cdns-images.dzcdn.net/images/cover/3...   \n",
       "12047956  https://e-cdns-images.dzcdn.net/images/cover/c...   \n",
       "\n",
       "                                               cover_medium  \\\n",
       "id                                                            \n",
       "13994298  https://cdns-images.dzcdn.net/images/cover/233...   \n",
       "59393282  https://e-cdns-images.dzcdn.net/images/cover/e...   \n",
       "59393272  https://e-cdns-images.dzcdn.net/images/cover/b...   \n",
       "13367057  https://e-cdns-images.dzcdn.net/images/cover/3...   \n",
       "12047956  https://e-cdns-images.dzcdn.net/images/cover/c...   \n",
       "\n",
       "                                                cover_small  \\\n",
       "id                                                            \n",
       "13994298  https://cdns-images.dzcdn.net/images/cover/233...   \n",
       "59393282  https://e-cdns-images.dzcdn.net/images/cover/e...   \n",
       "59393272  https://e-cdns-images.dzcdn.net/images/cover/b...   \n",
       "13367057  https://e-cdns-images.dzcdn.net/images/cover/3...   \n",
       "12047956  https://e-cdns-images.dzcdn.net/images/cover/c...   \n",
       "\n",
       "                                                   cover_xl  duration  \\\n",
       "id                                                                      \n",
       "13994298  https://cdns-images.dzcdn.net/images/cover/233...      2607   \n",
       "59393282  https://e-cdns-images.dzcdn.net/images/cover/e...      2099   \n",
       "59393272  https://e-cdns-images.dzcdn.net/images/cover/b...      2731   \n",
       "13367057  https://e-cdns-images.dzcdn.net/images/cover/3...      5200   \n",
       "12047956  https://e-cdns-images.dzcdn.net/images/cover/c...      4733   \n",
       "\n",
       "          explicit_content_cover  ...  nb_tracks  rating  record_type  \\\n",
       "id                                ...                                   \n",
       "13994298                       0  ...         17       0        album   \n",
       "59393282                       0  ...         11       0        album   \n",
       "59393272                       0  ...         15       0        album   \n",
       "13367057                       0  ...         28       0        album   \n",
       "12047956                       0  ...         27       0        album   \n",
       "\n",
       "          release_date                                              share  \\\n",
       "id                                                                          \n",
       "13994298    2016-09-09  https://www.deezer.com/album/13994298?utm_sour...   \n",
       "59393282    2018-03-22  https://www.deezer.com/album/59393282?utm_sour...   \n",
       "59393272    2018-03-22  https://www.deezer.com/album/59393272?utm_sour...   \n",
       "13367057    2016-06-17  https://www.deezer.com/album/13367057?utm_sour...   \n",
       "12047956    2015-12-24  https://www.deezer.com/album/12047956?utm_sour...   \n",
       "\n",
       "                                    title  \\\n",
       "id                                          \n",
       "13994298       Live At The Hollywood Bowl   \n",
       "59393282  Let It Be... Naked (Remastered)   \n",
       "59393272       Yellow Submarine Songtrack   \n",
       "13367057                             Love   \n",
       "12047956                   1 (Remastered)   \n",
       "\n",
       "                                             tracklist  \\\n",
       "id                                                       \n",
       "13994298  https://api.deezer.com/album/13994298/tracks   \n",
       "59393282  https://api.deezer.com/album/59393282/tracks   \n",
       "59393272  https://api.deezer.com/album/59393272/tracks   \n",
       "13367057  https://api.deezer.com/album/13367057/tracks   \n",
       "12047956  https://api.deezer.com/album/12047956/tracks   \n",
       "\n",
       "                                                     tracks   type  \\\n",
       "id                                                                   \n",
       "13994298  {u'data': [{u'title_short': u'Twist And Shout'...  album   \n",
       "59393282  {u'data': [{u'title_short': u'Get Back', u'tit...  album   \n",
       "59393272  {u'data': [{u'title_short': u'Yellow Submarine...  album   \n",
       "13367057  {u'data': [{u'title_short': u'Because', u'titl...  album   \n",
       "12047956  {u'data': [{u'title_short': u'Love Me Do', u't...  album   \n",
       "\n",
       "                   upc  \n",
       "id                      \n",
       "13994298  602557054989  \n",
       "59393282  602537738960  \n",
       "59393272  602537738953  \n",
       "13367057  602557015997  \n",
       "12047956  602547673503  \n",
       "\n",
       "[5 rows x 27 columns]"
      ]
     },
     "execution_count": 4,
     "metadata": {},
     "output_type": "execute_result"
    }
   ],
   "source": [
    "releases_data.head()"
   ]
  },
  {
   "cell_type": "markdown",
   "metadata": {},
   "source": [
    "# Crop the dataset while experimenting"
   ]
  },
  {
   "cell_type": "code",
   "execution_count": 5,
   "metadata": {},
   "outputs": [
    {
     "data": {
      "text/plain": [
       "(337, 27)"
      ]
     },
     "execution_count": 5,
     "metadata": {},
     "output_type": "execute_result"
    }
   ],
   "source": [
    "releases_data.shape"
   ]
  },
  {
   "cell_type": "code",
   "execution_count": 7,
   "metadata": {},
   "outputs": [
    {
     "data": {
      "text/plain": [
       "(337, 27)"
      ]
     },
     "execution_count": 7,
     "metadata": {},
     "output_type": "execute_result"
    }
   ],
   "source": [
    "releases_data[:1000].shape"
   ]
  },
  {
   "cell_type": "code",
   "execution_count": 8,
   "metadata": {},
   "outputs": [
    {
     "data": {
      "text/plain": [
       "(337, 27)"
      ]
     },
     "execution_count": 8,
     "metadata": {},
     "output_type": "execute_result"
    }
   ],
   "source": [
    "releases_data = releases_data[:1000]\n",
    "releases_data.shape"
   ]
  },
  {
   "cell_type": "markdown",
   "metadata": {},
   "source": [
    "# Brainstorm a list of features"
   ]
  },
  {
   "cell_type": "markdown",
   "metadata": {},
   "source": [
    "- **album id**\n",
    "- **artist id**\n",
    "- **release date**\n",
    "- **album type**\n",
    "- **number of tracks**\n",
    "- **album length**\n",
    "- **total albums released**\n",
    "- **days in music industry (since first release)**\n",
    "- **average artist days to release**\n",
    "- **days since previous release**\n",
    "- genres (aggregated from tracks)\n",
    "\n",
    "Also, the target\n",
    "- **days until the next release**"
   ]
  },
  {
   "cell_type": "markdown",
   "metadata": {},
   "source": [
    "# Take columns that we want and already have"
   ]
  },
  {
   "cell_type": "code",
   "execution_count": 10,
   "metadata": {},
   "outputs": [
    {
     "data": {
      "text/plain": [
       "Index([u'artist', u'available', u'contributors', u'cover', u'cover_big',\n",
       "       u'cover_medium', u'cover_small', u'cover_xl', u'duration',\n",
       "       u'explicit_content_cover', u'explicit_content_lyrics',\n",
       "       u'explicit_lyrics', u'fans', u'genre_id', u'genres', u'label', u'link',\n",
       "       u'nb_tracks', u'rating', u'record_type', u'release_date', u'share',\n",
       "       u'title', u'tracklist', u'tracks', u'type', u'upc'],\n",
       "      dtype='object')"
      ]
     },
     "execution_count": 10,
     "metadata": {},
     "output_type": "execute_result"
    }
   ],
   "source": [
    "releases_data.columns"
   ]
  },
  {
   "cell_type": "code",
   "execution_count": 13,
   "metadata": {},
   "outputs": [
    {
     "data": {
      "text/html": [
       "<div>\n",
       "<style scoped>\n",
       "    .dataframe tbody tr th:only-of-type {\n",
       "        vertical-align: middle;\n",
       "    }\n",
       "\n",
       "    .dataframe tbody tr th {\n",
       "        vertical-align: top;\n",
       "    }\n",
       "\n",
       "    .dataframe thead th {\n",
       "        text-align: right;\n",
       "    }\n",
       "</style>\n",
       "<table border=\"1\" class=\"dataframe\">\n",
       "  <thead>\n",
       "    <tr style=\"text-align: right;\">\n",
       "      <th></th>\n",
       "      <th>artist</th>\n",
       "      <th>duration</th>\n",
       "      <th>genres</th>\n",
       "      <th>nb_tracks</th>\n",
       "      <th>record_type</th>\n",
       "      <th>release_date</th>\n",
       "    </tr>\n",
       "    <tr>\n",
       "      <th>id</th>\n",
       "      <th></th>\n",
       "      <th></th>\n",
       "      <th></th>\n",
       "      <th></th>\n",
       "      <th></th>\n",
       "      <th></th>\n",
       "    </tr>\n",
       "  </thead>\n",
       "  <tbody>\n",
       "    <tr>\n",
       "      <th>13994298</th>\n",
       "      <td>{u'picture': u'https://api.deezer.com/artist/1...</td>\n",
       "      <td>2607</td>\n",
       "      <td>{u'data': [{u'picture': u'https://api.deezer.c...</td>\n",
       "      <td>17</td>\n",
       "      <td>album</td>\n",
       "      <td>2016-09-09</td>\n",
       "    </tr>\n",
       "    <tr>\n",
       "      <th>59393282</th>\n",
       "      <td>{u'picture': u'https://api.deezer.com/artist/1...</td>\n",
       "      <td>2099</td>\n",
       "      <td>{u'data': [{u'picture': u'https://api.deezer.c...</td>\n",
       "      <td>11</td>\n",
       "      <td>album</td>\n",
       "      <td>2018-03-22</td>\n",
       "    </tr>\n",
       "    <tr>\n",
       "      <th>59393272</th>\n",
       "      <td>{u'picture': u'https://api.deezer.com/artist/1...</td>\n",
       "      <td>2731</td>\n",
       "      <td>{u'data': [{u'picture': u'https://api.deezer.c...</td>\n",
       "      <td>15</td>\n",
       "      <td>album</td>\n",
       "      <td>2018-03-22</td>\n",
       "    </tr>\n",
       "    <tr>\n",
       "      <th>13367057</th>\n",
       "      <td>{u'picture': u'https://api.deezer.com/artist/1...</td>\n",
       "      <td>5200</td>\n",
       "      <td>{u'data': [{u'picture': u'https://api.deezer.c...</td>\n",
       "      <td>28</td>\n",
       "      <td>album</td>\n",
       "      <td>2016-06-17</td>\n",
       "    </tr>\n",
       "    <tr>\n",
       "      <th>12047956</th>\n",
       "      <td>{u'picture': u'https://api.deezer.com/artist/1...</td>\n",
       "      <td>4733</td>\n",
       "      <td>{u'data': [{u'picture': u'https://api.deezer.c...</td>\n",
       "      <td>27</td>\n",
       "      <td>album</td>\n",
       "      <td>2015-12-24</td>\n",
       "    </tr>\n",
       "  </tbody>\n",
       "</table>\n",
       "</div>"
      ],
      "text/plain": [
       "                                                     artist  duration  \\\n",
       "id                                                                      \n",
       "13994298  {u'picture': u'https://api.deezer.com/artist/1...      2607   \n",
       "59393282  {u'picture': u'https://api.deezer.com/artist/1...      2099   \n",
       "59393272  {u'picture': u'https://api.deezer.com/artist/1...      2731   \n",
       "13367057  {u'picture': u'https://api.deezer.com/artist/1...      5200   \n",
       "12047956  {u'picture': u'https://api.deezer.com/artist/1...      4733   \n",
       "\n",
       "                                                     genres  nb_tracks  \\\n",
       "id                                                                       \n",
       "13994298  {u'data': [{u'picture': u'https://api.deezer.c...         17   \n",
       "59393282  {u'data': [{u'picture': u'https://api.deezer.c...         11   \n",
       "59393272  {u'data': [{u'picture': u'https://api.deezer.c...         15   \n",
       "13367057  {u'data': [{u'picture': u'https://api.deezer.c...         28   \n",
       "12047956  {u'data': [{u'picture': u'https://api.deezer.c...         27   \n",
       "\n",
       "         record_type release_date  \n",
       "id                                 \n",
       "13994298       album   2016-09-09  \n",
       "59393282       album   2018-03-22  \n",
       "59393272       album   2018-03-22  \n",
       "13367057       album   2016-06-17  \n",
       "12047956       album   2015-12-24  "
      ]
     },
     "execution_count": 13,
     "metadata": {},
     "output_type": "execute_result"
    }
   ],
   "source": [
    "list_of_columns = [\n",
    "    'artist',\n",
    "    'duration',\n",
    "    'genres',\n",
    "    'nb_tracks',\n",
    "    'record_type',\n",
    "    'release_date',\n",
    "]\n",
    "releases_data[list_of_columns].head()"
   ]
  },
  {
   "cell_type": "code",
   "execution_count": 14,
   "metadata": {},
   "outputs": [
    {
     "data": {
      "text/plain": [
       "(337, 6)"
      ]
     },
     "execution_count": 14,
     "metadata": {},
     "output_type": "execute_result"
    }
   ],
   "source": [
    "df = releases_data[list_of_columns]\n",
    "df.shape"
   ]
  },
  {
   "cell_type": "markdown",
   "metadata": {},
   "source": [
    "# Check for missing values"
   ]
  },
  {
   "cell_type": "code",
   "execution_count": 15,
   "metadata": {},
   "outputs": [
    {
     "data": {
      "text/plain": [
       "artist          0\n",
       "duration        0\n",
       "genres          0\n",
       "nb_tracks       0\n",
       "record_type     0\n",
       "release_date    0\n",
       "dtype: int64"
      ]
     },
     "execution_count": 15,
     "metadata": {},
     "output_type": "execute_result"
    }
   ],
   "source": [
    "df.isnull().sum()"
   ]
  },
  {
   "cell_type": "code",
   "execution_count": 12,
   "metadata": {},
   "outputs": [],
   "source": [
    "# check difference between album_date_created and album_date_released"
   ]
  },
  {
   "cell_type": "markdown",
   "metadata": {},
   "source": [
    "The difference is TK (acceptable or not)"
   ]
  },
  {
   "cell_type": "code",
   "execution_count": 13,
   "metadata": {},
   "outputs": [
    {
     "name": "stderr",
     "output_type": "stream",
     "text": [
      "/usr/local/lib/python2.7/site-packages/pandas/core/generic.py:6130: SettingWithCopyWarning: \n",
      "A value is trying to be set on a copy of a slice from a DataFrame\n",
      "\n",
      "See the caveats in the documentation: http://pandas.pydata.org/pandas-docs/stable/indexing.html#indexing-view-versus-copy\n",
      "  self._update_inplace(new_data)\n"
     ]
    }
   ],
   "source": [
    "df.loc[:,'album_date_released'].fillna(albums_data['album_date_created'], inplace=True)"
   ]
  },
  {
   "cell_type": "markdown",
   "metadata": {},
   "source": [
    "## Fill missing album_type"
   ]
  },
  {
   "cell_type": "markdown",
   "metadata": {},
   "source": [
    "Before trying to fill something let's see what album types there are"
   ]
  },
  {
   "cell_type": "code",
   "execution_count": 14,
   "metadata": {},
   "outputs": [
    {
     "data": {
      "text/plain": [
       "array(['Album', 'Live Performance', 'Radio Program', 'Single Tracks', nan],\n",
       "      dtype=object)"
      ]
     },
     "execution_count": 14,
     "metadata": {},
     "output_type": "execute_result"
    }
   ],
   "source": [
    "df['album_type'].unique()"
   ]
  },
  {
   "cell_type": "markdown",
   "metadata": {},
   "source": [
    "We can't get whether this album was a \"Live Performance\" or a \"Radio Program\" so there's no point in that figuring that out.  \n",
    "They're also not really something new so I'll just remove them but it's always a good idea to test whether this helps the final model.\n",
    "So other then that we have an \"Album\" and \"Single Tracks\". "
   ]
  },
  {
   "cell_type": "markdown",
   "metadata": {},
   "source": [
    "Let's examine the releases that have missing album type values."
   ]
  },
  {
   "cell_type": "code",
   "execution_count": 15,
   "metadata": {},
   "outputs": [
    {
     "data": {
      "text/html": [
       "<div>\n",
       "<style scoped>\n",
       "    .dataframe tbody tr th:only-of-type {\n",
       "        vertical-align: middle;\n",
       "    }\n",
       "\n",
       "    .dataframe tbody tr th {\n",
       "        vertical-align: top;\n",
       "    }\n",
       "\n",
       "    .dataframe thead th {\n",
       "        text-align: right;\n",
       "    }\n",
       "</style>\n",
       "<table border=\"1\" class=\"dataframe\">\n",
       "  <thead>\n",
       "    <tr style=\"text-align: right;\">\n",
       "      <th></th>\n",
       "      <th>album_url</th>\n",
       "      <th>artist_url</th>\n",
       "      <th>album_date_released</th>\n",
       "      <th>album_type</th>\n",
       "      <th>album_tracks</th>\n",
       "    </tr>\n",
       "    <tr>\n",
       "      <th>album_id</th>\n",
       "      <th></th>\n",
       "      <th></th>\n",
       "      <th></th>\n",
       "      <th></th>\n",
       "      <th></th>\n",
       "    </tr>\n",
       "  </thead>\n",
       "  <tbody>\n",
       "    <tr>\n",
       "      <th>10036</th>\n",
       "      <td>http://freemusicarchive.org/music/2010061284945421/mystical_v/</td>\n",
       "      <td>http://freemusicarchive.org/music/2010061284945421/</td>\n",
       "      <td>9/13/2011 04:54:21 PM</td>\n",
       "      <td>NaN</td>\n",
       "      <td>5</td>\n",
       "    </tr>\n",
       "    <tr>\n",
       "      <th>10070</th>\n",
       "      <td>http://freemusicarchive.org/music/Harpoon_Forever/Life-Size_Cut-Out/</td>\n",
       "      <td>http://freemusicarchive.org/music/Harpoon_Forever/</td>\n",
       "      <td>9/18/2011 01:22:58 AM</td>\n",
       "      <td>NaN</td>\n",
       "      <td>4</td>\n",
       "    </tr>\n",
       "    <tr>\n",
       "      <th>10190</th>\n",
       "      <td>http://freemusicarchive.org/music/Elliott_Sharp/Ten_Thousand_Hours/</td>\n",
       "      <td>http://freemusicarchive.org/music/Elliott_Sharp/</td>\n",
       "      <td>10/03/2011 06:34:14 PM</td>\n",
       "      <td>NaN</td>\n",
       "      <td>1</td>\n",
       "    </tr>\n",
       "    <tr>\n",
       "      <th>10196</th>\n",
       "      <td>http://freemusicarchive.org/music/junior85/Directed_Numbers/</td>\n",
       "      <td>http://freemusicarchive.org/music/junior85/</td>\n",
       "      <td>10/04/2011</td>\n",
       "      <td>NaN</td>\n",
       "      <td>7</td>\n",
       "    </tr>\n",
       "    <tr>\n",
       "      <th>10341</th>\n",
       "      <td>http://freemusicarchive.org/music/Mr__Mrs_Smith/Very_Fragile/</td>\n",
       "      <td>http://freemusicarchive.org/music/Mr__Mrs_Smith/</td>\n",
       "      <td>11/01/2011 10:21:01 AM</td>\n",
       "      <td>NaN</td>\n",
       "      <td>10</td>\n",
       "    </tr>\n",
       "    <tr>\n",
       "      <th>10375</th>\n",
       "      <td>http://freemusicarchive.org/music/Lovely_Little_Girls/Live_Lumps_Festooned_with_Garbage/</td>\n",
       "      <td>http://freemusicarchive.org/music/Lovely_Little_Girls/</td>\n",
       "      <td>1/01/2003</td>\n",
       "      <td>NaN</td>\n",
       "      <td>8</td>\n",
       "    </tr>\n",
       "    <tr>\n",
       "      <th>10380</th>\n",
       "      <td>http://freemusicarchive.org/music/Wrist/Blind_AlleyOrphan_Drug_single_1135/</td>\n",
       "      <td>http://freemusicarchive.org/music/Wrist/</td>\n",
       "      <td>10/27/2011</td>\n",
       "      <td>NaN</td>\n",
       "      <td>2</td>\n",
       "    </tr>\n",
       "    <tr>\n",
       "      <th>10413</th>\n",
       "      <td>http://freemusicarchive.org/music/Black_Math/To_You_-_digital_single/</td>\n",
       "      <td>http://freemusicarchive.org/music/Black_Math/</td>\n",
       "      <td>11/12/2011 12:53:30 PM</td>\n",
       "      <td>NaN</td>\n",
       "      <td>1</td>\n",
       "    </tr>\n",
       "    <tr>\n",
       "      <th>10489</th>\n",
       "      <td>http://freemusicarchive.org/music/2010061284945421/Unicorn_dream/</td>\n",
       "      <td>http://freemusicarchive.org/music/2010061284945421/</td>\n",
       "      <td>11/28/2011 11:08:09 PM</td>\n",
       "      <td>NaN</td>\n",
       "      <td>8</td>\n",
       "    </tr>\n",
       "    <tr>\n",
       "      <th>10565</th>\n",
       "      <td>http://freemusicarchive.org/music/Sol_Rezza/The_existence_of_the_light/</td>\n",
       "      <td>http://freemusicarchive.org/music/Sol_Rezza/</td>\n",
       "      <td>12/09/2011 05:01:06 PM</td>\n",
       "      <td>NaN</td>\n",
       "      <td>4</td>\n",
       "    </tr>\n",
       "  </tbody>\n",
       "</table>\n",
       "</div>"
      ],
      "text/plain": [
       "                                                                                         album_url  \\\n",
       "album_id                                                                                             \n",
       "10036     http://freemusicarchive.org/music/2010061284945421/mystical_v/                             \n",
       "10070     http://freemusicarchive.org/music/Harpoon_Forever/Life-Size_Cut-Out/                       \n",
       "10190     http://freemusicarchive.org/music/Elliott_Sharp/Ten_Thousand_Hours/                        \n",
       "10196     http://freemusicarchive.org/music/junior85/Directed_Numbers/                               \n",
       "10341     http://freemusicarchive.org/music/Mr__Mrs_Smith/Very_Fragile/                              \n",
       "10375     http://freemusicarchive.org/music/Lovely_Little_Girls/Live_Lumps_Festooned_with_Garbage/   \n",
       "10380     http://freemusicarchive.org/music/Wrist/Blind_AlleyOrphan_Drug_single_1135/                \n",
       "10413     http://freemusicarchive.org/music/Black_Math/To_You_-_digital_single/                      \n",
       "10489     http://freemusicarchive.org/music/2010061284945421/Unicorn_dream/                          \n",
       "10565     http://freemusicarchive.org/music/Sol_Rezza/The_existence_of_the_light/                    \n",
       "\n",
       "                                                      artist_url  \\\n",
       "album_id                                                           \n",
       "10036     http://freemusicarchive.org/music/2010061284945421/      \n",
       "10070     http://freemusicarchive.org/music/Harpoon_Forever/       \n",
       "10190     http://freemusicarchive.org/music/Elliott_Sharp/         \n",
       "10196     http://freemusicarchive.org/music/junior85/              \n",
       "10341     http://freemusicarchive.org/music/Mr__Mrs_Smith/         \n",
       "10375     http://freemusicarchive.org/music/Lovely_Little_Girls/   \n",
       "10380     http://freemusicarchive.org/music/Wrist/                 \n",
       "10413     http://freemusicarchive.org/music/Black_Math/            \n",
       "10489     http://freemusicarchive.org/music/2010061284945421/      \n",
       "10565     http://freemusicarchive.org/music/Sol_Rezza/             \n",
       "\n",
       "             album_date_released album_type  album_tracks  \n",
       "album_id                                                   \n",
       "10036     9/13/2011 04:54:21 PM   NaN        5             \n",
       "10070     9/18/2011 01:22:58 AM   NaN        4             \n",
       "10190     10/03/2011 06:34:14 PM  NaN        1             \n",
       "10196     10/04/2011              NaN        7             \n",
       "10341     11/01/2011 10:21:01 AM  NaN        10            \n",
       "10375     1/01/2003               NaN        8             \n",
       "10380     10/27/2011              NaN        2             \n",
       "10413     11/12/2011 12:53:30 PM  NaN        1             \n",
       "10489     11/28/2011 11:08:09 PM  NaN        8             \n",
       "10565     12/09/2011 05:01:06 PM  NaN        4             "
      ]
     },
     "execution_count": 15,
     "metadata": {},
     "output_type": "execute_result"
    }
   ],
   "source": [
    "pd.set_option('display.max_colwidth', -1)\n",
    "df[df['album_type'].isnull()].head(10)"
   ]
  },
  {
   "cell_type": "code",
   "execution_count": 16,
   "metadata": {},
   "outputs": [],
   "source": [
    "pd.reset_option('display.max_colwidth')"
   ]
  },
  {
   "cell_type": "markdown",
   "metadata": {},
   "source": [
    "1. The first one, mystical v by uiutna, looks like an EP.  \n",
    "2. As is the second one, Life-Size Cut-Out by Harpoon Forever.  \n",
    "3. The third one, Ten Thousand Hours by Elliott Sharp, looks like some sort of podcast from a musician.  \n",
    "4. The fourth one, mystical v by uiutna, looks like an album.  \n",
    "5. The fifth one is missing from the website.  \n",
    "6. Live Lumps Festooned with Garbage by Lovely Little Girls — looks like an album\n",
    "7. Blind Alley/Orphan Drug (single) by Wrist — looks like a single, as the title suggests too  \n",
    "8. 'To You' - digital single — looks like a single, as the title suggests too  \n",
    "9. Unicorn dream by uiutna — looks like an album\n",
    "10. The existence of the light by Sol Rezza — looks like an album"
   ]
  },
  {
   "cell_type": "markdown",
   "metadata": {},
   "source": [
    "From the examination above we can see that there are some unusual cases. Like #3 where a release is a podcast. Or #5 where the release is missing on the website.  \n",
    "But other then that, releases look like singles and albums. But how do we fill them with correct values?"
   ]
  },
  {
   "cell_type": "markdown",
   "metadata": {},
   "source": [
    "According to \"The Recording Academy's rules for Grammy Awards\":\n",
    "> While an album may contain as many or as few tracks as required, in the United States, The Recording Academy's rules for Grammy Awards state that an album must comprise a minimum total playing time of 15 minutes with at least five distinct tracks or a minimum total playing time of 30 minutes with no minimum track requirement  \n",
    "\n",
    "Source: https://en.wikipedia.org/wiki/Album\n",
    "\n",
    "So we can fill missing values depending on the length of a release. But we don't have this feature yet."
   ]
  },
  {
   "cell_type": "code",
   "execution_count": 17,
   "metadata": {},
   "outputs": [],
   "source": [
    "# import matplotlib.pyplot as plt\n",
    "# %matplotlib inline"
   ]
  },
  {
   "cell_type": "code",
   "execution_count": 18,
   "metadata": {},
   "outputs": [],
   "source": [
    "# x = df[df['album_type'] == 'Single Tracks']['album_tracks']\n",
    "# plt.hist(x, bins=30)\n",
    "# plt.xlabel('# of tracks');"
   ]
  },
  {
   "cell_type": "code",
   "execution_count": 19,
   "metadata": {},
   "outputs": [],
   "source": [
    "# pd.set_option('display.max_colwidth', -1)"
   ]
  },
  {
   "cell_type": "code",
   "execution_count": 20,
   "metadata": {},
   "outputs": [],
   "source": [
    "# df[df['album_type'] == 'Single Tracks'][df['album_tracks'] > 3]['album_url']"
   ]
  },
  {
   "cell_type": "markdown",
   "metadata": {},
   "source": [
    "Singles with more than 3 songs seem to iether be albums or collaborative playlists  \n",
    "Let's check albums too"
   ]
  },
  {
   "cell_type": "code",
   "execution_count": 21,
   "metadata": {},
   "outputs": [],
   "source": [
    "# x = df[df['album_type'] == 'Album']['album_tracks']\n",
    "# plt.hist(x, bins=30)\n",
    "# plt.xlabel('# of tracks');"
   ]
  },
  {
   "cell_type": "code",
   "execution_count": 22,
   "metadata": {},
   "outputs": [],
   "source": [
    "# pd.reset_option('display.max_colwidth')"
   ]
  },
  {
   "cell_type": "markdown",
   "metadata": {},
   "source": [
    "# Getting album length"
   ]
  },
  {
   "cell_type": "code",
   "execution_count": 23,
   "metadata": {},
   "outputs": [],
   "source": [
    "tracks_data = pd.read_csv('fma_metadata/raw_tracks.csv')"
   ]
  },
  {
   "cell_type": "code",
   "execution_count": 24,
   "metadata": {},
   "outputs": [
    {
     "data": {
      "text/html": [
       "<div>\n",
       "<style scoped>\n",
       "    .dataframe tbody tr th:only-of-type {\n",
       "        vertical-align: middle;\n",
       "    }\n",
       "\n",
       "    .dataframe tbody tr th {\n",
       "        vertical-align: top;\n",
       "    }\n",
       "\n",
       "    .dataframe thead th {\n",
       "        text-align: right;\n",
       "    }\n",
       "</style>\n",
       "<table border=\"1\" class=\"dataframe\">\n",
       "  <thead>\n",
       "    <tr style=\"text-align: right;\">\n",
       "      <th></th>\n",
       "      <th>track_id</th>\n",
       "      <th>album_id</th>\n",
       "      <th>album_title</th>\n",
       "      <th>album_url</th>\n",
       "      <th>artist_id</th>\n",
       "      <th>artist_name</th>\n",
       "      <th>artist_url</th>\n",
       "      <th>artist_website</th>\n",
       "      <th>license_image_file</th>\n",
       "      <th>license_image_file_large</th>\n",
       "      <th>...</th>\n",
       "      <th>track_information</th>\n",
       "      <th>track_instrumental</th>\n",
       "      <th>track_interest</th>\n",
       "      <th>track_language_code</th>\n",
       "      <th>track_listens</th>\n",
       "      <th>track_lyricist</th>\n",
       "      <th>track_number</th>\n",
       "      <th>track_publisher</th>\n",
       "      <th>track_title</th>\n",
       "      <th>track_url</th>\n",
       "    </tr>\n",
       "  </thead>\n",
       "  <tbody>\n",
       "    <tr>\n",
       "      <th>0</th>\n",
       "      <td>2</td>\n",
       "      <td>1.0</td>\n",
       "      <td>AWOL - A Way Of Life</td>\n",
       "      <td>http://freemusicarchive.org/music/AWOL/AWOL_-_...</td>\n",
       "      <td>1</td>\n",
       "      <td>AWOL</td>\n",
       "      <td>http://freemusicarchive.org/music/AWOL/</td>\n",
       "      <td>http://www.AzillionRecords.blogspot.com</td>\n",
       "      <td>http://i.creativecommons.org/l/by-nc-sa/3.0/us...</td>\n",
       "      <td>http://fma-files.s3.amazonaws.com/resources/im...</td>\n",
       "      <td>...</td>\n",
       "      <td>NaN</td>\n",
       "      <td>0</td>\n",
       "      <td>4656</td>\n",
       "      <td>en</td>\n",
       "      <td>1293</td>\n",
       "      <td>NaN</td>\n",
       "      <td>3</td>\n",
       "      <td>NaN</td>\n",
       "      <td>Food</td>\n",
       "      <td>http://freemusicarchive.org/music/AWOL/AWOL_-_...</td>\n",
       "    </tr>\n",
       "    <tr>\n",
       "      <th>1</th>\n",
       "      <td>3</td>\n",
       "      <td>1.0</td>\n",
       "      <td>AWOL - A Way Of Life</td>\n",
       "      <td>http://freemusicarchive.org/music/AWOL/AWOL_-_...</td>\n",
       "      <td>1</td>\n",
       "      <td>AWOL</td>\n",
       "      <td>http://freemusicarchive.org/music/AWOL/</td>\n",
       "      <td>http://www.AzillionRecords.blogspot.com</td>\n",
       "      <td>http://i.creativecommons.org/l/by-nc-sa/3.0/us...</td>\n",
       "      <td>http://fma-files.s3.amazonaws.com/resources/im...</td>\n",
       "      <td>...</td>\n",
       "      <td>NaN</td>\n",
       "      <td>0</td>\n",
       "      <td>1470</td>\n",
       "      <td>en</td>\n",
       "      <td>514</td>\n",
       "      <td>NaN</td>\n",
       "      <td>4</td>\n",
       "      <td>NaN</td>\n",
       "      <td>Electric Ave</td>\n",
       "      <td>http://freemusicarchive.org/music/AWOL/AWOL_-_...</td>\n",
       "    </tr>\n",
       "    <tr>\n",
       "      <th>2</th>\n",
       "      <td>5</td>\n",
       "      <td>1.0</td>\n",
       "      <td>AWOL - A Way Of Life</td>\n",
       "      <td>http://freemusicarchive.org/music/AWOL/AWOL_-_...</td>\n",
       "      <td>1</td>\n",
       "      <td>AWOL</td>\n",
       "      <td>http://freemusicarchive.org/music/AWOL/</td>\n",
       "      <td>http://www.AzillionRecords.blogspot.com</td>\n",
       "      <td>http://i.creativecommons.org/l/by-nc-sa/3.0/us...</td>\n",
       "      <td>http://fma-files.s3.amazonaws.com/resources/im...</td>\n",
       "      <td>...</td>\n",
       "      <td>NaN</td>\n",
       "      <td>0</td>\n",
       "      <td>1933</td>\n",
       "      <td>en</td>\n",
       "      <td>1151</td>\n",
       "      <td>NaN</td>\n",
       "      <td>6</td>\n",
       "      <td>NaN</td>\n",
       "      <td>This World</td>\n",
       "      <td>http://freemusicarchive.org/music/AWOL/AWOL_-_...</td>\n",
       "    </tr>\n",
       "    <tr>\n",
       "      <th>3</th>\n",
       "      <td>10</td>\n",
       "      <td>6.0</td>\n",
       "      <td>Constant Hitmaker</td>\n",
       "      <td>http://freemusicarchive.org/music/Kurt_Vile/Co...</td>\n",
       "      <td>6</td>\n",
       "      <td>Kurt Vile</td>\n",
       "      <td>http://freemusicarchive.org/music/Kurt_Vile/</td>\n",
       "      <td>http://kurtvile.com</td>\n",
       "      <td>http://i.creativecommons.org/l/by-nc-nd/3.0/88...</td>\n",
       "      <td>http://fma-files.s3.amazonaws.com/resources/im...</td>\n",
       "      <td>...</td>\n",
       "      <td>NaN</td>\n",
       "      <td>0</td>\n",
       "      <td>54881</td>\n",
       "      <td>en</td>\n",
       "      <td>50135</td>\n",
       "      <td>NaN</td>\n",
       "      <td>1</td>\n",
       "      <td>NaN</td>\n",
       "      <td>Freeway</td>\n",
       "      <td>http://freemusicarchive.org/music/Kurt_Vile/Co...</td>\n",
       "    </tr>\n",
       "    <tr>\n",
       "      <th>4</th>\n",
       "      <td>20</td>\n",
       "      <td>4.0</td>\n",
       "      <td>Niris</td>\n",
       "      <td>http://freemusicarchive.org/music/Chris_and_Ni...</td>\n",
       "      <td>4</td>\n",
       "      <td>Nicky Cook</td>\n",
       "      <td>http://freemusicarchive.org/music/Chris_and_Ni...</td>\n",
       "      <td>NaN</td>\n",
       "      <td>http://i.creativecommons.org/l/by-nc-nd/3.0/88...</td>\n",
       "      <td>http://fma-files.s3.amazonaws.com/resources/im...</td>\n",
       "      <td>...</td>\n",
       "      <td>NaN</td>\n",
       "      <td>0</td>\n",
       "      <td>978</td>\n",
       "      <td>en</td>\n",
       "      <td>361</td>\n",
       "      <td>NaN</td>\n",
       "      <td>3</td>\n",
       "      <td>NaN</td>\n",
       "      <td>Spiritual Level</td>\n",
       "      <td>http://freemusicarchive.org/music/Chris_and_Ni...</td>\n",
       "    </tr>\n",
       "  </tbody>\n",
       "</table>\n",
       "<p>5 rows × 39 columns</p>\n",
       "</div>"
      ],
      "text/plain": [
       "   track_id  album_id           album_title  \\\n",
       "0         2       1.0  AWOL - A Way Of Life   \n",
       "1         3       1.0  AWOL - A Way Of Life   \n",
       "2         5       1.0  AWOL - A Way Of Life   \n",
       "3        10       6.0     Constant Hitmaker   \n",
       "4        20       4.0                 Niris   \n",
       "\n",
       "                                           album_url  artist_id artist_name  \\\n",
       "0  http://freemusicarchive.org/music/AWOL/AWOL_-_...          1        AWOL   \n",
       "1  http://freemusicarchive.org/music/AWOL/AWOL_-_...          1        AWOL   \n",
       "2  http://freemusicarchive.org/music/AWOL/AWOL_-_...          1        AWOL   \n",
       "3  http://freemusicarchive.org/music/Kurt_Vile/Co...          6   Kurt Vile   \n",
       "4  http://freemusicarchive.org/music/Chris_and_Ni...          4  Nicky Cook   \n",
       "\n",
       "                                          artist_url  \\\n",
       "0            http://freemusicarchive.org/music/AWOL/   \n",
       "1            http://freemusicarchive.org/music/AWOL/   \n",
       "2            http://freemusicarchive.org/music/AWOL/   \n",
       "3       http://freemusicarchive.org/music/Kurt_Vile/   \n",
       "4  http://freemusicarchive.org/music/Chris_and_Ni...   \n",
       "\n",
       "                            artist_website  \\\n",
       "0  http://www.AzillionRecords.blogspot.com   \n",
       "1  http://www.AzillionRecords.blogspot.com   \n",
       "2  http://www.AzillionRecords.blogspot.com   \n",
       "3                      http://kurtvile.com   \n",
       "4                                      NaN   \n",
       "\n",
       "                                  license_image_file  \\\n",
       "0  http://i.creativecommons.org/l/by-nc-sa/3.0/us...   \n",
       "1  http://i.creativecommons.org/l/by-nc-sa/3.0/us...   \n",
       "2  http://i.creativecommons.org/l/by-nc-sa/3.0/us...   \n",
       "3  http://i.creativecommons.org/l/by-nc-nd/3.0/88...   \n",
       "4  http://i.creativecommons.org/l/by-nc-nd/3.0/88...   \n",
       "\n",
       "                            license_image_file_large  ...  track_information  \\\n",
       "0  http://fma-files.s3.amazonaws.com/resources/im...  ...                NaN   \n",
       "1  http://fma-files.s3.amazonaws.com/resources/im...  ...                NaN   \n",
       "2  http://fma-files.s3.amazonaws.com/resources/im...  ...                NaN   \n",
       "3  http://fma-files.s3.amazonaws.com/resources/im...  ...                NaN   \n",
       "4  http://fma-files.s3.amazonaws.com/resources/im...  ...                NaN   \n",
       "\n",
       "  track_instrumental track_interest track_language_code  track_listens  \\\n",
       "0                  0           4656                  en           1293   \n",
       "1                  0           1470                  en            514   \n",
       "2                  0           1933                  en           1151   \n",
       "3                  0          54881                  en          50135   \n",
       "4                  0            978                  en            361   \n",
       "\n",
       "   track_lyricist track_number track_publisher      track_title  \\\n",
       "0             NaN            3             NaN             Food   \n",
       "1             NaN            4             NaN     Electric Ave   \n",
       "2             NaN            6             NaN       This World   \n",
       "3             NaN            1             NaN          Freeway   \n",
       "4             NaN            3             NaN  Spiritual Level   \n",
       "\n",
       "                                           track_url  \n",
       "0  http://freemusicarchive.org/music/AWOL/AWOL_-_...  \n",
       "1  http://freemusicarchive.org/music/AWOL/AWOL_-_...  \n",
       "2  http://freemusicarchive.org/music/AWOL/AWOL_-_...  \n",
       "3  http://freemusicarchive.org/music/Kurt_Vile/Co...  \n",
       "4  http://freemusicarchive.org/music/Chris_and_Ni...  \n",
       "\n",
       "[5 rows x 39 columns]"
      ]
     },
     "execution_count": 24,
     "metadata": {},
     "output_type": "execute_result"
    }
   ],
   "source": [
    "tracks_data.head()"
   ]
  },
  {
   "cell_type": "code",
   "execution_count": 25,
   "metadata": {},
   "outputs": [
    {
     "data": {
      "text/plain": [
       "Index([u'track_id', u'album_id', u'album_title', u'album_url', u'artist_id',\n",
       "       u'artist_name', u'artist_url', u'artist_website', u'license_image_file',\n",
       "       u'license_image_file_large', u'license_parent_id', u'license_title',\n",
       "       u'license_url', u'tags', u'track_bit_rate', u'track_comments',\n",
       "       u'track_composer', u'track_copyright_c', u'track_copyright_p',\n",
       "       u'track_date_created', u'track_date_recorded', u'track_disc_number',\n",
       "       u'track_duration', u'track_explicit', u'track_explicit_notes',\n",
       "       u'track_favorites', u'track_file', u'track_genres', u'track_image_file',\n",
       "       u'track_information', u'track_instrumental', u'track_interest',\n",
       "       u'track_language_code', u'track_listens', u'track_lyricist',\n",
       "       u'track_number', u'track_publisher', u'track_title', u'track_url'],\n",
       "      dtype='object')"
      ]
     },
     "execution_count": 25,
     "metadata": {},
     "output_type": "execute_result"
    }
   ],
   "source": [
    "tracks_data.columns"
   ]
  },
  {
   "cell_type": "code",
   "execution_count": 26,
   "metadata": {},
   "outputs": [
    {
     "data": {
      "text/plain": [
       "(109727, 57)"
      ]
     },
     "execution_count": 26,
     "metadata": {},
     "output_type": "execute_result"
    }
   ],
   "source": [
    "tracks_with_albums = tracks_data.join(albums_data, on='album_id', rsuffix='_from_album')\n",
    "tracks_with_albums.shape"
   ]
  },
  {
   "cell_type": "code",
   "execution_count": 27,
   "metadata": {},
   "outputs": [
    {
     "data": {
      "text/html": [
       "<div>\n",
       "<style scoped>\n",
       "    .dataframe tbody tr th:only-of-type {\n",
       "        vertical-align: middle;\n",
       "    }\n",
       "\n",
       "    .dataframe tbody tr th {\n",
       "        vertical-align: top;\n",
       "    }\n",
       "\n",
       "    .dataframe thead th {\n",
       "        text-align: right;\n",
       "    }\n",
       "</style>\n",
       "<table border=\"1\" class=\"dataframe\">\n",
       "  <thead>\n",
       "    <tr style=\"text-align: right;\">\n",
       "      <th></th>\n",
       "      <th>track_id</th>\n",
       "      <th>album_id</th>\n",
       "      <th>album_title</th>\n",
       "      <th>album_url</th>\n",
       "      <th>artist_id</th>\n",
       "      <th>artist_name</th>\n",
       "      <th>artist_url</th>\n",
       "      <th>artist_website</th>\n",
       "      <th>license_image_file</th>\n",
       "      <th>license_image_file_large</th>\n",
       "      <th>...</th>\n",
       "      <th>album_information</th>\n",
       "      <th>album_listens</th>\n",
       "      <th>album_producer</th>\n",
       "      <th>album_title_from_album</th>\n",
       "      <th>album_tracks</th>\n",
       "      <th>album_type</th>\n",
       "      <th>album_url_from_album</th>\n",
       "      <th>artist_name_from_album</th>\n",
       "      <th>artist_url_from_album</th>\n",
       "      <th>tags_from_album</th>\n",
       "    </tr>\n",
       "  </thead>\n",
       "  <tbody>\n",
       "    <tr>\n",
       "      <th>0</th>\n",
       "      <td>2</td>\n",
       "      <td>1.0</td>\n",
       "      <td>AWOL - A Way Of Life</td>\n",
       "      <td>http://freemusicarchive.org/music/AWOL/AWOL_-_...</td>\n",
       "      <td>1</td>\n",
       "      <td>AWOL</td>\n",
       "      <td>http://freemusicarchive.org/music/AWOL/</td>\n",
       "      <td>http://www.AzillionRecords.blogspot.com</td>\n",
       "      <td>http://i.creativecommons.org/l/by-nc-sa/3.0/us...</td>\n",
       "      <td>http://fma-files.s3.amazonaws.com/resources/im...</td>\n",
       "      <td>...</td>\n",
       "      <td>&lt;p&gt;&lt;/p&gt;</td>\n",
       "      <td>6073.0</td>\n",
       "      <td>NaN</td>\n",
       "      <td>AWOL - A Way Of Life</td>\n",
       "      <td>7.0</td>\n",
       "      <td>Album</td>\n",
       "      <td>http://freemusicarchive.org/music/AWOL/AWOL_-_...</td>\n",
       "      <td>AWOL</td>\n",
       "      <td>http://freemusicarchive.org/music/AWOL/</td>\n",
       "      <td>[]</td>\n",
       "    </tr>\n",
       "    <tr>\n",
       "      <th>1</th>\n",
       "      <td>3</td>\n",
       "      <td>1.0</td>\n",
       "      <td>AWOL - A Way Of Life</td>\n",
       "      <td>http://freemusicarchive.org/music/AWOL/AWOL_-_...</td>\n",
       "      <td>1</td>\n",
       "      <td>AWOL</td>\n",
       "      <td>http://freemusicarchive.org/music/AWOL/</td>\n",
       "      <td>http://www.AzillionRecords.blogspot.com</td>\n",
       "      <td>http://i.creativecommons.org/l/by-nc-sa/3.0/us...</td>\n",
       "      <td>http://fma-files.s3.amazonaws.com/resources/im...</td>\n",
       "      <td>...</td>\n",
       "      <td>&lt;p&gt;&lt;/p&gt;</td>\n",
       "      <td>6073.0</td>\n",
       "      <td>NaN</td>\n",
       "      <td>AWOL - A Way Of Life</td>\n",
       "      <td>7.0</td>\n",
       "      <td>Album</td>\n",
       "      <td>http://freemusicarchive.org/music/AWOL/AWOL_-_...</td>\n",
       "      <td>AWOL</td>\n",
       "      <td>http://freemusicarchive.org/music/AWOL/</td>\n",
       "      <td>[]</td>\n",
       "    </tr>\n",
       "    <tr>\n",
       "      <th>2</th>\n",
       "      <td>5</td>\n",
       "      <td>1.0</td>\n",
       "      <td>AWOL - A Way Of Life</td>\n",
       "      <td>http://freemusicarchive.org/music/AWOL/AWOL_-_...</td>\n",
       "      <td>1</td>\n",
       "      <td>AWOL</td>\n",
       "      <td>http://freemusicarchive.org/music/AWOL/</td>\n",
       "      <td>http://www.AzillionRecords.blogspot.com</td>\n",
       "      <td>http://i.creativecommons.org/l/by-nc-sa/3.0/us...</td>\n",
       "      <td>http://fma-files.s3.amazonaws.com/resources/im...</td>\n",
       "      <td>...</td>\n",
       "      <td>&lt;p&gt;&lt;/p&gt;</td>\n",
       "      <td>6073.0</td>\n",
       "      <td>NaN</td>\n",
       "      <td>AWOL - A Way Of Life</td>\n",
       "      <td>7.0</td>\n",
       "      <td>Album</td>\n",
       "      <td>http://freemusicarchive.org/music/AWOL/AWOL_-_...</td>\n",
       "      <td>AWOL</td>\n",
       "      <td>http://freemusicarchive.org/music/AWOL/</td>\n",
       "      <td>[]</td>\n",
       "    </tr>\n",
       "    <tr>\n",
       "      <th>3</th>\n",
       "      <td>10</td>\n",
       "      <td>6.0</td>\n",
       "      <td>Constant Hitmaker</td>\n",
       "      <td>http://freemusicarchive.org/music/Kurt_Vile/Co...</td>\n",
       "      <td>6</td>\n",
       "      <td>Kurt Vile</td>\n",
       "      <td>http://freemusicarchive.org/music/Kurt_Vile/</td>\n",
       "      <td>http://kurtvile.com</td>\n",
       "      <td>http://i.creativecommons.org/l/by-nc-nd/3.0/88...</td>\n",
       "      <td>http://fma-files.s3.amazonaws.com/resources/im...</td>\n",
       "      <td>...</td>\n",
       "      <td>NaN</td>\n",
       "      <td>NaN</td>\n",
       "      <td>NaN</td>\n",
       "      <td>NaN</td>\n",
       "      <td>NaN</td>\n",
       "      <td>NaN</td>\n",
       "      <td>NaN</td>\n",
       "      <td>NaN</td>\n",
       "      <td>NaN</td>\n",
       "      <td>NaN</td>\n",
       "    </tr>\n",
       "    <tr>\n",
       "      <th>4</th>\n",
       "      <td>20</td>\n",
       "      <td>4.0</td>\n",
       "      <td>Niris</td>\n",
       "      <td>http://freemusicarchive.org/music/Chris_and_Ni...</td>\n",
       "      <td>4</td>\n",
       "      <td>Nicky Cook</td>\n",
       "      <td>http://freemusicarchive.org/music/Chris_and_Ni...</td>\n",
       "      <td>NaN</td>\n",
       "      <td>http://i.creativecommons.org/l/by-nc-nd/3.0/88...</td>\n",
       "      <td>http://fma-files.s3.amazonaws.com/resources/im...</td>\n",
       "      <td>...</td>\n",
       "      <td>NaN</td>\n",
       "      <td>NaN</td>\n",
       "      <td>NaN</td>\n",
       "      <td>NaN</td>\n",
       "      <td>NaN</td>\n",
       "      <td>NaN</td>\n",
       "      <td>NaN</td>\n",
       "      <td>NaN</td>\n",
       "      <td>NaN</td>\n",
       "      <td>NaN</td>\n",
       "    </tr>\n",
       "  </tbody>\n",
       "</table>\n",
       "<p>5 rows × 57 columns</p>\n",
       "</div>"
      ],
      "text/plain": [
       "   track_id  album_id           album_title  \\\n",
       "0         2       1.0  AWOL - A Way Of Life   \n",
       "1         3       1.0  AWOL - A Way Of Life   \n",
       "2         5       1.0  AWOL - A Way Of Life   \n",
       "3        10       6.0     Constant Hitmaker   \n",
       "4        20       4.0                 Niris   \n",
       "\n",
       "                                           album_url  artist_id artist_name  \\\n",
       "0  http://freemusicarchive.org/music/AWOL/AWOL_-_...          1        AWOL   \n",
       "1  http://freemusicarchive.org/music/AWOL/AWOL_-_...          1        AWOL   \n",
       "2  http://freemusicarchive.org/music/AWOL/AWOL_-_...          1        AWOL   \n",
       "3  http://freemusicarchive.org/music/Kurt_Vile/Co...          6   Kurt Vile   \n",
       "4  http://freemusicarchive.org/music/Chris_and_Ni...          4  Nicky Cook   \n",
       "\n",
       "                                          artist_url  \\\n",
       "0            http://freemusicarchive.org/music/AWOL/   \n",
       "1            http://freemusicarchive.org/music/AWOL/   \n",
       "2            http://freemusicarchive.org/music/AWOL/   \n",
       "3       http://freemusicarchive.org/music/Kurt_Vile/   \n",
       "4  http://freemusicarchive.org/music/Chris_and_Ni...   \n",
       "\n",
       "                            artist_website  \\\n",
       "0  http://www.AzillionRecords.blogspot.com   \n",
       "1  http://www.AzillionRecords.blogspot.com   \n",
       "2  http://www.AzillionRecords.blogspot.com   \n",
       "3                      http://kurtvile.com   \n",
       "4                                      NaN   \n",
       "\n",
       "                                  license_image_file  \\\n",
       "0  http://i.creativecommons.org/l/by-nc-sa/3.0/us...   \n",
       "1  http://i.creativecommons.org/l/by-nc-sa/3.0/us...   \n",
       "2  http://i.creativecommons.org/l/by-nc-sa/3.0/us...   \n",
       "3  http://i.creativecommons.org/l/by-nc-nd/3.0/88...   \n",
       "4  http://i.creativecommons.org/l/by-nc-nd/3.0/88...   \n",
       "\n",
       "                            license_image_file_large  ...  album_information  \\\n",
       "0  http://fma-files.s3.amazonaws.com/resources/im...  ...            <p></p>   \n",
       "1  http://fma-files.s3.amazonaws.com/resources/im...  ...            <p></p>   \n",
       "2  http://fma-files.s3.amazonaws.com/resources/im...  ...            <p></p>   \n",
       "3  http://fma-files.s3.amazonaws.com/resources/im...  ...                NaN   \n",
       "4  http://fma-files.s3.amazonaws.com/resources/im...  ...                NaN   \n",
       "\n",
       "  album_listens album_producer album_title_from_album  album_tracks  \\\n",
       "0        6073.0            NaN   AWOL - A Way Of Life           7.0   \n",
       "1        6073.0            NaN   AWOL - A Way Of Life           7.0   \n",
       "2        6073.0            NaN   AWOL - A Way Of Life           7.0   \n",
       "3           NaN            NaN                    NaN           NaN   \n",
       "4           NaN            NaN                    NaN           NaN   \n",
       "\n",
       "   album_type                               album_url_from_album  \\\n",
       "0       Album  http://freemusicarchive.org/music/AWOL/AWOL_-_...   \n",
       "1       Album  http://freemusicarchive.org/music/AWOL/AWOL_-_...   \n",
       "2       Album  http://freemusicarchive.org/music/AWOL/AWOL_-_...   \n",
       "3         NaN                                                NaN   \n",
       "4         NaN                                                NaN   \n",
       "\n",
       "  artist_name_from_album                    artist_url_from_album  \\\n",
       "0                   AWOL  http://freemusicarchive.org/music/AWOL/   \n",
       "1                   AWOL  http://freemusicarchive.org/music/AWOL/   \n",
       "2                   AWOL  http://freemusicarchive.org/music/AWOL/   \n",
       "3                    NaN                                      NaN   \n",
       "4                    NaN                                      NaN   \n",
       "\n",
       "  tags_from_album  \n",
       "0              []  \n",
       "1              []  \n",
       "2              []  \n",
       "3             NaN  \n",
       "4             NaN  \n",
       "\n",
       "[5 rows x 57 columns]"
      ]
     },
     "execution_count": 27,
     "metadata": {},
     "output_type": "execute_result"
    }
   ],
   "source": [
    "tracks_with_albums.head()"
   ]
  },
  {
   "cell_type": "code",
   "execution_count": 28,
   "metadata": {},
   "outputs": [
    {
     "data": {
      "text/plain": [
       "0"
      ]
     },
     "execution_count": 28,
     "metadata": {},
     "output_type": "execute_result"
    }
   ],
   "source": [
    "tracks_with_albums['track_duration'].isnull().sum()"
   ]
  },
  {
   "cell_type": "code",
   "execution_count": 29,
   "metadata": {},
   "outputs": [
    {
     "data": {
      "text/plain": [
       "track_id                      int64\n",
       "album_id                    float64\n",
       "album_title                  object\n",
       "album_url                    object\n",
       "artist_id                     int64\n",
       "artist_name                  object\n",
       "artist_url                   object\n",
       "artist_website               object\n",
       "license_image_file           object\n",
       "license_image_file_large     object\n",
       "license_parent_id           float64\n",
       "license_title                object\n",
       "license_url                  object\n",
       "tags                         object\n",
       "track_bit_rate              float64\n",
       "track_comments                int64\n",
       "track_composer               object\n",
       "track_copyright_c            object\n",
       "track_copyright_p            object\n",
       "track_date_created           object\n",
       "track_date_recorded          object\n",
       "track_disc_number             int64\n",
       "track_duration               object\n",
       "track_explicit               object\n",
       "track_explicit_notes         object\n",
       "track_favorites               int64\n",
       "track_file                   object\n",
       "track_genres                 object\n",
       "track_image_file             object\n",
       "track_information            object\n",
       "track_instrumental            int64\n",
       "track_interest                int64\n",
       "track_language_code          object\n",
       "track_listens                 int64\n",
       "track_lyricist               object\n",
       "track_number                  int64\n",
       "track_publisher              object\n",
       "track_title                  object\n",
       "track_url                    object\n",
       "album_comments              float64\n",
       "album_date_created           object\n",
       "album_date_released          object\n",
       "album_engineer               object\n",
       "album_favorites             float64\n",
       "album_handle                 object\n",
       "album_image_file             object\n",
       "album_images                 object\n",
       "album_information            object\n",
       "album_listens               float64\n",
       "album_producer               object\n",
       "album_title_from_album       object\n",
       "album_tracks                float64\n",
       "album_type                   object\n",
       "album_url_from_album         object\n",
       "artist_name_from_album       object\n",
       "artist_url_from_album        object\n",
       "tags_from_album              object\n",
       "dtype: object"
      ]
     },
     "execution_count": 29,
     "metadata": {},
     "output_type": "execute_result"
    }
   ],
   "source": [
    "tracks_with_albums.dtypes"
   ]
  },
  {
   "cell_type": "code",
   "execution_count": 30,
   "metadata": {},
   "outputs": [
    {
     "data": {
      "text/plain": [
       "array(['02:48', '03:57', '03:26', ..., '22:17', '36:12', '28:28'],\n",
       "      dtype=object)"
      ]
     },
     "execution_count": 30,
     "metadata": {},
     "output_type": "execute_result"
    }
   ],
   "source": [
    "tracks_with_albums['track_duration'].unique()"
   ]
  },
  {
   "cell_type": "code",
   "execution_count": 31,
   "metadata": {},
   "outputs": [
    {
     "data": {
      "text/plain": [
       "0    02:48\n",
       "1    03:57\n",
       "2    03:26\n",
       "3    02:41\n",
       "4    05:11\n",
       "Name: track_duration, dtype: object"
      ]
     },
     "execution_count": 31,
     "metadata": {},
     "output_type": "execute_result"
    }
   ],
   "source": [
    "tracks_with_albums['track_duration'].head()"
   ]
  },
  {
   "cell_type": "code",
   "execution_count": 32,
   "metadata": {},
   "outputs": [
    {
     "data": {
      "text/plain": [
       "0    168\n",
       "1    237\n",
       "2    206\n",
       "3    161\n",
       "4    311\n",
       "Name: track_duration, dtype: int64"
      ]
     },
     "execution_count": 32,
     "metadata": {},
     "output_type": "execute_result"
    }
   ],
   "source": [
    "def time_to_int(time):\n",
    "    time_format = len(time.split(':'))\n",
    "    if time_format == 1:\n",
    "        return(int(time))\n",
    "    if time_format == 2:\n",
    "        minutes, seconds = time.split(':')\n",
    "        return(int(minutes) * 60 + int(seconds))\n",
    "    if time_format == 3:\n",
    "        hours, minutes, seconds = time.split(':')\n",
    "        return(int(hours) * 3600 + int(minutes) * 60 + int(seconds))\n",
    "    raise time\n",
    "\n",
    "tracks_with_albums['track_duration'].apply(time_to_int).head()"
   ]
  },
  {
   "cell_type": "code",
   "execution_count": 33,
   "metadata": {},
   "outputs": [],
   "source": [
    "tracks_with_albums['track_duration'] = tracks_with_albums['track_duration'].apply(time_to_int)"
   ]
  },
  {
   "cell_type": "code",
   "execution_count": 34,
   "metadata": {},
   "outputs": [
    {
     "data": {
      "text/plain": [
       "album_id\n",
       "1.0     1235\n",
       "4.0     1590\n",
       "6.0      279\n",
       "21.0    1168\n",
       "58.0    1346\n",
       "Name: track_duration, dtype: int64"
      ]
     },
     "execution_count": 34,
     "metadata": {},
     "output_type": "execute_result"
    }
   ],
   "source": [
    "album_durations = tracks_with_albums.groupby('album_id').sum()['track_duration']\n",
    "album_durations.head()"
   ]
  },
  {
   "cell_type": "code",
   "execution_count": 35,
   "metadata": {},
   "outputs": [
    {
     "name": "stderr",
     "output_type": "stream",
     "text": [
      "/usr/local/lib/python2.7/site-packages/pandas/core/indexing.py:362: SettingWithCopyWarning: \n",
      "A value is trying to be set on a copy of a slice from a DataFrame.\n",
      "Try using .loc[row_indexer,col_indexer] = value instead\n",
      "\n",
      "See the caveats in the documentation: http://pandas.pydata.org/pandas-docs/stable/indexing.html#indexing-view-versus-copy\n",
      "  self.obj[key] = _infer_fill_value(value)\n",
      "/usr/local/lib/python2.7/site-packages/pandas/core/indexing.py:543: SettingWithCopyWarning: \n",
      "A value is trying to be set on a copy of a slice from a DataFrame.\n",
      "Try using .loc[row_indexer,col_indexer] = value instead\n",
      "\n",
      "See the caveats in the documentation: http://pandas.pydata.org/pandas-docs/stable/indexing.html#indexing-view-versus-copy\n",
      "  self.obj[item] = s\n"
     ]
    },
    {
     "data": {
      "text/html": [
       "<div>\n",
       "<style scoped>\n",
       "    .dataframe tbody tr th:only-of-type {\n",
       "        vertical-align: middle;\n",
       "    }\n",
       "\n",
       "    .dataframe tbody tr th {\n",
       "        vertical-align: top;\n",
       "    }\n",
       "\n",
       "    .dataframe thead th {\n",
       "        text-align: right;\n",
       "    }\n",
       "</style>\n",
       "<table border=\"1\" class=\"dataframe\">\n",
       "  <thead>\n",
       "    <tr style=\"text-align: right;\">\n",
       "      <th></th>\n",
       "      <th>album_url</th>\n",
       "      <th>artist_url</th>\n",
       "      <th>album_date_released</th>\n",
       "      <th>album_type</th>\n",
       "      <th>album_tracks</th>\n",
       "      <th>album_duration</th>\n",
       "    </tr>\n",
       "    <tr>\n",
       "      <th>album_id</th>\n",
       "      <th></th>\n",
       "      <th></th>\n",
       "      <th></th>\n",
       "      <th></th>\n",
       "      <th></th>\n",
       "      <th></th>\n",
       "    </tr>\n",
       "  </thead>\n",
       "  <tbody>\n",
       "    <tr>\n",
       "      <th>1</th>\n",
       "      <td>http://freemusicarchive.org/music/AWOL/AWOL_-_...</td>\n",
       "      <td>http://freemusicarchive.org/music/AWOL/</td>\n",
       "      <td>1/05/2009</td>\n",
       "      <td>Album</td>\n",
       "      <td>7</td>\n",
       "      <td>1235</td>\n",
       "    </tr>\n",
       "    <tr>\n",
       "      <th>100</th>\n",
       "      <td>http://freemusicarchive.org/music/Bird_Names/O...</td>\n",
       "      <td>http://freemusicarchive.org/music/Bird_Names/</td>\n",
       "      <td>1/09/2009</td>\n",
       "      <td>Album</td>\n",
       "      <td>4</td>\n",
       "      <td>626</td>\n",
       "    </tr>\n",
       "    <tr>\n",
       "      <th>1000</th>\n",
       "      <td>http://freemusicarchive.org/music/DMBQ/DMBQ_Li...</td>\n",
       "      <td>http://freemusicarchive.org/music/DMBQ/</td>\n",
       "      <td>10/26/2008</td>\n",
       "      <td>Live Performance</td>\n",
       "      <td>4</td>\n",
       "      <td>3264</td>\n",
       "    </tr>\n",
       "    <tr>\n",
       "      <th>10000</th>\n",
       "      <td>http://freemusicarchive.org/music/Sundrips/Liv...</td>\n",
       "      <td>http://freemusicarchive.org/music/Sundrips/</td>\n",
       "      <td>9/05/2011 04:42:57 PM</td>\n",
       "      <td>Radio Program</td>\n",
       "      <td>1</td>\n",
       "      <td>874</td>\n",
       "    </tr>\n",
       "    <tr>\n",
       "      <th>10001</th>\n",
       "      <td>http://freemusicarchive.org/music/Uton/Grounds...</td>\n",
       "      <td>http://freemusicarchive.org/music/Uton/</td>\n",
       "      <td>1/01/2006</td>\n",
       "      <td>Album</td>\n",
       "      <td>1</td>\n",
       "      <td>2746</td>\n",
       "    </tr>\n",
       "  </tbody>\n",
       "</table>\n",
       "</div>"
      ],
      "text/plain": [
       "                                                  album_url  \\\n",
       "album_id                                                      \n",
       "1         http://freemusicarchive.org/music/AWOL/AWOL_-_...   \n",
       "100       http://freemusicarchive.org/music/Bird_Names/O...   \n",
       "1000      http://freemusicarchive.org/music/DMBQ/DMBQ_Li...   \n",
       "10000     http://freemusicarchive.org/music/Sundrips/Liv...   \n",
       "10001     http://freemusicarchive.org/music/Uton/Grounds...   \n",
       "\n",
       "                                             artist_url  \\\n",
       "album_id                                                  \n",
       "1               http://freemusicarchive.org/music/AWOL/   \n",
       "100       http://freemusicarchive.org/music/Bird_Names/   \n",
       "1000            http://freemusicarchive.org/music/DMBQ/   \n",
       "10000       http://freemusicarchive.org/music/Sundrips/   \n",
       "10001           http://freemusicarchive.org/music/Uton/   \n",
       "\n",
       "            album_date_released        album_type  album_tracks  \\\n",
       "album_id                                                          \n",
       "1                     1/05/2009             Album             7   \n",
       "100                   1/09/2009             Album             4   \n",
       "1000                 10/26/2008  Live Performance             4   \n",
       "10000     9/05/2011 04:42:57 PM     Radio Program             1   \n",
       "10001                 1/01/2006             Album             1   \n",
       "\n",
       "          album_duration  \n",
       "album_id                  \n",
       "1                   1235  \n",
       "100                  626  \n",
       "1000                3264  \n",
       "10000                874  \n",
       "10001               2746  "
      ]
     },
     "execution_count": 35,
     "metadata": {},
     "output_type": "execute_result"
    }
   ],
   "source": [
    "df.loc[:,'album_duration'] = album_durations\n",
    "df.head()"
   ]
  },
  {
   "cell_type": "code",
   "execution_count": 36,
   "metadata": {},
   "outputs": [
    {
     "data": {
      "text/plain": [
       "0"
      ]
     },
     "execution_count": 36,
     "metadata": {},
     "output_type": "execute_result"
    }
   ],
   "source": [
    "df['album_duration'].isnull().sum()"
   ]
  },
  {
   "cell_type": "markdown",
   "metadata": {},
   "source": [
    "## Fill missing album_type"
   ]
  },
  {
   "cell_type": "code",
   "execution_count": 37,
   "metadata": {},
   "outputs": [],
   "source": [
    "def album_type_from_duration(duration):\n",
    "    if duration >= 900: # 15 minutes = 900 seconds\n",
    "        return 'Album'\n",
    "    else:\n",
    "        return 'Single Tracks'\n",
    "    \n",
    "assert(album_type_from_duration(120) == 'Single Tracks')\n",
    "assert(album_type_from_duration(900) == 'Album')\n",
    "assert(album_type_from_duration(1100) == 'Album')"
   ]
  },
  {
   "cell_type": "code",
   "execution_count": 38,
   "metadata": {},
   "outputs": [
    {
     "data": {
      "text/plain": [
       "Album            724\n",
       "Single Tracks    276\n",
       "Name: album_duration, dtype: int64"
      ]
     },
     "execution_count": 38,
     "metadata": {},
     "output_type": "execute_result"
    }
   ],
   "source": [
    "album_types_from_duration = df['album_duration'].apply(album_type_from_duration)\n",
    "album_types_from_duration.value_counts()"
   ]
  },
  {
   "cell_type": "code",
   "execution_count": 39,
   "metadata": {},
   "outputs": [],
   "source": [
    "df.loc[:,'album_type'].fillna(album_types_from_duration, inplace=True)"
   ]
  },
  {
   "cell_type": "markdown",
   "metadata": {},
   "source": [
    "Let's check the tracks that we have examined earlier"
   ]
  },
  {
   "cell_type": "code",
   "execution_count": 40,
   "metadata": {},
   "outputs": [
    {
     "data": {
      "text/html": [
       "<div>\n",
       "<style scoped>\n",
       "    .dataframe tbody tr th:only-of-type {\n",
       "        vertical-align: middle;\n",
       "    }\n",
       "\n",
       "    .dataframe tbody tr th {\n",
       "        vertical-align: top;\n",
       "    }\n",
       "\n",
       "    .dataframe thead th {\n",
       "        text-align: right;\n",
       "    }\n",
       "</style>\n",
       "<table border=\"1\" class=\"dataframe\">\n",
       "  <thead>\n",
       "    <tr style=\"text-align: right;\">\n",
       "      <th></th>\n",
       "      <th>album_url</th>\n",
       "      <th>artist_url</th>\n",
       "      <th>album_date_released</th>\n",
       "      <th>album_type</th>\n",
       "      <th>album_tracks</th>\n",
       "      <th>album_duration</th>\n",
       "    </tr>\n",
       "    <tr>\n",
       "      <th>album_id</th>\n",
       "      <th></th>\n",
       "      <th></th>\n",
       "      <th></th>\n",
       "      <th></th>\n",
       "      <th></th>\n",
       "      <th></th>\n",
       "    </tr>\n",
       "  </thead>\n",
       "  <tbody>\n",
       "    <tr>\n",
       "      <th>10196</th>\n",
       "      <td>http://freemusicarchive.org/music/junior85/Dir...</td>\n",
       "      <td>http://freemusicarchive.org/music/junior85/</td>\n",
       "      <td>10/04/2011</td>\n",
       "      <td>Album</td>\n",
       "      <td>7</td>\n",
       "      <td>1246</td>\n",
       "    </tr>\n",
       "  </tbody>\n",
       "</table>\n",
       "</div>"
      ],
      "text/plain": [
       "                                                  album_url  \\\n",
       "album_id                                                      \n",
       "10196     http://freemusicarchive.org/music/junior85/Dir...   \n",
       "\n",
       "                                           artist_url album_date_released  \\\n",
       "album_id                                                                    \n",
       "10196     http://freemusicarchive.org/music/junior85/          10/04/2011   \n",
       "\n",
       "         album_type  album_tracks  album_duration  \n",
       "album_id                                           \n",
       "10196         Album             7            1246  "
      ]
     },
     "execution_count": 40,
     "metadata": {},
     "output_type": "execute_result"
    }
   ],
   "source": [
    "# should be an album\n",
    "df[df['album_url'] == 'http://freemusicarchive.org/music/junior85/Directed_Numbers/']"
   ]
  },
  {
   "cell_type": "code",
   "execution_count": 41,
   "metadata": {},
   "outputs": [
    {
     "data": {
      "text/html": [
       "<div>\n",
       "<style scoped>\n",
       "    .dataframe tbody tr th:only-of-type {\n",
       "        vertical-align: middle;\n",
       "    }\n",
       "\n",
       "    .dataframe tbody tr th {\n",
       "        vertical-align: top;\n",
       "    }\n",
       "\n",
       "    .dataframe thead th {\n",
       "        text-align: right;\n",
       "    }\n",
       "</style>\n",
       "<table border=\"1\" class=\"dataframe\">\n",
       "  <thead>\n",
       "    <tr style=\"text-align: right;\">\n",
       "      <th></th>\n",
       "      <th>album_url</th>\n",
       "      <th>artist_url</th>\n",
       "      <th>album_date_released</th>\n",
       "      <th>album_type</th>\n",
       "      <th>album_tracks</th>\n",
       "      <th>album_duration</th>\n",
       "    </tr>\n",
       "    <tr>\n",
       "      <th>album_id</th>\n",
       "      <th></th>\n",
       "      <th></th>\n",
       "      <th></th>\n",
       "      <th></th>\n",
       "      <th></th>\n",
       "      <th></th>\n",
       "    </tr>\n",
       "  </thead>\n",
       "  <tbody>\n",
       "    <tr>\n",
       "      <th>10380</th>\n",
       "      <td>http://freemusicarchive.org/music/Wrist/Blind_...</td>\n",
       "      <td>http://freemusicarchive.org/music/Wrist/</td>\n",
       "      <td>10/27/2011</td>\n",
       "      <td>Single Tracks</td>\n",
       "      <td>2</td>\n",
       "      <td>726</td>\n",
       "    </tr>\n",
       "  </tbody>\n",
       "</table>\n",
       "</div>"
      ],
      "text/plain": [
       "                                                  album_url  \\\n",
       "album_id                                                      \n",
       "10380     http://freemusicarchive.org/music/Wrist/Blind_...   \n",
       "\n",
       "                                        artist_url album_date_released  \\\n",
       "album_id                                                                 \n",
       "10380     http://freemusicarchive.org/music/Wrist/          10/27/2011   \n",
       "\n",
       "             album_type  album_tracks  album_duration  \n",
       "album_id                                               \n",
       "10380     Single Tracks             2             726  "
      ]
     },
     "execution_count": 41,
     "metadata": {},
     "output_type": "execute_result"
    }
   ],
   "source": [
    "# should be a single\n",
    "df[df['album_url'] == 'http://freemusicarchive.org/music/Wrist/Blind_AlleyOrphan_Drug_single_1135/']"
   ]
  },
  {
   "cell_type": "markdown",
   "metadata": {},
   "source": [
    "# Target (days until the next release)"
   ]
  },
  {
   "cell_type": "code",
   "execution_count": 42,
   "metadata": {},
   "outputs": [
    {
     "data": {
      "text/plain": [
       "album_id\n",
       "1        2009-01-05\n",
       "100      2009-01-09\n",
       "1000     2008-10-26\n",
       "10000    2011-09-05\n",
       "10001    2006-01-01\n",
       "Name: album_date_released, dtype: object"
      ]
     },
     "execution_count": 42,
     "metadata": {},
     "output_type": "execute_result"
    }
   ],
   "source": [
    "pd.to_datetime(df['album_date_released']).dt.date.head()"
   ]
  },
  {
   "cell_type": "code",
   "execution_count": 43,
   "metadata": {},
   "outputs": [
    {
     "data": {
      "text/html": [
       "<div>\n",
       "<style scoped>\n",
       "    .dataframe tbody tr th:only-of-type {\n",
       "        vertical-align: middle;\n",
       "    }\n",
       "\n",
       "    .dataframe tbody tr th {\n",
       "        vertical-align: top;\n",
       "    }\n",
       "\n",
       "    .dataframe thead th {\n",
       "        text-align: right;\n",
       "    }\n",
       "</style>\n",
       "<table border=\"1\" class=\"dataframe\">\n",
       "  <thead>\n",
       "    <tr style=\"text-align: right;\">\n",
       "      <th></th>\n",
       "      <th>album_url</th>\n",
       "      <th>artist_url</th>\n",
       "      <th>album_date_released</th>\n",
       "      <th>album_type</th>\n",
       "      <th>album_tracks</th>\n",
       "      <th>album_duration</th>\n",
       "    </tr>\n",
       "    <tr>\n",
       "      <th>album_id</th>\n",
       "      <th></th>\n",
       "      <th></th>\n",
       "      <th></th>\n",
       "      <th></th>\n",
       "      <th></th>\n",
       "      <th></th>\n",
       "    </tr>\n",
       "  </thead>\n",
       "  <tbody>\n",
       "    <tr>\n",
       "      <th>1</th>\n",
       "      <td>http://freemusicarchive.org/music/AWOL/AWOL_-_...</td>\n",
       "      <td>http://freemusicarchive.org/music/AWOL/</td>\n",
       "      <td>2009-01-05</td>\n",
       "      <td>Album</td>\n",
       "      <td>7</td>\n",
       "      <td>1235</td>\n",
       "    </tr>\n",
       "    <tr>\n",
       "      <th>100</th>\n",
       "      <td>http://freemusicarchive.org/music/Bird_Names/O...</td>\n",
       "      <td>http://freemusicarchive.org/music/Bird_Names/</td>\n",
       "      <td>2009-01-09</td>\n",
       "      <td>Album</td>\n",
       "      <td>4</td>\n",
       "      <td>626</td>\n",
       "    </tr>\n",
       "    <tr>\n",
       "      <th>1000</th>\n",
       "      <td>http://freemusicarchive.org/music/DMBQ/DMBQ_Li...</td>\n",
       "      <td>http://freemusicarchive.org/music/DMBQ/</td>\n",
       "      <td>2008-10-26</td>\n",
       "      <td>Live Performance</td>\n",
       "      <td>4</td>\n",
       "      <td>3264</td>\n",
       "    </tr>\n",
       "    <tr>\n",
       "      <th>10000</th>\n",
       "      <td>http://freemusicarchive.org/music/Sundrips/Liv...</td>\n",
       "      <td>http://freemusicarchive.org/music/Sundrips/</td>\n",
       "      <td>2011-09-05</td>\n",
       "      <td>Radio Program</td>\n",
       "      <td>1</td>\n",
       "      <td>874</td>\n",
       "    </tr>\n",
       "    <tr>\n",
       "      <th>10001</th>\n",
       "      <td>http://freemusicarchive.org/music/Uton/Grounds...</td>\n",
       "      <td>http://freemusicarchive.org/music/Uton/</td>\n",
       "      <td>2006-01-01</td>\n",
       "      <td>Album</td>\n",
       "      <td>1</td>\n",
       "      <td>2746</td>\n",
       "    </tr>\n",
       "  </tbody>\n",
       "</table>\n",
       "</div>"
      ],
      "text/plain": [
       "                                                  album_url  \\\n",
       "album_id                                                      \n",
       "1         http://freemusicarchive.org/music/AWOL/AWOL_-_...   \n",
       "100       http://freemusicarchive.org/music/Bird_Names/O...   \n",
       "1000      http://freemusicarchive.org/music/DMBQ/DMBQ_Li...   \n",
       "10000     http://freemusicarchive.org/music/Sundrips/Liv...   \n",
       "10001     http://freemusicarchive.org/music/Uton/Grounds...   \n",
       "\n",
       "                                             artist_url album_date_released  \\\n",
       "album_id                                                                      \n",
       "1               http://freemusicarchive.org/music/AWOL/          2009-01-05   \n",
       "100       http://freemusicarchive.org/music/Bird_Names/          2009-01-09   \n",
       "1000            http://freemusicarchive.org/music/DMBQ/          2008-10-26   \n",
       "10000       http://freemusicarchive.org/music/Sundrips/          2011-09-05   \n",
       "10001           http://freemusicarchive.org/music/Uton/          2006-01-01   \n",
       "\n",
       "                album_type  album_tracks  album_duration  \n",
       "album_id                                                  \n",
       "1                    Album             7            1235  \n",
       "100                  Album             4             626  \n",
       "1000      Live Performance             4            3264  \n",
       "10000        Radio Program             1             874  \n",
       "10001                Album             1            2746  "
      ]
     },
     "execution_count": 43,
     "metadata": {},
     "output_type": "execute_result"
    }
   ],
   "source": [
    "df.loc[:, 'album_date_released'] = pd.to_datetime(df['album_date_released']).dt.date\n",
    "df.head()"
   ]
  },
  {
   "cell_type": "code",
   "execution_count": 44,
   "metadata": {},
   "outputs": [
    {
     "data": {
      "text/plain": [
       "datetime.date(1979, 1, 1)"
      ]
     },
     "execution_count": 44,
     "metadata": {},
     "output_type": "execute_result"
    }
   ],
   "source": [
    "min(df['album_date_released'])"
   ]
  },
  {
   "cell_type": "code",
   "execution_count": 45,
   "metadata": {},
   "outputs": [
    {
     "data": {
      "text/plain": [
       "datetime.date(2015, 5, 15)"
      ]
     },
     "execution_count": 45,
     "metadata": {},
     "output_type": "execute_result"
    }
   ],
   "source": [
    "max(df['album_date_released'])"
   ]
  },
  {
   "cell_type": "markdown",
   "metadata": {},
   "source": [
    "Seems like we have a pretty diverse dataset ranging from 1979 to 2015"
   ]
  },
  {
   "cell_type": "code",
   "execution_count": 46,
   "metadata": {},
   "outputs": [
    {
     "data": {
      "text/html": [
       "<div>\n",
       "<style scoped>\n",
       "    .dataframe tbody tr th:only-of-type {\n",
       "        vertical-align: middle;\n",
       "    }\n",
       "\n",
       "    .dataframe tbody tr th {\n",
       "        vertical-align: top;\n",
       "    }\n",
       "\n",
       "    .dataframe thead th {\n",
       "        text-align: right;\n",
       "    }\n",
       "</style>\n",
       "<table border=\"1\" class=\"dataframe\">\n",
       "  <thead>\n",
       "    <tr style=\"text-align: right;\">\n",
       "      <th></th>\n",
       "      <th>album_url</th>\n",
       "      <th>album_date_released</th>\n",
       "      <th>album_type</th>\n",
       "      <th>album_tracks</th>\n",
       "      <th>album_duration</th>\n",
       "    </tr>\n",
       "    <tr>\n",
       "      <th>artist_url</th>\n",
       "      <th></th>\n",
       "      <th></th>\n",
       "      <th></th>\n",
       "      <th></th>\n",
       "      <th></th>\n",
       "    </tr>\n",
       "  </thead>\n",
       "  <tbody>\n",
       "    <tr>\n",
       "      <th>http://freemusicarchive.org/music/James_Kibbie/</th>\n",
       "      <td>14</td>\n",
       "      <td>14</td>\n",
       "      <td>14</td>\n",
       "      <td>14</td>\n",
       "      <td>14</td>\n",
       "    </tr>\n",
       "    <tr>\n",
       "      <th>http://freemusicarchive.org/music/King_Ghidorah/</th>\n",
       "      <td>13</td>\n",
       "      <td>13</td>\n",
       "      <td>13</td>\n",
       "      <td>13</td>\n",
       "      <td>13</td>\n",
       "    </tr>\n",
       "    <tr>\n",
       "      <th>http://freemusicarchive.org/music/Assif_Tsahar/</th>\n",
       "      <td>11</td>\n",
       "      <td>11</td>\n",
       "      <td>11</td>\n",
       "      <td>11</td>\n",
       "      <td>11</td>\n",
       "    </tr>\n",
       "    <tr>\n",
       "      <th>http://freemusicarchive.org/music/Irene_Moon/</th>\n",
       "      <td>10</td>\n",
       "      <td>10</td>\n",
       "      <td>10</td>\n",
       "      <td>10</td>\n",
       "      <td>10</td>\n",
       "    </tr>\n",
       "    <tr>\n",
       "      <th>http://freemusicarchive.org/music/Disco_Missile/</th>\n",
       "      <td>9</td>\n",
       "      <td>9</td>\n",
       "      <td>9</td>\n",
       "      <td>9</td>\n",
       "      <td>9</td>\n",
       "    </tr>\n",
       "    <tr>\n",
       "      <th>http://freemusicarchive.org/music/Balogh/</th>\n",
       "      <td>9</td>\n",
       "      <td>9</td>\n",
       "      <td>9</td>\n",
       "      <td>9</td>\n",
       "      <td>9</td>\n",
       "    </tr>\n",
       "    <tr>\n",
       "      <th>http://freemusicarchive.org/music/Volcano_the_Bear/</th>\n",
       "      <td>8</td>\n",
       "      <td>8</td>\n",
       "      <td>8</td>\n",
       "      <td>8</td>\n",
       "      <td>8</td>\n",
       "    </tr>\n",
       "    <tr>\n",
       "      <th>http://freemusicarchive.org/music/Chris_Zabriskie/</th>\n",
       "      <td>7</td>\n",
       "      <td>7</td>\n",
       "      <td>7</td>\n",
       "      <td>7</td>\n",
       "      <td>7</td>\n",
       "    </tr>\n",
       "    <tr>\n",
       "      <th>http://freemusicarchive.org/music/New_Weird_Australia/</th>\n",
       "      <td>7</td>\n",
       "      <td>7</td>\n",
       "      <td>7</td>\n",
       "      <td>7</td>\n",
       "      <td>7</td>\n",
       "    </tr>\n",
       "    <tr>\n",
       "      <th>http://freemusicarchive.org/music/Telegraphy/</th>\n",
       "      <td>6</td>\n",
       "      <td>6</td>\n",
       "      <td>6</td>\n",
       "      <td>6</td>\n",
       "      <td>6</td>\n",
       "    </tr>\n",
       "  </tbody>\n",
       "</table>\n",
       "</div>"
      ],
      "text/plain": [
       "                                                    album_url  \\\n",
       "artist_url                                                      \n",
       "http://freemusicarchive.org/music/James_Kibbie/            14   \n",
       "http://freemusicarchive.org/music/King_Ghidorah/           13   \n",
       "http://freemusicarchive.org/music/Assif_Tsahar/            11   \n",
       "http://freemusicarchive.org/music/Irene_Moon/              10   \n",
       "http://freemusicarchive.org/music/Disco_Missile/            9   \n",
       "http://freemusicarchive.org/music/Balogh/                   9   \n",
       "http://freemusicarchive.org/music/Volcano_the_B...          8   \n",
       "http://freemusicarchive.org/music/Chris_Zabriskie/          7   \n",
       "http://freemusicarchive.org/music/New_Weird_Aus...          7   \n",
       "http://freemusicarchive.org/music/Telegraphy/               6   \n",
       "\n",
       "                                                    album_date_released  \\\n",
       "artist_url                                                                \n",
       "http://freemusicarchive.org/music/James_Kibbie/                      14   \n",
       "http://freemusicarchive.org/music/King_Ghidorah/                     13   \n",
       "http://freemusicarchive.org/music/Assif_Tsahar/                      11   \n",
       "http://freemusicarchive.org/music/Irene_Moon/                        10   \n",
       "http://freemusicarchive.org/music/Disco_Missile/                      9   \n",
       "http://freemusicarchive.org/music/Balogh/                             9   \n",
       "http://freemusicarchive.org/music/Volcano_the_B...                    8   \n",
       "http://freemusicarchive.org/music/Chris_Zabriskie/                    7   \n",
       "http://freemusicarchive.org/music/New_Weird_Aus...                    7   \n",
       "http://freemusicarchive.org/music/Telegraphy/                         6   \n",
       "\n",
       "                                                    album_type  album_tracks  \\\n",
       "artist_url                                                                     \n",
       "http://freemusicarchive.org/music/James_Kibbie/             14            14   \n",
       "http://freemusicarchive.org/music/King_Ghidorah/            13            13   \n",
       "http://freemusicarchive.org/music/Assif_Tsahar/             11            11   \n",
       "http://freemusicarchive.org/music/Irene_Moon/               10            10   \n",
       "http://freemusicarchive.org/music/Disco_Missile/             9             9   \n",
       "http://freemusicarchive.org/music/Balogh/                    9             9   \n",
       "http://freemusicarchive.org/music/Volcano_the_B...           8             8   \n",
       "http://freemusicarchive.org/music/Chris_Zabriskie/           7             7   \n",
       "http://freemusicarchive.org/music/New_Weird_Aus...           7             7   \n",
       "http://freemusicarchive.org/music/Telegraphy/                6             6   \n",
       "\n",
       "                                                    album_duration  \n",
       "artist_url                                                          \n",
       "http://freemusicarchive.org/music/James_Kibbie/                 14  \n",
       "http://freemusicarchive.org/music/King_Ghidorah/                13  \n",
       "http://freemusicarchive.org/music/Assif_Tsahar/                 11  \n",
       "http://freemusicarchive.org/music/Irene_Moon/                   10  \n",
       "http://freemusicarchive.org/music/Disco_Missile/                 9  \n",
       "http://freemusicarchive.org/music/Balogh/                        9  \n",
       "http://freemusicarchive.org/music/Volcano_the_B...               8  \n",
       "http://freemusicarchive.org/music/Chris_Zabriskie/               7  \n",
       "http://freemusicarchive.org/music/New_Weird_Aus...               7  \n",
       "http://freemusicarchive.org/music/Telegraphy/                    6  "
      ]
     },
     "execution_count": 46,
     "metadata": {},
     "output_type": "execute_result"
    }
   ],
   "source": [
    "df.groupby('artist_url').count().sort_values('album_tracks', ascending=False).head(10)"
   ]
  },
  {
   "cell_type": "code",
   "execution_count": 47,
   "metadata": {},
   "outputs": [
    {
     "data": {
      "text/html": [
       "<div>\n",
       "<style scoped>\n",
       "    .dataframe tbody tr th:only-of-type {\n",
       "        vertical-align: middle;\n",
       "    }\n",
       "\n",
       "    .dataframe tbody tr th {\n",
       "        vertical-align: top;\n",
       "    }\n",
       "\n",
       "    .dataframe thead th {\n",
       "        text-align: right;\n",
       "    }\n",
       "</style>\n",
       "<table border=\"1\" class=\"dataframe\">\n",
       "  <thead>\n",
       "    <tr style=\"text-align: right;\">\n",
       "      <th></th>\n",
       "      <th>album_url</th>\n",
       "      <th>artist_url</th>\n",
       "      <th>album_date_released</th>\n",
       "      <th>album_type</th>\n",
       "      <th>album_tracks</th>\n",
       "      <th>album_duration</th>\n",
       "    </tr>\n",
       "    <tr>\n",
       "      <th>album_id</th>\n",
       "      <th></th>\n",
       "      <th></th>\n",
       "      <th></th>\n",
       "      <th></th>\n",
       "      <th></th>\n",
       "      <th></th>\n",
       "    </tr>\n",
       "  </thead>\n",
       "  <tbody>\n",
       "    <tr>\n",
       "      <th>10050</th>\n",
       "      <td>http://freemusicarchive.org/music/Chris_Zabris...</td>\n",
       "      <td>http://freemusicarchive.org/music/Chris_Zabris...</td>\n",
       "      <td>2009-03-10</td>\n",
       "      <td>Album</td>\n",
       "      <td>7</td>\n",
       "      <td>2490</td>\n",
       "    </tr>\n",
       "    <tr>\n",
       "      <th>10052</th>\n",
       "      <td>http://freemusicarchive.org/music/Chris_Zabris...</td>\n",
       "      <td>http://freemusicarchive.org/music/Chris_Zabris...</td>\n",
       "      <td>2009-09-22</td>\n",
       "      <td>Album</td>\n",
       "      <td>23</td>\n",
       "      <td>1736</td>\n",
       "    </tr>\n",
       "    <tr>\n",
       "      <th>10053</th>\n",
       "      <td>http://freemusicarchive.org/music/Chris_Zabris...</td>\n",
       "      <td>http://freemusicarchive.org/music/Chris_Zabris...</td>\n",
       "      <td>2010-08-10</td>\n",
       "      <td>Album</td>\n",
       "      <td>5</td>\n",
       "      <td>2455</td>\n",
       "    </tr>\n",
       "    <tr>\n",
       "      <th>10057</th>\n",
       "      <td>http://freemusicarchive.org/music/Chris_Zabris...</td>\n",
       "      <td>http://freemusicarchive.org/music/Chris_Zabris...</td>\n",
       "      <td>2011-01-13</td>\n",
       "      <td>Album</td>\n",
       "      <td>4</td>\n",
       "      <td>2634</td>\n",
       "    </tr>\n",
       "    <tr>\n",
       "      <th>10058</th>\n",
       "      <td>http://freemusicarchive.org/music/Chris_Zabris...</td>\n",
       "      <td>http://freemusicarchive.org/music/Chris_Zabris...</td>\n",
       "      <td>2011-07-18</td>\n",
       "      <td>Album</td>\n",
       "      <td>6</td>\n",
       "      <td>1981</td>\n",
       "    </tr>\n",
       "    <tr>\n",
       "      <th>10927</th>\n",
       "      <td>http://freemusicarchive.org/music/Chris_Zabris...</td>\n",
       "      <td>http://freemusicarchive.org/music/Chris_Zabris...</td>\n",
       "      <td>2012-01-25</td>\n",
       "      <td>Album</td>\n",
       "      <td>8</td>\n",
       "      <td>2281</td>\n",
       "    </tr>\n",
       "    <tr>\n",
       "      <th>10049</th>\n",
       "      <td>http://freemusicarchive.org/music/Chris_Zabris...</td>\n",
       "      <td>http://freemusicarchive.org/music/Chris_Zabris...</td>\n",
       "      <td>2015-05-15</td>\n",
       "      <td>Album</td>\n",
       "      <td>5</td>\n",
       "      <td>2464</td>\n",
       "    </tr>\n",
       "  </tbody>\n",
       "</table>\n",
       "</div>"
      ],
      "text/plain": [
       "                                                  album_url  \\\n",
       "album_id                                                      \n",
       "10050     http://freemusicarchive.org/music/Chris_Zabris...   \n",
       "10052     http://freemusicarchive.org/music/Chris_Zabris...   \n",
       "10053     http://freemusicarchive.org/music/Chris_Zabris...   \n",
       "10057     http://freemusicarchive.org/music/Chris_Zabris...   \n",
       "10058     http://freemusicarchive.org/music/Chris_Zabris...   \n",
       "10927     http://freemusicarchive.org/music/Chris_Zabris...   \n",
       "10049     http://freemusicarchive.org/music/Chris_Zabris...   \n",
       "\n",
       "                                                 artist_url  \\\n",
       "album_id                                                      \n",
       "10050     http://freemusicarchive.org/music/Chris_Zabris...   \n",
       "10052     http://freemusicarchive.org/music/Chris_Zabris...   \n",
       "10053     http://freemusicarchive.org/music/Chris_Zabris...   \n",
       "10057     http://freemusicarchive.org/music/Chris_Zabris...   \n",
       "10058     http://freemusicarchive.org/music/Chris_Zabris...   \n",
       "10927     http://freemusicarchive.org/music/Chris_Zabris...   \n",
       "10049     http://freemusicarchive.org/music/Chris_Zabris...   \n",
       "\n",
       "         album_date_released album_type  album_tracks  album_duration  \n",
       "album_id                                                               \n",
       "10050             2009-03-10      Album             7            2490  \n",
       "10052             2009-09-22      Album            23            1736  \n",
       "10053             2010-08-10      Album             5            2455  \n",
       "10057             2011-01-13      Album             4            2634  \n",
       "10058             2011-07-18      Album             6            1981  \n",
       "10927             2012-01-25      Album             8            2281  \n",
       "10049             2015-05-15      Album             5            2464  "
      ]
     },
     "execution_count": 47,
     "metadata": {},
     "output_type": "execute_result"
    }
   ],
   "source": [
    "df[df['artist_url'] == 'http://freemusicarchive.org/music/Chris_Zabriskie/'].sort_values('album_date_released')"
   ]
  },
  {
   "cell_type": "code",
   "execution_count": 48,
   "metadata": {},
   "outputs": [
    {
     "data": {
      "text/plain": [
       "1000"
      ]
     },
     "execution_count": 48,
     "metadata": {},
     "output_type": "execute_result"
    }
   ],
   "source": [
    "df['album_url'].unique().size"
   ]
  },
  {
   "cell_type": "code",
   "execution_count": 49,
   "metadata": {},
   "outputs": [
    {
     "data": {
      "text/plain": [
       "'http://freemusicarchive.org/music/Chris_Zabriskie/I_Am_a_Man_Who_Will_Fight_for_Your_Honor/'"
      ]
     },
     "execution_count": 49,
     "metadata": {},
     "output_type": "execute_result"
    }
   ],
   "source": [
    "album_url = df.loc[10050, :]['album_url']\n",
    "album_url"
   ]
  },
  {
   "cell_type": "code",
   "execution_count": 50,
   "metadata": {},
   "outputs": [
    {
     "data": {
      "text/html": [
       "<div>\n",
       "<style scoped>\n",
       "    .dataframe tbody tr th:only-of-type {\n",
       "        vertical-align: middle;\n",
       "    }\n",
       "\n",
       "    .dataframe tbody tr th {\n",
       "        vertical-align: top;\n",
       "    }\n",
       "\n",
       "    .dataframe thead th {\n",
       "        text-align: right;\n",
       "    }\n",
       "</style>\n",
       "<table border=\"1\" class=\"dataframe\">\n",
       "  <thead>\n",
       "    <tr style=\"text-align: right;\">\n",
       "      <th></th>\n",
       "      <th>album_url</th>\n",
       "      <th>artist_url</th>\n",
       "      <th>album_date_released</th>\n",
       "      <th>album_type</th>\n",
       "      <th>album_tracks</th>\n",
       "      <th>album_duration</th>\n",
       "    </tr>\n",
       "    <tr>\n",
       "      <th>album_id</th>\n",
       "      <th></th>\n",
       "      <th></th>\n",
       "      <th></th>\n",
       "      <th></th>\n",
       "      <th></th>\n",
       "      <th></th>\n",
       "    </tr>\n",
       "  </thead>\n",
       "  <tbody>\n",
       "    <tr>\n",
       "      <th>10050</th>\n",
       "      <td>http://freemusicarchive.org/music/Chris_Zabris...</td>\n",
       "      <td>http://freemusicarchive.org/music/Chris_Zabris...</td>\n",
       "      <td>2009-03-10</td>\n",
       "      <td>Album</td>\n",
       "      <td>7</td>\n",
       "      <td>2490</td>\n",
       "    </tr>\n",
       "  </tbody>\n",
       "</table>\n",
       "</div>"
      ],
      "text/plain": [
       "                                                  album_url  \\\n",
       "album_id                                                      \n",
       "10050     http://freemusicarchive.org/music/Chris_Zabris...   \n",
       "\n",
       "                                                 artist_url  \\\n",
       "album_id                                                      \n",
       "10050     http://freemusicarchive.org/music/Chris_Zabris...   \n",
       "\n",
       "         album_date_released album_type  album_tracks  album_duration  \n",
       "album_id                                                               \n",
       "10050             2009-03-10      Album             7            2490  "
      ]
     },
     "execution_count": 50,
     "metadata": {},
     "output_type": "execute_result"
    }
   ],
   "source": [
    "album = df[df['album_url'] == album_url]\n",
    "album"
   ]
  },
  {
   "cell_type": "code",
   "execution_count": 51,
   "metadata": {},
   "outputs": [
    {
     "data": {
      "text/plain": [
       "'http://freemusicarchive.org/music/Chris_Zabriskie/'"
      ]
     },
     "execution_count": 51,
     "metadata": {},
     "output_type": "execute_result"
    }
   ],
   "source": [
    "artist_url = album.artist_url.values[0]\n",
    "artist_url"
   ]
  },
  {
   "cell_type": "code",
   "execution_count": 52,
   "metadata": {},
   "outputs": [
    {
     "data": {
      "text/html": [
       "<div>\n",
       "<style scoped>\n",
       "    .dataframe tbody tr th:only-of-type {\n",
       "        vertical-align: middle;\n",
       "    }\n",
       "\n",
       "    .dataframe tbody tr th {\n",
       "        vertical-align: top;\n",
       "    }\n",
       "\n",
       "    .dataframe thead th {\n",
       "        text-align: right;\n",
       "    }\n",
       "</style>\n",
       "<table border=\"1\" class=\"dataframe\">\n",
       "  <thead>\n",
       "    <tr style=\"text-align: right;\">\n",
       "      <th></th>\n",
       "      <th>album_url</th>\n",
       "      <th>artist_url</th>\n",
       "      <th>album_date_released</th>\n",
       "      <th>album_type</th>\n",
       "      <th>album_tracks</th>\n",
       "      <th>album_duration</th>\n",
       "    </tr>\n",
       "    <tr>\n",
       "      <th>album_id</th>\n",
       "      <th></th>\n",
       "      <th></th>\n",
       "      <th></th>\n",
       "      <th></th>\n",
       "      <th></th>\n",
       "      <th></th>\n",
       "    </tr>\n",
       "  </thead>\n",
       "  <tbody>\n",
       "    <tr>\n",
       "      <th>10050</th>\n",
       "      <td>http://freemusicarchive.org/music/Chris_Zabris...</td>\n",
       "      <td>http://freemusicarchive.org/music/Chris_Zabris...</td>\n",
       "      <td>2009-03-10</td>\n",
       "      <td>Album</td>\n",
       "      <td>7</td>\n",
       "      <td>2490</td>\n",
       "    </tr>\n",
       "    <tr>\n",
       "      <th>10052</th>\n",
       "      <td>http://freemusicarchive.org/music/Chris_Zabris...</td>\n",
       "      <td>http://freemusicarchive.org/music/Chris_Zabris...</td>\n",
       "      <td>2009-09-22</td>\n",
       "      <td>Album</td>\n",
       "      <td>23</td>\n",
       "      <td>1736</td>\n",
       "    </tr>\n",
       "    <tr>\n",
       "      <th>10053</th>\n",
       "      <td>http://freemusicarchive.org/music/Chris_Zabris...</td>\n",
       "      <td>http://freemusicarchive.org/music/Chris_Zabris...</td>\n",
       "      <td>2010-08-10</td>\n",
       "      <td>Album</td>\n",
       "      <td>5</td>\n",
       "      <td>2455</td>\n",
       "    </tr>\n",
       "    <tr>\n",
       "      <th>10057</th>\n",
       "      <td>http://freemusicarchive.org/music/Chris_Zabris...</td>\n",
       "      <td>http://freemusicarchive.org/music/Chris_Zabris...</td>\n",
       "      <td>2011-01-13</td>\n",
       "      <td>Album</td>\n",
       "      <td>4</td>\n",
       "      <td>2634</td>\n",
       "    </tr>\n",
       "    <tr>\n",
       "      <th>10058</th>\n",
       "      <td>http://freemusicarchive.org/music/Chris_Zabris...</td>\n",
       "      <td>http://freemusicarchive.org/music/Chris_Zabris...</td>\n",
       "      <td>2011-07-18</td>\n",
       "      <td>Album</td>\n",
       "      <td>6</td>\n",
       "      <td>1981</td>\n",
       "    </tr>\n",
       "    <tr>\n",
       "      <th>10927</th>\n",
       "      <td>http://freemusicarchive.org/music/Chris_Zabris...</td>\n",
       "      <td>http://freemusicarchive.org/music/Chris_Zabris...</td>\n",
       "      <td>2012-01-25</td>\n",
       "      <td>Album</td>\n",
       "      <td>8</td>\n",
       "      <td>2281</td>\n",
       "    </tr>\n",
       "    <tr>\n",
       "      <th>10049</th>\n",
       "      <td>http://freemusicarchive.org/music/Chris_Zabris...</td>\n",
       "      <td>http://freemusicarchive.org/music/Chris_Zabris...</td>\n",
       "      <td>2015-05-15</td>\n",
       "      <td>Album</td>\n",
       "      <td>5</td>\n",
       "      <td>2464</td>\n",
       "    </tr>\n",
       "  </tbody>\n",
       "</table>\n",
       "</div>"
      ],
      "text/plain": [
       "                                                  album_url  \\\n",
       "album_id                                                      \n",
       "10050     http://freemusicarchive.org/music/Chris_Zabris...   \n",
       "10052     http://freemusicarchive.org/music/Chris_Zabris...   \n",
       "10053     http://freemusicarchive.org/music/Chris_Zabris...   \n",
       "10057     http://freemusicarchive.org/music/Chris_Zabris...   \n",
       "10058     http://freemusicarchive.org/music/Chris_Zabris...   \n",
       "10927     http://freemusicarchive.org/music/Chris_Zabris...   \n",
       "10049     http://freemusicarchive.org/music/Chris_Zabris...   \n",
       "\n",
       "                                                 artist_url  \\\n",
       "album_id                                                      \n",
       "10050     http://freemusicarchive.org/music/Chris_Zabris...   \n",
       "10052     http://freemusicarchive.org/music/Chris_Zabris...   \n",
       "10053     http://freemusicarchive.org/music/Chris_Zabris...   \n",
       "10057     http://freemusicarchive.org/music/Chris_Zabris...   \n",
       "10058     http://freemusicarchive.org/music/Chris_Zabris...   \n",
       "10927     http://freemusicarchive.org/music/Chris_Zabris...   \n",
       "10049     http://freemusicarchive.org/music/Chris_Zabris...   \n",
       "\n",
       "         album_date_released album_type  album_tracks  album_duration  \n",
       "album_id                                                               \n",
       "10050             2009-03-10      Album             7            2490  \n",
       "10052             2009-09-22      Album            23            1736  \n",
       "10053             2010-08-10      Album             5            2455  \n",
       "10057             2011-01-13      Album             4            2634  \n",
       "10058             2011-07-18      Album             6            1981  \n",
       "10927             2012-01-25      Album             8            2281  \n",
       "10049             2015-05-15      Album             5            2464  "
      ]
     },
     "execution_count": 52,
     "metadata": {},
     "output_type": "execute_result"
    }
   ],
   "source": [
    "artist_albums = df[df['artist_url'] == artist_url].sort_values('album_date_released')\n",
    "artist_albums"
   ]
  },
  {
   "cell_type": "code",
   "execution_count": 53,
   "metadata": {},
   "outputs": [
    {
     "data": {
      "text/plain": [
       "datetime.date(2009, 3, 10)"
      ]
     },
     "execution_count": 53,
     "metadata": {},
     "output_type": "execute_result"
    }
   ],
   "source": [
    "album_date_released = album.album_date_released.values[0]\n",
    "album_date_released"
   ]
  },
  {
   "cell_type": "code",
   "execution_count": 54,
   "metadata": {},
   "outputs": [
    {
     "data": {
      "text/html": [
       "<div>\n",
       "<style scoped>\n",
       "    .dataframe tbody tr th:only-of-type {\n",
       "        vertical-align: middle;\n",
       "    }\n",
       "\n",
       "    .dataframe tbody tr th {\n",
       "        vertical-align: top;\n",
       "    }\n",
       "\n",
       "    .dataframe thead th {\n",
       "        text-align: right;\n",
       "    }\n",
       "</style>\n",
       "<table border=\"1\" class=\"dataframe\">\n",
       "  <thead>\n",
       "    <tr style=\"text-align: right;\">\n",
       "      <th></th>\n",
       "      <th>album_url</th>\n",
       "      <th>artist_url</th>\n",
       "      <th>album_date_released</th>\n",
       "      <th>album_type</th>\n",
       "      <th>album_tracks</th>\n",
       "      <th>album_duration</th>\n",
       "    </tr>\n",
       "    <tr>\n",
       "      <th>album_id</th>\n",
       "      <th></th>\n",
       "      <th></th>\n",
       "      <th></th>\n",
       "      <th></th>\n",
       "      <th></th>\n",
       "      <th></th>\n",
       "    </tr>\n",
       "  </thead>\n",
       "  <tbody>\n",
       "    <tr>\n",
       "      <th>10052</th>\n",
       "      <td>http://freemusicarchive.org/music/Chris_Zabris...</td>\n",
       "      <td>http://freemusicarchive.org/music/Chris_Zabris...</td>\n",
       "      <td>2009-09-22</td>\n",
       "      <td>Album</td>\n",
       "      <td>23</td>\n",
       "      <td>1736</td>\n",
       "    </tr>\n",
       "  </tbody>\n",
       "</table>\n",
       "</div>"
      ],
      "text/plain": [
       "                                                  album_url  \\\n",
       "album_id                                                      \n",
       "10052     http://freemusicarchive.org/music/Chris_Zabris...   \n",
       "\n",
       "                                                 artist_url  \\\n",
       "album_id                                                      \n",
       "10052     http://freemusicarchive.org/music/Chris_Zabris...   \n",
       "\n",
       "         album_date_released album_type  album_tracks  album_duration  \n",
       "album_id                                                               \n",
       "10052             2009-09-22      Album            23            1736  "
      ]
     },
     "execution_count": 54,
     "metadata": {},
     "output_type": "execute_result"
    }
   ],
   "source": [
    "next_album = artist_albums[artist_albums['album_date_released'] > album_date_released].head(1)\n",
    "next_album"
   ]
  },
  {
   "cell_type": "code",
   "execution_count": 55,
   "metadata": {},
   "outputs": [
    {
     "data": {
      "text/plain": [
       "datetime.date(2009, 9, 22)"
      ]
     },
     "execution_count": 55,
     "metadata": {},
     "output_type": "execute_result"
    }
   ],
   "source": [
    "next_album_date_released = next_album.album_date_released.values[0]\n",
    "next_album_date_released"
   ]
  },
  {
   "cell_type": "code",
   "execution_count": 56,
   "metadata": {},
   "outputs": [
    {
     "data": {
      "text/plain": [
       "datetime.timedelta(196)"
      ]
     },
     "execution_count": 56,
     "metadata": {},
     "output_type": "execute_result"
    }
   ],
   "source": [
    "date_difference = next_album_date_released - album_date_released\n",
    "date_difference"
   ]
  },
  {
   "cell_type": "code",
   "execution_count": 57,
   "metadata": {},
   "outputs": [
    {
     "data": {
      "text/plain": [
       "196"
      ]
     },
     "execution_count": 57,
     "metadata": {},
     "output_type": "execute_result"
    }
   ],
   "source": [
    "date_difference.days"
   ]
  },
  {
   "cell_type": "code",
   "execution_count": 58,
   "metadata": {},
   "outputs": [
    {
     "data": {
      "text/plain": [
       "int"
      ]
     },
     "execution_count": 58,
     "metadata": {},
     "output_type": "execute_result"
    }
   ],
   "source": [
    "date_difference.days.__class__"
   ]
  },
  {
   "cell_type": "code",
   "execution_count": 59,
   "metadata": {},
   "outputs": [],
   "source": [
    "def days_until_next_release(album_url):\n",
    "    album = df[df['album_url'] == album_url]\n",
    "    artist_url = album.artist_url.values[0]\n",
    "    artist_albums = df[df['artist_url'] == artist_url].sort_values('album_date_released')\n",
    "\n",
    "    album_date_released = album.album_date_released.values[0]\n",
    "\n",
    "    next_album = artist_albums[artist_albums['album_date_released'] > album_date_released].head(1)\n",
    "    next_album_date_released = next_album.album_date_released.values\n",
    "    if len(next_album_date_released) == 0:\n",
    "        return(None)\n",
    "    else:\n",
    "        next_album_date_released = next_album_date_released[0]\n",
    "\n",
    "    date_difference = next_album_date_released - album_date_released\n",
    "    return(date_difference.days)"
   ]
  },
  {
   "cell_type": "code",
   "execution_count": 60,
   "metadata": {},
   "outputs": [
    {
     "data": {
      "text/plain": [
       "196"
      ]
     },
     "execution_count": 60,
     "metadata": {},
     "output_type": "execute_result"
    }
   ],
   "source": [
    "days_until_next_release(album_url)"
   ]
  },
  {
   "cell_type": "code",
   "execution_count": 61,
   "metadata": {},
   "outputs": [],
   "source": [
    "# the last album from the artist\n",
    "album_url = df.loc[10049, :]['album_url']\n",
    "days_until_next_release(album_url)"
   ]
  },
  {
   "cell_type": "code",
   "execution_count": 62,
   "metadata": {},
   "outputs": [
    {
     "data": {
      "text/plain": [
       "album_id\n",
       "1          NaN\n",
       "100      997.0\n",
       "1000       NaN\n",
       "10000      NaN\n",
       "10001    365.0\n",
       "10002     53.0\n",
       "10003      NaN\n",
       "10007      NaN\n",
       "10008      NaN\n",
       "10009     26.0\n",
       "Name: album_url, dtype: float64"
      ]
     },
     "execution_count": 62,
     "metadata": {},
     "output_type": "execute_result"
    }
   ],
   "source": [
    "df['album_url'].head(10).apply(days_until_next_release)"
   ]
  },
  {
   "cell_type": "code",
   "execution_count": 63,
   "metadata": {},
   "outputs": [],
   "source": [
    "df.loc[:, 'days_until_next_album'] = df['album_url'].apply(days_until_next_release)"
   ]
  },
  {
   "cell_type": "code",
   "execution_count": 64,
   "metadata": {},
   "outputs": [
    {
     "data": {
      "text/html": [
       "<div>\n",
       "<style scoped>\n",
       "    .dataframe tbody tr th:only-of-type {\n",
       "        vertical-align: middle;\n",
       "    }\n",
       "\n",
       "    .dataframe tbody tr th {\n",
       "        vertical-align: top;\n",
       "    }\n",
       "\n",
       "    .dataframe thead th {\n",
       "        text-align: right;\n",
       "    }\n",
       "</style>\n",
       "<table border=\"1\" class=\"dataframe\">\n",
       "  <thead>\n",
       "    <tr style=\"text-align: right;\">\n",
       "      <th></th>\n",
       "      <th>album_url</th>\n",
       "      <th>artist_url</th>\n",
       "      <th>album_date_released</th>\n",
       "      <th>album_type</th>\n",
       "      <th>album_tracks</th>\n",
       "      <th>album_duration</th>\n",
       "      <th>days_until_next_album</th>\n",
       "    </tr>\n",
       "    <tr>\n",
       "      <th>album_id</th>\n",
       "      <th></th>\n",
       "      <th></th>\n",
       "      <th></th>\n",
       "      <th></th>\n",
       "      <th></th>\n",
       "      <th></th>\n",
       "      <th></th>\n",
       "    </tr>\n",
       "  </thead>\n",
       "  <tbody>\n",
       "    <tr>\n",
       "      <th>1</th>\n",
       "      <td>http://freemusicarchive.org/music/AWOL/AWOL_-_...</td>\n",
       "      <td>http://freemusicarchive.org/music/AWOL/</td>\n",
       "      <td>2009-01-05</td>\n",
       "      <td>Album</td>\n",
       "      <td>7</td>\n",
       "      <td>1235</td>\n",
       "      <td>NaN</td>\n",
       "    </tr>\n",
       "    <tr>\n",
       "      <th>100</th>\n",
       "      <td>http://freemusicarchive.org/music/Bird_Names/O...</td>\n",
       "      <td>http://freemusicarchive.org/music/Bird_Names/</td>\n",
       "      <td>2009-01-09</td>\n",
       "      <td>Album</td>\n",
       "      <td>4</td>\n",
       "      <td>626</td>\n",
       "      <td>997.0</td>\n",
       "    </tr>\n",
       "    <tr>\n",
       "      <th>1000</th>\n",
       "      <td>http://freemusicarchive.org/music/DMBQ/DMBQ_Li...</td>\n",
       "      <td>http://freemusicarchive.org/music/DMBQ/</td>\n",
       "      <td>2008-10-26</td>\n",
       "      <td>Live Performance</td>\n",
       "      <td>4</td>\n",
       "      <td>3264</td>\n",
       "      <td>NaN</td>\n",
       "    </tr>\n",
       "    <tr>\n",
       "      <th>10000</th>\n",
       "      <td>http://freemusicarchive.org/music/Sundrips/Liv...</td>\n",
       "      <td>http://freemusicarchive.org/music/Sundrips/</td>\n",
       "      <td>2011-09-05</td>\n",
       "      <td>Radio Program</td>\n",
       "      <td>1</td>\n",
       "      <td>874</td>\n",
       "      <td>NaN</td>\n",
       "    </tr>\n",
       "    <tr>\n",
       "      <th>10001</th>\n",
       "      <td>http://freemusicarchive.org/music/Uton/Grounds...</td>\n",
       "      <td>http://freemusicarchive.org/music/Uton/</td>\n",
       "      <td>2006-01-01</td>\n",
       "      <td>Album</td>\n",
       "      <td>1</td>\n",
       "      <td>2746</td>\n",
       "      <td>365.0</td>\n",
       "    </tr>\n",
       "  </tbody>\n",
       "</table>\n",
       "</div>"
      ],
      "text/plain": [
       "                                                  album_url  \\\n",
       "album_id                                                      \n",
       "1         http://freemusicarchive.org/music/AWOL/AWOL_-_...   \n",
       "100       http://freemusicarchive.org/music/Bird_Names/O...   \n",
       "1000      http://freemusicarchive.org/music/DMBQ/DMBQ_Li...   \n",
       "10000     http://freemusicarchive.org/music/Sundrips/Liv...   \n",
       "10001     http://freemusicarchive.org/music/Uton/Grounds...   \n",
       "\n",
       "                                             artist_url album_date_released  \\\n",
       "album_id                                                                      \n",
       "1               http://freemusicarchive.org/music/AWOL/          2009-01-05   \n",
       "100       http://freemusicarchive.org/music/Bird_Names/          2009-01-09   \n",
       "1000            http://freemusicarchive.org/music/DMBQ/          2008-10-26   \n",
       "10000       http://freemusicarchive.org/music/Sundrips/          2011-09-05   \n",
       "10001           http://freemusicarchive.org/music/Uton/          2006-01-01   \n",
       "\n",
       "                album_type  album_tracks  album_duration  \\\n",
       "album_id                                                   \n",
       "1                    Album             7            1235   \n",
       "100                  Album             4             626   \n",
       "1000      Live Performance             4            3264   \n",
       "10000        Radio Program             1             874   \n",
       "10001                Album             1            2746   \n",
       "\n",
       "          days_until_next_album  \n",
       "album_id                         \n",
       "1                           NaN  \n",
       "100                       997.0  \n",
       "1000                        NaN  \n",
       "10000                       NaN  \n",
       "10001                     365.0  "
      ]
     },
     "execution_count": 64,
     "metadata": {},
     "output_type": "execute_result"
    }
   ],
   "source": [
    "df.head()"
   ]
  },
  {
   "cell_type": "code",
   "execution_count": 65,
   "metadata": {},
   "outputs": [
    {
     "data": {
      "text/html": [
       "<div>\n",
       "<style scoped>\n",
       "    .dataframe tbody tr th:only-of-type {\n",
       "        vertical-align: middle;\n",
       "    }\n",
       "\n",
       "    .dataframe tbody tr th {\n",
       "        vertical-align: top;\n",
       "    }\n",
       "\n",
       "    .dataframe thead th {\n",
       "        text-align: right;\n",
       "    }\n",
       "</style>\n",
       "<table border=\"1\" class=\"dataframe\">\n",
       "  <thead>\n",
       "    <tr style=\"text-align: right;\">\n",
       "      <th></th>\n",
       "      <th>album_url</th>\n",
       "      <th>artist_url</th>\n",
       "      <th>album_date_released</th>\n",
       "      <th>album_type</th>\n",
       "      <th>album_tracks</th>\n",
       "      <th>album_duration</th>\n",
       "      <th>days_until_next_album</th>\n",
       "    </tr>\n",
       "    <tr>\n",
       "      <th>album_id</th>\n",
       "      <th></th>\n",
       "      <th></th>\n",
       "      <th></th>\n",
       "      <th></th>\n",
       "      <th></th>\n",
       "      <th></th>\n",
       "      <th></th>\n",
       "    </tr>\n",
       "  </thead>\n",
       "  <tbody>\n",
       "    <tr>\n",
       "      <th>10050</th>\n",
       "      <td>http://freemusicarchive.org/music/Chris_Zabris...</td>\n",
       "      <td>http://freemusicarchive.org/music/Chris_Zabris...</td>\n",
       "      <td>2009-03-10</td>\n",
       "      <td>Album</td>\n",
       "      <td>7</td>\n",
       "      <td>2490</td>\n",
       "      <td>196.0</td>\n",
       "    </tr>\n",
       "    <tr>\n",
       "      <th>10052</th>\n",
       "      <td>http://freemusicarchive.org/music/Chris_Zabris...</td>\n",
       "      <td>http://freemusicarchive.org/music/Chris_Zabris...</td>\n",
       "      <td>2009-09-22</td>\n",
       "      <td>Album</td>\n",
       "      <td>23</td>\n",
       "      <td>1736</td>\n",
       "      <td>322.0</td>\n",
       "    </tr>\n",
       "    <tr>\n",
       "      <th>10053</th>\n",
       "      <td>http://freemusicarchive.org/music/Chris_Zabris...</td>\n",
       "      <td>http://freemusicarchive.org/music/Chris_Zabris...</td>\n",
       "      <td>2010-08-10</td>\n",
       "      <td>Album</td>\n",
       "      <td>5</td>\n",
       "      <td>2455</td>\n",
       "      <td>156.0</td>\n",
       "    </tr>\n",
       "    <tr>\n",
       "      <th>10057</th>\n",
       "      <td>http://freemusicarchive.org/music/Chris_Zabris...</td>\n",
       "      <td>http://freemusicarchive.org/music/Chris_Zabris...</td>\n",
       "      <td>2011-01-13</td>\n",
       "      <td>Album</td>\n",
       "      <td>4</td>\n",
       "      <td>2634</td>\n",
       "      <td>186.0</td>\n",
       "    </tr>\n",
       "    <tr>\n",
       "      <th>10058</th>\n",
       "      <td>http://freemusicarchive.org/music/Chris_Zabris...</td>\n",
       "      <td>http://freemusicarchive.org/music/Chris_Zabris...</td>\n",
       "      <td>2011-07-18</td>\n",
       "      <td>Album</td>\n",
       "      <td>6</td>\n",
       "      <td>1981</td>\n",
       "      <td>191.0</td>\n",
       "    </tr>\n",
       "    <tr>\n",
       "      <th>10927</th>\n",
       "      <td>http://freemusicarchive.org/music/Chris_Zabris...</td>\n",
       "      <td>http://freemusicarchive.org/music/Chris_Zabris...</td>\n",
       "      <td>2012-01-25</td>\n",
       "      <td>Album</td>\n",
       "      <td>8</td>\n",
       "      <td>2281</td>\n",
       "      <td>1206.0</td>\n",
       "    </tr>\n",
       "    <tr>\n",
       "      <th>10049</th>\n",
       "      <td>http://freemusicarchive.org/music/Chris_Zabris...</td>\n",
       "      <td>http://freemusicarchive.org/music/Chris_Zabris...</td>\n",
       "      <td>2015-05-15</td>\n",
       "      <td>Album</td>\n",
       "      <td>5</td>\n",
       "      <td>2464</td>\n",
       "      <td>NaN</td>\n",
       "    </tr>\n",
       "  </tbody>\n",
       "</table>\n",
       "</div>"
      ],
      "text/plain": [
       "                                                  album_url  \\\n",
       "album_id                                                      \n",
       "10050     http://freemusicarchive.org/music/Chris_Zabris...   \n",
       "10052     http://freemusicarchive.org/music/Chris_Zabris...   \n",
       "10053     http://freemusicarchive.org/music/Chris_Zabris...   \n",
       "10057     http://freemusicarchive.org/music/Chris_Zabris...   \n",
       "10058     http://freemusicarchive.org/music/Chris_Zabris...   \n",
       "10927     http://freemusicarchive.org/music/Chris_Zabris...   \n",
       "10049     http://freemusicarchive.org/music/Chris_Zabris...   \n",
       "\n",
       "                                                 artist_url  \\\n",
       "album_id                                                      \n",
       "10050     http://freemusicarchive.org/music/Chris_Zabris...   \n",
       "10052     http://freemusicarchive.org/music/Chris_Zabris...   \n",
       "10053     http://freemusicarchive.org/music/Chris_Zabris...   \n",
       "10057     http://freemusicarchive.org/music/Chris_Zabris...   \n",
       "10058     http://freemusicarchive.org/music/Chris_Zabris...   \n",
       "10927     http://freemusicarchive.org/music/Chris_Zabris...   \n",
       "10049     http://freemusicarchive.org/music/Chris_Zabris...   \n",
       "\n",
       "         album_date_released album_type  album_tracks  album_duration  \\\n",
       "album_id                                                                \n",
       "10050             2009-03-10      Album             7            2490   \n",
       "10052             2009-09-22      Album            23            1736   \n",
       "10053             2010-08-10      Album             5            2455   \n",
       "10057             2011-01-13      Album             4            2634   \n",
       "10058             2011-07-18      Album             6            1981   \n",
       "10927             2012-01-25      Album             8            2281   \n",
       "10049             2015-05-15      Album             5            2464   \n",
       "\n",
       "          days_until_next_album  \n",
       "album_id                         \n",
       "10050                     196.0  \n",
       "10052                     322.0  \n",
       "10053                     156.0  \n",
       "10057                     186.0  \n",
       "10058                     191.0  \n",
       "10927                    1206.0  \n",
       "10049                       NaN  "
      ]
     },
     "execution_count": 65,
     "metadata": {},
     "output_type": "execute_result"
    }
   ],
   "source": [
    "# final test\n",
    "df[df['artist_url'] == 'http://freemusicarchive.org/music/Chris_Zabriskie/'].sort_values('album_date_released')"
   ]
  },
  {
   "cell_type": "code",
   "execution_count": 66,
   "metadata": {},
   "outputs": [
    {
     "data": {
      "text/plain": [
       "(1000, 7)"
      ]
     },
     "execution_count": 66,
     "metadata": {},
     "output_type": "execute_result"
    }
   ],
   "source": [
    "df.shape"
   ]
  },
  {
   "cell_type": "code",
   "execution_count": 67,
   "metadata": {},
   "outputs": [
    {
     "data": {
      "text/html": [
       "<div>\n",
       "<style scoped>\n",
       "    .dataframe tbody tr th:only-of-type {\n",
       "        vertical-align: middle;\n",
       "    }\n",
       "\n",
       "    .dataframe tbody tr th {\n",
       "        vertical-align: top;\n",
       "    }\n",
       "\n",
       "    .dataframe thead th {\n",
       "        text-align: right;\n",
       "    }\n",
       "</style>\n",
       "<table border=\"1\" class=\"dataframe\">\n",
       "  <thead>\n",
       "    <tr style=\"text-align: right;\">\n",
       "      <th></th>\n",
       "      <th>album_url</th>\n",
       "      <th>artist_url</th>\n",
       "      <th>album_date_released</th>\n",
       "      <th>album_type</th>\n",
       "      <th>album_tracks</th>\n",
       "      <th>album_duration</th>\n",
       "      <th>days_until_next_album</th>\n",
       "    </tr>\n",
       "    <tr>\n",
       "      <th>album_id</th>\n",
       "      <th></th>\n",
       "      <th></th>\n",
       "      <th></th>\n",
       "      <th></th>\n",
       "      <th></th>\n",
       "      <th></th>\n",
       "      <th></th>\n",
       "    </tr>\n",
       "  </thead>\n",
       "  <tbody>\n",
       "    <tr>\n",
       "      <th>100</th>\n",
       "      <td>http://freemusicarchive.org/music/Bird_Names/O...</td>\n",
       "      <td>http://freemusicarchive.org/music/Bird_Names/</td>\n",
       "      <td>2009-01-09</td>\n",
       "      <td>Album</td>\n",
       "      <td>4</td>\n",
       "      <td>626</td>\n",
       "      <td>997.0</td>\n",
       "    </tr>\n",
       "    <tr>\n",
       "      <th>10001</th>\n",
       "      <td>http://freemusicarchive.org/music/Uton/Grounds...</td>\n",
       "      <td>http://freemusicarchive.org/music/Uton/</td>\n",
       "      <td>2006-01-01</td>\n",
       "      <td>Album</td>\n",
       "      <td>1</td>\n",
       "      <td>2746</td>\n",
       "      <td>365.0</td>\n",
       "    </tr>\n",
       "    <tr>\n",
       "      <th>10002</th>\n",
       "      <td>http://freemusicarchive.org/music/Prince_Rama_...</td>\n",
       "      <td>http://freemusicarchive.org/music/Prince_Rama_...</td>\n",
       "      <td>2011-09-06</td>\n",
       "      <td>Album</td>\n",
       "      <td>1</td>\n",
       "      <td>381</td>\n",
       "      <td>53.0</td>\n",
       "    </tr>\n",
       "    <tr>\n",
       "      <th>10009</th>\n",
       "      <td>http://freemusicarchive.org/music/Audio_K/My_S...</td>\n",
       "      <td>http://freemusicarchive.org/music/Audio_K/</td>\n",
       "      <td>2011-09-07</td>\n",
       "      <td>Album</td>\n",
       "      <td>4</td>\n",
       "      <td>1282</td>\n",
       "      <td>26.0</td>\n",
       "    </tr>\n",
       "    <tr>\n",
       "      <th>10018</th>\n",
       "      <td>http://freemusicarchive.org/music/Angels_in_Am...</td>\n",
       "      <td>http://freemusicarchive.org/music/Angels_in_Am...</td>\n",
       "      <td>2011-07-04</td>\n",
       "      <td>Album</td>\n",
       "      <td>7</td>\n",
       "      <td>1905</td>\n",
       "      <td>66.0</td>\n",
       "    </tr>\n",
       "  </tbody>\n",
       "</table>\n",
       "</div>"
      ],
      "text/plain": [
       "                                                  album_url  \\\n",
       "album_id                                                      \n",
       "100       http://freemusicarchive.org/music/Bird_Names/O...   \n",
       "10001     http://freemusicarchive.org/music/Uton/Grounds...   \n",
       "10002     http://freemusicarchive.org/music/Prince_Rama_...   \n",
       "10009     http://freemusicarchive.org/music/Audio_K/My_S...   \n",
       "10018     http://freemusicarchive.org/music/Angels_in_Am...   \n",
       "\n",
       "                                                 artist_url  \\\n",
       "album_id                                                      \n",
       "100           http://freemusicarchive.org/music/Bird_Names/   \n",
       "10001               http://freemusicarchive.org/music/Uton/   \n",
       "10002     http://freemusicarchive.org/music/Prince_Rama_...   \n",
       "10009            http://freemusicarchive.org/music/Audio_K/   \n",
       "10018     http://freemusicarchive.org/music/Angels_in_Am...   \n",
       "\n",
       "         album_date_released album_type  album_tracks  album_duration  \\\n",
       "album_id                                                                \n",
       "100               2009-01-09      Album             4             626   \n",
       "10001             2006-01-01      Album             1            2746   \n",
       "10002             2011-09-06      Album             1             381   \n",
       "10009             2011-09-07      Album             4            1282   \n",
       "10018             2011-07-04      Album             7            1905   \n",
       "\n",
       "          days_until_next_album  \n",
       "album_id                         \n",
       "100                       997.0  \n",
       "10001                     365.0  \n",
       "10002                      53.0  \n",
       "10009                      26.0  \n",
       "10018                      66.0  "
      ]
     },
     "execution_count": 67,
     "metadata": {},
     "output_type": "execute_result"
    }
   ],
   "source": [
    "# clean up all rows without the next release\n",
    "# since they don't give us any information we can act on\n",
    "df = df.dropna(subset=['days_until_next_album'])\n",
    "df.head()"
   ]
  },
  {
   "cell_type": "code",
   "execution_count": 68,
   "metadata": {},
   "outputs": [
    {
     "data": {
      "text/plain": [
       "(240, 7)"
      ]
     },
     "execution_count": 68,
     "metadata": {},
     "output_type": "execute_result"
    }
   ],
   "source": [
    "df.shape"
   ]
  },
  {
   "cell_type": "markdown",
   "metadata": {},
   "source": [
    "# Total albums released"
   ]
  },
  {
   "cell_type": "code",
   "execution_count": 69,
   "metadata": {},
   "outputs": [],
   "source": [
    "def total_albums_released(album_url):\n",
    "    album = df[df['album_url'] == album_url]\n",
    "    artist_url = album.artist_url.values[0]\n",
    "    artist_albums = df[df['artist_url'] == artist_url].sort_values('album_date_released')\n",
    "\n",
    "    album_date_released = album.album_date_released.values[0]\n",
    "    albums_previously_released = artist_albums[artist_albums['album_date_released'] <= album_date_released]\n",
    "    return(albums_previously_released.shape[0])"
   ]
  },
  {
   "cell_type": "code",
   "execution_count": 70,
   "metadata": {},
   "outputs": [
    {
     "data": {
      "text/plain": [
       "1"
      ]
     },
     "execution_count": 70,
     "metadata": {},
     "output_type": "execute_result"
    }
   ],
   "source": [
    "# the first album from the artist\n",
    "album_url = df.loc[10050, :]['album_url']\n",
    "total_albums_released(album_url)"
   ]
  },
  {
   "cell_type": "code",
   "execution_count": 71,
   "metadata": {},
   "outputs": [
    {
     "data": {
      "text/plain": [
       "6"
      ]
     },
     "execution_count": 71,
     "metadata": {},
     "output_type": "execute_result"
    }
   ],
   "source": [
    "# the last album from the artist in our dataset\n",
    "album_url = df.loc[10927, :]['album_url']\n",
    "total_albums_released(album_url)"
   ]
  },
  {
   "cell_type": "code",
   "execution_count": 72,
   "metadata": {},
   "outputs": [
    {
     "data": {
      "text/plain": [
       "album_id\n",
       "100      2\n",
       "10001    2\n",
       "10002    1\n",
       "10009    1\n",
       "10018    1\n",
       "10028    1\n",
       "10034    1\n",
       "10036    1\n",
       "10050    1\n",
       "10052    2\n",
       "Name: album_url, dtype: int64"
      ]
     },
     "execution_count": 72,
     "metadata": {},
     "output_type": "execute_result"
    }
   ],
   "source": [
    "df['album_url'].head(10).apply(total_albums_released)"
   ]
  },
  {
   "cell_type": "code",
   "execution_count": 73,
   "metadata": {},
   "outputs": [],
   "source": [
    "df.loc[:, 'total_albums_released'] = df['album_url'].apply(total_albums_released)"
   ]
  },
  {
   "cell_type": "code",
   "execution_count": 74,
   "metadata": {},
   "outputs": [
    {
     "data": {
      "text/html": [
       "<div>\n",
       "<style scoped>\n",
       "    .dataframe tbody tr th:only-of-type {\n",
       "        vertical-align: middle;\n",
       "    }\n",
       "\n",
       "    .dataframe tbody tr th {\n",
       "        vertical-align: top;\n",
       "    }\n",
       "\n",
       "    .dataframe thead th {\n",
       "        text-align: right;\n",
       "    }\n",
       "</style>\n",
       "<table border=\"1\" class=\"dataframe\">\n",
       "  <thead>\n",
       "    <tr style=\"text-align: right;\">\n",
       "      <th></th>\n",
       "      <th>album_url</th>\n",
       "      <th>artist_url</th>\n",
       "      <th>album_date_released</th>\n",
       "      <th>album_type</th>\n",
       "      <th>album_tracks</th>\n",
       "      <th>album_duration</th>\n",
       "      <th>days_until_next_album</th>\n",
       "      <th>total_albums_released</th>\n",
       "    </tr>\n",
       "    <tr>\n",
       "      <th>album_id</th>\n",
       "      <th></th>\n",
       "      <th></th>\n",
       "      <th></th>\n",
       "      <th></th>\n",
       "      <th></th>\n",
       "      <th></th>\n",
       "      <th></th>\n",
       "      <th></th>\n",
       "    </tr>\n",
       "  </thead>\n",
       "  <tbody>\n",
       "    <tr>\n",
       "      <th>100</th>\n",
       "      <td>http://freemusicarchive.org/music/Bird_Names/O...</td>\n",
       "      <td>http://freemusicarchive.org/music/Bird_Names/</td>\n",
       "      <td>2009-01-09</td>\n",
       "      <td>Album</td>\n",
       "      <td>4</td>\n",
       "      <td>626</td>\n",
       "      <td>997.0</td>\n",
       "      <td>2</td>\n",
       "    </tr>\n",
       "    <tr>\n",
       "      <th>10001</th>\n",
       "      <td>http://freemusicarchive.org/music/Uton/Grounds...</td>\n",
       "      <td>http://freemusicarchive.org/music/Uton/</td>\n",
       "      <td>2006-01-01</td>\n",
       "      <td>Album</td>\n",
       "      <td>1</td>\n",
       "      <td>2746</td>\n",
       "      <td>365.0</td>\n",
       "      <td>2</td>\n",
       "    </tr>\n",
       "    <tr>\n",
       "      <th>10002</th>\n",
       "      <td>http://freemusicarchive.org/music/Prince_Rama_...</td>\n",
       "      <td>http://freemusicarchive.org/music/Prince_Rama_...</td>\n",
       "      <td>2011-09-06</td>\n",
       "      <td>Album</td>\n",
       "      <td>1</td>\n",
       "      <td>381</td>\n",
       "      <td>53.0</td>\n",
       "      <td>1</td>\n",
       "    </tr>\n",
       "    <tr>\n",
       "      <th>10009</th>\n",
       "      <td>http://freemusicarchive.org/music/Audio_K/My_S...</td>\n",
       "      <td>http://freemusicarchive.org/music/Audio_K/</td>\n",
       "      <td>2011-09-07</td>\n",
       "      <td>Album</td>\n",
       "      <td>4</td>\n",
       "      <td>1282</td>\n",
       "      <td>26.0</td>\n",
       "      <td>1</td>\n",
       "    </tr>\n",
       "    <tr>\n",
       "      <th>10018</th>\n",
       "      <td>http://freemusicarchive.org/music/Angels_in_Am...</td>\n",
       "      <td>http://freemusicarchive.org/music/Angels_in_Am...</td>\n",
       "      <td>2011-07-04</td>\n",
       "      <td>Album</td>\n",
       "      <td>7</td>\n",
       "      <td>1905</td>\n",
       "      <td>66.0</td>\n",
       "      <td>1</td>\n",
       "    </tr>\n",
       "  </tbody>\n",
       "</table>\n",
       "</div>"
      ],
      "text/plain": [
       "                                                  album_url  \\\n",
       "album_id                                                      \n",
       "100       http://freemusicarchive.org/music/Bird_Names/O...   \n",
       "10001     http://freemusicarchive.org/music/Uton/Grounds...   \n",
       "10002     http://freemusicarchive.org/music/Prince_Rama_...   \n",
       "10009     http://freemusicarchive.org/music/Audio_K/My_S...   \n",
       "10018     http://freemusicarchive.org/music/Angels_in_Am...   \n",
       "\n",
       "                                                 artist_url  \\\n",
       "album_id                                                      \n",
       "100           http://freemusicarchive.org/music/Bird_Names/   \n",
       "10001               http://freemusicarchive.org/music/Uton/   \n",
       "10002     http://freemusicarchive.org/music/Prince_Rama_...   \n",
       "10009            http://freemusicarchive.org/music/Audio_K/   \n",
       "10018     http://freemusicarchive.org/music/Angels_in_Am...   \n",
       "\n",
       "         album_date_released album_type  album_tracks  album_duration  \\\n",
       "album_id                                                                \n",
       "100               2009-01-09      Album             4             626   \n",
       "10001             2006-01-01      Album             1            2746   \n",
       "10002             2011-09-06      Album             1             381   \n",
       "10009             2011-09-07      Album             4            1282   \n",
       "10018             2011-07-04      Album             7            1905   \n",
       "\n",
       "          days_until_next_album  total_albums_released  \n",
       "album_id                                                \n",
       "100                       997.0                      2  \n",
       "10001                     365.0                      2  \n",
       "10002                      53.0                      1  \n",
       "10009                      26.0                      1  \n",
       "10018                      66.0                      1  "
      ]
     },
     "execution_count": 74,
     "metadata": {},
     "output_type": "execute_result"
    }
   ],
   "source": [
    "df.head()"
   ]
  },
  {
   "cell_type": "markdown",
   "metadata": {},
   "source": [
    "# Days in music industry (since first release)"
   ]
  },
  {
   "cell_type": "code",
   "execution_count": 75,
   "metadata": {},
   "outputs": [],
   "source": [
    "def days_since_first_release(album_url):\n",
    "    album = df[df['album_url'] == album_url]\n",
    "    artist_url = album.artist_url.values[0]\n",
    "    artist_albums = df[df['artist_url'] == artist_url].sort_values('album_date_released')\n",
    "\n",
    "    album_date_released = album.album_date_released.values[0]\n",
    "\n",
    "    albums_previously_released = artist_albums[artist_albums['album_date_released'] <= album_date_released]\n",
    "    first_album = albums_previously_released.head(1)\n",
    "    first_album_date_released = first_album.album_date_released.values[0]\n",
    "\n",
    "    date_difference = album_date_released - first_album_date_released\n",
    "    return(date_difference.days)"
   ]
  },
  {
   "cell_type": "code",
   "execution_count": 76,
   "metadata": {},
   "outputs": [
    {
     "data": {
      "text/plain": [
       "0"
      ]
     },
     "execution_count": 76,
     "metadata": {},
     "output_type": "execute_result"
    }
   ],
   "source": [
    "# the first album from the artist\n",
    "album_url = df.loc[10050, :]['album_url']\n",
    "days_since_first_release(album_url)"
   ]
  },
  {
   "cell_type": "code",
   "execution_count": 77,
   "metadata": {},
   "outputs": [
    {
     "data": {
      "text/plain": [
       "1051"
      ]
     },
     "execution_count": 77,
     "metadata": {},
     "output_type": "execute_result"
    }
   ],
   "source": [
    "# the last album from the artist in our dataset\n",
    "album_url = df.loc[10927, :]['album_url']\n",
    "days_since_first_release(album_url)"
   ]
  },
  {
   "cell_type": "code",
   "execution_count": 78,
   "metadata": {},
   "outputs": [
    {
     "data": {
      "text/plain": [
       "album_id\n",
       "100      739\n",
       "10001    365\n",
       "10002      0\n",
       "10009      0\n",
       "10018      0\n",
       "10028      0\n",
       "10034      0\n",
       "10036      0\n",
       "10050      0\n",
       "10052    196\n",
       "Name: album_url, dtype: int64"
      ]
     },
     "execution_count": 78,
     "metadata": {},
     "output_type": "execute_result"
    }
   ],
   "source": [
    "df['album_url'].head(10).apply(days_since_first_release)"
   ]
  },
  {
   "cell_type": "code",
   "execution_count": 79,
   "metadata": {},
   "outputs": [],
   "source": [
    "df.loc[:, 'days_since_first_release'] = df['album_url'].apply(days_since_first_release)"
   ]
  },
  {
   "cell_type": "code",
   "execution_count": 80,
   "metadata": {},
   "outputs": [
    {
     "data": {
      "text/html": [
       "<div>\n",
       "<style scoped>\n",
       "    .dataframe tbody tr th:only-of-type {\n",
       "        vertical-align: middle;\n",
       "    }\n",
       "\n",
       "    .dataframe tbody tr th {\n",
       "        vertical-align: top;\n",
       "    }\n",
       "\n",
       "    .dataframe thead th {\n",
       "        text-align: right;\n",
       "    }\n",
       "</style>\n",
       "<table border=\"1\" class=\"dataframe\">\n",
       "  <thead>\n",
       "    <tr style=\"text-align: right;\">\n",
       "      <th></th>\n",
       "      <th>album_url</th>\n",
       "      <th>artist_url</th>\n",
       "      <th>album_date_released</th>\n",
       "      <th>album_type</th>\n",
       "      <th>album_tracks</th>\n",
       "      <th>album_duration</th>\n",
       "      <th>days_until_next_album</th>\n",
       "      <th>total_albums_released</th>\n",
       "      <th>days_since_first_release</th>\n",
       "    </tr>\n",
       "    <tr>\n",
       "      <th>album_id</th>\n",
       "      <th></th>\n",
       "      <th></th>\n",
       "      <th></th>\n",
       "      <th></th>\n",
       "      <th></th>\n",
       "      <th></th>\n",
       "      <th></th>\n",
       "      <th></th>\n",
       "      <th></th>\n",
       "    </tr>\n",
       "  </thead>\n",
       "  <tbody>\n",
       "    <tr>\n",
       "      <th>100</th>\n",
       "      <td>http://freemusicarchive.org/music/Bird_Names/O...</td>\n",
       "      <td>http://freemusicarchive.org/music/Bird_Names/</td>\n",
       "      <td>2009-01-09</td>\n",
       "      <td>Album</td>\n",
       "      <td>4</td>\n",
       "      <td>626</td>\n",
       "      <td>997.0</td>\n",
       "      <td>2</td>\n",
       "      <td>739</td>\n",
       "    </tr>\n",
       "    <tr>\n",
       "      <th>10001</th>\n",
       "      <td>http://freemusicarchive.org/music/Uton/Grounds...</td>\n",
       "      <td>http://freemusicarchive.org/music/Uton/</td>\n",
       "      <td>2006-01-01</td>\n",
       "      <td>Album</td>\n",
       "      <td>1</td>\n",
       "      <td>2746</td>\n",
       "      <td>365.0</td>\n",
       "      <td>2</td>\n",
       "      <td>365</td>\n",
       "    </tr>\n",
       "    <tr>\n",
       "      <th>10002</th>\n",
       "      <td>http://freemusicarchive.org/music/Prince_Rama_...</td>\n",
       "      <td>http://freemusicarchive.org/music/Prince_Rama_...</td>\n",
       "      <td>2011-09-06</td>\n",
       "      <td>Album</td>\n",
       "      <td>1</td>\n",
       "      <td>381</td>\n",
       "      <td>53.0</td>\n",
       "      <td>1</td>\n",
       "      <td>0</td>\n",
       "    </tr>\n",
       "    <tr>\n",
       "      <th>10009</th>\n",
       "      <td>http://freemusicarchive.org/music/Audio_K/My_S...</td>\n",
       "      <td>http://freemusicarchive.org/music/Audio_K/</td>\n",
       "      <td>2011-09-07</td>\n",
       "      <td>Album</td>\n",
       "      <td>4</td>\n",
       "      <td>1282</td>\n",
       "      <td>26.0</td>\n",
       "      <td>1</td>\n",
       "      <td>0</td>\n",
       "    </tr>\n",
       "    <tr>\n",
       "      <th>10018</th>\n",
       "      <td>http://freemusicarchive.org/music/Angels_in_Am...</td>\n",
       "      <td>http://freemusicarchive.org/music/Angels_in_Am...</td>\n",
       "      <td>2011-07-04</td>\n",
       "      <td>Album</td>\n",
       "      <td>7</td>\n",
       "      <td>1905</td>\n",
       "      <td>66.0</td>\n",
       "      <td>1</td>\n",
       "      <td>0</td>\n",
       "    </tr>\n",
       "  </tbody>\n",
       "</table>\n",
       "</div>"
      ],
      "text/plain": [
       "                                                  album_url  \\\n",
       "album_id                                                      \n",
       "100       http://freemusicarchive.org/music/Bird_Names/O...   \n",
       "10001     http://freemusicarchive.org/music/Uton/Grounds...   \n",
       "10002     http://freemusicarchive.org/music/Prince_Rama_...   \n",
       "10009     http://freemusicarchive.org/music/Audio_K/My_S...   \n",
       "10018     http://freemusicarchive.org/music/Angels_in_Am...   \n",
       "\n",
       "                                                 artist_url  \\\n",
       "album_id                                                      \n",
       "100           http://freemusicarchive.org/music/Bird_Names/   \n",
       "10001               http://freemusicarchive.org/music/Uton/   \n",
       "10002     http://freemusicarchive.org/music/Prince_Rama_...   \n",
       "10009            http://freemusicarchive.org/music/Audio_K/   \n",
       "10018     http://freemusicarchive.org/music/Angels_in_Am...   \n",
       "\n",
       "         album_date_released album_type  album_tracks  album_duration  \\\n",
       "album_id                                                                \n",
       "100               2009-01-09      Album             4             626   \n",
       "10001             2006-01-01      Album             1            2746   \n",
       "10002             2011-09-06      Album             1             381   \n",
       "10009             2011-09-07      Album             4            1282   \n",
       "10018             2011-07-04      Album             7            1905   \n",
       "\n",
       "          days_until_next_album  total_albums_released  \\\n",
       "album_id                                                 \n",
       "100                       997.0                      2   \n",
       "10001                     365.0                      2   \n",
       "10002                      53.0                      1   \n",
       "10009                      26.0                      1   \n",
       "10018                      66.0                      1   \n",
       "\n",
       "          days_since_first_release  \n",
       "album_id                            \n",
       "100                            739  \n",
       "10001                          365  \n",
       "10002                            0  \n",
       "10009                            0  \n",
       "10018                            0  "
      ]
     },
     "execution_count": 80,
     "metadata": {},
     "output_type": "execute_result"
    }
   ],
   "source": [
    "df.head()"
   ]
  },
  {
   "cell_type": "markdown",
   "metadata": {},
   "source": [
    "# Average days to release"
   ]
  },
  {
   "cell_type": "code",
   "execution_count": 81,
   "metadata": {},
   "outputs": [
    {
     "data": {
      "text/plain": [
       "album_id\n",
       "100      369.5\n",
       "10001    182.5\n",
       "10002      0.0\n",
       "10009      0.0\n",
       "10018      0.0\n",
       "10028      0.0\n",
       "10034      0.0\n",
       "10036      0.0\n",
       "10050      0.0\n",
       "10052     98.0\n",
       "dtype: float64"
      ]
     },
     "execution_count": 81,
     "metadata": {},
     "output_type": "execute_result"
    }
   ],
   "source": [
    "(df['days_since_first_release'] / df['total_albums_released']).head(10)"
   ]
  },
  {
   "cell_type": "code",
   "execution_count": 82,
   "metadata": {},
   "outputs": [],
   "source": [
    "df.loc[:, 'average_days_to_release'] = df['days_since_first_release'] / (df['total_albums_released'] - 1)"
   ]
  },
  {
   "cell_type": "code",
   "execution_count": 83,
   "metadata": {},
   "outputs": [
    {
     "data": {
      "text/html": [
       "<div>\n",
       "<style scoped>\n",
       "    .dataframe tbody tr th:only-of-type {\n",
       "        vertical-align: middle;\n",
       "    }\n",
       "\n",
       "    .dataframe tbody tr th {\n",
       "        vertical-align: top;\n",
       "    }\n",
       "\n",
       "    .dataframe thead th {\n",
       "        text-align: right;\n",
       "    }\n",
       "</style>\n",
       "<table border=\"1\" class=\"dataframe\">\n",
       "  <thead>\n",
       "    <tr style=\"text-align: right;\">\n",
       "      <th></th>\n",
       "      <th>album_url</th>\n",
       "      <th>artist_url</th>\n",
       "      <th>album_date_released</th>\n",
       "      <th>album_type</th>\n",
       "      <th>album_tracks</th>\n",
       "      <th>album_duration</th>\n",
       "      <th>days_until_next_album</th>\n",
       "      <th>total_albums_released</th>\n",
       "      <th>days_since_first_release</th>\n",
       "      <th>average_days_to_release</th>\n",
       "    </tr>\n",
       "    <tr>\n",
       "      <th>album_id</th>\n",
       "      <th></th>\n",
       "      <th></th>\n",
       "      <th></th>\n",
       "      <th></th>\n",
       "      <th></th>\n",
       "      <th></th>\n",
       "      <th></th>\n",
       "      <th></th>\n",
       "      <th></th>\n",
       "      <th></th>\n",
       "    </tr>\n",
       "  </thead>\n",
       "  <tbody>\n",
       "    <tr>\n",
       "      <th>100</th>\n",
       "      <td>http://freemusicarchive.org/music/Bird_Names/O...</td>\n",
       "      <td>http://freemusicarchive.org/music/Bird_Names/</td>\n",
       "      <td>2009-01-09</td>\n",
       "      <td>Album</td>\n",
       "      <td>4</td>\n",
       "      <td>626</td>\n",
       "      <td>997.0</td>\n",
       "      <td>2</td>\n",
       "      <td>739</td>\n",
       "      <td>739.0</td>\n",
       "    </tr>\n",
       "    <tr>\n",
       "      <th>10001</th>\n",
       "      <td>http://freemusicarchive.org/music/Uton/Grounds...</td>\n",
       "      <td>http://freemusicarchive.org/music/Uton/</td>\n",
       "      <td>2006-01-01</td>\n",
       "      <td>Album</td>\n",
       "      <td>1</td>\n",
       "      <td>2746</td>\n",
       "      <td>365.0</td>\n",
       "      <td>2</td>\n",
       "      <td>365</td>\n",
       "      <td>365.0</td>\n",
       "    </tr>\n",
       "    <tr>\n",
       "      <th>10002</th>\n",
       "      <td>http://freemusicarchive.org/music/Prince_Rama_...</td>\n",
       "      <td>http://freemusicarchive.org/music/Prince_Rama_...</td>\n",
       "      <td>2011-09-06</td>\n",
       "      <td>Album</td>\n",
       "      <td>1</td>\n",
       "      <td>381</td>\n",
       "      <td>53.0</td>\n",
       "      <td>1</td>\n",
       "      <td>0</td>\n",
       "      <td>NaN</td>\n",
       "    </tr>\n",
       "    <tr>\n",
       "      <th>10009</th>\n",
       "      <td>http://freemusicarchive.org/music/Audio_K/My_S...</td>\n",
       "      <td>http://freemusicarchive.org/music/Audio_K/</td>\n",
       "      <td>2011-09-07</td>\n",
       "      <td>Album</td>\n",
       "      <td>4</td>\n",
       "      <td>1282</td>\n",
       "      <td>26.0</td>\n",
       "      <td>1</td>\n",
       "      <td>0</td>\n",
       "      <td>NaN</td>\n",
       "    </tr>\n",
       "    <tr>\n",
       "      <th>10018</th>\n",
       "      <td>http://freemusicarchive.org/music/Angels_in_Am...</td>\n",
       "      <td>http://freemusicarchive.org/music/Angels_in_Am...</td>\n",
       "      <td>2011-07-04</td>\n",
       "      <td>Album</td>\n",
       "      <td>7</td>\n",
       "      <td>1905</td>\n",
       "      <td>66.0</td>\n",
       "      <td>1</td>\n",
       "      <td>0</td>\n",
       "      <td>NaN</td>\n",
       "    </tr>\n",
       "    <tr>\n",
       "      <th>10028</th>\n",
       "      <td>http://freemusicarchive.org/music/Uton/Suoniin...</td>\n",
       "      <td>http://freemusicarchive.org/music/Uton/</td>\n",
       "      <td>2005-01-01</td>\n",
       "      <td>Album</td>\n",
       "      <td>1</td>\n",
       "      <td>2792</td>\n",
       "      <td>365.0</td>\n",
       "      <td>1</td>\n",
       "      <td>0</td>\n",
       "      <td>NaN</td>\n",
       "    </tr>\n",
       "    <tr>\n",
       "      <th>10034</th>\n",
       "      <td>http://freemusicarchive.org/music/junior85/jun...</td>\n",
       "      <td>http://freemusicarchive.org/music/junior85/</td>\n",
       "      <td>2011-09-13</td>\n",
       "      <td>Album</td>\n",
       "      <td>8</td>\n",
       "      <td>1638</td>\n",
       "      <td>14.0</td>\n",
       "      <td>1</td>\n",
       "      <td>0</td>\n",
       "      <td>NaN</td>\n",
       "    </tr>\n",
       "    <tr>\n",
       "      <th>10036</th>\n",
       "      <td>http://freemusicarchive.org/music/201006128494...</td>\n",
       "      <td>http://freemusicarchive.org/music/201006128494...</td>\n",
       "      <td>2011-09-13</td>\n",
       "      <td>Single Tracks</td>\n",
       "      <td>5</td>\n",
       "      <td>663</td>\n",
       "      <td>76.0</td>\n",
       "      <td>1</td>\n",
       "      <td>0</td>\n",
       "      <td>NaN</td>\n",
       "    </tr>\n",
       "    <tr>\n",
       "      <th>10050</th>\n",
       "      <td>http://freemusicarchive.org/music/Chris_Zabris...</td>\n",
       "      <td>http://freemusicarchive.org/music/Chris_Zabris...</td>\n",
       "      <td>2009-03-10</td>\n",
       "      <td>Album</td>\n",
       "      <td>7</td>\n",
       "      <td>2490</td>\n",
       "      <td>196.0</td>\n",
       "      <td>1</td>\n",
       "      <td>0</td>\n",
       "      <td>NaN</td>\n",
       "    </tr>\n",
       "    <tr>\n",
       "      <th>10052</th>\n",
       "      <td>http://freemusicarchive.org/music/Chris_Zabris...</td>\n",
       "      <td>http://freemusicarchive.org/music/Chris_Zabris...</td>\n",
       "      <td>2009-09-22</td>\n",
       "      <td>Album</td>\n",
       "      <td>23</td>\n",
       "      <td>1736</td>\n",
       "      <td>322.0</td>\n",
       "      <td>2</td>\n",
       "      <td>196</td>\n",
       "      <td>196.0</td>\n",
       "    </tr>\n",
       "  </tbody>\n",
       "</table>\n",
       "</div>"
      ],
      "text/plain": [
       "                                                  album_url  \\\n",
       "album_id                                                      \n",
       "100       http://freemusicarchive.org/music/Bird_Names/O...   \n",
       "10001     http://freemusicarchive.org/music/Uton/Grounds...   \n",
       "10002     http://freemusicarchive.org/music/Prince_Rama_...   \n",
       "10009     http://freemusicarchive.org/music/Audio_K/My_S...   \n",
       "10018     http://freemusicarchive.org/music/Angels_in_Am...   \n",
       "10028     http://freemusicarchive.org/music/Uton/Suoniin...   \n",
       "10034     http://freemusicarchive.org/music/junior85/jun...   \n",
       "10036     http://freemusicarchive.org/music/201006128494...   \n",
       "10050     http://freemusicarchive.org/music/Chris_Zabris...   \n",
       "10052     http://freemusicarchive.org/music/Chris_Zabris...   \n",
       "\n",
       "                                                 artist_url  \\\n",
       "album_id                                                      \n",
       "100           http://freemusicarchive.org/music/Bird_Names/   \n",
       "10001               http://freemusicarchive.org/music/Uton/   \n",
       "10002     http://freemusicarchive.org/music/Prince_Rama_...   \n",
       "10009            http://freemusicarchive.org/music/Audio_K/   \n",
       "10018     http://freemusicarchive.org/music/Angels_in_Am...   \n",
       "10028               http://freemusicarchive.org/music/Uton/   \n",
       "10034           http://freemusicarchive.org/music/junior85/   \n",
       "10036     http://freemusicarchive.org/music/201006128494...   \n",
       "10050     http://freemusicarchive.org/music/Chris_Zabris...   \n",
       "10052     http://freemusicarchive.org/music/Chris_Zabris...   \n",
       "\n",
       "         album_date_released     album_type  album_tracks  album_duration  \\\n",
       "album_id                                                                    \n",
       "100               2009-01-09          Album             4             626   \n",
       "10001             2006-01-01          Album             1            2746   \n",
       "10002             2011-09-06          Album             1             381   \n",
       "10009             2011-09-07          Album             4            1282   \n",
       "10018             2011-07-04          Album             7            1905   \n",
       "10028             2005-01-01          Album             1            2792   \n",
       "10034             2011-09-13          Album             8            1638   \n",
       "10036             2011-09-13  Single Tracks             5             663   \n",
       "10050             2009-03-10          Album             7            2490   \n",
       "10052             2009-09-22          Album            23            1736   \n",
       "\n",
       "          days_until_next_album  total_albums_released  \\\n",
       "album_id                                                 \n",
       "100                       997.0                      2   \n",
       "10001                     365.0                      2   \n",
       "10002                      53.0                      1   \n",
       "10009                      26.0                      1   \n",
       "10018                      66.0                      1   \n",
       "10028                     365.0                      1   \n",
       "10034                      14.0                      1   \n",
       "10036                      76.0                      1   \n",
       "10050                     196.0                      1   \n",
       "10052                     322.0                      2   \n",
       "\n",
       "          days_since_first_release  average_days_to_release  \n",
       "album_id                                                     \n",
       "100                            739                    739.0  \n",
       "10001                          365                    365.0  \n",
       "10002                            0                      NaN  \n",
       "10009                            0                      NaN  \n",
       "10018                            0                      NaN  \n",
       "10028                            0                      NaN  \n",
       "10034                            0                      NaN  \n",
       "10036                            0                      NaN  \n",
       "10050                            0                      NaN  \n",
       "10052                          196                    196.0  "
      ]
     },
     "execution_count": 83,
     "metadata": {},
     "output_type": "execute_result"
    }
   ],
   "source": [
    "df.head(10)"
   ]
  },
  {
   "cell_type": "markdown",
   "metadata": {},
   "source": [
    "# Days since previous release"
   ]
  },
  {
   "cell_type": "code",
   "execution_count": 84,
   "metadata": {},
   "outputs": [],
   "source": [
    "def days_since_prev_release(album_url):\n",
    "    album = df[df['album_url'] == album_url]\n",
    "    artist_url = album.artist_url.values[0]\n",
    "    artist_albums = df[df['artist_url'] == artist_url].sort_values('album_date_released', ascending=False)\n",
    "\n",
    "    album_date_released = album.album_date_released.values[0]\n",
    "\n",
    "    prev_album = artist_albums[artist_albums['album_date_released'] < album_date_released].head(1)\n",
    "    prev_album_date_released = prev_album.album_date_released.values\n",
    "    if len(prev_album_date_released) == 0:\n",
    "        return(None)\n",
    "    else:\n",
    "        prev_album_date_released = prev_album_date_released[0]\n",
    "\n",
    "    date_difference = album_date_released - prev_album_date_released\n",
    "    return(date_difference.days)"
   ]
  },
  {
   "cell_type": "code",
   "execution_count": 85,
   "metadata": {},
   "outputs": [],
   "source": [
    "# the first album from the artist\n",
    "album_url = df.loc[10050, :]['album_url']\n",
    "days_since_prev_release(album_url)"
   ]
  },
  {
   "cell_type": "code",
   "execution_count": 86,
   "metadata": {},
   "outputs": [
    {
     "data": {
      "text/plain": [
       "191"
      ]
     },
     "execution_count": 86,
     "metadata": {},
     "output_type": "execute_result"
    }
   ],
   "source": [
    "# the last album from the artist in our dataset\n",
    "album_url = df.loc[10927, :]['album_url']\n",
    "days_since_prev_release(album_url)"
   ]
  },
  {
   "cell_type": "code",
   "execution_count": 87,
   "metadata": {},
   "outputs": [
    {
     "data": {
      "text/plain": [
       "album_id\n",
       "100      739.0\n",
       "10001    365.0\n",
       "10002      NaN\n",
       "10009      NaN\n",
       "10018      NaN\n",
       "10028      NaN\n",
       "10034      NaN\n",
       "10036      NaN\n",
       "10050      NaN\n",
       "10052    196.0\n",
       "Name: album_url, dtype: float64"
      ]
     },
     "execution_count": 87,
     "metadata": {},
     "output_type": "execute_result"
    }
   ],
   "source": [
    "df['album_url'].head(10).apply(days_since_prev_release)"
   ]
  },
  {
   "cell_type": "code",
   "execution_count": 88,
   "metadata": {},
   "outputs": [],
   "source": [
    "df.loc[:, 'days_since_previous_release'] = df['album_url'].apply(days_since_prev_release)"
   ]
  },
  {
   "cell_type": "code",
   "execution_count": 89,
   "metadata": {},
   "outputs": [
    {
     "data": {
      "text/html": [
       "<div>\n",
       "<style scoped>\n",
       "    .dataframe tbody tr th:only-of-type {\n",
       "        vertical-align: middle;\n",
       "    }\n",
       "\n",
       "    .dataframe tbody tr th {\n",
       "        vertical-align: top;\n",
       "    }\n",
       "\n",
       "    .dataframe thead th {\n",
       "        text-align: right;\n",
       "    }\n",
       "</style>\n",
       "<table border=\"1\" class=\"dataframe\">\n",
       "  <thead>\n",
       "    <tr style=\"text-align: right;\">\n",
       "      <th></th>\n",
       "      <th>album_url</th>\n",
       "      <th>artist_url</th>\n",
       "      <th>album_date_released</th>\n",
       "      <th>album_type</th>\n",
       "      <th>album_tracks</th>\n",
       "      <th>album_duration</th>\n",
       "      <th>days_until_next_album</th>\n",
       "      <th>total_albums_released</th>\n",
       "      <th>days_since_first_release</th>\n",
       "      <th>average_days_to_release</th>\n",
       "      <th>days_since_previous_release</th>\n",
       "    </tr>\n",
       "    <tr>\n",
       "      <th>album_id</th>\n",
       "      <th></th>\n",
       "      <th></th>\n",
       "      <th></th>\n",
       "      <th></th>\n",
       "      <th></th>\n",
       "      <th></th>\n",
       "      <th></th>\n",
       "      <th></th>\n",
       "      <th></th>\n",
       "      <th></th>\n",
       "      <th></th>\n",
       "    </tr>\n",
       "  </thead>\n",
       "  <tbody>\n",
       "    <tr>\n",
       "      <th>100</th>\n",
       "      <td>http://freemusicarchive.org/music/Bird_Names/O...</td>\n",
       "      <td>http://freemusicarchive.org/music/Bird_Names/</td>\n",
       "      <td>2009-01-09</td>\n",
       "      <td>Album</td>\n",
       "      <td>4</td>\n",
       "      <td>626</td>\n",
       "      <td>997.0</td>\n",
       "      <td>2</td>\n",
       "      <td>739</td>\n",
       "      <td>739.0</td>\n",
       "      <td>739.0</td>\n",
       "    </tr>\n",
       "    <tr>\n",
       "      <th>10001</th>\n",
       "      <td>http://freemusicarchive.org/music/Uton/Grounds...</td>\n",
       "      <td>http://freemusicarchive.org/music/Uton/</td>\n",
       "      <td>2006-01-01</td>\n",
       "      <td>Album</td>\n",
       "      <td>1</td>\n",
       "      <td>2746</td>\n",
       "      <td>365.0</td>\n",
       "      <td>2</td>\n",
       "      <td>365</td>\n",
       "      <td>365.0</td>\n",
       "      <td>365.0</td>\n",
       "    </tr>\n",
       "    <tr>\n",
       "      <th>10002</th>\n",
       "      <td>http://freemusicarchive.org/music/Prince_Rama_...</td>\n",
       "      <td>http://freemusicarchive.org/music/Prince_Rama_...</td>\n",
       "      <td>2011-09-06</td>\n",
       "      <td>Album</td>\n",
       "      <td>1</td>\n",
       "      <td>381</td>\n",
       "      <td>53.0</td>\n",
       "      <td>1</td>\n",
       "      <td>0</td>\n",
       "      <td>NaN</td>\n",
       "      <td>NaN</td>\n",
       "    </tr>\n",
       "    <tr>\n",
       "      <th>10009</th>\n",
       "      <td>http://freemusicarchive.org/music/Audio_K/My_S...</td>\n",
       "      <td>http://freemusicarchive.org/music/Audio_K/</td>\n",
       "      <td>2011-09-07</td>\n",
       "      <td>Album</td>\n",
       "      <td>4</td>\n",
       "      <td>1282</td>\n",
       "      <td>26.0</td>\n",
       "      <td>1</td>\n",
       "      <td>0</td>\n",
       "      <td>NaN</td>\n",
       "      <td>NaN</td>\n",
       "    </tr>\n",
       "    <tr>\n",
       "      <th>10018</th>\n",
       "      <td>http://freemusicarchive.org/music/Angels_in_Am...</td>\n",
       "      <td>http://freemusicarchive.org/music/Angels_in_Am...</td>\n",
       "      <td>2011-07-04</td>\n",
       "      <td>Album</td>\n",
       "      <td>7</td>\n",
       "      <td>1905</td>\n",
       "      <td>66.0</td>\n",
       "      <td>1</td>\n",
       "      <td>0</td>\n",
       "      <td>NaN</td>\n",
       "      <td>NaN</td>\n",
       "    </tr>\n",
       "  </tbody>\n",
       "</table>\n",
       "</div>"
      ],
      "text/plain": [
       "                                                  album_url  \\\n",
       "album_id                                                      \n",
       "100       http://freemusicarchive.org/music/Bird_Names/O...   \n",
       "10001     http://freemusicarchive.org/music/Uton/Grounds...   \n",
       "10002     http://freemusicarchive.org/music/Prince_Rama_...   \n",
       "10009     http://freemusicarchive.org/music/Audio_K/My_S...   \n",
       "10018     http://freemusicarchive.org/music/Angels_in_Am...   \n",
       "\n",
       "                                                 artist_url  \\\n",
       "album_id                                                      \n",
       "100           http://freemusicarchive.org/music/Bird_Names/   \n",
       "10001               http://freemusicarchive.org/music/Uton/   \n",
       "10002     http://freemusicarchive.org/music/Prince_Rama_...   \n",
       "10009            http://freemusicarchive.org/music/Audio_K/   \n",
       "10018     http://freemusicarchive.org/music/Angels_in_Am...   \n",
       "\n",
       "         album_date_released album_type  album_tracks  album_duration  \\\n",
       "album_id                                                                \n",
       "100               2009-01-09      Album             4             626   \n",
       "10001             2006-01-01      Album             1            2746   \n",
       "10002             2011-09-06      Album             1             381   \n",
       "10009             2011-09-07      Album             4            1282   \n",
       "10018             2011-07-04      Album             7            1905   \n",
       "\n",
       "          days_until_next_album  total_albums_released  \\\n",
       "album_id                                                 \n",
       "100                       997.0                      2   \n",
       "10001                     365.0                      2   \n",
       "10002                      53.0                      1   \n",
       "10009                      26.0                      1   \n",
       "10018                      66.0                      1   \n",
       "\n",
       "          days_since_first_release  average_days_to_release  \\\n",
       "album_id                                                      \n",
       "100                            739                    739.0   \n",
       "10001                          365                    365.0   \n",
       "10002                            0                      NaN   \n",
       "10009                            0                      NaN   \n",
       "10018                            0                      NaN   \n",
       "\n",
       "          days_since_previous_release  \n",
       "album_id                               \n",
       "100                             739.0  \n",
       "10001                           365.0  \n",
       "10002                             NaN  \n",
       "10009                             NaN  \n",
       "10018                             NaN  "
      ]
     },
     "execution_count": 89,
     "metadata": {},
     "output_type": "execute_result"
    }
   ],
   "source": [
    "df.head()"
   ]
  },
  {
   "cell_type": "markdown",
   "metadata": {},
   "source": [
    "# Features from date"
   ]
  },
  {
   "cell_type": "markdown",
   "metadata": {},
   "source": [
    "## Year"
   ]
  },
  {
   "cell_type": "code",
   "execution_count": 90,
   "metadata": {},
   "outputs": [
    {
     "data": {
      "text/plain": [
       "album_id\n",
       "100      2009\n",
       "10001    2006\n",
       "10002    2011\n",
       "10009    2011\n",
       "10018    2011\n",
       "Name: album_date_released, dtype: int64"
      ]
     },
     "execution_count": 90,
     "metadata": {},
     "output_type": "execute_result"
    }
   ],
   "source": [
    "pd.to_datetime(df.head()['album_date_released']).dt.year"
   ]
  },
  {
   "cell_type": "code",
   "execution_count": 91,
   "metadata": {},
   "outputs": [],
   "source": [
    "df.loc[:, 'album_year'] = pd.to_datetime(df['album_date_released']).dt.year"
   ]
  },
  {
   "cell_type": "code",
   "execution_count": 92,
   "metadata": {},
   "outputs": [
    {
     "data": {
      "text/html": [
       "<div>\n",
       "<style scoped>\n",
       "    .dataframe tbody tr th:only-of-type {\n",
       "        vertical-align: middle;\n",
       "    }\n",
       "\n",
       "    .dataframe tbody tr th {\n",
       "        vertical-align: top;\n",
       "    }\n",
       "\n",
       "    .dataframe thead th {\n",
       "        text-align: right;\n",
       "    }\n",
       "</style>\n",
       "<table border=\"1\" class=\"dataframe\">\n",
       "  <thead>\n",
       "    <tr style=\"text-align: right;\">\n",
       "      <th></th>\n",
       "      <th>album_url</th>\n",
       "      <th>artist_url</th>\n",
       "      <th>album_date_released</th>\n",
       "      <th>album_type</th>\n",
       "      <th>album_tracks</th>\n",
       "      <th>album_duration</th>\n",
       "      <th>days_until_next_album</th>\n",
       "      <th>total_albums_released</th>\n",
       "      <th>days_since_first_release</th>\n",
       "      <th>average_days_to_release</th>\n",
       "      <th>days_since_previous_release</th>\n",
       "      <th>album_year</th>\n",
       "    </tr>\n",
       "    <tr>\n",
       "      <th>album_id</th>\n",
       "      <th></th>\n",
       "      <th></th>\n",
       "      <th></th>\n",
       "      <th></th>\n",
       "      <th></th>\n",
       "      <th></th>\n",
       "      <th></th>\n",
       "      <th></th>\n",
       "      <th></th>\n",
       "      <th></th>\n",
       "      <th></th>\n",
       "      <th></th>\n",
       "    </tr>\n",
       "  </thead>\n",
       "  <tbody>\n",
       "    <tr>\n",
       "      <th>100</th>\n",
       "      <td>http://freemusicarchive.org/music/Bird_Names/O...</td>\n",
       "      <td>http://freemusicarchive.org/music/Bird_Names/</td>\n",
       "      <td>2009-01-09</td>\n",
       "      <td>Album</td>\n",
       "      <td>4</td>\n",
       "      <td>626</td>\n",
       "      <td>997.0</td>\n",
       "      <td>2</td>\n",
       "      <td>739</td>\n",
       "      <td>739.0</td>\n",
       "      <td>739.0</td>\n",
       "      <td>2009</td>\n",
       "    </tr>\n",
       "    <tr>\n",
       "      <th>10001</th>\n",
       "      <td>http://freemusicarchive.org/music/Uton/Grounds...</td>\n",
       "      <td>http://freemusicarchive.org/music/Uton/</td>\n",
       "      <td>2006-01-01</td>\n",
       "      <td>Album</td>\n",
       "      <td>1</td>\n",
       "      <td>2746</td>\n",
       "      <td>365.0</td>\n",
       "      <td>2</td>\n",
       "      <td>365</td>\n",
       "      <td>365.0</td>\n",
       "      <td>365.0</td>\n",
       "      <td>2006</td>\n",
       "    </tr>\n",
       "    <tr>\n",
       "      <th>10002</th>\n",
       "      <td>http://freemusicarchive.org/music/Prince_Rama_...</td>\n",
       "      <td>http://freemusicarchive.org/music/Prince_Rama_...</td>\n",
       "      <td>2011-09-06</td>\n",
       "      <td>Album</td>\n",
       "      <td>1</td>\n",
       "      <td>381</td>\n",
       "      <td>53.0</td>\n",
       "      <td>1</td>\n",
       "      <td>0</td>\n",
       "      <td>NaN</td>\n",
       "      <td>NaN</td>\n",
       "      <td>2011</td>\n",
       "    </tr>\n",
       "    <tr>\n",
       "      <th>10009</th>\n",
       "      <td>http://freemusicarchive.org/music/Audio_K/My_S...</td>\n",
       "      <td>http://freemusicarchive.org/music/Audio_K/</td>\n",
       "      <td>2011-09-07</td>\n",
       "      <td>Album</td>\n",
       "      <td>4</td>\n",
       "      <td>1282</td>\n",
       "      <td>26.0</td>\n",
       "      <td>1</td>\n",
       "      <td>0</td>\n",
       "      <td>NaN</td>\n",
       "      <td>NaN</td>\n",
       "      <td>2011</td>\n",
       "    </tr>\n",
       "    <tr>\n",
       "      <th>10018</th>\n",
       "      <td>http://freemusicarchive.org/music/Angels_in_Am...</td>\n",
       "      <td>http://freemusicarchive.org/music/Angels_in_Am...</td>\n",
       "      <td>2011-07-04</td>\n",
       "      <td>Album</td>\n",
       "      <td>7</td>\n",
       "      <td>1905</td>\n",
       "      <td>66.0</td>\n",
       "      <td>1</td>\n",
       "      <td>0</td>\n",
       "      <td>NaN</td>\n",
       "      <td>NaN</td>\n",
       "      <td>2011</td>\n",
       "    </tr>\n",
       "  </tbody>\n",
       "</table>\n",
       "</div>"
      ],
      "text/plain": [
       "                                                  album_url  \\\n",
       "album_id                                                      \n",
       "100       http://freemusicarchive.org/music/Bird_Names/O...   \n",
       "10001     http://freemusicarchive.org/music/Uton/Grounds...   \n",
       "10002     http://freemusicarchive.org/music/Prince_Rama_...   \n",
       "10009     http://freemusicarchive.org/music/Audio_K/My_S...   \n",
       "10018     http://freemusicarchive.org/music/Angels_in_Am...   \n",
       "\n",
       "                                                 artist_url  \\\n",
       "album_id                                                      \n",
       "100           http://freemusicarchive.org/music/Bird_Names/   \n",
       "10001               http://freemusicarchive.org/music/Uton/   \n",
       "10002     http://freemusicarchive.org/music/Prince_Rama_...   \n",
       "10009            http://freemusicarchive.org/music/Audio_K/   \n",
       "10018     http://freemusicarchive.org/music/Angels_in_Am...   \n",
       "\n",
       "         album_date_released album_type  album_tracks  album_duration  \\\n",
       "album_id                                                                \n",
       "100               2009-01-09      Album             4             626   \n",
       "10001             2006-01-01      Album             1            2746   \n",
       "10002             2011-09-06      Album             1             381   \n",
       "10009             2011-09-07      Album             4            1282   \n",
       "10018             2011-07-04      Album             7            1905   \n",
       "\n",
       "          days_until_next_album  total_albums_released  \\\n",
       "album_id                                                 \n",
       "100                       997.0                      2   \n",
       "10001                     365.0                      2   \n",
       "10002                      53.0                      1   \n",
       "10009                      26.0                      1   \n",
       "10018                      66.0                      1   \n",
       "\n",
       "          days_since_first_release  average_days_to_release  \\\n",
       "album_id                                                      \n",
       "100                            739                    739.0   \n",
       "10001                          365                    365.0   \n",
       "10002                            0                      NaN   \n",
       "10009                            0                      NaN   \n",
       "10018                            0                      NaN   \n",
       "\n",
       "          days_since_previous_release  album_year  \n",
       "album_id                                           \n",
       "100                             739.0        2009  \n",
       "10001                           365.0        2006  \n",
       "10002                             NaN        2011  \n",
       "10009                             NaN        2011  \n",
       "10018                             NaN        2011  "
      ]
     },
     "execution_count": 92,
     "metadata": {},
     "output_type": "execute_result"
    }
   ],
   "source": [
    "df.head()"
   ]
  },
  {
   "cell_type": "markdown",
   "metadata": {},
   "source": [
    "## Month"
   ]
  },
  {
   "cell_type": "code",
   "execution_count": 93,
   "metadata": {},
   "outputs": [
    {
     "data": {
      "text/plain": [
       "album_id\n",
       "100      1\n",
       "10001    1\n",
       "10002    9\n",
       "10009    9\n",
       "10018    7\n",
       "Name: album_date_released, dtype: int64"
      ]
     },
     "execution_count": 93,
     "metadata": {},
     "output_type": "execute_result"
    }
   ],
   "source": [
    "pd.to_datetime(df.head()['album_date_released']).dt.month"
   ]
  },
  {
   "cell_type": "code",
   "execution_count": 94,
   "metadata": {},
   "outputs": [],
   "source": [
    "df.loc[:, 'album_month'] = pd.to_datetime(df['album_date_released']).dt.month"
   ]
  },
  {
   "cell_type": "code",
   "execution_count": 95,
   "metadata": {},
   "outputs": [
    {
     "data": {
      "text/html": [
       "<div>\n",
       "<style scoped>\n",
       "    .dataframe tbody tr th:only-of-type {\n",
       "        vertical-align: middle;\n",
       "    }\n",
       "\n",
       "    .dataframe tbody tr th {\n",
       "        vertical-align: top;\n",
       "    }\n",
       "\n",
       "    .dataframe thead th {\n",
       "        text-align: right;\n",
       "    }\n",
       "</style>\n",
       "<table border=\"1\" class=\"dataframe\">\n",
       "  <thead>\n",
       "    <tr style=\"text-align: right;\">\n",
       "      <th></th>\n",
       "      <th>album_url</th>\n",
       "      <th>artist_url</th>\n",
       "      <th>album_date_released</th>\n",
       "      <th>album_type</th>\n",
       "      <th>album_tracks</th>\n",
       "      <th>album_duration</th>\n",
       "      <th>days_until_next_album</th>\n",
       "      <th>total_albums_released</th>\n",
       "      <th>days_since_first_release</th>\n",
       "      <th>average_days_to_release</th>\n",
       "      <th>days_since_previous_release</th>\n",
       "      <th>album_year</th>\n",
       "      <th>album_month</th>\n",
       "    </tr>\n",
       "    <tr>\n",
       "      <th>album_id</th>\n",
       "      <th></th>\n",
       "      <th></th>\n",
       "      <th></th>\n",
       "      <th></th>\n",
       "      <th></th>\n",
       "      <th></th>\n",
       "      <th></th>\n",
       "      <th></th>\n",
       "      <th></th>\n",
       "      <th></th>\n",
       "      <th></th>\n",
       "      <th></th>\n",
       "      <th></th>\n",
       "    </tr>\n",
       "  </thead>\n",
       "  <tbody>\n",
       "    <tr>\n",
       "      <th>100</th>\n",
       "      <td>http://freemusicarchive.org/music/Bird_Names/O...</td>\n",
       "      <td>http://freemusicarchive.org/music/Bird_Names/</td>\n",
       "      <td>2009-01-09</td>\n",
       "      <td>Album</td>\n",
       "      <td>4</td>\n",
       "      <td>626</td>\n",
       "      <td>997.0</td>\n",
       "      <td>2</td>\n",
       "      <td>739</td>\n",
       "      <td>739.0</td>\n",
       "      <td>739.0</td>\n",
       "      <td>2009</td>\n",
       "      <td>1</td>\n",
       "    </tr>\n",
       "    <tr>\n",
       "      <th>10001</th>\n",
       "      <td>http://freemusicarchive.org/music/Uton/Grounds...</td>\n",
       "      <td>http://freemusicarchive.org/music/Uton/</td>\n",
       "      <td>2006-01-01</td>\n",
       "      <td>Album</td>\n",
       "      <td>1</td>\n",
       "      <td>2746</td>\n",
       "      <td>365.0</td>\n",
       "      <td>2</td>\n",
       "      <td>365</td>\n",
       "      <td>365.0</td>\n",
       "      <td>365.0</td>\n",
       "      <td>2006</td>\n",
       "      <td>1</td>\n",
       "    </tr>\n",
       "    <tr>\n",
       "      <th>10002</th>\n",
       "      <td>http://freemusicarchive.org/music/Prince_Rama_...</td>\n",
       "      <td>http://freemusicarchive.org/music/Prince_Rama_...</td>\n",
       "      <td>2011-09-06</td>\n",
       "      <td>Album</td>\n",
       "      <td>1</td>\n",
       "      <td>381</td>\n",
       "      <td>53.0</td>\n",
       "      <td>1</td>\n",
       "      <td>0</td>\n",
       "      <td>NaN</td>\n",
       "      <td>NaN</td>\n",
       "      <td>2011</td>\n",
       "      <td>9</td>\n",
       "    </tr>\n",
       "    <tr>\n",
       "      <th>10009</th>\n",
       "      <td>http://freemusicarchive.org/music/Audio_K/My_S...</td>\n",
       "      <td>http://freemusicarchive.org/music/Audio_K/</td>\n",
       "      <td>2011-09-07</td>\n",
       "      <td>Album</td>\n",
       "      <td>4</td>\n",
       "      <td>1282</td>\n",
       "      <td>26.0</td>\n",
       "      <td>1</td>\n",
       "      <td>0</td>\n",
       "      <td>NaN</td>\n",
       "      <td>NaN</td>\n",
       "      <td>2011</td>\n",
       "      <td>9</td>\n",
       "    </tr>\n",
       "    <tr>\n",
       "      <th>10018</th>\n",
       "      <td>http://freemusicarchive.org/music/Angels_in_Am...</td>\n",
       "      <td>http://freemusicarchive.org/music/Angels_in_Am...</td>\n",
       "      <td>2011-07-04</td>\n",
       "      <td>Album</td>\n",
       "      <td>7</td>\n",
       "      <td>1905</td>\n",
       "      <td>66.0</td>\n",
       "      <td>1</td>\n",
       "      <td>0</td>\n",
       "      <td>NaN</td>\n",
       "      <td>NaN</td>\n",
       "      <td>2011</td>\n",
       "      <td>7</td>\n",
       "    </tr>\n",
       "  </tbody>\n",
       "</table>\n",
       "</div>"
      ],
      "text/plain": [
       "                                                  album_url  \\\n",
       "album_id                                                      \n",
       "100       http://freemusicarchive.org/music/Bird_Names/O...   \n",
       "10001     http://freemusicarchive.org/music/Uton/Grounds...   \n",
       "10002     http://freemusicarchive.org/music/Prince_Rama_...   \n",
       "10009     http://freemusicarchive.org/music/Audio_K/My_S...   \n",
       "10018     http://freemusicarchive.org/music/Angels_in_Am...   \n",
       "\n",
       "                                                 artist_url  \\\n",
       "album_id                                                      \n",
       "100           http://freemusicarchive.org/music/Bird_Names/   \n",
       "10001               http://freemusicarchive.org/music/Uton/   \n",
       "10002     http://freemusicarchive.org/music/Prince_Rama_...   \n",
       "10009            http://freemusicarchive.org/music/Audio_K/   \n",
       "10018     http://freemusicarchive.org/music/Angels_in_Am...   \n",
       "\n",
       "         album_date_released album_type  album_tracks  album_duration  \\\n",
       "album_id                                                                \n",
       "100               2009-01-09      Album             4             626   \n",
       "10001             2006-01-01      Album             1            2746   \n",
       "10002             2011-09-06      Album             1             381   \n",
       "10009             2011-09-07      Album             4            1282   \n",
       "10018             2011-07-04      Album             7            1905   \n",
       "\n",
       "          days_until_next_album  total_albums_released  \\\n",
       "album_id                                                 \n",
       "100                       997.0                      2   \n",
       "10001                     365.0                      2   \n",
       "10002                      53.0                      1   \n",
       "10009                      26.0                      1   \n",
       "10018                      66.0                      1   \n",
       "\n",
       "          days_since_first_release  average_days_to_release  \\\n",
       "album_id                                                      \n",
       "100                            739                    739.0   \n",
       "10001                          365                    365.0   \n",
       "10002                            0                      NaN   \n",
       "10009                            0                      NaN   \n",
       "10018                            0                      NaN   \n",
       "\n",
       "          days_since_previous_release  album_year  album_month  \n",
       "album_id                                                        \n",
       "100                             739.0        2009            1  \n",
       "10001                           365.0        2006            1  \n",
       "10002                             NaN        2011            9  \n",
       "10009                             NaN        2011            9  \n",
       "10018                             NaN        2011            7  "
      ]
     },
     "execution_count": 95,
     "metadata": {},
     "output_type": "execute_result"
    }
   ],
   "source": [
    "df.head()"
   ]
  },
  {
   "cell_type": "markdown",
   "metadata": {},
   "source": [
    "## Day of month"
   ]
  },
  {
   "cell_type": "code",
   "execution_count": 96,
   "metadata": {},
   "outputs": [
    {
     "data": {
      "text/plain": [
       "album_id\n",
       "100      9\n",
       "10001    1\n",
       "10002    6\n",
       "10009    7\n",
       "10018    4\n",
       "Name: album_date_released, dtype: int64"
      ]
     },
     "execution_count": 96,
     "metadata": {},
     "output_type": "execute_result"
    }
   ],
   "source": [
    "pd.to_datetime(df.head()['album_date_released']).dt.day"
   ]
  },
  {
   "cell_type": "code",
   "execution_count": 97,
   "metadata": {},
   "outputs": [],
   "source": [
    "df.loc[:, 'album_day_of_month'] = pd.to_datetime(df['album_date_released']).dt.day"
   ]
  },
  {
   "cell_type": "code",
   "execution_count": 98,
   "metadata": {},
   "outputs": [
    {
     "data": {
      "text/html": [
       "<div>\n",
       "<style scoped>\n",
       "    .dataframe tbody tr th:only-of-type {\n",
       "        vertical-align: middle;\n",
       "    }\n",
       "\n",
       "    .dataframe tbody tr th {\n",
       "        vertical-align: top;\n",
       "    }\n",
       "\n",
       "    .dataframe thead th {\n",
       "        text-align: right;\n",
       "    }\n",
       "</style>\n",
       "<table border=\"1\" class=\"dataframe\">\n",
       "  <thead>\n",
       "    <tr style=\"text-align: right;\">\n",
       "      <th></th>\n",
       "      <th>album_url</th>\n",
       "      <th>artist_url</th>\n",
       "      <th>album_date_released</th>\n",
       "      <th>album_type</th>\n",
       "      <th>album_tracks</th>\n",
       "      <th>album_duration</th>\n",
       "      <th>days_until_next_album</th>\n",
       "      <th>total_albums_released</th>\n",
       "      <th>days_since_first_release</th>\n",
       "      <th>average_days_to_release</th>\n",
       "      <th>days_since_previous_release</th>\n",
       "      <th>album_year</th>\n",
       "      <th>album_month</th>\n",
       "      <th>album_day_of_month</th>\n",
       "    </tr>\n",
       "    <tr>\n",
       "      <th>album_id</th>\n",
       "      <th></th>\n",
       "      <th></th>\n",
       "      <th></th>\n",
       "      <th></th>\n",
       "      <th></th>\n",
       "      <th></th>\n",
       "      <th></th>\n",
       "      <th></th>\n",
       "      <th></th>\n",
       "      <th></th>\n",
       "      <th></th>\n",
       "      <th></th>\n",
       "      <th></th>\n",
       "      <th></th>\n",
       "    </tr>\n",
       "  </thead>\n",
       "  <tbody>\n",
       "    <tr>\n",
       "      <th>100</th>\n",
       "      <td>http://freemusicarchive.org/music/Bird_Names/O...</td>\n",
       "      <td>http://freemusicarchive.org/music/Bird_Names/</td>\n",
       "      <td>2009-01-09</td>\n",
       "      <td>Album</td>\n",
       "      <td>4</td>\n",
       "      <td>626</td>\n",
       "      <td>997.0</td>\n",
       "      <td>2</td>\n",
       "      <td>739</td>\n",
       "      <td>739.0</td>\n",
       "      <td>739.0</td>\n",
       "      <td>2009</td>\n",
       "      <td>1</td>\n",
       "      <td>9</td>\n",
       "    </tr>\n",
       "    <tr>\n",
       "      <th>10001</th>\n",
       "      <td>http://freemusicarchive.org/music/Uton/Grounds...</td>\n",
       "      <td>http://freemusicarchive.org/music/Uton/</td>\n",
       "      <td>2006-01-01</td>\n",
       "      <td>Album</td>\n",
       "      <td>1</td>\n",
       "      <td>2746</td>\n",
       "      <td>365.0</td>\n",
       "      <td>2</td>\n",
       "      <td>365</td>\n",
       "      <td>365.0</td>\n",
       "      <td>365.0</td>\n",
       "      <td>2006</td>\n",
       "      <td>1</td>\n",
       "      <td>1</td>\n",
       "    </tr>\n",
       "    <tr>\n",
       "      <th>10002</th>\n",
       "      <td>http://freemusicarchive.org/music/Prince_Rama_...</td>\n",
       "      <td>http://freemusicarchive.org/music/Prince_Rama_...</td>\n",
       "      <td>2011-09-06</td>\n",
       "      <td>Album</td>\n",
       "      <td>1</td>\n",
       "      <td>381</td>\n",
       "      <td>53.0</td>\n",
       "      <td>1</td>\n",
       "      <td>0</td>\n",
       "      <td>NaN</td>\n",
       "      <td>NaN</td>\n",
       "      <td>2011</td>\n",
       "      <td>9</td>\n",
       "      <td>6</td>\n",
       "    </tr>\n",
       "    <tr>\n",
       "      <th>10009</th>\n",
       "      <td>http://freemusicarchive.org/music/Audio_K/My_S...</td>\n",
       "      <td>http://freemusicarchive.org/music/Audio_K/</td>\n",
       "      <td>2011-09-07</td>\n",
       "      <td>Album</td>\n",
       "      <td>4</td>\n",
       "      <td>1282</td>\n",
       "      <td>26.0</td>\n",
       "      <td>1</td>\n",
       "      <td>0</td>\n",
       "      <td>NaN</td>\n",
       "      <td>NaN</td>\n",
       "      <td>2011</td>\n",
       "      <td>9</td>\n",
       "      <td>7</td>\n",
       "    </tr>\n",
       "    <tr>\n",
       "      <th>10018</th>\n",
       "      <td>http://freemusicarchive.org/music/Angels_in_Am...</td>\n",
       "      <td>http://freemusicarchive.org/music/Angels_in_Am...</td>\n",
       "      <td>2011-07-04</td>\n",
       "      <td>Album</td>\n",
       "      <td>7</td>\n",
       "      <td>1905</td>\n",
       "      <td>66.0</td>\n",
       "      <td>1</td>\n",
       "      <td>0</td>\n",
       "      <td>NaN</td>\n",
       "      <td>NaN</td>\n",
       "      <td>2011</td>\n",
       "      <td>7</td>\n",
       "      <td>4</td>\n",
       "    </tr>\n",
       "  </tbody>\n",
       "</table>\n",
       "</div>"
      ],
      "text/plain": [
       "                                                  album_url  \\\n",
       "album_id                                                      \n",
       "100       http://freemusicarchive.org/music/Bird_Names/O...   \n",
       "10001     http://freemusicarchive.org/music/Uton/Grounds...   \n",
       "10002     http://freemusicarchive.org/music/Prince_Rama_...   \n",
       "10009     http://freemusicarchive.org/music/Audio_K/My_S...   \n",
       "10018     http://freemusicarchive.org/music/Angels_in_Am...   \n",
       "\n",
       "                                                 artist_url  \\\n",
       "album_id                                                      \n",
       "100           http://freemusicarchive.org/music/Bird_Names/   \n",
       "10001               http://freemusicarchive.org/music/Uton/   \n",
       "10002     http://freemusicarchive.org/music/Prince_Rama_...   \n",
       "10009            http://freemusicarchive.org/music/Audio_K/   \n",
       "10018     http://freemusicarchive.org/music/Angels_in_Am...   \n",
       "\n",
       "         album_date_released album_type  album_tracks  album_duration  \\\n",
       "album_id                                                                \n",
       "100               2009-01-09      Album             4             626   \n",
       "10001             2006-01-01      Album             1            2746   \n",
       "10002             2011-09-06      Album             1             381   \n",
       "10009             2011-09-07      Album             4            1282   \n",
       "10018             2011-07-04      Album             7            1905   \n",
       "\n",
       "          days_until_next_album  total_albums_released  \\\n",
       "album_id                                                 \n",
       "100                       997.0                      2   \n",
       "10001                     365.0                      2   \n",
       "10002                      53.0                      1   \n",
       "10009                      26.0                      1   \n",
       "10018                      66.0                      1   \n",
       "\n",
       "          days_since_first_release  average_days_to_release  \\\n",
       "album_id                                                      \n",
       "100                            739                    739.0   \n",
       "10001                          365                    365.0   \n",
       "10002                            0                      NaN   \n",
       "10009                            0                      NaN   \n",
       "10018                            0                      NaN   \n",
       "\n",
       "          days_since_previous_release  album_year  album_month  \\\n",
       "album_id                                                         \n",
       "100                             739.0        2009            1   \n",
       "10001                           365.0        2006            1   \n",
       "10002                             NaN        2011            9   \n",
       "10009                             NaN        2011            9   \n",
       "10018                             NaN        2011            7   \n",
       "\n",
       "          album_day_of_month  \n",
       "album_id                      \n",
       "100                        9  \n",
       "10001                      1  \n",
       "10002                      6  \n",
       "10009                      7  \n",
       "10018                      4  "
      ]
     },
     "execution_count": 98,
     "metadata": {},
     "output_type": "execute_result"
    }
   ],
   "source": [
    "df.head()"
   ]
  },
  {
   "cell_type": "markdown",
   "metadata": {},
   "source": [
    "## Day of week"
   ]
  },
  {
   "cell_type": "code",
   "execution_count": 99,
   "metadata": {},
   "outputs": [
    {
     "data": {
      "text/plain": [
       "album_id\n",
       "100      4\n",
       "10001    6\n",
       "10002    1\n",
       "10009    2\n",
       "10018    0\n",
       "Name: album_date_released, dtype: int64"
      ]
     },
     "execution_count": 99,
     "metadata": {},
     "output_type": "execute_result"
    }
   ],
   "source": [
    "pd.to_datetime(df.head()['album_date_released']).dt.dayofweek"
   ]
  },
  {
   "cell_type": "code",
   "execution_count": 100,
   "metadata": {},
   "outputs": [],
   "source": [
    "df.loc[:, 'album_day_of_week'] = pd.to_datetime(df['album_date_released']).dt.dayofweek"
   ]
  },
  {
   "cell_type": "code",
   "execution_count": 101,
   "metadata": {},
   "outputs": [
    {
     "data": {
      "text/html": [
       "<div>\n",
       "<style scoped>\n",
       "    .dataframe tbody tr th:only-of-type {\n",
       "        vertical-align: middle;\n",
       "    }\n",
       "\n",
       "    .dataframe tbody tr th {\n",
       "        vertical-align: top;\n",
       "    }\n",
       "\n",
       "    .dataframe thead th {\n",
       "        text-align: right;\n",
       "    }\n",
       "</style>\n",
       "<table border=\"1\" class=\"dataframe\">\n",
       "  <thead>\n",
       "    <tr style=\"text-align: right;\">\n",
       "      <th></th>\n",
       "      <th>album_url</th>\n",
       "      <th>artist_url</th>\n",
       "      <th>album_date_released</th>\n",
       "      <th>album_type</th>\n",
       "      <th>album_tracks</th>\n",
       "      <th>album_duration</th>\n",
       "      <th>days_until_next_album</th>\n",
       "      <th>total_albums_released</th>\n",
       "      <th>days_since_first_release</th>\n",
       "      <th>average_days_to_release</th>\n",
       "      <th>days_since_previous_release</th>\n",
       "      <th>album_year</th>\n",
       "      <th>album_month</th>\n",
       "      <th>album_day_of_month</th>\n",
       "      <th>album_day_of_week</th>\n",
       "    </tr>\n",
       "    <tr>\n",
       "      <th>album_id</th>\n",
       "      <th></th>\n",
       "      <th></th>\n",
       "      <th></th>\n",
       "      <th></th>\n",
       "      <th></th>\n",
       "      <th></th>\n",
       "      <th></th>\n",
       "      <th></th>\n",
       "      <th></th>\n",
       "      <th></th>\n",
       "      <th></th>\n",
       "      <th></th>\n",
       "      <th></th>\n",
       "      <th></th>\n",
       "      <th></th>\n",
       "    </tr>\n",
       "  </thead>\n",
       "  <tbody>\n",
       "    <tr>\n",
       "      <th>100</th>\n",
       "      <td>http://freemusicarchive.org/music/Bird_Names/O...</td>\n",
       "      <td>http://freemusicarchive.org/music/Bird_Names/</td>\n",
       "      <td>2009-01-09</td>\n",
       "      <td>Album</td>\n",
       "      <td>4</td>\n",
       "      <td>626</td>\n",
       "      <td>997.0</td>\n",
       "      <td>2</td>\n",
       "      <td>739</td>\n",
       "      <td>739.0</td>\n",
       "      <td>739.0</td>\n",
       "      <td>2009</td>\n",
       "      <td>1</td>\n",
       "      <td>9</td>\n",
       "      <td>4</td>\n",
       "    </tr>\n",
       "    <tr>\n",
       "      <th>10001</th>\n",
       "      <td>http://freemusicarchive.org/music/Uton/Grounds...</td>\n",
       "      <td>http://freemusicarchive.org/music/Uton/</td>\n",
       "      <td>2006-01-01</td>\n",
       "      <td>Album</td>\n",
       "      <td>1</td>\n",
       "      <td>2746</td>\n",
       "      <td>365.0</td>\n",
       "      <td>2</td>\n",
       "      <td>365</td>\n",
       "      <td>365.0</td>\n",
       "      <td>365.0</td>\n",
       "      <td>2006</td>\n",
       "      <td>1</td>\n",
       "      <td>1</td>\n",
       "      <td>6</td>\n",
       "    </tr>\n",
       "    <tr>\n",
       "      <th>10002</th>\n",
       "      <td>http://freemusicarchive.org/music/Prince_Rama_...</td>\n",
       "      <td>http://freemusicarchive.org/music/Prince_Rama_...</td>\n",
       "      <td>2011-09-06</td>\n",
       "      <td>Album</td>\n",
       "      <td>1</td>\n",
       "      <td>381</td>\n",
       "      <td>53.0</td>\n",
       "      <td>1</td>\n",
       "      <td>0</td>\n",
       "      <td>NaN</td>\n",
       "      <td>NaN</td>\n",
       "      <td>2011</td>\n",
       "      <td>9</td>\n",
       "      <td>6</td>\n",
       "      <td>1</td>\n",
       "    </tr>\n",
       "    <tr>\n",
       "      <th>10009</th>\n",
       "      <td>http://freemusicarchive.org/music/Audio_K/My_S...</td>\n",
       "      <td>http://freemusicarchive.org/music/Audio_K/</td>\n",
       "      <td>2011-09-07</td>\n",
       "      <td>Album</td>\n",
       "      <td>4</td>\n",
       "      <td>1282</td>\n",
       "      <td>26.0</td>\n",
       "      <td>1</td>\n",
       "      <td>0</td>\n",
       "      <td>NaN</td>\n",
       "      <td>NaN</td>\n",
       "      <td>2011</td>\n",
       "      <td>9</td>\n",
       "      <td>7</td>\n",
       "      <td>2</td>\n",
       "    </tr>\n",
       "    <tr>\n",
       "      <th>10018</th>\n",
       "      <td>http://freemusicarchive.org/music/Angels_in_Am...</td>\n",
       "      <td>http://freemusicarchive.org/music/Angels_in_Am...</td>\n",
       "      <td>2011-07-04</td>\n",
       "      <td>Album</td>\n",
       "      <td>7</td>\n",
       "      <td>1905</td>\n",
       "      <td>66.0</td>\n",
       "      <td>1</td>\n",
       "      <td>0</td>\n",
       "      <td>NaN</td>\n",
       "      <td>NaN</td>\n",
       "      <td>2011</td>\n",
       "      <td>7</td>\n",
       "      <td>4</td>\n",
       "      <td>0</td>\n",
       "    </tr>\n",
       "  </tbody>\n",
       "</table>\n",
       "</div>"
      ],
      "text/plain": [
       "                                                  album_url  \\\n",
       "album_id                                                      \n",
       "100       http://freemusicarchive.org/music/Bird_Names/O...   \n",
       "10001     http://freemusicarchive.org/music/Uton/Grounds...   \n",
       "10002     http://freemusicarchive.org/music/Prince_Rama_...   \n",
       "10009     http://freemusicarchive.org/music/Audio_K/My_S...   \n",
       "10018     http://freemusicarchive.org/music/Angels_in_Am...   \n",
       "\n",
       "                                                 artist_url  \\\n",
       "album_id                                                      \n",
       "100           http://freemusicarchive.org/music/Bird_Names/   \n",
       "10001               http://freemusicarchive.org/music/Uton/   \n",
       "10002     http://freemusicarchive.org/music/Prince_Rama_...   \n",
       "10009            http://freemusicarchive.org/music/Audio_K/   \n",
       "10018     http://freemusicarchive.org/music/Angels_in_Am...   \n",
       "\n",
       "         album_date_released album_type  album_tracks  album_duration  \\\n",
       "album_id                                                                \n",
       "100               2009-01-09      Album             4             626   \n",
       "10001             2006-01-01      Album             1            2746   \n",
       "10002             2011-09-06      Album             1             381   \n",
       "10009             2011-09-07      Album             4            1282   \n",
       "10018             2011-07-04      Album             7            1905   \n",
       "\n",
       "          days_until_next_album  total_albums_released  \\\n",
       "album_id                                                 \n",
       "100                       997.0                      2   \n",
       "10001                     365.0                      2   \n",
       "10002                      53.0                      1   \n",
       "10009                      26.0                      1   \n",
       "10018                      66.0                      1   \n",
       "\n",
       "          days_since_first_release  average_days_to_release  \\\n",
       "album_id                                                      \n",
       "100                            739                    739.0   \n",
       "10001                          365                    365.0   \n",
       "10002                            0                      NaN   \n",
       "10009                            0                      NaN   \n",
       "10018                            0                      NaN   \n",
       "\n",
       "          days_since_previous_release  album_year  album_month  \\\n",
       "album_id                                                         \n",
       "100                             739.0        2009            1   \n",
       "10001                           365.0        2006            1   \n",
       "10002                             NaN        2011            9   \n",
       "10009                             NaN        2011            9   \n",
       "10018                             NaN        2011            7   \n",
       "\n",
       "          album_day_of_month  album_day_of_week  \n",
       "album_id                                         \n",
       "100                        9                  4  \n",
       "10001                      1                  6  \n",
       "10002                      6                  1  \n",
       "10009                      7                  2  \n",
       "10018                      4                  0  "
      ]
     },
     "execution_count": 101,
     "metadata": {},
     "output_type": "execute_result"
    }
   ],
   "source": [
    "df.head()"
   ]
  },
  {
   "cell_type": "markdown",
   "metadata": {},
   "source": [
    "# Fill missing `average_days_to_release`"
   ]
  },
  {
   "cell_type": "code",
   "execution_count": 102,
   "metadata": {},
   "outputs": [
    {
     "data": {
      "text/plain": [
       "160.41666666666669"
      ]
     },
     "execution_count": 102,
     "metadata": {},
     "output_type": "execute_result"
    }
   ],
   "source": [
    "average_days_to_release_median = df['average_days_to_release'].median()\n",
    "average_days_to_release_median"
   ]
  },
  {
   "cell_type": "code",
   "execution_count": 103,
   "metadata": {},
   "outputs": [],
   "source": [
    "df.loc[:,'average_days_to_release'].fillna(average_days_to_release_median, inplace=True)"
   ]
  },
  {
   "cell_type": "code",
   "execution_count": 104,
   "metadata": {},
   "outputs": [
    {
     "data": {
      "text/plain": [
       "album_id\n",
       "100      739.000000\n",
       "10001    365.000000\n",
       "10002    160.416667\n",
       "10009    160.416667\n",
       "10018    160.416667\n",
       "Name: average_days_to_release, dtype: float64"
      ]
     },
     "execution_count": 104,
     "metadata": {},
     "output_type": "execute_result"
    }
   ],
   "source": [
    "df['average_days_to_release'].head()"
   ]
  },
  {
   "cell_type": "markdown",
   "metadata": {},
   "source": [
    "# Fill missing `days_since_previous_release`"
   ]
  },
  {
   "cell_type": "code",
   "execution_count": 105,
   "metadata": {},
   "outputs": [
    {
     "data": {
      "text/plain": [
       "137.5"
      ]
     },
     "execution_count": 105,
     "metadata": {},
     "output_type": "execute_result"
    }
   ],
   "source": [
    "days_since_previous_release_median = df['days_since_previous_release'].median()\n",
    "days_since_previous_release_median"
   ]
  },
  {
   "cell_type": "code",
   "execution_count": 106,
   "metadata": {},
   "outputs": [],
   "source": [
    "df.loc[:,'days_since_previous_release'].fillna(days_since_previous_release_median, inplace=True)"
   ]
  },
  {
   "cell_type": "code",
   "execution_count": 107,
   "metadata": {},
   "outputs": [
    {
     "data": {
      "text/plain": [
       "album_id\n",
       "100      739.0\n",
       "10001    365.0\n",
       "10002    137.5\n",
       "10009    137.5\n",
       "10018    137.5\n",
       "Name: days_since_previous_release, dtype: float64"
      ]
     },
     "execution_count": 107,
     "metadata": {},
     "output_type": "execute_result"
    }
   ],
   "source": [
    "df['days_since_previous_release'].head()"
   ]
  },
  {
   "cell_type": "markdown",
   "metadata": {},
   "source": [
    "# Genres"
   ]
  },
  {
   "cell_type": "code",
   "execution_count": 108,
   "metadata": {},
   "outputs": [
    {
     "data": {
      "text/plain": [
       "0    [{'genre_id': '21', 'genre_title': 'Hip-Hop', ...\n",
       "1    [{'genre_id': '21', 'genre_title': 'Hip-Hop', ...\n",
       "2    [{'genre_id': '21', 'genre_title': 'Hip-Hop', ...\n",
       "3    [{'genre_id': '10', 'genre_title': 'Pop', 'gen...\n",
       "4    [{'genre_id': '76', 'genre_title': 'Experiment...\n",
       "Name: track_genres, dtype: object"
      ]
     },
     "execution_count": 108,
     "metadata": {},
     "output_type": "execute_result"
    }
   ],
   "source": [
    "tracks_with_albums['track_genres'].head()"
   ]
  },
  {
   "cell_type": "markdown",
   "metadata": {},
   "source": [
    "## Fill NaN"
   ]
  },
  {
   "cell_type": "code",
   "execution_count": 109,
   "metadata": {},
   "outputs": [
    {
     "data": {
      "text/plain": [
       "2609"
      ]
     },
     "execution_count": 109,
     "metadata": {},
     "output_type": "execute_result"
    }
   ],
   "source": [
    "tracks_with_albums['track_genres'].isnull().sum()"
   ]
  },
  {
   "cell_type": "code",
   "execution_count": 110,
   "metadata": {},
   "outputs": [
    {
     "data": {
      "text/plain": [
       "0"
      ]
     },
     "execution_count": 110,
     "metadata": {},
     "output_type": "execute_result"
    }
   ],
   "source": [
    "tracks_with_albums['track_genres'].fillna('[]', inplace=True)\n",
    "tracks_with_albums['track_genres'].isnull().sum()"
   ]
  },
  {
   "cell_type": "markdown",
   "metadata": {},
   "source": [
    "## Parse JSON"
   ]
  },
  {
   "cell_type": "code",
   "execution_count": 111,
   "metadata": {},
   "outputs": [
    {
     "data": {
      "text/plain": [
       "\"[{'genre_id': '21', 'genre_title': 'Hip-Hop', 'genre_url': 'http://freemusicarchive.org/genre/Hip-Hop/'}]\""
      ]
     },
     "execution_count": 111,
     "metadata": {},
     "output_type": "execute_result"
    }
   ],
   "source": [
    "genre = tracks_with_albums['track_genres'].head()[0]\n",
    "genre"
   ]
  },
  {
   "cell_type": "code",
   "execution_count": 112,
   "metadata": {},
   "outputs": [],
   "source": [
    "genre = genre.replace(\"'\", '\"')"
   ]
  },
  {
   "cell_type": "code",
   "execution_count": 113,
   "metadata": {},
   "outputs": [],
   "source": [
    "import json"
   ]
  },
  {
   "cell_type": "code",
   "execution_count": 114,
   "metadata": {},
   "outputs": [
    {
     "data": {
      "text/plain": [
       "[{u'genre_id': u'21',\n",
       "  u'genre_title': u'Hip-Hop',\n",
       "  u'genre_url': u'http://freemusicarchive.org/genre/Hip-Hop/'}]"
      ]
     },
     "execution_count": 114,
     "metadata": {},
     "output_type": "execute_result"
    }
   ],
   "source": [
    "genre_json = json.loads(genre)\n",
    "genre_json"
   ]
  },
  {
   "cell_type": "code",
   "execution_count": 115,
   "metadata": {},
   "outputs": [
    {
     "data": {
      "text/plain": [
       "u'Hip-Hop'"
      ]
     },
     "execution_count": 115,
     "metadata": {},
     "output_type": "execute_result"
    }
   ],
   "source": [
    "genre_json[0]['genre_title']"
   ]
  },
  {
   "cell_type": "code",
   "execution_count": 116,
   "metadata": {},
   "outputs": [],
   "source": [
    "def replace_quotes(string):\n",
    "    return(string.replace(\"'\", '\"'))"
   ]
  },
  {
   "cell_type": "code",
   "execution_count": 117,
   "metadata": {},
   "outputs": [
    {
     "data": {
      "text/plain": [
       "0    [{\"genre_id\": \"21\", \"genre_title\": \"Hip-Hop\", ...\n",
       "1    [{\"genre_id\": \"21\", \"genre_title\": \"Hip-Hop\", ...\n",
       "2    [{\"genre_id\": \"21\", \"genre_title\": \"Hip-Hop\", ...\n",
       "3    [{\"genre_id\": \"10\", \"genre_title\": \"Pop\", \"gen...\n",
       "4    [{\"genre_id\": \"76\", \"genre_title\": \"Experiment...\n",
       "Name: track_genres, dtype: object"
      ]
     },
     "execution_count": 117,
     "metadata": {},
     "output_type": "execute_result"
    }
   ],
   "source": [
    "tracks_with_albums['track_genres'].head().apply(replace_quotes)"
   ]
  },
  {
   "cell_type": "code",
   "execution_count": 118,
   "metadata": {},
   "outputs": [
    {
     "data": {
      "text/plain": [
       "0    [{u'genre_title': u'Hip-Hop', u'genre_url': u'...\n",
       "1    [{u'genre_title': u'Hip-Hop', u'genre_url': u'...\n",
       "2    [{u'genre_title': u'Hip-Hop', u'genre_url': u'...\n",
       "3    [{u'genre_title': u'Pop', u'genre_url': u'http...\n",
       "4    [{u'genre_title': u'Experimental Pop', u'genre...\n",
       "Name: track_genres, dtype: object"
      ]
     },
     "execution_count": 118,
     "metadata": {},
     "output_type": "execute_result"
    }
   ],
   "source": [
    "tracks_with_albums['track_genres'].head().apply(replace_quotes).apply(json.loads)"
   ]
  },
  {
   "cell_type": "code",
   "execution_count": 119,
   "metadata": {},
   "outputs": [
    {
     "data": {
      "text/plain": [
       "[u'Hip-Hop']"
      ]
     },
     "execution_count": 119,
     "metadata": {},
     "output_type": "execute_result"
    }
   ],
   "source": [
    "def genre_names(genres_json):\n",
    "    return([genre['genre_title'] for genre in genres_json])\n",
    "genre_names(genre_json)"
   ]
  },
  {
   "cell_type": "code",
   "execution_count": 120,
   "metadata": {},
   "outputs": [
    {
     "data": {
      "text/plain": [
       "0                                [Hip-Hop]\n",
       "1                                [Hip-Hop]\n",
       "2                                [Hip-Hop]\n",
       "3                                    [Pop]\n",
       "4    [Experimental Pop, Singer-Songwriter]\n",
       "Name: track_genres, dtype: object"
      ]
     },
     "execution_count": 120,
     "metadata": {},
     "output_type": "execute_result"
    }
   ],
   "source": [
    "tracks_with_albums['track_genres'].head().apply(replace_quotes).apply(json.loads).apply(genre_names)"
   ]
  },
  {
   "cell_type": "code",
   "execution_count": 121,
   "metadata": {},
   "outputs": [
    {
     "data": {
      "text/plain": [
       "0                                [Hip-Hop]\n",
       "1                                [Hip-Hop]\n",
       "2                                [Hip-Hop]\n",
       "3                                    [Pop]\n",
       "4    [Experimental Pop, Singer-Songwriter]\n",
       "5    [Experimental Pop, Singer-Songwriter]\n",
       "6    [Experimental Pop, Singer-Songwriter]\n",
       "7    [Experimental Pop, Singer-Songwriter]\n",
       "8    [Experimental Pop, Singer-Songwriter]\n",
       "9                                [Hip-Hop]\n",
       "Name: track_genres, dtype: object"
      ]
     },
     "execution_count": 121,
     "metadata": {},
     "output_type": "execute_result"
    }
   ],
   "source": [
    "track_genres = tracks_with_albums['track_genres'].apply(replace_quotes).apply(json.loads).apply(genre_names)\n",
    "track_genres.head(10)"
   ]
  },
  {
   "cell_type": "code",
   "execution_count": 122,
   "metadata": {},
   "outputs": [
    {
     "data": {
      "text/plain": [
       "162"
      ]
     },
     "execution_count": 122,
     "metadata": {},
     "output_type": "execute_result"
    }
   ],
   "source": [
    "flatten = lambda l: [item for sublist in l for item in sublist]\n",
    "len(set(flatten(list(track_genres))))"
   ]
  },
  {
   "cell_type": "markdown",
   "metadata": {},
   "source": [
    "That's too much genres. We need to decrease the number of genres. We can use genre parents to decrease the size."
   ]
  },
  {
   "cell_type": "markdown",
   "metadata": {},
   "source": [
    "## Genre highest parent"
   ]
  },
  {
   "cell_type": "code",
   "execution_count": 123,
   "metadata": {},
   "outputs": [
    {
     "data": {
      "text/html": [
       "<div>\n",
       "<style scoped>\n",
       "    .dataframe tbody tr th:only-of-type {\n",
       "        vertical-align: middle;\n",
       "    }\n",
       "\n",
       "    .dataframe tbody tr th {\n",
       "        vertical-align: top;\n",
       "    }\n",
       "\n",
       "    .dataframe thead th {\n",
       "        text-align: right;\n",
       "    }\n",
       "</style>\n",
       "<table border=\"1\" class=\"dataframe\">\n",
       "  <thead>\n",
       "    <tr style=\"text-align: right;\">\n",
       "      <th></th>\n",
       "      <th>genre_id</th>\n",
       "      <th>genre_color</th>\n",
       "      <th>genre_handle</th>\n",
       "      <th>genre_parent_id</th>\n",
       "      <th>genre_title</th>\n",
       "    </tr>\n",
       "  </thead>\n",
       "  <tbody>\n",
       "    <tr>\n",
       "      <th>0</th>\n",
       "      <td>1</td>\n",
       "      <td>#006666</td>\n",
       "      <td>Avant-Garde</td>\n",
       "      <td>38.0</td>\n",
       "      <td>Avant-Garde</td>\n",
       "    </tr>\n",
       "    <tr>\n",
       "      <th>1</th>\n",
       "      <td>2</td>\n",
       "      <td>#CC3300</td>\n",
       "      <td>International</td>\n",
       "      <td>NaN</td>\n",
       "      <td>International</td>\n",
       "    </tr>\n",
       "    <tr>\n",
       "      <th>2</th>\n",
       "      <td>3</td>\n",
       "      <td>#000099</td>\n",
       "      <td>Blues</td>\n",
       "      <td>NaN</td>\n",
       "      <td>Blues</td>\n",
       "    </tr>\n",
       "    <tr>\n",
       "      <th>3</th>\n",
       "      <td>4</td>\n",
       "      <td>#990099</td>\n",
       "      <td>Jazz</td>\n",
       "      <td>NaN</td>\n",
       "      <td>Jazz</td>\n",
       "    </tr>\n",
       "    <tr>\n",
       "      <th>4</th>\n",
       "      <td>5</td>\n",
       "      <td>#8A8A65</td>\n",
       "      <td>Classical</td>\n",
       "      <td>NaN</td>\n",
       "      <td>Classical</td>\n",
       "    </tr>\n",
       "  </tbody>\n",
       "</table>\n",
       "</div>"
      ],
      "text/plain": [
       "   genre_id genre_color   genre_handle  genre_parent_id    genre_title\n",
       "0         1     #006666    Avant-Garde             38.0    Avant-Garde\n",
       "1         2     #CC3300  International              NaN  International\n",
       "2         3     #000099          Blues              NaN          Blues\n",
       "3         4     #990099           Jazz              NaN           Jazz\n",
       "4         5     #8A8A65      Classical              NaN      Classical"
      ]
     },
     "execution_count": 123,
     "metadata": {},
     "output_type": "execute_result"
    }
   ],
   "source": [
    "genres = pd.read_csv('fma_metadata/raw_genres.csv')\n",
    "genres.head()"
   ]
  },
  {
   "cell_type": "code",
   "execution_count": 124,
   "metadata": {},
   "outputs": [],
   "source": [
    "genre_id = 1"
   ]
  },
  {
   "cell_type": "code",
   "execution_count": 125,
   "metadata": {},
   "outputs": [
    {
     "data": {
      "text/plain": [
       "genre_id                     1\n",
       "genre_color            #006666\n",
       "genre_handle       Avant-Garde\n",
       "genre_parent_id             38\n",
       "genre_title        Avant-Garde\n",
       "Name: 0, dtype: object"
      ]
     },
     "execution_count": 125,
     "metadata": {},
     "output_type": "execute_result"
    }
   ],
   "source": [
    "genre = genres[genres['genre_id'] == genre_id].iloc[0]\n",
    "genre"
   ]
  },
  {
   "cell_type": "code",
   "execution_count": 126,
   "metadata": {},
   "outputs": [
    {
     "data": {
      "text/plain": [
       "38.0"
      ]
     },
     "execution_count": 126,
     "metadata": {},
     "output_type": "execute_result"
    }
   ],
   "source": [
    "genre.genre_parent_id"
   ]
  },
  {
   "cell_type": "code",
   "execution_count": 127,
   "metadata": {},
   "outputs": [
    {
     "data": {
      "text/plain": [
       "1"
      ]
     },
     "execution_count": 127,
     "metadata": {},
     "output_type": "execute_result"
    }
   ],
   "source": [
    "genre.genre_id"
   ]
  },
  {
   "cell_type": "code",
   "execution_count": 128,
   "metadata": {},
   "outputs": [
    {
     "data": {
      "text/plain": [
       "genre_id                     38\n",
       "genre_color             #dddd00\n",
       "genre_handle       Experimental\n",
       "genre_parent_id             NaN\n",
       "genre_title        Experimental\n",
       "Name: 31, dtype: object"
      ]
     },
     "execution_count": 128,
     "metadata": {},
     "output_type": "execute_result"
    }
   ],
   "source": [
    "parent_genre = genres[genres['genre_id'] == genre.genre_parent_id].iloc[0]\n",
    "parent_genre"
   ]
  },
  {
   "cell_type": "code",
   "execution_count": 129,
   "metadata": {},
   "outputs": [
    {
     "data": {
      "text/plain": [
       "nan"
      ]
     },
     "execution_count": 129,
     "metadata": {},
     "output_type": "execute_result"
    }
   ],
   "source": [
    "parent_genre.genre_parent_id"
   ]
  },
  {
   "cell_type": "code",
   "execution_count": 130,
   "metadata": {},
   "outputs": [
    {
     "data": {
      "text/plain": [
       "'Experimental'"
      ]
     },
     "execution_count": 130,
     "metadata": {},
     "output_type": "execute_result"
    }
   ],
   "source": [
    "import math\n",
    "math.isnan(parent_genre.genre_parent_id)\n",
    "\n",
    "def genre_parent_name(genre_id):\n",
    "    genre = genres[genres['genre_id'] == genre_id].iloc[0]\n",
    "\n",
    "    no_parent = math.isnan(genre.genre_parent_id)\n",
    "    if no_parent:\n",
    "        return(genre.genre_handle)\n",
    "    \n",
    "    is_a_parent_of_self = int(genre.genre_id) == int(genre.genre_parent_id)\n",
    "    if is_a_parent_of_self:\n",
    "        return(genre.genre_handle)\n",
    "    \n",
    "    try:\n",
    "        parent_genre = genres[genres['genre_id'] == genre.genre_parent_id].iloc[0]\n",
    "        return(genre_parent_name(parent_genre.genre_id))\n",
    "    except:\n",
    "        print(\"Genre parent is not present: \")\n",
    "        print(genre)\n",
    "        print(\"\\n\")\n",
    "\n",
    "genre_parent_name(genre_id)"
   ]
  },
  {
   "cell_type": "code",
   "execution_count": 131,
   "metadata": {},
   "outputs": [
    {
     "name": "stdout",
     "output_type": "stream",
     "text": [
      "Genre parent is not present: \n",
      "genre_id                       13\n",
      "genre_color               #5B747C\n",
      "genre_handle       Easy_Listening\n",
      "genre_parent_id               126\n",
      "genre_title        Easy Listening\n",
      "Name: 12, dtype: object\n",
      "\n",
      "\n",
      "Genre parent is not present: \n",
      "genre_id                       13\n",
      "genre_color               #5B747C\n",
      "genre_handle       Easy_Listening\n",
      "genre_parent_id               126\n",
      "genre_title        Easy Listening\n",
      "Name: 12, dtype: object\n",
      "\n",
      "\n",
      "Genre parent is not present: \n",
      "genre_id                       13\n",
      "genre_color               #5B747C\n",
      "genre_handle       Easy_Listening\n",
      "genre_parent_id               126\n",
      "genre_title        Easy Listening\n",
      "Name: 12, dtype: object\n",
      "\n",
      "\n",
      "Genre parent is not present: \n",
      "genre_id                        580\n",
      "genre_color                 #CC0000\n",
      "genre_handle       Abstract_Hip-Hop\n",
      "genre_parent_id                1172\n",
      "genre_title        Abstract Hip-Hop\n",
      "Name: 145, dtype: object\n",
      "\n",
      "\n",
      "Genre parent is not present: \n",
      "genre_id               810\n",
      "genre_color        #5B747C\n",
      "genre_handle       Nu-Jazz\n",
      "genre_parent_id         51\n",
      "genre_title        Nu-Jazz\n",
      "Name: 156, dtype: object\n",
      "\n",
      "\n"
     ]
    },
    {
     "data": {
      "text/plain": [
       "0     Experimental\n",
       "1    International\n",
       "2            Blues\n",
       "3             Jazz\n",
       "4        Classical\n",
       "Name: genre_id, dtype: object"
      ]
     },
     "execution_count": 131,
     "metadata": {},
     "output_type": "execute_result"
    }
   ],
   "source": [
    "genres['genre_id'].apply(genre_parent_name).head()"
   ]
  },
  {
   "cell_type": "code",
   "execution_count": 132,
   "metadata": {},
   "outputs": [
    {
     "data": {
      "text/plain": [
       "genre_id                       13\n",
       "genre_color               #5B747C\n",
       "genre_handle       Easy_Listening\n",
       "genre_parent_id                13\n",
       "genre_title        Easy Listening\n",
       "Name: 12, dtype: object"
      ]
     },
     "execution_count": 132,
     "metadata": {},
     "output_type": "execute_result"
    }
   ],
   "source": [
    "# Easy listening to be a parent of itself\n",
    "genres.loc[12, 'genre_parent_id'] = 13\n",
    "genres.loc[12]"
   ]
  },
  {
   "cell_type": "code",
   "execution_count": 133,
   "metadata": {},
   "outputs": [
    {
     "data": {
      "text/plain": [
       "genre_id                        580\n",
       "genre_color                 #CC0000\n",
       "genre_handle       Abstract_Hip-Hop\n",
       "genre_parent_id                  21\n",
       "genre_title        Abstract Hip-Hop\n",
       "Name: 145, dtype: object"
      ]
     },
     "execution_count": 133,
     "metadata": {},
     "output_type": "execute_result"
    }
   ],
   "source": [
    "# Hip-Hop to be a parent of Abstract Hip-Hop\n",
    "genres.loc[145, 'genre_parent_id'] = 21\n",
    "genres.loc[145]"
   ]
  },
  {
   "cell_type": "code",
   "execution_count": 134,
   "metadata": {},
   "outputs": [
    {
     "data": {
      "text/plain": [
       "genre_id               810\n",
       "genre_color        #5B747C\n",
       "genre_handle       Nu-Jazz\n",
       "genre_parent_id          4\n",
       "genre_title        Nu-Jazz\n",
       "Name: 156, dtype: object"
      ]
     },
     "execution_count": 134,
     "metadata": {},
     "output_type": "execute_result"
    }
   ],
   "source": [
    "# Jazz to be a parent of Nu-Jazz\n",
    "genres.loc[156, 'genre_parent_id'] = 4\n",
    "genres.loc[156]"
   ]
  },
  {
   "cell_type": "code",
   "execution_count": 135,
   "metadata": {},
   "outputs": [
    {
     "data": {
      "text/plain": [
       "0     Experimental\n",
       "1    International\n",
       "2            Blues\n",
       "3             Jazz\n",
       "4        Classical\n",
       "Name: genre_id, dtype: object"
      ]
     },
     "execution_count": 135,
     "metadata": {},
     "output_type": "execute_result"
    }
   ],
   "source": [
    "genres['genre_id'].head().apply(genre_parent_name)"
   ]
  },
  {
   "cell_type": "code",
   "execution_count": 136,
   "metadata": {},
   "outputs": [
    {
     "data": {
      "text/html": [
       "<div>\n",
       "<style scoped>\n",
       "    .dataframe tbody tr th:only-of-type {\n",
       "        vertical-align: middle;\n",
       "    }\n",
       "\n",
       "    .dataframe tbody tr th {\n",
       "        vertical-align: top;\n",
       "    }\n",
       "\n",
       "    .dataframe thead th {\n",
       "        text-align: right;\n",
       "    }\n",
       "</style>\n",
       "<table border=\"1\" class=\"dataframe\">\n",
       "  <thead>\n",
       "    <tr style=\"text-align: right;\">\n",
       "      <th></th>\n",
       "      <th>genre_id</th>\n",
       "      <th>genre_color</th>\n",
       "      <th>genre_handle</th>\n",
       "      <th>genre_parent_id</th>\n",
       "      <th>genre_title</th>\n",
       "      <th>genre_parent_name</th>\n",
       "    </tr>\n",
       "  </thead>\n",
       "  <tbody>\n",
       "    <tr>\n",
       "      <th>0</th>\n",
       "      <td>1</td>\n",
       "      <td>#006666</td>\n",
       "      <td>Avant-Garde</td>\n",
       "      <td>38.0</td>\n",
       "      <td>Avant-Garde</td>\n",
       "      <td>Experimental</td>\n",
       "    </tr>\n",
       "    <tr>\n",
       "      <th>1</th>\n",
       "      <td>2</td>\n",
       "      <td>#CC3300</td>\n",
       "      <td>International</td>\n",
       "      <td>NaN</td>\n",
       "      <td>International</td>\n",
       "      <td>International</td>\n",
       "    </tr>\n",
       "    <tr>\n",
       "      <th>2</th>\n",
       "      <td>3</td>\n",
       "      <td>#000099</td>\n",
       "      <td>Blues</td>\n",
       "      <td>NaN</td>\n",
       "      <td>Blues</td>\n",
       "      <td>Blues</td>\n",
       "    </tr>\n",
       "    <tr>\n",
       "      <th>3</th>\n",
       "      <td>4</td>\n",
       "      <td>#990099</td>\n",
       "      <td>Jazz</td>\n",
       "      <td>NaN</td>\n",
       "      <td>Jazz</td>\n",
       "      <td>Jazz</td>\n",
       "    </tr>\n",
       "    <tr>\n",
       "      <th>4</th>\n",
       "      <td>5</td>\n",
       "      <td>#8A8A65</td>\n",
       "      <td>Classical</td>\n",
       "      <td>NaN</td>\n",
       "      <td>Classical</td>\n",
       "      <td>Classical</td>\n",
       "    </tr>\n",
       "  </tbody>\n",
       "</table>\n",
       "</div>"
      ],
      "text/plain": [
       "   genre_id genre_color   genre_handle  genre_parent_id    genre_title  \\\n",
       "0         1     #006666    Avant-Garde             38.0    Avant-Garde   \n",
       "1         2     #CC3300  International              NaN  International   \n",
       "2         3     #000099          Blues              NaN          Blues   \n",
       "3         4     #990099           Jazz              NaN           Jazz   \n",
       "4         5     #8A8A65      Classical              NaN      Classical   \n",
       "\n",
       "  genre_parent_name  \n",
       "0      Experimental  \n",
       "1     International  \n",
       "2             Blues  \n",
       "3              Jazz  \n",
       "4         Classical  "
      ]
     },
     "execution_count": 136,
     "metadata": {},
     "output_type": "execute_result"
    }
   ],
   "source": [
    "genres.loc[:, 'genre_parent_name'] = genres['genre_id'].apply(genre_parent_name)\n",
    "genres.head()"
   ]
  },
  {
   "cell_type": "code",
   "execution_count": 137,
   "metadata": {},
   "outputs": [
    {
     "data": {
      "text/plain": [
       "[21]"
      ]
     },
     "execution_count": 137,
     "metadata": {},
     "output_type": "execute_result"
    }
   ],
   "source": [
    "# tracks_with_albums['track_genres'].head().apply(replace_quotes).apply(json.loads)\n",
    "def genre_ids(genres_json):\n",
    "    return([int(genre['genre_id']) for genre in genres_json])\n",
    "genre_ids(genre_json)"
   ]
  },
  {
   "cell_type": "code",
   "execution_count": 138,
   "metadata": {},
   "outputs": [
    {
     "data": {
      "text/plain": [
       "['Hip-Hop']"
      ]
     },
     "execution_count": 138,
     "metadata": {},
     "output_type": "execute_result"
    }
   ],
   "source": [
    "def genre_parent_names(genre_ids):\n",
    "    given_genres = [genres[genres['genre_id'] == genre_id].iloc[0] for genre_id in genre_ids]\n",
    "    return([genre['genre_parent_name'] for genre in given_genres])\n",
    "#     return([genre_parent_name(genre_id) for genre_id in genre_ids])\n",
    "genre_parent_names(genre_ids(genre_json))"
   ]
  },
  {
   "cell_type": "code",
   "execution_count": 139,
   "metadata": {},
   "outputs": [
    {
     "data": {
      "text/plain": [
       "0    [{u'genre_title': u'Hip-Hop', u'genre_url': u'...\n",
       "1    [{u'genre_title': u'Hip-Hop', u'genre_url': u'...\n",
       "2    [{u'genre_title': u'Hip-Hop', u'genre_url': u'...\n",
       "3    [{u'genre_title': u'Pop', u'genre_url': u'http...\n",
       "4    [{u'genre_title': u'Experimental Pop', u'genre...\n",
       "Name: track_genres, dtype: object"
      ]
     },
     "execution_count": 139,
     "metadata": {},
     "output_type": "execute_result"
    }
   ],
   "source": [
    "grenre_jsons = tracks_with_albums['track_genres'].apply(replace_quotes).apply(json.loads)\n",
    "grenre_jsons.head()"
   ]
  },
  {
   "cell_type": "code",
   "execution_count": 140,
   "metadata": {},
   "outputs": [
    {
     "data": {
      "text/plain": [
       "0         [21]\n",
       "1         [21]\n",
       "2         [21]\n",
       "3         [10]\n",
       "4    [76, 103]\n",
       "Name: track_genres, dtype: object"
      ]
     },
     "execution_count": 140,
     "metadata": {},
     "output_type": "execute_result"
    }
   ],
   "source": [
    "genre_ids = grenre_jsons.apply(genre_ids)\n",
    "genre_ids.head()"
   ]
  },
  {
   "cell_type": "code",
   "execution_count": 141,
   "metadata": {},
   "outputs": [
    {
     "data": {
      "text/plain": [
       "0      [Hip-Hop]\n",
       "1      [Hip-Hop]\n",
       "2      [Hip-Hop]\n",
       "3          [Pop]\n",
       "4    [Pop, Folk]\n",
       "Name: track_genres, dtype: object"
      ]
     },
     "execution_count": 141,
     "metadata": {},
     "output_type": "execute_result"
    }
   ],
   "source": [
    "genre_ids.head().apply(genre_parent_names)"
   ]
  },
  {
   "cell_type": "code",
   "execution_count": 142,
   "metadata": {},
   "outputs": [
    {
     "data": {
      "text/plain": [
       "(109727,)"
      ]
     },
     "execution_count": 142,
     "metadata": {},
     "output_type": "execute_result"
    }
   ],
   "source": [
    "genre_ids.shape"
   ]
  },
  {
   "cell_type": "code",
   "execution_count": 143,
   "metadata": {},
   "outputs": [
    {
     "data": {
      "text/plain": [
       "0      [Hip-Hop]\n",
       "1      [Hip-Hop]\n",
       "2      [Hip-Hop]\n",
       "3          [Pop]\n",
       "4    [Pop, Folk]\n",
       "Name: track_genres, dtype: object"
      ]
     },
     "execution_count": 143,
     "metadata": {},
     "output_type": "execute_result"
    }
   ],
   "source": [
    "genre_parent_names = genre_ids.apply(genre_parent_names)\n",
    "genre_parent_names.head()"
   ]
  },
  {
   "cell_type": "code",
   "execution_count": 144,
   "metadata": {},
   "outputs": [
    {
     "data": {
      "text/plain": [
       "17"
      ]
     },
     "execution_count": 144,
     "metadata": {},
     "output_type": "execute_result"
    }
   ],
   "source": [
    "len(set(flatten(list(genre_parent_names))))"
   ]
  },
  {
   "cell_type": "code",
   "execution_count": 145,
   "metadata": {},
   "outputs": [
    {
     "data": {
      "text/plain": [
       "{'Blues',\n",
       " 'Classical',\n",
       " 'Country',\n",
       " 'Easy_Listening',\n",
       " 'Electronic',\n",
       " 'Experimental',\n",
       " 'Folk',\n",
       " 'Hip-Hop',\n",
       " 'Instrumental',\n",
       " 'International',\n",
       " 'Jazz',\n",
       " 'Old-Time__Historic',\n",
       " 'Pop',\n",
       " 'Rock',\n",
       " 'Soul-RB',\n",
       " 'Spoken',\n",
       " 'holiday'}"
      ]
     },
     "execution_count": 145,
     "metadata": {},
     "output_type": "execute_result"
    }
   ],
   "source": [
    "set(flatten(list(genre_parent_names)))"
   ]
  },
  {
   "cell_type": "code",
   "execution_count": 146,
   "metadata": {},
   "outputs": [
    {
     "data": {
      "text/html": [
       "<div>\n",
       "<style scoped>\n",
       "    .dataframe tbody tr th:only-of-type {\n",
       "        vertical-align: middle;\n",
       "    }\n",
       "\n",
       "    .dataframe tbody tr th {\n",
       "        vertical-align: top;\n",
       "    }\n",
       "\n",
       "    .dataframe thead th {\n",
       "        text-align: right;\n",
       "    }\n",
       "</style>\n",
       "<table border=\"1\" class=\"dataframe\">\n",
       "  <thead>\n",
       "    <tr style=\"text-align: right;\">\n",
       "      <th></th>\n",
       "      <th>track_id</th>\n",
       "      <th>album_id</th>\n",
       "      <th>album_title</th>\n",
       "      <th>album_url</th>\n",
       "      <th>artist_id</th>\n",
       "      <th>artist_name</th>\n",
       "      <th>artist_url</th>\n",
       "      <th>artist_website</th>\n",
       "      <th>license_image_file</th>\n",
       "      <th>license_image_file_large</th>\n",
       "      <th>...</th>\n",
       "      <th>album_listens</th>\n",
       "      <th>album_producer</th>\n",
       "      <th>album_title_from_album</th>\n",
       "      <th>album_tracks</th>\n",
       "      <th>album_type</th>\n",
       "      <th>album_url_from_album</th>\n",
       "      <th>artist_name_from_album</th>\n",
       "      <th>artist_url_from_album</th>\n",
       "      <th>tags_from_album</th>\n",
       "      <th>genre_parent_names</th>\n",
       "    </tr>\n",
       "  </thead>\n",
       "  <tbody>\n",
       "    <tr>\n",
       "      <th>0</th>\n",
       "      <td>2</td>\n",
       "      <td>1.0</td>\n",
       "      <td>AWOL - A Way Of Life</td>\n",
       "      <td>http://freemusicarchive.org/music/AWOL/AWOL_-_...</td>\n",
       "      <td>1</td>\n",
       "      <td>AWOL</td>\n",
       "      <td>http://freemusicarchive.org/music/AWOL/</td>\n",
       "      <td>http://www.AzillionRecords.blogspot.com</td>\n",
       "      <td>http://i.creativecommons.org/l/by-nc-sa/3.0/us...</td>\n",
       "      <td>http://fma-files.s3.amazonaws.com/resources/im...</td>\n",
       "      <td>...</td>\n",
       "      <td>6073.0</td>\n",
       "      <td>NaN</td>\n",
       "      <td>AWOL - A Way Of Life</td>\n",
       "      <td>7.0</td>\n",
       "      <td>Album</td>\n",
       "      <td>http://freemusicarchive.org/music/AWOL/AWOL_-_...</td>\n",
       "      <td>AWOL</td>\n",
       "      <td>http://freemusicarchive.org/music/AWOL/</td>\n",
       "      <td>[]</td>\n",
       "      <td>[Hip-Hop]</td>\n",
       "    </tr>\n",
       "    <tr>\n",
       "      <th>1</th>\n",
       "      <td>3</td>\n",
       "      <td>1.0</td>\n",
       "      <td>AWOL - A Way Of Life</td>\n",
       "      <td>http://freemusicarchive.org/music/AWOL/AWOL_-_...</td>\n",
       "      <td>1</td>\n",
       "      <td>AWOL</td>\n",
       "      <td>http://freemusicarchive.org/music/AWOL/</td>\n",
       "      <td>http://www.AzillionRecords.blogspot.com</td>\n",
       "      <td>http://i.creativecommons.org/l/by-nc-sa/3.0/us...</td>\n",
       "      <td>http://fma-files.s3.amazonaws.com/resources/im...</td>\n",
       "      <td>...</td>\n",
       "      <td>6073.0</td>\n",
       "      <td>NaN</td>\n",
       "      <td>AWOL - A Way Of Life</td>\n",
       "      <td>7.0</td>\n",
       "      <td>Album</td>\n",
       "      <td>http://freemusicarchive.org/music/AWOL/AWOL_-_...</td>\n",
       "      <td>AWOL</td>\n",
       "      <td>http://freemusicarchive.org/music/AWOL/</td>\n",
       "      <td>[]</td>\n",
       "      <td>[Hip-Hop]</td>\n",
       "    </tr>\n",
       "    <tr>\n",
       "      <th>2</th>\n",
       "      <td>5</td>\n",
       "      <td>1.0</td>\n",
       "      <td>AWOL - A Way Of Life</td>\n",
       "      <td>http://freemusicarchive.org/music/AWOL/AWOL_-_...</td>\n",
       "      <td>1</td>\n",
       "      <td>AWOL</td>\n",
       "      <td>http://freemusicarchive.org/music/AWOL/</td>\n",
       "      <td>http://www.AzillionRecords.blogspot.com</td>\n",
       "      <td>http://i.creativecommons.org/l/by-nc-sa/3.0/us...</td>\n",
       "      <td>http://fma-files.s3.amazonaws.com/resources/im...</td>\n",
       "      <td>...</td>\n",
       "      <td>6073.0</td>\n",
       "      <td>NaN</td>\n",
       "      <td>AWOL - A Way Of Life</td>\n",
       "      <td>7.0</td>\n",
       "      <td>Album</td>\n",
       "      <td>http://freemusicarchive.org/music/AWOL/AWOL_-_...</td>\n",
       "      <td>AWOL</td>\n",
       "      <td>http://freemusicarchive.org/music/AWOL/</td>\n",
       "      <td>[]</td>\n",
       "      <td>[Hip-Hop]</td>\n",
       "    </tr>\n",
       "    <tr>\n",
       "      <th>3</th>\n",
       "      <td>10</td>\n",
       "      <td>6.0</td>\n",
       "      <td>Constant Hitmaker</td>\n",
       "      <td>http://freemusicarchive.org/music/Kurt_Vile/Co...</td>\n",
       "      <td>6</td>\n",
       "      <td>Kurt Vile</td>\n",
       "      <td>http://freemusicarchive.org/music/Kurt_Vile/</td>\n",
       "      <td>http://kurtvile.com</td>\n",
       "      <td>http://i.creativecommons.org/l/by-nc-nd/3.0/88...</td>\n",
       "      <td>http://fma-files.s3.amazonaws.com/resources/im...</td>\n",
       "      <td>...</td>\n",
       "      <td>NaN</td>\n",
       "      <td>NaN</td>\n",
       "      <td>NaN</td>\n",
       "      <td>NaN</td>\n",
       "      <td>NaN</td>\n",
       "      <td>NaN</td>\n",
       "      <td>NaN</td>\n",
       "      <td>NaN</td>\n",
       "      <td>NaN</td>\n",
       "      <td>[Pop]</td>\n",
       "    </tr>\n",
       "    <tr>\n",
       "      <th>4</th>\n",
       "      <td>20</td>\n",
       "      <td>4.0</td>\n",
       "      <td>Niris</td>\n",
       "      <td>http://freemusicarchive.org/music/Chris_and_Ni...</td>\n",
       "      <td>4</td>\n",
       "      <td>Nicky Cook</td>\n",
       "      <td>http://freemusicarchive.org/music/Chris_and_Ni...</td>\n",
       "      <td>NaN</td>\n",
       "      <td>http://i.creativecommons.org/l/by-nc-nd/3.0/88...</td>\n",
       "      <td>http://fma-files.s3.amazonaws.com/resources/im...</td>\n",
       "      <td>...</td>\n",
       "      <td>NaN</td>\n",
       "      <td>NaN</td>\n",
       "      <td>NaN</td>\n",
       "      <td>NaN</td>\n",
       "      <td>NaN</td>\n",
       "      <td>NaN</td>\n",
       "      <td>NaN</td>\n",
       "      <td>NaN</td>\n",
       "      <td>NaN</td>\n",
       "      <td>[Pop, Folk]</td>\n",
       "    </tr>\n",
       "  </tbody>\n",
       "</table>\n",
       "<p>5 rows × 58 columns</p>\n",
       "</div>"
      ],
      "text/plain": [
       "   track_id  album_id           album_title  \\\n",
       "0         2       1.0  AWOL - A Way Of Life   \n",
       "1         3       1.0  AWOL - A Way Of Life   \n",
       "2         5       1.0  AWOL - A Way Of Life   \n",
       "3        10       6.0     Constant Hitmaker   \n",
       "4        20       4.0                 Niris   \n",
       "\n",
       "                                           album_url  artist_id artist_name  \\\n",
       "0  http://freemusicarchive.org/music/AWOL/AWOL_-_...          1        AWOL   \n",
       "1  http://freemusicarchive.org/music/AWOL/AWOL_-_...          1        AWOL   \n",
       "2  http://freemusicarchive.org/music/AWOL/AWOL_-_...          1        AWOL   \n",
       "3  http://freemusicarchive.org/music/Kurt_Vile/Co...          6   Kurt Vile   \n",
       "4  http://freemusicarchive.org/music/Chris_and_Ni...          4  Nicky Cook   \n",
       "\n",
       "                                          artist_url  \\\n",
       "0            http://freemusicarchive.org/music/AWOL/   \n",
       "1            http://freemusicarchive.org/music/AWOL/   \n",
       "2            http://freemusicarchive.org/music/AWOL/   \n",
       "3       http://freemusicarchive.org/music/Kurt_Vile/   \n",
       "4  http://freemusicarchive.org/music/Chris_and_Ni...   \n",
       "\n",
       "                            artist_website  \\\n",
       "0  http://www.AzillionRecords.blogspot.com   \n",
       "1  http://www.AzillionRecords.blogspot.com   \n",
       "2  http://www.AzillionRecords.blogspot.com   \n",
       "3                      http://kurtvile.com   \n",
       "4                                      NaN   \n",
       "\n",
       "                                  license_image_file  \\\n",
       "0  http://i.creativecommons.org/l/by-nc-sa/3.0/us...   \n",
       "1  http://i.creativecommons.org/l/by-nc-sa/3.0/us...   \n",
       "2  http://i.creativecommons.org/l/by-nc-sa/3.0/us...   \n",
       "3  http://i.creativecommons.org/l/by-nc-nd/3.0/88...   \n",
       "4  http://i.creativecommons.org/l/by-nc-nd/3.0/88...   \n",
       "\n",
       "                            license_image_file_large  ...  album_listens  \\\n",
       "0  http://fma-files.s3.amazonaws.com/resources/im...  ...         6073.0   \n",
       "1  http://fma-files.s3.amazonaws.com/resources/im...  ...         6073.0   \n",
       "2  http://fma-files.s3.amazonaws.com/resources/im...  ...         6073.0   \n",
       "3  http://fma-files.s3.amazonaws.com/resources/im...  ...            NaN   \n",
       "4  http://fma-files.s3.amazonaws.com/resources/im...  ...            NaN   \n",
       "\n",
       "  album_producer album_title_from_album album_tracks  album_type  \\\n",
       "0            NaN   AWOL - A Way Of Life          7.0       Album   \n",
       "1            NaN   AWOL - A Way Of Life          7.0       Album   \n",
       "2            NaN   AWOL - A Way Of Life          7.0       Album   \n",
       "3            NaN                    NaN          NaN         NaN   \n",
       "4            NaN                    NaN          NaN         NaN   \n",
       "\n",
       "                                album_url_from_album artist_name_from_album  \\\n",
       "0  http://freemusicarchive.org/music/AWOL/AWOL_-_...                   AWOL   \n",
       "1  http://freemusicarchive.org/music/AWOL/AWOL_-_...                   AWOL   \n",
       "2  http://freemusicarchive.org/music/AWOL/AWOL_-_...                   AWOL   \n",
       "3                                                NaN                    NaN   \n",
       "4                                                NaN                    NaN   \n",
       "\n",
       "                     artist_url_from_album tags_from_album genre_parent_names  \n",
       "0  http://freemusicarchive.org/music/AWOL/              []          [Hip-Hop]  \n",
       "1  http://freemusicarchive.org/music/AWOL/              []          [Hip-Hop]  \n",
       "2  http://freemusicarchive.org/music/AWOL/              []          [Hip-Hop]  \n",
       "3                                      NaN             NaN              [Pop]  \n",
       "4                                      NaN             NaN        [Pop, Folk]  \n",
       "\n",
       "[5 rows x 58 columns]"
      ]
     },
     "execution_count": 146,
     "metadata": {},
     "output_type": "execute_result"
    }
   ],
   "source": [
    "tracks_with_albums.loc[:, 'genre_parent_names'] = genre_parent_names\n",
    "tracks_with_albums.head()"
   ]
  },
  {
   "cell_type": "code",
   "execution_count": 147,
   "metadata": {},
   "outputs": [
    {
     "data": {
      "text/html": [
       "<div>\n",
       "<style scoped>\n",
       "    .dataframe tbody tr th:only-of-type {\n",
       "        vertical-align: middle;\n",
       "    }\n",
       "\n",
       "    .dataframe tbody tr th {\n",
       "        vertical-align: top;\n",
       "    }\n",
       "\n",
       "    .dataframe thead th {\n",
       "        text-align: right;\n",
       "    }\n",
       "</style>\n",
       "<table border=\"1\" class=\"dataframe\">\n",
       "  <thead>\n",
       "    <tr style=\"text-align: right;\">\n",
       "      <th></th>\n",
       "      <th>genre_parent_names</th>\n",
       "    </tr>\n",
       "    <tr>\n",
       "      <th>album_id</th>\n",
       "      <th></th>\n",
       "    </tr>\n",
       "  </thead>\n",
       "  <tbody>\n",
       "    <tr>\n",
       "      <th>1.0</th>\n",
       "      <td>[Hip-Hop]</td>\n",
       "    </tr>\n",
       "    <tr>\n",
       "      <th>4.0</th>\n",
       "      <td>[[Pop], [Pop, Folk]]</td>\n",
       "    </tr>\n",
       "    <tr>\n",
       "      <th>6.0</th>\n",
       "      <td>[[Electronic], [Pop]]</td>\n",
       "    </tr>\n",
       "    <tr>\n",
       "      <th>21.0</th>\n",
       "      <td>[[Electronic, Instrumental], [Electronic, Inst...</td>\n",
       "    </tr>\n",
       "    <tr>\n",
       "      <th>58.0</th>\n",
       "      <td>[Rock, Rock]</td>\n",
       "    </tr>\n",
       "  </tbody>\n",
       "</table>\n",
       "</div>"
      ],
      "text/plain": [
       "                                         genre_parent_names\n",
       "album_id                                                   \n",
       "1.0                                               [Hip-Hop]\n",
       "4.0                                    [[Pop], [Pop, Folk]]\n",
       "6.0                                   [[Electronic], [Pop]]\n",
       "21.0      [[Electronic, Instrumental], [Electronic, Inst...\n",
       "58.0                                           [Rock, Rock]"
      ]
     },
     "execution_count": 147,
     "metadata": {},
     "output_type": "execute_result"
    }
   ],
   "source": [
    "import numpy as np\n",
    "tracks_with_albums[['album_id', 'genre_parent_names']].groupby('album_id').agg(np.unique).head()"
   ]
  },
  {
   "cell_type": "code",
   "execution_count": 148,
   "metadata": {},
   "outputs": [
    {
     "data": {
      "text/html": [
       "<div>\n",
       "<style scoped>\n",
       "    .dataframe tbody tr th:only-of-type {\n",
       "        vertical-align: middle;\n",
       "    }\n",
       "\n",
       "    .dataframe tbody tr th {\n",
       "        vertical-align: top;\n",
       "    }\n",
       "\n",
       "    .dataframe thead th {\n",
       "        text-align: right;\n",
       "    }\n",
       "</style>\n",
       "<table border=\"1\" class=\"dataframe\">\n",
       "  <thead>\n",
       "    <tr style=\"text-align: right;\">\n",
       "      <th></th>\n",
       "      <th>genre_parent_names</th>\n",
       "    </tr>\n",
       "    <tr>\n",
       "      <th>album_id</th>\n",
       "      <th></th>\n",
       "    </tr>\n",
       "  </thead>\n",
       "  <tbody>\n",
       "    <tr>\n",
       "      <th>1.0</th>\n",
       "      <td>[Hip-Hop]</td>\n",
       "    </tr>\n",
       "    <tr>\n",
       "      <th>4.0</th>\n",
       "      <td>[[Pop], [Pop, Folk]]</td>\n",
       "    </tr>\n",
       "    <tr>\n",
       "      <th>6.0</th>\n",
       "      <td>[[Electronic], [Pop]]</td>\n",
       "    </tr>\n",
       "    <tr>\n",
       "      <th>21.0</th>\n",
       "      <td>[[Electronic, Instrumental], [Electronic, Inst...</td>\n",
       "    </tr>\n",
       "    <tr>\n",
       "      <th>58.0</th>\n",
       "      <td>[Rock, Rock]</td>\n",
       "    </tr>\n",
       "  </tbody>\n",
       "</table>\n",
       "</div>"
      ],
      "text/plain": [
       "                                         genre_parent_names\n",
       "album_id                                                   \n",
       "1.0                                               [Hip-Hop]\n",
       "4.0                                    [[Pop], [Pop, Folk]]\n",
       "6.0                                   [[Electronic], [Pop]]\n",
       "21.0      [[Electronic, Instrumental], [Electronic, Inst...\n",
       "58.0                                           [Rock, Rock]"
      ]
     },
     "execution_count": 148,
     "metadata": {},
     "output_type": "execute_result"
    }
   ],
   "source": [
    "album_genres = tracks_with_albums[['album_id', 'genre_parent_names']].groupby('album_id').agg(np.unique)\n",
    "album_genres.head()"
   ]
  },
  {
   "cell_type": "code",
   "execution_count": 149,
   "metadata": {},
   "outputs": [
    {
     "data": {
      "text/html": [
       "<div>\n",
       "<style scoped>\n",
       "    .dataframe tbody tr th:only-of-type {\n",
       "        vertical-align: middle;\n",
       "    }\n",
       "\n",
       "    .dataframe tbody tr th {\n",
       "        vertical-align: top;\n",
       "    }\n",
       "\n",
       "    .dataframe thead th {\n",
       "        text-align: right;\n",
       "    }\n",
       "</style>\n",
       "<table border=\"1\" class=\"dataframe\">\n",
       "  <thead>\n",
       "    <tr style=\"text-align: right;\">\n",
       "      <th></th>\n",
       "      <th>genre_parent_names</th>\n",
       "    </tr>\n",
       "    <tr>\n",
       "      <th>album_id</th>\n",
       "      <th></th>\n",
       "    </tr>\n",
       "  </thead>\n",
       "  <tbody>\n",
       "    <tr>\n",
       "      <th>1.0</th>\n",
       "      <td>[Hip-Hop]</td>\n",
       "    </tr>\n",
       "    <tr>\n",
       "      <th>4.0</th>\n",
       "      <td>[Pop, Pop, Folk]</td>\n",
       "    </tr>\n",
       "    <tr>\n",
       "      <th>6.0</th>\n",
       "      <td>[Electronic, Pop]</td>\n",
       "    </tr>\n",
       "    <tr>\n",
       "      <th>21.0</th>\n",
       "      <td>[Electronic, Instrumental, Electronic, Instrum...</td>\n",
       "    </tr>\n",
       "    <tr>\n",
       "      <th>58.0</th>\n",
       "      <td>[Rock, Rock]</td>\n",
       "    </tr>\n",
       "  </tbody>\n",
       "</table>\n",
       "</div>"
      ],
      "text/plain": [
       "                                         genre_parent_names\n",
       "album_id                                                   \n",
       "1.0                                               [Hip-Hop]\n",
       "4.0                                        [Pop, Pop, Folk]\n",
       "6.0                                       [Electronic, Pop]\n",
       "21.0      [Electronic, Instrumental, Electronic, Instrum...\n",
       "58.0                                           [Rock, Rock]"
      ]
     },
     "execution_count": 149,
     "metadata": {},
     "output_type": "execute_result"
    }
   ],
   "source": [
    "album_genres.loc[:, 'genre_parent_names'] = album_genres['genre_parent_names'].apply(lambda x: flatten(x) if len(x) > 1 and type(x[0]) == list else x)\n",
    "album_genres.head()"
   ]
  },
  {
   "cell_type": "code",
   "execution_count": 150,
   "metadata": {},
   "outputs": [
    {
     "data": {
      "text/html": [
       "<div>\n",
       "<style scoped>\n",
       "    .dataframe tbody tr th:only-of-type {\n",
       "        vertical-align: middle;\n",
       "    }\n",
       "\n",
       "    .dataframe tbody tr th {\n",
       "        vertical-align: top;\n",
       "    }\n",
       "\n",
       "    .dataframe thead th {\n",
       "        text-align: right;\n",
       "    }\n",
       "</style>\n",
       "<table border=\"1\" class=\"dataframe\">\n",
       "  <thead>\n",
       "    <tr style=\"text-align: right;\">\n",
       "      <th></th>\n",
       "      <th>genre_parent_names</th>\n",
       "    </tr>\n",
       "    <tr>\n",
       "      <th>album_id</th>\n",
       "      <th></th>\n",
       "    </tr>\n",
       "  </thead>\n",
       "  <tbody>\n",
       "    <tr>\n",
       "      <th>1.0</th>\n",
       "      <td>[Hip-Hop]</td>\n",
       "    </tr>\n",
       "    <tr>\n",
       "      <th>4.0</th>\n",
       "      <td>[Folk, Pop]</td>\n",
       "    </tr>\n",
       "    <tr>\n",
       "      <th>6.0</th>\n",
       "      <td>[Electronic, Pop]</td>\n",
       "    </tr>\n",
       "    <tr>\n",
       "      <th>21.0</th>\n",
       "      <td>[Electronic, Instrumental]</td>\n",
       "    </tr>\n",
       "    <tr>\n",
       "      <th>58.0</th>\n",
       "      <td>[Rock]</td>\n",
       "    </tr>\n",
       "  </tbody>\n",
       "</table>\n",
       "</div>"
      ],
      "text/plain": [
       "                  genre_parent_names\n",
       "album_id                            \n",
       "1.0                        [Hip-Hop]\n",
       "4.0                      [Folk, Pop]\n",
       "6.0                [Electronic, Pop]\n",
       "21.0      [Electronic, Instrumental]\n",
       "58.0                          [Rock]"
      ]
     },
     "execution_count": 150,
     "metadata": {},
     "output_type": "execute_result"
    }
   ],
   "source": [
    "album_genres.loc[:, 'genre_parent_names'] = album_genres['genre_parent_names'].apply(np.unique)\n",
    "album_genres.head()"
   ]
  },
  {
   "cell_type": "code",
   "execution_count": 151,
   "metadata": {},
   "outputs": [],
   "source": [
    "# album_genres = album_genres.set_index(album_genres.index.map(int))\n",
    "# album_genres.head()"
   ]
  },
  {
   "cell_type": "code",
   "execution_count": 152,
   "metadata": {},
   "outputs": [
    {
     "data": {
      "text/html": [
       "<div>\n",
       "<style scoped>\n",
       "    .dataframe tbody tr th:only-of-type {\n",
       "        vertical-align: middle;\n",
       "    }\n",
       "\n",
       "    .dataframe tbody tr th {\n",
       "        vertical-align: top;\n",
       "    }\n",
       "\n",
       "    .dataframe thead th {\n",
       "        text-align: right;\n",
       "    }\n",
       "</style>\n",
       "<table border=\"1\" class=\"dataframe\">\n",
       "  <thead>\n",
       "    <tr style=\"text-align: right;\">\n",
       "      <th></th>\n",
       "      <th>album_url</th>\n",
       "      <th>artist_url</th>\n",
       "      <th>album_date_released</th>\n",
       "      <th>album_type</th>\n",
       "      <th>album_tracks</th>\n",
       "      <th>album_duration</th>\n",
       "      <th>days_until_next_album</th>\n",
       "      <th>total_albums_released</th>\n",
       "      <th>days_since_first_release</th>\n",
       "      <th>average_days_to_release</th>\n",
       "      <th>days_since_previous_release</th>\n",
       "      <th>album_year</th>\n",
       "      <th>album_month</th>\n",
       "      <th>album_day_of_month</th>\n",
       "      <th>album_day_of_week</th>\n",
       "      <th>album_genres</th>\n",
       "    </tr>\n",
       "    <tr>\n",
       "      <th>album_id</th>\n",
       "      <th></th>\n",
       "      <th></th>\n",
       "      <th></th>\n",
       "      <th></th>\n",
       "      <th></th>\n",
       "      <th></th>\n",
       "      <th></th>\n",
       "      <th></th>\n",
       "      <th></th>\n",
       "      <th></th>\n",
       "      <th></th>\n",
       "      <th></th>\n",
       "      <th></th>\n",
       "      <th></th>\n",
       "      <th></th>\n",
       "      <th></th>\n",
       "    </tr>\n",
       "  </thead>\n",
       "  <tbody>\n",
       "    <tr>\n",
       "      <th>100</th>\n",
       "      <td>http://freemusicarchive.org/music/Bird_Names/O...</td>\n",
       "      <td>http://freemusicarchive.org/music/Bird_Names/</td>\n",
       "      <td>2009-01-09</td>\n",
       "      <td>Album</td>\n",
       "      <td>4</td>\n",
       "      <td>626</td>\n",
       "      <td>997.0</td>\n",
       "      <td>2</td>\n",
       "      <td>739</td>\n",
       "      <td>739.000000</td>\n",
       "      <td>739.0</td>\n",
       "      <td>2009</td>\n",
       "      <td>1</td>\n",
       "      <td>9</td>\n",
       "      <td>4</td>\n",
       "      <td>[Rock]</td>\n",
       "    </tr>\n",
       "    <tr>\n",
       "      <th>10001</th>\n",
       "      <td>http://freemusicarchive.org/music/Uton/Grounds...</td>\n",
       "      <td>http://freemusicarchive.org/music/Uton/</td>\n",
       "      <td>2006-01-01</td>\n",
       "      <td>Album</td>\n",
       "      <td>1</td>\n",
       "      <td>2746</td>\n",
       "      <td>365.0</td>\n",
       "      <td>2</td>\n",
       "      <td>365</td>\n",
       "      <td>365.000000</td>\n",
       "      <td>365.0</td>\n",
       "      <td>2006</td>\n",
       "      <td>1</td>\n",
       "      <td>1</td>\n",
       "      <td>6</td>\n",
       "      <td>[Experimental]</td>\n",
       "    </tr>\n",
       "    <tr>\n",
       "      <th>10002</th>\n",
       "      <td>http://freemusicarchive.org/music/Prince_Rama_...</td>\n",
       "      <td>http://freemusicarchive.org/music/Prince_Rama_...</td>\n",
       "      <td>2011-09-06</td>\n",
       "      <td>Album</td>\n",
       "      <td>1</td>\n",
       "      <td>381</td>\n",
       "      <td>53.0</td>\n",
       "      <td>1</td>\n",
       "      <td>0</td>\n",
       "      <td>160.416667</td>\n",
       "      <td>137.5</td>\n",
       "      <td>2011</td>\n",
       "      <td>9</td>\n",
       "      <td>6</td>\n",
       "      <td>1</td>\n",
       "      <td>[Experimental, Pop]</td>\n",
       "    </tr>\n",
       "    <tr>\n",
       "      <th>10009</th>\n",
       "      <td>http://freemusicarchive.org/music/Audio_K/My_S...</td>\n",
       "      <td>http://freemusicarchive.org/music/Audio_K/</td>\n",
       "      <td>2011-09-07</td>\n",
       "      <td>Album</td>\n",
       "      <td>4</td>\n",
       "      <td>1282</td>\n",
       "      <td>26.0</td>\n",
       "      <td>1</td>\n",
       "      <td>0</td>\n",
       "      <td>160.416667</td>\n",
       "      <td>137.5</td>\n",
       "      <td>2011</td>\n",
       "      <td>9</td>\n",
       "      <td>7</td>\n",
       "      <td>2</td>\n",
       "      <td>[Electronic, Experimental]</td>\n",
       "    </tr>\n",
       "    <tr>\n",
       "      <th>10018</th>\n",
       "      <td>http://freemusicarchive.org/music/Angels_in_Am...</td>\n",
       "      <td>http://freemusicarchive.org/music/Angels_in_Am...</td>\n",
       "      <td>2011-07-04</td>\n",
       "      <td>Album</td>\n",
       "      <td>7</td>\n",
       "      <td>1905</td>\n",
       "      <td>66.0</td>\n",
       "      <td>1</td>\n",
       "      <td>0</td>\n",
       "      <td>160.416667</td>\n",
       "      <td>137.5</td>\n",
       "      <td>2011</td>\n",
       "      <td>7</td>\n",
       "      <td>4</td>\n",
       "      <td>0</td>\n",
       "      <td>[Experimental, Rock]</td>\n",
       "    </tr>\n",
       "  </tbody>\n",
       "</table>\n",
       "</div>"
      ],
      "text/plain": [
       "                                                  album_url  \\\n",
       "album_id                                                      \n",
       "100       http://freemusicarchive.org/music/Bird_Names/O...   \n",
       "10001     http://freemusicarchive.org/music/Uton/Grounds...   \n",
       "10002     http://freemusicarchive.org/music/Prince_Rama_...   \n",
       "10009     http://freemusicarchive.org/music/Audio_K/My_S...   \n",
       "10018     http://freemusicarchive.org/music/Angels_in_Am...   \n",
       "\n",
       "                                                 artist_url  \\\n",
       "album_id                                                      \n",
       "100           http://freemusicarchive.org/music/Bird_Names/   \n",
       "10001               http://freemusicarchive.org/music/Uton/   \n",
       "10002     http://freemusicarchive.org/music/Prince_Rama_...   \n",
       "10009            http://freemusicarchive.org/music/Audio_K/   \n",
       "10018     http://freemusicarchive.org/music/Angels_in_Am...   \n",
       "\n",
       "         album_date_released album_type  album_tracks  album_duration  \\\n",
       "album_id                                                                \n",
       "100               2009-01-09      Album             4             626   \n",
       "10001             2006-01-01      Album             1            2746   \n",
       "10002             2011-09-06      Album             1             381   \n",
       "10009             2011-09-07      Album             4            1282   \n",
       "10018             2011-07-04      Album             7            1905   \n",
       "\n",
       "          days_until_next_album  total_albums_released  \\\n",
       "album_id                                                 \n",
       "100                       997.0                      2   \n",
       "10001                     365.0                      2   \n",
       "10002                      53.0                      1   \n",
       "10009                      26.0                      1   \n",
       "10018                      66.0                      1   \n",
       "\n",
       "          days_since_first_release  average_days_to_release  \\\n",
       "album_id                                                      \n",
       "100                            739               739.000000   \n",
       "10001                          365               365.000000   \n",
       "10002                            0               160.416667   \n",
       "10009                            0               160.416667   \n",
       "10018                            0               160.416667   \n",
       "\n",
       "          days_since_previous_release  album_year  album_month  \\\n",
       "album_id                                                         \n",
       "100                             739.0        2009            1   \n",
       "10001                           365.0        2006            1   \n",
       "10002                           137.5        2011            9   \n",
       "10009                           137.5        2011            9   \n",
       "10018                           137.5        2011            7   \n",
       "\n",
       "          album_day_of_month  album_day_of_week                album_genres  \n",
       "album_id                                                                     \n",
       "100                        9                  4                      [Rock]  \n",
       "10001                      1                  6              [Experimental]  \n",
       "10002                      6                  1         [Experimental, Pop]  \n",
       "10009                      7                  2  [Electronic, Experimental]  \n",
       "10018                      4                  0        [Experimental, Rock]  "
      ]
     },
     "execution_count": 152,
     "metadata": {},
     "output_type": "execute_result"
    }
   ],
   "source": [
    "df['album_genres'] = album_genres\n",
    "df.head()"
   ]
  },
  {
   "cell_type": "code",
   "execution_count": 153,
   "metadata": {},
   "outputs": [],
   "source": [
    "# tracks_with_albums[['album_id', 'album_id_from_album']].head()\n",
    "# tracks_with_albums.columns"
   ]
  },
  {
   "cell_type": "code",
   "execution_count": 154,
   "metadata": {},
   "outputs": [],
   "source": [
    "# df.isnull().sum()"
   ]
  },
  {
   "cell_type": "code",
   "execution_count": 161,
   "metadata": {},
   "outputs": [
    {
     "data": {
      "text/plain": [
       "{'Blues',\n",
       " 'Classical',\n",
       " 'Country',\n",
       " 'Easy_Listening',\n",
       " 'Electronic',\n",
       " 'Experimental',\n",
       " 'Folk',\n",
       " 'Hip-Hop',\n",
       " 'Instrumental',\n",
       " 'International',\n",
       " 'Jazz',\n",
       " 'Old-Time__Historic',\n",
       " 'Pop',\n",
       " 'Rock',\n",
       " 'Soul-RB',\n",
       " 'Spoken',\n",
       " 'holiday'}"
      ]
     },
     "execution_count": 161,
     "metadata": {},
     "output_type": "execute_result"
    }
   ],
   "source": [
    "# for genre in df.iloc[0]['album_genres']:\n",
    "#     print(genre)\n",
    "all_genres = set(flatten(list(genre_parent_names)))\n",
    "all_genres"
   ]
  },
  {
   "cell_type": "code",
   "execution_count": 162,
   "metadata": {},
   "outputs": [],
   "source": [
    "for genre in all_genres:\n",
    "    df[genre] = 0"
   ]
  },
  {
   "cell_type": "code",
   "execution_count": 163,
   "metadata": {},
   "outputs": [
    {
     "data": {
      "text/html": [
       "<div>\n",
       "<style scoped>\n",
       "    .dataframe tbody tr th:only-of-type {\n",
       "        vertical-align: middle;\n",
       "    }\n",
       "\n",
       "    .dataframe tbody tr th {\n",
       "        vertical-align: top;\n",
       "    }\n",
       "\n",
       "    .dataframe thead th {\n",
       "        text-align: right;\n",
       "    }\n",
       "</style>\n",
       "<table border=\"1\" class=\"dataframe\">\n",
       "  <thead>\n",
       "    <tr style=\"text-align: right;\">\n",
       "      <th></th>\n",
       "      <th>album_url</th>\n",
       "      <th>artist_url</th>\n",
       "      <th>album_date_released</th>\n",
       "      <th>album_type</th>\n",
       "      <th>album_tracks</th>\n",
       "      <th>album_duration</th>\n",
       "      <th>days_until_next_album</th>\n",
       "      <th>total_albums_released</th>\n",
       "      <th>days_since_first_release</th>\n",
       "      <th>average_days_to_release</th>\n",
       "      <th>...</th>\n",
       "      <th>Spoken</th>\n",
       "      <th>Easy_Listening</th>\n",
       "      <th>Experimental</th>\n",
       "      <th>Rock</th>\n",
       "      <th>International</th>\n",
       "      <th>Blues</th>\n",
       "      <th>holiday</th>\n",
       "      <th>Electronic</th>\n",
       "      <th>Folk</th>\n",
       "      <th>Soul-RB</th>\n",
       "    </tr>\n",
       "    <tr>\n",
       "      <th>album_id</th>\n",
       "      <th></th>\n",
       "      <th></th>\n",
       "      <th></th>\n",
       "      <th></th>\n",
       "      <th></th>\n",
       "      <th></th>\n",
       "      <th></th>\n",
       "      <th></th>\n",
       "      <th></th>\n",
       "      <th></th>\n",
       "      <th></th>\n",
       "      <th></th>\n",
       "      <th></th>\n",
       "      <th></th>\n",
       "      <th></th>\n",
       "      <th></th>\n",
       "      <th></th>\n",
       "      <th></th>\n",
       "      <th></th>\n",
       "      <th></th>\n",
       "      <th></th>\n",
       "    </tr>\n",
       "  </thead>\n",
       "  <tbody>\n",
       "    <tr>\n",
       "      <th>100</th>\n",
       "      <td>http://freemusicarchive.org/music/Bird_Names/O...</td>\n",
       "      <td>http://freemusicarchive.org/music/Bird_Names/</td>\n",
       "      <td>2009-01-09</td>\n",
       "      <td>Album</td>\n",
       "      <td>4</td>\n",
       "      <td>626</td>\n",
       "      <td>997.0</td>\n",
       "      <td>2</td>\n",
       "      <td>739</td>\n",
       "      <td>739.000000</td>\n",
       "      <td>...</td>\n",
       "      <td>0</td>\n",
       "      <td>0</td>\n",
       "      <td>0</td>\n",
       "      <td>0</td>\n",
       "      <td>0</td>\n",
       "      <td>0</td>\n",
       "      <td>0</td>\n",
       "      <td>0</td>\n",
       "      <td>0</td>\n",
       "      <td>0</td>\n",
       "    </tr>\n",
       "    <tr>\n",
       "      <th>10001</th>\n",
       "      <td>http://freemusicarchive.org/music/Uton/Grounds...</td>\n",
       "      <td>http://freemusicarchive.org/music/Uton/</td>\n",
       "      <td>2006-01-01</td>\n",
       "      <td>Album</td>\n",
       "      <td>1</td>\n",
       "      <td>2746</td>\n",
       "      <td>365.0</td>\n",
       "      <td>2</td>\n",
       "      <td>365</td>\n",
       "      <td>365.000000</td>\n",
       "      <td>...</td>\n",
       "      <td>0</td>\n",
       "      <td>0</td>\n",
       "      <td>0</td>\n",
       "      <td>0</td>\n",
       "      <td>0</td>\n",
       "      <td>0</td>\n",
       "      <td>0</td>\n",
       "      <td>0</td>\n",
       "      <td>0</td>\n",
       "      <td>0</td>\n",
       "    </tr>\n",
       "    <tr>\n",
       "      <th>10002</th>\n",
       "      <td>http://freemusicarchive.org/music/Prince_Rama_...</td>\n",
       "      <td>http://freemusicarchive.org/music/Prince_Rama_...</td>\n",
       "      <td>2011-09-06</td>\n",
       "      <td>Album</td>\n",
       "      <td>1</td>\n",
       "      <td>381</td>\n",
       "      <td>53.0</td>\n",
       "      <td>1</td>\n",
       "      <td>0</td>\n",
       "      <td>160.416667</td>\n",
       "      <td>...</td>\n",
       "      <td>0</td>\n",
       "      <td>0</td>\n",
       "      <td>0</td>\n",
       "      <td>0</td>\n",
       "      <td>0</td>\n",
       "      <td>0</td>\n",
       "      <td>0</td>\n",
       "      <td>0</td>\n",
       "      <td>0</td>\n",
       "      <td>0</td>\n",
       "    </tr>\n",
       "    <tr>\n",
       "      <th>10009</th>\n",
       "      <td>http://freemusicarchive.org/music/Audio_K/My_S...</td>\n",
       "      <td>http://freemusicarchive.org/music/Audio_K/</td>\n",
       "      <td>2011-09-07</td>\n",
       "      <td>Album</td>\n",
       "      <td>4</td>\n",
       "      <td>1282</td>\n",
       "      <td>26.0</td>\n",
       "      <td>1</td>\n",
       "      <td>0</td>\n",
       "      <td>160.416667</td>\n",
       "      <td>...</td>\n",
       "      <td>0</td>\n",
       "      <td>0</td>\n",
       "      <td>0</td>\n",
       "      <td>0</td>\n",
       "      <td>0</td>\n",
       "      <td>0</td>\n",
       "      <td>0</td>\n",
       "      <td>0</td>\n",
       "      <td>0</td>\n",
       "      <td>0</td>\n",
       "    </tr>\n",
       "    <tr>\n",
       "      <th>10018</th>\n",
       "      <td>http://freemusicarchive.org/music/Angels_in_Am...</td>\n",
       "      <td>http://freemusicarchive.org/music/Angels_in_Am...</td>\n",
       "      <td>2011-07-04</td>\n",
       "      <td>Album</td>\n",
       "      <td>7</td>\n",
       "      <td>1905</td>\n",
       "      <td>66.0</td>\n",
       "      <td>1</td>\n",
       "      <td>0</td>\n",
       "      <td>160.416667</td>\n",
       "      <td>...</td>\n",
       "      <td>0</td>\n",
       "      <td>0</td>\n",
       "      <td>0</td>\n",
       "      <td>0</td>\n",
       "      <td>0</td>\n",
       "      <td>0</td>\n",
       "      <td>0</td>\n",
       "      <td>0</td>\n",
       "      <td>0</td>\n",
       "      <td>0</td>\n",
       "    </tr>\n",
       "  </tbody>\n",
       "</table>\n",
       "<p>5 rows × 33 columns</p>\n",
       "</div>"
      ],
      "text/plain": [
       "                                                  album_url  \\\n",
       "album_id                                                      \n",
       "100       http://freemusicarchive.org/music/Bird_Names/O...   \n",
       "10001     http://freemusicarchive.org/music/Uton/Grounds...   \n",
       "10002     http://freemusicarchive.org/music/Prince_Rama_...   \n",
       "10009     http://freemusicarchive.org/music/Audio_K/My_S...   \n",
       "10018     http://freemusicarchive.org/music/Angels_in_Am...   \n",
       "\n",
       "                                                 artist_url  \\\n",
       "album_id                                                      \n",
       "100           http://freemusicarchive.org/music/Bird_Names/   \n",
       "10001               http://freemusicarchive.org/music/Uton/   \n",
       "10002     http://freemusicarchive.org/music/Prince_Rama_...   \n",
       "10009            http://freemusicarchive.org/music/Audio_K/   \n",
       "10018     http://freemusicarchive.org/music/Angels_in_Am...   \n",
       "\n",
       "         album_date_released album_type  album_tracks  album_duration  \\\n",
       "album_id                                                                \n",
       "100               2009-01-09      Album             4             626   \n",
       "10001             2006-01-01      Album             1            2746   \n",
       "10002             2011-09-06      Album             1             381   \n",
       "10009             2011-09-07      Album             4            1282   \n",
       "10018             2011-07-04      Album             7            1905   \n",
       "\n",
       "          days_until_next_album  total_albums_released  \\\n",
       "album_id                                                 \n",
       "100                       997.0                      2   \n",
       "10001                     365.0                      2   \n",
       "10002                      53.0                      1   \n",
       "10009                      26.0                      1   \n",
       "10018                      66.0                      1   \n",
       "\n",
       "          days_since_first_release  average_days_to_release  ...  Spoken  \\\n",
       "album_id                                                     ...           \n",
       "100                            739               739.000000  ...       0   \n",
       "10001                          365               365.000000  ...       0   \n",
       "10002                            0               160.416667  ...       0   \n",
       "10009                            0               160.416667  ...       0   \n",
       "10018                            0               160.416667  ...       0   \n",
       "\n",
       "          Easy_Listening  Experimental  Rock  International Blues  holiday  \\\n",
       "album_id                                                                     \n",
       "100                    0             0     0              0     0        0   \n",
       "10001                  0             0     0              0     0        0   \n",
       "10002                  0             0     0              0     0        0   \n",
       "10009                  0             0     0              0     0        0   \n",
       "10018                  0             0     0              0     0        0   \n",
       "\n",
       "          Electronic  Folk  Soul-RB  \n",
       "album_id                             \n",
       "100                0     0        0  \n",
       "10001              0     0        0  \n",
       "10002              0     0        0  \n",
       "10009              0     0        0  \n",
       "10018              0     0        0  \n",
       "\n",
       "[5 rows x 33 columns]"
      ]
     },
     "execution_count": 163,
     "metadata": {},
     "output_type": "execute_result"
    }
   ],
   "source": [
    "df.head()"
   ]
  },
  {
   "cell_type": "code",
   "execution_count": null,
   "metadata": {},
   "outputs": [],
   "source": []
  }
 ],
 "metadata": {
  "kernelspec": {
   "display_name": "Python 3",
   "language": "python",
   "name": "python3"
  },
  "language_info": {
   "codemirror_mode": {
    "name": "ipython",
    "version": 2
   },
   "file_extension": ".py",
   "mimetype": "text/x-python",
   "name": "python",
   "nbconvert_exporter": "python",
   "pygments_lexer": "ipython2",
   "version": "2.7.15"
  }
 },
 "nbformat": 4,
 "nbformat_minor": 2
}
