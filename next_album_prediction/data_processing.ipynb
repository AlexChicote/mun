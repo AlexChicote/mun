{
 "cells": [
  {
   "cell_type": "markdown",
   "metadata": {},
   "source": [
    "### Load the initial dataset"
   ]
  },
  {
   "cell_type": "code",
   "execution_count": 1,
   "metadata": {},
   "outputs": [],
   "source": [
    "import pandas as pd\n",
    "import datetime\n",
    "import matplotlib.pyplot as plt\n",
    "import json\n",
    "%matplotlib inline"
   ]
  },
  {
   "cell_type": "code",
   "execution_count": 2,
   "metadata": {},
   "outputs": [],
   "source": [
    "releases_data = pd.read_csv('releases.csv')\n",
    "releases_data.set_index('id', inplace=True)"
   ]
  },
  {
   "cell_type": "code",
   "execution_count": 3,
   "metadata": {},
   "outputs": [
    {
     "data": {
      "text/html": [
       "<div>\n",
       "<style scoped>\n",
       "    .dataframe tbody tr th:only-of-type {\n",
       "        vertical-align: middle;\n",
       "    }\n",
       "\n",
       "    .dataframe tbody tr th {\n",
       "        vertical-align: top;\n",
       "    }\n",
       "\n",
       "    .dataframe thead th {\n",
       "        text-align: right;\n",
       "    }\n",
       "</style>\n",
       "<table border=\"1\" class=\"dataframe\">\n",
       "  <thead>\n",
       "    <tr style=\"text-align: right;\">\n",
       "      <th></th>\n",
       "      <th>artist</th>\n",
       "      <th>available</th>\n",
       "      <th>contributors</th>\n",
       "      <th>cover</th>\n",
       "      <th>cover_big</th>\n",
       "      <th>cover_medium</th>\n",
       "      <th>cover_small</th>\n",
       "      <th>cover_xl</th>\n",
       "      <th>duration</th>\n",
       "      <th>error</th>\n",
       "      <th>...</th>\n",
       "      <th>nb_tracks</th>\n",
       "      <th>rating</th>\n",
       "      <th>record_type</th>\n",
       "      <th>release_date</th>\n",
       "      <th>share</th>\n",
       "      <th>title</th>\n",
       "      <th>tracklist</th>\n",
       "      <th>tracks</th>\n",
       "      <th>type</th>\n",
       "      <th>upc</th>\n",
       "    </tr>\n",
       "    <tr>\n",
       "      <th>id</th>\n",
       "      <th></th>\n",
       "      <th></th>\n",
       "      <th></th>\n",
       "      <th></th>\n",
       "      <th></th>\n",
       "      <th></th>\n",
       "      <th></th>\n",
       "      <th></th>\n",
       "      <th></th>\n",
       "      <th></th>\n",
       "      <th></th>\n",
       "      <th></th>\n",
       "      <th></th>\n",
       "      <th></th>\n",
       "      <th></th>\n",
       "      <th></th>\n",
       "      <th></th>\n",
       "      <th></th>\n",
       "      <th></th>\n",
       "      <th></th>\n",
       "      <th></th>\n",
       "    </tr>\n",
       "  </thead>\n",
       "  <tbody>\n",
       "    <tr>\n",
       "      <th>77874622.0</th>\n",
       "      <td>{u'picture': u'https://api.deezer.com/artist/1...</td>\n",
       "      <td>True</td>\n",
       "      <td>[{u'picture': u'https://api.deezer.com/artist/...</td>\n",
       "      <td>https://api.deezer.com/album/77874622/image</td>\n",
       "      <td>https://e-cdns-images.dzcdn.net/images/cover/e...</td>\n",
       "      <td>https://e-cdns-images.dzcdn.net/images/cover/e...</td>\n",
       "      <td>https://e-cdns-images.dzcdn.net/images/cover/e...</td>\n",
       "      <td>https://e-cdns-images.dzcdn.net/images/cover/e...</td>\n",
       "      <td>3521.0</td>\n",
       "      <td>NaN</td>\n",
       "      <td>...</td>\n",
       "      <td>16.0</td>\n",
       "      <td>0.0</td>\n",
       "      <td>album</td>\n",
       "      <td>2018-11-09</td>\n",
       "      <td>https://www.deezer.com/album/77874622?utm_sour...</td>\n",
       "      <td>Phoenix</td>\n",
       "      <td>https://api.deezer.com/album/77874622/tracks</td>\n",
       "      <td>{u'data': [{u'title_short': u'Intro (Renaissan...</td>\n",
       "      <td>album</td>\n",
       "      <td>190295531218</td>\n",
       "    </tr>\n",
       "    <tr>\n",
       "      <th>77130752.0</th>\n",
       "      <td>{u'picture': u'https://api.deezer.com/artist/1...</td>\n",
       "      <td>True</td>\n",
       "      <td>[{u'picture': u'https://api.deezer.com/artist/...</td>\n",
       "      <td>https://api.deezer.com/album/77130752/image</td>\n",
       "      <td>https://e-cdns-images.dzcdn.net/images/cover/6...</td>\n",
       "      <td>https://e-cdns-images.dzcdn.net/images/cover/6...</td>\n",
       "      <td>https://e-cdns-images.dzcdn.net/images/cover/6...</td>\n",
       "      <td>https://e-cdns-images.dzcdn.net/images/cover/6...</td>\n",
       "      <td>4177.0</td>\n",
       "      <td>NaN</td>\n",
       "      <td>...</td>\n",
       "      <td>18.0</td>\n",
       "      <td>0.0</td>\n",
       "      <td>album</td>\n",
       "      <td>2016-10-14</td>\n",
       "      <td>https://www.deezer.com/album/77130752?utm_sour...</td>\n",
       "      <td>L'Everest (Deluxe Edition)</td>\n",
       "      <td>https://api.deezer.com/album/77130752/tracks</td>\n",
       "      <td>{u'data': [{u'title_short': u'Everest', u'titl...</td>\n",
       "      <td>album</td>\n",
       "      <td>190295518134</td>\n",
       "    </tr>\n",
       "    <tr>\n",
       "      <th>77126682.0</th>\n",
       "      <td>{u'picture': u'https://api.deezer.com/artist/1...</td>\n",
       "      <td>True</td>\n",
       "      <td>[{u'picture': u'https://api.deezer.com/artist/...</td>\n",
       "      <td>https://api.deezer.com/album/77126682/image</td>\n",
       "      <td>https://e-cdns-images.dzcdn.net/images/cover/6...</td>\n",
       "      <td>https://e-cdns-images.dzcdn.net/images/cover/6...</td>\n",
       "      <td>https://e-cdns-images.dzcdn.net/images/cover/6...</td>\n",
       "      <td>https://e-cdns-images.dzcdn.net/images/cover/6...</td>\n",
       "      <td>6054.0</td>\n",
       "      <td>NaN</td>\n",
       "      <td>...</td>\n",
       "      <td>28.0</td>\n",
       "      <td>0.0</td>\n",
       "      <td>album</td>\n",
       "      <td>2015-08-21</td>\n",
       "      <td>https://www.deezer.com/album/77126682?utm_sour...</td>\n",
       "      <td>Cosmopolitanie (Deluxe Edition)</td>\n",
       "      <td>https://api.deezer.com/album/77126682/tracks</td>\n",
       "      <td>{u'data': [{u'title_short': u'Préface', u'titl...</td>\n",
       "      <td>album</td>\n",
       "      <td>190295519391</td>\n",
       "    </tr>\n",
       "    <tr>\n",
       "      <th>9816130.0</th>\n",
       "      <td>{u'picture': u'https://api.deezer.com/artist/1...</td>\n",
       "      <td>True</td>\n",
       "      <td>[{u'picture': u'https://api.deezer.com/artist/...</td>\n",
       "      <td>https://api.deezer.com/album/9816130/image</td>\n",
       "      <td>https://e-cdns-images.dzcdn.net/images/cover/3...</td>\n",
       "      <td>https://e-cdns-images.dzcdn.net/images/cover/3...</td>\n",
       "      <td>https://e-cdns-images.dzcdn.net/images/cover/3...</td>\n",
       "      <td>https://e-cdns-images.dzcdn.net/images/cover/3...</td>\n",
       "      <td>1753.0</td>\n",
       "      <td>NaN</td>\n",
       "      <td>...</td>\n",
       "      <td>8.0</td>\n",
       "      <td>0.0</td>\n",
       "      <td>album</td>\n",
       "      <td>2015-03-16</td>\n",
       "      <td>https://www.deezer.com/album/9816130?utm_sourc...</td>\n",
       "      <td>Cosmopolitanie (Bonus Tracks)</td>\n",
       "      <td>https://api.deezer.com/album/9816130/tracks</td>\n",
       "      <td>{u'data': [{u'title_short': u'Clown', u'title'...</td>\n",
       "      <td>album</td>\n",
       "      <td>825646119196</td>\n",
       "    </tr>\n",
       "    <tr>\n",
       "      <th>1641895.0</th>\n",
       "      <td>{u'picture': u'https://api.deezer.com/artist/1...</td>\n",
       "      <td>True</td>\n",
       "      <td>[{u'picture': u'https://api.deezer.com/artist/...</td>\n",
       "      <td>https://api.deezer.com/album/1641895/image</td>\n",
       "      <td>https://e-cdns-images.dzcdn.net/images/cover/f...</td>\n",
       "      <td>https://e-cdns-images.dzcdn.net/images/cover/f...</td>\n",
       "      <td>https://e-cdns-images.dzcdn.net/images/cover/f...</td>\n",
       "      <td>https://e-cdns-images.dzcdn.net/images/cover/f...</td>\n",
       "      <td>3194.0</td>\n",
       "      <td>NaN</td>\n",
       "      <td>...</td>\n",
       "      <td>12.0</td>\n",
       "      <td>0.0</td>\n",
       "      <td>album</td>\n",
       "      <td>2012-04-30</td>\n",
       "      <td>https://www.deezer.com/album/1641895?utm_sourc...</td>\n",
       "      <td>E=2MC's</td>\n",
       "      <td>https://api.deezer.com/album/1641895/tracks</td>\n",
       "      <td>{u'data': [{u'title_short': u'Le labo', u'titl...</td>\n",
       "      <td>album</td>\n",
       "      <td>5099962301350</td>\n",
       "    </tr>\n",
       "  </tbody>\n",
       "</table>\n",
       "<p>5 rows × 28 columns</p>\n",
       "</div>"
      ],
      "text/plain": [
       "                                                       artist available  \\\n",
       "id                                                                        \n",
       "77874622.0  {u'picture': u'https://api.deezer.com/artist/1...      True   \n",
       "77130752.0  {u'picture': u'https://api.deezer.com/artist/1...      True   \n",
       "77126682.0  {u'picture': u'https://api.deezer.com/artist/1...      True   \n",
       "9816130.0   {u'picture': u'https://api.deezer.com/artist/1...      True   \n",
       "1641895.0   {u'picture': u'https://api.deezer.com/artist/1...      True   \n",
       "\n",
       "                                                 contributors  \\\n",
       "id                                                              \n",
       "77874622.0  [{u'picture': u'https://api.deezer.com/artist/...   \n",
       "77130752.0  [{u'picture': u'https://api.deezer.com/artist/...   \n",
       "77126682.0  [{u'picture': u'https://api.deezer.com/artist/...   \n",
       "9816130.0   [{u'picture': u'https://api.deezer.com/artist/...   \n",
       "1641895.0   [{u'picture': u'https://api.deezer.com/artist/...   \n",
       "\n",
       "                                                  cover  \\\n",
       "id                                                        \n",
       "77874622.0  https://api.deezer.com/album/77874622/image   \n",
       "77130752.0  https://api.deezer.com/album/77130752/image   \n",
       "77126682.0  https://api.deezer.com/album/77126682/image   \n",
       "9816130.0    https://api.deezer.com/album/9816130/image   \n",
       "1641895.0    https://api.deezer.com/album/1641895/image   \n",
       "\n",
       "                                                    cover_big  \\\n",
       "id                                                              \n",
       "77874622.0  https://e-cdns-images.dzcdn.net/images/cover/e...   \n",
       "77130752.0  https://e-cdns-images.dzcdn.net/images/cover/6...   \n",
       "77126682.0  https://e-cdns-images.dzcdn.net/images/cover/6...   \n",
       "9816130.0   https://e-cdns-images.dzcdn.net/images/cover/3...   \n",
       "1641895.0   https://e-cdns-images.dzcdn.net/images/cover/f...   \n",
       "\n",
       "                                                 cover_medium  \\\n",
       "id                                                              \n",
       "77874622.0  https://e-cdns-images.dzcdn.net/images/cover/e...   \n",
       "77130752.0  https://e-cdns-images.dzcdn.net/images/cover/6...   \n",
       "77126682.0  https://e-cdns-images.dzcdn.net/images/cover/6...   \n",
       "9816130.0   https://e-cdns-images.dzcdn.net/images/cover/3...   \n",
       "1641895.0   https://e-cdns-images.dzcdn.net/images/cover/f...   \n",
       "\n",
       "                                                  cover_small  \\\n",
       "id                                                              \n",
       "77874622.0  https://e-cdns-images.dzcdn.net/images/cover/e...   \n",
       "77130752.0  https://e-cdns-images.dzcdn.net/images/cover/6...   \n",
       "77126682.0  https://e-cdns-images.dzcdn.net/images/cover/6...   \n",
       "9816130.0   https://e-cdns-images.dzcdn.net/images/cover/3...   \n",
       "1641895.0   https://e-cdns-images.dzcdn.net/images/cover/f...   \n",
       "\n",
       "                                                     cover_xl  duration error  \\\n",
       "id                                                                              \n",
       "77874622.0  https://e-cdns-images.dzcdn.net/images/cover/e...    3521.0   NaN   \n",
       "77130752.0  https://e-cdns-images.dzcdn.net/images/cover/6...    4177.0   NaN   \n",
       "77126682.0  https://e-cdns-images.dzcdn.net/images/cover/6...    6054.0   NaN   \n",
       "9816130.0   https://e-cdns-images.dzcdn.net/images/cover/3...    1753.0   NaN   \n",
       "1641895.0   https://e-cdns-images.dzcdn.net/images/cover/f...    3194.0   NaN   \n",
       "\n",
       "            ...  nb_tracks  rating record_type  release_date  \\\n",
       "id          ...                                                \n",
       "77874622.0  ...       16.0     0.0       album    2018-11-09   \n",
       "77130752.0  ...       18.0     0.0       album    2016-10-14   \n",
       "77126682.0  ...       28.0     0.0       album    2015-08-21   \n",
       "9816130.0   ...        8.0     0.0       album    2015-03-16   \n",
       "1641895.0   ...       12.0     0.0       album    2012-04-30   \n",
       "\n",
       "                                                        share  \\\n",
       "id                                                              \n",
       "77874622.0  https://www.deezer.com/album/77874622?utm_sour...   \n",
       "77130752.0  https://www.deezer.com/album/77130752?utm_sour...   \n",
       "77126682.0  https://www.deezer.com/album/77126682?utm_sour...   \n",
       "9816130.0   https://www.deezer.com/album/9816130?utm_sourc...   \n",
       "1641895.0   https://www.deezer.com/album/1641895?utm_sourc...   \n",
       "\n",
       "                                      title  \\\n",
       "id                                            \n",
       "77874622.0                          Phoenix   \n",
       "77130752.0       L'Everest (Deluxe Edition)   \n",
       "77126682.0  Cosmopolitanie (Deluxe Edition)   \n",
       "9816130.0     Cosmopolitanie (Bonus Tracks)   \n",
       "1641895.0                           E=2MC's   \n",
       "\n",
       "                                               tracklist  \\\n",
       "id                                                         \n",
       "77874622.0  https://api.deezer.com/album/77874622/tracks   \n",
       "77130752.0  https://api.deezer.com/album/77130752/tracks   \n",
       "77126682.0  https://api.deezer.com/album/77126682/tracks   \n",
       "9816130.0    https://api.deezer.com/album/9816130/tracks   \n",
       "1641895.0    https://api.deezer.com/album/1641895/tracks   \n",
       "\n",
       "                                                       tracks   type  \\\n",
       "id                                                                     \n",
       "77874622.0  {u'data': [{u'title_short': u'Intro (Renaissan...  album   \n",
       "77130752.0  {u'data': [{u'title_short': u'Everest', u'titl...  album   \n",
       "77126682.0  {u'data': [{u'title_short': u'Préface', u'titl...  album   \n",
       "9816130.0   {u'data': [{u'title_short': u'Clown', u'title'...  album   \n",
       "1641895.0   {u'data': [{u'title_short': u'Le labo', u'titl...  album   \n",
       "\n",
       "                      upc  \n",
       "id                         \n",
       "77874622.0   190295531218  \n",
       "77130752.0   190295518134  \n",
       "77126682.0   190295519391  \n",
       "9816130.0    825646119196  \n",
       "1641895.0   5099962301350  \n",
       "\n",
       "[5 rows x 28 columns]"
      ]
     },
     "execution_count": 3,
     "metadata": {},
     "output_type": "execute_result"
    }
   ],
   "source": [
    "releases_data.head()"
   ]
  },
  {
   "cell_type": "markdown",
   "metadata": {},
   "source": [
    "# Crop data while experimenting"
   ]
  },
  {
   "cell_type": "markdown",
   "metadata": {},
   "source": [
    "And use full data once everything is done"
   ]
  },
  {
   "cell_type": "code",
   "execution_count": 4,
   "metadata": {},
   "outputs": [
    {
     "data": {
      "text/plain": [
       "(60088, 28)"
      ]
     },
     "execution_count": 4,
     "metadata": {},
     "output_type": "execute_result"
    }
   ],
   "source": [
    "releases_data.shape"
   ]
  },
  {
   "cell_type": "code",
   "execution_count": 5,
   "metadata": {},
   "outputs": [],
   "source": [
    "# releases_data = releases_data.iloc[:1000]\n",
    "# releases_data.shape"
   ]
  },
  {
   "cell_type": "markdown",
   "metadata": {},
   "source": [
    "# Brainstorm a list of features"
   ]
  },
  {
   "cell_type": "markdown",
   "metadata": {},
   "source": [
    "- **album id**\n",
    "- **artist id**\n",
    "- **release date**\n",
    "- **album type**\n",
    "- **number of tracks**\n",
    "- **album length**\n",
    "- **total albums released**\n",
    "- **days in music industry (since first release)**\n",
    "- **average artist days to release**\n",
    "- **days since previous release**\n",
    "- **genres (aggregated from tracks)**\n",
    "- albums released during the last year, 2 years, N years...\n",
    "\n",
    "Also, the target\n",
    "- **days until the next release**"
   ]
  },
  {
   "cell_type": "markdown",
   "metadata": {},
   "source": [
    "# Take columns that we want and already have"
   ]
  },
  {
   "cell_type": "code",
   "execution_count": 6,
   "metadata": {},
   "outputs": [
    {
     "data": {
      "text/plain": [
       "Index([u'artist', u'available', u'contributors', u'cover', u'cover_big',\n",
       "       u'cover_medium', u'cover_small', u'cover_xl', u'duration', u'error',\n",
       "       u'explicit_content_cover', u'explicit_content_lyrics',\n",
       "       u'explicit_lyrics', u'fans', u'genre_id', u'genres', u'label', u'link',\n",
       "       u'nb_tracks', u'rating', u'record_type', u'release_date', u'share',\n",
       "       u'title', u'tracklist', u'tracks', u'type', u'upc'],\n",
       "      dtype='object')"
      ]
     },
     "execution_count": 6,
     "metadata": {},
     "output_type": "execute_result"
    }
   ],
   "source": [
    "releases_data.columns"
   ]
  },
  {
   "cell_type": "code",
   "execution_count": 7,
   "metadata": {},
   "outputs": [
    {
     "data": {
      "text/html": [
       "<div>\n",
       "<style scoped>\n",
       "    .dataframe tbody tr th:only-of-type {\n",
       "        vertical-align: middle;\n",
       "    }\n",
       "\n",
       "    .dataframe tbody tr th {\n",
       "        vertical-align: top;\n",
       "    }\n",
       "\n",
       "    .dataframe thead th {\n",
       "        text-align: right;\n",
       "    }\n",
       "</style>\n",
       "<table border=\"1\" class=\"dataframe\">\n",
       "  <thead>\n",
       "    <tr style=\"text-align: right;\">\n",
       "      <th></th>\n",
       "      <th>title</th>\n",
       "      <th>artist</th>\n",
       "      <th>release_date</th>\n",
       "      <th>record_type</th>\n",
       "      <th>nb_tracks</th>\n",
       "      <th>duration</th>\n",
       "      <th>genres</th>\n",
       "      <th>explicit_lyrics</th>\n",
       "    </tr>\n",
       "    <tr>\n",
       "      <th>id</th>\n",
       "      <th></th>\n",
       "      <th></th>\n",
       "      <th></th>\n",
       "      <th></th>\n",
       "      <th></th>\n",
       "      <th></th>\n",
       "      <th></th>\n",
       "      <th></th>\n",
       "    </tr>\n",
       "  </thead>\n",
       "  <tbody>\n",
       "    <tr>\n",
       "      <th>77874622.0</th>\n",
       "      <td>Phoenix</td>\n",
       "      <td>{u'picture': u'https://api.deezer.com/artist/1...</td>\n",
       "      <td>2018-11-09</td>\n",
       "      <td>album</td>\n",
       "      <td>16.0</td>\n",
       "      <td>3521.0</td>\n",
       "      <td>{u'data': [{u'picture': u'https://api.deezer.c...</td>\n",
       "      <td>False</td>\n",
       "    </tr>\n",
       "    <tr>\n",
       "      <th>77130752.0</th>\n",
       "      <td>L'Everest (Deluxe Edition)</td>\n",
       "      <td>{u'picture': u'https://api.deezer.com/artist/1...</td>\n",
       "      <td>2016-10-14</td>\n",
       "      <td>album</td>\n",
       "      <td>18.0</td>\n",
       "      <td>4177.0</td>\n",
       "      <td>{u'data': [{u'picture': u'https://api.deezer.c...</td>\n",
       "      <td>False</td>\n",
       "    </tr>\n",
       "    <tr>\n",
       "      <th>77126682.0</th>\n",
       "      <td>Cosmopolitanie (Deluxe Edition)</td>\n",
       "      <td>{u'picture': u'https://api.deezer.com/artist/1...</td>\n",
       "      <td>2015-08-21</td>\n",
       "      <td>album</td>\n",
       "      <td>28.0</td>\n",
       "      <td>6054.0</td>\n",
       "      <td>{u'data': [{u'picture': u'https://api.deezer.c...</td>\n",
       "      <td>True</td>\n",
       "    </tr>\n",
       "    <tr>\n",
       "      <th>9816130.0</th>\n",
       "      <td>Cosmopolitanie (Bonus Tracks)</td>\n",
       "      <td>{u'picture': u'https://api.deezer.com/artist/1...</td>\n",
       "      <td>2015-03-16</td>\n",
       "      <td>album</td>\n",
       "      <td>8.0</td>\n",
       "      <td>1753.0</td>\n",
       "      <td>{u'data': [{u'picture': u'https://api.deezer.c...</td>\n",
       "      <td>False</td>\n",
       "    </tr>\n",
       "    <tr>\n",
       "      <th>1641895.0</th>\n",
       "      <td>E=2MC's</td>\n",
       "      <td>{u'picture': u'https://api.deezer.com/artist/1...</td>\n",
       "      <td>2012-04-30</td>\n",
       "      <td>album</td>\n",
       "      <td>12.0</td>\n",
       "      <td>3194.0</td>\n",
       "      <td>{u'data': [{u'picture': u'https://api.deezer.c...</td>\n",
       "      <td>False</td>\n",
       "    </tr>\n",
       "  </tbody>\n",
       "</table>\n",
       "</div>"
      ],
      "text/plain": [
       "                                      title  \\\n",
       "id                                            \n",
       "77874622.0                          Phoenix   \n",
       "77130752.0       L'Everest (Deluxe Edition)   \n",
       "77126682.0  Cosmopolitanie (Deluxe Edition)   \n",
       "9816130.0     Cosmopolitanie (Bonus Tracks)   \n",
       "1641895.0                           E=2MC's   \n",
       "\n",
       "                                                       artist release_date  \\\n",
       "id                                                                           \n",
       "77874622.0  {u'picture': u'https://api.deezer.com/artist/1...   2018-11-09   \n",
       "77130752.0  {u'picture': u'https://api.deezer.com/artist/1...   2016-10-14   \n",
       "77126682.0  {u'picture': u'https://api.deezer.com/artist/1...   2015-08-21   \n",
       "9816130.0   {u'picture': u'https://api.deezer.com/artist/1...   2015-03-16   \n",
       "1641895.0   {u'picture': u'https://api.deezer.com/artist/1...   2012-04-30   \n",
       "\n",
       "           record_type  nb_tracks  duration  \\\n",
       "id                                            \n",
       "77874622.0       album       16.0    3521.0   \n",
       "77130752.0       album       18.0    4177.0   \n",
       "77126682.0       album       28.0    6054.0   \n",
       "9816130.0        album        8.0    1753.0   \n",
       "1641895.0        album       12.0    3194.0   \n",
       "\n",
       "                                                       genres explicit_lyrics  \n",
       "id                                                                             \n",
       "77874622.0  {u'data': [{u'picture': u'https://api.deezer.c...           False  \n",
       "77130752.0  {u'data': [{u'picture': u'https://api.deezer.c...           False  \n",
       "77126682.0  {u'data': [{u'picture': u'https://api.deezer.c...            True  \n",
       "9816130.0   {u'data': [{u'picture': u'https://api.deezer.c...           False  \n",
       "1641895.0   {u'data': [{u'picture': u'https://api.deezer.c...           False  "
      ]
     },
     "execution_count": 7,
     "metadata": {},
     "output_type": "execute_result"
    }
   ],
   "source": [
    "list_of_columns = [\n",
    "    'title',\n",
    "    'artist',\n",
    "    'release_date',\n",
    "    'record_type',\n",
    "    'nb_tracks',\n",
    "    'duration',\n",
    "    'genres',\n",
    "    'explicit_lyrics',\n",
    "]\n",
    "releases_data[list_of_columns].head()"
   ]
  },
  {
   "cell_type": "code",
   "execution_count": 8,
   "metadata": {},
   "outputs": [
    {
     "data": {
      "text/plain": [
       "(60088, 8)"
      ]
     },
     "execution_count": 8,
     "metadata": {},
     "output_type": "execute_result"
    }
   ],
   "source": [
    "df = releases_data[list_of_columns]\n",
    "df.shape"
   ]
  },
  {
   "cell_type": "markdown",
   "metadata": {},
   "source": [
    "# Check for missing values"
   ]
  },
  {
   "cell_type": "code",
   "execution_count": 9,
   "metadata": {},
   "outputs": [
    {
     "data": {
      "text/plain": [
       "title              6\n",
       "artist             6\n",
       "release_date       6\n",
       "record_type        6\n",
       "nb_tracks          6\n",
       "duration           6\n",
       "genres             6\n",
       "explicit_lyrics    6\n",
       "dtype: int64"
      ]
     },
     "execution_count": 9,
     "metadata": {},
     "output_type": "execute_result"
    }
   ],
   "source": [
    "df.isnull().sum()"
   ]
  },
  {
   "cell_type": "code",
   "execution_count": 10,
   "metadata": {},
   "outputs": [],
   "source": [
    "# df[df.isnull()['title']]"
   ]
  },
  {
   "cell_type": "code",
   "execution_count": 11,
   "metadata": {},
   "outputs": [],
   "source": [
    "df = df.dropna()"
   ]
  },
  {
   "cell_type": "code",
   "execution_count": 12,
   "metadata": {},
   "outputs": [
    {
     "data": {
      "text/plain": [
       "title              0\n",
       "artist             0\n",
       "release_date       0\n",
       "record_type        0\n",
       "nb_tracks          0\n",
       "duration           0\n",
       "genres             0\n",
       "explicit_lyrics    0\n",
       "dtype: int64"
      ]
     },
     "execution_count": 12,
     "metadata": {},
     "output_type": "execute_result"
    }
   ],
   "source": [
    "df.isnull().sum()"
   ]
  },
  {
   "cell_type": "code",
   "execution_count": 13,
   "metadata": {},
   "outputs": [],
   "source": [
    "# df.shape"
   ]
  },
  {
   "cell_type": "markdown",
   "metadata": {},
   "source": [
    "# Artist name & id"
   ]
  },
  {
   "cell_type": "code",
   "execution_count": 14,
   "metadata": {},
   "outputs": [],
   "source": [
    "# artist = df['artist'].iloc[0]\n",
    "# artist"
   ]
  },
  {
   "cell_type": "code",
   "execution_count": 15,
   "metadata": {},
   "outputs": [],
   "source": [
    "# artist = artist.replace('\"', '\\\"').replace(\"u'\", '\"').replace(\"',\", '\",').replace(\"':\", '\":').replace(\"'}\", '\"}').replace(\"']\", '\"]')\n",
    "# artist"
   ]
  },
  {
   "cell_type": "code",
   "execution_count": 16,
   "metadata": {},
   "outputs": [],
   "source": [
    "def replace_quotes(string):\n",
    "    return(string.replace('\"', '\\\\\"').replace(\" u'\", ' \"').replace(\"{u'\", '{\"').replace(\"',\", '\",').replace(\"':\", '\":').replace(\"'}\", '\"}').replace(\"']\", '\"]'))"
   ]
  },
  {
   "cell_type": "code",
   "execution_count": 17,
   "metadata": {},
   "outputs": [],
   "source": [
    "# s = \"{u'picture': u'https://api.deezer.com/artist/1038436/image', u'name': u'Nat \\\"\\\"King\\\"\\\" Cole Trio', u'picture_medium': u'https://e-cdns-images.dzcdn.net/images/artist//250x250-000000-80-0-0.jpg', u'type': u'artist', u'picture_small': u'https://e-cdns-images.dzcdn.net/images/artist//56x56-000000-80-0-0.jpg', u'picture_xl': u'https://e-cdns-images.dzcdn.net/images/artist//1000x1000-000000-80-0-0.jpg', u'tracklist': u'https://api.deezer.com/artist/1038436/top?limit=50', u'id': 1038436, u'picture_big': u'https://e-cdns-images.dzcdn.net/images/artist//500x500-000000-80-0-0.jpg'}\"\n",
    "# replace_quotes(s)\n",
    "# replace_quotes('{\"picture\": \"https://api.deezer.com/artist/211347/image\", \"name\": \"Gur\"s Jazzmatazz\", \"picture_medium\": \"https://e-cdns-images.dzcdn.net/images/artist/1a7a7785791b4cca9fd3a9ed10bc23f0/250x250-000000-80-0-0.jpg\", \"type\": \"artist\", \"picture_small\": \"https://e-cdns-images.dzcdn.net/images/artist/1a7a7785791b4cca9fd3a9ed10bc23f0/56x56-000000-80-0-0.jpg\", \"picture_xl\": \"https://e-cdns-images.dzcdn.net/images/artist/1a7a7785791b4cca9fd3a9ed10bc23f0/1000x1000-000000-80-0-0.jpg\", \"tracklist\": \"https://api.deezer.com/artist/211347/top?limit=50\", \"id\": 211347, \"picture_big\": \"https://e-cdns-images.dzcdn.net/images/artist/1a7a7785791b4cca9fd3a9ed10bc23f0/500x500-000000-80-0-0.jpg\"}')"
   ]
  },
  {
   "cell_type": "code",
   "execution_count": 18,
   "metadata": {},
   "outputs": [],
   "source": [
    "# json.loads(replace_quotes(s))"
   ]
  },
  {
   "cell_type": "code",
   "execution_count": 19,
   "metadata": {},
   "outputs": [],
   "source": [
    "# artist_json = json.loads(artist)\n",
    "# artist_json"
   ]
  },
  {
   "cell_type": "code",
   "execution_count": 20,
   "metadata": {},
   "outputs": [],
   "source": [
    "# artist_json['name']"
   ]
  },
  {
   "cell_type": "code",
   "execution_count": 21,
   "metadata": {},
   "outputs": [],
   "source": [
    "# artist_json['id']"
   ]
  },
  {
   "cell_type": "code",
   "execution_count": 22,
   "metadata": {},
   "outputs": [],
   "source": [
    "# df['artist'].head().apply(replace_quotes)"
   ]
  },
  {
   "cell_type": "code",
   "execution_count": 23,
   "metadata": {},
   "outputs": [],
   "source": [
    "# df['artist'].head().apply(replace_quotes).apply(json.loads)"
   ]
  },
  {
   "cell_type": "code",
   "execution_count": 24,
   "metadata": {},
   "outputs": [],
   "source": [
    "def artist_name(artist_json):\n",
    "    return(artist_json['name'])\n",
    "# artist_name(artist_json)"
   ]
  },
  {
   "cell_type": "code",
   "execution_count": 25,
   "metadata": {},
   "outputs": [],
   "source": [
    "artist_jsons = df['artist'].apply(replace_quotes).apply(json.loads)"
   ]
  },
  {
   "cell_type": "code",
   "execution_count": 26,
   "metadata": {},
   "outputs": [
    {
     "data": {
      "text/plain": [
       "id\n",
       "77874622.0    Soprano\n",
       "77130752.0    Soprano\n",
       "77126682.0    Soprano\n",
       "9816130.0     Soprano\n",
       "1641895.0     Soprano\n",
       "Name: artist, dtype: object"
      ]
     },
     "execution_count": 26,
     "metadata": {},
     "output_type": "execute_result"
    }
   ],
   "source": [
    "artist_jsons.head().apply(artist_name)"
   ]
  },
  {
   "cell_type": "code",
   "execution_count": 27,
   "metadata": {},
   "outputs": [
    {
     "data": {
      "text/html": [
       "<div>\n",
       "<style scoped>\n",
       "    .dataframe tbody tr th:only-of-type {\n",
       "        vertical-align: middle;\n",
       "    }\n",
       "\n",
       "    .dataframe tbody tr th {\n",
       "        vertical-align: top;\n",
       "    }\n",
       "\n",
       "    .dataframe thead th {\n",
       "        text-align: right;\n",
       "    }\n",
       "</style>\n",
       "<table border=\"1\" class=\"dataframe\">\n",
       "  <thead>\n",
       "    <tr style=\"text-align: right;\">\n",
       "      <th></th>\n",
       "      <th>title</th>\n",
       "      <th>artist_name</th>\n",
       "      <th>artist</th>\n",
       "      <th>release_date</th>\n",
       "      <th>record_type</th>\n",
       "      <th>nb_tracks</th>\n",
       "      <th>duration</th>\n",
       "      <th>genres</th>\n",
       "      <th>explicit_lyrics</th>\n",
       "    </tr>\n",
       "    <tr>\n",
       "      <th>id</th>\n",
       "      <th></th>\n",
       "      <th></th>\n",
       "      <th></th>\n",
       "      <th></th>\n",
       "      <th></th>\n",
       "      <th></th>\n",
       "      <th></th>\n",
       "      <th></th>\n",
       "      <th></th>\n",
       "    </tr>\n",
       "  </thead>\n",
       "  <tbody>\n",
       "    <tr>\n",
       "      <th>77874622.0</th>\n",
       "      <td>Phoenix</td>\n",
       "      <td>Soprano</td>\n",
       "      <td>{u'picture': u'https://api.deezer.com/artist/1...</td>\n",
       "      <td>2018-11-09</td>\n",
       "      <td>album</td>\n",
       "      <td>16.0</td>\n",
       "      <td>3521.0</td>\n",
       "      <td>{u'data': [{u'picture': u'https://api.deezer.c...</td>\n",
       "      <td>False</td>\n",
       "    </tr>\n",
       "    <tr>\n",
       "      <th>77130752.0</th>\n",
       "      <td>L'Everest (Deluxe Edition)</td>\n",
       "      <td>Soprano</td>\n",
       "      <td>{u'picture': u'https://api.deezer.com/artist/1...</td>\n",
       "      <td>2016-10-14</td>\n",
       "      <td>album</td>\n",
       "      <td>18.0</td>\n",
       "      <td>4177.0</td>\n",
       "      <td>{u'data': [{u'picture': u'https://api.deezer.c...</td>\n",
       "      <td>False</td>\n",
       "    </tr>\n",
       "    <tr>\n",
       "      <th>77126682.0</th>\n",
       "      <td>Cosmopolitanie (Deluxe Edition)</td>\n",
       "      <td>Soprano</td>\n",
       "      <td>{u'picture': u'https://api.deezer.com/artist/1...</td>\n",
       "      <td>2015-08-21</td>\n",
       "      <td>album</td>\n",
       "      <td>28.0</td>\n",
       "      <td>6054.0</td>\n",
       "      <td>{u'data': [{u'picture': u'https://api.deezer.c...</td>\n",
       "      <td>True</td>\n",
       "    </tr>\n",
       "    <tr>\n",
       "      <th>9816130.0</th>\n",
       "      <td>Cosmopolitanie (Bonus Tracks)</td>\n",
       "      <td>Soprano</td>\n",
       "      <td>{u'picture': u'https://api.deezer.com/artist/1...</td>\n",
       "      <td>2015-03-16</td>\n",
       "      <td>album</td>\n",
       "      <td>8.0</td>\n",
       "      <td>1753.0</td>\n",
       "      <td>{u'data': [{u'picture': u'https://api.deezer.c...</td>\n",
       "      <td>False</td>\n",
       "    </tr>\n",
       "    <tr>\n",
       "      <th>1641895.0</th>\n",
       "      <td>E=2MC's</td>\n",
       "      <td>Soprano</td>\n",
       "      <td>{u'picture': u'https://api.deezer.com/artist/1...</td>\n",
       "      <td>2012-04-30</td>\n",
       "      <td>album</td>\n",
       "      <td>12.0</td>\n",
       "      <td>3194.0</td>\n",
       "      <td>{u'data': [{u'picture': u'https://api.deezer.c...</td>\n",
       "      <td>False</td>\n",
       "    </tr>\n",
       "  </tbody>\n",
       "</table>\n",
       "</div>"
      ],
      "text/plain": [
       "                                      title artist_name  \\\n",
       "id                                                        \n",
       "77874622.0                          Phoenix     Soprano   \n",
       "77130752.0       L'Everest (Deluxe Edition)     Soprano   \n",
       "77126682.0  Cosmopolitanie (Deluxe Edition)     Soprano   \n",
       "9816130.0     Cosmopolitanie (Bonus Tracks)     Soprano   \n",
       "1641895.0                           E=2MC's     Soprano   \n",
       "\n",
       "                                                       artist release_date  \\\n",
       "id                                                                           \n",
       "77874622.0  {u'picture': u'https://api.deezer.com/artist/1...   2018-11-09   \n",
       "77130752.0  {u'picture': u'https://api.deezer.com/artist/1...   2016-10-14   \n",
       "77126682.0  {u'picture': u'https://api.deezer.com/artist/1...   2015-08-21   \n",
       "9816130.0   {u'picture': u'https://api.deezer.com/artist/1...   2015-03-16   \n",
       "1641895.0   {u'picture': u'https://api.deezer.com/artist/1...   2012-04-30   \n",
       "\n",
       "           record_type  nb_tracks  duration  \\\n",
       "id                                            \n",
       "77874622.0       album       16.0    3521.0   \n",
       "77130752.0       album       18.0    4177.0   \n",
       "77126682.0       album       28.0    6054.0   \n",
       "9816130.0        album        8.0    1753.0   \n",
       "1641895.0        album       12.0    3194.0   \n",
       "\n",
       "                                                       genres explicit_lyrics  \n",
       "id                                                                             \n",
       "77874622.0  {u'data': [{u'picture': u'https://api.deezer.c...           False  \n",
       "77130752.0  {u'data': [{u'picture': u'https://api.deezer.c...           False  \n",
       "77126682.0  {u'data': [{u'picture': u'https://api.deezer.c...            True  \n",
       "9816130.0   {u'data': [{u'picture': u'https://api.deezer.c...           False  \n",
       "1641895.0   {u'data': [{u'picture': u'https://api.deezer.c...           False  "
      ]
     },
     "execution_count": 27,
     "metadata": {},
     "output_type": "execute_result"
    }
   ],
   "source": [
    "df.insert(1, 'artist_name', artist_jsons.apply(artist_name))\n",
    "df.head()"
   ]
  },
  {
   "cell_type": "code",
   "execution_count": 28,
   "metadata": {},
   "outputs": [],
   "source": [
    "def artist_id(artist_json):\n",
    "    return(artist_json['id'])\n",
    "# artist_id(artist_json)"
   ]
  },
  {
   "cell_type": "code",
   "execution_count": 29,
   "metadata": {},
   "outputs": [
    {
     "data": {
      "text/plain": [
       "id\n",
       "77874622.0    13011\n",
       "77130752.0    13011\n",
       "77126682.0    13011\n",
       "9816130.0     13011\n",
       "1641895.0     13011\n",
       "Name: artist, dtype: int64"
      ]
     },
     "execution_count": 29,
     "metadata": {},
     "output_type": "execute_result"
    }
   ],
   "source": [
    "artist_jsons.head().apply(artist_id)"
   ]
  },
  {
   "cell_type": "code",
   "execution_count": 30,
   "metadata": {},
   "outputs": [
    {
     "data": {
      "text/html": [
       "<div>\n",
       "<style scoped>\n",
       "    .dataframe tbody tr th:only-of-type {\n",
       "        vertical-align: middle;\n",
       "    }\n",
       "\n",
       "    .dataframe tbody tr th {\n",
       "        vertical-align: top;\n",
       "    }\n",
       "\n",
       "    .dataframe thead th {\n",
       "        text-align: right;\n",
       "    }\n",
       "</style>\n",
       "<table border=\"1\" class=\"dataframe\">\n",
       "  <thead>\n",
       "    <tr style=\"text-align: right;\">\n",
       "      <th></th>\n",
       "      <th>title</th>\n",
       "      <th>artist_name</th>\n",
       "      <th>artist_id</th>\n",
       "      <th>artist</th>\n",
       "      <th>release_date</th>\n",
       "      <th>record_type</th>\n",
       "      <th>nb_tracks</th>\n",
       "      <th>duration</th>\n",
       "      <th>genres</th>\n",
       "      <th>explicit_lyrics</th>\n",
       "    </tr>\n",
       "    <tr>\n",
       "      <th>id</th>\n",
       "      <th></th>\n",
       "      <th></th>\n",
       "      <th></th>\n",
       "      <th></th>\n",
       "      <th></th>\n",
       "      <th></th>\n",
       "      <th></th>\n",
       "      <th></th>\n",
       "      <th></th>\n",
       "      <th></th>\n",
       "    </tr>\n",
       "  </thead>\n",
       "  <tbody>\n",
       "    <tr>\n",
       "      <th>77874622.0</th>\n",
       "      <td>Phoenix</td>\n",
       "      <td>Soprano</td>\n",
       "      <td>13011</td>\n",
       "      <td>{u'picture': u'https://api.deezer.com/artist/1...</td>\n",
       "      <td>2018-11-09</td>\n",
       "      <td>album</td>\n",
       "      <td>16.0</td>\n",
       "      <td>3521.0</td>\n",
       "      <td>{u'data': [{u'picture': u'https://api.deezer.c...</td>\n",
       "      <td>False</td>\n",
       "    </tr>\n",
       "    <tr>\n",
       "      <th>77130752.0</th>\n",
       "      <td>L'Everest (Deluxe Edition)</td>\n",
       "      <td>Soprano</td>\n",
       "      <td>13011</td>\n",
       "      <td>{u'picture': u'https://api.deezer.com/artist/1...</td>\n",
       "      <td>2016-10-14</td>\n",
       "      <td>album</td>\n",
       "      <td>18.0</td>\n",
       "      <td>4177.0</td>\n",
       "      <td>{u'data': [{u'picture': u'https://api.deezer.c...</td>\n",
       "      <td>False</td>\n",
       "    </tr>\n",
       "    <tr>\n",
       "      <th>77126682.0</th>\n",
       "      <td>Cosmopolitanie (Deluxe Edition)</td>\n",
       "      <td>Soprano</td>\n",
       "      <td>13011</td>\n",
       "      <td>{u'picture': u'https://api.deezer.com/artist/1...</td>\n",
       "      <td>2015-08-21</td>\n",
       "      <td>album</td>\n",
       "      <td>28.0</td>\n",
       "      <td>6054.0</td>\n",
       "      <td>{u'data': [{u'picture': u'https://api.deezer.c...</td>\n",
       "      <td>True</td>\n",
       "    </tr>\n",
       "    <tr>\n",
       "      <th>9816130.0</th>\n",
       "      <td>Cosmopolitanie (Bonus Tracks)</td>\n",
       "      <td>Soprano</td>\n",
       "      <td>13011</td>\n",
       "      <td>{u'picture': u'https://api.deezer.com/artist/1...</td>\n",
       "      <td>2015-03-16</td>\n",
       "      <td>album</td>\n",
       "      <td>8.0</td>\n",
       "      <td>1753.0</td>\n",
       "      <td>{u'data': [{u'picture': u'https://api.deezer.c...</td>\n",
       "      <td>False</td>\n",
       "    </tr>\n",
       "    <tr>\n",
       "      <th>1641895.0</th>\n",
       "      <td>E=2MC's</td>\n",
       "      <td>Soprano</td>\n",
       "      <td>13011</td>\n",
       "      <td>{u'picture': u'https://api.deezer.com/artist/1...</td>\n",
       "      <td>2012-04-30</td>\n",
       "      <td>album</td>\n",
       "      <td>12.0</td>\n",
       "      <td>3194.0</td>\n",
       "      <td>{u'data': [{u'picture': u'https://api.deezer.c...</td>\n",
       "      <td>False</td>\n",
       "    </tr>\n",
       "  </tbody>\n",
       "</table>\n",
       "</div>"
      ],
      "text/plain": [
       "                                      title artist_name  artist_id  \\\n",
       "id                                                                   \n",
       "77874622.0                          Phoenix     Soprano      13011   \n",
       "77130752.0       L'Everest (Deluxe Edition)     Soprano      13011   \n",
       "77126682.0  Cosmopolitanie (Deluxe Edition)     Soprano      13011   \n",
       "9816130.0     Cosmopolitanie (Bonus Tracks)     Soprano      13011   \n",
       "1641895.0                           E=2MC's     Soprano      13011   \n",
       "\n",
       "                                                       artist release_date  \\\n",
       "id                                                                           \n",
       "77874622.0  {u'picture': u'https://api.deezer.com/artist/1...   2018-11-09   \n",
       "77130752.0  {u'picture': u'https://api.deezer.com/artist/1...   2016-10-14   \n",
       "77126682.0  {u'picture': u'https://api.deezer.com/artist/1...   2015-08-21   \n",
       "9816130.0   {u'picture': u'https://api.deezer.com/artist/1...   2015-03-16   \n",
       "1641895.0   {u'picture': u'https://api.deezer.com/artist/1...   2012-04-30   \n",
       "\n",
       "           record_type  nb_tracks  duration  \\\n",
       "id                                            \n",
       "77874622.0       album       16.0    3521.0   \n",
       "77130752.0       album       18.0    4177.0   \n",
       "77126682.0       album       28.0    6054.0   \n",
       "9816130.0        album        8.0    1753.0   \n",
       "1641895.0        album       12.0    3194.0   \n",
       "\n",
       "                                                       genres explicit_lyrics  \n",
       "id                                                                             \n",
       "77874622.0  {u'data': [{u'picture': u'https://api.deezer.c...           False  \n",
       "77130752.0  {u'data': [{u'picture': u'https://api.deezer.c...           False  \n",
       "77126682.0  {u'data': [{u'picture': u'https://api.deezer.c...            True  \n",
       "9816130.0   {u'data': [{u'picture': u'https://api.deezer.c...           False  \n",
       "1641895.0   {u'data': [{u'picture': u'https://api.deezer.c...           False  "
      ]
     },
     "execution_count": 30,
     "metadata": {},
     "output_type": "execute_result"
    }
   ],
   "source": [
    "df.insert(2, 'artist_id', artist_jsons.apply(artist_id))\n",
    "df.head()"
   ]
  },
  {
   "cell_type": "markdown",
   "metadata": {},
   "source": [
    "# Release date to datetime conversion"
   ]
  },
  {
   "cell_type": "code",
   "execution_count": 31,
   "metadata": {},
   "outputs": [
    {
     "data": {
      "text/html": [
       "<div>\n",
       "<style scoped>\n",
       "    .dataframe tbody tr th:only-of-type {\n",
       "        vertical-align: middle;\n",
       "    }\n",
       "\n",
       "    .dataframe tbody tr th {\n",
       "        vertical-align: top;\n",
       "    }\n",
       "\n",
       "    .dataframe thead th {\n",
       "        text-align: right;\n",
       "    }\n",
       "</style>\n",
       "<table border=\"1\" class=\"dataframe\">\n",
       "  <thead>\n",
       "    <tr style=\"text-align: right;\">\n",
       "      <th></th>\n",
       "      <th>title</th>\n",
       "      <th>artist_name</th>\n",
       "      <th>artist_id</th>\n",
       "      <th>artist</th>\n",
       "      <th>release_date</th>\n",
       "      <th>record_type</th>\n",
       "      <th>nb_tracks</th>\n",
       "      <th>duration</th>\n",
       "      <th>genres</th>\n",
       "      <th>explicit_lyrics</th>\n",
       "    </tr>\n",
       "    <tr>\n",
       "      <th>id</th>\n",
       "      <th></th>\n",
       "      <th></th>\n",
       "      <th></th>\n",
       "      <th></th>\n",
       "      <th></th>\n",
       "      <th></th>\n",
       "      <th></th>\n",
       "      <th></th>\n",
       "      <th></th>\n",
       "      <th></th>\n",
       "    </tr>\n",
       "  </thead>\n",
       "  <tbody>\n",
       "    <tr>\n",
       "      <th>14123064.0</th>\n",
       "      <td>NYC</td>\n",
       "      <td>Chris Lake</td>\n",
       "      <td>11799</td>\n",
       "      <td>{u'picture': u'https://api.deezer.com/artist/1...</td>\n",
       "      <td>0011-09-03</td>\n",
       "      <td>single</td>\n",
       "      <td>2.0</td>\n",
       "      <td>768.0</td>\n",
       "      <td>{u'data': [{u'picture': u'https://api.deezer.c...</td>\n",
       "      <td>False</td>\n",
       "    </tr>\n",
       "    <tr>\n",
       "      <th>4551621.0</th>\n",
       "      <td>Unhappy Ending Dream</td>\n",
       "      <td>Unique</td>\n",
       "      <td>13675</td>\n",
       "      <td>{u'picture': u'https://api.deezer.com/artist/1...</td>\n",
       "      <td>0000-00-00</td>\n",
       "      <td>ep</td>\n",
       "      <td>7.0</td>\n",
       "      <td>2532.0</td>\n",
       "      <td>{u'data': []}</td>\n",
       "      <td>False</td>\n",
       "    </tr>\n",
       "    <tr>\n",
       "      <th>4551611.0</th>\n",
       "      <td>Hiszed vagy sem</td>\n",
       "      <td>Unique</td>\n",
       "      <td>13675</td>\n",
       "      <td>{u'picture': u'https://api.deezer.com/artist/1...</td>\n",
       "      <td>0000-00-00</td>\n",
       "      <td>ep</td>\n",
       "      <td>7.0</td>\n",
       "      <td>2532.0</td>\n",
       "      <td>{u'data': []}</td>\n",
       "      <td>False</td>\n",
       "    </tr>\n",
       "  </tbody>\n",
       "</table>\n",
       "</div>"
      ],
      "text/plain": [
       "                           title artist_name  artist_id  \\\n",
       "id                                                        \n",
       "14123064.0                   NYC  Chris Lake      11799   \n",
       "4551621.0   Unhappy Ending Dream      Unique      13675   \n",
       "4551611.0        Hiszed vagy sem      Unique      13675   \n",
       "\n",
       "                                                       artist release_date  \\\n",
       "id                                                                           \n",
       "14123064.0  {u'picture': u'https://api.deezer.com/artist/1...   0011-09-03   \n",
       "4551621.0   {u'picture': u'https://api.deezer.com/artist/1...   0000-00-00   \n",
       "4551611.0   {u'picture': u'https://api.deezer.com/artist/1...   0000-00-00   \n",
       "\n",
       "           record_type  nb_tracks  duration  \\\n",
       "id                                            \n",
       "14123064.0      single        2.0     768.0   \n",
       "4551621.0           ep        7.0    2532.0   \n",
       "4551611.0           ep        7.0    2532.0   \n",
       "\n",
       "                                                       genres explicit_lyrics  \n",
       "id                                                                             \n",
       "14123064.0  {u'data': [{u'picture': u'https://api.deezer.c...           False  \n",
       "4551621.0                                       {u'data': []}           False  \n",
       "4551611.0                                       {u'data': []}           False  "
      ]
     },
     "execution_count": 31,
     "metadata": {},
     "output_type": "execute_result"
    }
   ],
   "source": [
    "df[df['release_date'] < '1900-01-01']"
   ]
  },
  {
   "cell_type": "code",
   "execution_count": 32,
   "metadata": {},
   "outputs": [],
   "source": [
    "df = df[df['release_date'] > '1900-01-01']"
   ]
  },
  {
   "cell_type": "code",
   "execution_count": 33,
   "metadata": {},
   "outputs": [
    {
     "data": {
      "text/html": [
       "<div>\n",
       "<style scoped>\n",
       "    .dataframe tbody tr th:only-of-type {\n",
       "        vertical-align: middle;\n",
       "    }\n",
       "\n",
       "    .dataframe tbody tr th {\n",
       "        vertical-align: top;\n",
       "    }\n",
       "\n",
       "    .dataframe thead th {\n",
       "        text-align: right;\n",
       "    }\n",
       "</style>\n",
       "<table border=\"1\" class=\"dataframe\">\n",
       "  <thead>\n",
       "    <tr style=\"text-align: right;\">\n",
       "      <th></th>\n",
       "      <th>title</th>\n",
       "      <th>artist_name</th>\n",
       "      <th>artist_id</th>\n",
       "      <th>artist</th>\n",
       "      <th>release_date</th>\n",
       "      <th>record_type</th>\n",
       "      <th>nb_tracks</th>\n",
       "      <th>duration</th>\n",
       "      <th>genres</th>\n",
       "      <th>explicit_lyrics</th>\n",
       "    </tr>\n",
       "    <tr>\n",
       "      <th>id</th>\n",
       "      <th></th>\n",
       "      <th></th>\n",
       "      <th></th>\n",
       "      <th></th>\n",
       "      <th></th>\n",
       "      <th></th>\n",
       "      <th></th>\n",
       "      <th></th>\n",
       "      <th></th>\n",
       "      <th></th>\n",
       "    </tr>\n",
       "  </thead>\n",
       "  <tbody>\n",
       "    <tr>\n",
       "      <th>77874622.0</th>\n",
       "      <td>Phoenix</td>\n",
       "      <td>Soprano</td>\n",
       "      <td>13011</td>\n",
       "      <td>{u'picture': u'https://api.deezer.com/artist/1...</td>\n",
       "      <td>2018-11-09</td>\n",
       "      <td>album</td>\n",
       "      <td>16.0</td>\n",
       "      <td>3521.0</td>\n",
       "      <td>{u'data': [{u'picture': u'https://api.deezer.c...</td>\n",
       "      <td>False</td>\n",
       "    </tr>\n",
       "    <tr>\n",
       "      <th>77130752.0</th>\n",
       "      <td>L'Everest (Deluxe Edition)</td>\n",
       "      <td>Soprano</td>\n",
       "      <td>13011</td>\n",
       "      <td>{u'picture': u'https://api.deezer.com/artist/1...</td>\n",
       "      <td>2016-10-14</td>\n",
       "      <td>album</td>\n",
       "      <td>18.0</td>\n",
       "      <td>4177.0</td>\n",
       "      <td>{u'data': [{u'picture': u'https://api.deezer.c...</td>\n",
       "      <td>False</td>\n",
       "    </tr>\n",
       "    <tr>\n",
       "      <th>77126682.0</th>\n",
       "      <td>Cosmopolitanie (Deluxe Edition)</td>\n",
       "      <td>Soprano</td>\n",
       "      <td>13011</td>\n",
       "      <td>{u'picture': u'https://api.deezer.com/artist/1...</td>\n",
       "      <td>2015-08-21</td>\n",
       "      <td>album</td>\n",
       "      <td>28.0</td>\n",
       "      <td>6054.0</td>\n",
       "      <td>{u'data': [{u'picture': u'https://api.deezer.c...</td>\n",
       "      <td>True</td>\n",
       "    </tr>\n",
       "    <tr>\n",
       "      <th>9816130.0</th>\n",
       "      <td>Cosmopolitanie (Bonus Tracks)</td>\n",
       "      <td>Soprano</td>\n",
       "      <td>13011</td>\n",
       "      <td>{u'picture': u'https://api.deezer.com/artist/1...</td>\n",
       "      <td>2015-03-16</td>\n",
       "      <td>album</td>\n",
       "      <td>8.0</td>\n",
       "      <td>1753.0</td>\n",
       "      <td>{u'data': [{u'picture': u'https://api.deezer.c...</td>\n",
       "      <td>False</td>\n",
       "    </tr>\n",
       "    <tr>\n",
       "      <th>1641895.0</th>\n",
       "      <td>E=2MC's</td>\n",
       "      <td>Soprano</td>\n",
       "      <td>13011</td>\n",
       "      <td>{u'picture': u'https://api.deezer.com/artist/1...</td>\n",
       "      <td>2012-04-30</td>\n",
       "      <td>album</td>\n",
       "      <td>12.0</td>\n",
       "      <td>3194.0</td>\n",
       "      <td>{u'data': [{u'picture': u'https://api.deezer.c...</td>\n",
       "      <td>False</td>\n",
       "    </tr>\n",
       "  </tbody>\n",
       "</table>\n",
       "</div>"
      ],
      "text/plain": [
       "                                      title artist_name  artist_id  \\\n",
       "id                                                                   \n",
       "77874622.0                          Phoenix     Soprano      13011   \n",
       "77130752.0       L'Everest (Deluxe Edition)     Soprano      13011   \n",
       "77126682.0  Cosmopolitanie (Deluxe Edition)     Soprano      13011   \n",
       "9816130.0     Cosmopolitanie (Bonus Tracks)     Soprano      13011   \n",
       "1641895.0                           E=2MC's     Soprano      13011   \n",
       "\n",
       "                                                       artist release_date  \\\n",
       "id                                                                           \n",
       "77874622.0  {u'picture': u'https://api.deezer.com/artist/1...   2018-11-09   \n",
       "77130752.0  {u'picture': u'https://api.deezer.com/artist/1...   2016-10-14   \n",
       "77126682.0  {u'picture': u'https://api.deezer.com/artist/1...   2015-08-21   \n",
       "9816130.0   {u'picture': u'https://api.deezer.com/artist/1...   2015-03-16   \n",
       "1641895.0   {u'picture': u'https://api.deezer.com/artist/1...   2012-04-30   \n",
       "\n",
       "           record_type  nb_tracks  duration  \\\n",
       "id                                            \n",
       "77874622.0       album       16.0    3521.0   \n",
       "77130752.0       album       18.0    4177.0   \n",
       "77126682.0       album       28.0    6054.0   \n",
       "9816130.0        album        8.0    1753.0   \n",
       "1641895.0        album       12.0    3194.0   \n",
       "\n",
       "                                                       genres explicit_lyrics  \n",
       "id                                                                             \n",
       "77874622.0  {u'data': [{u'picture': u'https://api.deezer.c...           False  \n",
       "77130752.0  {u'data': [{u'picture': u'https://api.deezer.c...           False  \n",
       "77126682.0  {u'data': [{u'picture': u'https://api.deezer.c...            True  \n",
       "9816130.0   {u'data': [{u'picture': u'https://api.deezer.c...           False  \n",
       "1641895.0   {u'data': [{u'picture': u'https://api.deezer.c...           False  "
      ]
     },
     "execution_count": 33,
     "metadata": {},
     "output_type": "execute_result"
    }
   ],
   "source": [
    "df.loc[:, 'release_date'] = pd.to_datetime(df['release_date']).dt.date\n",
    "df.head()"
   ]
  },
  {
   "cell_type": "markdown",
   "metadata": {},
   "source": [
    "# Days in music industry (since first release)"
   ]
  },
  {
   "cell_type": "code",
   "execution_count": 34,
   "metadata": {},
   "outputs": [],
   "source": [
    "# df.groupby('artist_id').count().head(10)"
   ]
  },
  {
   "cell_type": "code",
   "execution_count": 35,
   "metadata": {},
   "outputs": [],
   "source": [
    "# df[df['artist_id'] == 9].sort_values('release_date')"
   ]
  },
  {
   "cell_type": "code",
   "execution_count": 36,
   "metadata": {},
   "outputs": [],
   "source": [
    "# first_album = df.loc[1206022]\n",
    "# first_album"
   ]
  },
  {
   "cell_type": "code",
   "execution_count": 37,
   "metadata": {},
   "outputs": [],
   "source": [
    "# album = first_album"
   ]
  },
  {
   "cell_type": "code",
   "execution_count": 38,
   "metadata": {},
   "outputs": [],
   "source": [
    "def days_since_first_release(album):\n",
    "    artist_id = album.artist_id\n",
    "    artist_albums = df[df['artist_id'] == artist_id].sort_values('release_date')\n",
    "\n",
    "    album_release_date = album.release_date\n",
    "\n",
    "    albums_previously_released = artist_albums[artist_albums['release_date'] <= album_release_date]\n",
    "    first_album = albums_previously_released.head(1)\n",
    "    first_album_release_date = first_album.release_date.values[0]\n",
    "\n",
    "    date_difference = album_release_date - first_album_release_date\n",
    "    return(date_difference.days)"
   ]
  },
  {
   "cell_type": "code",
   "execution_count": 39,
   "metadata": {},
   "outputs": [],
   "source": [
    "# the first album from the artist\n",
    "# days_since_first_release(first_album)"
   ]
  },
  {
   "cell_type": "code",
   "execution_count": 40,
   "metadata": {},
   "outputs": [],
   "source": [
    "# last_album = df.loc[1454443]"
   ]
  },
  {
   "cell_type": "code",
   "execution_count": 41,
   "metadata": {},
   "outputs": [],
   "source": [
    "# the last album from the artist in our dataset\n",
    "# days_since_first_release(last_album)"
   ]
  },
  {
   "cell_type": "code",
   "execution_count": 42,
   "metadata": {},
   "outputs": [
    {
     "data": {
      "text/plain": [
       "id\n",
       "77874622.0    4420\n",
       "77130752.0    3664\n",
       "77126682.0    3244\n",
       "9816130.0     3086\n",
       "1641895.0     2036\n",
       "1523930.0     1963\n",
       "40632261.0    1625\n",
       "301745.0       542\n",
       "77133732.0     136\n",
       "1252759.0        0\n",
       "dtype: int64"
      ]
     },
     "execution_count": 42,
     "metadata": {},
     "output_type": "execute_result"
    }
   ],
   "source": [
    "df.head(10).apply(days_since_first_release, axis=1)"
   ]
  },
  {
   "cell_type": "code",
   "execution_count": 43,
   "metadata": {},
   "outputs": [],
   "source": [
    "df.loc[:, 'days_since_first_release'] = df.apply(days_since_first_release, axis=1)"
   ]
  },
  {
   "cell_type": "code",
   "execution_count": 44,
   "metadata": {},
   "outputs": [
    {
     "data": {
      "text/html": [
       "<div>\n",
       "<style scoped>\n",
       "    .dataframe tbody tr th:only-of-type {\n",
       "        vertical-align: middle;\n",
       "    }\n",
       "\n",
       "    .dataframe tbody tr th {\n",
       "        vertical-align: top;\n",
       "    }\n",
       "\n",
       "    .dataframe thead th {\n",
       "        text-align: right;\n",
       "    }\n",
       "</style>\n",
       "<table border=\"1\" class=\"dataframe\">\n",
       "  <thead>\n",
       "    <tr style=\"text-align: right;\">\n",
       "      <th></th>\n",
       "      <th>title</th>\n",
       "      <th>artist_name</th>\n",
       "      <th>artist_id</th>\n",
       "      <th>artist</th>\n",
       "      <th>release_date</th>\n",
       "      <th>record_type</th>\n",
       "      <th>nb_tracks</th>\n",
       "      <th>duration</th>\n",
       "      <th>genres</th>\n",
       "      <th>explicit_lyrics</th>\n",
       "      <th>days_since_first_release</th>\n",
       "    </tr>\n",
       "    <tr>\n",
       "      <th>id</th>\n",
       "      <th></th>\n",
       "      <th></th>\n",
       "      <th></th>\n",
       "      <th></th>\n",
       "      <th></th>\n",
       "      <th></th>\n",
       "      <th></th>\n",
       "      <th></th>\n",
       "      <th></th>\n",
       "      <th></th>\n",
       "      <th></th>\n",
       "    </tr>\n",
       "  </thead>\n",
       "  <tbody>\n",
       "    <tr>\n",
       "      <th>77874622.0</th>\n",
       "      <td>Phoenix</td>\n",
       "      <td>Soprano</td>\n",
       "      <td>13011</td>\n",
       "      <td>{u'picture': u'https://api.deezer.com/artist/1...</td>\n",
       "      <td>2018-11-09</td>\n",
       "      <td>album</td>\n",
       "      <td>16.0</td>\n",
       "      <td>3521.0</td>\n",
       "      <td>{u'data': [{u'picture': u'https://api.deezer.c...</td>\n",
       "      <td>False</td>\n",
       "      <td>4420</td>\n",
       "    </tr>\n",
       "    <tr>\n",
       "      <th>77130752.0</th>\n",
       "      <td>L'Everest (Deluxe Edition)</td>\n",
       "      <td>Soprano</td>\n",
       "      <td>13011</td>\n",
       "      <td>{u'picture': u'https://api.deezer.com/artist/1...</td>\n",
       "      <td>2016-10-14</td>\n",
       "      <td>album</td>\n",
       "      <td>18.0</td>\n",
       "      <td>4177.0</td>\n",
       "      <td>{u'data': [{u'picture': u'https://api.deezer.c...</td>\n",
       "      <td>False</td>\n",
       "      <td>3664</td>\n",
       "    </tr>\n",
       "    <tr>\n",
       "      <th>77126682.0</th>\n",
       "      <td>Cosmopolitanie (Deluxe Edition)</td>\n",
       "      <td>Soprano</td>\n",
       "      <td>13011</td>\n",
       "      <td>{u'picture': u'https://api.deezer.com/artist/1...</td>\n",
       "      <td>2015-08-21</td>\n",
       "      <td>album</td>\n",
       "      <td>28.0</td>\n",
       "      <td>6054.0</td>\n",
       "      <td>{u'data': [{u'picture': u'https://api.deezer.c...</td>\n",
       "      <td>True</td>\n",
       "      <td>3244</td>\n",
       "    </tr>\n",
       "    <tr>\n",
       "      <th>9816130.0</th>\n",
       "      <td>Cosmopolitanie (Bonus Tracks)</td>\n",
       "      <td>Soprano</td>\n",
       "      <td>13011</td>\n",
       "      <td>{u'picture': u'https://api.deezer.com/artist/1...</td>\n",
       "      <td>2015-03-16</td>\n",
       "      <td>album</td>\n",
       "      <td>8.0</td>\n",
       "      <td>1753.0</td>\n",
       "      <td>{u'data': [{u'picture': u'https://api.deezer.c...</td>\n",
       "      <td>False</td>\n",
       "      <td>3086</td>\n",
       "    </tr>\n",
       "    <tr>\n",
       "      <th>1641895.0</th>\n",
       "      <td>E=2MC's</td>\n",
       "      <td>Soprano</td>\n",
       "      <td>13011</td>\n",
       "      <td>{u'picture': u'https://api.deezer.com/artist/1...</td>\n",
       "      <td>2012-04-30</td>\n",
       "      <td>album</td>\n",
       "      <td>12.0</td>\n",
       "      <td>3194.0</td>\n",
       "      <td>{u'data': [{u'picture': u'https://api.deezer.c...</td>\n",
       "      <td>False</td>\n",
       "      <td>2036</td>\n",
       "    </tr>\n",
       "  </tbody>\n",
       "</table>\n",
       "</div>"
      ],
      "text/plain": [
       "                                      title artist_name  artist_id  \\\n",
       "id                                                                   \n",
       "77874622.0                          Phoenix     Soprano      13011   \n",
       "77130752.0       L'Everest (Deluxe Edition)     Soprano      13011   \n",
       "77126682.0  Cosmopolitanie (Deluxe Edition)     Soprano      13011   \n",
       "9816130.0     Cosmopolitanie (Bonus Tracks)     Soprano      13011   \n",
       "1641895.0                           E=2MC's     Soprano      13011   \n",
       "\n",
       "                                                       artist release_date  \\\n",
       "id                                                                           \n",
       "77874622.0  {u'picture': u'https://api.deezer.com/artist/1...   2018-11-09   \n",
       "77130752.0  {u'picture': u'https://api.deezer.com/artist/1...   2016-10-14   \n",
       "77126682.0  {u'picture': u'https://api.deezer.com/artist/1...   2015-08-21   \n",
       "9816130.0   {u'picture': u'https://api.deezer.com/artist/1...   2015-03-16   \n",
       "1641895.0   {u'picture': u'https://api.deezer.com/artist/1...   2012-04-30   \n",
       "\n",
       "           record_type  nb_tracks  duration  \\\n",
       "id                                            \n",
       "77874622.0       album       16.0    3521.0   \n",
       "77130752.0       album       18.0    4177.0   \n",
       "77126682.0       album       28.0    6054.0   \n",
       "9816130.0        album        8.0    1753.0   \n",
       "1641895.0        album       12.0    3194.0   \n",
       "\n",
       "                                                       genres explicit_lyrics  \\\n",
       "id                                                                              \n",
       "77874622.0  {u'data': [{u'picture': u'https://api.deezer.c...           False   \n",
       "77130752.0  {u'data': [{u'picture': u'https://api.deezer.c...           False   \n",
       "77126682.0  {u'data': [{u'picture': u'https://api.deezer.c...            True   \n",
       "9816130.0   {u'data': [{u'picture': u'https://api.deezer.c...           False   \n",
       "1641895.0   {u'data': [{u'picture': u'https://api.deezer.c...           False   \n",
       "\n",
       "            days_since_first_release  \n",
       "id                                    \n",
       "77874622.0                      4420  \n",
       "77130752.0                      3664  \n",
       "77126682.0                      3244  \n",
       "9816130.0                       3086  \n",
       "1641895.0                       2036  "
      ]
     },
     "execution_count": 44,
     "metadata": {},
     "output_type": "execute_result"
    }
   ],
   "source": [
    "df.head()"
   ]
  },
  {
   "cell_type": "markdown",
   "metadata": {},
   "source": [
    "# Total albums released"
   ]
  },
  {
   "cell_type": "code",
   "execution_count": 45,
   "metadata": {},
   "outputs": [],
   "source": [
    "def total_albums_released(album):\n",
    "    artist_id = album.artist_id\n",
    "    artist_albums = df[df['artist_id'] == artist_id].sort_values('release_date')\n",
    "\n",
    "    album_release_date = album.release_date\n",
    "    albums_previously_released = artist_albums[artist_albums['release_date'] <= album.release_date]\n",
    "    return(albums_previously_released.shape[0])"
   ]
  },
  {
   "cell_type": "code",
   "execution_count": 46,
   "metadata": {},
   "outputs": [],
   "source": [
    "# the first album from the artist\n",
    "# total_albums_released(first_album)"
   ]
  },
  {
   "cell_type": "code",
   "execution_count": 47,
   "metadata": {},
   "outputs": [],
   "source": [
    "# the last album from the artist in our dataset\n",
    "# total_albums_released(last_album)"
   ]
  },
  {
   "cell_type": "code",
   "execution_count": 48,
   "metadata": {},
   "outputs": [
    {
     "data": {
      "text/plain": [
       "id\n",
       "77874622.0    12\n",
       "77130752.0    11\n",
       "77126682.0    10\n",
       "9816130.0      9\n",
       "1641895.0      8\n",
       "1523930.0      7\n",
       "40632261.0     6\n",
       "301745.0       3\n",
       "77133732.0     2\n",
       "1252759.0      1\n",
       "dtype: int64"
      ]
     },
     "execution_count": 48,
     "metadata": {},
     "output_type": "execute_result"
    }
   ],
   "source": [
    "df.head(10).apply(total_albums_released, axis=1)"
   ]
  },
  {
   "cell_type": "code",
   "execution_count": 49,
   "metadata": {},
   "outputs": [],
   "source": [
    "df['total_albums_released'] = df.apply(total_albums_released, axis=1)"
   ]
  },
  {
   "cell_type": "code",
   "execution_count": 50,
   "metadata": {},
   "outputs": [
    {
     "data": {
      "text/html": [
       "<div>\n",
       "<style scoped>\n",
       "    .dataframe tbody tr th:only-of-type {\n",
       "        vertical-align: middle;\n",
       "    }\n",
       "\n",
       "    .dataframe tbody tr th {\n",
       "        vertical-align: top;\n",
       "    }\n",
       "\n",
       "    .dataframe thead th {\n",
       "        text-align: right;\n",
       "    }\n",
       "</style>\n",
       "<table border=\"1\" class=\"dataframe\">\n",
       "  <thead>\n",
       "    <tr style=\"text-align: right;\">\n",
       "      <th></th>\n",
       "      <th>title</th>\n",
       "      <th>artist_name</th>\n",
       "      <th>artist_id</th>\n",
       "      <th>artist</th>\n",
       "      <th>release_date</th>\n",
       "      <th>record_type</th>\n",
       "      <th>nb_tracks</th>\n",
       "      <th>duration</th>\n",
       "      <th>genres</th>\n",
       "      <th>explicit_lyrics</th>\n",
       "      <th>days_since_first_release</th>\n",
       "      <th>total_albums_released</th>\n",
       "    </tr>\n",
       "    <tr>\n",
       "      <th>id</th>\n",
       "      <th></th>\n",
       "      <th></th>\n",
       "      <th></th>\n",
       "      <th></th>\n",
       "      <th></th>\n",
       "      <th></th>\n",
       "      <th></th>\n",
       "      <th></th>\n",
       "      <th></th>\n",
       "      <th></th>\n",
       "      <th></th>\n",
       "      <th></th>\n",
       "    </tr>\n",
       "  </thead>\n",
       "  <tbody>\n",
       "    <tr>\n",
       "      <th>77874622.0</th>\n",
       "      <td>Phoenix</td>\n",
       "      <td>Soprano</td>\n",
       "      <td>13011</td>\n",
       "      <td>{u'picture': u'https://api.deezer.com/artist/1...</td>\n",
       "      <td>2018-11-09</td>\n",
       "      <td>album</td>\n",
       "      <td>16.0</td>\n",
       "      <td>3521.0</td>\n",
       "      <td>{u'data': [{u'picture': u'https://api.deezer.c...</td>\n",
       "      <td>False</td>\n",
       "      <td>4420</td>\n",
       "      <td>12</td>\n",
       "    </tr>\n",
       "    <tr>\n",
       "      <th>77130752.0</th>\n",
       "      <td>L'Everest (Deluxe Edition)</td>\n",
       "      <td>Soprano</td>\n",
       "      <td>13011</td>\n",
       "      <td>{u'picture': u'https://api.deezer.com/artist/1...</td>\n",
       "      <td>2016-10-14</td>\n",
       "      <td>album</td>\n",
       "      <td>18.0</td>\n",
       "      <td>4177.0</td>\n",
       "      <td>{u'data': [{u'picture': u'https://api.deezer.c...</td>\n",
       "      <td>False</td>\n",
       "      <td>3664</td>\n",
       "      <td>11</td>\n",
       "    </tr>\n",
       "    <tr>\n",
       "      <th>77126682.0</th>\n",
       "      <td>Cosmopolitanie (Deluxe Edition)</td>\n",
       "      <td>Soprano</td>\n",
       "      <td>13011</td>\n",
       "      <td>{u'picture': u'https://api.deezer.com/artist/1...</td>\n",
       "      <td>2015-08-21</td>\n",
       "      <td>album</td>\n",
       "      <td>28.0</td>\n",
       "      <td>6054.0</td>\n",
       "      <td>{u'data': [{u'picture': u'https://api.deezer.c...</td>\n",
       "      <td>True</td>\n",
       "      <td>3244</td>\n",
       "      <td>10</td>\n",
       "    </tr>\n",
       "    <tr>\n",
       "      <th>9816130.0</th>\n",
       "      <td>Cosmopolitanie (Bonus Tracks)</td>\n",
       "      <td>Soprano</td>\n",
       "      <td>13011</td>\n",
       "      <td>{u'picture': u'https://api.deezer.com/artist/1...</td>\n",
       "      <td>2015-03-16</td>\n",
       "      <td>album</td>\n",
       "      <td>8.0</td>\n",
       "      <td>1753.0</td>\n",
       "      <td>{u'data': [{u'picture': u'https://api.deezer.c...</td>\n",
       "      <td>False</td>\n",
       "      <td>3086</td>\n",
       "      <td>9</td>\n",
       "    </tr>\n",
       "    <tr>\n",
       "      <th>1641895.0</th>\n",
       "      <td>E=2MC's</td>\n",
       "      <td>Soprano</td>\n",
       "      <td>13011</td>\n",
       "      <td>{u'picture': u'https://api.deezer.com/artist/1...</td>\n",
       "      <td>2012-04-30</td>\n",
       "      <td>album</td>\n",
       "      <td>12.0</td>\n",
       "      <td>3194.0</td>\n",
       "      <td>{u'data': [{u'picture': u'https://api.deezer.c...</td>\n",
       "      <td>False</td>\n",
       "      <td>2036</td>\n",
       "      <td>8</td>\n",
       "    </tr>\n",
       "  </tbody>\n",
       "</table>\n",
       "</div>"
      ],
      "text/plain": [
       "                                      title artist_name  artist_id  \\\n",
       "id                                                                   \n",
       "77874622.0                          Phoenix     Soprano      13011   \n",
       "77130752.0       L'Everest (Deluxe Edition)     Soprano      13011   \n",
       "77126682.0  Cosmopolitanie (Deluxe Edition)     Soprano      13011   \n",
       "9816130.0     Cosmopolitanie (Bonus Tracks)     Soprano      13011   \n",
       "1641895.0                           E=2MC's     Soprano      13011   \n",
       "\n",
       "                                                       artist release_date  \\\n",
       "id                                                                           \n",
       "77874622.0  {u'picture': u'https://api.deezer.com/artist/1...   2018-11-09   \n",
       "77130752.0  {u'picture': u'https://api.deezer.com/artist/1...   2016-10-14   \n",
       "77126682.0  {u'picture': u'https://api.deezer.com/artist/1...   2015-08-21   \n",
       "9816130.0   {u'picture': u'https://api.deezer.com/artist/1...   2015-03-16   \n",
       "1641895.0   {u'picture': u'https://api.deezer.com/artist/1...   2012-04-30   \n",
       "\n",
       "           record_type  nb_tracks  duration  \\\n",
       "id                                            \n",
       "77874622.0       album       16.0    3521.0   \n",
       "77130752.0       album       18.0    4177.0   \n",
       "77126682.0       album       28.0    6054.0   \n",
       "9816130.0        album        8.0    1753.0   \n",
       "1641895.0        album       12.0    3194.0   \n",
       "\n",
       "                                                       genres explicit_lyrics  \\\n",
       "id                                                                              \n",
       "77874622.0  {u'data': [{u'picture': u'https://api.deezer.c...           False   \n",
       "77130752.0  {u'data': [{u'picture': u'https://api.deezer.c...           False   \n",
       "77126682.0  {u'data': [{u'picture': u'https://api.deezer.c...            True   \n",
       "9816130.0   {u'data': [{u'picture': u'https://api.deezer.c...           False   \n",
       "1641895.0   {u'data': [{u'picture': u'https://api.deezer.c...           False   \n",
       "\n",
       "            days_since_first_release  total_albums_released  \n",
       "id                                                           \n",
       "77874622.0                      4420                     12  \n",
       "77130752.0                      3664                     11  \n",
       "77126682.0                      3244                     10  \n",
       "9816130.0                       3086                      9  \n",
       "1641895.0                       2036                      8  "
      ]
     },
     "execution_count": 50,
     "metadata": {},
     "output_type": "execute_result"
    }
   ],
   "source": [
    "df.head()"
   ]
  },
  {
   "cell_type": "markdown",
   "metadata": {},
   "source": [
    "# Drop old releases"
   ]
  },
  {
   "cell_type": "code",
   "execution_count": 51,
   "metadata": {},
   "outputs": [
    {
     "data": {
      "text/plain": [
       "(60077, 12)"
      ]
     },
     "execution_count": 51,
     "metadata": {},
     "output_type": "execute_result"
    }
   ],
   "source": [
    "df.shape"
   ]
  },
  {
   "cell_type": "code",
   "execution_count": 52,
   "metadata": {},
   "outputs": [
    {
     "data": {
      "text/plain": [
       "(51229, 12)"
      ]
     },
     "execution_count": 52,
     "metadata": {},
     "output_type": "execute_result"
    }
   ],
   "source": [
    "df[pd.to_datetime(df['release_date']).dt.year >= 2004].shape"
   ]
  },
  {
   "cell_type": "code",
   "execution_count": 53,
   "metadata": {},
   "outputs": [
    {
     "data": {
      "text/plain": [
       "(51229, 12)"
      ]
     },
     "execution_count": 53,
     "metadata": {},
     "output_type": "execute_result"
    }
   ],
   "source": [
    "df = df[pd.to_datetime(df['release_date']).dt.year >= 2004]\n",
    "df.shape"
   ]
  },
  {
   "cell_type": "markdown",
   "metadata": {},
   "source": [
    "# Features from date"
   ]
  },
  {
   "cell_type": "markdown",
   "metadata": {},
   "source": [
    "## Year"
   ]
  },
  {
   "cell_type": "code",
   "execution_count": 54,
   "metadata": {},
   "outputs": [
    {
     "data": {
      "text/plain": [
       "id\n",
       "77874622.0    2018\n",
       "77130752.0    2016\n",
       "77126682.0    2015\n",
       "9816130.0     2015\n",
       "1641895.0     2012\n",
       "Name: release_date, dtype: int64"
      ]
     },
     "execution_count": 54,
     "metadata": {},
     "output_type": "execute_result"
    }
   ],
   "source": [
    "pd.to_datetime(df.head()['release_date']).dt.year"
   ]
  },
  {
   "cell_type": "code",
   "execution_count": 55,
   "metadata": {},
   "outputs": [],
   "source": [
    "df.loc[:, 'release_year'] = pd.to_datetime(df['release_date']).dt.year"
   ]
  },
  {
   "cell_type": "code",
   "execution_count": 56,
   "metadata": {},
   "outputs": [
    {
     "data": {
      "text/html": [
       "<div>\n",
       "<style scoped>\n",
       "    .dataframe tbody tr th:only-of-type {\n",
       "        vertical-align: middle;\n",
       "    }\n",
       "\n",
       "    .dataframe tbody tr th {\n",
       "        vertical-align: top;\n",
       "    }\n",
       "\n",
       "    .dataframe thead th {\n",
       "        text-align: right;\n",
       "    }\n",
       "</style>\n",
       "<table border=\"1\" class=\"dataframe\">\n",
       "  <thead>\n",
       "    <tr style=\"text-align: right;\">\n",
       "      <th></th>\n",
       "      <th>title</th>\n",
       "      <th>artist_name</th>\n",
       "      <th>artist_id</th>\n",
       "      <th>artist</th>\n",
       "      <th>release_date</th>\n",
       "      <th>record_type</th>\n",
       "      <th>nb_tracks</th>\n",
       "      <th>duration</th>\n",
       "      <th>genres</th>\n",
       "      <th>explicit_lyrics</th>\n",
       "      <th>days_since_first_release</th>\n",
       "      <th>total_albums_released</th>\n",
       "      <th>release_year</th>\n",
       "    </tr>\n",
       "    <tr>\n",
       "      <th>id</th>\n",
       "      <th></th>\n",
       "      <th></th>\n",
       "      <th></th>\n",
       "      <th></th>\n",
       "      <th></th>\n",
       "      <th></th>\n",
       "      <th></th>\n",
       "      <th></th>\n",
       "      <th></th>\n",
       "      <th></th>\n",
       "      <th></th>\n",
       "      <th></th>\n",
       "      <th></th>\n",
       "    </tr>\n",
       "  </thead>\n",
       "  <tbody>\n",
       "    <tr>\n",
       "      <th>77874622.0</th>\n",
       "      <td>Phoenix</td>\n",
       "      <td>Soprano</td>\n",
       "      <td>13011</td>\n",
       "      <td>{u'picture': u'https://api.deezer.com/artist/1...</td>\n",
       "      <td>2018-11-09</td>\n",
       "      <td>album</td>\n",
       "      <td>16.0</td>\n",
       "      <td>3521.0</td>\n",
       "      <td>{u'data': [{u'picture': u'https://api.deezer.c...</td>\n",
       "      <td>False</td>\n",
       "      <td>4420</td>\n",
       "      <td>12</td>\n",
       "      <td>2018</td>\n",
       "    </tr>\n",
       "    <tr>\n",
       "      <th>77130752.0</th>\n",
       "      <td>L'Everest (Deluxe Edition)</td>\n",
       "      <td>Soprano</td>\n",
       "      <td>13011</td>\n",
       "      <td>{u'picture': u'https://api.deezer.com/artist/1...</td>\n",
       "      <td>2016-10-14</td>\n",
       "      <td>album</td>\n",
       "      <td>18.0</td>\n",
       "      <td>4177.0</td>\n",
       "      <td>{u'data': [{u'picture': u'https://api.deezer.c...</td>\n",
       "      <td>False</td>\n",
       "      <td>3664</td>\n",
       "      <td>11</td>\n",
       "      <td>2016</td>\n",
       "    </tr>\n",
       "    <tr>\n",
       "      <th>77126682.0</th>\n",
       "      <td>Cosmopolitanie (Deluxe Edition)</td>\n",
       "      <td>Soprano</td>\n",
       "      <td>13011</td>\n",
       "      <td>{u'picture': u'https://api.deezer.com/artist/1...</td>\n",
       "      <td>2015-08-21</td>\n",
       "      <td>album</td>\n",
       "      <td>28.0</td>\n",
       "      <td>6054.0</td>\n",
       "      <td>{u'data': [{u'picture': u'https://api.deezer.c...</td>\n",
       "      <td>True</td>\n",
       "      <td>3244</td>\n",
       "      <td>10</td>\n",
       "      <td>2015</td>\n",
       "    </tr>\n",
       "    <tr>\n",
       "      <th>9816130.0</th>\n",
       "      <td>Cosmopolitanie (Bonus Tracks)</td>\n",
       "      <td>Soprano</td>\n",
       "      <td>13011</td>\n",
       "      <td>{u'picture': u'https://api.deezer.com/artist/1...</td>\n",
       "      <td>2015-03-16</td>\n",
       "      <td>album</td>\n",
       "      <td>8.0</td>\n",
       "      <td>1753.0</td>\n",
       "      <td>{u'data': [{u'picture': u'https://api.deezer.c...</td>\n",
       "      <td>False</td>\n",
       "      <td>3086</td>\n",
       "      <td>9</td>\n",
       "      <td>2015</td>\n",
       "    </tr>\n",
       "    <tr>\n",
       "      <th>1641895.0</th>\n",
       "      <td>E=2MC's</td>\n",
       "      <td>Soprano</td>\n",
       "      <td>13011</td>\n",
       "      <td>{u'picture': u'https://api.deezer.com/artist/1...</td>\n",
       "      <td>2012-04-30</td>\n",
       "      <td>album</td>\n",
       "      <td>12.0</td>\n",
       "      <td>3194.0</td>\n",
       "      <td>{u'data': [{u'picture': u'https://api.deezer.c...</td>\n",
       "      <td>False</td>\n",
       "      <td>2036</td>\n",
       "      <td>8</td>\n",
       "      <td>2012</td>\n",
       "    </tr>\n",
       "  </tbody>\n",
       "</table>\n",
       "</div>"
      ],
      "text/plain": [
       "                                      title artist_name  artist_id  \\\n",
       "id                                                                   \n",
       "77874622.0                          Phoenix     Soprano      13011   \n",
       "77130752.0       L'Everest (Deluxe Edition)     Soprano      13011   \n",
       "77126682.0  Cosmopolitanie (Deluxe Edition)     Soprano      13011   \n",
       "9816130.0     Cosmopolitanie (Bonus Tracks)     Soprano      13011   \n",
       "1641895.0                           E=2MC's     Soprano      13011   \n",
       "\n",
       "                                                       artist release_date  \\\n",
       "id                                                                           \n",
       "77874622.0  {u'picture': u'https://api.deezer.com/artist/1...   2018-11-09   \n",
       "77130752.0  {u'picture': u'https://api.deezer.com/artist/1...   2016-10-14   \n",
       "77126682.0  {u'picture': u'https://api.deezer.com/artist/1...   2015-08-21   \n",
       "9816130.0   {u'picture': u'https://api.deezer.com/artist/1...   2015-03-16   \n",
       "1641895.0   {u'picture': u'https://api.deezer.com/artist/1...   2012-04-30   \n",
       "\n",
       "           record_type  nb_tracks  duration  \\\n",
       "id                                            \n",
       "77874622.0       album       16.0    3521.0   \n",
       "77130752.0       album       18.0    4177.0   \n",
       "77126682.0       album       28.0    6054.0   \n",
       "9816130.0        album        8.0    1753.0   \n",
       "1641895.0        album       12.0    3194.0   \n",
       "\n",
       "                                                       genres explicit_lyrics  \\\n",
       "id                                                                              \n",
       "77874622.0  {u'data': [{u'picture': u'https://api.deezer.c...           False   \n",
       "77130752.0  {u'data': [{u'picture': u'https://api.deezer.c...           False   \n",
       "77126682.0  {u'data': [{u'picture': u'https://api.deezer.c...            True   \n",
       "9816130.0   {u'data': [{u'picture': u'https://api.deezer.c...           False   \n",
       "1641895.0   {u'data': [{u'picture': u'https://api.deezer.c...           False   \n",
       "\n",
       "            days_since_first_release  total_albums_released  release_year  \n",
       "id                                                                         \n",
       "77874622.0                      4420                     12          2018  \n",
       "77130752.0                      3664                     11          2016  \n",
       "77126682.0                      3244                     10          2015  \n",
       "9816130.0                       3086                      9          2015  \n",
       "1641895.0                       2036                      8          2012  "
      ]
     },
     "execution_count": 56,
     "metadata": {},
     "output_type": "execute_result"
    }
   ],
   "source": [
    "df.head()"
   ]
  },
  {
   "cell_type": "code",
   "execution_count": 57,
   "metadata": {},
   "outputs": [
    {
     "data": {
      "text/plain": [
       "(array([7.7450e+03, 1.0472e+04, 1.3923e+04, 1.9088e+04, 0.0000e+00,\n",
       "        0.0000e+00, 0.0000e+00, 0.0000e+00, 1.0000e+00]),\n",
       " array([2004.        , 2007.88888889, 2011.77777778, 2015.66666667,\n",
       "        2019.55555556, 2023.44444444, 2027.33333333, 2031.22222222,\n",
       "        2035.11111111, 2039.        ]),\n",
       " <a list of 9 Patch objects>)"
      ]
     },
     "execution_count": 57,
     "metadata": {},
     "output_type": "execute_result"
    },
    {
     "data": {
      "image/png": "[encoded data removed]",
      "text/plain": [
       "<Figure size 432x288 with 1 Axes>"
      ]
     },
     "metadata": {
      "needs_background": "light"
     },
     "output_type": "display_data"
    }
   ],
   "source": [
    "plt.hist(df['release_year'].values, bins=9)"
   ]
  },
  {
   "cell_type": "code",
   "execution_count": 58,
   "metadata": {},
   "outputs": [
    {
     "data": {
      "text/html": [
       "<div>\n",
       "<style scoped>\n",
       "    .dataframe tbody tr th:only-of-type {\n",
       "        vertical-align: middle;\n",
       "    }\n",
       "\n",
       "    .dataframe tbody tr th {\n",
       "        vertical-align: top;\n",
       "    }\n",
       "\n",
       "    .dataframe thead th {\n",
       "        text-align: right;\n",
       "    }\n",
       "</style>\n",
       "<table border=\"1\" class=\"dataframe\">\n",
       "  <thead>\n",
       "    <tr style=\"text-align: right;\">\n",
       "      <th></th>\n",
       "      <th>title</th>\n",
       "      <th>artist_name</th>\n",
       "      <th>artist_id</th>\n",
       "      <th>artist</th>\n",
       "      <th>release_date</th>\n",
       "      <th>record_type</th>\n",
       "      <th>nb_tracks</th>\n",
       "      <th>duration</th>\n",
       "      <th>genres</th>\n",
       "      <th>explicit_lyrics</th>\n",
       "      <th>days_since_first_release</th>\n",
       "      <th>total_albums_released</th>\n",
       "      <th>release_year</th>\n",
       "    </tr>\n",
       "    <tr>\n",
       "      <th>id</th>\n",
       "      <th></th>\n",
       "      <th></th>\n",
       "      <th></th>\n",
       "      <th></th>\n",
       "      <th></th>\n",
       "      <th></th>\n",
       "      <th></th>\n",
       "      <th></th>\n",
       "      <th></th>\n",
       "      <th></th>\n",
       "      <th></th>\n",
       "      <th></th>\n",
       "      <th></th>\n",
       "    </tr>\n",
       "  </thead>\n",
       "  <tbody>\n",
       "    <tr>\n",
       "      <th>240196.0</th>\n",
       "      <td>Montell Jordan</td>\n",
       "      <td>Montell Jordan</td>\n",
       "      <td>258</td>\n",
       "      <td>{u'picture': u'https://api.deezer.com/artist/2...</td>\n",
       "      <td>2039-12-31</td>\n",
       "      <td>album</td>\n",
       "      <td>13.0</td>\n",
       "      <td>3410.0</td>\n",
       "      <td>{u'data': [{u'picture': u'https://api.deezer.c...</td>\n",
       "      <td>False</td>\n",
       "      <td>16340</td>\n",
       "      <td>16</td>\n",
       "      <td>2039</td>\n",
       "    </tr>\n",
       "  </tbody>\n",
       "</table>\n",
       "</div>"
      ],
      "text/plain": [
       "                   title     artist_name  artist_id  \\\n",
       "id                                                    \n",
       "240196.0  Montell Jordan  Montell Jordan        258   \n",
       "\n",
       "                                                     artist release_date  \\\n",
       "id                                                                         \n",
       "240196.0  {u'picture': u'https://api.deezer.com/artist/2...   2039-12-31   \n",
       "\n",
       "         record_type  nb_tracks  duration  \\\n",
       "id                                          \n",
       "240196.0       album       13.0    3410.0   \n",
       "\n",
       "                                                     genres explicit_lyrics  \\\n",
       "id                                                                            \n",
       "240196.0  {u'data': [{u'picture': u'https://api.deezer.c...           False   \n",
       "\n",
       "          days_since_first_release  total_albums_released  release_year  \n",
       "id                                                                       \n",
       "240196.0                     16340                     16          2039  "
      ]
     },
     "execution_count": 58,
     "metadata": {},
     "output_type": "execute_result"
    }
   ],
   "source": [
    "df[df['release_year'] >= 2020]"
   ]
  },
  {
   "cell_type": "markdown",
   "metadata": {},
   "source": [
    "We can't know for sure that this album will be released in the future so it's better to drop it"
   ]
  },
  {
   "cell_type": "code",
   "execution_count": 59,
   "metadata": {},
   "outputs": [],
   "source": [
    "df.drop(df[df['release_year'] > 2020].index, inplace=True)"
   ]
  },
  {
   "cell_type": "code",
   "execution_count": 60,
   "metadata": {},
   "outputs": [
    {
     "data": {
      "text/html": [
       "<div>\n",
       "<style scoped>\n",
       "    .dataframe tbody tr th:only-of-type {\n",
       "        vertical-align: middle;\n",
       "    }\n",
       "\n",
       "    .dataframe tbody tr th {\n",
       "        vertical-align: top;\n",
       "    }\n",
       "\n",
       "    .dataframe thead th {\n",
       "        text-align: right;\n",
       "    }\n",
       "</style>\n",
       "<table border=\"1\" class=\"dataframe\">\n",
       "  <thead>\n",
       "    <tr style=\"text-align: right;\">\n",
       "      <th></th>\n",
       "      <th>title</th>\n",
       "      <th>artist_name</th>\n",
       "      <th>artist_id</th>\n",
       "      <th>artist</th>\n",
       "      <th>release_date</th>\n",
       "      <th>record_type</th>\n",
       "      <th>nb_tracks</th>\n",
       "      <th>duration</th>\n",
       "      <th>genres</th>\n",
       "      <th>explicit_lyrics</th>\n",
       "      <th>days_since_first_release</th>\n",
       "      <th>total_albums_released</th>\n",
       "      <th>release_year</th>\n",
       "    </tr>\n",
       "    <tr>\n",
       "      <th>id</th>\n",
       "      <th></th>\n",
       "      <th></th>\n",
       "      <th></th>\n",
       "      <th></th>\n",
       "      <th></th>\n",
       "      <th></th>\n",
       "      <th></th>\n",
       "      <th></th>\n",
       "      <th></th>\n",
       "      <th></th>\n",
       "      <th></th>\n",
       "      <th></th>\n",
       "      <th></th>\n",
       "    </tr>\n",
       "  </thead>\n",
       "  <tbody>\n",
       "  </tbody>\n",
       "</table>\n",
       "</div>"
      ],
      "text/plain": [
       "Empty DataFrame\n",
       "Columns: [title, artist_name, artist_id, artist, release_date, record_type, nb_tracks, duration, genres, explicit_lyrics, days_since_first_release, total_albums_released, release_year]\n",
       "Index: []"
      ]
     },
     "execution_count": 60,
     "metadata": {},
     "output_type": "execute_result"
    }
   ],
   "source": [
    "df[df['release_year'] > 2020]"
   ]
  },
  {
   "cell_type": "code",
   "execution_count": 61,
   "metadata": {},
   "outputs": [
    {
     "data": {
      "text/plain": [
       "(array([1318., 1990., 2175., 2262., 2423., 2635., 2601., 2813., 2970.,\n",
       "        3285., 3638., 4030., 4440., 5049., 6242., 3357.]),\n",
       " array([2004.    , 2004.9375, 2005.875 , 2006.8125, 2007.75  , 2008.6875,\n",
       "        2009.625 , 2010.5625, 2011.5   , 2012.4375, 2013.375 , 2014.3125,\n",
       "        2015.25  , 2016.1875, 2017.125 , 2018.0625, 2019.    ]),\n",
       " <a list of 16 Patch objects>)"
      ]
     },
     "execution_count": 61,
     "metadata": {},
     "output_type": "execute_result"
    },
    {
     "data": {
      "image/png": "[encoded data removed]",
      "text/plain": [
       "<Figure size 432x288 with 1 Axes>"
      ]
     },
     "metadata": {
      "needs_background": "light"
     },
     "output_type": "display_data"
    }
   ],
   "source": [
    "plt.hist(df['release_year'].values, bins=16)"
   ]
  },
  {
   "cell_type": "markdown",
   "metadata": {},
   "source": [
    "## Month"
   ]
  },
  {
   "cell_type": "code",
   "execution_count": 62,
   "metadata": {},
   "outputs": [
    {
     "data": {
      "text/plain": [
       "id\n",
       "77874622.0    11\n",
       "77130752.0    10\n",
       "77126682.0     8\n",
       "9816130.0      3\n",
       "1641895.0      4\n",
       "Name: release_date, dtype: int64"
      ]
     },
     "execution_count": 62,
     "metadata": {},
     "output_type": "execute_result"
    }
   ],
   "source": [
    "pd.to_datetime(df.head()['release_date']).dt.month"
   ]
  },
  {
   "cell_type": "code",
   "execution_count": 63,
   "metadata": {},
   "outputs": [],
   "source": [
    "df.loc[:, 'release_month'] = pd.to_datetime(df['release_date']).dt.month"
   ]
  },
  {
   "cell_type": "code",
   "execution_count": 64,
   "metadata": {},
   "outputs": [
    {
     "data": {
      "text/html": [
       "<div>\n",
       "<style scoped>\n",
       "    .dataframe tbody tr th:only-of-type {\n",
       "        vertical-align: middle;\n",
       "    }\n",
       "\n",
       "    .dataframe tbody tr th {\n",
       "        vertical-align: top;\n",
       "    }\n",
       "\n",
       "    .dataframe thead th {\n",
       "        text-align: right;\n",
       "    }\n",
       "</style>\n",
       "<table border=\"1\" class=\"dataframe\">\n",
       "  <thead>\n",
       "    <tr style=\"text-align: right;\">\n",
       "      <th></th>\n",
       "      <th>title</th>\n",
       "      <th>artist_name</th>\n",
       "      <th>artist_id</th>\n",
       "      <th>artist</th>\n",
       "      <th>release_date</th>\n",
       "      <th>record_type</th>\n",
       "      <th>nb_tracks</th>\n",
       "      <th>duration</th>\n",
       "      <th>genres</th>\n",
       "      <th>explicit_lyrics</th>\n",
       "      <th>days_since_first_release</th>\n",
       "      <th>total_albums_released</th>\n",
       "      <th>release_year</th>\n",
       "      <th>release_month</th>\n",
       "    </tr>\n",
       "    <tr>\n",
       "      <th>id</th>\n",
       "      <th></th>\n",
       "      <th></th>\n",
       "      <th></th>\n",
       "      <th></th>\n",
       "      <th></th>\n",
       "      <th></th>\n",
       "      <th></th>\n",
       "      <th></th>\n",
       "      <th></th>\n",
       "      <th></th>\n",
       "      <th></th>\n",
       "      <th></th>\n",
       "      <th></th>\n",
       "      <th></th>\n",
       "    </tr>\n",
       "  </thead>\n",
       "  <tbody>\n",
       "    <tr>\n",
       "      <th>77874622.0</th>\n",
       "      <td>Phoenix</td>\n",
       "      <td>Soprano</td>\n",
       "      <td>13011</td>\n",
       "      <td>{u'picture': u'https://api.deezer.com/artist/1...</td>\n",
       "      <td>2018-11-09</td>\n",
       "      <td>album</td>\n",
       "      <td>16.0</td>\n",
       "      <td>3521.0</td>\n",
       "      <td>{u'data': [{u'picture': u'https://api.deezer.c...</td>\n",
       "      <td>False</td>\n",
       "      <td>4420</td>\n",
       "      <td>12</td>\n",
       "      <td>2018</td>\n",
       "      <td>11</td>\n",
       "    </tr>\n",
       "    <tr>\n",
       "      <th>77130752.0</th>\n",
       "      <td>L'Everest (Deluxe Edition)</td>\n",
       "      <td>Soprano</td>\n",
       "      <td>13011</td>\n",
       "      <td>{u'picture': u'https://api.deezer.com/artist/1...</td>\n",
       "      <td>2016-10-14</td>\n",
       "      <td>album</td>\n",
       "      <td>18.0</td>\n",
       "      <td>4177.0</td>\n",
       "      <td>{u'data': [{u'picture': u'https://api.deezer.c...</td>\n",
       "      <td>False</td>\n",
       "      <td>3664</td>\n",
       "      <td>11</td>\n",
       "      <td>2016</td>\n",
       "      <td>10</td>\n",
       "    </tr>\n",
       "    <tr>\n",
       "      <th>77126682.0</th>\n",
       "      <td>Cosmopolitanie (Deluxe Edition)</td>\n",
       "      <td>Soprano</td>\n",
       "      <td>13011</td>\n",
       "      <td>{u'picture': u'https://api.deezer.com/artist/1...</td>\n",
       "      <td>2015-08-21</td>\n",
       "      <td>album</td>\n",
       "      <td>28.0</td>\n",
       "      <td>6054.0</td>\n",
       "      <td>{u'data': [{u'picture': u'https://api.deezer.c...</td>\n",
       "      <td>True</td>\n",
       "      <td>3244</td>\n",
       "      <td>10</td>\n",
       "      <td>2015</td>\n",
       "      <td>8</td>\n",
       "    </tr>\n",
       "    <tr>\n",
       "      <th>9816130.0</th>\n",
       "      <td>Cosmopolitanie (Bonus Tracks)</td>\n",
       "      <td>Soprano</td>\n",
       "      <td>13011</td>\n",
       "      <td>{u'picture': u'https://api.deezer.com/artist/1...</td>\n",
       "      <td>2015-03-16</td>\n",
       "      <td>album</td>\n",
       "      <td>8.0</td>\n",
       "      <td>1753.0</td>\n",
       "      <td>{u'data': [{u'picture': u'https://api.deezer.c...</td>\n",
       "      <td>False</td>\n",
       "      <td>3086</td>\n",
       "      <td>9</td>\n",
       "      <td>2015</td>\n",
       "      <td>3</td>\n",
       "    </tr>\n",
       "    <tr>\n",
       "      <th>1641895.0</th>\n",
       "      <td>E=2MC's</td>\n",
       "      <td>Soprano</td>\n",
       "      <td>13011</td>\n",
       "      <td>{u'picture': u'https://api.deezer.com/artist/1...</td>\n",
       "      <td>2012-04-30</td>\n",
       "      <td>album</td>\n",
       "      <td>12.0</td>\n",
       "      <td>3194.0</td>\n",
       "      <td>{u'data': [{u'picture': u'https://api.deezer.c...</td>\n",
       "      <td>False</td>\n",
       "      <td>2036</td>\n",
       "      <td>8</td>\n",
       "      <td>2012</td>\n",
       "      <td>4</td>\n",
       "    </tr>\n",
       "  </tbody>\n",
       "</table>\n",
       "</div>"
      ],
      "text/plain": [
       "                                      title artist_name  artist_id  \\\n",
       "id                                                                   \n",
       "77874622.0                          Phoenix     Soprano      13011   \n",
       "77130752.0       L'Everest (Deluxe Edition)     Soprano      13011   \n",
       "77126682.0  Cosmopolitanie (Deluxe Edition)     Soprano      13011   \n",
       "9816130.0     Cosmopolitanie (Bonus Tracks)     Soprano      13011   \n",
       "1641895.0                           E=2MC's     Soprano      13011   \n",
       "\n",
       "                                                       artist release_date  \\\n",
       "id                                                                           \n",
       "77874622.0  {u'picture': u'https://api.deezer.com/artist/1...   2018-11-09   \n",
       "77130752.0  {u'picture': u'https://api.deezer.com/artist/1...   2016-10-14   \n",
       "77126682.0  {u'picture': u'https://api.deezer.com/artist/1...   2015-08-21   \n",
       "9816130.0   {u'picture': u'https://api.deezer.com/artist/1...   2015-03-16   \n",
       "1641895.0   {u'picture': u'https://api.deezer.com/artist/1...   2012-04-30   \n",
       "\n",
       "           record_type  nb_tracks  duration  \\\n",
       "id                                            \n",
       "77874622.0       album       16.0    3521.0   \n",
       "77130752.0       album       18.0    4177.0   \n",
       "77126682.0       album       28.0    6054.0   \n",
       "9816130.0        album        8.0    1753.0   \n",
       "1641895.0        album       12.0    3194.0   \n",
       "\n",
       "                                                       genres explicit_lyrics  \\\n",
       "id                                                                              \n",
       "77874622.0  {u'data': [{u'picture': u'https://api.deezer.c...           False   \n",
       "77130752.0  {u'data': [{u'picture': u'https://api.deezer.c...           False   \n",
       "77126682.0  {u'data': [{u'picture': u'https://api.deezer.c...            True   \n",
       "9816130.0   {u'data': [{u'picture': u'https://api.deezer.c...           False   \n",
       "1641895.0   {u'data': [{u'picture': u'https://api.deezer.c...           False   \n",
       "\n",
       "            days_since_first_release  total_albums_released  release_year  \\\n",
       "id                                                                          \n",
       "77874622.0                      4420                     12          2018   \n",
       "77130752.0                      3664                     11          2016   \n",
       "77126682.0                      3244                     10          2015   \n",
       "9816130.0                       3086                      9          2015   \n",
       "1641895.0                       2036                      8          2012   \n",
       "\n",
       "            release_month  \n",
       "id                         \n",
       "77874622.0             11  \n",
       "77130752.0             10  \n",
       "77126682.0              8  \n",
       "9816130.0               3  \n",
       "1641895.0               4  "
      ]
     },
     "execution_count": 64,
     "metadata": {},
     "output_type": "execute_result"
    }
   ],
   "source": [
    "df.head()"
   ]
  },
  {
   "cell_type": "code",
   "execution_count": 65,
   "metadata": {},
   "outputs": [
    {
     "data": {
      "text/plain": [
       "(array([4400., 3821., 4936., 4560., 4694., 4130., 3817., 3744., 4508.,\n",
       "        4656., 4633., 3329.]),\n",
       " array([ 1.        ,  1.91666667,  2.83333333,  3.75      ,  4.66666667,\n",
       "         5.58333333,  6.5       ,  7.41666667,  8.33333333,  9.25      ,\n",
       "        10.16666667, 11.08333333, 12.        ]),\n",
       " <a list of 12 Patch objects>)"
      ]
     },
     "execution_count": 65,
     "metadata": {},
     "output_type": "execute_result"
    },
    {
     "data": {
      "image/png": "[encoded data removed]",
      "text/plain": [
       "<Figure size 432x288 with 1 Axes>"
      ]
     },
     "metadata": {
      "needs_background": "light"
     },
     "output_type": "display_data"
    }
   ],
   "source": [
    "plt.hist(df['release_month'].values, bins=12)"
   ]
  },
  {
   "cell_type": "markdown",
   "metadata": {},
   "source": [
    "## Day of month"
   ]
  },
  {
   "cell_type": "code",
   "execution_count": 66,
   "metadata": {},
   "outputs": [
    {
     "data": {
      "text/plain": [
       "id\n",
       "77874622.0     9\n",
       "77130752.0    14\n",
       "77126682.0    21\n",
       "9816130.0     16\n",
       "1641895.0     30\n",
       "Name: release_date, dtype: int64"
      ]
     },
     "execution_count": 66,
     "metadata": {},
     "output_type": "execute_result"
    }
   ],
   "source": [
    "pd.to_datetime(df.head()['release_date']).dt.day"
   ]
  },
  {
   "cell_type": "code",
   "execution_count": 67,
   "metadata": {},
   "outputs": [],
   "source": [
    "df.loc[:, 'release_day_of_month'] = pd.to_datetime(df['release_date']).dt.day"
   ]
  },
  {
   "cell_type": "code",
   "execution_count": 68,
   "metadata": {},
   "outputs": [
    {
     "data": {
      "text/html": [
       "<div>\n",
       "<style scoped>\n",
       "    .dataframe tbody tr th:only-of-type {\n",
       "        vertical-align: middle;\n",
       "    }\n",
       "\n",
       "    .dataframe tbody tr th {\n",
       "        vertical-align: top;\n",
       "    }\n",
       "\n",
       "    .dataframe thead th {\n",
       "        text-align: right;\n",
       "    }\n",
       "</style>\n",
       "<table border=\"1\" class=\"dataframe\">\n",
       "  <thead>\n",
       "    <tr style=\"text-align: right;\">\n",
       "      <th></th>\n",
       "      <th>title</th>\n",
       "      <th>artist_name</th>\n",
       "      <th>artist_id</th>\n",
       "      <th>artist</th>\n",
       "      <th>release_date</th>\n",
       "      <th>record_type</th>\n",
       "      <th>nb_tracks</th>\n",
       "      <th>duration</th>\n",
       "      <th>genres</th>\n",
       "      <th>explicit_lyrics</th>\n",
       "      <th>days_since_first_release</th>\n",
       "      <th>total_albums_released</th>\n",
       "      <th>release_year</th>\n",
       "      <th>release_month</th>\n",
       "      <th>release_day_of_month</th>\n",
       "    </tr>\n",
       "    <tr>\n",
       "      <th>id</th>\n",
       "      <th></th>\n",
       "      <th></th>\n",
       "      <th></th>\n",
       "      <th></th>\n",
       "      <th></th>\n",
       "      <th></th>\n",
       "      <th></th>\n",
       "      <th></th>\n",
       "      <th></th>\n",
       "      <th></th>\n",
       "      <th></th>\n",
       "      <th></th>\n",
       "      <th></th>\n",
       "      <th></th>\n",
       "      <th></th>\n",
       "    </tr>\n",
       "  </thead>\n",
       "  <tbody>\n",
       "    <tr>\n",
       "      <th>77874622.0</th>\n",
       "      <td>Phoenix</td>\n",
       "      <td>Soprano</td>\n",
       "      <td>13011</td>\n",
       "      <td>{u'picture': u'https://api.deezer.com/artist/1...</td>\n",
       "      <td>2018-11-09</td>\n",
       "      <td>album</td>\n",
       "      <td>16.0</td>\n",
       "      <td>3521.0</td>\n",
       "      <td>{u'data': [{u'picture': u'https://api.deezer.c...</td>\n",
       "      <td>False</td>\n",
       "      <td>4420</td>\n",
       "      <td>12</td>\n",
       "      <td>2018</td>\n",
       "      <td>11</td>\n",
       "      <td>9</td>\n",
       "    </tr>\n",
       "    <tr>\n",
       "      <th>77130752.0</th>\n",
       "      <td>L'Everest (Deluxe Edition)</td>\n",
       "      <td>Soprano</td>\n",
       "      <td>13011</td>\n",
       "      <td>{u'picture': u'https://api.deezer.com/artist/1...</td>\n",
       "      <td>2016-10-14</td>\n",
       "      <td>album</td>\n",
       "      <td>18.0</td>\n",
       "      <td>4177.0</td>\n",
       "      <td>{u'data': [{u'picture': u'https://api.deezer.c...</td>\n",
       "      <td>False</td>\n",
       "      <td>3664</td>\n",
       "      <td>11</td>\n",
       "      <td>2016</td>\n",
       "      <td>10</td>\n",
       "      <td>14</td>\n",
       "    </tr>\n",
       "    <tr>\n",
       "      <th>77126682.0</th>\n",
       "      <td>Cosmopolitanie (Deluxe Edition)</td>\n",
       "      <td>Soprano</td>\n",
       "      <td>13011</td>\n",
       "      <td>{u'picture': u'https://api.deezer.com/artist/1...</td>\n",
       "      <td>2015-08-21</td>\n",
       "      <td>album</td>\n",
       "      <td>28.0</td>\n",
       "      <td>6054.0</td>\n",
       "      <td>{u'data': [{u'picture': u'https://api.deezer.c...</td>\n",
       "      <td>True</td>\n",
       "      <td>3244</td>\n",
       "      <td>10</td>\n",
       "      <td>2015</td>\n",
       "      <td>8</td>\n",
       "      <td>21</td>\n",
       "    </tr>\n",
       "    <tr>\n",
       "      <th>9816130.0</th>\n",
       "      <td>Cosmopolitanie (Bonus Tracks)</td>\n",
       "      <td>Soprano</td>\n",
       "      <td>13011</td>\n",
       "      <td>{u'picture': u'https://api.deezer.com/artist/1...</td>\n",
       "      <td>2015-03-16</td>\n",
       "      <td>album</td>\n",
       "      <td>8.0</td>\n",
       "      <td>1753.0</td>\n",
       "      <td>{u'data': [{u'picture': u'https://api.deezer.c...</td>\n",
       "      <td>False</td>\n",
       "      <td>3086</td>\n",
       "      <td>9</td>\n",
       "      <td>2015</td>\n",
       "      <td>3</td>\n",
       "      <td>16</td>\n",
       "    </tr>\n",
       "    <tr>\n",
       "      <th>1641895.0</th>\n",
       "      <td>E=2MC's</td>\n",
       "      <td>Soprano</td>\n",
       "      <td>13011</td>\n",
       "      <td>{u'picture': u'https://api.deezer.com/artist/1...</td>\n",
       "      <td>2012-04-30</td>\n",
       "      <td>album</td>\n",
       "      <td>12.0</td>\n",
       "      <td>3194.0</td>\n",
       "      <td>{u'data': [{u'picture': u'https://api.deezer.c...</td>\n",
       "      <td>False</td>\n",
       "      <td>2036</td>\n",
       "      <td>8</td>\n",
       "      <td>2012</td>\n",
       "      <td>4</td>\n",
       "      <td>30</td>\n",
       "    </tr>\n",
       "  </tbody>\n",
       "</table>\n",
       "</div>"
      ],
      "text/plain": [
       "                                      title artist_name  artist_id  \\\n",
       "id                                                                   \n",
       "77874622.0                          Phoenix     Soprano      13011   \n",
       "77130752.0       L'Everest (Deluxe Edition)     Soprano      13011   \n",
       "77126682.0  Cosmopolitanie (Deluxe Edition)     Soprano      13011   \n",
       "9816130.0     Cosmopolitanie (Bonus Tracks)     Soprano      13011   \n",
       "1641895.0                           E=2MC's     Soprano      13011   \n",
       "\n",
       "                                                       artist release_date  \\\n",
       "id                                                                           \n",
       "77874622.0  {u'picture': u'https://api.deezer.com/artist/1...   2018-11-09   \n",
       "77130752.0  {u'picture': u'https://api.deezer.com/artist/1...   2016-10-14   \n",
       "77126682.0  {u'picture': u'https://api.deezer.com/artist/1...   2015-08-21   \n",
       "9816130.0   {u'picture': u'https://api.deezer.com/artist/1...   2015-03-16   \n",
       "1641895.0   {u'picture': u'https://api.deezer.com/artist/1...   2012-04-30   \n",
       "\n",
       "           record_type  nb_tracks  duration  \\\n",
       "id                                            \n",
       "77874622.0       album       16.0    3521.0   \n",
       "77130752.0       album       18.0    4177.0   \n",
       "77126682.0       album       28.0    6054.0   \n",
       "9816130.0        album        8.0    1753.0   \n",
       "1641895.0        album       12.0    3194.0   \n",
       "\n",
       "                                                       genres explicit_lyrics  \\\n",
       "id                                                                              \n",
       "77874622.0  {u'data': [{u'picture': u'https://api.deezer.c...           False   \n",
       "77130752.0  {u'data': [{u'picture': u'https://api.deezer.c...           False   \n",
       "77126682.0  {u'data': [{u'picture': u'https://api.deezer.c...            True   \n",
       "9816130.0   {u'data': [{u'picture': u'https://api.deezer.c...           False   \n",
       "1641895.0   {u'data': [{u'picture': u'https://api.deezer.c...           False   \n",
       "\n",
       "            days_since_first_release  total_albums_released  release_year  \\\n",
       "id                                                                          \n",
       "77874622.0                      4420                     12          2018   \n",
       "77130752.0                      3664                     11          2016   \n",
       "77126682.0                      3244                     10          2015   \n",
       "9816130.0                       3086                      9          2015   \n",
       "1641895.0                       2036                      8          2012   \n",
       "\n",
       "            release_month  release_day_of_month  \n",
       "id                                               \n",
       "77874622.0             11                     9  \n",
       "77130752.0             10                    14  \n",
       "77126682.0              8                    21  \n",
       "9816130.0               3                    16  \n",
       "1641895.0               4                    30  "
      ]
     },
     "execution_count": 68,
     "metadata": {},
     "output_type": "execute_result"
    }
   ],
   "source": [
    "df.head()"
   ]
  },
  {
   "cell_type": "code",
   "execution_count": 69,
   "metadata": {},
   "outputs": [
    {
     "data": {
      "text/plain": [
       "(array([3788., 1567., 1571., 1454., 1544., 1392., 1517., 1591., 1639.,\n",
       "        1814., 1509., 1588., 1525., 1639., 1789., 1636., 1720., 1523.,\n",
       "        1621., 1804., 1630., 1763., 1591., 1656., 1674., 1626., 1458.,\n",
       "        1607., 1567., 2425.]),\n",
       " array([ 1.,  2.,  3.,  4.,  5.,  6.,  7.,  8.,  9., 10., 11., 12., 13.,\n",
       "        14., 15., 16., 17., 18., 19., 20., 21., 22., 23., 24., 25., 26.,\n",
       "        27., 28., 29., 30., 31.]),\n",
       " <a list of 30 Patch objects>)"
      ]
     },
     "execution_count": 69,
     "metadata": {},
     "output_type": "execute_result"
    },
    {
     "data": {
      "image/png": "[encoded data removed]",
      "text/plain": [
       "<Figure size 432x288 with 1 Axes>"
      ]
     },
     "metadata": {
      "needs_background": "light"
     },
     "output_type": "display_data"
    }
   ],
   "source": [
    "plt.hist(df['release_day_of_month'].values, bins=30)"
   ]
  },
  {
   "cell_type": "markdown",
   "metadata": {},
   "source": [
    "Seems like there are 2 peaks on 1st and on 31st days of month. I'm not sure if it's something that artists do or is this Deezer filling missing values.  \n",
    "Let's plot the "
   ]
  },
  {
   "cell_type": "code",
   "execution_count": 70,
   "metadata": {},
   "outputs": [
    {
     "data": {
      "text/plain": [
       "(array([1142.,  230.,  267.,  276.,  200.,  234.,  236.,  151.,  229.,\n",
       "         287.,  279.,  257.]),\n",
       " array([ 1.        ,  1.91666667,  2.83333333,  3.75      ,  4.66666667,\n",
       "         5.58333333,  6.5       ,  7.41666667,  8.33333333,  9.25      ,\n",
       "        10.16666667, 11.08333333, 12.        ]),\n",
       " <a list of 12 Patch objects>)"
      ]
     },
     "execution_count": 70,
     "metadata": {},
     "output_type": "execute_result"
    },
    {
     "data": {
      "image/png": "[encoded data removed]",
      "text/plain": [
       "<Figure size 432x288 with 1 Axes>"
      ]
     },
     "metadata": {
      "needs_background": "light"
     },
     "output_type": "display_data"
    }
   ],
   "source": [
    "plt.hist(df[df['release_day_of_month'] == 1]['release_month'].values, bins=12)"
   ]
  },
  {
   "cell_type": "code",
   "execution_count": 71,
   "metadata": {},
   "outputs": [
    {
     "data": {
      "text/plain": [
       "(array([118.,   0., 176.,   0., 105.,   0., 126., 177.,   0., 131.,   0.,\n",
       "         61.]),\n",
       " array([ 1.        ,  1.91666667,  2.83333333,  3.75      ,  4.66666667,\n",
       "         5.58333333,  6.5       ,  7.41666667,  8.33333333,  9.25      ,\n",
       "        10.16666667, 11.08333333, 12.        ]),\n",
       " <a list of 12 Patch objects>)"
      ]
     },
     "execution_count": 71,
     "metadata": {},
     "output_type": "execute_result"
    },
    {
     "data": {
      "image/png": "[encoded data removed]",
      "text/plain": [
       "<Figure size 432x288 with 1 Axes>"
      ]
     },
     "metadata": {
      "needs_background": "light"
     },
     "output_type": "display_data"
    }
   ],
   "source": [
    "plt.hist(df[df['release_day_of_month'] == 31]['release_month'].values, bins=12)"
   ]
  },
  {
   "cell_type": "markdown",
   "metadata": {},
   "source": [
    "Looks like 31st is a normal day that people release on, but 1st is something that is filled be Deezer."
   ]
  },
  {
   "cell_type": "code",
   "execution_count": 72,
   "metadata": {},
   "outputs": [
    {
     "data": {
      "text/plain": [
       "(array([223., 129., 131., 144.,  96.,  57.,  32.,  36., 155.,  32.,  20.,\n",
       "         87.]),\n",
       " array([2004.  , 2005.25, 2006.5 , 2007.75, 2009.  , 2010.25, 2011.5 ,\n",
       "        2012.75, 2014.  , 2015.25, 2016.5 , 2017.75, 2019.  ]),\n",
       " <a list of 12 Patch objects>)"
      ]
     },
     "execution_count": 72,
     "metadata": {},
     "output_type": "execute_result"
    },
    {
     "data": {
      "image/png": "[encoded data removed]",
      "text/plain": [
       "<Figure size 432x288 with 1 Axes>"
      ]
     },
     "metadata": {
      "needs_background": "light"
     },
     "output_type": "display_data"
    }
   ],
   "source": [
    "plt.hist(df[(df['release_day_of_month'] == 1) & (df['release_month'] == 1)]['release_year'].values, bins=12)"
   ]
  },
  {
   "cell_type": "markdown",
   "metadata": {},
   "source": [
    "## Day of week"
   ]
  },
  {
   "cell_type": "code",
   "execution_count": 73,
   "metadata": {},
   "outputs": [
    {
     "data": {
      "text/plain": [
       "id\n",
       "77874622.0    4\n",
       "77130752.0    4\n",
       "77126682.0    4\n",
       "9816130.0     0\n",
       "1641895.0     0\n",
       "Name: release_date, dtype: int64"
      ]
     },
     "execution_count": 73,
     "metadata": {},
     "output_type": "execute_result"
    }
   ],
   "source": [
    "pd.to_datetime(df.head()['release_date']).dt.dayofweek"
   ]
  },
  {
   "cell_type": "code",
   "execution_count": 74,
   "metadata": {},
   "outputs": [],
   "source": [
    "df.loc[:, 'release_day_of_week'] = pd.to_datetime(df['release_date']).dt.dayofweek"
   ]
  },
  {
   "cell_type": "code",
   "execution_count": 75,
   "metadata": {},
   "outputs": [
    {
     "data": {
      "text/html": [
       "<div>\n",
       "<style scoped>\n",
       "    .dataframe tbody tr th:only-of-type {\n",
       "        vertical-align: middle;\n",
       "    }\n",
       "\n",
       "    .dataframe tbody tr th {\n",
       "        vertical-align: top;\n",
       "    }\n",
       "\n",
       "    .dataframe thead th {\n",
       "        text-align: right;\n",
       "    }\n",
       "</style>\n",
       "<table border=\"1\" class=\"dataframe\">\n",
       "  <thead>\n",
       "    <tr style=\"text-align: right;\">\n",
       "      <th></th>\n",
       "      <th>title</th>\n",
       "      <th>artist_name</th>\n",
       "      <th>artist_id</th>\n",
       "      <th>artist</th>\n",
       "      <th>release_date</th>\n",
       "      <th>record_type</th>\n",
       "      <th>nb_tracks</th>\n",
       "      <th>duration</th>\n",
       "      <th>genres</th>\n",
       "      <th>explicit_lyrics</th>\n",
       "      <th>days_since_first_release</th>\n",
       "      <th>total_albums_released</th>\n",
       "      <th>release_year</th>\n",
       "      <th>release_month</th>\n",
       "      <th>release_day_of_month</th>\n",
       "      <th>release_day_of_week</th>\n",
       "    </tr>\n",
       "    <tr>\n",
       "      <th>id</th>\n",
       "      <th></th>\n",
       "      <th></th>\n",
       "      <th></th>\n",
       "      <th></th>\n",
       "      <th></th>\n",
       "      <th></th>\n",
       "      <th></th>\n",
       "      <th></th>\n",
       "      <th></th>\n",
       "      <th></th>\n",
       "      <th></th>\n",
       "      <th></th>\n",
       "      <th></th>\n",
       "      <th></th>\n",
       "      <th></th>\n",
       "      <th></th>\n",
       "    </tr>\n",
       "  </thead>\n",
       "  <tbody>\n",
       "    <tr>\n",
       "      <th>77874622.0</th>\n",
       "      <td>Phoenix</td>\n",
       "      <td>Soprano</td>\n",
       "      <td>13011</td>\n",
       "      <td>{u'picture': u'https://api.deezer.com/artist/1...</td>\n",
       "      <td>2018-11-09</td>\n",
       "      <td>album</td>\n",
       "      <td>16.0</td>\n",
       "      <td>3521.0</td>\n",
       "      <td>{u'data': [{u'picture': u'https://api.deezer.c...</td>\n",
       "      <td>False</td>\n",
       "      <td>4420</td>\n",
       "      <td>12</td>\n",
       "      <td>2018</td>\n",
       "      <td>11</td>\n",
       "      <td>9</td>\n",
       "      <td>4</td>\n",
       "    </tr>\n",
       "    <tr>\n",
       "      <th>77130752.0</th>\n",
       "      <td>L'Everest (Deluxe Edition)</td>\n",
       "      <td>Soprano</td>\n",
       "      <td>13011</td>\n",
       "      <td>{u'picture': u'https://api.deezer.com/artist/1...</td>\n",
       "      <td>2016-10-14</td>\n",
       "      <td>album</td>\n",
       "      <td>18.0</td>\n",
       "      <td>4177.0</td>\n",
       "      <td>{u'data': [{u'picture': u'https://api.deezer.c...</td>\n",
       "      <td>False</td>\n",
       "      <td>3664</td>\n",
       "      <td>11</td>\n",
       "      <td>2016</td>\n",
       "      <td>10</td>\n",
       "      <td>14</td>\n",
       "      <td>4</td>\n",
       "    </tr>\n",
       "    <tr>\n",
       "      <th>77126682.0</th>\n",
       "      <td>Cosmopolitanie (Deluxe Edition)</td>\n",
       "      <td>Soprano</td>\n",
       "      <td>13011</td>\n",
       "      <td>{u'picture': u'https://api.deezer.com/artist/1...</td>\n",
       "      <td>2015-08-21</td>\n",
       "      <td>album</td>\n",
       "      <td>28.0</td>\n",
       "      <td>6054.0</td>\n",
       "      <td>{u'data': [{u'picture': u'https://api.deezer.c...</td>\n",
       "      <td>True</td>\n",
       "      <td>3244</td>\n",
       "      <td>10</td>\n",
       "      <td>2015</td>\n",
       "      <td>8</td>\n",
       "      <td>21</td>\n",
       "      <td>4</td>\n",
       "    </tr>\n",
       "    <tr>\n",
       "      <th>9816130.0</th>\n",
       "      <td>Cosmopolitanie (Bonus Tracks)</td>\n",
       "      <td>Soprano</td>\n",
       "      <td>13011</td>\n",
       "      <td>{u'picture': u'https://api.deezer.com/artist/1...</td>\n",
       "      <td>2015-03-16</td>\n",
       "      <td>album</td>\n",
       "      <td>8.0</td>\n",
       "      <td>1753.0</td>\n",
       "      <td>{u'data': [{u'picture': u'https://api.deezer.c...</td>\n",
       "      <td>False</td>\n",
       "      <td>3086</td>\n",
       "      <td>9</td>\n",
       "      <td>2015</td>\n",
       "      <td>3</td>\n",
       "      <td>16</td>\n",
       "      <td>0</td>\n",
       "    </tr>\n",
       "    <tr>\n",
       "      <th>1641895.0</th>\n",
       "      <td>E=2MC's</td>\n",
       "      <td>Soprano</td>\n",
       "      <td>13011</td>\n",
       "      <td>{u'picture': u'https://api.deezer.com/artist/1...</td>\n",
       "      <td>2012-04-30</td>\n",
       "      <td>album</td>\n",
       "      <td>12.0</td>\n",
       "      <td>3194.0</td>\n",
       "      <td>{u'data': [{u'picture': u'https://api.deezer.c...</td>\n",
       "      <td>False</td>\n",
       "      <td>2036</td>\n",
       "      <td>8</td>\n",
       "      <td>2012</td>\n",
       "      <td>4</td>\n",
       "      <td>30</td>\n",
       "      <td>0</td>\n",
       "    </tr>\n",
       "  </tbody>\n",
       "</table>\n",
       "</div>"
      ],
      "text/plain": [
       "                                      title artist_name  artist_id  \\\n",
       "id                                                                   \n",
       "77874622.0                          Phoenix     Soprano      13011   \n",
       "77130752.0       L'Everest (Deluxe Edition)     Soprano      13011   \n",
       "77126682.0  Cosmopolitanie (Deluxe Edition)     Soprano      13011   \n",
       "9816130.0     Cosmopolitanie (Bonus Tracks)     Soprano      13011   \n",
       "1641895.0                           E=2MC's     Soprano      13011   \n",
       "\n",
       "                                                       artist release_date  \\\n",
       "id                                                                           \n",
       "77874622.0  {u'picture': u'https://api.deezer.com/artist/1...   2018-11-09   \n",
       "77130752.0  {u'picture': u'https://api.deezer.com/artist/1...   2016-10-14   \n",
       "77126682.0  {u'picture': u'https://api.deezer.com/artist/1...   2015-08-21   \n",
       "9816130.0   {u'picture': u'https://api.deezer.com/artist/1...   2015-03-16   \n",
       "1641895.0   {u'picture': u'https://api.deezer.com/artist/1...   2012-04-30   \n",
       "\n",
       "           record_type  nb_tracks  duration  \\\n",
       "id                                            \n",
       "77874622.0       album       16.0    3521.0   \n",
       "77130752.0       album       18.0    4177.0   \n",
       "77126682.0       album       28.0    6054.0   \n",
       "9816130.0        album        8.0    1753.0   \n",
       "1641895.0        album       12.0    3194.0   \n",
       "\n",
       "                                                       genres explicit_lyrics  \\\n",
       "id                                                                              \n",
       "77874622.0  {u'data': [{u'picture': u'https://api.deezer.c...           False   \n",
       "77130752.0  {u'data': [{u'picture': u'https://api.deezer.c...           False   \n",
       "77126682.0  {u'data': [{u'picture': u'https://api.deezer.c...            True   \n",
       "9816130.0   {u'data': [{u'picture': u'https://api.deezer.c...           False   \n",
       "1641895.0   {u'data': [{u'picture': u'https://api.deezer.c...           False   \n",
       "\n",
       "            days_since_first_release  total_albums_released  release_year  \\\n",
       "id                                                                          \n",
       "77874622.0                      4420                     12          2018   \n",
       "77130752.0                      3664                     11          2016   \n",
       "77126682.0                      3244                     10          2015   \n",
       "9816130.0                       3086                      9          2015   \n",
       "1641895.0                       2036                      8          2012   \n",
       "\n",
       "            release_month  release_day_of_month  release_day_of_week  \n",
       "id                                                                    \n",
       "77874622.0             11                     9                    4  \n",
       "77130752.0             10                    14                    4  \n",
       "77126682.0              8                    21                    4  \n",
       "9816130.0               3                    16                    0  \n",
       "1641895.0               4                    30                    0  "
      ]
     },
     "execution_count": 75,
     "metadata": {},
     "output_type": "execute_result"
    }
   ],
   "source": [
    "df.head()"
   ]
  },
  {
   "cell_type": "code",
   "execution_count": 76,
   "metadata": {},
   "outputs": [
    {
     "data": {
      "text/plain": [
       "(array([11337., 10160.,  3988.,  4151., 17783.,  1784.,  2025.]),\n",
       " array([0.        , 0.85714286, 1.71428571, 2.57142857, 3.42857143,\n",
       "        4.28571429, 5.14285714, 6.        ]),\n",
       " <a list of 7 Patch objects>)"
      ]
     },
     "execution_count": 76,
     "metadata": {},
     "output_type": "execute_result"
    },
    {
     "data": {
      "image/png": "[encoded data removed]",
      "text/plain": [
       "<Figure size 432x288 with 1 Axes>"
      ]
     },
     "metadata": {
      "needs_background": "light"
     },
     "output_type": "display_data"
    }
   ],
   "source": [
    "plt.hist(df['release_day_of_week'].values, bins=7)"
   ]
  },
  {
   "cell_type": "markdown",
   "metadata": {},
   "source": [
    "Seems like there is a clear winner at 4 (Friday). This is because Friday is an International Release Day.  \n",
    "But are Sunday and Monday this popular of a release day or are they just used to be."
   ]
  },
  {
   "cell_type": "code",
   "execution_count": 77,
   "metadata": {},
   "outputs": [
    {
     "data": {
      "image/png": "[encoded data removed]",
      "text/plain": [
       "<Figure size 432x288 with 1 Axes>"
      ]
     },
     "metadata": {
      "needs_background": "light"
     },
     "output_type": "display_data"
    }
   ],
   "source": [
    "years = df.groupby(['release_year']).count()['release_day_of_week'].index.values\n",
    "# total_over_years = df.groupby(['release_year']).count().astype(float)\n",
    "# total_over_years\n",
    "\n",
    "days_of_week = df['release_day_of_week'].unique()\n",
    "for day_of_week in days_of_week:\n",
    "    day_of_week_data = df[df['release_day_of_week'] == day_of_week].groupby(['release_year']).count()# / total_over_years\n",
    "    day_of_week_data = day_of_week_data.reindex(years, fill_value=0)['title'].values\n",
    "    plt.plot(years, day_of_week_data, label=str(day_of_week))"
   ]
  },
  {
   "cell_type": "markdown",
   "metadata": {},
   "source": [
    "# Release type"
   ]
  },
  {
   "cell_type": "code",
   "execution_count": 78,
   "metadata": {},
   "outputs": [
    {
     "data": {
      "text/plain": [
       "array(['album', 'single', 'compile', 'ep', 'bundle'], dtype=object)"
      ]
     },
     "execution_count": 78,
     "metadata": {},
     "output_type": "execute_result"
    }
   ],
   "source": [
    "record_types = df['record_type'].unique()\n",
    "record_types"
   ]
  },
  {
   "cell_type": "markdown",
   "metadata": {},
   "source": [
    "Albums, singles, and EPs are types of releases where and artist creates new content.  \n",
    "But compiles and bundles is just a compilation of previously released tracks.  \n",
    "Since we're only interested in predicting next new piece of content let's drop compiles and bundles."
   ]
  },
  {
   "cell_type": "code",
   "execution_count": 79,
   "metadata": {},
   "outputs": [],
   "source": [
    "df.drop(df[(df['record_type'] == 'compile') | (df['record_type'] == 'bundle')].index, inplace=True)"
   ]
  },
  {
   "cell_type": "code",
   "execution_count": 80,
   "metadata": {},
   "outputs": [
    {
     "data": {
      "text/plain": [
       "(50244, 16)"
      ]
     },
     "execution_count": 80,
     "metadata": {},
     "output_type": "execute_result"
    }
   ],
   "source": [
    "df.shape"
   ]
  },
  {
   "cell_type": "code",
   "execution_count": 81,
   "metadata": {},
   "outputs": [
    {
     "data": {
      "text/plain": [
       "array(['album', 'single', 'ep'], dtype=object)"
      ]
     },
     "execution_count": 81,
     "metadata": {},
     "output_type": "execute_result"
    }
   ],
   "source": [
    "record_types = df['record_type'].unique()\n",
    "record_types"
   ]
  },
  {
   "cell_type": "code",
   "execution_count": 82,
   "metadata": {},
   "outputs": [
    {
     "data": {
      "text/html": [
       "<div>\n",
       "<style scoped>\n",
       "    .dataframe tbody tr th:only-of-type {\n",
       "        vertical-align: middle;\n",
       "    }\n",
       "\n",
       "    .dataframe tbody tr th {\n",
       "        vertical-align: top;\n",
       "    }\n",
       "\n",
       "    .dataframe thead th {\n",
       "        text-align: right;\n",
       "    }\n",
       "</style>\n",
       "<table border=\"1\" class=\"dataframe\">\n",
       "  <thead>\n",
       "    <tr style=\"text-align: right;\">\n",
       "      <th></th>\n",
       "      <th>title</th>\n",
       "      <th>artist_name</th>\n",
       "      <th>artist_id</th>\n",
       "      <th>artist</th>\n",
       "      <th>release_date</th>\n",
       "      <th>record_type</th>\n",
       "      <th>nb_tracks</th>\n",
       "      <th>duration</th>\n",
       "      <th>genres</th>\n",
       "      <th>explicit_lyrics</th>\n",
       "      <th>days_since_first_release</th>\n",
       "      <th>total_albums_released</th>\n",
       "      <th>release_year</th>\n",
       "      <th>release_month</th>\n",
       "      <th>release_day_of_month</th>\n",
       "      <th>release_day_of_week</th>\n",
       "      <th>record_type_album</th>\n",
       "      <th>record_type_single</th>\n",
       "      <th>record_type_ep</th>\n",
       "    </tr>\n",
       "    <tr>\n",
       "      <th>id</th>\n",
       "      <th></th>\n",
       "      <th></th>\n",
       "      <th></th>\n",
       "      <th></th>\n",
       "      <th></th>\n",
       "      <th></th>\n",
       "      <th></th>\n",
       "      <th></th>\n",
       "      <th></th>\n",
       "      <th></th>\n",
       "      <th></th>\n",
       "      <th></th>\n",
       "      <th></th>\n",
       "      <th></th>\n",
       "      <th></th>\n",
       "      <th></th>\n",
       "      <th></th>\n",
       "      <th></th>\n",
       "      <th></th>\n",
       "    </tr>\n",
       "  </thead>\n",
       "  <tbody>\n",
       "    <tr>\n",
       "      <th>77874622.0</th>\n",
       "      <td>Phoenix</td>\n",
       "      <td>Soprano</td>\n",
       "      <td>13011</td>\n",
       "      <td>{u'picture': u'https://api.deezer.com/artist/1...</td>\n",
       "      <td>2018-11-09</td>\n",
       "      <td>album</td>\n",
       "      <td>16.0</td>\n",
       "      <td>3521.0</td>\n",
       "      <td>{u'data': [{u'picture': u'https://api.deezer.c...</td>\n",
       "      <td>False</td>\n",
       "      <td>4420</td>\n",
       "      <td>12</td>\n",
       "      <td>2018</td>\n",
       "      <td>11</td>\n",
       "      <td>9</td>\n",
       "      <td>4</td>\n",
       "      <td>1</td>\n",
       "      <td>0</td>\n",
       "      <td>0</td>\n",
       "    </tr>\n",
       "    <tr>\n",
       "      <th>77130752.0</th>\n",
       "      <td>L'Everest (Deluxe Edition)</td>\n",
       "      <td>Soprano</td>\n",
       "      <td>13011</td>\n",
       "      <td>{u'picture': u'https://api.deezer.com/artist/1...</td>\n",
       "      <td>2016-10-14</td>\n",
       "      <td>album</td>\n",
       "      <td>18.0</td>\n",
       "      <td>4177.0</td>\n",
       "      <td>{u'data': [{u'picture': u'https://api.deezer.c...</td>\n",
       "      <td>False</td>\n",
       "      <td>3664</td>\n",
       "      <td>11</td>\n",
       "      <td>2016</td>\n",
       "      <td>10</td>\n",
       "      <td>14</td>\n",
       "      <td>4</td>\n",
       "      <td>1</td>\n",
       "      <td>0</td>\n",
       "      <td>0</td>\n",
       "    </tr>\n",
       "    <tr>\n",
       "      <th>77126682.0</th>\n",
       "      <td>Cosmopolitanie (Deluxe Edition)</td>\n",
       "      <td>Soprano</td>\n",
       "      <td>13011</td>\n",
       "      <td>{u'picture': u'https://api.deezer.com/artist/1...</td>\n",
       "      <td>2015-08-21</td>\n",
       "      <td>album</td>\n",
       "      <td>28.0</td>\n",
       "      <td>6054.0</td>\n",
       "      <td>{u'data': [{u'picture': u'https://api.deezer.c...</td>\n",
       "      <td>True</td>\n",
       "      <td>3244</td>\n",
       "      <td>10</td>\n",
       "      <td>2015</td>\n",
       "      <td>8</td>\n",
       "      <td>21</td>\n",
       "      <td>4</td>\n",
       "      <td>1</td>\n",
       "      <td>0</td>\n",
       "      <td>0</td>\n",
       "    </tr>\n",
       "    <tr>\n",
       "      <th>9816130.0</th>\n",
       "      <td>Cosmopolitanie (Bonus Tracks)</td>\n",
       "      <td>Soprano</td>\n",
       "      <td>13011</td>\n",
       "      <td>{u'picture': u'https://api.deezer.com/artist/1...</td>\n",
       "      <td>2015-03-16</td>\n",
       "      <td>album</td>\n",
       "      <td>8.0</td>\n",
       "      <td>1753.0</td>\n",
       "      <td>{u'data': [{u'picture': u'https://api.deezer.c...</td>\n",
       "      <td>False</td>\n",
       "      <td>3086</td>\n",
       "      <td>9</td>\n",
       "      <td>2015</td>\n",
       "      <td>3</td>\n",
       "      <td>16</td>\n",
       "      <td>0</td>\n",
       "      <td>1</td>\n",
       "      <td>0</td>\n",
       "      <td>0</td>\n",
       "    </tr>\n",
       "    <tr>\n",
       "      <th>1641895.0</th>\n",
       "      <td>E=2MC's</td>\n",
       "      <td>Soprano</td>\n",
       "      <td>13011</td>\n",
       "      <td>{u'picture': u'https://api.deezer.com/artist/1...</td>\n",
       "      <td>2012-04-30</td>\n",
       "      <td>album</td>\n",
       "      <td>12.0</td>\n",
       "      <td>3194.0</td>\n",
       "      <td>{u'data': [{u'picture': u'https://api.deezer.c...</td>\n",
       "      <td>False</td>\n",
       "      <td>2036</td>\n",
       "      <td>8</td>\n",
       "      <td>2012</td>\n",
       "      <td>4</td>\n",
       "      <td>30</td>\n",
       "      <td>0</td>\n",
       "      <td>1</td>\n",
       "      <td>0</td>\n",
       "      <td>0</td>\n",
       "    </tr>\n",
       "  </tbody>\n",
       "</table>\n",
       "</div>"
      ],
      "text/plain": [
       "                                      title artist_name  artist_id  \\\n",
       "id                                                                   \n",
       "77874622.0                          Phoenix     Soprano      13011   \n",
       "77130752.0       L'Everest (Deluxe Edition)     Soprano      13011   \n",
       "77126682.0  Cosmopolitanie (Deluxe Edition)     Soprano      13011   \n",
       "9816130.0     Cosmopolitanie (Bonus Tracks)     Soprano      13011   \n",
       "1641895.0                           E=2MC's     Soprano      13011   \n",
       "\n",
       "                                                       artist release_date  \\\n",
       "id                                                                           \n",
       "77874622.0  {u'picture': u'https://api.deezer.com/artist/1...   2018-11-09   \n",
       "77130752.0  {u'picture': u'https://api.deezer.com/artist/1...   2016-10-14   \n",
       "77126682.0  {u'picture': u'https://api.deezer.com/artist/1...   2015-08-21   \n",
       "9816130.0   {u'picture': u'https://api.deezer.com/artist/1...   2015-03-16   \n",
       "1641895.0   {u'picture': u'https://api.deezer.com/artist/1...   2012-04-30   \n",
       "\n",
       "           record_type  nb_tracks  duration  \\\n",
       "id                                            \n",
       "77874622.0       album       16.0    3521.0   \n",
       "77130752.0       album       18.0    4177.0   \n",
       "77126682.0       album       28.0    6054.0   \n",
       "9816130.0        album        8.0    1753.0   \n",
       "1641895.0        album       12.0    3194.0   \n",
       "\n",
       "                                                       genres explicit_lyrics  \\\n",
       "id                                                                              \n",
       "77874622.0  {u'data': [{u'picture': u'https://api.deezer.c...           False   \n",
       "77130752.0  {u'data': [{u'picture': u'https://api.deezer.c...           False   \n",
       "77126682.0  {u'data': [{u'picture': u'https://api.deezer.c...            True   \n",
       "9816130.0   {u'data': [{u'picture': u'https://api.deezer.c...           False   \n",
       "1641895.0   {u'data': [{u'picture': u'https://api.deezer.c...           False   \n",
       "\n",
       "            days_since_first_release  total_albums_released  release_year  \\\n",
       "id                                                                          \n",
       "77874622.0                      4420                     12          2018   \n",
       "77130752.0                      3664                     11          2016   \n",
       "77126682.0                      3244                     10          2015   \n",
       "9816130.0                       3086                      9          2015   \n",
       "1641895.0                       2036                      8          2012   \n",
       "\n",
       "            release_month  release_day_of_month  release_day_of_week  \\\n",
       "id                                                                     \n",
       "77874622.0             11                     9                    4   \n",
       "77130752.0             10                    14                    4   \n",
       "77126682.0              8                    21                    4   \n",
       "9816130.0               3                    16                    0   \n",
       "1641895.0               4                    30                    0   \n",
       "\n",
       "            record_type_album  record_type_single  record_type_ep  \n",
       "id                                                                 \n",
       "77874622.0                  1                   0               0  \n",
       "77130752.0                  1                   0               0  \n",
       "77126682.0                  1                   0               0  \n",
       "9816130.0                   1                   0               0  \n",
       "1641895.0                   1                   0               0  "
      ]
     },
     "execution_count": 82,
     "metadata": {},
     "output_type": "execute_result"
    }
   ],
   "source": [
    "for record_type in record_types:\n",
    "    df['record_type_' + record_type] = (df['record_type'] == record_type).astype(int)\n",
    "df.head()"
   ]
  },
  {
   "cell_type": "markdown",
   "metadata": {},
   "source": [
    "# Target (days until the next release)"
   ]
  },
  {
   "cell_type": "code",
   "execution_count": 83,
   "metadata": {},
   "outputs": [],
   "source": [
    "# pd.to_datetime(df['release_date']).dt.date.head()"
   ]
  },
  {
   "cell_type": "code",
   "execution_count": 84,
   "metadata": {},
   "outputs": [],
   "source": [
    "# min(df['release_date'])"
   ]
  },
  {
   "cell_type": "code",
   "execution_count": 85,
   "metadata": {},
   "outputs": [],
   "source": [
    "# max(df['release_date'])"
   ]
  },
  {
   "cell_type": "code",
   "execution_count": 86,
   "metadata": {},
   "outputs": [],
   "source": [
    "# artist_id = album.artist_id\n",
    "# artist_id"
   ]
  },
  {
   "cell_type": "code",
   "execution_count": 87,
   "metadata": {},
   "outputs": [],
   "source": [
    "# artist_albums = df[df['artist_id'] == artist_id].sort_values('release_date')\n",
    "# artist_albums"
   ]
  },
  {
   "cell_type": "code",
   "execution_count": 88,
   "metadata": {},
   "outputs": [],
   "source": [
    "# release_date = album.release_date\n",
    "# release_date"
   ]
  },
  {
   "cell_type": "code",
   "execution_count": 89,
   "metadata": {},
   "outputs": [],
   "source": [
    "# next_album = artist_albums[artist_albums['release_date'] > release_date].head(1)\n",
    "# next_album"
   ]
  },
  {
   "cell_type": "code",
   "execution_count": 90,
   "metadata": {},
   "outputs": [],
   "source": [
    "# next_album_release_date = next_album.release_date.values[0]\n",
    "# next_album_release_date"
   ]
  },
  {
   "cell_type": "code",
   "execution_count": 91,
   "metadata": {},
   "outputs": [],
   "source": [
    "# date_difference = next_album_release_date - release_date\n",
    "# date_difference"
   ]
  },
  {
   "cell_type": "code",
   "execution_count": 92,
   "metadata": {},
   "outputs": [],
   "source": [
    "# date_difference.days"
   ]
  },
  {
   "cell_type": "code",
   "execution_count": 93,
   "metadata": {},
   "outputs": [],
   "source": [
    "# date_difference.days.__class__"
   ]
  },
  {
   "cell_type": "code",
   "execution_count": 94,
   "metadata": {},
   "outputs": [],
   "source": [
    "def days_until_next_release(album):\n",
    "    artist_id = album.artist_id\n",
    "    artist_albums = df[df['artist_id'] == artist_id].sort_values('release_date')\n",
    "\n",
    "    album_release_date = album.release_date\n",
    "\n",
    "    next_album = artist_albums[artist_albums['release_date'] > album_release_date].head(1)\n",
    "    if len(next_album) == 0:\n",
    "        return(None)\n",
    "    else:\n",
    "        next_album_release_date = next_album.release_date.values\n",
    "        next_album_release_date = next_album_release_date[0]\n",
    "        date_difference = next_album_release_date - album_release_date\n",
    "        return(date_difference.days)"
   ]
  },
  {
   "cell_type": "code",
   "execution_count": 95,
   "metadata": {},
   "outputs": [],
   "source": [
    "# days_until_next_release(album)"
   ]
  },
  {
   "cell_type": "code",
   "execution_count": 96,
   "metadata": {},
   "outputs": [],
   "source": [
    "# the last album from the artist\n",
    "# days_until_next_release(last_album)"
   ]
  },
  {
   "cell_type": "code",
   "execution_count": 97,
   "metadata": {},
   "outputs": [
    {
     "data": {
      "text/plain": [
       "id\n",
       "77874622.0       NaN\n",
       "77130752.0     756.0\n",
       "77126682.0     420.0\n",
       "9816130.0      158.0\n",
       "1641895.0     1050.0\n",
       "1523930.0       73.0\n",
       "40632261.0     338.0\n",
       "301745.0       147.0\n",
       "77133732.0     406.0\n",
       "1252759.0        NaN\n",
       "dtype: float64"
      ]
     },
     "execution_count": 97,
     "metadata": {},
     "output_type": "execute_result"
    }
   ],
   "source": [
    "df.head(10).apply(days_until_next_release, axis=1)"
   ]
  },
  {
   "cell_type": "code",
   "execution_count": 98,
   "metadata": {},
   "outputs": [],
   "source": [
    "df['days_until_next_album'] = df.apply(days_until_next_release, axis=1)"
   ]
  },
  {
   "cell_type": "code",
   "execution_count": 99,
   "metadata": {},
   "outputs": [
    {
     "data": {
      "text/html": [
       "<div>\n",
       "<style scoped>\n",
       "    .dataframe tbody tr th:only-of-type {\n",
       "        vertical-align: middle;\n",
       "    }\n",
       "\n",
       "    .dataframe tbody tr th {\n",
       "        vertical-align: top;\n",
       "    }\n",
       "\n",
       "    .dataframe thead th {\n",
       "        text-align: right;\n",
       "    }\n",
       "</style>\n",
       "<table border=\"1\" class=\"dataframe\">\n",
       "  <thead>\n",
       "    <tr style=\"text-align: right;\">\n",
       "      <th></th>\n",
       "      <th>title</th>\n",
       "      <th>artist_name</th>\n",
       "      <th>artist_id</th>\n",
       "      <th>artist</th>\n",
       "      <th>release_date</th>\n",
       "      <th>record_type</th>\n",
       "      <th>nb_tracks</th>\n",
       "      <th>duration</th>\n",
       "      <th>genres</th>\n",
       "      <th>explicit_lyrics</th>\n",
       "      <th>days_since_first_release</th>\n",
       "      <th>total_albums_released</th>\n",
       "      <th>release_year</th>\n",
       "      <th>release_month</th>\n",
       "      <th>release_day_of_month</th>\n",
       "      <th>release_day_of_week</th>\n",
       "      <th>record_type_album</th>\n",
       "      <th>record_type_single</th>\n",
       "      <th>record_type_ep</th>\n",
       "      <th>days_until_next_album</th>\n",
       "    </tr>\n",
       "    <tr>\n",
       "      <th>id</th>\n",
       "      <th></th>\n",
       "      <th></th>\n",
       "      <th></th>\n",
       "      <th></th>\n",
       "      <th></th>\n",
       "      <th></th>\n",
       "      <th></th>\n",
       "      <th></th>\n",
       "      <th></th>\n",
       "      <th></th>\n",
       "      <th></th>\n",
       "      <th></th>\n",
       "      <th></th>\n",
       "      <th></th>\n",
       "      <th></th>\n",
       "      <th></th>\n",
       "      <th></th>\n",
       "      <th></th>\n",
       "      <th></th>\n",
       "      <th></th>\n",
       "    </tr>\n",
       "  </thead>\n",
       "  <tbody>\n",
       "    <tr>\n",
       "      <th>77874622.0</th>\n",
       "      <td>Phoenix</td>\n",
       "      <td>Soprano</td>\n",
       "      <td>13011</td>\n",
       "      <td>{u'picture': u'https://api.deezer.com/artist/1...</td>\n",
       "      <td>2018-11-09</td>\n",
       "      <td>album</td>\n",
       "      <td>16.0</td>\n",
       "      <td>3521.0</td>\n",
       "      <td>{u'data': [{u'picture': u'https://api.deezer.c...</td>\n",
       "      <td>False</td>\n",
       "      <td>4420</td>\n",
       "      <td>12</td>\n",
       "      <td>2018</td>\n",
       "      <td>11</td>\n",
       "      <td>9</td>\n",
       "      <td>4</td>\n",
       "      <td>1</td>\n",
       "      <td>0</td>\n",
       "      <td>0</td>\n",
       "      <td>NaN</td>\n",
       "    </tr>\n",
       "    <tr>\n",
       "      <th>77130752.0</th>\n",
       "      <td>L'Everest (Deluxe Edition)</td>\n",
       "      <td>Soprano</td>\n",
       "      <td>13011</td>\n",
       "      <td>{u'picture': u'https://api.deezer.com/artist/1...</td>\n",
       "      <td>2016-10-14</td>\n",
       "      <td>album</td>\n",
       "      <td>18.0</td>\n",
       "      <td>4177.0</td>\n",
       "      <td>{u'data': [{u'picture': u'https://api.deezer.c...</td>\n",
       "      <td>False</td>\n",
       "      <td>3664</td>\n",
       "      <td>11</td>\n",
       "      <td>2016</td>\n",
       "      <td>10</td>\n",
       "      <td>14</td>\n",
       "      <td>4</td>\n",
       "      <td>1</td>\n",
       "      <td>0</td>\n",
       "      <td>0</td>\n",
       "      <td>756.0</td>\n",
       "    </tr>\n",
       "    <tr>\n",
       "      <th>77126682.0</th>\n",
       "      <td>Cosmopolitanie (Deluxe Edition)</td>\n",
       "      <td>Soprano</td>\n",
       "      <td>13011</td>\n",
       "      <td>{u'picture': u'https://api.deezer.com/artist/1...</td>\n",
       "      <td>2015-08-21</td>\n",
       "      <td>album</td>\n",
       "      <td>28.0</td>\n",
       "      <td>6054.0</td>\n",
       "      <td>{u'data': [{u'picture': u'https://api.deezer.c...</td>\n",
       "      <td>True</td>\n",
       "      <td>3244</td>\n",
       "      <td>10</td>\n",
       "      <td>2015</td>\n",
       "      <td>8</td>\n",
       "      <td>21</td>\n",
       "      <td>4</td>\n",
       "      <td>1</td>\n",
       "      <td>0</td>\n",
       "      <td>0</td>\n",
       "      <td>420.0</td>\n",
       "    </tr>\n",
       "    <tr>\n",
       "      <th>9816130.0</th>\n",
       "      <td>Cosmopolitanie (Bonus Tracks)</td>\n",
       "      <td>Soprano</td>\n",
       "      <td>13011</td>\n",
       "      <td>{u'picture': u'https://api.deezer.com/artist/1...</td>\n",
       "      <td>2015-03-16</td>\n",
       "      <td>album</td>\n",
       "      <td>8.0</td>\n",
       "      <td>1753.0</td>\n",
       "      <td>{u'data': [{u'picture': u'https://api.deezer.c...</td>\n",
       "      <td>False</td>\n",
       "      <td>3086</td>\n",
       "      <td>9</td>\n",
       "      <td>2015</td>\n",
       "      <td>3</td>\n",
       "      <td>16</td>\n",
       "      <td>0</td>\n",
       "      <td>1</td>\n",
       "      <td>0</td>\n",
       "      <td>0</td>\n",
       "      <td>158.0</td>\n",
       "    </tr>\n",
       "    <tr>\n",
       "      <th>1641895.0</th>\n",
       "      <td>E=2MC's</td>\n",
       "      <td>Soprano</td>\n",
       "      <td>13011</td>\n",
       "      <td>{u'picture': u'https://api.deezer.com/artist/1...</td>\n",
       "      <td>2012-04-30</td>\n",
       "      <td>album</td>\n",
       "      <td>12.0</td>\n",
       "      <td>3194.0</td>\n",
       "      <td>{u'data': [{u'picture': u'https://api.deezer.c...</td>\n",
       "      <td>False</td>\n",
       "      <td>2036</td>\n",
       "      <td>8</td>\n",
       "      <td>2012</td>\n",
       "      <td>4</td>\n",
       "      <td>30</td>\n",
       "      <td>0</td>\n",
       "      <td>1</td>\n",
       "      <td>0</td>\n",
       "      <td>0</td>\n",
       "      <td>1050.0</td>\n",
       "    </tr>\n",
       "  </tbody>\n",
       "</table>\n",
       "</div>"
      ],
      "text/plain": [
       "                                      title artist_name  artist_id  \\\n",
       "id                                                                   \n",
       "77874622.0                          Phoenix     Soprano      13011   \n",
       "77130752.0       L'Everest (Deluxe Edition)     Soprano      13011   \n",
       "77126682.0  Cosmopolitanie (Deluxe Edition)     Soprano      13011   \n",
       "9816130.0     Cosmopolitanie (Bonus Tracks)     Soprano      13011   \n",
       "1641895.0                           E=2MC's     Soprano      13011   \n",
       "\n",
       "                                                       artist release_date  \\\n",
       "id                                                                           \n",
       "77874622.0  {u'picture': u'https://api.deezer.com/artist/1...   2018-11-09   \n",
       "77130752.0  {u'picture': u'https://api.deezer.com/artist/1...   2016-10-14   \n",
       "77126682.0  {u'picture': u'https://api.deezer.com/artist/1...   2015-08-21   \n",
       "9816130.0   {u'picture': u'https://api.deezer.com/artist/1...   2015-03-16   \n",
       "1641895.0   {u'picture': u'https://api.deezer.com/artist/1...   2012-04-30   \n",
       "\n",
       "           record_type  nb_tracks  duration  \\\n",
       "id                                            \n",
       "77874622.0       album       16.0    3521.0   \n",
       "77130752.0       album       18.0    4177.0   \n",
       "77126682.0       album       28.0    6054.0   \n",
       "9816130.0        album        8.0    1753.0   \n",
       "1641895.0        album       12.0    3194.0   \n",
       "\n",
       "                                                       genres explicit_lyrics  \\\n",
       "id                                                                              \n",
       "77874622.0  {u'data': [{u'picture': u'https://api.deezer.c...           False   \n",
       "77130752.0  {u'data': [{u'picture': u'https://api.deezer.c...           False   \n",
       "77126682.0  {u'data': [{u'picture': u'https://api.deezer.c...            True   \n",
       "9816130.0   {u'data': [{u'picture': u'https://api.deezer.c...           False   \n",
       "1641895.0   {u'data': [{u'picture': u'https://api.deezer.c...           False   \n",
       "\n",
       "            days_since_first_release  total_albums_released  release_year  \\\n",
       "id                                                                          \n",
       "77874622.0                      4420                     12          2018   \n",
       "77130752.0                      3664                     11          2016   \n",
       "77126682.0                      3244                     10          2015   \n",
       "9816130.0                       3086                      9          2015   \n",
       "1641895.0                       2036                      8          2012   \n",
       "\n",
       "            release_month  release_day_of_month  release_day_of_week  \\\n",
       "id                                                                     \n",
       "77874622.0             11                     9                    4   \n",
       "77130752.0             10                    14                    4   \n",
       "77126682.0              8                    21                    4   \n",
       "9816130.0               3                    16                    0   \n",
       "1641895.0               4                    30                    0   \n",
       "\n",
       "            record_type_album  record_type_single  record_type_ep  \\\n",
       "id                                                                  \n",
       "77874622.0                  1                   0               0   \n",
       "77130752.0                  1                   0               0   \n",
       "77126682.0                  1                   0               0   \n",
       "9816130.0                   1                   0               0   \n",
       "1641895.0                   1                   0               0   \n",
       "\n",
       "            days_until_next_album  \n",
       "id                                 \n",
       "77874622.0                    NaN  \n",
       "77130752.0                  756.0  \n",
       "77126682.0                  420.0  \n",
       "9816130.0                   158.0  \n",
       "1641895.0                  1050.0  "
      ]
     },
     "execution_count": 99,
     "metadata": {},
     "output_type": "execute_result"
    }
   ],
   "source": [
    "df.head()"
   ]
  },
  {
   "cell_type": "code",
   "execution_count": 100,
   "metadata": {},
   "outputs": [],
   "source": [
    "# final test\n",
    "# df[df['artist_id'] == artist_id].sort_values('release_date')"
   ]
  },
  {
   "cell_type": "code",
   "execution_count": 101,
   "metadata": {},
   "outputs": [
    {
     "data": {
      "text/plain": [
       "(50244, 20)"
      ]
     },
     "execution_count": 101,
     "metadata": {},
     "output_type": "execute_result"
    }
   ],
   "source": [
    "df.shape"
   ]
  },
  {
   "cell_type": "code",
   "execution_count": 102,
   "metadata": {},
   "outputs": [
    {
     "data": {
      "text/plain": [
       "(45049, 20)"
      ]
     },
     "execution_count": 102,
     "metadata": {},
     "output_type": "execute_result"
    }
   ],
   "source": [
    "# clean up all rows without the next release\n",
    "# since they don't give us any information we can act on\n",
    "df = df.dropna(subset=['days_until_next_album'])\n",
    "df.shape"
   ]
  },
  {
   "cell_type": "code",
   "execution_count": 103,
   "metadata": {},
   "outputs": [
    {
     "data": {
      "text/plain": [
       "(array([2.8756e+04, 5.9910e+03, 3.3670e+03, 2.0860e+03, 1.4340e+03,\n",
       "        8.9600e+02, 6.2800e+02, 4.8900e+02, 3.1100e+02, 2.2100e+02,\n",
       "        1.6600e+02, 1.6800e+02, 1.2000e+02, 6.7000e+01, 6.0000e+01,\n",
       "        6.6000e+01, 4.4000e+01, 2.9000e+01, 3.2000e+01, 1.9000e+01,\n",
       "        1.9000e+01, 2.2000e+01, 2.0000e+01, 9.0000e+00, 1.1000e+01,\n",
       "        1.0000e+01, 2.0000e+00, 1.0000e+00, 4.0000e+00, 1.0000e+00]),\n",
       " array([1.00000000e+00, 1.75433333e+02, 3.49866667e+02, 5.24300000e+02,\n",
       "        6.98733333e+02, 8.73166667e+02, 1.04760000e+03, 1.22203333e+03,\n",
       "        1.39646667e+03, 1.57090000e+03, 1.74533333e+03, 1.91976667e+03,\n",
       "        2.09420000e+03, 2.26863333e+03, 2.44306667e+03, 2.61750000e+03,\n",
       "        2.79193333e+03, 2.96636667e+03, 3.14080000e+03, 3.31523333e+03,\n",
       "        3.48966667e+03, 3.66410000e+03, 3.83853333e+03, 4.01296667e+03,\n",
       "        4.18740000e+03, 4.36183333e+03, 4.53626667e+03, 4.71070000e+03,\n",
       "        4.88513333e+03, 5.05956667e+03, 5.23400000e+03]),\n",
       " <a list of 30 Patch objects>)"
      ]
     },
     "execution_count": 103,
     "metadata": {},
     "output_type": "execute_result"
    },
    {
     "data": {
      "image/png": "[encoded data removed]",
      "text/plain": [
       "<Figure size 432x288 with 1 Axes>"
      ]
     },
     "metadata": {
      "needs_background": "light"
     },
     "output_type": "display_data"
    }
   ],
   "source": [
    "plt.hist(df['days_until_next_album'].values, bins=30)"
   ]
  },
  {
   "cell_type": "code",
   "execution_count": 104,
   "metadata": {},
   "outputs": [
    {
     "data": {
      "text/html": [
       "<div>\n",
       "<style scoped>\n",
       "    .dataframe tbody tr th:only-of-type {\n",
       "        vertical-align: middle;\n",
       "    }\n",
       "\n",
       "    .dataframe tbody tr th {\n",
       "        vertical-align: top;\n",
       "    }\n",
       "\n",
       "    .dataframe thead th {\n",
       "        text-align: right;\n",
       "    }\n",
       "</style>\n",
       "<table border=\"1\" class=\"dataframe\">\n",
       "  <thead>\n",
       "    <tr style=\"text-align: right;\">\n",
       "      <th></th>\n",
       "      <th>title</th>\n",
       "      <th>artist_name</th>\n",
       "      <th>artist_id</th>\n",
       "      <th>artist</th>\n",
       "      <th>release_date</th>\n",
       "      <th>record_type</th>\n",
       "      <th>nb_tracks</th>\n",
       "      <th>duration</th>\n",
       "      <th>genres</th>\n",
       "      <th>explicit_lyrics</th>\n",
       "      <th>days_since_first_release</th>\n",
       "      <th>total_albums_released</th>\n",
       "      <th>release_year</th>\n",
       "      <th>release_month</th>\n",
       "      <th>release_day_of_month</th>\n",
       "      <th>release_day_of_week</th>\n",
       "      <th>record_type_album</th>\n",
       "      <th>record_type_single</th>\n",
       "      <th>record_type_ep</th>\n",
       "      <th>days_until_next_album</th>\n",
       "    </tr>\n",
       "    <tr>\n",
       "      <th>id</th>\n",
       "      <th></th>\n",
       "      <th></th>\n",
       "      <th></th>\n",
       "      <th></th>\n",
       "      <th></th>\n",
       "      <th></th>\n",
       "      <th></th>\n",
       "      <th></th>\n",
       "      <th></th>\n",
       "      <th></th>\n",
       "      <th></th>\n",
       "      <th></th>\n",
       "      <th></th>\n",
       "      <th></th>\n",
       "      <th></th>\n",
       "      <th></th>\n",
       "      <th></th>\n",
       "      <th></th>\n",
       "      <th></th>\n",
       "      <th></th>\n",
       "    </tr>\n",
       "  </thead>\n",
       "  <tbody>\n",
       "  </tbody>\n",
       "</table>\n",
       "</div>"
      ],
      "text/plain": [
       "Empty DataFrame\n",
       "Columns: [title, artist_name, artist_id, artist, release_date, record_type, nb_tracks, duration, genres, explicit_lyrics, days_since_first_release, total_albums_released, release_year, release_month, release_day_of_month, release_day_of_week, record_type_album, record_type_single, record_type_ep, days_until_next_album]\n",
       "Index: []"
      ]
     },
     "execution_count": 104,
     "metadata": {},
     "output_type": "execute_result"
    }
   ],
   "source": [
    "df[df['days_until_next_album'] > 10000]"
   ]
  },
  {
   "cell_type": "markdown",
   "metadata": {},
   "source": [
    "# Releases in the last N days"
   ]
  },
  {
   "cell_type": "code",
   "execution_count": 105,
   "metadata": {},
   "outputs": [],
   "source": [
    "def albums_released_in(album, days_from, days_to):\n",
    "    artist_id = album.artist_id\n",
    "    artist_albums = df[df['artist_id'] == artist_id]#.sort_values('release_date')\n",
    "\n",
    "    date_from = album.release_date - datetime.timedelta(days=days_from)\n",
    "    date_to = album.release_date - datetime.timedelta(days=days_to)\n",
    "\n",
    "    albums_previously_released = artist_albums[(artist_albums['release_date'] < date_to) & (artist_albums['release_date'] >= date_from)]\n",
    "    return(albums_previously_released.shape[0])"
   ]
  },
  {
   "cell_type": "code",
   "execution_count": 106,
   "metadata": {},
   "outputs": [],
   "source": [
    "def albums_released_in_30_days(album):\n",
    "    return(albums_released_in(album, 0, 30))\n",
    "\n",
    "def albums_released_in_30_60_days(album):\n",
    "    return(albums_released_in(album, 30, 60))\n",
    "\n",
    "def albums_released_in_60_90_days(album):\n",
    "    return(albums_released_in(album, 60, 90))\n",
    "\n",
    "def albums_released_in_90_180_days(album):\n",
    "    return(albums_released_in(album, 90, 180))\n",
    "\n",
    "def albums_released_in_180_360_days(album):\n",
    "    return(albums_released_in(album, 180, 360))\n",
    "\n",
    "def albums_released_in_360_720_days(album):\n",
    "    return(albums_released_in(album, 360, 720))"
   ]
  },
  {
   "cell_type": "code",
   "execution_count": 107,
   "metadata": {},
   "outputs": [],
   "source": [
    "# df.head(10).apply(albums_released_in_30_days, axis=1)"
   ]
  },
  {
   "cell_type": "code",
   "execution_count": 108,
   "metadata": {},
   "outputs": [],
   "source": [
    "df['albums_released_in_30_days'] = df.apply(albums_released_in_30_days, axis=1)"
   ]
  },
  {
   "cell_type": "code",
   "execution_count": 109,
   "metadata": {},
   "outputs": [],
   "source": [
    "df['albums_released_in_30_60_days'] = df.apply(albums_released_in_30_60_days, axis=1)"
   ]
  },
  {
   "cell_type": "code",
   "execution_count": 110,
   "metadata": {},
   "outputs": [],
   "source": [
    "df['albums_released_in_60_90_days'] = df.apply(albums_released_in_60_90_days, axis=1)"
   ]
  },
  {
   "cell_type": "code",
   "execution_count": 111,
   "metadata": {},
   "outputs": [],
   "source": [
    "df['albums_released_in_90_180_days'] = df.apply(albums_released_in_90_180_days, axis=1)"
   ]
  },
  {
   "cell_type": "code",
   "execution_count": 112,
   "metadata": {},
   "outputs": [],
   "source": [
    "df['albums_released_in_180_360_days'] = df.apply(albums_released_in_180_360_days, axis=1)"
   ]
  },
  {
   "cell_type": "code",
   "execution_count": 113,
   "metadata": {},
   "outputs": [],
   "source": [
    "df['albums_released_in_360_720_days'] = df.apply(albums_released_in_360_720_days, axis=1)"
   ]
  },
  {
   "cell_type": "code",
   "execution_count": 114,
   "metadata": {},
   "outputs": [
    {
     "data": {
      "text/html": [
       "<div>\n",
       "<style scoped>\n",
       "    .dataframe tbody tr th:only-of-type {\n",
       "        vertical-align: middle;\n",
       "    }\n",
       "\n",
       "    .dataframe tbody tr th {\n",
       "        vertical-align: top;\n",
       "    }\n",
       "\n",
       "    .dataframe thead th {\n",
       "        text-align: right;\n",
       "    }\n",
       "</style>\n",
       "<table border=\"1\" class=\"dataframe\">\n",
       "  <thead>\n",
       "    <tr style=\"text-align: right;\">\n",
       "      <th></th>\n",
       "      <th>title</th>\n",
       "      <th>artist_name</th>\n",
       "      <th>artist_id</th>\n",
       "      <th>artist</th>\n",
       "      <th>release_date</th>\n",
       "      <th>record_type</th>\n",
       "      <th>nb_tracks</th>\n",
       "      <th>duration</th>\n",
       "      <th>genres</th>\n",
       "      <th>explicit_lyrics</th>\n",
       "      <th>...</th>\n",
       "      <th>record_type_album</th>\n",
       "      <th>record_type_single</th>\n",
       "      <th>record_type_ep</th>\n",
       "      <th>days_until_next_album</th>\n",
       "      <th>albums_released_in_30_days</th>\n",
       "      <th>albums_released_in_30_60_days</th>\n",
       "      <th>albums_released_in_60_90_days</th>\n",
       "      <th>albums_released_in_90_180_days</th>\n",
       "      <th>albums_released_in_180_360_days</th>\n",
       "      <th>albums_released_in_360_720_days</th>\n",
       "    </tr>\n",
       "    <tr>\n",
       "      <th>id</th>\n",
       "      <th></th>\n",
       "      <th></th>\n",
       "      <th></th>\n",
       "      <th></th>\n",
       "      <th></th>\n",
       "      <th></th>\n",
       "      <th></th>\n",
       "      <th></th>\n",
       "      <th></th>\n",
       "      <th></th>\n",
       "      <th></th>\n",
       "      <th></th>\n",
       "      <th></th>\n",
       "      <th></th>\n",
       "      <th></th>\n",
       "      <th></th>\n",
       "      <th></th>\n",
       "      <th></th>\n",
       "      <th></th>\n",
       "      <th></th>\n",
       "      <th></th>\n",
       "    </tr>\n",
       "  </thead>\n",
       "  <tbody>\n",
       "    <tr>\n",
       "      <th>77130752.0</th>\n",
       "      <td>L'Everest (Deluxe Edition)</td>\n",
       "      <td>Soprano</td>\n",
       "      <td>13011</td>\n",
       "      <td>{u'picture': u'https://api.deezer.com/artist/1...</td>\n",
       "      <td>2016-10-14</td>\n",
       "      <td>album</td>\n",
       "      <td>18.0</td>\n",
       "      <td>4177.0</td>\n",
       "      <td>{u'data': [{u'picture': u'https://api.deezer.c...</td>\n",
       "      <td>False</td>\n",
       "      <td>...</td>\n",
       "      <td>1</td>\n",
       "      <td>0</td>\n",
       "      <td>0</td>\n",
       "      <td>756.0</td>\n",
       "      <td>0</td>\n",
       "      <td>0</td>\n",
       "      <td>0</td>\n",
       "      <td>0</td>\n",
       "      <td>0</td>\n",
       "      <td>0</td>\n",
       "    </tr>\n",
       "    <tr>\n",
       "      <th>77126682.0</th>\n",
       "      <td>Cosmopolitanie (Deluxe Edition)</td>\n",
       "      <td>Soprano</td>\n",
       "      <td>13011</td>\n",
       "      <td>{u'picture': u'https://api.deezer.com/artist/1...</td>\n",
       "      <td>2015-08-21</td>\n",
       "      <td>album</td>\n",
       "      <td>28.0</td>\n",
       "      <td>6054.0</td>\n",
       "      <td>{u'data': [{u'picture': u'https://api.deezer.c...</td>\n",
       "      <td>True</td>\n",
       "      <td>...</td>\n",
       "      <td>1</td>\n",
       "      <td>0</td>\n",
       "      <td>0</td>\n",
       "      <td>420.0</td>\n",
       "      <td>0</td>\n",
       "      <td>0</td>\n",
       "      <td>0</td>\n",
       "      <td>0</td>\n",
       "      <td>0</td>\n",
       "      <td>0</td>\n",
       "    </tr>\n",
       "    <tr>\n",
       "      <th>9816130.0</th>\n",
       "      <td>Cosmopolitanie (Bonus Tracks)</td>\n",
       "      <td>Soprano</td>\n",
       "      <td>13011</td>\n",
       "      <td>{u'picture': u'https://api.deezer.com/artist/1...</td>\n",
       "      <td>2015-03-16</td>\n",
       "      <td>album</td>\n",
       "      <td>8.0</td>\n",
       "      <td>1753.0</td>\n",
       "      <td>{u'data': [{u'picture': u'https://api.deezer.c...</td>\n",
       "      <td>False</td>\n",
       "      <td>...</td>\n",
       "      <td>1</td>\n",
       "      <td>0</td>\n",
       "      <td>0</td>\n",
       "      <td>158.0</td>\n",
       "      <td>0</td>\n",
       "      <td>0</td>\n",
       "      <td>0</td>\n",
       "      <td>0</td>\n",
       "      <td>0</td>\n",
       "      <td>0</td>\n",
       "    </tr>\n",
       "    <tr>\n",
       "      <th>1641895.0</th>\n",
       "      <td>E=2MC's</td>\n",
       "      <td>Soprano</td>\n",
       "      <td>13011</td>\n",
       "      <td>{u'picture': u'https://api.deezer.com/artist/1...</td>\n",
       "      <td>2012-04-30</td>\n",
       "      <td>album</td>\n",
       "      <td>12.0</td>\n",
       "      <td>3194.0</td>\n",
       "      <td>{u'data': [{u'picture': u'https://api.deezer.c...</td>\n",
       "      <td>False</td>\n",
       "      <td>...</td>\n",
       "      <td>1</td>\n",
       "      <td>0</td>\n",
       "      <td>0</td>\n",
       "      <td>1050.0</td>\n",
       "      <td>0</td>\n",
       "      <td>0</td>\n",
       "      <td>0</td>\n",
       "      <td>0</td>\n",
       "      <td>0</td>\n",
       "      <td>0</td>\n",
       "    </tr>\n",
       "    <tr>\n",
       "      <th>1523930.0</th>\n",
       "      <td>E.P. Live 2012</td>\n",
       "      <td>Soprano</td>\n",
       "      <td>13011</td>\n",
       "      <td>{u'picture': u'https://api.deezer.com/artist/1...</td>\n",
       "      <td>2012-02-17</td>\n",
       "      <td>album</td>\n",
       "      <td>4.0</td>\n",
       "      <td>922.0</td>\n",
       "      <td>{u'data': [{u'picture': u'https://api.deezer.c...</td>\n",
       "      <td>False</td>\n",
       "      <td>...</td>\n",
       "      <td>1</td>\n",
       "      <td>0</td>\n",
       "      <td>0</td>\n",
       "      <td>73.0</td>\n",
       "      <td>0</td>\n",
       "      <td>0</td>\n",
       "      <td>0</td>\n",
       "      <td>0</td>\n",
       "      <td>0</td>\n",
       "      <td>0</td>\n",
       "    </tr>\n",
       "  </tbody>\n",
       "</table>\n",
       "<p>5 rows × 26 columns</p>\n",
       "</div>"
      ],
      "text/plain": [
       "                                      title artist_name  artist_id  \\\n",
       "id                                                                   \n",
       "77130752.0       L'Everest (Deluxe Edition)     Soprano      13011   \n",
       "77126682.0  Cosmopolitanie (Deluxe Edition)     Soprano      13011   \n",
       "9816130.0     Cosmopolitanie (Bonus Tracks)     Soprano      13011   \n",
       "1641895.0                           E=2MC's     Soprano      13011   \n",
       "1523930.0                    E.P. Live 2012     Soprano      13011   \n",
       "\n",
       "                                                       artist release_date  \\\n",
       "id                                                                           \n",
       "77130752.0  {u'picture': u'https://api.deezer.com/artist/1...   2016-10-14   \n",
       "77126682.0  {u'picture': u'https://api.deezer.com/artist/1...   2015-08-21   \n",
       "9816130.0   {u'picture': u'https://api.deezer.com/artist/1...   2015-03-16   \n",
       "1641895.0   {u'picture': u'https://api.deezer.com/artist/1...   2012-04-30   \n",
       "1523930.0   {u'picture': u'https://api.deezer.com/artist/1...   2012-02-17   \n",
       "\n",
       "           record_type  nb_tracks  duration  \\\n",
       "id                                            \n",
       "77130752.0       album       18.0    4177.0   \n",
       "77126682.0       album       28.0    6054.0   \n",
       "9816130.0        album        8.0    1753.0   \n",
       "1641895.0        album       12.0    3194.0   \n",
       "1523930.0        album        4.0     922.0   \n",
       "\n",
       "                                                       genres explicit_lyrics  \\\n",
       "id                                                                              \n",
       "77130752.0  {u'data': [{u'picture': u'https://api.deezer.c...           False   \n",
       "77126682.0  {u'data': [{u'picture': u'https://api.deezer.c...            True   \n",
       "9816130.0   {u'data': [{u'picture': u'https://api.deezer.c...           False   \n",
       "1641895.0   {u'data': [{u'picture': u'https://api.deezer.c...           False   \n",
       "1523930.0   {u'data': [{u'picture': u'https://api.deezer.c...           False   \n",
       "\n",
       "            ...  record_type_album  record_type_single  record_type_ep  \\\n",
       "id          ...                                                          \n",
       "77130752.0  ...                  1                   0               0   \n",
       "77126682.0  ...                  1                   0               0   \n",
       "9816130.0   ...                  1                   0               0   \n",
       "1641895.0   ...                  1                   0               0   \n",
       "1523930.0   ...                  1                   0               0   \n",
       "\n",
       "            days_until_next_album  albums_released_in_30_days  \\\n",
       "id                                                              \n",
       "77130752.0                  756.0                           0   \n",
       "77126682.0                  420.0                           0   \n",
       "9816130.0                   158.0                           0   \n",
       "1641895.0                  1050.0                           0   \n",
       "1523930.0                    73.0                           0   \n",
       "\n",
       "            albums_released_in_30_60_days  albums_released_in_60_90_days  \\\n",
       "id                                                                         \n",
       "77130752.0                              0                              0   \n",
       "77126682.0                              0                              0   \n",
       "9816130.0                               0                              0   \n",
       "1641895.0                               0                              0   \n",
       "1523930.0                               0                              0   \n",
       "\n",
       "            albums_released_in_90_180_days  albums_released_in_180_360_days  \\\n",
       "id                                                                            \n",
       "77130752.0                               0                                0   \n",
       "77126682.0                               0                                0   \n",
       "9816130.0                                0                                0   \n",
       "1641895.0                                0                                0   \n",
       "1523930.0                                0                                0   \n",
       "\n",
       "            albums_released_in_360_720_days  \n",
       "id                                           \n",
       "77130752.0                                0  \n",
       "77126682.0                                0  \n",
       "9816130.0                                 0  \n",
       "1641895.0                                 0  \n",
       "1523930.0                                 0  \n",
       "\n",
       "[5 rows x 26 columns]"
      ]
     },
     "execution_count": 114,
     "metadata": {},
     "output_type": "execute_result"
    }
   ],
   "source": [
    "df.head()"
   ]
  },
  {
   "cell_type": "markdown",
   "metadata": {},
   "source": [
    "# Days since previous release"
   ]
  },
  {
   "cell_type": "code",
   "execution_count": 115,
   "metadata": {},
   "outputs": [],
   "source": [
    "def days_since_prev_release(album):\n",
    "    artist_id = album.artist_id\n",
    "    artist_albums = df[df['artist_id'] == artist_id].sort_values('release_date', ascending=False)\n",
    "\n",
    "    album_release_date = album.release_date\n",
    "\n",
    "    previous_album = artist_albums[artist_albums['release_date'] < album_release_date].head(1)\n",
    "    if len(previous_album) == 0:\n",
    "        return(None)\n",
    "    else:\n",
    "        prev_album_release_date = previous_album.release_date.values[0]\n",
    "        date_difference = album_release_date - prev_album_release_date\n",
    "        return(date_difference.days)"
   ]
  },
  {
   "cell_type": "code",
   "execution_count": 116,
   "metadata": {},
   "outputs": [],
   "source": [
    "# the first album from the artist\n",
    "# days_since_prev_release(first_album)"
   ]
  },
  {
   "cell_type": "code",
   "execution_count": 117,
   "metadata": {},
   "outputs": [],
   "source": [
    "# the last album from the artist in our dataset\n",
    "# days_since_prev_release(last_album)"
   ]
  },
  {
   "cell_type": "code",
   "execution_count": 118,
   "metadata": {},
   "outputs": [
    {
     "data": {
      "text/plain": [
       "id\n",
       "77130752.0     420.0\n",
       "77126682.0     158.0\n",
       "9816130.0     1050.0\n",
       "1641895.0       73.0\n",
       "1523930.0      338.0\n",
       "40632261.0     682.0\n",
       "301745.0       406.0\n",
       "77133732.0     136.0\n",
       "6141022.0        NaN\n",
       "311650.0       147.0\n",
       "dtype: float64"
      ]
     },
     "execution_count": 118,
     "metadata": {},
     "output_type": "execute_result"
    }
   ],
   "source": [
    "df.head(10).apply(days_since_prev_release, axis=1)"
   ]
  },
  {
   "cell_type": "code",
   "execution_count": 119,
   "metadata": {},
   "outputs": [],
   "source": [
    "df['days_since_previous_release'] = df.apply(days_since_prev_release, axis=1)"
   ]
  },
  {
   "cell_type": "code",
   "execution_count": 120,
   "metadata": {},
   "outputs": [
    {
     "data": {
      "text/html": [
       "<div>\n",
       "<style scoped>\n",
       "    .dataframe tbody tr th:only-of-type {\n",
       "        vertical-align: middle;\n",
       "    }\n",
       "\n",
       "    .dataframe tbody tr th {\n",
       "        vertical-align: top;\n",
       "    }\n",
       "\n",
       "    .dataframe thead th {\n",
       "        text-align: right;\n",
       "    }\n",
       "</style>\n",
       "<table border=\"1\" class=\"dataframe\">\n",
       "  <thead>\n",
       "    <tr style=\"text-align: right;\">\n",
       "      <th></th>\n",
       "      <th>title</th>\n",
       "      <th>artist_name</th>\n",
       "      <th>artist_id</th>\n",
       "      <th>artist</th>\n",
       "      <th>release_date</th>\n",
       "      <th>record_type</th>\n",
       "      <th>nb_tracks</th>\n",
       "      <th>duration</th>\n",
       "      <th>genres</th>\n",
       "      <th>explicit_lyrics</th>\n",
       "      <th>...</th>\n",
       "      <th>record_type_single</th>\n",
       "      <th>record_type_ep</th>\n",
       "      <th>days_until_next_album</th>\n",
       "      <th>albums_released_in_30_days</th>\n",
       "      <th>albums_released_in_30_60_days</th>\n",
       "      <th>albums_released_in_60_90_days</th>\n",
       "      <th>albums_released_in_90_180_days</th>\n",
       "      <th>albums_released_in_180_360_days</th>\n",
       "      <th>albums_released_in_360_720_days</th>\n",
       "      <th>days_since_previous_release</th>\n",
       "    </tr>\n",
       "    <tr>\n",
       "      <th>id</th>\n",
       "      <th></th>\n",
       "      <th></th>\n",
       "      <th></th>\n",
       "      <th></th>\n",
       "      <th></th>\n",
       "      <th></th>\n",
       "      <th></th>\n",
       "      <th></th>\n",
       "      <th></th>\n",
       "      <th></th>\n",
       "      <th></th>\n",
       "      <th></th>\n",
       "      <th></th>\n",
       "      <th></th>\n",
       "      <th></th>\n",
       "      <th></th>\n",
       "      <th></th>\n",
       "      <th></th>\n",
       "      <th></th>\n",
       "      <th></th>\n",
       "      <th></th>\n",
       "    </tr>\n",
       "  </thead>\n",
       "  <tbody>\n",
       "    <tr>\n",
       "      <th>77130752.0</th>\n",
       "      <td>L'Everest (Deluxe Edition)</td>\n",
       "      <td>Soprano</td>\n",
       "      <td>13011</td>\n",
       "      <td>{u'picture': u'https://api.deezer.com/artist/1...</td>\n",
       "      <td>2016-10-14</td>\n",
       "      <td>album</td>\n",
       "      <td>18.0</td>\n",
       "      <td>4177.0</td>\n",
       "      <td>{u'data': [{u'picture': u'https://api.deezer.c...</td>\n",
       "      <td>False</td>\n",
       "      <td>...</td>\n",
       "      <td>0</td>\n",
       "      <td>0</td>\n",
       "      <td>756.0</td>\n",
       "      <td>0</td>\n",
       "      <td>0</td>\n",
       "      <td>0</td>\n",
       "      <td>0</td>\n",
       "      <td>0</td>\n",
       "      <td>0</td>\n",
       "      <td>420.0</td>\n",
       "    </tr>\n",
       "    <tr>\n",
       "      <th>77126682.0</th>\n",
       "      <td>Cosmopolitanie (Deluxe Edition)</td>\n",
       "      <td>Soprano</td>\n",
       "      <td>13011</td>\n",
       "      <td>{u'picture': u'https://api.deezer.com/artist/1...</td>\n",
       "      <td>2015-08-21</td>\n",
       "      <td>album</td>\n",
       "      <td>28.0</td>\n",
       "      <td>6054.0</td>\n",
       "      <td>{u'data': [{u'picture': u'https://api.deezer.c...</td>\n",
       "      <td>True</td>\n",
       "      <td>...</td>\n",
       "      <td>0</td>\n",
       "      <td>0</td>\n",
       "      <td>420.0</td>\n",
       "      <td>0</td>\n",
       "      <td>0</td>\n",
       "      <td>0</td>\n",
       "      <td>0</td>\n",
       "      <td>0</td>\n",
       "      <td>0</td>\n",
       "      <td>158.0</td>\n",
       "    </tr>\n",
       "    <tr>\n",
       "      <th>9816130.0</th>\n",
       "      <td>Cosmopolitanie (Bonus Tracks)</td>\n",
       "      <td>Soprano</td>\n",
       "      <td>13011</td>\n",
       "      <td>{u'picture': u'https://api.deezer.com/artist/1...</td>\n",
       "      <td>2015-03-16</td>\n",
       "      <td>album</td>\n",
       "      <td>8.0</td>\n",
       "      <td>1753.0</td>\n",
       "      <td>{u'data': [{u'picture': u'https://api.deezer.c...</td>\n",
       "      <td>False</td>\n",
       "      <td>...</td>\n",
       "      <td>0</td>\n",
       "      <td>0</td>\n",
       "      <td>158.0</td>\n",
       "      <td>0</td>\n",
       "      <td>0</td>\n",
       "      <td>0</td>\n",
       "      <td>0</td>\n",
       "      <td>0</td>\n",
       "      <td>0</td>\n",
       "      <td>1050.0</td>\n",
       "    </tr>\n",
       "    <tr>\n",
       "      <th>1641895.0</th>\n",
       "      <td>E=2MC's</td>\n",
       "      <td>Soprano</td>\n",
       "      <td>13011</td>\n",
       "      <td>{u'picture': u'https://api.deezer.com/artist/1...</td>\n",
       "      <td>2012-04-30</td>\n",
       "      <td>album</td>\n",
       "      <td>12.0</td>\n",
       "      <td>3194.0</td>\n",
       "      <td>{u'data': [{u'picture': u'https://api.deezer.c...</td>\n",
       "      <td>False</td>\n",
       "      <td>...</td>\n",
       "      <td>0</td>\n",
       "      <td>0</td>\n",
       "      <td>1050.0</td>\n",
       "      <td>0</td>\n",
       "      <td>0</td>\n",
       "      <td>0</td>\n",
       "      <td>0</td>\n",
       "      <td>0</td>\n",
       "      <td>0</td>\n",
       "      <td>73.0</td>\n",
       "    </tr>\n",
       "    <tr>\n",
       "      <th>1523930.0</th>\n",
       "      <td>E.P. Live 2012</td>\n",
       "      <td>Soprano</td>\n",
       "      <td>13011</td>\n",
       "      <td>{u'picture': u'https://api.deezer.com/artist/1...</td>\n",
       "      <td>2012-02-17</td>\n",
       "      <td>album</td>\n",
       "      <td>4.0</td>\n",
       "      <td>922.0</td>\n",
       "      <td>{u'data': [{u'picture': u'https://api.deezer.c...</td>\n",
       "      <td>False</td>\n",
       "      <td>...</td>\n",
       "      <td>0</td>\n",
       "      <td>0</td>\n",
       "      <td>73.0</td>\n",
       "      <td>0</td>\n",
       "      <td>0</td>\n",
       "      <td>0</td>\n",
       "      <td>0</td>\n",
       "      <td>0</td>\n",
       "      <td>0</td>\n",
       "      <td>338.0</td>\n",
       "    </tr>\n",
       "  </tbody>\n",
       "</table>\n",
       "<p>5 rows × 27 columns</p>\n",
       "</div>"
      ],
      "text/plain": [
       "                                      title artist_name  artist_id  \\\n",
       "id                                                                   \n",
       "77130752.0       L'Everest (Deluxe Edition)     Soprano      13011   \n",
       "77126682.0  Cosmopolitanie (Deluxe Edition)     Soprano      13011   \n",
       "9816130.0     Cosmopolitanie (Bonus Tracks)     Soprano      13011   \n",
       "1641895.0                           E=2MC's     Soprano      13011   \n",
       "1523930.0                    E.P. Live 2012     Soprano      13011   \n",
       "\n",
       "                                                       artist release_date  \\\n",
       "id                                                                           \n",
       "77130752.0  {u'picture': u'https://api.deezer.com/artist/1...   2016-10-14   \n",
       "77126682.0  {u'picture': u'https://api.deezer.com/artist/1...   2015-08-21   \n",
       "9816130.0   {u'picture': u'https://api.deezer.com/artist/1...   2015-03-16   \n",
       "1641895.0   {u'picture': u'https://api.deezer.com/artist/1...   2012-04-30   \n",
       "1523930.0   {u'picture': u'https://api.deezer.com/artist/1...   2012-02-17   \n",
       "\n",
       "           record_type  nb_tracks  duration  \\\n",
       "id                                            \n",
       "77130752.0       album       18.0    4177.0   \n",
       "77126682.0       album       28.0    6054.0   \n",
       "9816130.0        album        8.0    1753.0   \n",
       "1641895.0        album       12.0    3194.0   \n",
       "1523930.0        album        4.0     922.0   \n",
       "\n",
       "                                                       genres explicit_lyrics  \\\n",
       "id                                                                              \n",
       "77130752.0  {u'data': [{u'picture': u'https://api.deezer.c...           False   \n",
       "77126682.0  {u'data': [{u'picture': u'https://api.deezer.c...            True   \n",
       "9816130.0   {u'data': [{u'picture': u'https://api.deezer.c...           False   \n",
       "1641895.0   {u'data': [{u'picture': u'https://api.deezer.c...           False   \n",
       "1523930.0   {u'data': [{u'picture': u'https://api.deezer.c...           False   \n",
       "\n",
       "            ...  record_type_single  record_type_ep  days_until_next_album  \\\n",
       "id          ...                                                              \n",
       "77130752.0  ...                   0               0                  756.0   \n",
       "77126682.0  ...                   0               0                  420.0   \n",
       "9816130.0   ...                   0               0                  158.0   \n",
       "1641895.0   ...                   0               0                 1050.0   \n",
       "1523930.0   ...                   0               0                   73.0   \n",
       "\n",
       "            albums_released_in_30_days  albums_released_in_30_60_days  \\\n",
       "id                                                                      \n",
       "77130752.0                           0                              0   \n",
       "77126682.0                           0                              0   \n",
       "9816130.0                            0                              0   \n",
       "1641895.0                            0                              0   \n",
       "1523930.0                            0                              0   \n",
       "\n",
       "            albums_released_in_60_90_days  albums_released_in_90_180_days  \\\n",
       "id                                                                          \n",
       "77130752.0                              0                               0   \n",
       "77126682.0                              0                               0   \n",
       "9816130.0                               0                               0   \n",
       "1641895.0                               0                               0   \n",
       "1523930.0                               0                               0   \n",
       "\n",
       "            albums_released_in_180_360_days  albums_released_in_360_720_days  \\\n",
       "id                                                                             \n",
       "77130752.0                                0                                0   \n",
       "77126682.0                                0                                0   \n",
       "9816130.0                                 0                                0   \n",
       "1641895.0                                 0                                0   \n",
       "1523930.0                                 0                                0   \n",
       "\n",
       "            days_since_previous_release  \n",
       "id                                       \n",
       "77130752.0                        420.0  \n",
       "77126682.0                        158.0  \n",
       "9816130.0                        1050.0  \n",
       "1641895.0                          73.0  \n",
       "1523930.0                         338.0  \n",
       "\n",
       "[5 rows x 27 columns]"
      ]
     },
     "execution_count": 120,
     "metadata": {},
     "output_type": "execute_result"
    }
   ],
   "source": [
    "df.head()"
   ]
  },
  {
   "cell_type": "code",
   "execution_count": 121,
   "metadata": {},
   "outputs": [
    {
     "data": {
      "text/plain": [
       "title                                 0\n",
       "artist_name                           0\n",
       "artist_id                             0\n",
       "artist                                0\n",
       "release_date                          0\n",
       "record_type                           0\n",
       "nb_tracks                             0\n",
       "duration                              0\n",
       "genres                                0\n",
       "explicit_lyrics                       0\n",
       "days_since_first_release              0\n",
       "total_albums_released                 0\n",
       "release_year                          0\n",
       "release_month                         0\n",
       "release_day_of_month                  0\n",
       "release_day_of_week                   0\n",
       "record_type_album                     0\n",
       "record_type_single                    0\n",
       "record_type_ep                        0\n",
       "days_until_next_album                 0\n",
       "albums_released_in_30_days            0\n",
       "albums_released_in_30_60_days         0\n",
       "albums_released_in_60_90_days         0\n",
       "albums_released_in_90_180_days        0\n",
       "albums_released_in_180_360_days       0\n",
       "albums_released_in_360_720_days       0\n",
       "days_since_previous_release        3683\n",
       "dtype: int64"
      ]
     },
     "execution_count": 121,
     "metadata": {},
     "output_type": "execute_result"
    }
   ],
   "source": [
    "df.isnull().sum()"
   ]
  },
  {
   "cell_type": "code",
   "execution_count": 122,
   "metadata": {},
   "outputs": [
    {
     "data": {
      "text/plain": [
       "91.0"
      ]
     },
     "execution_count": 122,
     "metadata": {},
     "output_type": "execute_result"
    }
   ],
   "source": [
    "days_since_previous_release_median = df['days_since_previous_release'].median()\n",
    "days_since_previous_release_median"
   ]
  },
  {
   "cell_type": "code",
   "execution_count": 123,
   "metadata": {},
   "outputs": [],
   "source": [
    "df.loc[:,'days_since_previous_release'].fillna(days_since_previous_release_median, inplace=True)"
   ]
  },
  {
   "cell_type": "code",
   "execution_count": 124,
   "metadata": {},
   "outputs": [
    {
     "data": {
      "text/plain": [
       "title                              0\n",
       "artist_name                        0\n",
       "artist_id                          0\n",
       "artist                             0\n",
       "release_date                       0\n",
       "record_type                        0\n",
       "nb_tracks                          0\n",
       "duration                           0\n",
       "genres                             0\n",
       "explicit_lyrics                    0\n",
       "days_since_first_release           0\n",
       "total_albums_released              0\n",
       "release_year                       0\n",
       "release_month                      0\n",
       "release_day_of_month               0\n",
       "release_day_of_week                0\n",
       "record_type_album                  0\n",
       "record_type_single                 0\n",
       "record_type_ep                     0\n",
       "days_until_next_album              0\n",
       "albums_released_in_30_days         0\n",
       "albums_released_in_30_60_days      0\n",
       "albums_released_in_60_90_days      0\n",
       "albums_released_in_90_180_days     0\n",
       "albums_released_in_180_360_days    0\n",
       "albums_released_in_360_720_days    0\n",
       "days_since_previous_release        0\n",
       "dtype: int64"
      ]
     },
     "execution_count": 124,
     "metadata": {},
     "output_type": "execute_result"
    }
   ],
   "source": [
    "df.isnull().sum()"
   ]
  },
  {
   "cell_type": "code",
   "execution_count": 125,
   "metadata": {},
   "outputs": [],
   "source": [
    "# df.plot(x='days_since_previous_release', y='days_until_next_album', kind='scatter')"
   ]
  },
  {
   "cell_type": "code",
   "execution_count": 126,
   "metadata": {},
   "outputs": [
    {
     "data": {
      "text/plain": [
       "(array([2.9844e+04, 5.6440e+03, 3.1090e+03, 1.9030e+03, 1.3260e+03,\n",
       "        8.8700e+02, 6.0300e+02, 4.4400e+02, 2.7700e+02, 2.0000e+02,\n",
       "        1.9100e+02, 1.5500e+02, 1.0700e+02, 6.4000e+01, 6.2000e+01,\n",
       "        3.8000e+01, 3.9000e+01, 2.1000e+01, 3.2000e+01, 1.7000e+01,\n",
       "        1.0000e+01, 2.0000e+01, 1.7000e+01, 2.0000e+01, 5.0000e+00,\n",
       "        6.0000e+00, 5.0000e+00, 1.0000e+00, 0.0000e+00, 2.0000e+00]),\n",
       " array([1.00000000e+00, 1.69566667e+02, 3.38133333e+02, 5.06700000e+02,\n",
       "        6.75266667e+02, 8.43833333e+02, 1.01240000e+03, 1.18096667e+03,\n",
       "        1.34953333e+03, 1.51810000e+03, 1.68666667e+03, 1.85523333e+03,\n",
       "        2.02380000e+03, 2.19236667e+03, 2.36093333e+03, 2.52950000e+03,\n",
       "        2.69806667e+03, 2.86663333e+03, 3.03520000e+03, 3.20376667e+03,\n",
       "        3.37233333e+03, 3.54090000e+03, 3.70946667e+03, 3.87803333e+03,\n",
       "        4.04660000e+03, 4.21516667e+03, 4.38373333e+03, 4.55230000e+03,\n",
       "        4.72086667e+03, 4.88943333e+03, 5.05800000e+03]),\n",
       " <a list of 30 Patch objects>)"
      ]
     },
     "execution_count": 126,
     "metadata": {},
     "output_type": "execute_result"
    },
    {
     "data": {
      "image/png": "[encoded data removed]",
      "text/plain": [
       "<Figure size 432x288 with 1 Axes>"
      ]
     },
     "metadata": {
      "needs_background": "light"
     },
     "output_type": "display_data"
    }
   ],
   "source": [
    "plt.hist(df['days_since_previous_release'].values, bins=30)"
   ]
  },
  {
   "cell_type": "code",
   "execution_count": 127,
   "metadata": {},
   "outputs": [
    {
     "data": {
      "text/plain": [
       "(array([2.5157e+04, 6.0750e+03, 3.2470e+03, 2.4790e+03, 1.5410e+03,\n",
       "        1.2190e+03, 9.6900e+02, 8.3500e+02, 6.2000e+02, 5.0100e+02,\n",
       "        4.1500e+02, 2.9200e+02, 2.6100e+02, 2.5000e+02, 1.5800e+02,\n",
       "        1.1700e+02, 1.0700e+02, 1.1900e+02, 1.0100e+02, 8.6000e+01,\n",
       "        7.7000e+01, 6.4000e+01, 4.3000e+01, 3.3000e+01, 3.8000e+01,\n",
       "        2.6000e+01, 2.2000e+01, 2.5000e+01, 1.8000e+01, 1.2000e+01]),\n",
       " array([1.0000e+00, 1.0060e+02, 2.0020e+02, 2.9980e+02, 3.9940e+02,\n",
       "        4.9900e+02, 5.9860e+02, 6.9820e+02, 7.9780e+02, 8.9740e+02,\n",
       "        9.9700e+02, 1.0966e+03, 1.1962e+03, 1.2958e+03, 1.3954e+03,\n",
       "        1.4950e+03, 1.5946e+03, 1.6942e+03, 1.7938e+03, 1.8934e+03,\n",
       "        1.9930e+03, 2.0926e+03, 2.1922e+03, 2.2918e+03, 2.3914e+03,\n",
       "        2.4910e+03, 2.5906e+03, 2.6902e+03, 2.7898e+03, 2.8894e+03,\n",
       "        2.9890e+03]),\n",
       " <a list of 30 Patch objects>)"
      ]
     },
     "execution_count": 127,
     "metadata": {},
     "output_type": "execute_result"
    },
    {
     "data": {
      "image/png": "[encoded data removed]",
      "text/plain": [
       "<Figure size 432x288 with 1 Axes>"
      ]
     },
     "metadata": {
      "needs_background": "light"
     },
     "output_type": "display_data"
    }
   ],
   "source": [
    "plt.hist(df[df['days_since_previous_release'] < 3000]['days_since_previous_release'].values, bins=30)"
   ]
  },
  {
   "cell_type": "code",
   "execution_count": 128,
   "metadata": {},
   "outputs": [],
   "source": [
    "# df[df['days_since_previous_release'] == 1]"
   ]
  },
  {
   "cell_type": "markdown",
   "metadata": {},
   "source": [
    "# Average days to release in N years"
   ]
  },
  {
   "cell_type": "code",
   "execution_count": 129,
   "metadata": {},
   "outputs": [],
   "source": [
    "def average_days_to_release_in_last_n_years(album, n):\n",
    "    album_release_date = album.release_date\n",
    "    years_earlier = album_release_date - datetime.timedelta(days=n * 365)\n",
    "\n",
    "    previous_albums = df[(df['release_date'] < album_release_date) & (df['release_date'] > years_earlier)]\n",
    "    if len(previous_albums) == 0:\n",
    "        return(None)\n",
    "    else:\n",
    "        return(previous_albums['days_until_next_album'].median())"
   ]
  },
  {
   "cell_type": "code",
   "execution_count": 130,
   "metadata": {},
   "outputs": [],
   "source": [
    "def average_days_to_release_in_last_year(album):\n",
    "    return(average_days_to_release_in_last_n_years(album, 1))\n",
    "\n",
    "def average_days_to_release_in_last_2_years(album):\n",
    "    return(average_days_to_release_in_last_n_years(album, 2))\n",
    "\n",
    "def average_days_to_release_in_last_3_years(album):\n",
    "    return(average_days_to_release_in_last_n_years(album, 3))\n",
    "\n",
    "def average_days_to_release_in_last_5_years(album):\n",
    "    return(average_days_to_release_in_last_n_years(album, 5))"
   ]
  },
  {
   "cell_type": "code",
   "execution_count": 131,
   "metadata": {},
   "outputs": [],
   "source": [
    "# the first album from the artist\n",
    "# average_days_to_release_in_last_year(first_album)"
   ]
  },
  {
   "cell_type": "code",
   "execution_count": 132,
   "metadata": {},
   "outputs": [],
   "source": [
    "# the last album from the artist in our dataset\n",
    "# average_days_to_release_in_last_year(last_album)"
   ]
  },
  {
   "cell_type": "code",
   "execution_count": 133,
   "metadata": {},
   "outputs": [
    {
     "data": {
      "text/plain": [
       "id\n",
       "77130752.0     76.0\n",
       "77126682.0     98.0\n",
       "9816130.0     102.0\n",
       "1641895.0     137.0\n",
       "1523930.0     137.0\n",
       "40632261.0    161.0\n",
       "301745.0      231.0\n",
       "77133732.0    217.0\n",
       "6141022.0     206.0\n",
       "311650.0      189.0\n",
       "dtype: float64"
      ]
     },
     "execution_count": 133,
     "metadata": {},
     "output_type": "execute_result"
    }
   ],
   "source": [
    "df.head(10).apply(average_days_to_release_in_last_year, axis=1)"
   ]
  },
  {
   "cell_type": "code",
   "execution_count": 134,
   "metadata": {},
   "outputs": [],
   "source": [
    "df['average_days_to_release_in_last_year'] = df.apply(average_days_to_release_in_last_year, axis=1)"
   ]
  },
  {
   "cell_type": "code",
   "execution_count": 135,
   "metadata": {},
   "outputs": [],
   "source": [
    "df['average_days_to_release_in_last_2_years'] = df.apply(average_days_to_release_in_last_2_years, axis=1)"
   ]
  },
  {
   "cell_type": "code",
   "execution_count": 136,
   "metadata": {},
   "outputs": [],
   "source": [
    "df['average_days_to_release_in_last_3_years'] = df.apply(average_days_to_release_in_last_3_years, axis=1)"
   ]
  },
  {
   "cell_type": "code",
   "execution_count": 137,
   "metadata": {},
   "outputs": [],
   "source": [
    "df['average_days_to_release_in_last_5_years'] = df.apply(average_days_to_release_in_last_5_years, axis=1)"
   ]
  },
  {
   "cell_type": "code",
   "execution_count": 138,
   "metadata": {},
   "outputs": [
    {
     "data": {
      "text/html": [
       "<div>\n",
       "<style scoped>\n",
       "    .dataframe tbody tr th:only-of-type {\n",
       "        vertical-align: middle;\n",
       "    }\n",
       "\n",
       "    .dataframe tbody tr th {\n",
       "        vertical-align: top;\n",
       "    }\n",
       "\n",
       "    .dataframe thead th {\n",
       "        text-align: right;\n",
       "    }\n",
       "</style>\n",
       "<table border=\"1\" class=\"dataframe\">\n",
       "  <thead>\n",
       "    <tr style=\"text-align: right;\">\n",
       "      <th></th>\n",
       "      <th>title</th>\n",
       "      <th>artist_name</th>\n",
       "      <th>artist_id</th>\n",
       "      <th>artist</th>\n",
       "      <th>release_date</th>\n",
       "      <th>record_type</th>\n",
       "      <th>nb_tracks</th>\n",
       "      <th>duration</th>\n",
       "      <th>genres</th>\n",
       "      <th>explicit_lyrics</th>\n",
       "      <th>...</th>\n",
       "      <th>albums_released_in_30_60_days</th>\n",
       "      <th>albums_released_in_60_90_days</th>\n",
       "      <th>albums_released_in_90_180_days</th>\n",
       "      <th>albums_released_in_180_360_days</th>\n",
       "      <th>albums_released_in_360_720_days</th>\n",
       "      <th>days_since_previous_release</th>\n",
       "      <th>average_days_to_release_in_last_year</th>\n",
       "      <th>average_days_to_release_in_last_2_years</th>\n",
       "      <th>average_days_to_release_in_last_3_years</th>\n",
       "      <th>average_days_to_release_in_last_5_years</th>\n",
       "    </tr>\n",
       "    <tr>\n",
       "      <th>id</th>\n",
       "      <th></th>\n",
       "      <th></th>\n",
       "      <th></th>\n",
       "      <th></th>\n",
       "      <th></th>\n",
       "      <th></th>\n",
       "      <th></th>\n",
       "      <th></th>\n",
       "      <th></th>\n",
       "      <th></th>\n",
       "      <th></th>\n",
       "      <th></th>\n",
       "      <th></th>\n",
       "      <th></th>\n",
       "      <th></th>\n",
       "      <th></th>\n",
       "      <th></th>\n",
       "      <th></th>\n",
       "      <th></th>\n",
       "      <th></th>\n",
       "      <th></th>\n",
       "    </tr>\n",
       "  </thead>\n",
       "  <tbody>\n",
       "    <tr>\n",
       "      <th>77130752.0</th>\n",
       "      <td>L'Everest (Deluxe Edition)</td>\n",
       "      <td>Soprano</td>\n",
       "      <td>13011</td>\n",
       "      <td>{u'picture': u'https://api.deezer.com/artist/1...</td>\n",
       "      <td>2016-10-14</td>\n",
       "      <td>album</td>\n",
       "      <td>18.0</td>\n",
       "      <td>4177.0</td>\n",
       "      <td>{u'data': [{u'picture': u'https://api.deezer.c...</td>\n",
       "      <td>False</td>\n",
       "      <td>...</td>\n",
       "      <td>0</td>\n",
       "      <td>0</td>\n",
       "      <td>0</td>\n",
       "      <td>0</td>\n",
       "      <td>0</td>\n",
       "      <td>420.0</td>\n",
       "      <td>76.0</td>\n",
       "      <td>85.0</td>\n",
       "      <td>91.0</td>\n",
       "      <td>104.0</td>\n",
       "    </tr>\n",
       "    <tr>\n",
       "      <th>77126682.0</th>\n",
       "      <td>Cosmopolitanie (Deluxe Edition)</td>\n",
       "      <td>Soprano</td>\n",
       "      <td>13011</td>\n",
       "      <td>{u'picture': u'https://api.deezer.com/artist/1...</td>\n",
       "      <td>2015-08-21</td>\n",
       "      <td>album</td>\n",
       "      <td>28.0</td>\n",
       "      <td>6054.0</td>\n",
       "      <td>{u'data': [{u'picture': u'https://api.deezer.c...</td>\n",
       "      <td>True</td>\n",
       "      <td>...</td>\n",
       "      <td>0</td>\n",
       "      <td>0</td>\n",
       "      <td>0</td>\n",
       "      <td>0</td>\n",
       "      <td>0</td>\n",
       "      <td>158.0</td>\n",
       "      <td>98.0</td>\n",
       "      <td>104.5</td>\n",
       "      <td>109.0</td>\n",
       "      <td>119.0</td>\n",
       "    </tr>\n",
       "    <tr>\n",
       "      <th>9816130.0</th>\n",
       "      <td>Cosmopolitanie (Bonus Tracks)</td>\n",
       "      <td>Soprano</td>\n",
       "      <td>13011</td>\n",
       "      <td>{u'picture': u'https://api.deezer.com/artist/1...</td>\n",
       "      <td>2015-03-16</td>\n",
       "      <td>album</td>\n",
       "      <td>8.0</td>\n",
       "      <td>1753.0</td>\n",
       "      <td>{u'data': [{u'picture': u'https://api.deezer.c...</td>\n",
       "      <td>False</td>\n",
       "      <td>...</td>\n",
       "      <td>0</td>\n",
       "      <td>0</td>\n",
       "      <td>0</td>\n",
       "      <td>0</td>\n",
       "      <td>0</td>\n",
       "      <td>1050.0</td>\n",
       "      <td>102.0</td>\n",
       "      <td>111.0</td>\n",
       "      <td>117.0</td>\n",
       "      <td>126.0</td>\n",
       "    </tr>\n",
       "    <tr>\n",
       "      <th>1641895.0</th>\n",
       "      <td>E=2MC's</td>\n",
       "      <td>Soprano</td>\n",
       "      <td>13011</td>\n",
       "      <td>{u'picture': u'https://api.deezer.com/artist/1...</td>\n",
       "      <td>2012-04-30</td>\n",
       "      <td>album</td>\n",
       "      <td>12.0</td>\n",
       "      <td>3194.0</td>\n",
       "      <td>{u'data': [{u'picture': u'https://api.deezer.c...</td>\n",
       "      <td>False</td>\n",
       "      <td>...</td>\n",
       "      <td>0</td>\n",
       "      <td>0</td>\n",
       "      <td>0</td>\n",
       "      <td>0</td>\n",
       "      <td>0</td>\n",
       "      <td>73.0</td>\n",
       "      <td>137.0</td>\n",
       "      <td>146.0</td>\n",
       "      <td>145.0</td>\n",
       "      <td>161.0</td>\n",
       "    </tr>\n",
       "    <tr>\n",
       "      <th>1523930.0</th>\n",
       "      <td>E.P. Live 2012</td>\n",
       "      <td>Soprano</td>\n",
       "      <td>13011</td>\n",
       "      <td>{u'picture': u'https://api.deezer.com/artist/1...</td>\n",
       "      <td>2012-02-17</td>\n",
       "      <td>album</td>\n",
       "      <td>4.0</td>\n",
       "      <td>922.0</td>\n",
       "      <td>{u'data': [{u'picture': u'https://api.deezer.c...</td>\n",
       "      <td>False</td>\n",
       "      <td>...</td>\n",
       "      <td>0</td>\n",
       "      <td>0</td>\n",
       "      <td>0</td>\n",
       "      <td>0</td>\n",
       "      <td>0</td>\n",
       "      <td>338.0</td>\n",
       "      <td>137.0</td>\n",
       "      <td>149.0</td>\n",
       "      <td>147.0</td>\n",
       "      <td>161.0</td>\n",
       "    </tr>\n",
       "  </tbody>\n",
       "</table>\n",
       "<p>5 rows × 31 columns</p>\n",
       "</div>"
      ],
      "text/plain": [
       "                                      title artist_name  artist_id  \\\n",
       "id                                                                   \n",
       "77130752.0       L'Everest (Deluxe Edition)     Soprano      13011   \n",
       "77126682.0  Cosmopolitanie (Deluxe Edition)     Soprano      13011   \n",
       "9816130.0     Cosmopolitanie (Bonus Tracks)     Soprano      13011   \n",
       "1641895.0                           E=2MC's     Soprano      13011   \n",
       "1523930.0                    E.P. Live 2012     Soprano      13011   \n",
       "\n",
       "                                                       artist release_date  \\\n",
       "id                                                                           \n",
       "77130752.0  {u'picture': u'https://api.deezer.com/artist/1...   2016-10-14   \n",
       "77126682.0  {u'picture': u'https://api.deezer.com/artist/1...   2015-08-21   \n",
       "9816130.0   {u'picture': u'https://api.deezer.com/artist/1...   2015-03-16   \n",
       "1641895.0   {u'picture': u'https://api.deezer.com/artist/1...   2012-04-30   \n",
       "1523930.0   {u'picture': u'https://api.deezer.com/artist/1...   2012-02-17   \n",
       "\n",
       "           record_type  nb_tracks  duration  \\\n",
       "id                                            \n",
       "77130752.0       album       18.0    4177.0   \n",
       "77126682.0       album       28.0    6054.0   \n",
       "9816130.0        album        8.0    1753.0   \n",
       "1641895.0        album       12.0    3194.0   \n",
       "1523930.0        album        4.0     922.0   \n",
       "\n",
       "                                                       genres explicit_lyrics  \\\n",
       "id                                                                              \n",
       "77130752.0  {u'data': [{u'picture': u'https://api.deezer.c...           False   \n",
       "77126682.0  {u'data': [{u'picture': u'https://api.deezer.c...            True   \n",
       "9816130.0   {u'data': [{u'picture': u'https://api.deezer.c...           False   \n",
       "1641895.0   {u'data': [{u'picture': u'https://api.deezer.c...           False   \n",
       "1523930.0   {u'data': [{u'picture': u'https://api.deezer.c...           False   \n",
       "\n",
       "            ...  albums_released_in_30_60_days  albums_released_in_60_90_days  \\\n",
       "id          ...                                                                 \n",
       "77130752.0  ...                              0                              0   \n",
       "77126682.0  ...                              0                              0   \n",
       "9816130.0   ...                              0                              0   \n",
       "1641895.0   ...                              0                              0   \n",
       "1523930.0   ...                              0                              0   \n",
       "\n",
       "            albums_released_in_90_180_days  albums_released_in_180_360_days  \\\n",
       "id                                                                            \n",
       "77130752.0                               0                                0   \n",
       "77126682.0                               0                                0   \n",
       "9816130.0                                0                                0   \n",
       "1641895.0                                0                                0   \n",
       "1523930.0                                0                                0   \n",
       "\n",
       "            albums_released_in_360_720_days  days_since_previous_release  \\\n",
       "id                                                                         \n",
       "77130752.0                                0                        420.0   \n",
       "77126682.0                                0                        158.0   \n",
       "9816130.0                                 0                       1050.0   \n",
       "1641895.0                                 0                         73.0   \n",
       "1523930.0                                 0                        338.0   \n",
       "\n",
       "            average_days_to_release_in_last_year  \\\n",
       "id                                                 \n",
       "77130752.0                                  76.0   \n",
       "77126682.0                                  98.0   \n",
       "9816130.0                                  102.0   \n",
       "1641895.0                                  137.0   \n",
       "1523930.0                                  137.0   \n",
       "\n",
       "            average_days_to_release_in_last_2_years  \\\n",
       "id                                                    \n",
       "77130752.0                                     85.0   \n",
       "77126682.0                                    104.5   \n",
       "9816130.0                                     111.0   \n",
       "1641895.0                                     146.0   \n",
       "1523930.0                                     149.0   \n",
       "\n",
       "            average_days_to_release_in_last_3_years  \\\n",
       "id                                                    \n",
       "77130752.0                                     91.0   \n",
       "77126682.0                                    109.0   \n",
       "9816130.0                                     117.0   \n",
       "1641895.0                                     145.0   \n",
       "1523930.0                                     147.0   \n",
       "\n",
       "            average_days_to_release_in_last_5_years  \n",
       "id                                                   \n",
       "77130752.0                                    104.0  \n",
       "77126682.0                                    119.0  \n",
       "9816130.0                                     126.0  \n",
       "1641895.0                                     161.0  \n",
       "1523930.0                                     161.0  \n",
       "\n",
       "[5 rows x 31 columns]"
      ]
     },
     "execution_count": 138,
     "metadata": {},
     "output_type": "execute_result"
    }
   ],
   "source": [
    "df.head()"
   ]
  },
  {
   "cell_type": "code",
   "execution_count": 139,
   "metadata": {},
   "outputs": [],
   "source": [
    "# df.plot(x='average_days_to_release_in_last_year', y='days_until_next_album', kind='scatter')"
   ]
  },
  {
   "cell_type": "code",
   "execution_count": 140,
   "metadata": {},
   "outputs": [
    {
     "data": {
      "text/plain": [
       "title                                       0\n",
       "artist_name                                 0\n",
       "artist_id                                   0\n",
       "artist                                      0\n",
       "release_date                                0\n",
       "record_type                                 0\n",
       "nb_tracks                                   0\n",
       "duration                                    0\n",
       "genres                                      0\n",
       "explicit_lyrics                             0\n",
       "days_since_first_release                    0\n",
       "total_albums_released                       0\n",
       "release_year                                0\n",
       "release_month                               0\n",
       "release_day_of_month                        0\n",
       "release_day_of_week                         0\n",
       "record_type_album                           0\n",
       "record_type_single                          0\n",
       "record_type_ep                              0\n",
       "days_until_next_album                       0\n",
       "albums_released_in_30_days                  0\n",
       "albums_released_in_30_60_days               0\n",
       "albums_released_in_60_90_days               0\n",
       "albums_released_in_90_180_days              0\n",
       "albums_released_in_180_360_days             0\n",
       "albums_released_in_360_720_days             0\n",
       "days_since_previous_release                 0\n",
       "average_days_to_release_in_last_year       98\n",
       "average_days_to_release_in_last_2_years    98\n",
       "average_days_to_release_in_last_3_years    98\n",
       "average_days_to_release_in_last_5_years    98\n",
       "dtype: int64"
      ]
     },
     "execution_count": 140,
     "metadata": {},
     "output_type": "execute_result"
    }
   ],
   "source": [
    "df.isnull().sum()"
   ]
  },
  {
   "cell_type": "code",
   "execution_count": 141,
   "metadata": {},
   "outputs": [
    {
     "data": {
      "text/plain": [
       "array([2004])"
      ]
     },
     "execution_count": 141,
     "metadata": {},
     "output_type": "execute_result"
    }
   ],
   "source": [
    "df[df['average_days_to_release_in_last_year'].isnull()]['release_year'].unique()"
   ]
  },
  {
   "cell_type": "markdown",
   "metadata": {},
   "source": [
    "Those releases are way too old. Let's just drop them"
   ]
  },
  {
   "cell_type": "code",
   "execution_count": 142,
   "metadata": {},
   "outputs": [
    {
     "data": {
      "text/html": [
       "<div>\n",
       "<style scoped>\n",
       "    .dataframe tbody tr th:only-of-type {\n",
       "        vertical-align: middle;\n",
       "    }\n",
       "\n",
       "    .dataframe tbody tr th {\n",
       "        vertical-align: top;\n",
       "    }\n",
       "\n",
       "    .dataframe thead th {\n",
       "        text-align: right;\n",
       "    }\n",
       "</style>\n",
       "<table border=\"1\" class=\"dataframe\">\n",
       "  <thead>\n",
       "    <tr style=\"text-align: right;\">\n",
       "      <th></th>\n",
       "      <th>title</th>\n",
       "      <th>artist_name</th>\n",
       "      <th>artist_id</th>\n",
       "      <th>artist</th>\n",
       "      <th>release_date</th>\n",
       "      <th>record_type</th>\n",
       "      <th>nb_tracks</th>\n",
       "      <th>duration</th>\n",
       "      <th>genres</th>\n",
       "      <th>explicit_lyrics</th>\n",
       "      <th>...</th>\n",
       "      <th>albums_released_in_30_60_days</th>\n",
       "      <th>albums_released_in_60_90_days</th>\n",
       "      <th>albums_released_in_90_180_days</th>\n",
       "      <th>albums_released_in_180_360_days</th>\n",
       "      <th>albums_released_in_360_720_days</th>\n",
       "      <th>days_since_previous_release</th>\n",
       "      <th>average_days_to_release_in_last_year</th>\n",
       "      <th>average_days_to_release_in_last_2_years</th>\n",
       "      <th>average_days_to_release_in_last_3_years</th>\n",
       "      <th>average_days_to_release_in_last_5_years</th>\n",
       "    </tr>\n",
       "    <tr>\n",
       "      <th>id</th>\n",
       "      <th></th>\n",
       "      <th></th>\n",
       "      <th></th>\n",
       "      <th></th>\n",
       "      <th></th>\n",
       "      <th></th>\n",
       "      <th></th>\n",
       "      <th></th>\n",
       "      <th></th>\n",
       "      <th></th>\n",
       "      <th></th>\n",
       "      <th></th>\n",
       "      <th></th>\n",
       "      <th></th>\n",
       "      <th></th>\n",
       "      <th></th>\n",
       "      <th></th>\n",
       "      <th></th>\n",
       "      <th></th>\n",
       "      <th></th>\n",
       "      <th></th>\n",
       "    </tr>\n",
       "  </thead>\n",
       "  <tbody>\n",
       "    <tr>\n",
       "      <th>77130752.0</th>\n",
       "      <td>L'Everest (Deluxe Edition)</td>\n",
       "      <td>Soprano</td>\n",
       "      <td>13011</td>\n",
       "      <td>{u'picture': u'https://api.deezer.com/artist/1...</td>\n",
       "      <td>2016-10-14</td>\n",
       "      <td>album</td>\n",
       "      <td>18.0</td>\n",
       "      <td>4177.0</td>\n",
       "      <td>{u'data': [{u'picture': u'https://api.deezer.c...</td>\n",
       "      <td>False</td>\n",
       "      <td>...</td>\n",
       "      <td>0</td>\n",
       "      <td>0</td>\n",
       "      <td>0</td>\n",
       "      <td>0</td>\n",
       "      <td>0</td>\n",
       "      <td>420.0</td>\n",
       "      <td>76.0</td>\n",
       "      <td>85.0</td>\n",
       "      <td>91.0</td>\n",
       "      <td>104.0</td>\n",
       "    </tr>\n",
       "    <tr>\n",
       "      <th>77126682.0</th>\n",
       "      <td>Cosmopolitanie (Deluxe Edition)</td>\n",
       "      <td>Soprano</td>\n",
       "      <td>13011</td>\n",
       "      <td>{u'picture': u'https://api.deezer.com/artist/1...</td>\n",
       "      <td>2015-08-21</td>\n",
       "      <td>album</td>\n",
       "      <td>28.0</td>\n",
       "      <td>6054.0</td>\n",
       "      <td>{u'data': [{u'picture': u'https://api.deezer.c...</td>\n",
       "      <td>True</td>\n",
       "      <td>...</td>\n",
       "      <td>0</td>\n",
       "      <td>0</td>\n",
       "      <td>0</td>\n",
       "      <td>0</td>\n",
       "      <td>0</td>\n",
       "      <td>158.0</td>\n",
       "      <td>98.0</td>\n",
       "      <td>104.5</td>\n",
       "      <td>109.0</td>\n",
       "      <td>119.0</td>\n",
       "    </tr>\n",
       "    <tr>\n",
       "      <th>9816130.0</th>\n",
       "      <td>Cosmopolitanie (Bonus Tracks)</td>\n",
       "      <td>Soprano</td>\n",
       "      <td>13011</td>\n",
       "      <td>{u'picture': u'https://api.deezer.com/artist/1...</td>\n",
       "      <td>2015-03-16</td>\n",
       "      <td>album</td>\n",
       "      <td>8.0</td>\n",
       "      <td>1753.0</td>\n",
       "      <td>{u'data': [{u'picture': u'https://api.deezer.c...</td>\n",
       "      <td>False</td>\n",
       "      <td>...</td>\n",
       "      <td>0</td>\n",
       "      <td>0</td>\n",
       "      <td>0</td>\n",
       "      <td>0</td>\n",
       "      <td>0</td>\n",
       "      <td>1050.0</td>\n",
       "      <td>102.0</td>\n",
       "      <td>111.0</td>\n",
       "      <td>117.0</td>\n",
       "      <td>126.0</td>\n",
       "    </tr>\n",
       "    <tr>\n",
       "      <th>1641895.0</th>\n",
       "      <td>E=2MC's</td>\n",
       "      <td>Soprano</td>\n",
       "      <td>13011</td>\n",
       "      <td>{u'picture': u'https://api.deezer.com/artist/1...</td>\n",
       "      <td>2012-04-30</td>\n",
       "      <td>album</td>\n",
       "      <td>12.0</td>\n",
       "      <td>3194.0</td>\n",
       "      <td>{u'data': [{u'picture': u'https://api.deezer.c...</td>\n",
       "      <td>False</td>\n",
       "      <td>...</td>\n",
       "      <td>0</td>\n",
       "      <td>0</td>\n",
       "      <td>0</td>\n",
       "      <td>0</td>\n",
       "      <td>0</td>\n",
       "      <td>73.0</td>\n",
       "      <td>137.0</td>\n",
       "      <td>146.0</td>\n",
       "      <td>145.0</td>\n",
       "      <td>161.0</td>\n",
       "    </tr>\n",
       "    <tr>\n",
       "      <th>1523930.0</th>\n",
       "      <td>E.P. Live 2012</td>\n",
       "      <td>Soprano</td>\n",
       "      <td>13011</td>\n",
       "      <td>{u'picture': u'https://api.deezer.com/artist/1...</td>\n",
       "      <td>2012-02-17</td>\n",
       "      <td>album</td>\n",
       "      <td>4.0</td>\n",
       "      <td>922.0</td>\n",
       "      <td>{u'data': [{u'picture': u'https://api.deezer.c...</td>\n",
       "      <td>False</td>\n",
       "      <td>...</td>\n",
       "      <td>0</td>\n",
       "      <td>0</td>\n",
       "      <td>0</td>\n",
       "      <td>0</td>\n",
       "      <td>0</td>\n",
       "      <td>338.0</td>\n",
       "      <td>137.0</td>\n",
       "      <td>149.0</td>\n",
       "      <td>147.0</td>\n",
       "      <td>161.0</td>\n",
       "    </tr>\n",
       "  </tbody>\n",
       "</table>\n",
       "<p>5 rows × 31 columns</p>\n",
       "</div>"
      ],
      "text/plain": [
       "                                      title artist_name  artist_id  \\\n",
       "id                                                                   \n",
       "77130752.0       L'Everest (Deluxe Edition)     Soprano      13011   \n",
       "77126682.0  Cosmopolitanie (Deluxe Edition)     Soprano      13011   \n",
       "9816130.0     Cosmopolitanie (Bonus Tracks)     Soprano      13011   \n",
       "1641895.0                           E=2MC's     Soprano      13011   \n",
       "1523930.0                    E.P. Live 2012     Soprano      13011   \n",
       "\n",
       "                                                       artist release_date  \\\n",
       "id                                                                           \n",
       "77130752.0  {u'picture': u'https://api.deezer.com/artist/1...   2016-10-14   \n",
       "77126682.0  {u'picture': u'https://api.deezer.com/artist/1...   2015-08-21   \n",
       "9816130.0   {u'picture': u'https://api.deezer.com/artist/1...   2015-03-16   \n",
       "1641895.0   {u'picture': u'https://api.deezer.com/artist/1...   2012-04-30   \n",
       "1523930.0   {u'picture': u'https://api.deezer.com/artist/1...   2012-02-17   \n",
       "\n",
       "           record_type  nb_tracks  duration  \\\n",
       "id                                            \n",
       "77130752.0       album       18.0    4177.0   \n",
       "77126682.0       album       28.0    6054.0   \n",
       "9816130.0        album        8.0    1753.0   \n",
       "1641895.0        album       12.0    3194.0   \n",
       "1523930.0        album        4.0     922.0   \n",
       "\n",
       "                                                       genres explicit_lyrics  \\\n",
       "id                                                                              \n",
       "77130752.0  {u'data': [{u'picture': u'https://api.deezer.c...           False   \n",
       "77126682.0  {u'data': [{u'picture': u'https://api.deezer.c...            True   \n",
       "9816130.0   {u'data': [{u'picture': u'https://api.deezer.c...           False   \n",
       "1641895.0   {u'data': [{u'picture': u'https://api.deezer.c...           False   \n",
       "1523930.0   {u'data': [{u'picture': u'https://api.deezer.c...           False   \n",
       "\n",
       "            ...  albums_released_in_30_60_days  albums_released_in_60_90_days  \\\n",
       "id          ...                                                                 \n",
       "77130752.0  ...                              0                              0   \n",
       "77126682.0  ...                              0                              0   \n",
       "9816130.0   ...                              0                              0   \n",
       "1641895.0   ...                              0                              0   \n",
       "1523930.0   ...                              0                              0   \n",
       "\n",
       "            albums_released_in_90_180_days  albums_released_in_180_360_days  \\\n",
       "id                                                                            \n",
       "77130752.0                               0                                0   \n",
       "77126682.0                               0                                0   \n",
       "9816130.0                                0                                0   \n",
       "1641895.0                                0                                0   \n",
       "1523930.0                                0                                0   \n",
       "\n",
       "            albums_released_in_360_720_days  days_since_previous_release  \\\n",
       "id                                                                         \n",
       "77130752.0                                0                        420.0   \n",
       "77126682.0                                0                        158.0   \n",
       "9816130.0                                 0                       1050.0   \n",
       "1641895.0                                 0                         73.0   \n",
       "1523930.0                                 0                        338.0   \n",
       "\n",
       "            average_days_to_release_in_last_year  \\\n",
       "id                                                 \n",
       "77130752.0                                  76.0   \n",
       "77126682.0                                  98.0   \n",
       "9816130.0                                  102.0   \n",
       "1641895.0                                  137.0   \n",
       "1523930.0                                  137.0   \n",
       "\n",
       "            average_days_to_release_in_last_2_years  \\\n",
       "id                                                    \n",
       "77130752.0                                     85.0   \n",
       "77126682.0                                    104.5   \n",
       "9816130.0                                     111.0   \n",
       "1641895.0                                     146.0   \n",
       "1523930.0                                     149.0   \n",
       "\n",
       "            average_days_to_release_in_last_3_years  \\\n",
       "id                                                    \n",
       "77130752.0                                     91.0   \n",
       "77126682.0                                    109.0   \n",
       "9816130.0                                     117.0   \n",
       "1641895.0                                     145.0   \n",
       "1523930.0                                     147.0   \n",
       "\n",
       "            average_days_to_release_in_last_5_years  \n",
       "id                                                   \n",
       "77130752.0                                    104.0  \n",
       "77126682.0                                    119.0  \n",
       "9816130.0                                     126.0  \n",
       "1641895.0                                     161.0  \n",
       "1523930.0                                     161.0  \n",
       "\n",
       "[5 rows x 31 columns]"
      ]
     },
     "execution_count": 142,
     "metadata": {},
     "output_type": "execute_result"
    }
   ],
   "source": [
    "df = df.dropna(subset=['average_days_to_release_in_last_year'])\n",
    "df.head()"
   ]
  },
  {
   "cell_type": "code",
   "execution_count": 143,
   "metadata": {},
   "outputs": [
    {
     "data": {
      "text/plain": [
       "title                                      0\n",
       "artist_name                                0\n",
       "artist_id                                  0\n",
       "artist                                     0\n",
       "release_date                               0\n",
       "record_type                                0\n",
       "nb_tracks                                  0\n",
       "duration                                   0\n",
       "genres                                     0\n",
       "explicit_lyrics                            0\n",
       "days_since_first_release                   0\n",
       "total_albums_released                      0\n",
       "release_year                               0\n",
       "release_month                              0\n",
       "release_day_of_month                       0\n",
       "release_day_of_week                        0\n",
       "record_type_album                          0\n",
       "record_type_single                         0\n",
       "record_type_ep                             0\n",
       "days_until_next_album                      0\n",
       "albums_released_in_30_days                 0\n",
       "albums_released_in_30_60_days              0\n",
       "albums_released_in_60_90_days              0\n",
       "albums_released_in_90_180_days             0\n",
       "albums_released_in_180_360_days            0\n",
       "albums_released_in_360_720_days            0\n",
       "days_since_previous_release                0\n",
       "average_days_to_release_in_last_year       0\n",
       "average_days_to_release_in_last_2_years    0\n",
       "average_days_to_release_in_last_3_years    0\n",
       "average_days_to_release_in_last_5_years    0\n",
       "dtype: int64"
      ]
     },
     "execution_count": 143,
     "metadata": {},
     "output_type": "execute_result"
    }
   ],
   "source": [
    "df.isnull().sum()"
   ]
  },
  {
   "cell_type": "markdown",
   "metadata": {},
   "source": [
    "# Average days to release in last year for release type"
   ]
  },
  {
   "cell_type": "code",
   "execution_count": 144,
   "metadata": {},
   "outputs": [],
   "source": [
    "def average_days_to_release_in_last_n_years_for_release_type(album, n):\n",
    "    album_release_date = album.release_date\n",
    "    record_type = album.record_type\n",
    "    years_earlier = album_release_date - datetime.timedelta(days=n * 365)\n",
    "\n",
    "    previous_albums = df[(df['record_type'] == record_type) & (df['release_date'] < album_release_date) & (df['release_date'] > years_earlier)]\n",
    "    if len(previous_albums) == 0:\n",
    "        return(None)\n",
    "    else:\n",
    "        return(previous_albums['days_until_next_album'].median())"
   ]
  },
  {
   "cell_type": "code",
   "execution_count": 145,
   "metadata": {},
   "outputs": [],
   "source": [
    "# def average_days_to_release_in_last_n_years(album, n):\n",
    "#     album_release_date = album.release_date\n",
    "#     years_earlier = album_release_date - datetime.timedelta(days=n * 365)\n",
    "\n",
    "#     previous_albums = df[(df['release_date'] < album_release_date) & (df['release_date'] > years_earlier)]\n",
    "#     if len(previous_albums) == 0:\n",
    "#         return(None)\n",
    "#     else:\n",
    "#         return(previous_albums['days_until_next_album'].median())"
   ]
  },
  {
   "cell_type": "code",
   "execution_count": 146,
   "metadata": {},
   "outputs": [],
   "source": [
    "def average_days_to_release_in_last_year_for_release_type(album):\n",
    "    return(average_days_to_release_in_last_n_years_for_release_type(album, 1))\n",
    "\n",
    "def average_days_to_release_in_last_2_years_for_release_type(album):\n",
    "    return(average_days_to_release_in_last_n_years_for_release_type(album, 2))\n",
    "\n",
    "def average_days_to_release_in_last_3_years_for_release_type(album):\n",
    "    return(average_days_to_release_in_last_n_years_for_release_type(album, 3))\n",
    "\n",
    "def average_days_to_release_in_last_5_years_for_release_type(album):\n",
    "    return(average_days_to_release_in_last_n_years_for_release_type(album, 5))"
   ]
  },
  {
   "cell_type": "code",
   "execution_count": 147,
   "metadata": {},
   "outputs": [],
   "source": [
    "# the first album from the artist\n",
    "# average_days_to_release_in_last_year_for_release_type(first_album)"
   ]
  },
  {
   "cell_type": "code",
   "execution_count": 148,
   "metadata": {},
   "outputs": [],
   "source": [
    "# the last album from the artist in our dataset\n",
    "# average_days_to_release_in_last_year_for_release_type(last_album)"
   ]
  },
  {
   "cell_type": "code",
   "execution_count": 149,
   "metadata": {},
   "outputs": [
    {
     "data": {
      "text/plain": [
       "id\n",
       "77130752.0    120.0\n",
       "77126682.0    139.0\n",
       "9816130.0     140.5\n",
       "1641895.0     157.0\n",
       "1523930.0     159.0\n",
       "40632261.0    209.5\n",
       "301745.0      283.0\n",
       "77133732.0    277.5\n",
       "6141022.0     259.0\n",
       "311650.0      102.5\n",
       "dtype: float64"
      ]
     },
     "execution_count": 149,
     "metadata": {},
     "output_type": "execute_result"
    }
   ],
   "source": [
    "df.head(10).apply(average_days_to_release_in_last_year_for_release_type, axis=1)"
   ]
  },
  {
   "cell_type": "code",
   "execution_count": 150,
   "metadata": {},
   "outputs": [],
   "source": [
    "df['average_days_to_release_in_last_year_for_release_type'] = df.apply(average_days_to_release_in_last_year_for_release_type, axis=1)"
   ]
  },
  {
   "cell_type": "code",
   "execution_count": 152,
   "metadata": {},
   "outputs": [
    {
     "ename": "KeyboardInterrupt",
     "evalue": "",
     "output_type": "error",
     "traceback": [
      "\u001b[0;31m---------------------------------------------------------------------------\u001b[0m",
      "\u001b[0;31mKeyboardInterrupt\u001b[0m                         Traceback (most recent call last)",
      "\u001b[0;32m<ipython-input-152-38d9ebc27cf6>\u001b[0m in \u001b[0;36m<module>\u001b[0;34m()\u001b[0m\n\u001b[0;32m----> 1\u001b[0;31m \u001b[0mdf\u001b[0m\u001b[0;34m[\u001b[0m\u001b[0;34m'average_days_to_release_in_last_2_years_for_release_type'\u001b[0m\u001b[0;34m]\u001b[0m \u001b[0;34m=\u001b[0m \u001b[0mdf\u001b[0m\u001b[0;34m.\u001b[0m\u001b[0mapply\u001b[0m\u001b[0;34m(\u001b[0m\u001b[0maverage_days_to_release_in_last_2_years_for_release_type\u001b[0m\u001b[0;34m,\u001b[0m \u001b[0maxis\u001b[0m\u001b[0;34m=\u001b[0m\u001b[0;36m1\u001b[0m\u001b[0;34m)\u001b[0m\u001b[0;34m\u001b[0m\u001b[0m\n\u001b[0m",
      "\u001b[0;32m/usr/local/lib/python2.7/site-packages/pandas/core/frame.pyc\u001b[0m in \u001b[0;36mapply\u001b[0;34m(self, func, axis, broadcast, raw, reduce, result_type, args, **kwds)\u001b[0m\n\u001b[1;32m   6485\u001b[0m                          \u001b[0margs\u001b[0m\u001b[0;34m=\u001b[0m\u001b[0margs\u001b[0m\u001b[0;34m,\u001b[0m\u001b[0;34m\u001b[0m\u001b[0m\n\u001b[1;32m   6486\u001b[0m                          kwds=kwds)\n\u001b[0;32m-> 6487\u001b[0;31m         \u001b[0;32mreturn\u001b[0m \u001b[0mop\u001b[0m\u001b[0;34m.\u001b[0m\u001b[0mget_result\u001b[0m\u001b[0;34m(\u001b[0m\u001b[0;34m)\u001b[0m\u001b[0;34m\u001b[0m\u001b[0m\n\u001b[0m\u001b[1;32m   6488\u001b[0m \u001b[0;34m\u001b[0m\u001b[0m\n\u001b[1;32m   6489\u001b[0m     \u001b[0;32mdef\u001b[0m \u001b[0mapplymap\u001b[0m\u001b[0;34m(\u001b[0m\u001b[0mself\u001b[0m\u001b[0;34m,\u001b[0m \u001b[0mfunc\u001b[0m\u001b[0;34m)\u001b[0m\u001b[0;34m:\u001b[0m\u001b[0;34m\u001b[0m\u001b[0m\n",
      "\u001b[0;32m/usr/local/lib/python2.7/site-packages/pandas/core/apply.pyc\u001b[0m in \u001b[0;36mget_result\u001b[0;34m(self)\u001b[0m\n\u001b[1;32m    149\u001b[0m             \u001b[0;32mreturn\u001b[0m \u001b[0mself\u001b[0m\u001b[0;34m.\u001b[0m\u001b[0mapply_raw\u001b[0m\u001b[0;34m(\u001b[0m\u001b[0;34m)\u001b[0m\u001b[0;34m\u001b[0m\u001b[0m\n\u001b[1;32m    150\u001b[0m \u001b[0;34m\u001b[0m\u001b[0m\n\u001b[0;32m--> 151\u001b[0;31m         \u001b[0;32mreturn\u001b[0m \u001b[0mself\u001b[0m\u001b[0;34m.\u001b[0m\u001b[0mapply_standard\u001b[0m\u001b[0;34m(\u001b[0m\u001b[0;34m)\u001b[0m\u001b[0;34m\u001b[0m\u001b[0m\n\u001b[0m\u001b[1;32m    152\u001b[0m \u001b[0;34m\u001b[0m\u001b[0m\n\u001b[1;32m    153\u001b[0m     \u001b[0;32mdef\u001b[0m \u001b[0mapply_empty_result\u001b[0m\u001b[0;34m(\u001b[0m\u001b[0mself\u001b[0m\u001b[0;34m)\u001b[0m\u001b[0;34m:\u001b[0m\u001b[0;34m\u001b[0m\u001b[0m\n",
      "\u001b[0;32m/usr/local/lib/python2.7/site-packages/pandas/core/apply.pyc\u001b[0m in \u001b[0;36mapply_standard\u001b[0;34m(self)\u001b[0m\n\u001b[1;32m    249\u001b[0m                                           \u001b[0maxis\u001b[0m\u001b[0;34m=\u001b[0m\u001b[0mself\u001b[0m\u001b[0;34m.\u001b[0m\u001b[0maxis\u001b[0m\u001b[0;34m,\u001b[0m\u001b[0;34m\u001b[0m\u001b[0m\n\u001b[1;32m    250\u001b[0m                                           \u001b[0mdummy\u001b[0m\u001b[0;34m=\u001b[0m\u001b[0mdummy\u001b[0m\u001b[0;34m,\u001b[0m\u001b[0;34m\u001b[0m\u001b[0m\n\u001b[0;32m--> 251\u001b[0;31m                                           labels=labels)\n\u001b[0m\u001b[1;32m    252\u001b[0m                 \u001b[0;32mreturn\u001b[0m \u001b[0mself\u001b[0m\u001b[0;34m.\u001b[0m\u001b[0mobj\u001b[0m\u001b[0;34m.\u001b[0m\u001b[0m_constructor_sliced\u001b[0m\u001b[0;34m(\u001b[0m\u001b[0mresult\u001b[0m\u001b[0;34m,\u001b[0m \u001b[0mindex\u001b[0m\u001b[0;34m=\u001b[0m\u001b[0mlabels\u001b[0m\u001b[0;34m)\u001b[0m\u001b[0;34m\u001b[0m\u001b[0m\n\u001b[1;32m    253\u001b[0m             \u001b[0;32mexcept\u001b[0m \u001b[0mException\u001b[0m\u001b[0;34m:\u001b[0m\u001b[0;34m\u001b[0m\u001b[0m\n",
      "\u001b[0;32mpandas/_libs/reduction.pyx\u001b[0m in \u001b[0;36mpandas._libs.reduction.reduce\u001b[0;34m()\u001b[0m\n",
      "\u001b[0;32mpandas/_libs/reduction.pyx\u001b[0m in \u001b[0;36mpandas._libs.reduction.Reducer.get_result\u001b[0;34m()\u001b[0m\n",
      "\u001b[0;32m<ipython-input-146-033b7bcdfe13>\u001b[0m in \u001b[0;36maverage_days_to_release_in_last_2_years_for_release_type\u001b[0;34m(album)\u001b[0m\n\u001b[1;32m      3\u001b[0m \u001b[0;34m\u001b[0m\u001b[0m\n\u001b[1;32m      4\u001b[0m \u001b[0;32mdef\u001b[0m \u001b[0maverage_days_to_release_in_last_2_years_for_release_type\u001b[0m\u001b[0;34m(\u001b[0m\u001b[0malbum\u001b[0m\u001b[0;34m)\u001b[0m\u001b[0;34m:\u001b[0m\u001b[0;34m\u001b[0m\u001b[0m\n\u001b[0;32m----> 5\u001b[0;31m     \u001b[0;32mreturn\u001b[0m\u001b[0;34m(\u001b[0m\u001b[0maverage_days_to_release_in_last_n_years_for_release_type\u001b[0m\u001b[0;34m(\u001b[0m\u001b[0malbum\u001b[0m\u001b[0;34m,\u001b[0m \u001b[0;36m2\u001b[0m\u001b[0;34m)\u001b[0m\u001b[0;34m)\u001b[0m\u001b[0;34m\u001b[0m\u001b[0m\n\u001b[0m\u001b[1;32m      6\u001b[0m \u001b[0;34m\u001b[0m\u001b[0m\n\u001b[1;32m      7\u001b[0m \u001b[0;32mdef\u001b[0m \u001b[0maverage_days_to_release_in_last_3_years_for_release_type\u001b[0m\u001b[0;34m(\u001b[0m\u001b[0malbum\u001b[0m\u001b[0;34m)\u001b[0m\u001b[0;34m:\u001b[0m\u001b[0;34m\u001b[0m\u001b[0m\n",
      "\u001b[0;32m<ipython-input-144-ff579172766b>\u001b[0m in \u001b[0;36maverage_days_to_release_in_last_n_years_for_release_type\u001b[0;34m(album, n)\u001b[0m\n\u001b[1;32m      4\u001b[0m     \u001b[0myears_earlier\u001b[0m \u001b[0;34m=\u001b[0m \u001b[0malbum_release_date\u001b[0m \u001b[0;34m-\u001b[0m \u001b[0mdatetime\u001b[0m\u001b[0;34m.\u001b[0m\u001b[0mtimedelta\u001b[0m\u001b[0;34m(\u001b[0m\u001b[0mdays\u001b[0m\u001b[0;34m=\u001b[0m\u001b[0mn\u001b[0m \u001b[0;34m*\u001b[0m \u001b[0;36m365\u001b[0m\u001b[0;34m)\u001b[0m\u001b[0;34m\u001b[0m\u001b[0m\n\u001b[1;32m      5\u001b[0m \u001b[0;34m\u001b[0m\u001b[0m\n\u001b[0;32m----> 6\u001b[0;31m     \u001b[0mprevious_albums\u001b[0m \u001b[0;34m=\u001b[0m \u001b[0mdf\u001b[0m\u001b[0;34m[\u001b[0m\u001b[0;34m(\u001b[0m\u001b[0mdf\u001b[0m\u001b[0;34m[\u001b[0m\u001b[0;34m'record_type'\u001b[0m\u001b[0;34m]\u001b[0m \u001b[0;34m==\u001b[0m \u001b[0mrecord_type\u001b[0m\u001b[0;34m)\u001b[0m \u001b[0;34m&\u001b[0m \u001b[0;34m(\u001b[0m\u001b[0mdf\u001b[0m\u001b[0;34m[\u001b[0m\u001b[0;34m'release_date'\u001b[0m\u001b[0;34m]\u001b[0m \u001b[0;34m<\u001b[0m \u001b[0malbum_release_date\u001b[0m\u001b[0;34m)\u001b[0m \u001b[0;34m&\u001b[0m \u001b[0;34m(\u001b[0m\u001b[0mdf\u001b[0m\u001b[0;34m[\u001b[0m\u001b[0;34m'release_date'\u001b[0m\u001b[0;34m]\u001b[0m \u001b[0;34m>\u001b[0m \u001b[0myears_earlier\u001b[0m\u001b[0;34m)\u001b[0m\u001b[0;34m]\u001b[0m\u001b[0;34m\u001b[0m\u001b[0m\n\u001b[0m\u001b[1;32m      7\u001b[0m     \u001b[0;32mif\u001b[0m \u001b[0mlen\u001b[0m\u001b[0;34m(\u001b[0m\u001b[0mprevious_albums\u001b[0m\u001b[0;34m)\u001b[0m \u001b[0;34m==\u001b[0m \u001b[0;36m0\u001b[0m\u001b[0;34m:\u001b[0m\u001b[0;34m\u001b[0m\u001b[0m\n\u001b[1;32m      8\u001b[0m         \u001b[0;32mreturn\u001b[0m\u001b[0;34m(\u001b[0m\u001b[0mNone\u001b[0m\u001b[0;34m)\u001b[0m\u001b[0;34m\u001b[0m\u001b[0m\n",
      "\u001b[0;32m/usr/local/lib/python2.7/site-packages/pandas/core/ops.pyc\u001b[0m in \u001b[0;36mwrapper\u001b[0;34m(self, other, axis)\u001b[0m\n\u001b[1;32m   1764\u001b[0m \u001b[0;34m\u001b[0m\u001b[0m\n\u001b[1;32m   1765\u001b[0m             \u001b[0;32mwith\u001b[0m \u001b[0mnp\u001b[0m\u001b[0;34m.\u001b[0m\u001b[0merrstate\u001b[0m\u001b[0;34m(\u001b[0m\u001b[0mall\u001b[0m\u001b[0;34m=\u001b[0m\u001b[0;34m'ignore'\u001b[0m\u001b[0;34m)\u001b[0m\u001b[0;34m:\u001b[0m\u001b[0;34m\u001b[0m\u001b[0m\n\u001b[0;32m-> 1766\u001b[0;31m                 \u001b[0mres\u001b[0m \u001b[0;34m=\u001b[0m \u001b[0mna_op\u001b[0m\u001b[0;34m(\u001b[0m\u001b[0mvalues\u001b[0m\u001b[0;34m,\u001b[0m \u001b[0mother\u001b[0m\u001b[0;34m)\u001b[0m\u001b[0;34m\u001b[0m\u001b[0m\n\u001b[0m\u001b[1;32m   1767\u001b[0m             \u001b[0;32mif\u001b[0m \u001b[0mis_scalar\u001b[0m\u001b[0;34m(\u001b[0m\u001b[0mres\u001b[0m\u001b[0;34m)\u001b[0m\u001b[0;34m:\u001b[0m\u001b[0;34m\u001b[0m\u001b[0m\n\u001b[1;32m   1768\u001b[0m                 raise TypeError('Could not compare {typ} type with Series'\n",
      "\u001b[0;32m/usr/local/lib/python2.7/site-packages/pandas/core/ops.pyc\u001b[0m in \u001b[0;36mna_op\u001b[0;34m(x, y)\u001b[0m\n\u001b[1;32m   1623\u001b[0m \u001b[0;34m\u001b[0m\u001b[0m\n\u001b[1;32m   1624\u001b[0m         \u001b[0;32mif\u001b[0m \u001b[0mis_object_dtype\u001b[0m\u001b[0;34m(\u001b[0m\u001b[0mx\u001b[0m\u001b[0;34m.\u001b[0m\u001b[0mdtype\u001b[0m\u001b[0;34m)\u001b[0m\u001b[0;34m:\u001b[0m\u001b[0;34m\u001b[0m\u001b[0m\n\u001b[0;32m-> 1625\u001b[0;31m             \u001b[0mresult\u001b[0m \u001b[0;34m=\u001b[0m \u001b[0m_comp_method_OBJECT_ARRAY\u001b[0m\u001b[0;34m(\u001b[0m\u001b[0mop\u001b[0m\u001b[0;34m,\u001b[0m \u001b[0mx\u001b[0m\u001b[0;34m,\u001b[0m \u001b[0my\u001b[0m\u001b[0;34m)\u001b[0m\u001b[0;34m\u001b[0m\u001b[0m\n\u001b[0m\u001b[1;32m   1626\u001b[0m \u001b[0;34m\u001b[0m\u001b[0m\n\u001b[1;32m   1627\u001b[0m         \u001b[0;32melif\u001b[0m \u001b[0mis_datetimelike_v_numeric\u001b[0m\u001b[0;34m(\u001b[0m\u001b[0mx\u001b[0m\u001b[0;34m,\u001b[0m \u001b[0my\u001b[0m\u001b[0;34m)\u001b[0m\u001b[0;34m:\u001b[0m\u001b[0;34m\u001b[0m\u001b[0m\n",
      "\u001b[0;32m/usr/local/lib/python2.7/site-packages/pandas/core/ops.pyc\u001b[0m in \u001b[0;36m_comp_method_OBJECT_ARRAY\u001b[0;34m(op, x, y)\u001b[0m\n\u001b[1;32m   1601\u001b[0m         \u001b[0mresult\u001b[0m \u001b[0;34m=\u001b[0m \u001b[0mlibops\u001b[0m\u001b[0;34m.\u001b[0m\u001b[0mvec_compare\u001b[0m\u001b[0;34m(\u001b[0m\u001b[0mx\u001b[0m\u001b[0;34m,\u001b[0m \u001b[0my\u001b[0m\u001b[0;34m,\u001b[0m \u001b[0mop\u001b[0m\u001b[0;34m)\u001b[0m\u001b[0;34m\u001b[0m\u001b[0m\n\u001b[1;32m   1602\u001b[0m     \u001b[0;32melse\u001b[0m\u001b[0;34m:\u001b[0m\u001b[0;34m\u001b[0m\u001b[0m\n\u001b[0;32m-> 1603\u001b[0;31m         \u001b[0mresult\u001b[0m \u001b[0;34m=\u001b[0m \u001b[0mlibops\u001b[0m\u001b[0;34m.\u001b[0m\u001b[0mscalar_compare\u001b[0m\u001b[0;34m(\u001b[0m\u001b[0mx\u001b[0m\u001b[0;34m,\u001b[0m \u001b[0my\u001b[0m\u001b[0;34m,\u001b[0m \u001b[0mop\u001b[0m\u001b[0;34m)\u001b[0m\u001b[0;34m\u001b[0m\u001b[0m\n\u001b[0m\u001b[1;32m   1604\u001b[0m     \u001b[0;32mreturn\u001b[0m \u001b[0mresult\u001b[0m\u001b[0;34m\u001b[0m\u001b[0m\n\u001b[1;32m   1605\u001b[0m \u001b[0;34m\u001b[0m\u001b[0m\n",
      "\u001b[0;31mKeyboardInterrupt\u001b[0m: "
     ]
    }
   ],
   "source": [
    "df['average_days_to_release_in_last_2_years_for_release_type'] = df.apply(average_days_to_release_in_last_2_years_for_release_type, axis=1)"
   ]
  },
  {
   "cell_type": "code",
   "execution_count": null,
   "metadata": {},
   "outputs": [],
   "source": [
    "df['average_days_to_release_in_last_3_years_for_release_type'] = df.apply(average_days_to_release_in_last_3_years_for_release_type, axis=1)"
   ]
  },
  {
   "cell_type": "code",
   "execution_count": null,
   "metadata": {},
   "outputs": [],
   "source": [
    "df['average_days_to_release_in_last_5_years_for_release_type'] = df.apply(average_days_to_release_in_last_5_years_for_release_type, axis=1)"
   ]
  },
  {
   "cell_type": "code",
   "execution_count": null,
   "metadata": {},
   "outputs": [],
   "source": [
    "# # Album\n",
    "# album = df[df['record_type'] == 'album'].iloc[-1]\n",
    "# average_days_to_release_in_last_year_for_release_type(album)"
   ]
  },
  {
   "cell_type": "code",
   "execution_count": null,
   "metadata": {},
   "outputs": [],
   "source": [
    "# # EP\n",
    "# ep = df[df['record_type'] == 'ep'].iloc[-1]\n",
    "# ep\n",
    "# average_days_to_release_in_last_year_for_release_type(ep)"
   ]
  },
  {
   "cell_type": "code",
   "execution_count": null,
   "metadata": {},
   "outputs": [],
   "source": [
    "# # Single\n",
    "# single = df[df['record_type'] == 'single'].iloc[-1]\n",
    "# single\n",
    "# average_days_to_release_in_last_year_for_release_type(first_album)"
   ]
  },
  {
   "cell_type": "code",
   "execution_count": null,
   "metadata": {},
   "outputs": [],
   "source": [
    "df.head(10).apply(average_days_to_release_in_last_year_for_release_type, axis=1)"
   ]
  },
  {
   "cell_type": "code",
   "execution_count": null,
   "metadata": {},
   "outputs": [],
   "source": [
    "# df['average_days_to_release_in_last_year_for_release_type'] = df.apply(average_days_to_release_in_last_year_for_release_type, axis=1)"
   ]
  },
  {
   "cell_type": "code",
   "execution_count": null,
   "metadata": {},
   "outputs": [],
   "source": [
    "df.head()"
   ]
  },
  {
   "cell_type": "code",
   "execution_count": null,
   "metadata": {},
   "outputs": [],
   "source": [
    "df.plot(x='average_days_to_release_in_last_year_for_release_type', y='days_until_next_album', kind='scatter')"
   ]
  },
  {
   "cell_type": "code",
   "execution_count": null,
   "metadata": {},
   "outputs": [],
   "source": [
    "df.isnull().sum()"
   ]
  },
  {
   "cell_type": "code",
   "execution_count": null,
   "metadata": {},
   "outputs": [],
   "source": [
    "df[df['average_days_to_release_in_last_year_for_release_type'].isnull()]['release_year'].unique()"
   ]
  },
  {
   "cell_type": "code",
   "execution_count": null,
   "metadata": {},
   "outputs": [],
   "source": [
    "df = df.dropna(subset=['average_days_to_release_in_last_year_for_release_type'])\n",
    "df.head()"
   ]
  },
  {
   "cell_type": "code",
   "execution_count": null,
   "metadata": {},
   "outputs": [],
   "source": [
    "df.isnull().sum()"
   ]
  },
  {
   "cell_type": "code",
   "execution_count": null,
   "metadata": {},
   "outputs": [],
   "source": []
  },
  {
   "cell_type": "markdown",
   "metadata": {},
   "source": [
    "# Average artist days to release"
   ]
  },
  {
   "cell_type": "code",
   "execution_count": 153,
   "metadata": {},
   "outputs": [],
   "source": [
    "# (df['days_since_first_release'] / df['total_albums_released']).head(10)"
   ]
  },
  {
   "cell_type": "code",
   "execution_count": 154,
   "metadata": {},
   "outputs": [
    {
     "data": {
      "text/plain": [
       "id\n",
       "77130752.0    333.0\n",
       "77126682.0    324.0\n",
       "9816130.0     343.0\n",
       "1641895.0     254.0\n",
       "1523930.0     280.0\n",
       "40632261.0    271.0\n",
       "301745.0      181.0\n",
       "77133732.0     68.0\n",
       "6141022.0       0.0\n",
       "311650.0      172.0\n",
       "dtype: float64"
      ]
     },
     "execution_count": 154,
     "metadata": {},
     "output_type": "execute_result"
    }
   ],
   "source": [
    "(df['days_since_first_release'] / df['total_albums_released']).round().head(10)"
   ]
  },
  {
   "cell_type": "code",
   "execution_count": 155,
   "metadata": {},
   "outputs": [],
   "source": [
    "df['average_days_to_release'] = (df['days_since_first_release'] / (df['total_albums_released'] - 1)).round()"
   ]
  },
  {
   "cell_type": "code",
   "execution_count": 156,
   "metadata": {},
   "outputs": [
    {
     "data": {
      "text/html": [
       "<div>\n",
       "<style scoped>\n",
       "    .dataframe tbody tr th:only-of-type {\n",
       "        vertical-align: middle;\n",
       "    }\n",
       "\n",
       "    .dataframe tbody tr th {\n",
       "        vertical-align: top;\n",
       "    }\n",
       "\n",
       "    .dataframe thead th {\n",
       "        text-align: right;\n",
       "    }\n",
       "</style>\n",
       "<table border=\"1\" class=\"dataframe\">\n",
       "  <thead>\n",
       "    <tr style=\"text-align: right;\">\n",
       "      <th></th>\n",
       "      <th>title</th>\n",
       "      <th>artist_name</th>\n",
       "      <th>artist_id</th>\n",
       "      <th>artist</th>\n",
       "      <th>release_date</th>\n",
       "      <th>record_type</th>\n",
       "      <th>nb_tracks</th>\n",
       "      <th>duration</th>\n",
       "      <th>genres</th>\n",
       "      <th>explicit_lyrics</th>\n",
       "      <th>...</th>\n",
       "      <th>albums_released_in_90_180_days</th>\n",
       "      <th>albums_released_in_180_360_days</th>\n",
       "      <th>albums_released_in_360_720_days</th>\n",
       "      <th>days_since_previous_release</th>\n",
       "      <th>average_days_to_release_in_last_year</th>\n",
       "      <th>average_days_to_release_in_last_2_years</th>\n",
       "      <th>average_days_to_release_in_last_3_years</th>\n",
       "      <th>average_days_to_release_in_last_5_years</th>\n",
       "      <th>average_days_to_release_in_last_year_for_release_type</th>\n",
       "      <th>average_days_to_release</th>\n",
       "    </tr>\n",
       "    <tr>\n",
       "      <th>id</th>\n",
       "      <th></th>\n",
       "      <th></th>\n",
       "      <th></th>\n",
       "      <th></th>\n",
       "      <th></th>\n",
       "      <th></th>\n",
       "      <th></th>\n",
       "      <th></th>\n",
       "      <th></th>\n",
       "      <th></th>\n",
       "      <th></th>\n",
       "      <th></th>\n",
       "      <th></th>\n",
       "      <th></th>\n",
       "      <th></th>\n",
       "      <th></th>\n",
       "      <th></th>\n",
       "      <th></th>\n",
       "      <th></th>\n",
       "      <th></th>\n",
       "      <th></th>\n",
       "    </tr>\n",
       "  </thead>\n",
       "  <tbody>\n",
       "    <tr>\n",
       "      <th>77130752.0</th>\n",
       "      <td>L'Everest (Deluxe Edition)</td>\n",
       "      <td>Soprano</td>\n",
       "      <td>13011</td>\n",
       "      <td>{u'picture': u'https://api.deezer.com/artist/1...</td>\n",
       "      <td>2016-10-14</td>\n",
       "      <td>album</td>\n",
       "      <td>18.0</td>\n",
       "      <td>4177.0</td>\n",
       "      <td>{u'data': [{u'picture': u'https://api.deezer.c...</td>\n",
       "      <td>False</td>\n",
       "      <td>...</td>\n",
       "      <td>0</td>\n",
       "      <td>0</td>\n",
       "      <td>0</td>\n",
       "      <td>420.0</td>\n",
       "      <td>76.0</td>\n",
       "      <td>85.0</td>\n",
       "      <td>91.0</td>\n",
       "      <td>104.0</td>\n",
       "      <td>120.0</td>\n",
       "      <td>366.0</td>\n",
       "    </tr>\n",
       "    <tr>\n",
       "      <th>77126682.0</th>\n",
       "      <td>Cosmopolitanie (Deluxe Edition)</td>\n",
       "      <td>Soprano</td>\n",
       "      <td>13011</td>\n",
       "      <td>{u'picture': u'https://api.deezer.com/artist/1...</td>\n",
       "      <td>2015-08-21</td>\n",
       "      <td>album</td>\n",
       "      <td>28.0</td>\n",
       "      <td>6054.0</td>\n",
       "      <td>{u'data': [{u'picture': u'https://api.deezer.c...</td>\n",
       "      <td>True</td>\n",
       "      <td>...</td>\n",
       "      <td>0</td>\n",
       "      <td>0</td>\n",
       "      <td>0</td>\n",
       "      <td>158.0</td>\n",
       "      <td>98.0</td>\n",
       "      <td>104.5</td>\n",
       "      <td>109.0</td>\n",
       "      <td>119.0</td>\n",
       "      <td>139.0</td>\n",
       "      <td>360.0</td>\n",
       "    </tr>\n",
       "    <tr>\n",
       "      <th>9816130.0</th>\n",
       "      <td>Cosmopolitanie (Bonus Tracks)</td>\n",
       "      <td>Soprano</td>\n",
       "      <td>13011</td>\n",
       "      <td>{u'picture': u'https://api.deezer.com/artist/1...</td>\n",
       "      <td>2015-03-16</td>\n",
       "      <td>album</td>\n",
       "      <td>8.0</td>\n",
       "      <td>1753.0</td>\n",
       "      <td>{u'data': [{u'picture': u'https://api.deezer.c...</td>\n",
       "      <td>False</td>\n",
       "      <td>...</td>\n",
       "      <td>0</td>\n",
       "      <td>0</td>\n",
       "      <td>0</td>\n",
       "      <td>1050.0</td>\n",
       "      <td>102.0</td>\n",
       "      <td>111.0</td>\n",
       "      <td>117.0</td>\n",
       "      <td>126.0</td>\n",
       "      <td>140.5</td>\n",
       "      <td>386.0</td>\n",
       "    </tr>\n",
       "    <tr>\n",
       "      <th>1641895.0</th>\n",
       "      <td>E=2MC's</td>\n",
       "      <td>Soprano</td>\n",
       "      <td>13011</td>\n",
       "      <td>{u'picture': u'https://api.deezer.com/artist/1...</td>\n",
       "      <td>2012-04-30</td>\n",
       "      <td>album</td>\n",
       "      <td>12.0</td>\n",
       "      <td>3194.0</td>\n",
       "      <td>{u'data': [{u'picture': u'https://api.deezer.c...</td>\n",
       "      <td>False</td>\n",
       "      <td>...</td>\n",
       "      <td>0</td>\n",
       "      <td>0</td>\n",
       "      <td>0</td>\n",
       "      <td>73.0</td>\n",
       "      <td>137.0</td>\n",
       "      <td>146.0</td>\n",
       "      <td>145.0</td>\n",
       "      <td>161.0</td>\n",
       "      <td>157.0</td>\n",
       "      <td>291.0</td>\n",
       "    </tr>\n",
       "    <tr>\n",
       "      <th>1523930.0</th>\n",
       "      <td>E.P. Live 2012</td>\n",
       "      <td>Soprano</td>\n",
       "      <td>13011</td>\n",
       "      <td>{u'picture': u'https://api.deezer.com/artist/1...</td>\n",
       "      <td>2012-02-17</td>\n",
       "      <td>album</td>\n",
       "      <td>4.0</td>\n",
       "      <td>922.0</td>\n",
       "      <td>{u'data': [{u'picture': u'https://api.deezer.c...</td>\n",
       "      <td>False</td>\n",
       "      <td>...</td>\n",
       "      <td>0</td>\n",
       "      <td>0</td>\n",
       "      <td>0</td>\n",
       "      <td>338.0</td>\n",
       "      <td>137.0</td>\n",
       "      <td>149.0</td>\n",
       "      <td>147.0</td>\n",
       "      <td>161.0</td>\n",
       "      <td>159.0</td>\n",
       "      <td>327.0</td>\n",
       "    </tr>\n",
       "    <tr>\n",
       "      <th>40632261.0</th>\n",
       "      <td>La colombe et le corbeau</td>\n",
       "      <td>Soprano</td>\n",
       "      <td>13011</td>\n",
       "      <td>{u'picture': u'https://api.deezer.com/artist/1...</td>\n",
       "      <td>2011-03-16</td>\n",
       "      <td>album</td>\n",
       "      <td>27.0</td>\n",
       "      <td>6591.0</td>\n",
       "      <td>{u'data': [{u'picture': u'https://api.deezer.c...</td>\n",
       "      <td>False</td>\n",
       "      <td>...</td>\n",
       "      <td>0</td>\n",
       "      <td>0</td>\n",
       "      <td>0</td>\n",
       "      <td>682.0</td>\n",
       "      <td>161.0</td>\n",
       "      <td>154.0</td>\n",
       "      <td>157.0</td>\n",
       "      <td>175.0</td>\n",
       "      <td>209.5</td>\n",
       "      <td>325.0</td>\n",
       "    </tr>\n",
       "    <tr>\n",
       "      <th>301745.0</th>\n",
       "      <td>Live au Dôme de Marseille</td>\n",
       "      <td>Soprano</td>\n",
       "      <td>13011</td>\n",
       "      <td>{u'picture': u'https://api.deezer.com/artist/1...</td>\n",
       "      <td>2008-03-28</td>\n",
       "      <td>album</td>\n",
       "      <td>14.0</td>\n",
       "      <td>3713.0</td>\n",
       "      <td>{u'data': [{u'picture': u'https://api.deezer.c...</td>\n",
       "      <td>False</td>\n",
       "      <td>...</td>\n",
       "      <td>0</td>\n",
       "      <td>0</td>\n",
       "      <td>0</td>\n",
       "      <td>406.0</td>\n",
       "      <td>231.0</td>\n",
       "      <td>224.0</td>\n",
       "      <td>210.0</td>\n",
       "      <td>224.0</td>\n",
       "      <td>283.0</td>\n",
       "      <td>271.0</td>\n",
       "    </tr>\n",
       "    <tr>\n",
       "      <th>77133732.0</th>\n",
       "      <td>Puisqu'il faut vivre (Deluxe Edition)</td>\n",
       "      <td>Soprano</td>\n",
       "      <td>13011</td>\n",
       "      <td>{u'picture': u'https://api.deezer.com/artist/1...</td>\n",
       "      <td>2007-02-16</td>\n",
       "      <td>album</td>\n",
       "      <td>20.0</td>\n",
       "      <td>4921.0</td>\n",
       "      <td>{u'data': [{u'picture': u'https://api.deezer.c...</td>\n",
       "      <td>False</td>\n",
       "      <td>...</td>\n",
       "      <td>0</td>\n",
       "      <td>0</td>\n",
       "      <td>0</td>\n",
       "      <td>136.0</td>\n",
       "      <td>217.0</td>\n",
       "      <td>203.0</td>\n",
       "      <td>216.0</td>\n",
       "      <td>224.0</td>\n",
       "      <td>277.5</td>\n",
       "      <td>136.0</td>\n",
       "    </tr>\n",
       "    <tr>\n",
       "      <th>6141022.0</th>\n",
       "      <td>Psychanalyse</td>\n",
       "      <td>Soprano</td>\n",
       "      <td>13011</td>\n",
       "      <td>{u'picture': u'https://api.deezer.com/artist/1...</td>\n",
       "      <td>2006-10-03</td>\n",
       "      <td>album</td>\n",
       "      <td>37.0</td>\n",
       "      <td>4517.0</td>\n",
       "      <td>{u'data': [{u'picture': u'https://api.deezer.c...</td>\n",
       "      <td>False</td>\n",
       "      <td>...</td>\n",
       "      <td>0</td>\n",
       "      <td>0</td>\n",
       "      <td>0</td>\n",
       "      <td>91.0</td>\n",
       "      <td>206.0</td>\n",
       "      <td>198.5</td>\n",
       "      <td>221.0</td>\n",
       "      <td>221.0</td>\n",
       "      <td>259.0</td>\n",
       "      <td>NaN</td>\n",
       "    </tr>\n",
       "    <tr>\n",
       "      <th>311650.0</th>\n",
       "      <td>Victory</td>\n",
       "      <td>Soprano</td>\n",
       "      <td>13011</td>\n",
       "      <td>{u'picture': u'https://api.deezer.com/artist/1...</td>\n",
       "      <td>2008-08-22</td>\n",
       "      <td>single</td>\n",
       "      <td>1.0</td>\n",
       "      <td>263.0</td>\n",
       "      <td>{u'data': [{u'picture': u'https://api.deezer.c...</td>\n",
       "      <td>False</td>\n",
       "      <td>...</td>\n",
       "      <td>0</td>\n",
       "      <td>0</td>\n",
       "      <td>0</td>\n",
       "      <td>147.0</td>\n",
       "      <td>189.0</td>\n",
       "      <td>202.5</td>\n",
       "      <td>203.0</td>\n",
       "      <td>210.0</td>\n",
       "      <td>102.5</td>\n",
       "      <td>230.0</td>\n",
       "    </tr>\n",
       "  </tbody>\n",
       "</table>\n",
       "<p>10 rows × 33 columns</p>\n",
       "</div>"
      ],
      "text/plain": [
       "                                            title artist_name  artist_id  \\\n",
       "id                                                                         \n",
       "77130752.0             L'Everest (Deluxe Edition)     Soprano      13011   \n",
       "77126682.0        Cosmopolitanie (Deluxe Edition)     Soprano      13011   \n",
       "9816130.0           Cosmopolitanie (Bonus Tracks)     Soprano      13011   \n",
       "1641895.0                                 E=2MC's     Soprano      13011   \n",
       "1523930.0                          E.P. Live 2012     Soprano      13011   \n",
       "40632261.0               La colombe et le corbeau     Soprano      13011   \n",
       "301745.0                Live au Dôme de Marseille     Soprano      13011   \n",
       "77133732.0  Puisqu'il faut vivre (Deluxe Edition)     Soprano      13011   \n",
       "6141022.0                            Psychanalyse     Soprano      13011   \n",
       "311650.0                                  Victory     Soprano      13011   \n",
       "\n",
       "                                                       artist release_date  \\\n",
       "id                                                                           \n",
       "77130752.0  {u'picture': u'https://api.deezer.com/artist/1...   2016-10-14   \n",
       "77126682.0  {u'picture': u'https://api.deezer.com/artist/1...   2015-08-21   \n",
       "9816130.0   {u'picture': u'https://api.deezer.com/artist/1...   2015-03-16   \n",
       "1641895.0   {u'picture': u'https://api.deezer.com/artist/1...   2012-04-30   \n",
       "1523930.0   {u'picture': u'https://api.deezer.com/artist/1...   2012-02-17   \n",
       "40632261.0  {u'picture': u'https://api.deezer.com/artist/1...   2011-03-16   \n",
       "301745.0    {u'picture': u'https://api.deezer.com/artist/1...   2008-03-28   \n",
       "77133732.0  {u'picture': u'https://api.deezer.com/artist/1...   2007-02-16   \n",
       "6141022.0   {u'picture': u'https://api.deezer.com/artist/1...   2006-10-03   \n",
       "311650.0    {u'picture': u'https://api.deezer.com/artist/1...   2008-08-22   \n",
       "\n",
       "           record_type  nb_tracks  duration  \\\n",
       "id                                            \n",
       "77130752.0       album       18.0    4177.0   \n",
       "77126682.0       album       28.0    6054.0   \n",
       "9816130.0        album        8.0    1753.0   \n",
       "1641895.0        album       12.0    3194.0   \n",
       "1523930.0        album        4.0     922.0   \n",
       "40632261.0       album       27.0    6591.0   \n",
       "301745.0         album       14.0    3713.0   \n",
       "77133732.0       album       20.0    4921.0   \n",
       "6141022.0        album       37.0    4517.0   \n",
       "311650.0        single        1.0     263.0   \n",
       "\n",
       "                                                       genres explicit_lyrics  \\\n",
       "id                                                                              \n",
       "77130752.0  {u'data': [{u'picture': u'https://api.deezer.c...           False   \n",
       "77126682.0  {u'data': [{u'picture': u'https://api.deezer.c...            True   \n",
       "9816130.0   {u'data': [{u'picture': u'https://api.deezer.c...           False   \n",
       "1641895.0   {u'data': [{u'picture': u'https://api.deezer.c...           False   \n",
       "1523930.0   {u'data': [{u'picture': u'https://api.deezer.c...           False   \n",
       "40632261.0  {u'data': [{u'picture': u'https://api.deezer.c...           False   \n",
       "301745.0    {u'data': [{u'picture': u'https://api.deezer.c...           False   \n",
       "77133732.0  {u'data': [{u'picture': u'https://api.deezer.c...           False   \n",
       "6141022.0   {u'data': [{u'picture': u'https://api.deezer.c...           False   \n",
       "311650.0    {u'data': [{u'picture': u'https://api.deezer.c...           False   \n",
       "\n",
       "            ...  albums_released_in_90_180_days  \\\n",
       "id          ...                                   \n",
       "77130752.0  ...                               0   \n",
       "77126682.0  ...                               0   \n",
       "9816130.0   ...                               0   \n",
       "1641895.0   ...                               0   \n",
       "1523930.0   ...                               0   \n",
       "40632261.0  ...                               0   \n",
       "301745.0    ...                               0   \n",
       "77133732.0  ...                               0   \n",
       "6141022.0   ...                               0   \n",
       "311650.0    ...                               0   \n",
       "\n",
       "            albums_released_in_180_360_days  albums_released_in_360_720_days  \\\n",
       "id                                                                             \n",
       "77130752.0                                0                                0   \n",
       "77126682.0                                0                                0   \n",
       "9816130.0                                 0                                0   \n",
       "1641895.0                                 0                                0   \n",
       "1523930.0                                 0                                0   \n",
       "40632261.0                                0                                0   \n",
       "301745.0                                  0                                0   \n",
       "77133732.0                                0                                0   \n",
       "6141022.0                                 0                                0   \n",
       "311650.0                                  0                                0   \n",
       "\n",
       "            days_since_previous_release  average_days_to_release_in_last_year  \\\n",
       "id                                                                              \n",
       "77130752.0                        420.0                                  76.0   \n",
       "77126682.0                        158.0                                  98.0   \n",
       "9816130.0                        1050.0                                 102.0   \n",
       "1641895.0                          73.0                                 137.0   \n",
       "1523930.0                         338.0                                 137.0   \n",
       "40632261.0                        682.0                                 161.0   \n",
       "301745.0                          406.0                                 231.0   \n",
       "77133732.0                        136.0                                 217.0   \n",
       "6141022.0                          91.0                                 206.0   \n",
       "311650.0                          147.0                                 189.0   \n",
       "\n",
       "            average_days_to_release_in_last_2_years  \\\n",
       "id                                                    \n",
       "77130752.0                                     85.0   \n",
       "77126682.0                                    104.5   \n",
       "9816130.0                                     111.0   \n",
       "1641895.0                                     146.0   \n",
       "1523930.0                                     149.0   \n",
       "40632261.0                                    154.0   \n",
       "301745.0                                      224.0   \n",
       "77133732.0                                    203.0   \n",
       "6141022.0                                     198.5   \n",
       "311650.0                                      202.5   \n",
       "\n",
       "            average_days_to_release_in_last_3_years  \\\n",
       "id                                                    \n",
       "77130752.0                                     91.0   \n",
       "77126682.0                                    109.0   \n",
       "9816130.0                                     117.0   \n",
       "1641895.0                                     145.0   \n",
       "1523930.0                                     147.0   \n",
       "40632261.0                                    157.0   \n",
       "301745.0                                      210.0   \n",
       "77133732.0                                    216.0   \n",
       "6141022.0                                     221.0   \n",
       "311650.0                                      203.0   \n",
       "\n",
       "            average_days_to_release_in_last_5_years  \\\n",
       "id                                                    \n",
       "77130752.0                                    104.0   \n",
       "77126682.0                                    119.0   \n",
       "9816130.0                                     126.0   \n",
       "1641895.0                                     161.0   \n",
       "1523930.0                                     161.0   \n",
       "40632261.0                                    175.0   \n",
       "301745.0                                      224.0   \n",
       "77133732.0                                    224.0   \n",
       "6141022.0                                     221.0   \n",
       "311650.0                                      210.0   \n",
       "\n",
       "            average_days_to_release_in_last_year_for_release_type  \\\n",
       "id                                                                  \n",
       "77130752.0                                              120.0       \n",
       "77126682.0                                              139.0       \n",
       "9816130.0                                               140.5       \n",
       "1641895.0                                               157.0       \n",
       "1523930.0                                               159.0       \n",
       "40632261.0                                              209.5       \n",
       "301745.0                                                283.0       \n",
       "77133732.0                                              277.5       \n",
       "6141022.0                                               259.0       \n",
       "311650.0                                                102.5       \n",
       "\n",
       "            average_days_to_release  \n",
       "id                                   \n",
       "77130752.0                    366.0  \n",
       "77126682.0                    360.0  \n",
       "9816130.0                     386.0  \n",
       "1641895.0                     291.0  \n",
       "1523930.0                     327.0  \n",
       "40632261.0                    325.0  \n",
       "301745.0                      271.0  \n",
       "77133732.0                    136.0  \n",
       "6141022.0                       NaN  \n",
       "311650.0                      230.0  \n",
       "\n",
       "[10 rows x 33 columns]"
      ]
     },
     "execution_count": 156,
     "metadata": {},
     "output_type": "execute_result"
    }
   ],
   "source": [
    "df.head(10)"
   ]
  },
  {
   "cell_type": "markdown",
   "metadata": {},
   "source": [
    "# Fill missing `average_days_to_release`"
   ]
  },
  {
   "cell_type": "code",
   "execution_count": 157,
   "metadata": {},
   "outputs": [
    {
     "data": {
      "text/plain": [
       "302.0"
      ]
     },
     "execution_count": 157,
     "metadata": {},
     "output_type": "execute_result"
    }
   ],
   "source": [
    "average_days_to_release_median = df['average_days_to_release'].median()\n",
    "average_days_to_release_median"
   ]
  },
  {
   "cell_type": "code",
   "execution_count": 158,
   "metadata": {},
   "outputs": [],
   "source": [
    "df.loc[:,'average_days_to_release'].fillna(average_days_to_release_median, inplace=True)"
   ]
  },
  {
   "cell_type": "code",
   "execution_count": 159,
   "metadata": {},
   "outputs": [
    {
     "data": {
      "text/plain": [
       "id\n",
       "77130752.0    366.0\n",
       "77126682.0    360.0\n",
       "9816130.0     386.0\n",
       "1641895.0     291.0\n",
       "1523930.0     327.0\n",
       "Name: average_days_to_release, dtype: float64"
      ]
     },
     "execution_count": 159,
     "metadata": {},
     "output_type": "execute_result"
    }
   ],
   "source": [
    "df['average_days_to_release'].head()"
   ]
  },
  {
   "cell_type": "code",
   "execution_count": 160,
   "metadata": {},
   "outputs": [
    {
     "data": {
      "text/plain": [
       "<matplotlib.axes._subplots.AxesSubplot at 0x109b58150>"
      ]
     },
     "execution_count": 160,
     "metadata": {},
     "output_type": "execute_result"
    },
    {
     "data": {
      "image/png": "[encoded data removed]",
      "text/plain": [
       "<Figure size 432x288 with 1 Axes>"
      ]
     },
     "metadata": {
      "needs_background": "light"
     },
     "output_type": "display_data"
    }
   ],
   "source": [
    "# df[['artist_id', 'release_year', 'average_days_to_release', 'days_until_next_album']].tail(50)\n",
    "df.plot(x='average_days_to_release', y='days_until_next_album', kind='scatter')"
   ]
  },
  {
   "cell_type": "markdown",
   "metadata": {},
   "source": [
    "# Min release frequency"
   ]
  },
  {
   "cell_type": "code",
   "execution_count": 161,
   "metadata": {},
   "outputs": [],
   "source": [
    "def min_release_frequency(album):\n",
    "    artist_id = album.artist_id\n",
    "    artist_albums = df[df['artist_id'] == artist_id].sort_values('release_date')\n",
    "\n",
    "    album_release_date = album.release_date\n",
    "    albums_previously_released = artist_albums[artist_albums['release_date'] < album.release_date]\n",
    "    if albums_previously_released.shape[0] > 0:\n",
    "        return(albums_previously_released['days_until_next_album'].min())"
   ]
  },
  {
   "cell_type": "code",
   "execution_count": 162,
   "metadata": {},
   "outputs": [
    {
     "data": {
      "text/plain": [
       "id\n",
       "77130752.0     73.0\n",
       "77126682.0     73.0\n",
       "9816130.0      73.0\n",
       "1641895.0      73.0\n",
       "1523930.0     136.0\n",
       "40632261.0    136.0\n",
       "301745.0      136.0\n",
       "77133732.0    136.0\n",
       "6141022.0       NaN\n",
       "311650.0      136.0\n",
       "dtype: float64"
      ]
     },
     "execution_count": 162,
     "metadata": {},
     "output_type": "execute_result"
    }
   ],
   "source": [
    "df.head(10).apply(min_release_frequency, axis=1)"
   ]
  },
  {
   "cell_type": "code",
   "execution_count": 163,
   "metadata": {},
   "outputs": [],
   "source": [
    "df['min_release_frequency'] = df.apply(min_release_frequency, axis=1)"
   ]
  },
  {
   "cell_type": "code",
   "execution_count": 164,
   "metadata": {},
   "outputs": [
    {
     "data": {
      "text/html": [
       "<div>\n",
       "<style scoped>\n",
       "    .dataframe tbody tr th:only-of-type {\n",
       "        vertical-align: middle;\n",
       "    }\n",
       "\n",
       "    .dataframe tbody tr th {\n",
       "        vertical-align: top;\n",
       "    }\n",
       "\n",
       "    .dataframe thead th {\n",
       "        text-align: right;\n",
       "    }\n",
       "</style>\n",
       "<table border=\"1\" class=\"dataframe\">\n",
       "  <thead>\n",
       "    <tr style=\"text-align: right;\">\n",
       "      <th></th>\n",
       "      <th>title</th>\n",
       "      <th>artist_name</th>\n",
       "      <th>artist_id</th>\n",
       "      <th>artist</th>\n",
       "      <th>release_date</th>\n",
       "      <th>record_type</th>\n",
       "      <th>nb_tracks</th>\n",
       "      <th>duration</th>\n",
       "      <th>genres</th>\n",
       "      <th>explicit_lyrics</th>\n",
       "      <th>...</th>\n",
       "      <th>albums_released_in_180_360_days</th>\n",
       "      <th>albums_released_in_360_720_days</th>\n",
       "      <th>days_since_previous_release</th>\n",
       "      <th>average_days_to_release_in_last_year</th>\n",
       "      <th>average_days_to_release_in_last_2_years</th>\n",
       "      <th>average_days_to_release_in_last_3_years</th>\n",
       "      <th>average_days_to_release_in_last_5_years</th>\n",
       "      <th>average_days_to_release_in_last_year_for_release_type</th>\n",
       "      <th>average_days_to_release</th>\n",
       "      <th>min_release_frequency</th>\n",
       "    </tr>\n",
       "    <tr>\n",
       "      <th>id</th>\n",
       "      <th></th>\n",
       "      <th></th>\n",
       "      <th></th>\n",
       "      <th></th>\n",
       "      <th></th>\n",
       "      <th></th>\n",
       "      <th></th>\n",
       "      <th></th>\n",
       "      <th></th>\n",
       "      <th></th>\n",
       "      <th></th>\n",
       "      <th></th>\n",
       "      <th></th>\n",
       "      <th></th>\n",
       "      <th></th>\n",
       "      <th></th>\n",
       "      <th></th>\n",
       "      <th></th>\n",
       "      <th></th>\n",
       "      <th></th>\n",
       "      <th></th>\n",
       "    </tr>\n",
       "  </thead>\n",
       "  <tbody>\n",
       "    <tr>\n",
       "      <th>77130752.0</th>\n",
       "      <td>L'Everest (Deluxe Edition)</td>\n",
       "      <td>Soprano</td>\n",
       "      <td>13011</td>\n",
       "      <td>{u'picture': u'https://api.deezer.com/artist/1...</td>\n",
       "      <td>2016-10-14</td>\n",
       "      <td>album</td>\n",
       "      <td>18.0</td>\n",
       "      <td>4177.0</td>\n",
       "      <td>{u'data': [{u'picture': u'https://api.deezer.c...</td>\n",
       "      <td>False</td>\n",
       "      <td>...</td>\n",
       "      <td>0</td>\n",
       "      <td>0</td>\n",
       "      <td>420.0</td>\n",
       "      <td>76.0</td>\n",
       "      <td>85.0</td>\n",
       "      <td>91.0</td>\n",
       "      <td>104.0</td>\n",
       "      <td>120.0</td>\n",
       "      <td>366.0</td>\n",
       "      <td>73.0</td>\n",
       "    </tr>\n",
       "    <tr>\n",
       "      <th>77126682.0</th>\n",
       "      <td>Cosmopolitanie (Deluxe Edition)</td>\n",
       "      <td>Soprano</td>\n",
       "      <td>13011</td>\n",
       "      <td>{u'picture': u'https://api.deezer.com/artist/1...</td>\n",
       "      <td>2015-08-21</td>\n",
       "      <td>album</td>\n",
       "      <td>28.0</td>\n",
       "      <td>6054.0</td>\n",
       "      <td>{u'data': [{u'picture': u'https://api.deezer.c...</td>\n",
       "      <td>True</td>\n",
       "      <td>...</td>\n",
       "      <td>0</td>\n",
       "      <td>0</td>\n",
       "      <td>158.0</td>\n",
       "      <td>98.0</td>\n",
       "      <td>104.5</td>\n",
       "      <td>109.0</td>\n",
       "      <td>119.0</td>\n",
       "      <td>139.0</td>\n",
       "      <td>360.0</td>\n",
       "      <td>73.0</td>\n",
       "    </tr>\n",
       "    <tr>\n",
       "      <th>9816130.0</th>\n",
       "      <td>Cosmopolitanie (Bonus Tracks)</td>\n",
       "      <td>Soprano</td>\n",
       "      <td>13011</td>\n",
       "      <td>{u'picture': u'https://api.deezer.com/artist/1...</td>\n",
       "      <td>2015-03-16</td>\n",
       "      <td>album</td>\n",
       "      <td>8.0</td>\n",
       "      <td>1753.0</td>\n",
       "      <td>{u'data': [{u'picture': u'https://api.deezer.c...</td>\n",
       "      <td>False</td>\n",
       "      <td>...</td>\n",
       "      <td>0</td>\n",
       "      <td>0</td>\n",
       "      <td>1050.0</td>\n",
       "      <td>102.0</td>\n",
       "      <td>111.0</td>\n",
       "      <td>117.0</td>\n",
       "      <td>126.0</td>\n",
       "      <td>140.5</td>\n",
       "      <td>386.0</td>\n",
       "      <td>73.0</td>\n",
       "    </tr>\n",
       "    <tr>\n",
       "      <th>1641895.0</th>\n",
       "      <td>E=2MC's</td>\n",
       "      <td>Soprano</td>\n",
       "      <td>13011</td>\n",
       "      <td>{u'picture': u'https://api.deezer.com/artist/1...</td>\n",
       "      <td>2012-04-30</td>\n",
       "      <td>album</td>\n",
       "      <td>12.0</td>\n",
       "      <td>3194.0</td>\n",
       "      <td>{u'data': [{u'picture': u'https://api.deezer.c...</td>\n",
       "      <td>False</td>\n",
       "      <td>...</td>\n",
       "      <td>0</td>\n",
       "      <td>0</td>\n",
       "      <td>73.0</td>\n",
       "      <td>137.0</td>\n",
       "      <td>146.0</td>\n",
       "      <td>145.0</td>\n",
       "      <td>161.0</td>\n",
       "      <td>157.0</td>\n",
       "      <td>291.0</td>\n",
       "      <td>73.0</td>\n",
       "    </tr>\n",
       "    <tr>\n",
       "      <th>1523930.0</th>\n",
       "      <td>E.P. Live 2012</td>\n",
       "      <td>Soprano</td>\n",
       "      <td>13011</td>\n",
       "      <td>{u'picture': u'https://api.deezer.com/artist/1...</td>\n",
       "      <td>2012-02-17</td>\n",
       "      <td>album</td>\n",
       "      <td>4.0</td>\n",
       "      <td>922.0</td>\n",
       "      <td>{u'data': [{u'picture': u'https://api.deezer.c...</td>\n",
       "      <td>False</td>\n",
       "      <td>...</td>\n",
       "      <td>0</td>\n",
       "      <td>0</td>\n",
       "      <td>338.0</td>\n",
       "      <td>137.0</td>\n",
       "      <td>149.0</td>\n",
       "      <td>147.0</td>\n",
       "      <td>161.0</td>\n",
       "      <td>159.0</td>\n",
       "      <td>327.0</td>\n",
       "      <td>136.0</td>\n",
       "    </tr>\n",
       "  </tbody>\n",
       "</table>\n",
       "<p>5 rows × 34 columns</p>\n",
       "</div>"
      ],
      "text/plain": [
       "                                      title artist_name  artist_id  \\\n",
       "id                                                                   \n",
       "77130752.0       L'Everest (Deluxe Edition)     Soprano      13011   \n",
       "77126682.0  Cosmopolitanie (Deluxe Edition)     Soprano      13011   \n",
       "9816130.0     Cosmopolitanie (Bonus Tracks)     Soprano      13011   \n",
       "1641895.0                           E=2MC's     Soprano      13011   \n",
       "1523930.0                    E.P. Live 2012     Soprano      13011   \n",
       "\n",
       "                                                       artist release_date  \\\n",
       "id                                                                           \n",
       "77130752.0  {u'picture': u'https://api.deezer.com/artist/1...   2016-10-14   \n",
       "77126682.0  {u'picture': u'https://api.deezer.com/artist/1...   2015-08-21   \n",
       "9816130.0   {u'picture': u'https://api.deezer.com/artist/1...   2015-03-16   \n",
       "1641895.0   {u'picture': u'https://api.deezer.com/artist/1...   2012-04-30   \n",
       "1523930.0   {u'picture': u'https://api.deezer.com/artist/1...   2012-02-17   \n",
       "\n",
       "           record_type  nb_tracks  duration  \\\n",
       "id                                            \n",
       "77130752.0       album       18.0    4177.0   \n",
       "77126682.0       album       28.0    6054.0   \n",
       "9816130.0        album        8.0    1753.0   \n",
       "1641895.0        album       12.0    3194.0   \n",
       "1523930.0        album        4.0     922.0   \n",
       "\n",
       "                                                       genres explicit_lyrics  \\\n",
       "id                                                                              \n",
       "77130752.0  {u'data': [{u'picture': u'https://api.deezer.c...           False   \n",
       "77126682.0  {u'data': [{u'picture': u'https://api.deezer.c...            True   \n",
       "9816130.0   {u'data': [{u'picture': u'https://api.deezer.c...           False   \n",
       "1641895.0   {u'data': [{u'picture': u'https://api.deezer.c...           False   \n",
       "1523930.0   {u'data': [{u'picture': u'https://api.deezer.c...           False   \n",
       "\n",
       "            ...  albums_released_in_180_360_days  \\\n",
       "id          ...                                    \n",
       "77130752.0  ...                                0   \n",
       "77126682.0  ...                                0   \n",
       "9816130.0   ...                                0   \n",
       "1641895.0   ...                                0   \n",
       "1523930.0   ...                                0   \n",
       "\n",
       "            albums_released_in_360_720_days  days_since_previous_release  \\\n",
       "id                                                                         \n",
       "77130752.0                                0                        420.0   \n",
       "77126682.0                                0                        158.0   \n",
       "9816130.0                                 0                       1050.0   \n",
       "1641895.0                                 0                         73.0   \n",
       "1523930.0                                 0                        338.0   \n",
       "\n",
       "            average_days_to_release_in_last_year  \\\n",
       "id                                                 \n",
       "77130752.0                                  76.0   \n",
       "77126682.0                                  98.0   \n",
       "9816130.0                                  102.0   \n",
       "1641895.0                                  137.0   \n",
       "1523930.0                                  137.0   \n",
       "\n",
       "            average_days_to_release_in_last_2_years  \\\n",
       "id                                                    \n",
       "77130752.0                                     85.0   \n",
       "77126682.0                                    104.5   \n",
       "9816130.0                                     111.0   \n",
       "1641895.0                                     146.0   \n",
       "1523930.0                                     149.0   \n",
       "\n",
       "            average_days_to_release_in_last_3_years  \\\n",
       "id                                                    \n",
       "77130752.0                                     91.0   \n",
       "77126682.0                                    109.0   \n",
       "9816130.0                                     117.0   \n",
       "1641895.0                                     145.0   \n",
       "1523930.0                                     147.0   \n",
       "\n",
       "            average_days_to_release_in_last_5_years  \\\n",
       "id                                                    \n",
       "77130752.0                                    104.0   \n",
       "77126682.0                                    119.0   \n",
       "9816130.0                                     126.0   \n",
       "1641895.0                                     161.0   \n",
       "1523930.0                                     161.0   \n",
       "\n",
       "            average_days_to_release_in_last_year_for_release_type  \\\n",
       "id                                                                  \n",
       "77130752.0                                              120.0       \n",
       "77126682.0                                              139.0       \n",
       "9816130.0                                               140.5       \n",
       "1641895.0                                               157.0       \n",
       "1523930.0                                               159.0       \n",
       "\n",
       "            average_days_to_release  min_release_frequency  \n",
       "id                                                          \n",
       "77130752.0                    366.0                   73.0  \n",
       "77126682.0                    360.0                   73.0  \n",
       "9816130.0                     386.0                   73.0  \n",
       "1641895.0                     291.0                   73.0  \n",
       "1523930.0                     327.0                  136.0  \n",
       "\n",
       "[5 rows x 34 columns]"
      ]
     },
     "execution_count": 164,
     "metadata": {},
     "output_type": "execute_result"
    }
   ],
   "source": [
    "df.head()"
   ]
  },
  {
   "cell_type": "code",
   "execution_count": 165,
   "metadata": {},
   "outputs": [
    {
     "data": {
      "text/plain": [
       "8.0"
      ]
     },
     "execution_count": 165,
     "metadata": {},
     "output_type": "execute_result"
    }
   ],
   "source": [
    "min_release_frequency_median = df['min_release_frequency'].median()\n",
    "min_release_frequency_median"
   ]
  },
  {
   "cell_type": "code",
   "execution_count": 166,
   "metadata": {},
   "outputs": [],
   "source": [
    "df.loc[:,'min_release_frequency'].fillna(min_release_frequency_median, inplace=True)"
   ]
  },
  {
   "cell_type": "markdown",
   "metadata": {},
   "source": [
    "# Max release frequency"
   ]
  },
  {
   "cell_type": "code",
   "execution_count": 167,
   "metadata": {},
   "outputs": [],
   "source": [
    "def max_release_frequency(album):\n",
    "    artist_id = album.artist_id\n",
    "    artist_albums = df[df['artist_id'] == artist_id].sort_values('release_date')\n",
    "\n",
    "    album_release_date = album.release_date\n",
    "    albums_previously_released = artist_albums[artist_albums['release_date'] < album.release_date]\n",
    "    if albums_previously_released.shape[0] > 0:\n",
    "        return(albums_previously_released['days_until_next_album'].max())"
   ]
  },
  {
   "cell_type": "code",
   "execution_count": 168,
   "metadata": {},
   "outputs": [
    {
     "data": {
      "text/plain": [
       "id\n",
       "77130752.0    1050.0\n",
       "77126682.0    1050.0\n",
       "9816130.0     1050.0\n",
       "1641895.0      682.0\n",
       "1523930.0      682.0\n",
       "40632261.0     682.0\n",
       "301745.0       406.0\n",
       "77133732.0     136.0\n",
       "6141022.0        NaN\n",
       "311650.0       406.0\n",
       "dtype: float64"
      ]
     },
     "execution_count": 168,
     "metadata": {},
     "output_type": "execute_result"
    }
   ],
   "source": [
    "df.head(10).apply(max_release_frequency, axis=1)"
   ]
  },
  {
   "cell_type": "code",
   "execution_count": 169,
   "metadata": {},
   "outputs": [],
   "source": [
    "df['max_release_frequency'] = df.apply(max_release_frequency, axis=1)"
   ]
  },
  {
   "cell_type": "code",
   "execution_count": 170,
   "metadata": {},
   "outputs": [
    {
     "data": {
      "text/html": [
       "<div>\n",
       "<style scoped>\n",
       "    .dataframe tbody tr th:only-of-type {\n",
       "        vertical-align: middle;\n",
       "    }\n",
       "\n",
       "    .dataframe tbody tr th {\n",
       "        vertical-align: top;\n",
       "    }\n",
       "\n",
       "    .dataframe thead th {\n",
       "        text-align: right;\n",
       "    }\n",
       "</style>\n",
       "<table border=\"1\" class=\"dataframe\">\n",
       "  <thead>\n",
       "    <tr style=\"text-align: right;\">\n",
       "      <th></th>\n",
       "      <th>title</th>\n",
       "      <th>artist_name</th>\n",
       "      <th>artist_id</th>\n",
       "      <th>artist</th>\n",
       "      <th>release_date</th>\n",
       "      <th>record_type</th>\n",
       "      <th>nb_tracks</th>\n",
       "      <th>duration</th>\n",
       "      <th>genres</th>\n",
       "      <th>explicit_lyrics</th>\n",
       "      <th>...</th>\n",
       "      <th>albums_released_in_360_720_days</th>\n",
       "      <th>days_since_previous_release</th>\n",
       "      <th>average_days_to_release_in_last_year</th>\n",
       "      <th>average_days_to_release_in_last_2_years</th>\n",
       "      <th>average_days_to_release_in_last_3_years</th>\n",
       "      <th>average_days_to_release_in_last_5_years</th>\n",
       "      <th>average_days_to_release_in_last_year_for_release_type</th>\n",
       "      <th>average_days_to_release</th>\n",
       "      <th>min_release_frequency</th>\n",
       "      <th>max_release_frequency</th>\n",
       "    </tr>\n",
       "    <tr>\n",
       "      <th>id</th>\n",
       "      <th></th>\n",
       "      <th></th>\n",
       "      <th></th>\n",
       "      <th></th>\n",
       "      <th></th>\n",
       "      <th></th>\n",
       "      <th></th>\n",
       "      <th></th>\n",
       "      <th></th>\n",
       "      <th></th>\n",
       "      <th></th>\n",
       "      <th></th>\n",
       "      <th></th>\n",
       "      <th></th>\n",
       "      <th></th>\n",
       "      <th></th>\n",
       "      <th></th>\n",
       "      <th></th>\n",
       "      <th></th>\n",
       "      <th></th>\n",
       "      <th></th>\n",
       "    </tr>\n",
       "  </thead>\n",
       "  <tbody>\n",
       "    <tr>\n",
       "      <th>77130752.0</th>\n",
       "      <td>L'Everest (Deluxe Edition)</td>\n",
       "      <td>Soprano</td>\n",
       "      <td>13011</td>\n",
       "      <td>{u'picture': u'https://api.deezer.com/artist/1...</td>\n",
       "      <td>2016-10-14</td>\n",
       "      <td>album</td>\n",
       "      <td>18.0</td>\n",
       "      <td>4177.0</td>\n",
       "      <td>{u'data': [{u'picture': u'https://api.deezer.c...</td>\n",
       "      <td>False</td>\n",
       "      <td>...</td>\n",
       "      <td>0</td>\n",
       "      <td>420.0</td>\n",
       "      <td>76.0</td>\n",
       "      <td>85.0</td>\n",
       "      <td>91.0</td>\n",
       "      <td>104.0</td>\n",
       "      <td>120.0</td>\n",
       "      <td>366.0</td>\n",
       "      <td>73.0</td>\n",
       "      <td>1050.0</td>\n",
       "    </tr>\n",
       "    <tr>\n",
       "      <th>77126682.0</th>\n",
       "      <td>Cosmopolitanie (Deluxe Edition)</td>\n",
       "      <td>Soprano</td>\n",
       "      <td>13011</td>\n",
       "      <td>{u'picture': u'https://api.deezer.com/artist/1...</td>\n",
       "      <td>2015-08-21</td>\n",
       "      <td>album</td>\n",
       "      <td>28.0</td>\n",
       "      <td>6054.0</td>\n",
       "      <td>{u'data': [{u'picture': u'https://api.deezer.c...</td>\n",
       "      <td>True</td>\n",
       "      <td>...</td>\n",
       "      <td>0</td>\n",
       "      <td>158.0</td>\n",
       "      <td>98.0</td>\n",
       "      <td>104.5</td>\n",
       "      <td>109.0</td>\n",
       "      <td>119.0</td>\n",
       "      <td>139.0</td>\n",
       "      <td>360.0</td>\n",
       "      <td>73.0</td>\n",
       "      <td>1050.0</td>\n",
       "    </tr>\n",
       "    <tr>\n",
       "      <th>9816130.0</th>\n",
       "      <td>Cosmopolitanie (Bonus Tracks)</td>\n",
       "      <td>Soprano</td>\n",
       "      <td>13011</td>\n",
       "      <td>{u'picture': u'https://api.deezer.com/artist/1...</td>\n",
       "      <td>2015-03-16</td>\n",
       "      <td>album</td>\n",
       "      <td>8.0</td>\n",
       "      <td>1753.0</td>\n",
       "      <td>{u'data': [{u'picture': u'https://api.deezer.c...</td>\n",
       "      <td>False</td>\n",
       "      <td>...</td>\n",
       "      <td>0</td>\n",
       "      <td>1050.0</td>\n",
       "      <td>102.0</td>\n",
       "      <td>111.0</td>\n",
       "      <td>117.0</td>\n",
       "      <td>126.0</td>\n",
       "      <td>140.5</td>\n",
       "      <td>386.0</td>\n",
       "      <td>73.0</td>\n",
       "      <td>1050.0</td>\n",
       "    </tr>\n",
       "    <tr>\n",
       "      <th>1641895.0</th>\n",
       "      <td>E=2MC's</td>\n",
       "      <td>Soprano</td>\n",
       "      <td>13011</td>\n",
       "      <td>{u'picture': u'https://api.deezer.com/artist/1...</td>\n",
       "      <td>2012-04-30</td>\n",
       "      <td>album</td>\n",
       "      <td>12.0</td>\n",
       "      <td>3194.0</td>\n",
       "      <td>{u'data': [{u'picture': u'https://api.deezer.c...</td>\n",
       "      <td>False</td>\n",
       "      <td>...</td>\n",
       "      <td>0</td>\n",
       "      <td>73.0</td>\n",
       "      <td>137.0</td>\n",
       "      <td>146.0</td>\n",
       "      <td>145.0</td>\n",
       "      <td>161.0</td>\n",
       "      <td>157.0</td>\n",
       "      <td>291.0</td>\n",
       "      <td>73.0</td>\n",
       "      <td>682.0</td>\n",
       "    </tr>\n",
       "    <tr>\n",
       "      <th>1523930.0</th>\n",
       "      <td>E.P. Live 2012</td>\n",
       "      <td>Soprano</td>\n",
       "      <td>13011</td>\n",
       "      <td>{u'picture': u'https://api.deezer.com/artist/1...</td>\n",
       "      <td>2012-02-17</td>\n",
       "      <td>album</td>\n",
       "      <td>4.0</td>\n",
       "      <td>922.0</td>\n",
       "      <td>{u'data': [{u'picture': u'https://api.deezer.c...</td>\n",
       "      <td>False</td>\n",
       "      <td>...</td>\n",
       "      <td>0</td>\n",
       "      <td>338.0</td>\n",
       "      <td>137.0</td>\n",
       "      <td>149.0</td>\n",
       "      <td>147.0</td>\n",
       "      <td>161.0</td>\n",
       "      <td>159.0</td>\n",
       "      <td>327.0</td>\n",
       "      <td>136.0</td>\n",
       "      <td>682.0</td>\n",
       "    </tr>\n",
       "  </tbody>\n",
       "</table>\n",
       "<p>5 rows × 35 columns</p>\n",
       "</div>"
      ],
      "text/plain": [
       "                                      title artist_name  artist_id  \\\n",
       "id                                                                   \n",
       "77130752.0       L'Everest (Deluxe Edition)     Soprano      13011   \n",
       "77126682.0  Cosmopolitanie (Deluxe Edition)     Soprano      13011   \n",
       "9816130.0     Cosmopolitanie (Bonus Tracks)     Soprano      13011   \n",
       "1641895.0                           E=2MC's     Soprano      13011   \n",
       "1523930.0                    E.P. Live 2012     Soprano      13011   \n",
       "\n",
       "                                                       artist release_date  \\\n",
       "id                                                                           \n",
       "77130752.0  {u'picture': u'https://api.deezer.com/artist/1...   2016-10-14   \n",
       "77126682.0  {u'picture': u'https://api.deezer.com/artist/1...   2015-08-21   \n",
       "9816130.0   {u'picture': u'https://api.deezer.com/artist/1...   2015-03-16   \n",
       "1641895.0   {u'picture': u'https://api.deezer.com/artist/1...   2012-04-30   \n",
       "1523930.0   {u'picture': u'https://api.deezer.com/artist/1...   2012-02-17   \n",
       "\n",
       "           record_type  nb_tracks  duration  \\\n",
       "id                                            \n",
       "77130752.0       album       18.0    4177.0   \n",
       "77126682.0       album       28.0    6054.0   \n",
       "9816130.0        album        8.0    1753.0   \n",
       "1641895.0        album       12.0    3194.0   \n",
       "1523930.0        album        4.0     922.0   \n",
       "\n",
       "                                                       genres explicit_lyrics  \\\n",
       "id                                                                              \n",
       "77130752.0  {u'data': [{u'picture': u'https://api.deezer.c...           False   \n",
       "77126682.0  {u'data': [{u'picture': u'https://api.deezer.c...            True   \n",
       "9816130.0   {u'data': [{u'picture': u'https://api.deezer.c...           False   \n",
       "1641895.0   {u'data': [{u'picture': u'https://api.deezer.c...           False   \n",
       "1523930.0   {u'data': [{u'picture': u'https://api.deezer.c...           False   \n",
       "\n",
       "            ...  albums_released_in_360_720_days  days_since_previous_release  \\\n",
       "id          ...                                                                 \n",
       "77130752.0  ...                                0                        420.0   \n",
       "77126682.0  ...                                0                        158.0   \n",
       "9816130.0   ...                                0                       1050.0   \n",
       "1641895.0   ...                                0                         73.0   \n",
       "1523930.0   ...                                0                        338.0   \n",
       "\n",
       "            average_days_to_release_in_last_year  \\\n",
       "id                                                 \n",
       "77130752.0                                  76.0   \n",
       "77126682.0                                  98.0   \n",
       "9816130.0                                  102.0   \n",
       "1641895.0                                  137.0   \n",
       "1523930.0                                  137.0   \n",
       "\n",
       "            average_days_to_release_in_last_2_years  \\\n",
       "id                                                    \n",
       "77130752.0                                     85.0   \n",
       "77126682.0                                    104.5   \n",
       "9816130.0                                     111.0   \n",
       "1641895.0                                     146.0   \n",
       "1523930.0                                     149.0   \n",
       "\n",
       "            average_days_to_release_in_last_3_years  \\\n",
       "id                                                    \n",
       "77130752.0                                     91.0   \n",
       "77126682.0                                    109.0   \n",
       "9816130.0                                     117.0   \n",
       "1641895.0                                     145.0   \n",
       "1523930.0                                     147.0   \n",
       "\n",
       "            average_days_to_release_in_last_5_years  \\\n",
       "id                                                    \n",
       "77130752.0                                    104.0   \n",
       "77126682.0                                    119.0   \n",
       "9816130.0                                     126.0   \n",
       "1641895.0                                     161.0   \n",
       "1523930.0                                     161.0   \n",
       "\n",
       "            average_days_to_release_in_last_year_for_release_type  \\\n",
       "id                                                                  \n",
       "77130752.0                                              120.0       \n",
       "77126682.0                                              139.0       \n",
       "9816130.0                                               140.5       \n",
       "1641895.0                                               157.0       \n",
       "1523930.0                                               159.0       \n",
       "\n",
       "            average_days_to_release  min_release_frequency  \\\n",
       "id                                                           \n",
       "77130752.0                    366.0                   73.0   \n",
       "77126682.0                    360.0                   73.0   \n",
       "9816130.0                     386.0                   73.0   \n",
       "1641895.0                     291.0                   73.0   \n",
       "1523930.0                     327.0                  136.0   \n",
       "\n",
       "            max_release_frequency  \n",
       "id                                 \n",
       "77130752.0                 1050.0  \n",
       "77126682.0                 1050.0  \n",
       "9816130.0                  1050.0  \n",
       "1641895.0                   682.0  \n",
       "1523930.0                   682.0  \n",
       "\n",
       "[5 rows x 35 columns]"
      ]
     },
     "execution_count": 170,
     "metadata": {},
     "output_type": "execute_result"
    }
   ],
   "source": [
    "df.head()"
   ]
  },
  {
   "cell_type": "code",
   "execution_count": 171,
   "metadata": {},
   "outputs": [
    {
     "data": {
      "text/plain": [
       "816.0"
      ]
     },
     "execution_count": 171,
     "metadata": {},
     "output_type": "execute_result"
    }
   ],
   "source": [
    "max_release_frequency_median = df['max_release_frequency'].median()\n",
    "max_release_frequency_median"
   ]
  },
  {
   "cell_type": "code",
   "execution_count": 172,
   "metadata": {},
   "outputs": [],
   "source": [
    "df.loc[:,'max_release_frequency'].fillna(max_release_frequency_median, inplace=True)"
   ]
  },
  {
   "cell_type": "markdown",
   "metadata": {},
   "source": [
    "# Average release frequency for release type"
   ]
  },
  {
   "cell_type": "code",
   "execution_count": 173,
   "metadata": {},
   "outputs": [],
   "source": [
    "def average_release_frequency_for_release_type(album):\n",
    "    artist_id = album.artist_id\n",
    "    artist_albums = df[df['artist_id'] == artist_id].sort_values('release_date')\n",
    "\n",
    "    album_release_date = album.release_date\n",
    "    albums_previously_released = artist_albums[artist_albums['release_date'] < album.release_date]\n",
    "    releases_with_this_type = albums_previously_released[albums_previously_released['record_type'] == album.record_type]\n",
    "    if albums_previously_released.shape[0] > 0:\n",
    "        return(albums_previously_released['days_until_next_album'].max())"
   ]
  },
  {
   "cell_type": "code",
   "execution_count": 174,
   "metadata": {},
   "outputs": [
    {
     "data": {
      "text/plain": [
       "id\n",
       "77130752.0    1050.0\n",
       "77126682.0    1050.0\n",
       "9816130.0     1050.0\n",
       "1641895.0      682.0\n",
       "1523930.0      682.0\n",
       "40632261.0     682.0\n",
       "301745.0       406.0\n",
       "77133732.0     136.0\n",
       "6141022.0        NaN\n",
       "311650.0       406.0\n",
       "dtype: float64"
      ]
     },
     "execution_count": 174,
     "metadata": {},
     "output_type": "execute_result"
    }
   ],
   "source": [
    "df.head(10).apply(average_release_frequency_for_release_type, axis=1)"
   ]
  },
  {
   "cell_type": "code",
   "execution_count": 175,
   "metadata": {},
   "outputs": [],
   "source": [
    "df['average_release_frequency_for_release_type'] = df.apply(average_release_frequency_for_release_type, axis=1)"
   ]
  },
  {
   "cell_type": "code",
   "execution_count": 176,
   "metadata": {},
   "outputs": [
    {
     "data": {
      "text/html": [
       "<div>\n",
       "<style scoped>\n",
       "    .dataframe tbody tr th:only-of-type {\n",
       "        vertical-align: middle;\n",
       "    }\n",
       "\n",
       "    .dataframe tbody tr th {\n",
       "        vertical-align: top;\n",
       "    }\n",
       "\n",
       "    .dataframe thead th {\n",
       "        text-align: right;\n",
       "    }\n",
       "</style>\n",
       "<table border=\"1\" class=\"dataframe\">\n",
       "  <thead>\n",
       "    <tr style=\"text-align: right;\">\n",
       "      <th></th>\n",
       "      <th>title</th>\n",
       "      <th>artist_name</th>\n",
       "      <th>artist_id</th>\n",
       "      <th>artist</th>\n",
       "      <th>release_date</th>\n",
       "      <th>record_type</th>\n",
       "      <th>nb_tracks</th>\n",
       "      <th>duration</th>\n",
       "      <th>genres</th>\n",
       "      <th>explicit_lyrics</th>\n",
       "      <th>...</th>\n",
       "      <th>days_since_previous_release</th>\n",
       "      <th>average_days_to_release_in_last_year</th>\n",
       "      <th>average_days_to_release_in_last_2_years</th>\n",
       "      <th>average_days_to_release_in_last_3_years</th>\n",
       "      <th>average_days_to_release_in_last_5_years</th>\n",
       "      <th>average_days_to_release_in_last_year_for_release_type</th>\n",
       "      <th>average_days_to_release</th>\n",
       "      <th>min_release_frequency</th>\n",
       "      <th>max_release_frequency</th>\n",
       "      <th>average_release_frequency_for_release_type</th>\n",
       "    </tr>\n",
       "    <tr>\n",
       "      <th>id</th>\n",
       "      <th></th>\n",
       "      <th></th>\n",
       "      <th></th>\n",
       "      <th></th>\n",
       "      <th></th>\n",
       "      <th></th>\n",
       "      <th></th>\n",
       "      <th></th>\n",
       "      <th></th>\n",
       "      <th></th>\n",
       "      <th></th>\n",
       "      <th></th>\n",
       "      <th></th>\n",
       "      <th></th>\n",
       "      <th></th>\n",
       "      <th></th>\n",
       "      <th></th>\n",
       "      <th></th>\n",
       "      <th></th>\n",
       "      <th></th>\n",
       "      <th></th>\n",
       "    </tr>\n",
       "  </thead>\n",
       "  <tbody>\n",
       "    <tr>\n",
       "      <th>77130752.0</th>\n",
       "      <td>L'Everest (Deluxe Edition)</td>\n",
       "      <td>Soprano</td>\n",
       "      <td>13011</td>\n",
       "      <td>{u'picture': u'https://api.deezer.com/artist/1...</td>\n",
       "      <td>2016-10-14</td>\n",
       "      <td>album</td>\n",
       "      <td>18.0</td>\n",
       "      <td>4177.0</td>\n",
       "      <td>{u'data': [{u'picture': u'https://api.deezer.c...</td>\n",
       "      <td>False</td>\n",
       "      <td>...</td>\n",
       "      <td>420.0</td>\n",
       "      <td>76.0</td>\n",
       "      <td>85.0</td>\n",
       "      <td>91.0</td>\n",
       "      <td>104.0</td>\n",
       "      <td>120.0</td>\n",
       "      <td>366.0</td>\n",
       "      <td>73.0</td>\n",
       "      <td>1050.0</td>\n",
       "      <td>1050.0</td>\n",
       "    </tr>\n",
       "    <tr>\n",
       "      <th>77126682.0</th>\n",
       "      <td>Cosmopolitanie (Deluxe Edition)</td>\n",
       "      <td>Soprano</td>\n",
       "      <td>13011</td>\n",
       "      <td>{u'picture': u'https://api.deezer.com/artist/1...</td>\n",
       "      <td>2015-08-21</td>\n",
       "      <td>album</td>\n",
       "      <td>28.0</td>\n",
       "      <td>6054.0</td>\n",
       "      <td>{u'data': [{u'picture': u'https://api.deezer.c...</td>\n",
       "      <td>True</td>\n",
       "      <td>...</td>\n",
       "      <td>158.0</td>\n",
       "      <td>98.0</td>\n",
       "      <td>104.5</td>\n",
       "      <td>109.0</td>\n",
       "      <td>119.0</td>\n",
       "      <td>139.0</td>\n",
       "      <td>360.0</td>\n",
       "      <td>73.0</td>\n",
       "      <td>1050.0</td>\n",
       "      <td>1050.0</td>\n",
       "    </tr>\n",
       "    <tr>\n",
       "      <th>9816130.0</th>\n",
       "      <td>Cosmopolitanie (Bonus Tracks)</td>\n",
       "      <td>Soprano</td>\n",
       "      <td>13011</td>\n",
       "      <td>{u'picture': u'https://api.deezer.com/artist/1...</td>\n",
       "      <td>2015-03-16</td>\n",
       "      <td>album</td>\n",
       "      <td>8.0</td>\n",
       "      <td>1753.0</td>\n",
       "      <td>{u'data': [{u'picture': u'https://api.deezer.c...</td>\n",
       "      <td>False</td>\n",
       "      <td>...</td>\n",
       "      <td>1050.0</td>\n",
       "      <td>102.0</td>\n",
       "      <td>111.0</td>\n",
       "      <td>117.0</td>\n",
       "      <td>126.0</td>\n",
       "      <td>140.5</td>\n",
       "      <td>386.0</td>\n",
       "      <td>73.0</td>\n",
       "      <td>1050.0</td>\n",
       "      <td>1050.0</td>\n",
       "    </tr>\n",
       "    <tr>\n",
       "      <th>1641895.0</th>\n",
       "      <td>E=2MC's</td>\n",
       "      <td>Soprano</td>\n",
       "      <td>13011</td>\n",
       "      <td>{u'picture': u'https://api.deezer.com/artist/1...</td>\n",
       "      <td>2012-04-30</td>\n",
       "      <td>album</td>\n",
       "      <td>12.0</td>\n",
       "      <td>3194.0</td>\n",
       "      <td>{u'data': [{u'picture': u'https://api.deezer.c...</td>\n",
       "      <td>False</td>\n",
       "      <td>...</td>\n",
       "      <td>73.0</td>\n",
       "      <td>137.0</td>\n",
       "      <td>146.0</td>\n",
       "      <td>145.0</td>\n",
       "      <td>161.0</td>\n",
       "      <td>157.0</td>\n",
       "      <td>291.0</td>\n",
       "      <td>73.0</td>\n",
       "      <td>682.0</td>\n",
       "      <td>682.0</td>\n",
       "    </tr>\n",
       "    <tr>\n",
       "      <th>1523930.0</th>\n",
       "      <td>E.P. Live 2012</td>\n",
       "      <td>Soprano</td>\n",
       "      <td>13011</td>\n",
       "      <td>{u'picture': u'https://api.deezer.com/artist/1...</td>\n",
       "      <td>2012-02-17</td>\n",
       "      <td>album</td>\n",
       "      <td>4.0</td>\n",
       "      <td>922.0</td>\n",
       "      <td>{u'data': [{u'picture': u'https://api.deezer.c...</td>\n",
       "      <td>False</td>\n",
       "      <td>...</td>\n",
       "      <td>338.0</td>\n",
       "      <td>137.0</td>\n",
       "      <td>149.0</td>\n",
       "      <td>147.0</td>\n",
       "      <td>161.0</td>\n",
       "      <td>159.0</td>\n",
       "      <td>327.0</td>\n",
       "      <td>136.0</td>\n",
       "      <td>682.0</td>\n",
       "      <td>682.0</td>\n",
       "    </tr>\n",
       "  </tbody>\n",
       "</table>\n",
       "<p>5 rows × 36 columns</p>\n",
       "</div>"
      ],
      "text/plain": [
       "                                      title artist_name  artist_id  \\\n",
       "id                                                                   \n",
       "77130752.0       L'Everest (Deluxe Edition)     Soprano      13011   \n",
       "77126682.0  Cosmopolitanie (Deluxe Edition)     Soprano      13011   \n",
       "9816130.0     Cosmopolitanie (Bonus Tracks)     Soprano      13011   \n",
       "1641895.0                           E=2MC's     Soprano      13011   \n",
       "1523930.0                    E.P. Live 2012     Soprano      13011   \n",
       "\n",
       "                                                       artist release_date  \\\n",
       "id                                                                           \n",
       "77130752.0  {u'picture': u'https://api.deezer.com/artist/1...   2016-10-14   \n",
       "77126682.0  {u'picture': u'https://api.deezer.com/artist/1...   2015-08-21   \n",
       "9816130.0   {u'picture': u'https://api.deezer.com/artist/1...   2015-03-16   \n",
       "1641895.0   {u'picture': u'https://api.deezer.com/artist/1...   2012-04-30   \n",
       "1523930.0   {u'picture': u'https://api.deezer.com/artist/1...   2012-02-17   \n",
       "\n",
       "           record_type  nb_tracks  duration  \\\n",
       "id                                            \n",
       "77130752.0       album       18.0    4177.0   \n",
       "77126682.0       album       28.0    6054.0   \n",
       "9816130.0        album        8.0    1753.0   \n",
       "1641895.0        album       12.0    3194.0   \n",
       "1523930.0        album        4.0     922.0   \n",
       "\n",
       "                                                       genres explicit_lyrics  \\\n",
       "id                                                                              \n",
       "77130752.0  {u'data': [{u'picture': u'https://api.deezer.c...           False   \n",
       "77126682.0  {u'data': [{u'picture': u'https://api.deezer.c...            True   \n",
       "9816130.0   {u'data': [{u'picture': u'https://api.deezer.c...           False   \n",
       "1641895.0   {u'data': [{u'picture': u'https://api.deezer.c...           False   \n",
       "1523930.0   {u'data': [{u'picture': u'https://api.deezer.c...           False   \n",
       "\n",
       "            ...  days_since_previous_release  \\\n",
       "id          ...                                \n",
       "77130752.0  ...                        420.0   \n",
       "77126682.0  ...                        158.0   \n",
       "9816130.0   ...                       1050.0   \n",
       "1641895.0   ...                         73.0   \n",
       "1523930.0   ...                        338.0   \n",
       "\n",
       "            average_days_to_release_in_last_year  \\\n",
       "id                                                 \n",
       "77130752.0                                  76.0   \n",
       "77126682.0                                  98.0   \n",
       "9816130.0                                  102.0   \n",
       "1641895.0                                  137.0   \n",
       "1523930.0                                  137.0   \n",
       "\n",
       "            average_days_to_release_in_last_2_years  \\\n",
       "id                                                    \n",
       "77130752.0                                     85.0   \n",
       "77126682.0                                    104.5   \n",
       "9816130.0                                     111.0   \n",
       "1641895.0                                     146.0   \n",
       "1523930.0                                     149.0   \n",
       "\n",
       "            average_days_to_release_in_last_3_years  \\\n",
       "id                                                    \n",
       "77130752.0                                     91.0   \n",
       "77126682.0                                    109.0   \n",
       "9816130.0                                     117.0   \n",
       "1641895.0                                     145.0   \n",
       "1523930.0                                     147.0   \n",
       "\n",
       "            average_days_to_release_in_last_5_years  \\\n",
       "id                                                    \n",
       "77130752.0                                    104.0   \n",
       "77126682.0                                    119.0   \n",
       "9816130.0                                     126.0   \n",
       "1641895.0                                     161.0   \n",
       "1523930.0                                     161.0   \n",
       "\n",
       "            average_days_to_release_in_last_year_for_release_type  \\\n",
       "id                                                                  \n",
       "77130752.0                                              120.0       \n",
       "77126682.0                                              139.0       \n",
       "9816130.0                                               140.5       \n",
       "1641895.0                                               157.0       \n",
       "1523930.0                                               159.0       \n",
       "\n",
       "            average_days_to_release  min_release_frequency  \\\n",
       "id                                                           \n",
       "77130752.0                    366.0                   73.0   \n",
       "77126682.0                    360.0                   73.0   \n",
       "9816130.0                     386.0                   73.0   \n",
       "1641895.0                     291.0                   73.0   \n",
       "1523930.0                     327.0                  136.0   \n",
       "\n",
       "            max_release_frequency  average_release_frequency_for_release_type  \n",
       "id                                                                             \n",
       "77130752.0                 1050.0                                      1050.0  \n",
       "77126682.0                 1050.0                                      1050.0  \n",
       "9816130.0                  1050.0                                      1050.0  \n",
       "1641895.0                   682.0                                       682.0  \n",
       "1523930.0                   682.0                                       682.0  \n",
       "\n",
       "[5 rows x 36 columns]"
      ]
     },
     "execution_count": 176,
     "metadata": {},
     "output_type": "execute_result"
    }
   ],
   "source": [
    "df.head()"
   ]
  },
  {
   "cell_type": "code",
   "execution_count": 177,
   "metadata": {},
   "outputs": [
    {
     "data": {
      "text/plain": [
       "816.0"
      ]
     },
     "execution_count": 177,
     "metadata": {},
     "output_type": "execute_result"
    }
   ],
   "source": [
    "average_release_frequency_for_release_type_median = df['average_release_frequency_for_release_type'].median()\n",
    "average_release_frequency_for_release_type_median"
   ]
  },
  {
   "cell_type": "code",
   "execution_count": 178,
   "metadata": {},
   "outputs": [],
   "source": [
    "df.loc[:,'average_release_frequency_for_release_type'].fillna(average_release_frequency_for_release_type_median, inplace=True)"
   ]
  },
  {
   "cell_type": "markdown",
   "metadata": {},
   "source": [
    "# Genres"
   ]
  },
  {
   "cell_type": "code",
   "execution_count": 179,
   "metadata": {},
   "outputs": [],
   "source": [
    "# df['genres'].head()"
   ]
  },
  {
   "cell_type": "markdown",
   "metadata": {},
   "source": [
    "## Parse JSON"
   ]
  },
  {
   "cell_type": "code",
   "execution_count": 180,
   "metadata": {},
   "outputs": [],
   "source": [
    "# genre = df['genres'].iloc[0]\n",
    "# genre"
   ]
  },
  {
   "cell_type": "code",
   "execution_count": 181,
   "metadata": {},
   "outputs": [],
   "source": [
    "# genre = genre.replace(\"u'\", '\"').replace(\"'\", '\"')"
   ]
  },
  {
   "cell_type": "code",
   "execution_count": 182,
   "metadata": {},
   "outputs": [],
   "source": [
    "# genre_json = json.loads(genre)\n",
    "# genre_json"
   ]
  },
  {
   "cell_type": "code",
   "execution_count": 183,
   "metadata": {},
   "outputs": [],
   "source": [
    "# genre_json['data'][0]['name']"
   ]
  },
  {
   "cell_type": "code",
   "execution_count": 184,
   "metadata": {},
   "outputs": [],
   "source": [
    "# df['genres'].head().apply(replace_quotes)"
   ]
  },
  {
   "cell_type": "code",
   "execution_count": 185,
   "metadata": {},
   "outputs": [],
   "source": [
    "# df['genres'].head().apply(replace_quotes).apply(json.loads)"
   ]
  },
  {
   "cell_type": "code",
   "execution_count": 186,
   "metadata": {},
   "outputs": [],
   "source": [
    "def genre_names(genres_json):\n",
    "    return([genre['name'] for genre in genres_json['data']])\n",
    "# genre_names(genre_json)"
   ]
  },
  {
   "cell_type": "code",
   "execution_count": 187,
   "metadata": {},
   "outputs": [],
   "source": [
    "# df['genres'].head().apply(replace_quotes).apply(json.loads).apply(genre_names)"
   ]
  },
  {
   "cell_type": "code",
   "execution_count": 188,
   "metadata": {},
   "outputs": [
    {
     "data": {
      "text/plain": [
       "id\n",
       "77130752.0         [Rap/Hip Hop]\n",
       "77126682.0         [Rap/Hip Hop]\n",
       "9816130.0          [Rap/Hip Hop]\n",
       "1641895.0          [Rap/Hip Hop]\n",
       "1523930.0          [Rap/Hip Hop]\n",
       "40632261.0         [Rap/Hip Hop]\n",
       "301745.0      [Rap/Hip Hop, Pop]\n",
       "77133732.0         [Rap/Hip Hop]\n",
       "6141022.0          [Rap/Hip Hop]\n",
       "311650.0      [Rap/Hip Hop, Pop]\n",
       "Name: genres, dtype: object"
      ]
     },
     "execution_count": 188,
     "metadata": {},
     "output_type": "execute_result"
    }
   ],
   "source": [
    "genres = df['genres'].apply(replace_quotes).apply(json.loads).apply(genre_names)\n",
    "genres.head(10)"
   ]
  },
  {
   "cell_type": "code",
   "execution_count": 189,
   "metadata": {},
   "outputs": [
    {
     "data": {
      "text/plain": [
       "71"
      ]
     },
     "execution_count": 189,
     "metadata": {},
     "output_type": "execute_result"
    }
   ],
   "source": [
    "# how much genres do we have?\n",
    "flatten = lambda l: [item for sublist in l for item in sublist]\n",
    "len(set(flatten(list(genres))))"
   ]
  },
  {
   "cell_type": "code",
   "execution_count": 190,
   "metadata": {},
   "outputs": [
    {
     "data": {
      "text/plain": [
       "{u'Acoustic Blues',\n",
       " u'African Music',\n",
       " u'Alternative',\n",
       " u'Asian Music',\n",
       " u'Blues',\n",
       " u'Bolero',\n",
       " u'Bollywood',\n",
       " u'Brazilian Music',\n",
       " u'Chicago Blues',\n",
       " u'Chill Out/Trip-Hop/Lounge',\n",
       " u'Classical',\n",
       " u'Classical Period',\n",
       " u'Comedy',\n",
       " u'Contemporary R&B',\n",
       " u'Contemporary Soul',\n",
       " u'Country Blues',\n",
       " u'Dance',\n",
       " u'Dancefloor',\n",
       " u'Dancehall/Ragga',\n",
       " u'Dirty South',\n",
       " u'Disco',\n",
       " u'Dub',\n",
       " u'Dubstep',\n",
       " u'East Coast',\n",
       " u'Electro',\n",
       " u'Electro Hip Hop',\n",
       " u'Electro Pop/Electro Rock',\n",
       " u'Film Scores',\n",
       " u'Films/Games',\n",
       " u'Folk',\n",
       " u'Game Scores',\n",
       " u'Grime',\n",
       " u'Hard Rock',\n",
       " u'Indian Music',\n",
       " u'Indie Pop',\n",
       " u'Indie Pop/Folk',\n",
       " u'Indie Rock',\n",
       " u'Indie Rock/Rock pop',\n",
       " u'Instrumental jazz',\n",
       " u'International Pop',\n",
       " u'Jazz',\n",
       " u'Jazz Hip Hop',\n",
       " u'Kids',\n",
       " u'Latin Music',\n",
       " u'Metal',\n",
       " u'Modern',\n",
       " u'Musicals',\n",
       " u'Norte\\xf1o',\n",
       " u'Nursery Rhymes',\n",
       " u'Old School',\n",
       " u'Old school soul',\n",
       " u'Oldschool R&B',\n",
       " u'Opera',\n",
       " u'Pop',\n",
       " u'R&B',\n",
       " u'Ranchera',\n",
       " u'Rap/Hip Hop',\n",
       " u'Reggae',\n",
       " u'Rock',\n",
       " u'Rock & Roll/Rockabilly',\n",
       " u'Singer & Songwriter',\n",
       " u'Ska',\n",
       " u'Soul & Funk',\n",
       " u'Soundtracks',\n",
       " u'Spirituality & Religion',\n",
       " u'Sports',\n",
       " u'TV Soundtracks',\n",
       " u'Techno/House',\n",
       " u'Trance',\n",
       " u'Tropical',\n",
       " u'Vocal jazz'}"
      ]
     },
     "execution_count": 190,
     "metadata": {},
     "output_type": "execute_result"
    }
   ],
   "source": [
    "# what genres are there?\n",
    "unique_genres = set(flatten(list(genres)))\n",
    "unique_genres"
   ]
  },
  {
   "cell_type": "code",
   "execution_count": 191,
   "metadata": {},
   "outputs": [
    {
     "data": {
      "text/plain": [
       "id\n",
       "77130752.0    [Rap/Hip Hop]\n",
       "77126682.0    [Rap/Hip Hop]\n",
       "9816130.0     [Rap/Hip Hop]\n",
       "1641895.0     [Rap/Hip Hop]\n",
       "1523930.0     [Rap/Hip Hop]\n",
       "Name: genres, dtype: object"
      ]
     },
     "execution_count": 191,
     "metadata": {},
     "output_type": "execute_result"
    }
   ],
   "source": [
    "genres.head()"
   ]
  },
  {
   "cell_type": "code",
   "execution_count": 192,
   "metadata": {},
   "outputs": [],
   "source": [
    "# genre = 'Rock'\n",
    "# genres.head().apply(lambda x:  genre in x)"
   ]
  },
  {
   "cell_type": "code",
   "execution_count": 193,
   "metadata": {},
   "outputs": [],
   "source": [
    "# for genre in unique_genres:\n",
    "#     df['genre_' + genre] = (genres.apply(lambda x:  genre in x)).astype(int)\n",
    "    \n",
    "# df.head()"
   ]
  },
  {
   "cell_type": "markdown",
   "metadata": {},
   "source": [
    "# Convert Explicit lyrics to int"
   ]
  },
  {
   "cell_type": "code",
   "execution_count": 194,
   "metadata": {},
   "outputs": [
    {
     "data": {
      "text/html": [
       "<div>\n",
       "<style scoped>\n",
       "    .dataframe tbody tr th:only-of-type {\n",
       "        vertical-align: middle;\n",
       "    }\n",
       "\n",
       "    .dataframe tbody tr th {\n",
       "        vertical-align: top;\n",
       "    }\n",
       "\n",
       "    .dataframe thead th {\n",
       "        text-align: right;\n",
       "    }\n",
       "</style>\n",
       "<table border=\"1\" class=\"dataframe\">\n",
       "  <thead>\n",
       "    <tr style=\"text-align: right;\">\n",
       "      <th></th>\n",
       "      <th>title</th>\n",
       "      <th>artist_name</th>\n",
       "      <th>artist_id</th>\n",
       "      <th>artist</th>\n",
       "      <th>release_date</th>\n",
       "      <th>record_type</th>\n",
       "      <th>nb_tracks</th>\n",
       "      <th>duration</th>\n",
       "      <th>genres</th>\n",
       "      <th>explicit_lyrics</th>\n",
       "      <th>...</th>\n",
       "      <th>days_since_previous_release</th>\n",
       "      <th>average_days_to_release_in_last_year</th>\n",
       "      <th>average_days_to_release_in_last_2_years</th>\n",
       "      <th>average_days_to_release_in_last_3_years</th>\n",
       "      <th>average_days_to_release_in_last_5_years</th>\n",
       "      <th>average_days_to_release_in_last_year_for_release_type</th>\n",
       "      <th>average_days_to_release</th>\n",
       "      <th>min_release_frequency</th>\n",
       "      <th>max_release_frequency</th>\n",
       "      <th>average_release_frequency_for_release_type</th>\n",
       "    </tr>\n",
       "    <tr>\n",
       "      <th>id</th>\n",
       "      <th></th>\n",
       "      <th></th>\n",
       "      <th></th>\n",
       "      <th></th>\n",
       "      <th></th>\n",
       "      <th></th>\n",
       "      <th></th>\n",
       "      <th></th>\n",
       "      <th></th>\n",
       "      <th></th>\n",
       "      <th></th>\n",
       "      <th></th>\n",
       "      <th></th>\n",
       "      <th></th>\n",
       "      <th></th>\n",
       "      <th></th>\n",
       "      <th></th>\n",
       "      <th></th>\n",
       "      <th></th>\n",
       "      <th></th>\n",
       "      <th></th>\n",
       "    </tr>\n",
       "  </thead>\n",
       "  <tbody>\n",
       "    <tr>\n",
       "      <th>77130752.0</th>\n",
       "      <td>L'Everest (Deluxe Edition)</td>\n",
       "      <td>Soprano</td>\n",
       "      <td>13011</td>\n",
       "      <td>{u'picture': u'https://api.deezer.com/artist/1...</td>\n",
       "      <td>2016-10-14</td>\n",
       "      <td>album</td>\n",
       "      <td>18.0</td>\n",
       "      <td>4177.0</td>\n",
       "      <td>{u'data': [{u'picture': u'https://api.deezer.c...</td>\n",
       "      <td>0</td>\n",
       "      <td>...</td>\n",
       "      <td>420.0</td>\n",
       "      <td>76.0</td>\n",
       "      <td>85.0</td>\n",
       "      <td>91.0</td>\n",
       "      <td>104.0</td>\n",
       "      <td>120.0</td>\n",
       "      <td>366.0</td>\n",
       "      <td>73.0</td>\n",
       "      <td>1050.0</td>\n",
       "      <td>1050.0</td>\n",
       "    </tr>\n",
       "    <tr>\n",
       "      <th>77126682.0</th>\n",
       "      <td>Cosmopolitanie (Deluxe Edition)</td>\n",
       "      <td>Soprano</td>\n",
       "      <td>13011</td>\n",
       "      <td>{u'picture': u'https://api.deezer.com/artist/1...</td>\n",
       "      <td>2015-08-21</td>\n",
       "      <td>album</td>\n",
       "      <td>28.0</td>\n",
       "      <td>6054.0</td>\n",
       "      <td>{u'data': [{u'picture': u'https://api.deezer.c...</td>\n",
       "      <td>1</td>\n",
       "      <td>...</td>\n",
       "      <td>158.0</td>\n",
       "      <td>98.0</td>\n",
       "      <td>104.5</td>\n",
       "      <td>109.0</td>\n",
       "      <td>119.0</td>\n",
       "      <td>139.0</td>\n",
       "      <td>360.0</td>\n",
       "      <td>73.0</td>\n",
       "      <td>1050.0</td>\n",
       "      <td>1050.0</td>\n",
       "    </tr>\n",
       "    <tr>\n",
       "      <th>9816130.0</th>\n",
       "      <td>Cosmopolitanie (Bonus Tracks)</td>\n",
       "      <td>Soprano</td>\n",
       "      <td>13011</td>\n",
       "      <td>{u'picture': u'https://api.deezer.com/artist/1...</td>\n",
       "      <td>2015-03-16</td>\n",
       "      <td>album</td>\n",
       "      <td>8.0</td>\n",
       "      <td>1753.0</td>\n",
       "      <td>{u'data': [{u'picture': u'https://api.deezer.c...</td>\n",
       "      <td>0</td>\n",
       "      <td>...</td>\n",
       "      <td>1050.0</td>\n",
       "      <td>102.0</td>\n",
       "      <td>111.0</td>\n",
       "      <td>117.0</td>\n",
       "      <td>126.0</td>\n",
       "      <td>140.5</td>\n",
       "      <td>386.0</td>\n",
       "      <td>73.0</td>\n",
       "      <td>1050.0</td>\n",
       "      <td>1050.0</td>\n",
       "    </tr>\n",
       "    <tr>\n",
       "      <th>1641895.0</th>\n",
       "      <td>E=2MC's</td>\n",
       "      <td>Soprano</td>\n",
       "      <td>13011</td>\n",
       "      <td>{u'picture': u'https://api.deezer.com/artist/1...</td>\n",
       "      <td>2012-04-30</td>\n",
       "      <td>album</td>\n",
       "      <td>12.0</td>\n",
       "      <td>3194.0</td>\n",
       "      <td>{u'data': [{u'picture': u'https://api.deezer.c...</td>\n",
       "      <td>0</td>\n",
       "      <td>...</td>\n",
       "      <td>73.0</td>\n",
       "      <td>137.0</td>\n",
       "      <td>146.0</td>\n",
       "      <td>145.0</td>\n",
       "      <td>161.0</td>\n",
       "      <td>157.0</td>\n",
       "      <td>291.0</td>\n",
       "      <td>73.0</td>\n",
       "      <td>682.0</td>\n",
       "      <td>682.0</td>\n",
       "    </tr>\n",
       "    <tr>\n",
       "      <th>1523930.0</th>\n",
       "      <td>E.P. Live 2012</td>\n",
       "      <td>Soprano</td>\n",
       "      <td>13011</td>\n",
       "      <td>{u'picture': u'https://api.deezer.com/artist/1...</td>\n",
       "      <td>2012-02-17</td>\n",
       "      <td>album</td>\n",
       "      <td>4.0</td>\n",
       "      <td>922.0</td>\n",
       "      <td>{u'data': [{u'picture': u'https://api.deezer.c...</td>\n",
       "      <td>0</td>\n",
       "      <td>...</td>\n",
       "      <td>338.0</td>\n",
       "      <td>137.0</td>\n",
       "      <td>149.0</td>\n",
       "      <td>147.0</td>\n",
       "      <td>161.0</td>\n",
       "      <td>159.0</td>\n",
       "      <td>327.0</td>\n",
       "      <td>136.0</td>\n",
       "      <td>682.0</td>\n",
       "      <td>682.0</td>\n",
       "    </tr>\n",
       "  </tbody>\n",
       "</table>\n",
       "<p>5 rows × 36 columns</p>\n",
       "</div>"
      ],
      "text/plain": [
       "                                      title artist_name  artist_id  \\\n",
       "id                                                                   \n",
       "77130752.0       L'Everest (Deluxe Edition)     Soprano      13011   \n",
       "77126682.0  Cosmopolitanie (Deluxe Edition)     Soprano      13011   \n",
       "9816130.0     Cosmopolitanie (Bonus Tracks)     Soprano      13011   \n",
       "1641895.0                           E=2MC's     Soprano      13011   \n",
       "1523930.0                    E.P. Live 2012     Soprano      13011   \n",
       "\n",
       "                                                       artist release_date  \\\n",
       "id                                                                           \n",
       "77130752.0  {u'picture': u'https://api.deezer.com/artist/1...   2016-10-14   \n",
       "77126682.0  {u'picture': u'https://api.deezer.com/artist/1...   2015-08-21   \n",
       "9816130.0   {u'picture': u'https://api.deezer.com/artist/1...   2015-03-16   \n",
       "1641895.0   {u'picture': u'https://api.deezer.com/artist/1...   2012-04-30   \n",
       "1523930.0   {u'picture': u'https://api.deezer.com/artist/1...   2012-02-17   \n",
       "\n",
       "           record_type  nb_tracks  duration  \\\n",
       "id                                            \n",
       "77130752.0       album       18.0    4177.0   \n",
       "77126682.0       album       28.0    6054.0   \n",
       "9816130.0        album        8.0    1753.0   \n",
       "1641895.0        album       12.0    3194.0   \n",
       "1523930.0        album        4.0     922.0   \n",
       "\n",
       "                                                       genres  \\\n",
       "id                                                              \n",
       "77130752.0  {u'data': [{u'picture': u'https://api.deezer.c...   \n",
       "77126682.0  {u'data': [{u'picture': u'https://api.deezer.c...   \n",
       "9816130.0   {u'data': [{u'picture': u'https://api.deezer.c...   \n",
       "1641895.0   {u'data': [{u'picture': u'https://api.deezer.c...   \n",
       "1523930.0   {u'data': [{u'picture': u'https://api.deezer.c...   \n",
       "\n",
       "            explicit_lyrics  ...  days_since_previous_release  \\\n",
       "id                           ...                                \n",
       "77130752.0                0  ...                        420.0   \n",
       "77126682.0                1  ...                        158.0   \n",
       "9816130.0                 0  ...                       1050.0   \n",
       "1641895.0                 0  ...                         73.0   \n",
       "1523930.0                 0  ...                        338.0   \n",
       "\n",
       "            average_days_to_release_in_last_year  \\\n",
       "id                                                 \n",
       "77130752.0                                  76.0   \n",
       "77126682.0                                  98.0   \n",
       "9816130.0                                  102.0   \n",
       "1641895.0                                  137.0   \n",
       "1523930.0                                  137.0   \n",
       "\n",
       "            average_days_to_release_in_last_2_years  \\\n",
       "id                                                    \n",
       "77130752.0                                     85.0   \n",
       "77126682.0                                    104.5   \n",
       "9816130.0                                     111.0   \n",
       "1641895.0                                     146.0   \n",
       "1523930.0                                     149.0   \n",
       "\n",
       "            average_days_to_release_in_last_3_years  \\\n",
       "id                                                    \n",
       "77130752.0                                     91.0   \n",
       "77126682.0                                    109.0   \n",
       "9816130.0                                     117.0   \n",
       "1641895.0                                     145.0   \n",
       "1523930.0                                     147.0   \n",
       "\n",
       "            average_days_to_release_in_last_5_years  \\\n",
       "id                                                    \n",
       "77130752.0                                    104.0   \n",
       "77126682.0                                    119.0   \n",
       "9816130.0                                     126.0   \n",
       "1641895.0                                     161.0   \n",
       "1523930.0                                     161.0   \n",
       "\n",
       "            average_days_to_release_in_last_year_for_release_type  \\\n",
       "id                                                                  \n",
       "77130752.0                                              120.0       \n",
       "77126682.0                                              139.0       \n",
       "9816130.0                                               140.5       \n",
       "1641895.0                                               157.0       \n",
       "1523930.0                                               159.0       \n",
       "\n",
       "            average_days_to_release  min_release_frequency  \\\n",
       "id                                                           \n",
       "77130752.0                    366.0                   73.0   \n",
       "77126682.0                    360.0                   73.0   \n",
       "9816130.0                     386.0                   73.0   \n",
       "1641895.0                     291.0                   73.0   \n",
       "1523930.0                     327.0                  136.0   \n",
       "\n",
       "            max_release_frequency  average_release_frequency_for_release_type  \n",
       "id                                                                             \n",
       "77130752.0                 1050.0                                      1050.0  \n",
       "77126682.0                 1050.0                                      1050.0  \n",
       "9816130.0                  1050.0                                      1050.0  \n",
       "1641895.0                   682.0                                       682.0  \n",
       "1523930.0                   682.0                                       682.0  \n",
       "\n",
       "[5 rows x 36 columns]"
      ]
     },
     "execution_count": 194,
     "metadata": {},
     "output_type": "execute_result"
    }
   ],
   "source": [
    "df['explicit_lyrics'] = df['explicit_lyrics'].astype(int)\n",
    "df.head()"
   ]
  },
  {
   "cell_type": "markdown",
   "metadata": {},
   "source": [
    "# Drop old releases  \n",
    "That we've used in last year features"
   ]
  },
  {
   "cell_type": "code",
   "execution_count": 195,
   "metadata": {},
   "outputs": [
    {
     "data": {
      "text/plain": [
       "(44951, 36)"
      ]
     },
     "execution_count": 195,
     "metadata": {},
     "output_type": "execute_result"
    }
   ],
   "source": [
    "df.shape"
   ]
  },
  {
   "cell_type": "code",
   "execution_count": 196,
   "metadata": {},
   "outputs": [
    {
     "data": {
      "text/plain": [
       "(27755, 36)"
      ]
     },
     "execution_count": 196,
     "metadata": {},
     "output_type": "execute_result"
    }
   ],
   "source": [
    "df[pd.to_datetime(df['release_date']).dt.year >= 2012].shape"
   ]
  },
  {
   "cell_type": "code",
   "execution_count": 197,
   "metadata": {},
   "outputs": [
    {
     "data": {
      "text/plain": [
       "(27755, 36)"
      ]
     },
     "execution_count": 197,
     "metadata": {},
     "output_type": "execute_result"
    }
   ],
   "source": [
    "df = df[pd.to_datetime(df['release_date']).dt.year >= 2012]\n",
    "df.shape"
   ]
  },
  {
   "cell_type": "markdown",
   "metadata": {},
   "source": [
    "# Drop already used columns"
   ]
  },
  {
   "cell_type": "code",
   "execution_count": 198,
   "metadata": {},
   "outputs": [
    {
     "data": {
      "text/plain": [
       "title           object\n",
       "artist_name     object\n",
       "artist          object\n",
       "release_date    object\n",
       "record_type     object\n",
       "genres          object\n",
       "dtype: object"
      ]
     },
     "execution_count": 198,
     "metadata": {},
     "output_type": "execute_result"
    }
   ],
   "source": [
    "df.dtypes[df.dtypes == 'object']"
   ]
  },
  {
   "cell_type": "code",
   "execution_count": 199,
   "metadata": {},
   "outputs": [
    {
     "data": {
      "text/plain": [
       "(27755, 36)"
      ]
     },
     "execution_count": 199,
     "metadata": {},
     "output_type": "execute_result"
    }
   ],
   "source": [
    "df.shape"
   ]
  },
  {
   "cell_type": "code",
   "execution_count": 200,
   "metadata": {},
   "outputs": [
    {
     "name": "stderr",
     "output_type": "stream",
     "text": [
      "/usr/local/lib/python2.7/site-packages/pandas/core/frame.py:3940: SettingWithCopyWarning: \n",
      "A value is trying to be set on a copy of a slice from a DataFrame\n",
      "\n",
      "See the caveats in the documentation: http://pandas.pydata.org/pandas-docs/stable/indexing.html#indexing-view-versus-copy\n",
      "  errors=errors)\n"
     ]
    },
    {
     "data": {
      "text/plain": [
       "(27755, 30)"
      ]
     },
     "execution_count": 200,
     "metadata": {},
     "output_type": "execute_result"
    }
   ],
   "source": [
    "df.drop(df.dtypes[df.dtypes == 'object'].index.values, axis=1, inplace=True)\n",
    "df.shape"
   ]
  },
  {
   "cell_type": "markdown",
   "metadata": {},
   "source": [
    "# Final missing values check"
   ]
  },
  {
   "cell_type": "code",
   "execution_count": 201,
   "metadata": {},
   "outputs": [
    {
     "data": {
      "text/plain": [
       "0"
      ]
     },
     "execution_count": 201,
     "metadata": {},
     "output_type": "execute_result"
    }
   ],
   "source": [
    "df.isnull().sum().sum()"
   ]
  },
  {
   "cell_type": "markdown",
   "metadata": {},
   "source": [
    "# Feature correlations"
   ]
  },
  {
   "cell_type": "code",
   "execution_count": 202,
   "metadata": {},
   "outputs": [
    {
     "data": {
      "image/png": "[encoded data removed]",
      "text/plain": [
       "<Figure size 288x288 with 1 Axes>"
      ]
     },
     "metadata": {
      "needs_background": "light"
     },
     "output_type": "display_data"
    }
   ],
   "source": [
    "plt.matshow(df.corr())\n",
    "plt.show()"
   ]
  },
  {
   "cell_type": "code",
   "execution_count": 203,
   "metadata": {},
   "outputs": [
    {
     "data": {
      "text/plain": [
       "total_albums_released                                   -0.259793\n",
       "release_year                                            -0.324509\n",
       "record_type_album                                        0.204751\n",
       "record_type_single                                      -0.215425\n",
       "days_until_next_album                                    1.000000\n",
       "days_since_previous_release                              0.208429\n",
       "average_days_to_release_in_last_year                     0.321937\n",
       "average_days_to_release_in_last_2_years                  0.323995\n",
       "average_days_to_release_in_last_3_years                  0.324007\n",
       "average_days_to_release_in_last_5_years                  0.325342\n",
       "average_days_to_release_in_last_year_for_release_type    0.343353\n",
       "Name: days_until_next_album, dtype: float64"
      ]
     },
     "execution_count": 203,
     "metadata": {},
     "output_type": "execute_result"
    }
   ],
   "source": [
    "corr = df.corr()\n",
    "corr[(corr['days_until_next_album'] > 0.2) | (corr['days_until_next_album'] < -0.2)]['days_until_next_album']"
   ]
  },
  {
   "cell_type": "markdown",
   "metadata": {},
   "source": [
    "# Save the dataset"
   ]
  },
  {
   "cell_type": "code",
   "execution_count": 204,
   "metadata": {},
   "outputs": [
    {
     "data": {
      "text/plain": [
       "(27755, 30)"
      ]
     },
     "execution_count": 204,
     "metadata": {},
     "output_type": "execute_result"
    }
   ],
   "source": [
    "df.shape"
   ]
  },
  {
   "cell_type": "code",
   "execution_count": 205,
   "metadata": {},
   "outputs": [],
   "source": [
    "df.to_csv('dataset.csv', encoding='utf-8')"
   ]
  },
  {
   "cell_type": "code",
   "execution_count": null,
   "metadata": {},
   "outputs": [],
   "source": []
  }
 ],
 "metadata": {
  "kernelspec": {
   "display_name": "Python 3",
   "language": "python",
   "name": "python3"
  },
  "language_info": {
   "codemirror_mode": {
    "name": "ipython",
    "version": 2
   },
   "file_extension": ".py",
   "mimetype": "text/x-python",
   "name": "python",
   "nbconvert_exporter": "python",
   "pygments_lexer": "ipython2",
   "version": "2.7.15"
  }
 },
 "nbformat": 4,
 "nbformat_minor": 2
}
